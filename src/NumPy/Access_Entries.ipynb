{
 "cells": [
  {
   "cell_type": "code",
   "execution_count": 27,
   "id": "dce44464",
   "metadata": {},
   "outputs": [
    {
     "name": "stdout",
     "output_type": "stream",
     "text": [
      "total values in randArr : 10\n",
      "randArr [-0.71975477  1.13923864 -2.70813563  2.60208218  0.11350925  0.62276331\n",
      " -0.61466324  1.79131215  0.9979614   1.44166495]\n",
      "6th element is 0.62\n"
     ]
    }
   ],
   "source": [
    "import numpy as np\n",
    "\n",
    "#how to access entries in array\n",
    "\n",
    "# generate random values array \n",
    "\n",
    "randArr = np.random.randn(10)\n",
    "\n",
    "print(f'total values in randArr : {len(randArr)}')\n",
    "print(f'randArr {randArr}')\n",
    "\n",
    "print(f'6th element is {round(randArr[5],2)}')\n"
   ]
  },
  {
   "cell_type": "code",
   "execution_count": 16,
   "id": "4651e301",
   "metadata": {},
   "outputs": [
    {
     "name": "stdout",
     "output_type": "stream",
     "text": [
      "[1.04423722 3.1188297 ]\n"
     ]
    }
   ],
   "source": [
    "print(randArr[1:3]) #Accessing Subset"
   ]
  },
  {
   "cell_type": "code",
   "execution_count": 17,
   "id": "94797664",
   "metadata": {},
   "outputs": [
    {
     "name": "stdout",
     "output_type": "stream",
     "text": [
      "[ 0.39485667  0.40609696 -1.71222552 -0.72018928]\n"
     ]
    }
   ],
   "source": [
    "print(randArr[np.arange(0,10,3)]) ## accessing multiple random entries"
   ]
  },
  {
   "cell_type": "code",
   "execution_count": 36,
   "id": "4204deae",
   "metadata": {},
   "outputs": [
    {
     "name": "stdout",
     "output_type": "stream",
     "text": [
      "[[-0.71975477  4.        ]\n",
      " [ 4.          2.60208218]\n",
      " [ 0.11350925  0.62276331]\n",
      " [-0.61466324  1.79131215]\n",
      " [ 0.9979614   1.44166495]]\n",
      "\n",
      "\n",
      "\n",
      "0.6227633107451389\n",
      "0.6227633107451389\n",
      "\n",
      "[[-0.71975477  4.        ]\n",
      " [ 4.          2.60208218]\n",
      " [ 0.11350925  0.62276331]]\n"
     ]
    }
   ],
   "source": [
    "rand_mat = randArr.reshape(5,2)\n",
    "print(rand_mat)\n",
    "\n",
    "print('\\n\\n')\n",
    "\n",
    "print(rand_mat[2,1]) ## accessing 2d array \n",
    "\n",
    "print(rand_mat[2][1]) #Alternate \n",
    "print()\n",
    "## submatrix access \n",
    "\n",
    "print(rand_mat[0:3,0:2])\n"
   ]
  },
  {
   "cell_type": "code",
   "execution_count": 41,
   "id": "940deb32",
   "metadata": {},
   "outputs": [
    {
     "name": "stdout",
     "output_type": "stream",
     "text": [
      "\n",
      "before changes randArr [ 3.14        3.14        3.14        3.14        3.14        3.14\n",
      " -0.61466324  1.79131215  0.9979614   1.44166495]\n",
      "\n",
      "\n",
      "after changes randArr [ 3.14        4.          4.          3.14        3.14        3.14\n",
      " -0.61466324  1.79131215  0.9979614   1.44166495]\n",
      "\n",
      "[[ 0.          0.        ]\n",
      " [ 0.          0.        ]\n",
      " [ 0.          0.        ]\n",
      " [-0.61466324  1.79131215]\n",
      " [ 0.9979614   1.44166495]]\n",
      "\n",
      "[[3.14 3.14]\n",
      " [3.14 3.14]\n",
      " [3.14 3.14]]\n",
      "\n",
      "[[ 3.14        3.14      ]\n",
      " [ 3.14        3.14      ]\n",
      " [ 3.14        3.14      ]\n",
      " [-0.61466324  1.79131215]\n",
      " [ 0.9979614   1.44166495]]\n",
      "\n",
      "[[9.14 9.14]\n",
      " [9.14 9.14]\n",
      " [9.14 9.14]]\n",
      "\n",
      "[[ 3.14        3.14      ]\n",
      " [ 3.14        3.14      ]\n",
      " [ 3.14        3.14      ]\n",
      " [-0.61466324  1.79131215]\n",
      " [ 0.9979614   1.44166495]]\n"
     ]
    }
   ],
   "source": [
    "#Changing Values in Array \n",
    "print(f'\\nbefore changes randArr {randArr}')\n",
    "randArr[1:3] = 4\n",
    "print(f'\\n\\nafter changes randArr {randArr}')  # or \n",
    "\n",
    "# or matrix \n",
    "\n",
    "rand_mat[0:3,0:2] = 0.0\n",
    "print()\n",
    "print(rand_mat)\n",
    "\n",
    "## create sub matrix \n",
    "\n",
    "sub_mat  = rand_mat[0:3,0:2]\n",
    "sub_mat[:] = 3.14 #all values of the array\n",
    "print()\n",
    "print(sub_mat)\n",
    "print()\n",
    "print(rand_mat) ## changrs value in original\n",
    "\n",
    "#use copy to avoid overwrite \n",
    "\n",
    "sub_mat2  = rand_mat[0:3,0:2].copy()\n",
    "\n",
    "sub_mat2[:] = 9.14 #all values of the array\n",
    "print()\n",
    "print(sub_mat2)\n",
    "print()\n",
    "print(rand_mat) # orignal values does not impact\n"
   ]
  },
  {
   "cell_type": "code",
   "execution_count": null,
   "id": "9ed6a7ce",
   "metadata": {},
   "outputs": [],
   "source": []
  }
 ],
 "metadata": {
  "kernelspec": {
   "display_name": "Python 3",
   "language": "python",
   "name": "python3"
  },
  "language_info": {
   "codemirror_mode": {
    "name": "ipython",
    "version": 3
   },
   "file_extension": ".py",
   "mimetype": "text/x-python",
   "name": "python",
   "nbconvert_exporter": "python",
   "pygments_lexer": "ipython3",
   "version": "3.8.8"
  }
 },
 "nbformat": 4,
 "nbformat_minor": 5
}
