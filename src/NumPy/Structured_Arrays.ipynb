{
 "cells": [
  {
   "cell_type": "markdown",
   "id": "1930f9f7",
   "metadata": {},
   "source": [
    "### Creating structured arrays"
   ]
  },
  {
   "cell_type": "code",
   "execution_count": 5,
   "id": "05185f20",
   "metadata": {},
   "outputs": [
    {
     "data": {
      "text/plain": [
       "[('name', 'S6'), ('height', 'f8'), ('weight', 'f8'), ('age', 'i8')]"
      ]
     },
     "execution_count": 5,
     "metadata": {},
     "output_type": "execute_result"
    }
   ],
   "source": [
    "import numpy as np\n",
    "\n",
    "person_data_def = [(\"name\",\"S6\"),('height','f8'), ('weight','f8'), ('age','i8')]\n",
    "\n",
    "person_data_def"
   ]
  },
  {
   "cell_type": "code",
   "execution_count": 18,
   "id": "b85586b6",
   "metadata": {},
   "outputs": [
    {
     "data": {
      "text/plain": [
       "array([(b'', 0., 0., 0), (b'', 0., 0., 0), (b'', 0., 0., 0),\n",
       "       (b'', 0., 0., 0)],\n",
       "      dtype=[('name', 'S6'), ('height', '<f8'), ('weight', '<f8'), ('age', '<i8')])"
      ]
     },
     "execution_count": 18,
     "metadata": {},
     "output_type": "execute_result"
    }
   ],
   "source": [
    "people_array = np.zeros((4), dtype=person_data_def)\n",
    "people_array ## init 4 default values\n"
   ]
  },
  {
   "cell_type": "code",
   "execution_count": 19,
   "id": "c6d63dc1",
   "metadata": {},
   "outputs": [
    {
     "data": {
      "text/plain": [
       "array([(b'Alpha', 65.3, 195.34, 30), (b'',  0. ,   0.  ,  0),\n",
       "       (b'',  0. ,   0.  ,  0), (b'Delta', 73. , 205.  , 34)],\n",
       "      dtype=[('name', 'S6'), ('height', '<f8'), ('weight', '<f8'), ('age', '<i8')])"
      ]
     },
     "execution_count": 19,
     "metadata": {},
     "output_type": "execute_result"
    }
   ],
   "source": [
    "people_array[3] = ('Delta', 73, 205, 34)\n",
    "people_array[0] = ('Alpha', 65.3, 195.34, 30)\n",
    "people_array"
   ]
  },
  {
   "cell_type": "code",
   "execution_count": 11,
   "id": "3a22a610",
   "metadata": {},
   "outputs": [
    {
     "data": {
      "text/plain": [
       "array([30,  0,  0, 34])"
      ]
     },
     "execution_count": 11,
     "metadata": {},
     "output_type": "execute_result"
    }
   ],
   "source": [
    "ages = people_array['age']\n",
    "ages"
   ]
  },
  {
   "cell_type": "code",
   "execution_count": 15,
   "id": "21fc7937",
   "metadata": {},
   "outputs": [
    {
     "data": {
      "text/plain": [
       "array([b'Alpha', b'', b'', b'Delta'], dtype='|S6')"
      ]
     },
     "execution_count": 15,
     "metadata": {},
     "output_type": "execute_result"
    }
   ],
   "source": [
    "names = people_array['name']\n",
    "names"
   ]
  },
  {
   "cell_type": "markdown",
   "id": "2addff68",
   "metadata": {},
   "source": [
    "## record array"
   ]
  },
  {
   "cell_type": "code",
   "execution_count": null,
   "id": "8347ab36",
   "metadata": {},
   "outputs": [],
   "source": []
  }
 ],
 "metadata": {
  "kernelspec": {
   "display_name": "Python 3",
   "language": "python",
   "name": "python3"
  },
  "language_info": {
   "codemirror_mode": {
    "name": "ipython",
    "version": 3
   },
   "file_extension": ".py",
   "mimetype": "text/x-python",
   "name": "python",
   "nbconvert_exporter": "python",
   "pygments_lexer": "ipython3",
   "version": "3.8.8"
  }
 },
 "nbformat": 4,
 "nbformat_minor": 5
}
