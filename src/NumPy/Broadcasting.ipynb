{
 "cells": [
  {
   "cell_type": "markdown",
   "id": "2de9fdfa",
   "metadata": {},
   "source": [
    "## Broadcasting"
   ]
  },
  {
   "cell_type": "code",
   "execution_count": 4,
   "id": "71281f1e",
   "metadata": {},
   "outputs": [
    {
     "data": {
      "text/plain": [
       "array([[[ 0,  1,  2,  3,  4],\n",
       "        [ 5,  6,  7,  8,  9],\n",
       "        [10, 11, 12, 13, 14],\n",
       "        [15, 16, 17, 18, 19],\n",
       "        [20, 21, 22, 23, 24],\n",
       "        [25, 26, 27, 28, 29],\n",
       "        [30, 31, 32, 33, 34]],\n",
       "\n",
       "       [[35, 36, 37, 38, 39],\n",
       "        [40, 41, 42, 43, 44],\n",
       "        [45, 46, 47, 48, 49],\n",
       "        [50, 51, 52, 53, 54],\n",
       "        [55, 56, 57, 58, 59],\n",
       "        [60, 61, 62, 63, 64],\n",
       "        [65, 66, 67, 68, 69]]])"
      ]
     },
     "execution_count": 4,
     "metadata": {},
     "output_type": "execute_result"
    }
   ],
   "source": [
    "import numpy as np\n",
    "\n",
    "my_3d_array = np.arange(70)\n",
    "\n",
    "my_3d_array.shape = (2,7,5) \n",
    "\n",
    "my_3d_array"
   ]
  },
  {
   "cell_type": "code",
   "execution_count": 9,
   "id": "28c65524",
   "metadata": {},
   "outputs": [
    {
     "name": "stdout",
     "output_type": "stream",
     "text": [
      "arrays shape is (2, 7, 5)\n",
      "arrays (dimentions)ndim is 3, expect 3 since its 3d array\n",
      "arrays size is 70\n",
      "arrays data type dtype is int64\n"
     ]
    }
   ],
   "source": [
    "# shape \n",
    "print(f'arrays shape is {my_3d_array.shape}');\n",
    "\n",
    "#number of dimension\n",
    "print(f'arrays (dimentions)ndim is {my_3d_array.ndim}, expect 3 since its 3d array');\n",
    "\n",
    "# size\n",
    "print(f'arrays size is {my_3d_array.size}');\n",
    "\n",
    "#data type \n",
    "print(f'arrays data type dtype is {my_3d_array.dtype}');\n",
    "\n"
   ]
  },
  {
   "cell_type": "markdown",
   "id": "d923c5b8",
   "metadata": {},
   "source": [
    "#array operations \n",
    "\n",
    "5 * my_3d_array "
   ]
  },
  {
   "cell_type": "markdown",
   "id": "08be5df3",
   "metadata": {},
   "source": [
    "## operate along axis"
   ]
  },
  {
   "cell_type": "code",
   "execution_count": 13,
   "id": "b81853c1",
   "metadata": {},
   "outputs": [
    {
     "name": "stdout",
     "output_type": "stream",
     "text": [
      "arrays sum is 2415\n"
     ]
    }
   ],
   "source": [
    "# sum \n",
    "\n",
    "print(f'arrays sum is {my_3d_array.sum()}');"
   ]
  },
  {
   "cell_type": "code",
   "execution_count": null,
   "id": "3bd5f6cb",
   "metadata": {},
   "outputs": [],
   "source": []
  },
  {
   "cell_type": "code",
   "execution_count": null,
   "id": "9c336efb",
   "metadata": {},
   "outputs": [],
   "source": []
  }
 ],
 "metadata": {
  "kernelspec": {
   "display_name": "Python 3",
   "language": "python",
   "name": "python3"
  },
  "language_info": {
   "codemirror_mode": {
    "name": "ipython",
    "version": 3
   },
   "file_extension": ".py",
   "mimetype": "text/x-python",
   "name": "python",
   "nbconvert_exporter": "python",
   "pygments_lexer": "ipython3",
   "version": "3.8.8"
  }
 },
 "nbformat": 4,
 "nbformat_minor": 5
}
