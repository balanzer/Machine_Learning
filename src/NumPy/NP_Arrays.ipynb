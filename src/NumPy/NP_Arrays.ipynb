{
 "cells": [
  {
   "cell_type": "code",
   "execution_count": 1,
   "id": "14f8f9e8",
   "metadata": {},
   "outputs": [
    {
     "name": "stdout",
     "output_type": "stream",
     "text": [
      "using numpy version : 1.20.1\n"
     ]
    }
   ],
   "source": [
    "import numpy as np\n",
    "\n",
    "print(f'using numpy version : {np.__version__}')"
   ]
  },
  {
   "cell_type": "code",
   "execution_count": 4,
   "id": "b2773d26",
   "metadata": {},
   "outputs": [
    {
     "name": "stdout",
     "output_type": "stream",
     "text": [
      "my list is [1, 2, 3, 4, 3, 2, 1]\n",
      "list converted to np array is [1 2 3 4 3 2 1]\n",
      "[1 2 3 4 3 2 1] * 10 is [10 20 30 40 30 20 10]\n"
     ]
    }
   ],
   "source": [
    "myList = [1,2,3,4,3,2,1]\n",
    "\n",
    "print(f'my list is {myList}')\n",
    "\n",
    "npList = np.array(myList)\n",
    "\n",
    "print(f'list converted to np array is {npList}')\n",
    "\n",
    "\n",
    "#NP Operations \n",
    "\n",
    "print(f'{npList} * 10 is {npList * 10}')\n",
    "\n",
    "\n"
   ]
  },
  {
   "cell_type": "code",
   "execution_count": 8,
   "id": "1982be30",
   "metadata": {},
   "outputs": [
    {
     "name": "stdout",
     "output_type": "stream",
     "text": [
      "my typle is (1, 2, 3, 4, 3, 2, 1.0, 10.2)\n",
      "tuple converted to np array is [ 1.   2.   3.   4.   3.   2.   1.  10.2]\n",
      "(1, 2, 3, 4, 3, 2, 1.0, 10.2) / 10.2 is [0.09803922 0.19607843 0.29411765 0.39215686 0.29411765 0.19607843\n",
      " 0.09803922 1.        ]\n"
     ]
    }
   ],
   "source": [
    "myTuple = (1,2,3,4,3,2,1.0,10.2)\n",
    "\n",
    "print(f'my typle is {myTuple}')\n",
    "\n",
    "npTuple = np.array(myTuple)\n",
    "\n",
    "print(f'tuple converted to np array is {npTuple}')\n",
    "\n",
    "#NP Operations \n",
    "\n",
    "print(f'{myTuple} / 10.2 is {npTuple / 10.2}')"
   ]
  },
  {
   "cell_type": "code",
   "execution_count": 20,
   "id": "bb04ffa5",
   "metadata": {},
   "outputs": [
    {
     "name": "stdout",
     "output_type": "stream",
     "text": [
      "using len 7, myArray [  7.   22.5  38.   53.5  69.   84.5 100. ]\n",
      "using size 7\n"
     ]
    }
   ],
   "source": [
    "\n",
    "myArray = np.linspace(7,100, 7)\n",
    "\n",
    "# finding length fo array using len\n",
    "print(f'using len {len(myArray)}, myArray {myArray}')\n",
    "\n",
    "# or \n",
    "\n",
    "\n",
    "print(f'using size {myArray.size}')\n",
    "\n"
   ]
  },
  {
   "cell_type": "markdown",
   "id": "5c1cc2b9",
   "metadata": {},
   "source": [
    "## linspace, zeros,ones"
   ]
  },
  {
   "cell_type": "code",
   "execution_count": 44,
   "id": "08a77d0a",
   "metadata": {},
   "outputs": [
    {
     "name": "stdout",
     "output_type": "stream",
     "text": [
      "myArray is [ 1  3  6  8 11], type is <class 'numpy.ndarray'>\n",
      "value of i is 1, type is <class 'numpy.int64'>\n",
      "value of i is 3, type is <class 'numpy.int64'>\n",
      "value of i is 6, type is <class 'numpy.int64'>\n",
      "value of i is 8, type is <class 'numpy.int64'>\n",
      "value of i is 11, type is <class 'numpy.int64'>\n"
     ]
    }
   ],
   "source": [
    "#myArray = np.linspace(1,11,2)\n",
    "\n",
    "myArray = np.linspace(1,11,5,dtype=int)\n",
    "\n",
    "print(f'myArray is {myArray}, type is {type(myArray)}')\n",
    "for i in myArray : \n",
    "    print(f'value of i is {i}, type is {type(i)}')"
   ]
  },
  {
   "cell_type": "code",
   "execution_count": 36,
   "id": "ca167696",
   "metadata": {},
   "outputs": [
    {
     "name": "stdout",
     "output_type": "stream",
     "text": [
      "myArray is [0. 0. 0. 0. 0. 0. 0. 0. 0. 0.], type is <class 'numpy.ndarray'>\n",
      "value of i is 0.0, type is <class 'numpy.float64'>\n",
      "value of i is 0.0, type is <class 'numpy.float64'>\n",
      "value of i is 0.0, type is <class 'numpy.float64'>\n",
      "value of i is 0.0, type is <class 'numpy.float64'>\n",
      "value of i is 0.0, type is <class 'numpy.float64'>\n",
      "value of i is 0.0, type is <class 'numpy.float64'>\n",
      "value of i is 0.0, type is <class 'numpy.float64'>\n",
      "value of i is 0.0, type is <class 'numpy.float64'>\n",
      "value of i is 0.0, type is <class 'numpy.float64'>\n",
      "value of i is 0.0, type is <class 'numpy.float64'>\n"
     ]
    }
   ],
   "source": [
    "myArray = np.zeros(10)\n",
    "\n",
    "print(f'myArray is {myArray}, type is {type(myArray)}')\n",
    "for i in myArray : \n",
    "    print(f'value of i is {i}, type is {type(i)}')"
   ]
  },
  {
   "cell_type": "code",
   "execution_count": 37,
   "id": "61fbf5ee",
   "metadata": {},
   "outputs": [
    {
     "name": "stdout",
     "output_type": "stream",
     "text": [
      "myArray is [1. 1. 1. 1. 1. 1. 1. 1. 1. 1.], type is <class 'numpy.ndarray'>\n",
      "value of i is 1.0, type is <class 'numpy.float64'>\n",
      "value of i is 1.0, type is <class 'numpy.float64'>\n",
      "value of i is 1.0, type is <class 'numpy.float64'>\n",
      "value of i is 1.0, type is <class 'numpy.float64'>\n",
      "value of i is 1.0, type is <class 'numpy.float64'>\n",
      "value of i is 1.0, type is <class 'numpy.float64'>\n",
      "value of i is 1.0, type is <class 'numpy.float64'>\n",
      "value of i is 1.0, type is <class 'numpy.float64'>\n",
      "value of i is 1.0, type is <class 'numpy.float64'>\n",
      "value of i is 1.0, type is <class 'numpy.float64'>\n"
     ]
    }
   ],
   "source": [
    "myArray = np.ones(10)\n",
    "\n",
    "print(f'myArray is {myArray}, type is {type(myArray)}')\n",
    "for i in myArray : \n",
    "    print(f'value of i is {i}, type is {type(i)}')"
   ]
  },
  {
   "cell_type": "code",
   "execution_count": 39,
   "id": "da7452c9",
   "metadata": {},
   "outputs": [
    {
     "name": "stdout",
     "output_type": "stream",
     "text": [
      "myArray is [[0. 0. 0.]\n",
      " [0. 0. 0.]\n",
      " [0. 0. 0.]\n",
      " [0. 0. 0.]\n",
      " [0. 0. 0.]], type is <class 'numpy.ndarray'>\n",
      "value of i is [0. 0. 0.], type is <class 'numpy.ndarray'>\n",
      "value of i is [0. 0. 0.], type is <class 'numpy.ndarray'>\n",
      "value of i is [0. 0. 0.], type is <class 'numpy.ndarray'>\n",
      "value of i is [0. 0. 0.], type is <class 'numpy.ndarray'>\n",
      "value of i is [0. 0. 0.], type is <class 'numpy.ndarray'>\n"
     ]
    }
   ],
   "source": [
    "myArray = np.zeros((5,3))\n",
    "\n",
    "print(f'myArray is {myArray}, type is {type(myArray)}')\n"
   ]
  },
  {
   "cell_type": "code",
   "execution_count": 47,
   "id": "b55e48c5",
   "metadata": {},
   "outputs": [
    {
     "name": "stdout",
     "output_type": "stream",
     "text": [
      "myArray is [[[0. 0.]\n",
      "  [0. 0.]\n",
      "  [0. 0.]]\n",
      "\n",
      " [[0. 0.]\n",
      "  [0. 0.]\n",
      "  [0. 0.]]\n",
      "\n",
      " [[0. 0.]\n",
      "  [0. 0.]\n",
      "  [0. 0.]]\n",
      "\n",
      " [[0. 0.]\n",
      "  [0. 0.]\n",
      "  [0. 0.]]\n",
      "\n",
      " [[0. 0.]\n",
      "  [0. 0.]\n",
      "  [0. 0.]]], type is <class 'numpy.ndarray'>\n"
     ]
    }
   ],
   "source": [
    "myArray = np.zeros((5,3,2))\n",
    "\n",
    "print(f'myArray is {myArray}, type is {type(myArray)}')"
   ]
  },
  {
   "cell_type": "markdown",
   "id": "96187568",
   "metadata": {},
   "source": [
    "## Index, Slice & Iterate"
   ]
  },
  {
   "cell_type": "code",
   "execution_count": 56,
   "id": "b4b3ed87",
   "metadata": {},
   "outputs": [
    {
     "name": "stdout",
     "output_type": "stream",
     "text": [
      "np array is [1 2 3 4 3 2 1]\n",
      "np array is [10  2  3  4  3  2  1] - after updating 0 index \n"
     ]
    }
   ],
   "source": [
    "myList = [1,2,3,4,3,2,1]\n",
    "\n",
    "npList = np.array(myList)\n",
    "\n",
    "print(f'np array is {npList}')\n",
    "\n",
    "npList[0] = npList[0] * 10\n",
    "\n",
    "print(f'np array is {npList} - after updating 0 index ')"
   ]
  },
  {
   "cell_type": "code",
   "execution_count": 65,
   "id": "bd5ea804",
   "metadata": {},
   "outputs": [
    {
     "name": "stdout",
     "output_type": "stream",
     "text": [
      "np array is [[[ 0  1  2  3  4]\n",
      "  [ 5  6  7  8  9]\n",
      "  [10 11 12 13 14]\n",
      "  [15 16 17 18 19]\n",
      "  [20 21 22 23 24]\n",
      "  [25 26 27 28 29]\n",
      "  [30 31 32 33 34]]\n",
      "\n",
      " [[35 36 37 38 39]\n",
      "  [40 41 42 43 44]\n",
      "  [45 46 47 48 49]\n",
      "  [50 51 52 53 54]\n",
      "  [55 56 57 58 59]\n",
      "  [60 61 62 63 64]\n",
      "  [65 66 67 68 69]]]\n"
     ]
    }
   ],
   "source": [
    "# 3 D Arrays \n",
    "\n",
    "npList = np.arange(70)\n",
    "npList.shape = (2,7,5)\n",
    "\n",
    "print(f'np array is {npList}')\n"
   ]
  },
  {
   "cell_type": "markdown",
   "id": "0c745d38",
   "metadata": {},
   "source": [
    "## Boolean mask arrays\n",
    "\n",
    "\n"
   ]
  },
  {
   "cell_type": "code",
   "execution_count": 77,
   "id": "c866ebf0",
   "metadata": {},
   "outputs": [
    {
     "name": "stdout",
     "output_type": "stream",
     "text": [
      "np array is [ 0  3  6  9 12 15 18 21 24]\n",
      "np div_by_5 is [ True False False False False  True False False False]\n",
      "np div_by_5_items is [ 0 15]\n"
     ]
    }
   ],
   "source": [
    "npList = np.arange(0,26,3)\n",
    "print(f'np array is {npList}')\n",
    "\n",
    "div_by_5 = 0 == (npList%5)\n",
    "\n",
    "print(f'np div_by_5 is {div_by_5}')\n",
    "\n",
    "## fetching only true items \n",
    "div_by_5_items = npList[div_by_5]\n",
    "\n",
    "print(f'np div_by_5_items is {div_by_5_items}')\n"
   ]
  },
  {
   "cell_type": "markdown",
   "id": "8a5b06a5",
   "metadata": {},
   "source": [
    "## Logical Operators\n"
   ]
  },
  {
   "cell_type": "code",
   "execution_count": null,
   "id": "1bfa811e",
   "metadata": {},
   "outputs": [],
   "source": [
    "mod_test = 0 == (npList%5)\n"
   ]
  }
 ],
 "metadata": {
  "kernelspec": {
   "display_name": "Python 3",
   "language": "python",
   "name": "python3"
  },
  "language_info": {
   "codemirror_mode": {
    "name": "ipython",
    "version": 3
   },
   "file_extension": ".py",
   "mimetype": "text/x-python",
   "name": "python",
   "nbconvert_exporter": "python",
   "pygments_lexer": "ipython3",
   "version": "3.8.8"
  }
 },
 "nbformat": 4,
 "nbformat_minor": 5
}
