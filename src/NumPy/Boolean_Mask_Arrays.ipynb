{
 "cells": [
  {
   "cell_type": "code",
   "execution_count": 23,
   "id": "cec726dc",
   "metadata": {},
   "outputs": [
    {
     "name": "stdout",
     "output_type": "stream",
     "text": [
      "np list has total : 20 and items : [-2  1  7 -2 -7 -6  2  6 -1 -3  0  2  6 -1  7  3  9 -7  3 -7]\n"
     ]
    }
   ],
   "source": [
    "import numpy as np\n",
    "\n",
    "def buildRandomArray(len=5):\n",
    "    \n",
    "    lst = []\n",
    "    \n",
    "    for i in range(0,len,1):\n",
    "        lst.append(np.random.randint(-10,10,dtype=int))\n",
    "    \n",
    "    return lst\n",
    "\n",
    "myList = buildRandomArray(20)\n",
    "\n",
    "npList = np.array(myList)\n",
    "\n",
    "print(f'np list has total : {len(npList)} and items : {npList}')"
   ]
  },
  {
   "cell_type": "markdown",
   "id": "1e33e418",
   "metadata": {},
   "source": [
    "## Boolean mask arrays"
   ]
  },
  {
   "cell_type": "code",
   "execution_count": 18,
   "id": "468ebb18",
   "metadata": {},
   "outputs": [
    {
     "name": "stdout",
     "output_type": "stream",
     "text": [
      "\n",
      "\n",
      "result_mod_7_mask : [False  True False False  True  True False False False  True  True False\n",
      " False False False False False False  True False], \n",
      " items from np list : [0 7 7 0 0 0]\n",
      "\n",
      "\n",
      "result_mod_odd : [ True False False False  True  True  True  True  True False False  True\n",
      "  True  True  True  True False  True False  True], \n",
      " items from np list : [9 7 7 1 3 1 3 5 1 5 3 5 5]\n",
      "\n",
      "\n",
      "result_mod_even : [False  True  True  True False False False False False  True  True False\n",
      " False False False False  True False  True False], \n",
      " items from np list : [0 4 8 0 0 4 0]\n"
     ]
    }
   ],
   "source": [
    "result_mod_7_mask = 0 == (npList % 7)\n",
    "result_mod_odd = 1 == (npList % 2)\n",
    "result_mod_even = 0 == (npList % 2)\n",
    "\n",
    "print(f'\\n\\nresult_mod_7_mask : {result_mod_7_mask}, \\n items from np list : {npList[result_mod_7_mask]}')\n",
    "print(f'\\n\\nresult_mod_odd : {result_mod_odd}, \\n items from np list : {npList[result_mod_odd]}')\n",
    "print(f'\\n\\nresult_mod_even : {result_mod_even}, \\n items from np list : {npList[result_mod_even]}')\n"
   ]
  },
  {
   "cell_type": "markdown",
   "id": "b3c8c9ab",
   "metadata": {},
   "source": [
    "## sub array"
   ]
  },
  {
   "cell_type": "code",
   "execution_count": 20,
   "id": "d9189525",
   "metadata": {},
   "outputs": [
    {
     "data": {
      "text/plain": [
       "array([9, 8, 7, 7])"
      ]
     },
     "execution_count": 20,
     "metadata": {},
     "output_type": "execute_result"
    }
   ],
   "source": [
    "sub_array = npList[npList>5] # creates subarray for items greater than 5 \n",
    "sub_array "
   ]
  },
  {
   "cell_type": "markdown",
   "id": "0cfc49f7",
   "metadata": {},
   "source": [
    "## numpy logical operatror"
   ]
  },
  {
   "cell_type": "code",
   "execution_count": 29,
   "id": "7eae5301",
   "metadata": {},
   "outputs": [
    {
     "name": "stdout",
     "output_type": "stream",
     "text": [
      "\n",
      "\n",
      " positive_test: [ True False False  True False  True  True  True False False  True  True\n",
      "  True False False False False False False False], \n",
      " items from np list : [-2 -2 -6  2  6  0  2  6]\n",
      "\n",
      "\n",
      " negative_test : [False False False False False  True False  True False  True  True False\n",
      "  True False False  True  True False  True False], \n",
      " items from np list : [-6  6 -3  0  6  3  9  3]\n",
      "\n",
      "\n",
      " combined_mask_and : [False False False False False  True False  True False False  True False\n",
      "  True False False False False False False False], \n",
      " items from np list : [-6  6  0  6]\n",
      "\n",
      "\n",
      " combined_mask_or : [ True False False  True False  True  True  True False  True  True  True\n",
      "  True False False  True  True False  True False], \n",
      " items from np list : [-2 -2 -6  2  6 -3  0  2  6  3  9  3]\n"
     ]
    }
   ],
   "source": [
    "mod_test = 0 == (npList % 3 ==0) # mask type \n",
    "positive_test = npList % 2 == 0\n",
    "negative_test = npList % 3 == 0\n",
    "\n",
    "print(f'\\n\\n positive_test: {positive_test}, \\n items from np list : {npList[positive_test]}')\n",
    "print(f'\\n\\n negative_test : {negative_test}, \\n items from np list : {npList[negative_test]}')\n",
    "\n",
    "combined_mask_and = np.logical_and(positive_test,negative_test)\n",
    "combined_mask_or = np.logical_or(positive_test,negative_test)\n",
    "\n",
    "print(f'\\n\\n combined_mask_and : {combined_mask_and}, \\n items from np list : {npList[combined_mask_and]}')\n",
    "print(f'\\n\\n combined_mask_or : {combined_mask_or}, \\n items from np list : {npList[combined_mask_or]}')\n"
   ]
  },
  {
   "cell_type": "code",
   "execution_count": null,
   "id": "cc233276",
   "metadata": {},
   "outputs": [],
   "source": []
  }
 ],
 "metadata": {
  "kernelspec": {
   "display_name": "Python 3",
   "language": "python",
   "name": "python3"
  },
  "language_info": {
   "codemirror_mode": {
    "name": "ipython",
    "version": 3
   },
   "file_extension": ".py",
   "mimetype": "text/x-python",
   "name": "python",
   "nbconvert_exporter": "python",
   "pygments_lexer": "ipython3",
   "version": "3.8.8"
  }
 },
 "nbformat": 4,
 "nbformat_minor": 5
}
