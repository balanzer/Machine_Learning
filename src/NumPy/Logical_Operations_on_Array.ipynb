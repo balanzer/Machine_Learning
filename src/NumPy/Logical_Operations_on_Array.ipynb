{
 "cells": [
  {
   "cell_type": "code",
   "execution_count": 15,
   "id": "7eadbf68",
   "metadata": {},
   "outputs": [
    {
     "name": "stdout",
     "output_type": "stream",
     "text": [
      "all values in array\n",
      "[ 0.68181677  0.15788573 -0.22833189 -3.76046283  0.4398243  -0.13337324\n",
      " -0.92331963 -0.19116619 -2.05980584 -1.12545759  0.61364197  0.44533065\n",
      " -0.84212361 -0.32076884  2.05233071]\n",
      "\n",
      "all values in array > 0\n",
      "[ True  True False False  True False False False False False  True  True\n",
      " False False  True]\n",
      "\n",
      "subset array with has values > 0\n",
      "[0.68181677 0.15788573 0.4398243  0.61364197 0.44533065 2.05233071]\n"
     ]
    }
   ],
   "source": [
    "import numpy as np\n",
    "\n",
    "#generate random array \n",
    "randVec = np.random.randn(15)\n",
    "\n",
    "#print values \n",
    "print(\"all values in array\")\n",
    "\n",
    "print(randVec)\n",
    "\n",
    "print()\n",
    "\n",
    "print(\"all values in array > 0\")\n",
    "#access items only >0\n",
    "#returns boolean array marked with values true or false for condtions given \n",
    "print(randVec>0)\n",
    "\n",
    "print()\n",
    "print(\"subset array with has values > 0\")\n",
    "#Create subset with condition\n",
    "print(randVec[randVec>0])\n",
    "\n",
    "      \n"
   ]
  },
  {
   "cell_type": "code",
   "execution_count": 14,
   "id": "09c815f6",
   "metadata": {},
   "outputs": [
    {
     "name": "stdout",
     "output_type": "stream",
     "text": [
      "all values in array\n",
      "\n",
      "\n",
      "[ 0.75384494  1.2364606   0.50052309 -1.71598928  1.01092424  1.66452561\n",
      " -0.06737139 -0.3527547   1.04162165  0.43709723  1.25508685 -0.30461117\n",
      "  0.01234181 -0.34963729 -1.05647318]\n",
      "all values in 5*3 2d matrix \n",
      "\n",
      "\n",
      "[[ 0.75384494  1.2364606   0.50052309]\n",
      " [-1.71598928  1.01092424  1.66452561]\n",
      " [-0.06737139 -0.3527547   1.04162165]\n",
      " [ 0.43709723  1.25508685 -0.30461117]\n",
      " [ 0.01234181 -0.34963729 -1.05647318]]\n",
      "\n",
      "\n",
      "all values in 5*3 2d matrix subset array with has values > 1\n",
      "\n",
      "\n",
      "[1.2364606  1.01092424 1.66452561 1.04162165 1.25508685]\n"
     ]
    }
   ],
   "source": [
    "\n",
    "#print values \n",
    "print(\"all values in array\\n\\n\")\n",
    "\n",
    "print(randVec)\n",
    "\n",
    "#Operations on Matrix\n",
    "\n",
    "randMat2 = randVec.reshape(5,3)\n",
    "print(\"all values in 5*3 2d matrix \\n\\n\")\n",
    "\n",
    "print(randMat2)\n",
    "\n",
    "\n",
    "\n",
    "print(\"\\n\\nall values in 5*3 2d matrix subset array with has values > 1\\n\\n\")\n",
    "\n",
    "print(randMat2[randMat2>1])\n"
   ]
  },
  {
   "cell_type": "code",
   "execution_count": 19,
   "id": "29237405",
   "metadata": {},
   "outputs": [
    {
     "name": "stdout",
     "output_type": "stream",
     "text": [
      "all values in array\n",
      "\n",
      "\n",
      "[ 0.68181677  0.15788573 -0.22833189 -3.76046283  0.4398243  -0.13337324\n",
      " -0.92331963 -0.19116619 -2.05980584 -1.12545759  0.61364197  0.44533065\n",
      " -0.84212361 -0.32076884  2.        ]\n",
      "\n",
      "\n",
      "all values in array after updates \n",
      "\n",
      "\n",
      "[ 2.          2.         -0.22833189 -3.76046283  2.         -0.13337324\n",
      " -0.92331963 -0.19116619 -2.05980584 -1.12545759  2.          2.\n",
      " -0.84212361 -0.32076884  2.        ]\n"
     ]
    }
   ],
   "source": [
    "#print values \n",
    "print(\"all values in array\\n\\n\")\n",
    "\n",
    "print(randVec)\n",
    "\n",
    "#update values based on logical indexing\n",
    "randVec[randVec>0] = 2\n",
    "\n",
    "print(\"\\n\\nall values in array after updates \\n\\n\")\n",
    "print(randVec)\n",
    "\n"
   ]
  },
  {
   "cell_type": "code",
   "execution_count": null,
   "id": "0a6d137f",
   "metadata": {},
   "outputs": [],
   "source": []
  }
 ],
 "metadata": {
  "kernelspec": {
   "display_name": "Python 3",
   "language": "python",
   "name": "python3"
  },
  "language_info": {
   "codemirror_mode": {
    "name": "ipython",
    "version": 3
   },
   "file_extension": ".py",
   "mimetype": "text/x-python",
   "name": "python",
   "nbconvert_exporter": "python",
   "pygments_lexer": "ipython3",
   "version": "3.8.8"
  }
 },
 "nbformat": 4,
 "nbformat_minor": 5
}
