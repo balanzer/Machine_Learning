{
 "cells": [
  {
   "cell_type": "code",
   "execution_count": 8,
   "id": "d4fd3045",
   "metadata": {},
   "outputs": [
    {
     "name": "stdout",
     "output_type": "stream",
     "text": [
      "Pi Value is 3.1416\n"
     ]
    }
   ],
   "source": [
    "import numpy as np #import numpy\n",
    "\n",
    "print(f'Pi Value is {round(np.pi,4)}')"
   ]
  },
  {
   "cell_type": "code",
   "execution_count": 16,
   "id": "c77182cc",
   "metadata": {},
   "outputs": [
    {
     "name": "stdout",
     "output_type": "stream",
     "text": [
      "Type of Vec array is <class 'numpy.ndarray'>, [1 2 3 4 5 6]\n",
      "Type of Mat array is <class 'numpy.ndarray'>,\n",
      " [[1 2 3]\n",
      " [1 2 3]\n",
      " [1 2 3]], \n",
      "\n",
      " transpose is \n",
      " [[1 1 1]\n",
      " [2 2 2]\n",
      " [3 3 3]]\n"
     ]
    }
   ],
   "source": [
    "nums = [1,2,3,4,5,6]\n",
    "nums2D = [[1,2,3],[1,2,3],[1,2,3]]\n",
    "\n",
    "vec = np.array(nums)\n",
    "\n",
    "mat = np.array(nums2D)\n",
    "\n",
    "print(f'Type of Vec array is {type(vec)}, {vec}')\n",
    "\n",
    "print(f'Type of Mat array is {type(mat)},\\n {mat}, \\n\\n transpose is \\n {mat.T}')"
   ]
  },
  {
   "cell_type": "code",
   "execution_count": 26,
   "id": "d08d41e4",
   "metadata": {},
   "outputs": [
    {
     "name": "stdout",
     "output_type": "stream",
     "text": [
      "vec2 is [ 0  2  4  6  8 10 12 14], vec3 is [ 0  4  8 12 16 20 24 28]\n",
      "i is 0.0, type of i is <class 'numpy.float64'>\n",
      "i is 3.141592653589793, type of i is <class 'numpy.float64'>\n",
      "i is 6.283185307179586, type of i is <class 'numpy.float64'>\n",
      "i is 9.42477796076938, type of i is <class 'numpy.float64'>\n",
      "i is 12.566370614359172, type of i is <class 'numpy.float64'>\n",
      "i is 15.707963267948966, type of i is <class 'numpy.float64'>\n",
      "i is 18.84955592153876, type of i is <class 'numpy.float64'>\n",
      "i is 21.991148575128552, type of i is <class 'numpy.float64'>\n",
      "i is 25.132741228718345, type of i is <class 'numpy.float64'>\n",
      "i is 28.274333882308138, type of i is <class 'numpy.float64'>\n"
     ]
    }
   ],
   "source": [
    "# creating arrays using numpy\n",
    "\n",
    "vec2 = np.arange(0,15,2)\n",
    "vec3 = np.arange(0,30,4)\n",
    "\n",
    "print(f'vec2 is {vec2}, vec3 is {vec3}')\n",
    "\n",
    "for i in np.arange(0,30,np.pi):\n",
    "    print(f'i is {i}, type of i is {type(i)}')\n"
   ]
  },
  {
   "cell_type": "code",
   "execution_count": 62,
   "id": "8c00256c",
   "metadata": {},
   "outputs": [
    {
     "name": "stdout",
     "output_type": "stream",
     "text": [
      "[ 1.  2.  3.  4.  5.  6.  7.  8.  9. 10.]\n",
      "converted to matrix is \n",
      " [[ 1.  2.  3.  4.  5.]\n",
      " [ 6.  7.  8.  9. 10.]], type is <class 'numpy.ndarray'>\n",
      "process completed with no errors\n",
      "always execute\n"
     ]
    }
   ],
   "source": [
    "vec4 = np.linspace(1,10,10) #linear spacing \n",
    "print(vec4)\n",
    "#Convert to matrix \n",
    "try:\n",
    "    newMat = vec4.reshape(2,5)\n",
    "    print(f'converted to matrix is \\n {newMat}, type is {type(newMat)}')\n",
    "except Exception as valErr:\n",
    "    print(f'invalid matrix configuration for input error : {valErr}')\n",
    "else:\n",
    "    print(f'process completed with no errors')\n",
    "finally:\n",
    "    print(f'always execute');"
   ]
  },
  {
   "cell_type": "code",
   "execution_count": 67,
   "id": "09bf40b7",
   "metadata": {},
   "outputs": [
    {
     "name": "stdout",
     "output_type": "stream",
     "text": [
      "matZeros type is <class 'numpy.ndarray'>, and values \n",
      " [[0. 0. 0. 0. 0.]\n",
      " [0. 0. 0. 0. 0.]\n",
      " [0. 0. 0. 0. 0.]]\n",
      "matOnes type is <class 'numpy.ndarray'>, and values \n",
      " [[1. 1. 1. 1. 1.]\n",
      " [1. 1. 1. 1. 1.]\n",
      " [1. 1. 1. 1. 1.]]\n",
      "matEye type is <class 'numpy.ndarray'>, and values \n",
      " [[1. 0. 0. 0. 0.]\n",
      " [0. 1. 0. 0. 0.]\n",
      " [0. 0. 1. 0. 0.]\n",
      " [0. 0. 0. 1. 0.]\n",
      " [0. 0. 0. 0. 1.]]\n"
     ]
    }
   ],
   "source": [
    "#creare matrix zeros\n",
    "\n",
    "matZeros = np.zeros((3,5))\n",
    "\n",
    "print(f'matZeros type is {type(matZeros)}, and values \\n {matZeros}')\n",
    "\n",
    "matOnes= np.ones((3,5))\n",
    "\n",
    "print(f'matOnes type is {type(matOnes)}, and values \\n {matOnes}')\n",
    "\n",
    "matEye = np.eye(5)\n",
    "\n",
    "print(f'matEye type is {type(matEye)}, and values \\n {matEye}')"
   ]
  },
  {
   "cell_type": "code",
   "execution_count": 74,
   "id": "c3f90462",
   "metadata": {},
   "outputs": [
    {
     "name": "stdout",
     "output_type": "stream",
     "text": [
      "vec5 is [1 2 3 4 5], vec6 is [3 4 5 6 7], add is [ 4  6  8 10 12], product is [ 3  8 15 24 35], division is [3.         2.         1.66666667 1.5        1.4       ]\n",
      "1/vec5 is [1.         0.5        0.33333333 0.25       0.2       ]\n",
      "vec5 square is [ 1  4  9 16 25]\n"
     ]
    }
   ],
   "source": [
    "vec5 = np.arange(1,6)\n",
    "vec6 = np.arange(3,8)\n",
    "\n",
    "print(f'vec5 is {vec5}, vec6 is {vec6}, add is {vec5+vec6}, product is {vec5*vec6}, division is {vec6/vec5}')\n",
    "\n",
    "print(f'1/vec5 is {1/vec5}')\n",
    "\n",
    "\n",
    "print(f'vec5 square is {np.square(vec5)}')\n",
    "\n"
   ]
  },
  {
   "cell_type": "code",
   "execution_count": 80,
   "id": "92646755",
   "metadata": {},
   "outputs": [
    {
     "name": "stdout",
     "output_type": "stream",
     "text": [
      "Type of Vec array is <class 'numpy.ndarray'>, [1 2 3]\n",
      "Type of Mat array is <class 'numpy.ndarray'>,\n",
      " [[1 2 3]\n",
      " [1 2 3]\n",
      " [1 2 3]]\n",
      "Type of product array is <class 'numpy.ndarray'>,\n",
      " [ 6 12 18]\n"
     ]
    }
   ],
   "source": [
    "nums = [1,2,3]\n",
    "nums2D = [[1,2,3],[1,2,3],[1,2,3]]\n",
    "\n",
    "vec = np.array(nums)\n",
    "\n",
    "mat = np.array(nums2D)\n",
    "\n",
    "\n",
    "print(f'Type of Vec array is {type(vec)}, {vec}')\n",
    "\n",
    "print(f'Type of Mat array is {type(mat)},\\n {mat}')\n",
    "\n",
    "product = np.matmul(vec,mat)\n",
    "\n",
    "print(f'Type of product array is {type(product)},\\n {product}')"
   ]
  },
  {
   "cell_type": "code",
   "execution_count": 89,
   "id": "c96eba99",
   "metadata": {},
   "outputs": [
    {
     "name": "stdout",
     "output_type": "stream",
     "text": [
      "['apple' 'manago' 'orange' '5' '6' '7' '5' '6' '7' 'apple' 'Apple']\n",
      "['5' '6' '7' 'Apple' 'apple' 'manago' 'orange']\n"
     ]
    }
   ],
   "source": [
    "vec7 = np.array (('apple','manago', 'orange',5,6,7,5,6,7,'apple', 'Apple')) \n",
    "\n",
    "print(vec7)\n",
    "print(np.unique(vec7))\n"
   ]
  },
  {
   "cell_type": "code",
   "execution_count": 98,
   "id": "81acab2d",
   "metadata": {},
   "outputs": [
    {
     "name": "stdout",
     "output_type": "stream",
     "text": [
      "[[0.59881183 0.56235441 0.34586273 0.41547038 0.14729619]\n",
      " [0.41628913 0.58238115 0.51435221 0.39638592 0.42590793]\n",
      " [0.74967154 0.56116343 0.08361933 0.10192355 0.52755972]\n",
      " [0.51789821 0.24543789 0.49923416 0.81870136 0.44059115]\n",
      " [0.83348013 0.85845974 0.5269743  0.34909756 0.94199876]]\n",
      "[[-0.94489142  0.3998641   0.31504573  0.11349275  1.22462186]\n",
      " [-0.7421671  -0.38167842  1.09939699  0.14058841 -0.15431149]\n",
      " [ 2.15482895 -0.07977703  0.73329943 -0.99418645  0.17578522]\n",
      " [-1.54448437  2.04302385 -0.49726381 -0.02852713 -0.4425285 ]\n",
      " [ 1.13099768 -1.40891521 -0.34174848  1.28627565 -1.03636351]\n",
      " [-0.30214017  0.52498793  0.49006367  0.10071972 -0.65475614]\n",
      " [-0.15396699 -0.25929543 -0.46797311  0.94639004  0.55467252]\n",
      " [ 1.31331021  0.05774789  1.29177102 -0.08609436 -1.60658154]\n",
      " [-0.33342692 -0.13406038 -1.08874354  0.1617839   0.16943476]\n",
      " [-0.85968498  0.24331518  0.04653681 -0.43112204 -0.91592034]]\n",
      "\n",
      "\n",
      "mean value of rand_mat2 is 0.01654690782845909\n",
      "\n",
      "\n",
      "st deviatiom of rand_mat2 is 0.8444902633481375\n",
      "\n",
      "\n",
      "min value of rand_mat2 is -1.6065815351579718\n",
      "\n",
      "\n",
      "max of rand_mat2 is 2.1548289522230504\n"
     ]
    }
   ],
   "source": [
    "rand_mat = np.random.rand(5,5)\n",
    "print(rand_mat)\n",
    "\n",
    "rand_mat2 = np.random.randn(10,5)\n",
    "print(rand_mat2)\n",
    "\n",
    "\n",
    "print(f'\\n\\nmean value of rand_mat2 is {np.mean(rand_mat2)}')\n",
    "print(f'\\n\\nst deviatiom of rand_mat2 is {np.std(rand_mat2)}')\n",
    "\n",
    "print(f'\\n\\nmin value of rand_mat2 is {np.min(rand_mat2)}')\n",
    "print(f'\\n\\nmax of rand_mat2 is {np.max(rand_mat2)}')\n",
    "\n",
    "\n"
   ]
  },
  {
   "cell_type": "code",
   "execution_count": null,
   "id": "46c60ed5",
   "metadata": {},
   "outputs": [],
   "source": []
  }
 ],
 "metadata": {
  "kernelspec": {
   "display_name": "Python 3",
   "language": "python",
   "name": "python3"
  },
  "language_info": {
   "codemirror_mode": {
    "name": "ipython",
    "version": 3
   },
   "file_extension": ".py",
   "mimetype": "text/x-python",
   "name": "python",
   "nbconvert_exporter": "python",
   "pygments_lexer": "ipython3",
   "version": "3.8.8"
  }
 },
 "nbformat": 4,
 "nbformat_minor": 5
}
