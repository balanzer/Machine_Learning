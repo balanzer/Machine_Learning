{
 "cells": [
  {
   "cell_type": "code",
   "execution_count": 2,
   "id": "78bb13af",
   "metadata": {},
   "outputs": [
    {
     "name": "stdout",
     "output_type": "stream",
     "text": [
      "all values in array\n",
      "[-1.39787623 -0.00445698  0.78861907 -0.67877643  0.11375186 -0.21798769\n",
      " -1.69094232  0.94426904  0.98453892 -0.77892855 -0.01347021  0.335829\n",
      " -0.51695812 -0.89630667 -0.00863994]\n",
      "\n",
      "all values in 5*3 2d matrix \n",
      "\n",
      "\n",
      "[[-1.39787623 -0.00445698  0.78861907]\n",
      " [-0.67877643  0.11375186 -0.21798769]\n",
      " [-1.69094232  0.94426904  0.98453892]\n",
      " [-0.77892855 -0.01347021  0.335829  ]\n",
      " [-0.51695812 -0.89630667 -0.00863994]]\n"
     ]
    }
   ],
   "source": [
    "import numpy as np\n",
    "\n",
    "#generate random array \n",
    "randVec = np.random.randn(15)\n",
    "\n",
    "#print values \n",
    "print(\"all values in array\")\n",
    "\n",
    "print(randVec)\n",
    "\n",
    "print()\n",
    "\n",
    "\n",
    "randMat2 = randVec.reshape(5,3)\n",
    "print(\"all values in 5*3 2d matrix \\n\\n\")\n",
    "\n",
    "print(randMat2)\n"
   ]
  },
  {
   "cell_type": "code",
   "execution_count": 9,
   "id": "79372dde",
   "metadata": {},
   "outputs": [],
   "source": [
    "# save arrays, save method save only one array at a time \n",
    "\n",
    "\n",
    "np.save('save_1d_array_eg',randVec)\n",
    "np.save('save_2d_array_eg',randMat2)"
   ]
  },
  {
   "cell_type": "code",
   "execution_count": 6,
   "id": "7bd667da",
   "metadata": {},
   "outputs": [],
   "source": [
    "#saving multiple times in zip \n",
    "#zipname, file_under_zip, which array to store \n",
    "np.savez('save_zip_array_eg', rand_1d=randVec, rand_2d=randMat2)"
   ]
  },
  {
   "cell_type": "code",
   "execution_count": 19,
   "id": "5ed0b946",
   "metadata": {},
   "outputs": [
    {
     "name": "stdout",
     "output_type": "stream",
     "text": [
      "data from saved files\n",
      "\n",
      "[-1.39787623 -0.00445698  0.78861907 -0.67877643  0.11375186 -0.21798769\n",
      " -1.69094232  0.94426904  0.98453892 -0.77892855 -0.01347021  0.335829\n",
      " -0.51695812 -0.89630667 -0.00863994]\n",
      "\n",
      "[[-1.39787623 -0.00445698  0.78861907]\n",
      " [-0.67877643  0.11375186 -0.21798769]\n",
      " [-1.69094232  0.94426904  0.98453892]\n",
      " [-0.77892855 -0.01347021  0.335829  ]\n",
      " [-0.51695812 -0.89630667 -0.00863994]]\n"
     ]
    }
   ],
   "source": [
    "#loading files that saved with save method\n",
    "\n",
    "load1D = np.load('save_1d_array_eg.npy')\n",
    "load2D = np.load('save_2d_array_eg.npy')\n",
    "\n",
    "print('data from saved files')\n",
    "\n",
    "print()\n",
    "\n",
    "print(load1D)\n",
    "\n",
    "print()\n",
    "\n",
    "print(load2D)\n"
   ]
  },
  {
   "cell_type": "code",
   "execution_count": 18,
   "id": "afb9732b",
   "metadata": {},
   "outputs": [
    {
     "name": "stdout",
     "output_type": "stream",
     "text": [
      "data from zip files\n",
      "<numpy.lib.npyio.NpzFile object at 0x7fac7351fa90>\n",
      "\n",
      "[-1.39787623 -0.00445698  0.78861907 -0.67877643  0.11375186 -0.21798769\n",
      " -1.69094232  0.94426904  0.98453892 -0.77892855 -0.01347021  0.335829\n",
      " -0.51695812 -0.89630667 -0.00863994]\n",
      "\n",
      "[[-1.39787623 -0.00445698  0.78861907]\n",
      " [-0.67877643  0.11375186 -0.21798769]\n",
      " [-1.69094232  0.94426904  0.98453892]\n",
      " [-0.77892855 -0.01347021  0.335829  ]\n",
      " [-0.51695812 -0.89630667 -0.00863994]]\n"
     ]
    }
   ],
   "source": [
    "#loading files that saved with savez method\n",
    "\n",
    "loadedZip = np.load('save_zip_array_eg.npz')\n",
    "\n",
    "print('data from zip files')\n",
    "\n",
    "print(loadedZip)\n",
    "\n",
    "print()\n",
    "\n",
    "print(loadedZip['rand_1d'])\n",
    "print()\n",
    "\n",
    "print(loadedZip['rand_2d'])\n"
   ]
  },
  {
   "cell_type": "code",
   "execution_count": 22,
   "id": "f614fd5d",
   "metadata": {},
   "outputs": [
    {
     "name": "stdout",
     "output_type": "stream",
     "text": [
      "data from saved files\n",
      "\n",
      "[-1.39787623 -0.00445698  0.78861907 -0.67877643  0.11375186 -0.21798769\n",
      " -1.69094232  0.94426904  0.98453892 -0.77892855 -0.01347021  0.335829\n",
      " -0.51695812 -0.89630667 -0.00863994]\n",
      "\n",
      "[[-1.39787623 -0.00445698  0.78861907]\n",
      " [-0.67877643  0.11375186 -0.21798769]\n",
      " [-1.69094232  0.94426904  0.98453892]\n",
      " [-0.77892855 -0.01347021  0.335829  ]\n",
      " [-0.51695812 -0.89630667 -0.00863994]]\n"
     ]
    }
   ],
   "source": [
    "#saving data as text file \n",
    "\n",
    "np.savetxt('save_1d_array_eg.txt',randVec,delimiter=',')\n",
    "np.savetxt('save_2d_array_eg.txt',randMat2,delimiter=',')\n",
    "np.savetxt('save_1d_array_eg.csv',randVec,delimiter=',')\n",
    "\n",
    "#loading txt files\n",
    "\n",
    "\n",
    "load1D = np.loadtxt('save_1d_array_eg.txt',delimiter=',')\n",
    "load2D = np.loadtxt('save_2d_array_eg.txt',delimiter=',')\n",
    "\n",
    "\n",
    "print('data from saved files')\n",
    "\n",
    "print()\n",
    "\n",
    "print(load1D)\n",
    "\n",
    "print()\n",
    "\n",
    "print(load2D)\n"
   ]
  },
  {
   "cell_type": "code",
   "execution_count": null,
   "id": "7692af73",
   "metadata": {},
   "outputs": [],
   "source": []
  }
 ],
 "metadata": {
  "kernelspec": {
   "display_name": "Python 3",
   "language": "python",
   "name": "python3"
  },
  "language_info": {
   "codemirror_mode": {
    "name": "ipython",
    "version": 3
   },
   "file_extension": ".py",
   "mimetype": "text/x-python",
   "name": "python",
   "nbconvert_exporter": "python",
   "pygments_lexer": "ipython3",
   "version": "3.8.8"
  }
 },
 "nbformat": 4,
 "nbformat_minor": 5
}
