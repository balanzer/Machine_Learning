{
 "cells": [
  {
   "cell_type": "code",
   "execution_count": 2,
   "id": "bcaabd56",
   "metadata": {},
   "outputs": [
    {
     "name": "stdout",
     "output_type": "stream",
     "text": [
      "\n",
      "\n",
      "df7\n",
      "\n",
      "   customer category important  sales\n",
      "0       101        A         Y  10.00\n",
      "1       102        B         Y  15.21\n",
      "2       103        C         N   1.00\n",
      "3       104        D      None   2.00\n",
      "\n",
      "\n",
      "df8\n",
      "\n",
      "   customer colour  distance  sales\n",
      "0       101    red      10.0   20.0\n",
      "1       102  green      12.0   10.0\n",
      "2       105    red      15.0   15.5\n",
      "3       106   blue      20.0   20.2\n"
     ]
    }
   ],
   "source": [
    "import numpy as np\n",
    "import pandas as pd\n",
    "\n",
    "\n",
    "df7 = pd.DataFrame({\"customer\":[101,102,103,104],\n",
    "                   \"category\":['A','B','C','D'],\n",
    "                    \"important\":['Y','Y','N',None],\n",
    "                    \"sales\":[10.00,15.21,1,2],\n",
    "                   })\n",
    "\n",
    "df8 = pd.DataFrame({\"customer\":[101,102,105,106],\n",
    "                   \"colour\":['red','green','red','blue'],\n",
    "                    \"distance\":[10,12,15.0,20],\n",
    "                    \"sales\":[20.00,10,15.50,20.20],\n",
    "                   })\n",
    "print('\\n\\ndf7')\n",
    "print()\n",
    "print(df7)\n",
    "print('\\n\\ndf8')\n",
    "print()\n",
    "print(df8)"
   ]
  },
  {
   "cell_type": "code",
   "execution_count": 3,
   "id": "ea407a66",
   "metadata": {},
   "outputs": [
    {
     "data": {
      "text/html": [
       "<div>\n",
       "<style scoped>\n",
       "    .dataframe tbody tr th:only-of-type {\n",
       "        vertical-align: middle;\n",
       "    }\n",
       "\n",
       "    .dataframe tbody tr th {\n",
       "        vertical-align: top;\n",
       "    }\n",
       "\n",
       "    .dataframe thead th {\n",
       "        text-align: right;\n",
       "    }\n",
       "</style>\n",
       "<table border=\"1\" class=\"dataframe\">\n",
       "  <thead>\n",
       "    <tr style=\"text-align: right;\">\n",
       "      <th></th>\n",
       "      <th>customer</th>\n",
       "      <th>colour</th>\n",
       "      <th>distance</th>\n",
       "      <th>sales</th>\n",
       "    </tr>\n",
       "  </thead>\n",
       "  <tbody>\n",
       "    <tr>\n",
       "      <th>0</th>\n",
       "      <td>101</td>\n",
       "      <td>red</td>\n",
       "      <td>10.0</td>\n",
       "      <td>20.0</td>\n",
       "    </tr>\n",
       "    <tr>\n",
       "      <th>1</th>\n",
       "      <td>102</td>\n",
       "      <td>green</td>\n",
       "      <td>12.0</td>\n",
       "      <td>10.0</td>\n",
       "    </tr>\n",
       "    <tr>\n",
       "      <th>2</th>\n",
       "      <td>105</td>\n",
       "      <td>red</td>\n",
       "      <td>15.0</td>\n",
       "      <td>15.5</td>\n",
       "    </tr>\n",
       "    <tr>\n",
       "      <th>3</th>\n",
       "      <td>106</td>\n",
       "      <td>blue</td>\n",
       "      <td>20.0</td>\n",
       "      <td>20.2</td>\n",
       "    </tr>\n",
       "  </tbody>\n",
       "</table>\n",
       "</div>"
      ],
      "text/plain": [
       "   customer colour  distance  sales\n",
       "0       101    red      10.0   20.0\n",
       "1       102  green      12.0   10.0\n",
       "2       105    red      15.0   15.5\n",
       "3       106   blue      20.0   20.2"
      ]
     },
     "execution_count": 3,
     "metadata": {},
     "output_type": "execute_result"
    }
   ],
   "source": [
    "df8"
   ]
  },
  {
   "cell_type": "code",
   "execution_count": 5,
   "id": "31bca412",
   "metadata": {},
   "outputs": [],
   "source": [
    "df8.to_csv('df8_with_index.csv', index=True) # saves in dex columns also\n",
    "df8.to_csv('df8_without_index.csv', index=False) \n"
   ]
  },
  {
   "cell_type": "code",
   "execution_count": 11,
   "id": "3ca7d73a",
   "metadata": {},
   "outputs": [
    {
     "data": {
      "text/html": [
       "<div>\n",
       "<style scoped>\n",
       "    .dataframe tbody tr th:only-of-type {\n",
       "        vertical-align: middle;\n",
       "    }\n",
       "\n",
       "    .dataframe tbody tr th {\n",
       "        vertical-align: top;\n",
       "    }\n",
       "\n",
       "    .dataframe thead th {\n",
       "        text-align: right;\n",
       "    }\n",
       "</style>\n",
       "<table border=\"1\" class=\"dataframe\">\n",
       "  <thead>\n",
       "    <tr style=\"text-align: right;\">\n",
       "      <th></th>\n",
       "      <th>customer</th>\n",
       "      <th>colour</th>\n",
       "      <th>distance</th>\n",
       "      <th>sales</th>\n",
       "    </tr>\n",
       "  </thead>\n",
       "  <tbody>\n",
       "    <tr>\n",
       "      <th>0</th>\n",
       "      <td>101</td>\n",
       "      <td>red</td>\n",
       "      <td>10.0</td>\n",
       "      <td>20.0</td>\n",
       "    </tr>\n",
       "    <tr>\n",
       "      <th>1</th>\n",
       "      <td>102</td>\n",
       "      <td>green</td>\n",
       "      <td>12.0</td>\n",
       "      <td>10.0</td>\n",
       "    </tr>\n",
       "    <tr>\n",
       "      <th>2</th>\n",
       "      <td>105</td>\n",
       "      <td>red</td>\n",
       "      <td>15.0</td>\n",
       "      <td>15.5</td>\n",
       "    </tr>\n",
       "    <tr>\n",
       "      <th>3</th>\n",
       "      <td>106</td>\n",
       "      <td>blue</td>\n",
       "      <td>20.0</td>\n",
       "      <td>20.2</td>\n",
       "    </tr>\n",
       "  </tbody>\n",
       "</table>\n",
       "</div>"
      ],
      "text/plain": [
       "   customer colour  distance  sales\n",
       "0       101    red      10.0   20.0\n",
       "1       102  green      12.0   10.0\n",
       "2       105    red      15.0   15.5\n",
       "3       106   blue      20.0   20.2"
      ]
     },
     "execution_count": 11,
     "metadata": {},
     "output_type": "execute_result"
    }
   ],
   "source": [
    "#loading csv files\n",
    "\n",
    "new_df8 = pd.read_csv('df8_with_index.csv',index_col=0)\n",
    "new_df8"
   ]
  },
  {
   "cell_type": "code",
   "execution_count": 12,
   "id": "0b82175c",
   "metadata": {},
   "outputs": [],
   "source": [
    "# saving and loading xls \n",
    "\n",
    "df8.to_excel('df8_without_index.xlsx', index=False,sheet_name='first_sheet')\n",
    "df8.to_excel('df8_with_index.xlsx', index=True,sheet_name='first_sheet')"
   ]
  },
  {
   "cell_type": "code",
   "execution_count": 18,
   "id": "34dd4881",
   "metadata": {},
   "outputs": [
    {
     "data": {
      "text/html": [
       "<div>\n",
       "<style scoped>\n",
       "    .dataframe tbody tr th:only-of-type {\n",
       "        vertical-align: middle;\n",
       "    }\n",
       "\n",
       "    .dataframe tbody tr th {\n",
       "        vertical-align: top;\n",
       "    }\n",
       "\n",
       "    .dataframe thead th {\n",
       "        text-align: right;\n",
       "    }\n",
       "</style>\n",
       "<table border=\"1\" class=\"dataframe\">\n",
       "  <thead>\n",
       "    <tr style=\"text-align: right;\">\n",
       "      <th></th>\n",
       "      <th>customer</th>\n",
       "      <th>colour</th>\n",
       "      <th>distance</th>\n",
       "      <th>sales</th>\n",
       "    </tr>\n",
       "  </thead>\n",
       "  <tbody>\n",
       "    <tr>\n",
       "      <th>0</th>\n",
       "      <td>101</td>\n",
       "      <td>red</td>\n",
       "      <td>10</td>\n",
       "      <td>20.0</td>\n",
       "    </tr>\n",
       "    <tr>\n",
       "      <th>1</th>\n",
       "      <td>102</td>\n",
       "      <td>green</td>\n",
       "      <td>12</td>\n",
       "      <td>10.0</td>\n",
       "    </tr>\n",
       "    <tr>\n",
       "      <th>2</th>\n",
       "      <td>105</td>\n",
       "      <td>red</td>\n",
       "      <td>15</td>\n",
       "      <td>15.5</td>\n",
       "    </tr>\n",
       "    <tr>\n",
       "      <th>3</th>\n",
       "      <td>106</td>\n",
       "      <td>blue</td>\n",
       "      <td>20</td>\n",
       "      <td>20.2</td>\n",
       "    </tr>\n",
       "  </tbody>\n",
       "</table>\n",
       "</div>"
      ],
      "text/plain": [
       "   customer colour  distance  sales\n",
       "0       101    red        10   20.0\n",
       "1       102  green        12   10.0\n",
       "2       105    red        15   15.5\n",
       "3       106   blue        20   20.2"
      ]
     },
     "execution_count": 18,
     "metadata": {},
     "output_type": "execute_result"
    }
   ],
   "source": [
    "new_df8 = pd.read_excel('df8_with_index.xlsx',sheet_name='first_sheet',index_col=0)\n",
    "new_df8"
   ]
  },
  {
   "cell_type": "code",
   "execution_count": null,
   "id": "0a84b997",
   "metadata": {},
   "outputs": [],
   "source": []
  }
 ],
 "metadata": {
  "kernelspec": {
   "display_name": "Python 3",
   "language": "python",
   "name": "python3"
  },
  "language_info": {
   "codemirror_mode": {
    "name": "ipython",
    "version": 3
   },
   "file_extension": ".py",
   "mimetype": "text/x-python",
   "name": "python",
   "nbconvert_exporter": "python",
   "pygments_lexer": "ipython3",
   "version": "3.8.8"
  }
 },
 "nbformat": 4,
 "nbformat_minor": 5
}
