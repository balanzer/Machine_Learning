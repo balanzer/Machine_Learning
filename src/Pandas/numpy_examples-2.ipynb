{
 "cells": [
  {
   "cell_type": "markdown",
   "metadata": {},
   "source": [
    "# NumPy\n",
    "\n",
    "numpy is python's package for doing math that is more advanced than +-*/\n",
    "\n",
    "This includes special functions like cosine, exponential, sqrt, ...\n",
    "\n",
    "On top of this we can use numpy to generate samples from many types of random variables\n",
    "\n",
    "numpy also has a powerful data type to define vectors, matrices, and tensors\n",
    "\n",
    "With these data types numpy also allows us to do linear algebra - matrix multiplication and matrix-vector solutions"
   ]
  },
  {
   "cell_type": "code",
   "execution_count": 2,
   "metadata": {},
   "outputs": [],
   "source": [
    "# the first step of using numpy is to tell python to use it\n",
    "import numpy as np"
   ]
  },
  {
   "cell_type": "code",
   "execution_count": 3,
   "metadata": {},
   "outputs": [
    {
     "name": "stdout",
     "output_type": "stream",
     "text": [
      "-1.0\n",
      "1.1\n",
      "5.2\n"
     ]
    }
   ],
   "source": [
    "print(np.cos(np.pi))\n",
    "print(np.sqrt(1.21))\n",
    "print(np.log(np.exp(5.2)))"
   ]
  },
  {
   "cell_type": "code",
   "execution_count": 4,
   "metadata": {},
   "outputs": [
    {
     "name": "stdout",
     "output_type": "stream",
     "text": [
      "[1 2 3]\n",
      "\n",
      "[[1 2 1]\n",
      " [4 5 9]\n",
      " [1 8 9]]\n",
      "\n",
      "[[1 4 1]\n",
      " [2 5 8]\n",
      " [1 9 9]]\n"
     ]
    }
   ],
   "source": [
    "# we can create numpy arrays by converting lists\n",
    "# this is a vector\n",
    "vec = np.array([1,2,3])\n",
    "print(vec)\n",
    "# we can create matrices by converting lists of lists\n",
    "mat = np.array([[1,2,1],[4,5,9],[1,8,9]])\n",
    "print('')\n",
    "print(mat)\n",
    "print('')\n",
    "print(mat.T)"
   ]
  },
  {
   "cell_type": "code",
   "execution_count": 5,
   "metadata": {},
   "outputs": [
    {
     "name": "stdout",
     "output_type": "stream",
     "text": [
      "[ 0  1  2  3  4  5  6  7  8  9 10 11 12 13 14]\n",
      "\n",
      "[ 3  9 15]\n"
     ]
    }
   ],
   "source": [
    "# there are lots of other ways to create numpy arrays\n",
    "vec2 = np.arange(0,15)\n",
    "print(vec2)\n",
    "print('')\n",
    "vec3 = np.arange(3,21,6)\n",
    "print(vec3)\n"
   ]
  },
  {
   "cell_type": "code",
   "execution_count": 6,
   "metadata": {},
   "outputs": [
    {
     "name": "stdout",
     "output_type": "stream",
     "text": [
      "[0.         0.55555556 1.11111111 1.66666667 2.22222222 2.77777778\n",
      " 3.33333333 3.88888889 4.44444444 5.        ]\n",
      "\n",
      "[[0.         0.55555556]\n",
      " [1.11111111 1.66666667]\n",
      " [2.22222222 2.77777778]\n",
      " [3.33333333 3.88888889]\n",
      " [4.44444444 5.        ]]\n",
      "[[0.         0.55555556]\n",
      " [1.11111111 1.66666667]\n",
      " [2.22222222 2.77777778]\n",
      " [3.33333333 3.88888889]\n",
      " [4.44444444 5.        ]]\n",
      "[0.         0.55555556 1.11111111 1.66666667 2.22222222 2.77777778\n",
      " 3.33333333 3.88888889 4.44444444 5.        ]\n"
     ]
    }
   ],
   "source": [
    "\n",
    "vec4 = np.linspace(0,5,10)\n",
    "print(vec4)\n",
    "print('')\n",
    "print(vec4.reshape(5,2))\n",
    "vec4_reshaped = vec4.reshape(5,2)\n",
    "print(vec4_reshaped)\n",
    "print(vec4)"
   ]
  },
  {
   "cell_type": "code",
   "execution_count": 7,
   "metadata": {},
   "outputs": [
    {
     "name": "stdout",
     "output_type": "stream",
     "text": [
      "[[0. 0. 0.]\n",
      " [0. 0. 0.]\n",
      " [0. 0. 0.]\n",
      " [0. 0. 0.]\n",
      " [0. 0. 0.]]\n",
      "\n",
      "[[1. 1. 1. 1. 1.]\n",
      " [1. 1. 1. 1. 1.]\n",
      " [1. 1. 1. 1. 1.]]\n",
      "\n",
      "[[1. 0. 0. 0. 0.]\n",
      " [0. 1. 0. 0. 0.]\n",
      " [0. 0. 1. 0. 0.]\n",
      " [0. 0. 0. 1. 0.]\n",
      " [0. 0. 0. 0. 1.]]\n"
     ]
    }
   ],
   "source": [
    "mat2 = np.zeros([5,3])\n",
    "print(mat2)\n",
    "mat3 = np.ones((3,5))\n",
    "print('')\n",
    "print(mat3)\n",
    "mat4 = np.eye(5)\n",
    "print('')\n",
    "print(mat4)"
   ]
  },
  {
   "cell_type": "code",
   "execution_count": 8,
   "metadata": {},
   "outputs": [
    {
     "name": "stdout",
     "output_type": "stream",
     "text": [
      "[1 2 3 4 5]\n",
      "[3 4 5 6 7]\n",
      "[ 4  6  8 10 12]\n",
      "[ 3  8 15 24 35]\n",
      "[1.         0.5        0.33333333 0.25       0.2       ]\n",
      "[1.73205081 2.         2.23606798 2.44948974 2.64575131]\n"
     ]
    }
   ],
   "source": [
    "# we can +-*/ arrays together if they're the right size\n",
    "vec5 = np.arange(1,6)\n",
    "vec6 = np.arange(3,8)\n",
    "print(vec5)\n",
    "print(vec6)\n",
    "print(vec5+vec6)\n",
    "print(vec5*vec6)\n",
    "print(1/vec5)\n",
    "print(np.sqrt(vec6))"
   ]
  },
  {
   "cell_type": "code",
   "execution_count": 9,
   "metadata": {},
   "outputs": [
    {
     "name": "stdout",
     "output_type": "stream",
     "text": [
      "[[1 2 1]\n",
      " [4 5 9]\n",
      " [1 8 9]]\n",
      "\n",
      "[1 2 3]\n",
      "\n",
      "[ 8 41 44]\n"
     ]
    }
   ],
   "source": [
    "# we can do matrix multiplication\n",
    "print(mat)\n",
    "print('')\n",
    "print(vec)\n",
    "print()\n",
    "product = np.matmul(mat,vec)\n",
    "print(product)"
   ]
  },
  {
   "cell_type": "code",
   "execution_count": 10,
   "metadata": {},
   "outputs": [
    {
     "name": "stdout",
     "output_type": "stream",
     "text": [
      "[1. 2. 3.]\n",
      "\n",
      "[[ 0.5         0.18518519 -0.24074074]\n",
      " [ 0.5        -0.14814815  0.09259259]\n",
      " [-0.5         0.11111111  0.05555556]]\n"
     ]
    }
   ],
   "source": [
    "print(np.linalg.solve(mat,product))\n",
    "print('')\n",
    "print(np.linalg.inv(mat))"
   ]
  },
  {
   "cell_type": "code",
   "execution_count": 11,
   "metadata": {},
   "outputs": [
    {
     "name": "stdout",
     "output_type": "stream",
     "text": [
      "['blue' 'red' 'orange' 'purple' 'purple' 'orange' 'Red' '6']\n",
      "['6' 'Red' 'blue' 'orange' 'purple' 'red']\n"
     ]
    }
   ],
   "source": [
    "# we can find the unique values in an array\n",
    "vec7 = np.array(['blue','red','orange','purple','purple','orange','Red',6])\n",
    "print(vec7)\n",
    "print(np.unique(vec7))"
   ]
  },
  {
   "cell_type": "code",
   "execution_count": 12,
   "metadata": {},
   "outputs": [
    {
     "name": "stdout",
     "output_type": "stream",
     "text": [
      "[[0.1869261  0.89743932 0.92599989 0.04212799 0.21296529]\n",
      " [0.36511575 0.61779056 0.48164907 0.82231083 0.57688326]\n",
      " [0.76362223 0.36927122 0.05114045 0.4805342  0.43202456]\n",
      " [0.07057861 0.19813983 0.16206295 0.95636975 0.01728677]\n",
      " [0.44651049 0.05701866 0.92027024 0.03756307 0.91624585]]\n",
      "\n",
      "[[ 0.56185339  1.70738606  0.16667725  1.57646393 -1.56647736]\n",
      " [ 0.53253121  1.15348794 -0.46133373  0.95470737 -0.13806835]\n",
      " [ 0.06759012  0.4308748   1.13413785 -0.83231868  0.25719968]\n",
      " [-0.67763299  1.12964164 -0.82859044 -1.6359646  -0.59509204]\n",
      " [ 1.29944925 -0.52838233  2.33630218  0.96478253  0.34788099]\n",
      " [-0.2190776  -0.163042    0.90698822  1.04964344 -0.65493404]\n",
      " [-0.31897312 -2.04664918 -0.81438981 -0.8121652  -0.03053575]\n",
      " [ 1.32207256 -1.92857701 -0.43130647  1.2418541  -1.21374914]\n",
      " [ 0.56083461 -0.2414827  -0.21686421 -0.29015129 -1.07859682]\n",
      " [-1.07054591 -1.52347217 -0.06900897  1.20600977 -0.97929696]]\n"
     ]
    }
   ],
   "source": [
    "# we can also use numpy to generate samples of a random variable\n",
    "rand_mat = np.random.rand(5,5) # uniform random variable\n",
    "print(rand_mat)\n",
    "rand_mat2 = np.random.randn(10,5) # standard normal random variable\n",
    "print('')\n",
    "print(rand_mat2)"
   ]
  },
  {
   "cell_type": "code",
   "execution_count": 13,
   "metadata": {},
   "outputs": [
    {
     "name": "stdout",
     "output_type": "stream",
     "text": [
      "0.44031387788796406\n",
      "1.0137084782626533\n"
     ]
    }
   ],
   "source": [
    "# we can also use numpy for statistical tools on arrays\n",
    "print(np.mean(rand_mat))\n",
    "print(np.std(rand_mat2))"
   ]
  },
  {
   "cell_type": "code",
   "execution_count": 14,
   "metadata": {},
   "outputs": [
    {
     "name": "stdout",
     "output_type": "stream",
     "text": [
      "0.01728676526702655\n",
      "2.336302182253085\n"
     ]
    }
   ],
   "source": [
    "print(np.min(rand_mat))\n",
    "print(np.max(rand_mat2))"
   ]
  },
  {
   "cell_type": "code",
   "execution_count": null,
   "metadata": {},
   "outputs": [],
   "source": [
    "# break here for next video!"
   ]
  },
  {
   "cell_type": "code",
   "execution_count": 15,
   "metadata": {},
   "outputs": [
    {
     "name": "stdout",
     "output_type": "stream",
     "text": [
      "[ 0.16807182 -0.12770002 -0.56447637 -0.2149536   0.53242553 -0.49361422\n",
      "  0.67958578 -0.22220712 -0.05024021  1.80994977 -0.34501288  0.68697229\n",
      " -1.05350906  0.44803643  0.88853382 -2.3871388   1.5340749   0.8592969\n",
      " -0.82479462]\n",
      "0.6795857794813608\n"
     ]
    }
   ],
   "source": [
    "# how do we access entries in a numpy vector\n",
    "rand_vec = np.random.randn(19)\n",
    "print(rand_vec)\n",
    "print(rand_vec[6])"
   ]
  },
  {
   "cell_type": "code",
   "execution_count": 16,
   "metadata": {},
   "outputs": [
    {
     "name": "stdout",
     "output_type": "stream",
     "text": [
      "[ 0.53242553 -0.49361422  0.67958578 -0.22220712 -0.05024021]\n"
     ]
    }
   ],
   "source": [
    "# we can access multiple entries at once using :\n",
    "print(rand_vec[4:9])"
   ]
  },
  {
   "cell_type": "code",
   "execution_count": 17,
   "metadata": {},
   "outputs": [
    {
     "name": "stdout",
     "output_type": "stream",
     "text": [
      "[ 0  3  6  9 12]\n",
      "[ 0.16807182 -0.2149536   0.67958578  1.80994977 -1.05350906]\n"
     ]
    }
   ],
   "source": [
    "# we can also access multiple non-consecutive entries using np.arange\n",
    "print(np.arange(0,15,3))\n",
    "print(rand_vec[np.arange(0,15,3)])"
   ]
  },
  {
   "cell_type": "code",
   "execution_count": 18,
   "metadata": {},
   "outputs": [
    {
     "name": "stdout",
     "output_type": "stream",
     "text": [
      "[[0.1869261  0.89743932 0.92599989 0.04212799 0.21296529]\n",
      " [0.36511575 0.61779056 0.48164907 0.82231083 0.57688326]\n",
      " [0.76362223 0.36927122 0.05114045 0.4805342  0.43202456]\n",
      " [0.07057861 0.19813983 0.16206295 0.95636975 0.01728677]\n",
      " [0.44651049 0.05701866 0.92027024 0.03756307 0.91624585]]\n",
      "0.4816490674373545\n",
      "0.4816490674373545\n"
     ]
    }
   ],
   "source": [
    "# what about matrices\n",
    "print(rand_mat)\n",
    "print(rand_mat[1][2])\n",
    "print(rand_mat[1,2])\n"
   ]
  },
  {
   "cell_type": "code",
   "execution_count": 19,
   "metadata": {},
   "outputs": [
    {
     "name": "stdout",
     "output_type": "stream",
     "text": [
      "[[0.89743932 0.92599989]\n",
      " [0.61779056 0.48164907]]\n"
     ]
    }
   ],
   "source": [
    "print(rand_mat[0:2,1:3])"
   ]
  },
  {
   "cell_type": "code",
   "execution_count": 20,
   "metadata": {},
   "outputs": [
    {
     "name": "stdout",
     "output_type": "stream",
     "text": [
      "[ 0.16807182 -0.12770002 -0.56447637 -0.2149536   0.53242553 -0.49361422\n",
      "  0.67958578 -0.22220712 -0.05024021  1.80994977 -0.34501288  0.68697229\n",
      " -1.05350906  0.44803643  0.88853382 -2.3871388   1.5340749   0.8592969\n",
      " -0.82479462]\n",
      "\n",
      "[ 0.16807182 -0.12770002 -0.56447637  4.          4.         -0.49361422\n",
      "  0.67958578 -0.22220712 -0.05024021  1.80994977 -0.34501288  0.68697229\n",
      " -1.05350906  0.44803643  0.88853382 -2.3871388   1.5340749   0.8592969\n",
      " -0.82479462]\n",
      "\n",
      "[ 0.16807182 -0.12770002 -0.56447637  1.          2.         -0.49361422\n",
      "  0.67958578 -0.22220712 -0.05024021  1.80994977 -0.34501288  0.68697229\n",
      " -1.05350906  0.44803643  0.88853382 -2.3871388   1.5340749   0.8592969\n",
      " -0.82479462]\n"
     ]
    }
   ],
   "source": [
    "# let's change some values in an array!\n",
    "print(rand_vec)\n",
    "rand_vec[3:5] = 4\n",
    "print('')\n",
    "print(rand_vec)\n",
    "rand_vec[3:5] = [1,2]\n",
    "print('')\n",
    "print(rand_vec)"
   ]
  },
  {
   "cell_type": "code",
   "execution_count": 21,
   "metadata": {},
   "outputs": [
    {
     "name": "stdout",
     "output_type": "stream",
     "text": [
      "[[0.1869261  0.89743932 0.92599989 0.04212799 0.21296529]\n",
      " [0.36511575 0.61779056 0.48164907 0.82231083 0.57688326]\n",
      " [0.76362223 0.36927122 0.05114045 0.4805342  0.43202456]\n",
      " [0.07057861 0.19813983 0.16206295 0.95636975 0.01728677]\n",
      " [0.44651049 0.05701866 0.92027024 0.03756307 0.91624585]]\n",
      "\n",
      "[[0.1869261  0.89743932 0.92599989 0.04212799 0.21296529]\n",
      " [0.36511575 0.61779056 0.48164907 0.         0.        ]\n",
      " [0.76362223 0.36927122 0.05114045 0.         0.        ]\n",
      " [0.07057861 0.19813983 0.16206295 0.95636975 0.01728677]\n",
      " [0.44651049 0.05701866 0.92027024 0.03756307 0.91624585]]\n"
     ]
    }
   ],
   "source": [
    "print(rand_mat)\n",
    "rand_mat[1:3,3:5] = 0\n",
    "print('')\n",
    "print(rand_mat)"
   ]
  },
  {
   "cell_type": "code",
   "execution_count": 22,
   "metadata": {},
   "outputs": [
    {
     "name": "stdout",
     "output_type": "stream",
     "text": [
      "[[0.1869261  0.89743932 0.92599989]\n",
      " [0.36511575 0.61779056 0.48164907]]\n",
      "[[3. 3. 3.]\n",
      " [3. 3. 3.]]\n"
     ]
    }
   ],
   "source": [
    "sub_mat = rand_mat[0:2,0:3]\n",
    "print(sub_mat)\n",
    "sub_mat[:] = 3\n",
    "print(sub_mat)\n"
   ]
  },
  {
   "cell_type": "code",
   "execution_count": 23,
   "metadata": {},
   "outputs": [
    {
     "name": "stdout",
     "output_type": "stream",
     "text": [
      "[[3.         3.         3.         0.04212799 0.21296529]\n",
      " [3.         3.         3.         0.         0.        ]\n",
      " [0.76362223 0.36927122 0.05114045 0.         0.        ]\n",
      " [0.07057861 0.19813983 0.16206295 0.95636975 0.01728677]\n",
      " [0.44651049 0.05701866 0.92027024 0.03756307 0.91624585]]\n"
     ]
    }
   ],
   "source": [
    "print(rand_mat)"
   ]
  },
  {
   "cell_type": "code",
   "execution_count": null,
   "metadata": {},
   "outputs": [],
   "source": [
    "sub_mat2 = rand_mat[0:2,0:3].copy()\n",
    "sub_mat2[:] = 99\n",
    "print(sub_mat2)\n",
    "print(rand_mat)\n"
   ]
  },
  {
   "cell_type": "code",
   "execution_count": null,
   "metadata": {},
   "outputs": [],
   "source": [
    "# break here for next video"
   ]
  },
  {
   "cell_type": "code",
   "execution_count": 24,
   "metadata": {},
   "outputs": [
    {
     "name": "stdout",
     "output_type": "stream",
     "text": [
      "[-2.98157112e+00  1.16931477e+00 -8.17905375e-01  1.56022141e+00\n",
      " -1.56587726e-01  1.34546554e+00 -9.34689612e-01  1.12477236e+00\n",
      " -5.99064744e-01 -3.02248723e-02  6.21822616e-01  2.69008878e+00\n",
      " -4.17321106e-01 -2.27286753e-04 -2.94886526e-01]\n",
      "[False  True False  True False  True False  True False False  True  True\n",
      " False False False]\n",
      "[1.16931477 1.56022141 1.34546554 1.12477236 0.62182262 2.69008878]\n"
     ]
    }
   ],
   "source": [
    "# we can also access entries with logicals\n",
    "rand_vec = np.random.randn(15)\n",
    "\n",
    "print(rand_vec)\n",
    "print(rand_vec>0)\n",
    "print(rand_vec[rand_vec>0])"
   ]
  },
  {
   "cell_type": "code",
   "execution_count": 25,
   "metadata": {},
   "outputs": [
    {
     "name": "stdout",
     "output_type": "stream",
     "text": [
      "[[ 0.56185339  1.70738606  0.16667725  1.57646393 -1.56647736]\n",
      " [ 0.53253121  1.15348794 -0.46133373  0.95470737 -0.13806835]\n",
      " [ 0.06759012  0.4308748   1.13413785 -0.83231868  0.25719968]\n",
      " [-0.67763299  1.12964164 -0.82859044 -1.6359646  -0.59509204]\n",
      " [ 1.29944925 -0.52838233  2.33630218  0.96478253  0.34788099]\n",
      " [-0.2190776  -0.163042    0.90698822  1.04964344 -0.65493404]\n",
      " [-0.31897312 -2.04664918 -0.81438981 -0.8121652  -0.03053575]\n",
      " [ 1.32207256 -1.92857701 -0.43130647  1.2418541  -1.21374914]\n",
      " [ 0.56083461 -0.2414827  -0.21686421 -0.29015129 -1.07859682]\n",
      " [-1.07054591 -1.52347217 -0.06900897  1.20600977 -0.97929696]]\n",
      "[0.56185339 1.70738606 0.16667725 1.57646393 0.53253121 1.15348794\n",
      " 0.95470737 0.06759012 0.4308748  1.13413785 0.25719968 1.12964164\n",
      " 1.29944925 2.33630218 0.96478253 0.34788099 0.90698822 1.04964344\n",
      " 1.32207256 1.2418541  0.56083461 1.20600977]\n"
     ]
    }
   ],
   "source": [
    "print(rand_mat2)\n",
    "print(rand_mat2[rand_mat2>0])"
   ]
  },
  {
   "cell_type": "code",
   "execution_count": 26,
   "metadata": {},
   "outputs": [
    {
     "name": "stdout",
     "output_type": "stream",
     "text": [
      "[-2.98157112e+00  1.16931477e+00 -8.17905375e-01  1.56022141e+00\n",
      " -1.56587726e-01  1.34546554e+00 -9.34689612e-01  1.12477236e+00\n",
      " -5.99064744e-01 -3.02248723e-02  6.21822616e-01  2.69008878e+00\n",
      " -4.17321106e-01 -2.27286753e-04 -2.94886526e-01]\n",
      "\n",
      "[-2.98157112e+00 -5.00000000e+00 -8.17905375e-01 -5.00000000e+00\n",
      " -1.56587726e-01 -5.00000000e+00 -9.34689612e-01 -5.00000000e+00\n",
      " -5.99064744e-01 -3.02248723e-02 -5.00000000e+00 -5.00000000e+00\n",
      " -4.17321106e-01 -2.27286753e-04 -2.94886526e-01]\n"
     ]
    }
   ],
   "source": [
    "\n",
    "print(rand_vec)\n",
    "print('')\n",
    "rand_vec[rand_vec>0.5] = -5\n",
    "print(rand_vec)"
   ]
  },
  {
   "cell_type": "code",
   "execution_count": 27,
   "metadata": {},
   "outputs": [],
   "source": [
    "# let's save some arrays on the disk for use later!\n",
    "np.save('saved_file_name',rand_mat2)\n"
   ]
  },
  {
   "cell_type": "code",
   "execution_count": 28,
   "metadata": {},
   "outputs": [],
   "source": [
    "np.savez('zipped_file_name',rand_mat=rand_mat,rand_mat2=rand_mat2)"
   ]
  },
  {
   "cell_type": "code",
   "execution_count": 29,
   "metadata": {},
   "outputs": [
    {
     "name": "stdout",
     "output_type": "stream",
     "text": [
      "[[ 0.56185339  1.70738606  0.16667725  1.57646393 -1.56647736]\n",
      " [ 0.53253121  1.15348794 -0.46133373  0.95470737 -0.13806835]\n",
      " [ 0.06759012  0.4308748   1.13413785 -0.83231868  0.25719968]\n",
      " [-0.67763299  1.12964164 -0.82859044 -1.6359646  -0.59509204]\n",
      " [ 1.29944925 -0.52838233  2.33630218  0.96478253  0.34788099]\n",
      " [-0.2190776  -0.163042    0.90698822  1.04964344 -0.65493404]\n",
      " [-0.31897312 -2.04664918 -0.81438981 -0.8121652  -0.03053575]\n",
      " [ 1.32207256 -1.92857701 -0.43130647  1.2418541  -1.21374914]\n",
      " [ 0.56083461 -0.2414827  -0.21686421 -0.29015129 -1.07859682]\n",
      " [-1.07054591 -1.52347217 -0.06900897  1.20600977 -0.97929696]]\n",
      "\n",
      "<numpy.lib.npyio.NpzFile object at 0x7fa39eb78bb0>\n"
     ]
    }
   ],
   "source": [
    "# now let's load it\n",
    "loaded_vec = np.load('saved_file_name.npy')\n",
    "loaded_zip = np.load('zipped_file_name.npz')\n",
    "\n",
    "print(loaded_vec)\n",
    "print('')\n",
    "print(loaded_zip)"
   ]
  },
  {
   "cell_type": "code",
   "execution_count": 30,
   "metadata": {},
   "outputs": [
    {
     "name": "stdout",
     "output_type": "stream",
     "text": [
      "[[3.         3.         3.         0.04212799 0.21296529]\n",
      " [3.         3.         3.         0.         0.        ]\n",
      " [0.76362223 0.36927122 0.05114045 0.         0.        ]\n",
      " [0.07057861 0.19813983 0.16206295 0.95636975 0.01728677]\n",
      " [0.44651049 0.05701866 0.92027024 0.03756307 0.91624585]]\n",
      "\n",
      "[[ 0.56185339  1.70738606  0.16667725  1.57646393 -1.56647736]\n",
      " [ 0.53253121  1.15348794 -0.46133373  0.95470737 -0.13806835]\n",
      " [ 0.06759012  0.4308748   1.13413785 -0.83231868  0.25719968]\n",
      " [-0.67763299  1.12964164 -0.82859044 -1.6359646  -0.59509204]\n",
      " [ 1.29944925 -0.52838233  2.33630218  0.96478253  0.34788099]\n",
      " [-0.2190776  -0.163042    0.90698822  1.04964344 -0.65493404]\n",
      " [-0.31897312 -2.04664918 -0.81438981 -0.8121652  -0.03053575]\n",
      " [ 1.32207256 -1.92857701 -0.43130647  1.2418541  -1.21374914]\n",
      " [ 0.56083461 -0.2414827  -0.21686421 -0.29015129 -1.07859682]\n",
      " [-1.07054591 -1.52347217 -0.06900897  1.20600977 -0.97929696]]\n",
      "[[3.         3.         3.         0.04212799 0.21296529]\n",
      " [3.         3.         3.         0.         0.        ]\n",
      " [0.76362223 0.36927122 0.05114045 0.         0.        ]\n",
      " [0.07057861 0.19813983 0.16206295 0.95636975 0.01728677]\n",
      " [0.44651049 0.05701866 0.92027024 0.03756307 0.91624585]]\n"
     ]
    }
   ],
   "source": [
    "print(loaded_zip['rand_mat'])\n",
    "print('')\n",
    "print(loaded_zip['rand_mat2'])\n",
    "\n",
    "new_array  = loaded_zip['rand_mat']\n",
    "print(new_array)"
   ]
  },
  {
   "cell_type": "code",
   "execution_count": 31,
   "metadata": {},
   "outputs": [
    {
     "name": "stdout",
     "output_type": "stream",
     "text": [
      "[[3.         3.         3.         0.04212799 0.21296529]\n",
      " [3.         3.         3.         0.         0.        ]\n",
      " [0.76362223 0.36927122 0.05114045 0.         0.        ]\n",
      " [0.07057861 0.19813983 0.16206295 0.95636975 0.01728677]\n",
      " [0.44651049 0.05701866 0.92027024 0.03756307 0.91624585]]\n",
      "\n",
      "[[3.         3.         3.         0.04212799 0.21296529]\n",
      " [3.         3.         3.         0.         0.        ]\n",
      " [0.76362223 0.36927122 0.05114045 0.         0.        ]\n",
      " [0.07057861 0.19813983 0.16206295 0.95636975 0.01728677]\n",
      " [0.44651049 0.05701866 0.92027024 0.03756307 0.91624585]]\n"
     ]
    }
   ],
   "source": [
    "# we can also save/load as text files...but only single variables\n",
    "np.savetxt('text_file_name.txt',rand_mat,delimiter=',')\n",
    "rand_mat_txt = np.loadtxt('text_file_name.txt',delimiter=',')\n",
    "print(rand_mat)\n",
    "print('')\n",
    "print(rand_mat_txt)"
   ]
  },
  {
   "cell_type": "code",
   "execution_count": null,
   "metadata": {},
   "outputs": [],
   "source": []
  }
 ],
 "metadata": {
  "kernelspec": {
   "display_name": "Python 3",
   "language": "python",
   "name": "python3"
  },
  "language_info": {
   "codemirror_mode": {
    "name": "ipython",
    "version": 3
   },
   "file_extension": ".py",
   "mimetype": "text/x-python",
   "name": "python",
   "nbconvert_exporter": "python",
   "pygments_lexer": "ipython3",
   "version": "3.8.8"
  }
 },
 "nbformat": 4,
 "nbformat_minor": 2
}
