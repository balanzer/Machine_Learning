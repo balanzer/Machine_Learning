{
 "cells": [
  {
   "cell_type": "code",
   "execution_count": 1,
   "id": "2296af7b",
   "metadata": {},
   "outputs": [],
   "source": [
    "import pandas as pd\n",
    "import numpy as np"
   ]
  },
  {
   "cell_type": "code",
   "execution_count": 2,
   "id": "b63482fd",
   "metadata": {},
   "outputs": [],
   "source": [
    "ihg_urls = pd.read_csv('regular_urls.csv')\n",
    "data = ihg_urls"
   ]
  },
  {
   "cell_type": "code",
   "execution_count": 3,
   "id": "32b916c3",
   "metadata": {},
   "outputs": [
    {
     "name": "stdout",
     "output_type": "stream",
     "text": [
      "<class 'pandas.core.frame.DataFrame'>\n",
      "RangeIndex: 18707 entries, 0 to 18706\n",
      "Data columns (total 1 columns):\n",
      " #   Column  Non-Null Count  Dtype \n",
      "---  ------  --------------  ----- \n",
      " 0   URL     18707 non-null  object\n",
      "dtypes: object(1)\n",
      "memory usage: 146.3+ KB\n"
     ]
    }
   ],
   "source": [
    "data.info()"
   ]
  },
  {
   "cell_type": "code",
   "execution_count": 4,
   "id": "8642f995",
   "metadata": {},
   "outputs": [],
   "source": [
    "data['URL'] = data['URL'].astype(str)"
   ]
  },
  {
   "cell_type": "code",
   "execution_count": 8,
   "id": "9ee6e88d",
   "metadata": {},
   "outputs": [],
   "source": [
    "def getPageNames(url):\n",
    "    postLang = None\n",
    "    langPos = url.find(\"/en/\")\n",
    "    pageSubPage = None\n",
    "    if langPos>0: \n",
    "        postLang = (url[(langPos+4):]).split(\"/\")\n",
    "        valLen = len(postLang)\n",
    "        if(valLen==1): \n",
    "            return postLang[0]\n",
    "        else:\n",
    "            return postLang[0]+\":\"+postLang[len(postLang)-1]\n",
    "    \n",
    "    return postLang\n",
    "\n",
    "data[['Page:SubPage']] = data['URL'].apply(lambda x: getPageNames(x))\n",
    "\n",
    "data.to_csv('URLs_and_Page_Names.csv',index=False)"
   ]
  },
  {
   "cell_type": "code",
   "execution_count": 7,
   "id": "3313867b",
   "metadata": {},
   "outputs": [
    {
     "data": {
      "text/plain": [
       "stay-mgmt:submit-a-review                                                                                                                                                                5842\n",
       "stay-mgmt:write-a-review                                                                                                                                                                 2104\n",
       "guest-requests:make                                                                                                                                                                      1194\n",
       "find-hotels:change                                                                                                                                                                         49\n",
       "find-hotels:list                                                                                                                                                                           36\n",
       "                                                                                                                                                                                         ... \n",
       "stay-mgmt:oleary                                                                                                                                                                            1\n",
       "stay-mgmt:Malinouskaya                                                                                                                                                                      1\n",
       "stay-mgmt:Ozbilging                                                                                                                                                                         1\n",
       "enrollment:join#_gl=1*2l3r6r*_gcl_aw*R0NMLjE2MzY4MzcxOTUuQ2owS0NRaUE0YjJNQmhEMkFSSXNBSXJjQi1TdThaemJhRmNnWXZPY1g1eHhaOTRPY2pjRzhjTmZFekZORTdfZ3dfa1VBb2RaWWpUeDhJVWFBc2N6RUFMd193Y0I.       1\n",
       "deals:share-summer                                                                                                                                                                          1\n",
       "Name: Page:SubPage, Length: 7856, dtype: int64"
      ]
     },
     "execution_count": 7,
     "metadata": {},
     "output_type": "execute_result"
    }
   ],
   "source": [
    "data[\"Page:SubPage\"].value_counts()"
   ]
  },
  {
   "cell_type": "code",
   "execution_count": null,
   "id": "dffb9f1b",
   "metadata": {},
   "outputs": [],
   "source": []
  }
 ],
 "metadata": {
  "kernelspec": {
   "display_name": "Python 3",
   "language": "python",
   "name": "python3"
  },
  "language_info": {
   "codemirror_mode": {
    "name": "ipython",
    "version": 3
   },
   "file_extension": ".py",
   "mimetype": "text/x-python",
   "name": "python",
   "nbconvert_exporter": "python",
   "pygments_lexer": "ipython3",
   "version": "3.8.8"
  }
 },
 "nbformat": 4,
 "nbformat_minor": 5
}
