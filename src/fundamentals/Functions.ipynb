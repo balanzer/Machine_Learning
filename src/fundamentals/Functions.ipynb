{
 "cells": [
  {
   "cell_type": "markdown",
   "id": "d971a762",
   "metadata": {},
   "source": [
    "### Functions"
   ]
  },
  {
   "cell_type": "code",
   "execution_count": 3,
   "id": "4c29dbe8",
   "metadata": {},
   "outputs": [],
   "source": [
    "#fuction takes input and does square\n",
    "def calSq(a=1):\n",
    "    \"\"\"this is doc for calSql, Takes an input number and return square\"\"\"\n",
    "    return a**2\n",
    "\n",
    "#fuction takes input and does cube\n",
    "def calCb(a=1):\n",
    "    \"\"\"this is doc for calCb, Takes an input number and return cube\"\"\"\n",
    "    return a**3\n",
    "\n",
    "#fuction takes input and does power i power i \n",
    "def calPower(a=1):\n",
    "    \"\"\"this is doc for calPower, Takes an input number and return self power 2 pow 2, 3 pow 3 n pow n\"\"\"\n",
    "    return a**a"
   ]
  },
  {
   "cell_type": "code",
   "execution_count": 11,
   "id": "d389c81d",
   "metadata": {},
   "outputs": [
    {
     "name": "stdout",
     "output_type": "stream",
     "text": [
      "1 - square is 1, cube is 1, self power is 1\n",
      "2 - square is 4, cube is 8, self power is 4\n",
      "3 - square is 9, cube is 27, self power is 27\n",
      "4 - square is 16, cube is 64, self power is 256\n",
      "5 - square is 25, cube is 125, self power is 3125\n",
      "6 - square is 36, cube is 216, self power is 46656\n",
      "7 - square is 49, cube is 343, self power is 823543\n",
      "8 - square is 64, cube is 512, self power is 16777216\n",
      "9 - square is 81, cube is 729, self power is 387420489\n",
      "\n",
      "\n",
      "Square is this is doc for calSql, Takes an input number and return square\n",
      "<function calCb at 0x7ff7cc37eca0>\n"
     ]
    }
   ],
   "source": [
    "for i in range(1,10,1):\n",
    "    print(f\"{i} - square is {calSq(i)}, cube is {calCb(i)}, self power is {calPower(i)}\")\n",
    "    \n",
    "print(f\"\\n\\nSquare is {calSq.__doc__}\");   \n",
    "\n"
   ]
  },
  {
   "cell_type": "code",
   "execution_count": 15,
   "id": "999e2a38",
   "metadata": {},
   "outputs": [
    {
     "name": "stdout",
     "output_type": "stream",
     "text": [
      "1 - square is 1, cube is 1\n",
      "2 - square is 4, cube is 8\n",
      "3 - square is 9, cube is 27\n",
      "4 - square is 16, cube is 64\n",
      "5 - square is 25, cube is 125\n",
      "6 - square is 36, cube is 216\n",
      "7 - square is 49, cube is 343\n",
      "8 - square is 64, cube is 512\n",
      "9 - square is 81, cube is 729\n"
     ]
    }
   ],
   "source": [
    "\n",
    "lamSq= lambda x : x**2;\n",
    "lamCb= lambda x : x**3;\n",
    "for i in range(1,10,1):\n",
    "    print(f\"{i} - square is {lamSq(i)}, cube is {lamCb(i)}\")\n"
   ]
  },
  {
   "cell_type": "code",
   "execution_count": null,
   "id": "deaeceb0",
   "metadata": {},
   "outputs": [],
   "source": []
  }
 ],
 "metadata": {
  "kernelspec": {
   "display_name": "Python 3",
   "language": "python",
   "name": "python3"
  },
  "language_info": {
   "codemirror_mode": {
    "name": "ipython",
    "version": 3
   },
   "file_extension": ".py",
   "mimetype": "text/x-python",
   "name": "python",
   "nbconvert_exporter": "python",
   "pygments_lexer": "ipython3",
   "version": "3.8.8"
  }
 },
 "nbformat": 4,
 "nbformat_minor": 5
}
