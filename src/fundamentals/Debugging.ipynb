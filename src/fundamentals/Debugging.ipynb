{
 "cells": [
  {
   "cell_type": "markdown",
   "id": "19bc2dfe",
   "metadata": {},
   "source": [
    "## Debugging"
   ]
  },
  {
   "cell_type": "code",
   "execution_count": 1,
   "id": "d5892d9a",
   "metadata": {},
   "outputs": [
    {
     "name": "stdout",
     "output_type": "stream",
     "text": [
      "else\n"
     ]
    }
   ],
   "source": [
    "#if 5=4: #invalid syntax\n",
    "if 5==4:\n",
    "    print('if')\n",
    "else:\n",
    "    print('else')"
   ]
  },
  {
   "cell_type": "code",
   "execution_count": 2,
   "id": "f604f4b1",
   "metadata": {},
   "outputs": [
    {
     "name": "stdout",
     "output_type": "stream",
     "text": [
      "{'var1': 2, 'var2': 3}\n"
     ]
    }
   ],
   "source": [
    "# myDict={var1:2,\"var2\":3} # expect NameError: name 'var1' is not defined\n",
    "\n",
    "myDict={'var1':2,\"var2\":3} \n",
    "print(myDict)"
   ]
  },
  {
   "cell_type": "code",
   "execution_count": 3,
   "id": "1e6ceded",
   "metadata": {},
   "outputs": [
    {
     "name": "stdout",
     "output_type": "stream",
     "text": [
      "0\n",
      "1\n",
      "2\n",
      "3\n",
      "4\n",
      "5\n",
      "6\n",
      "7\n",
      "8\n",
      "9\n"
     ]
    }
   ],
   "source": [
    "#for i in range(10) #SyntaxError: invalid syntax\n",
    "for i in range(10):\n",
    "    print(i)"
   ]
  },
  {
   "cell_type": "code",
   "execution_count": 4,
   "id": "4ecca85b",
   "metadata": {
    "scrolled": true
   },
   "outputs": [
    {
     "name": "stdout",
     "output_type": "stream",
     "text": [
      "1\n",
      "2\n",
      "3\n",
      "4\n",
      "5\n"
     ]
    }
   ],
   "source": [
    "array = [1,2,3,4,5]\n",
    "for j in array:\n",
    "    # print(array[j]) # IndexError: list index out of range, j in array - operate on items not index \n",
    "    # IndexError: list index out of range, j in array - operate on items not index\n",
    "    print(j)"
   ]
  },
  {
   "cell_type": "code",
   "execution_count": 20,
   "id": "c27fa837",
   "metadata": {},
   "outputs": [
    {
     "name": "stdout",
     "output_type": "stream",
     "text": [
      "input array is [1 2 3]\n",
      "mean is 2.0\n",
      "median is 2.0\n"
     ]
    }
   ],
   "source": [
    "import numpy as np\n",
    "npArray = np.array([1,2,3])\n",
    "print(f'input array is {npArray}');\n",
    "print(f'mean is {np.mean(npArray)}')\n",
    "print(f'median is {np.median(npArray)}');\n",
    "\n",
    "      "
   ]
  },
  {
   "cell_type": "code",
   "execution_count": null,
   "id": "27b12029",
   "metadata": {},
   "outputs": [],
   "source": []
  }
 ],
 "metadata": {
  "kernelspec": {
   "display_name": "Python 3",
   "language": "python",
   "name": "python3"
  },
  "language_info": {
   "codemirror_mode": {
    "name": "ipython",
    "version": 3
   },
   "file_extension": ".py",
   "mimetype": "text/x-python",
   "name": "python",
   "nbconvert_exporter": "python",
   "pygments_lexer": "ipython3",
   "version": "3.8.8"
  }
 },
 "nbformat": 4,
 "nbformat_minor": 5
}
