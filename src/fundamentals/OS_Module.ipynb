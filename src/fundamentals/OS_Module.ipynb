{
 "cells": [
  {
   "cell_type": "markdown",
   "id": "d42eccf1",
   "metadata": {},
   "source": [
    "### OS Module"
   ]
  },
  {
   "cell_type": "code",
   "execution_count": 6,
   "id": "e96c85bc",
   "metadata": {
    "scrolled": true
   },
   "outputs": [
    {
     "name": "stdout",
     "output_type": "stream",
     "text": [
      "OS Name : posix\n",
      "working dir /Users/varathm/Documents/workspace/balanzer/gl-pgp-aiml-ba-uta-intl-june21-balanzer/src/fundamentals\n"
     ]
    }
   ],
   "source": [
    "import os \n",
    "\n",
    "print(f'OS Name : {os.name}')\n",
    "print(f'working dir {os.getcwd()}')"
   ]
  },
  {
   "cell_type": "code",
   "execution_count": 7,
   "id": "9a41b143",
   "metadata": {},
   "outputs": [
    {
     "data": {
      "text/plain": [
       "['conditions.ipynb',\n",
       " '.DS_Store',\n",
       " 'intro_to_python_data_types.ipynb',\n",
       " 'flow_control.ipynb',\n",
       " 'Debugging.ipynb',\n",
       " 'functions_2.ipynb',\n",
       " 'Loops.ipynb',\n",
       " 'OOP_in_python.ipynb',\n",
       " 'Functions.ipynb',\n",
       " 'OOPs.ipynb',\n",
       " 'Collections.ipynb',\n",
       " 'Debugging_downloaded.ipynb',\n",
       " 'class.py',\n",
       " 'Animals.py',\n",
       " 'Exceptions.py',\n",
       " '.ipynb_checkpoints',\n",
       " 'OS_Module.ipynb']"
      ]
     },
     "execution_count": 7,
     "metadata": {},
     "output_type": "execute_result"
    }
   ],
   "source": [
    "#list all files in curr dir\n",
    "os.listdir('.')"
   ]
  },
  {
   "cell_type": "code",
   "execution_count": 8,
   "id": "2fcf52e3",
   "metadata": {},
   "outputs": [
    {
     "data": {
      "text/plain": [
       "['demo',\n",
       " 'iOSApps',\n",
       " 'java-getting-started',\n",
       " '.DS_Store',\n",
       " 'gulp',\n",
       " 'cloud-deployments',\n",
       " 'python',\n",
       " 'css',\n",
       " 'gl-pgp-aiml-ba-uta-intl-june21-balanzer',\n",
       " 'Android-Apps',\n",
       " 'java',\n",
       " 'typescript-applications',\n",
       " 'es6',\n",
       " 'javascript-apps',\n",
       " 'spring-rest-data-university',\n",
       " 'vscode',\n",
       " 'react',\n",
       " 'git',\n",
       " 'spring',\n",
       " 'cloud-aws']"
      ]
     },
     "execution_count": 8,
     "metadata": {},
     "output_type": "execute_result"
    }
   ],
   "source": [
    "os.listdir('/Users/varathm/Documents/workspace/balanzer/')"
   ]
  },
  {
   "cell_type": "code",
   "execution_count": 11,
   "id": "4abaed91",
   "metadata": {},
   "outputs": [
    {
     "name": "stdout",
     "output_type": "stream",
     "text": [
      "\\\n"
     ]
    }
   ],
   "source": [
    "x = '\\\\'\n",
    "print(x) # print only \\ becuse like \\n for new line, \\t for tab \\\\ means backslash"
   ]
  },
  {
   "cell_type": "code",
   "execution_count": null,
   "id": "eba5e0b6",
   "metadata": {},
   "outputs": [],
   "source": []
  },
  {
   "cell_type": "code",
   "execution_count": null,
   "id": "47a296d2",
   "metadata": {},
   "outputs": [],
   "source": []
  }
 ],
 "metadata": {
  "kernelspec": {
   "display_name": "Python 3",
   "language": "python",
   "name": "python3"
  },
  "language_info": {
   "codemirror_mode": {
    "name": "ipython",
    "version": 3
   },
   "file_extension": ".py",
   "mimetype": "text/x-python",
   "name": "python",
   "nbconvert_exporter": "python",
   "pygments_lexer": "ipython3",
   "version": "3.8.8"
  }
 },
 "nbformat": 4,
 "nbformat_minor": 5
}
