{
 "cells": [
  {
   "cell_type": "markdown",
   "id": "c0cb7fea",
   "metadata": {},
   "source": [
    "# OOPs in python"
   ]
  },
  {
   "cell_type": "code",
   "execution_count": 7,
   "id": "c422b21d",
   "metadata": {},
   "outputs": [],
   "source": [
    "class car:\n",
    "    def __init__(self, make, model,fuel):\n",
    "        if not (make or model or fuel):\n",
    "            raise TypeError('Invalid Input, Car needs Make, Model and Fuel type')\n",
    "        else:\n",
    "            self.__make=make\n",
    "            self.__model = model\n",
    "            self.__fuel=fuel\n",
    "    def __str__(self):\n",
    "        return f\"Make is {self.__make}, Model({self.__model}) and runs on {self.__fuel}\";\n",
    "\n",
    "    \n",
    "    \n",
    "    "
   ]
  },
  {
   "cell_type": "code",
   "execution_count": 11,
   "id": "4ba0e91f",
   "metadata": {},
   "outputs": [
    {
     "name": "stdout",
     "output_type": "stream",
     "text": [
      "Make is Tesla, Model(X) and runs on Electric\n",
      "Make is Tesla, Model(S) and runs on Electric\n"
     ]
    }
   ],
   "source": [
    "tesla_x = car('Tesla','X','Electric');\n",
    "print(tesla_x)\n",
    "tesla_s = car('Tesla','S','Electric');\n",
    "print(tesla_s)"
   ]
  },
  {
   "cell_type": "code",
   "execution_count": 10,
   "id": "9db902bf",
   "metadata": {},
   "outputs": [
    {
     "data": {
      "text/plain": [
       "'aPPLE'"
      ]
     },
     "execution_count": 10,
     "metadata": {},
     "output_type": "execute_result"
    }
   ],
   "source": [
    "x = 'Apple'\n",
    "x.swapcase()"
   ]
  },
  {
   "cell_type": "code",
   "execution_count": 17,
   "id": "877034fc",
   "metadata": {},
   "outputs": [
    {
     "data": {
      "text/plain": [
       "149"
      ]
     },
     "execution_count": 17,
     "metadata": {},
     "output_type": "execute_result"
    }
   ],
   "source": [
    "import random\n",
    "random.randint(100, 200)"
   ]
  },
  {
   "cell_type": "code",
   "execution_count": 26,
   "id": "7761d654",
   "metadata": {},
   "outputs": [
    {
     "name": "stdout",
     "output_type": "stream",
     "text": [
      "Details for pet Charlie\n",
      "Type: Dog, Color: white, Age: 7, WEIGHT: 20 LBS/9.07 KGS\n",
      "\n",
      "\n",
      "\n",
      "Details for pet Meow\n",
      "Type: Cat, Color: black, Age: 3, WEIGHT: 4.34 LBS/1.97 KGS\n",
      "\n",
      "\n",
      "\n"
     ]
    }
   ],
   "source": [
    "class Pet:\n",
    "    def __init__(self, animalType='',name='', color='',age=0,weightLBS=0):\n",
    "        self._type=animalType\n",
    "        self._name=name\n",
    "        self._color=color\n",
    "        self._age=age\n",
    "        self._weight=round(weightLBS,2)\n",
    "        self._weightKG=self.convertWeightToKG()\n",
    "    def convertWeightToKG(self):\n",
    "        return round(self._weight*0.453692,2)\n",
    "    def describePet(self):\n",
    "        print(f'Details for pet {self._name}')\n",
    "        print(f'Type: {self._type}, Color: {self._color}, Age: {self._age}, WEIGHT: {self._weight} LBS/{self._weightKG} KGS')\n",
    "        print('\\n\\n')\n",
    "    \n",
    "    \n",
    "    \n",
    "pet1 = Pet('Dog','Charlie','white',7,20)\n",
    "pet2 = Pet('Cat','Meow','black',3,4.344)\n",
    "\n",
    "pet1.describePet();\n",
    "pet2.describePet();\n",
    "    "
   ]
  },
  {
   "cell_type": "code",
   "execution_count": null,
   "id": "36d4f35f",
   "metadata": {},
   "outputs": [],
   "source": []
  },
  {
   "cell_type": "code",
   "execution_count": null,
   "id": "0db530ac",
   "metadata": {},
   "outputs": [],
   "source": []
  }
 ],
 "metadata": {
  "kernelspec": {
   "display_name": "Python 3",
   "language": "python",
   "name": "python3"
  },
  "language_info": {
   "codemirror_mode": {
    "name": "ipython",
    "version": 3
   },
   "file_extension": ".py",
   "mimetype": "text/x-python",
   "name": "python",
   "nbconvert_exporter": "python",
   "pygments_lexer": "ipython3",
   "version": "3.8.8"
  }
 },
 "nbformat": 4,
 "nbformat_minor": 5
}
