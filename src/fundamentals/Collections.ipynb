{
 "cells": [
  {
   "cell_type": "markdown",
   "id": "20b81412",
   "metadata": {},
   "source": [
    "## Python Collections"
   ]
  },
  {
   "cell_type": "markdown",
   "id": "7f2e8a11",
   "metadata": {},
   "source": [
    "### List"
   ]
  },
  {
   "cell_type": "code",
   "execution_count": 16,
   "id": "62e9b04f",
   "metadata": {},
   "outputs": [
    {
     "name": "stdout",
     "output_type": "stream",
     "text": [
      "List size : 7, List Content : [1, 2.0, 'Hello', True, False, 3, 6]\n",
      "\n",
      "Listing all items and its type\n",
      "index 0 has content 1 of type <class 'int'>\n",
      "index 1 has content 2.0 of type <class 'float'>\n",
      "index 2 has content Hello of type <class 'str'>\n",
      "index 3 has content True of type <class 'bool'>\n",
      "index 4 has content False of type <class 'bool'>\n",
      "index 5 has content 3 of type <class 'int'>\n",
      "index 6 has content 6 of type <class 'int'>\n",
      "\n",
      "Item at index -1(last entry) is 6\n",
      "items from [2:4] are []\n",
      "fupdating index 3 with value 3.33\n",
      "pop list index 4 item False\n"
     ]
    },
    {
     "ename": "TypeError",
     "evalue": "object of type 'type' has no len()",
     "output_type": "error",
     "traceback": [
      "\u001b[0;31m---------------------------------------------------------------------------\u001b[0m",
      "\u001b[0;31mTypeError\u001b[0m                                 Traceback (most recent call last)",
      "\u001b[0;32m<ipython-input-16-a1b59b8c8fed>\u001b[0m in \u001b[0;36m<module>\u001b[0;34m\u001b[0m\n\u001b[1;32m     23\u001b[0m \u001b[0mprint\u001b[0m\u001b[0;34m(\u001b[0m\u001b[0;34mf\"pop list index 4 item {popItem}\"\u001b[0m\u001b[0;34m)\u001b[0m\u001b[0;34m\u001b[0m\u001b[0;34m\u001b[0m\u001b[0m\n\u001b[1;32m     24\u001b[0m \u001b[0;34m\u001b[0m\u001b[0m\n\u001b[0;32m---> 25\u001b[0;31m \u001b[0;32mfor\u001b[0m \u001b[0mi\u001b[0m \u001b[0;32min\u001b[0m \u001b[0mrange\u001b[0m\u001b[0;34m(\u001b[0m\u001b[0;36m0\u001b[0m\u001b[0;34m,\u001b[0m\u001b[0mlen\u001b[0m\u001b[0;34m(\u001b[0m\u001b[0mlist\u001b[0m\u001b[0;34m)\u001b[0m\u001b[0;34m,\u001b[0m\u001b[0;36m1\u001b[0m\u001b[0;34m)\u001b[0m\u001b[0;34m:\u001b[0m\u001b[0;34m\u001b[0m\u001b[0;34m\u001b[0m\u001b[0m\n\u001b[0m\u001b[1;32m     26\u001b[0m     \u001b[0mprint\u001b[0m\u001b[0;34m(\u001b[0m\u001b[0;34mf\"index {i} has content {list1[i]} of type {type(list1[i])}\"\u001b[0m\u001b[0;34m)\u001b[0m\u001b[0;34m\u001b[0m\u001b[0;34m\u001b[0m\u001b[0m\n",
      "\u001b[0;31mTypeError\u001b[0m: object of type 'type' has no len()"
     ]
    }
   ],
   "source": [
    "list1 = [1,2.0,'Hello',True,False,3,6]\n",
    "\n",
    "print(f\"List size : {len(list1)}, List Content : {list1}\")\n",
    "\n",
    "print(f\"\\nListing all items and its type\");\n",
    "\n",
    "for i in range(0,len(list1),1):\n",
    "    print(f\"index {i} has content {list1[i]} of type {type(list1[i])}\")\n",
    "\n",
    "print(f\"\\nItem at index -1(last entry) is {list1[-1]}\")\n",
    "\n",
    "x = list1[2:1]\n",
    "\n",
    "print(f\"items from [2:1] are {x}\")\n",
    "\n",
    "print(\"fupdating index 3 with value 3.33\")\n",
    "list1[3] = 3.33\n",
    "\n",
    "list1.append('hello world')\n",
    "\n",
    "popItem = list1.pop(4)\n",
    "\n",
    "print(f\"pop list index 4 item {popItem}\")\n",
    "\n",
    "for i in range(0,len(list),1):\n",
    "    print(f\"index {i} has content {list1[i]} of type {type(list1[i])}\")\n"
   ]
  },
  {
   "cell_type": "code",
   "execution_count": null,
   "id": "6a6c856a",
   "metadata": {},
   "outputs": [],
   "source": [
    "#init list with default values\n",
    "\n",
    "repeated_list = [5] * 4;\n",
    "\n",
    "print(f\"repeated_list {repeated_list}\")\n",
    "\n",
    "default_list = ['']*4\n",
    "\n",
    "print(f\"default_list {default_list}\")\n"
   ]
  },
  {
   "cell_type": "code",
   "execution_count": null,
   "id": "d13d28c8",
   "metadata": {},
   "outputs": [],
   "source": [
    "#list inside list \n",
    "\n",
    "list1 = [1,2,3];\n",
    "\n",
    "print(f\"List size : {len(list1)}, List Content : {list1}\")\n",
    "\n",
    "list1[0] = [1,2,3]\n",
    "print(f\"List size : {len(list1)}, List Content : {list1}\")\n",
    "\n",
    "for i in range(0,len(list1),1):\n",
    "    print(f\"index {i} has content {list1[i]} of type {type(list1[i])}\")\n"
   ]
  },
  {
   "cell_type": "markdown",
   "id": "eaffca54",
   "metadata": {},
   "source": [
    "### Tuple"
   ]
  },
  {
   "cell_type": "code",
   "execution_count": null,
   "id": "de698d57",
   "metadata": {},
   "outputs": [],
   "source": [
    "simple__tuple = (1,2,3,4,5)\n",
    "\n",
    "print(f\"Tuple size : {len(simple__tuple)}, Tuple Content : {simple__tuple}\")\n",
    "\n",
    "\n"
   ]
  },
  {
   "cell_type": "code",
   "execution_count": null,
   "id": "7776b475",
   "metadata": {},
   "outputs": [],
   "source": [
    "##updating tuple ends in error - its read only - 'tuple' object does not support item assignment\n",
    "simple__tuple[0] = 1.1;"
   ]
  },
  {
   "cell_type": "code",
   "execution_count": null,
   "id": "61e7fb0f",
   "metadata": {},
   "outputs": [],
   "source": [
    "#tuple to list type casting\n",
    "\n",
    "temp = list(simple__tuple)\n",
    "temp[0] = 1.1\n",
    "simple__tuple = tuple(temp)\n",
    "print(f\"Tuple size : {len(simple__tuple)}, Tuple Content : {simple__tuple}\")"
   ]
  },
  {
   "cell_type": "markdown",
   "id": "c1fe8308",
   "metadata": {},
   "source": [
    "### Set "
   ]
  },
  {
   "cell_type": "code",
   "execution_count": 19,
   "id": "8f306395",
   "metadata": {},
   "outputs": [
    {
     "name": "stdout",
     "output_type": "stream",
     "text": [
      "simple_set size : 4, simple_set Content : {3, 2, 'apple', 4}\n"
     ]
    },
    {
     "ename": "TypeError",
     "evalue": "'set' object is not subscriptable",
     "output_type": "error",
     "traceback": [
      "\u001b[0;31m---------------------------------------------------------------------------\u001b[0m",
      "\u001b[0;31mTypeError\u001b[0m                                 Traceback (most recent call last)",
      "\u001b[0;32m<ipython-input-19-93c99dc05808>\u001b[0m in \u001b[0;36m<module>\u001b[0;34m\u001b[0m\n\u001b[1;32m      3\u001b[0m \u001b[0mprint\u001b[0m\u001b[0;34m(\u001b[0m\u001b[0;34mf\"simple_set size : {len(simple_set)}, simple_set Content : {simple_set}\"\u001b[0m\u001b[0;34m)\u001b[0m\u001b[0;34m\u001b[0m\u001b[0;34m\u001b[0m\u001b[0m\n\u001b[1;32m      4\u001b[0m \u001b[0;34m\u001b[0m\u001b[0m\n\u001b[0;32m----> 5\u001b[0;31m \u001b[0mprint\u001b[0m\u001b[0;34m(\u001b[0m\u001b[0;34mf\"item at index 1 is {simple_set[1]}\"\u001b[0m\u001b[0;34m)\u001b[0m\u001b[0;34m\u001b[0m\u001b[0;34m\u001b[0m\u001b[0m\n\u001b[0m",
      "\u001b[0;31mTypeError\u001b[0m: 'set' object is not subscriptable"
     ]
    }
   ],
   "source": [
    "simple_set = {2,'apple',2,3,4,2,3,'apple'}\n",
    "\n",
    "print(f\"simple_set size : {len(simple_set)}, simple_set Content : {simple_set}\")\n",
    "\n",
    "#print(f\"item at index 1 is {simple_set[1]}\") # ends in error set does not support index access\n"
   ]
  },
  {
   "cell_type": "code",
   "execution_count": 3,
   "id": "cc5eabff",
   "metadata": {},
   "outputs": [
    {
     "name": "stdout",
     "output_type": "stream",
     "text": [
      "is 'apple' present in set? : True\n",
      "is 'water' present in set? : False\n"
     ]
    }
   ],
   "source": [
    "# Check element exists in a collection \n",
    "\n",
    "print(f\"is 'apple' present in set? : {'apple' in simple_set}\")\n",
    "print(f\"is 'water' present in set? : {'water' in simple_set}\")\n",
    "\n"
   ]
  },
  {
   "cell_type": "code",
   "execution_count": 5,
   "id": "5dccd94a",
   "metadata": {},
   "outputs": [
    {
     "name": "stdout",
     "output_type": "stream",
     "text": [
      "simple_set size : 5, simple_set Content : {'hello', 2, 3, 4, 'HELLO'}\n"
     ]
    }
   ],
   "source": [
    "# adding and removing items to set \n",
    "simple_set.add('hello')\n",
    "\n",
    "simple_set.add('HELLO')\n",
    "\n",
    "if 'apple' in simple_set :\n",
    "    simple_set.remove('apple')\n",
    "\n",
    "print(f\"simple_set size : {len(simple_set)}, simple_set Content : {simple_set}\")\n",
    "\n"
   ]
  },
  {
   "cell_type": "markdown",
   "id": "1f52a421",
   "metadata": {},
   "source": [
    "\n",
    "### Dict"
   ]
  },
  {
   "cell_type": "code",
   "execution_count": 10,
   "id": "0290ba14",
   "metadata": {},
   "outputs": [
    {
     "name": "stdout",
     "output_type": "stream",
     "text": [
      "simple_dict size : 3, simple_dict Content : {'apple': 'X', 'samsung': 's10', 'Nokia': '1100'}\n"
     ]
    }
   ],
   "source": [
    "#Key value mapping, no duplicate keys \n",
    "simple_dict = {\"apple\" : \"X\", 'samsung' : \"s20\", \"samsung\" : \"s10\"}\n",
    "simple_dict['Nokia'] = '1100'\n",
    "\n",
    "\n",
    "print(f\"simple_dict size : {len(simple_dict)}, simple_dict Content : {simple_dict}\")\n",
    "\n",
    "\n"
   ]
  },
  {
   "cell_type": "code",
   "execution_count": null,
   "id": "c972076b",
   "metadata": {},
   "outputs": [],
   "source": []
  }
 ],
 "metadata": {
  "kernelspec": {
   "display_name": "Python 3",
   "language": "python",
   "name": "python3"
  },
  "language_info": {
   "codemirror_mode": {
    "name": "ipython",
    "version": 3
   },
   "file_extension": ".py",
   "mimetype": "text/x-python",
   "name": "python",
   "nbconvert_exporter": "python",
   "pygments_lexer": "ipython3",
   "version": "3.8.8"
  }
 },
 "nbformat": 4,
 "nbformat_minor": 5
}
