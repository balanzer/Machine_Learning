{
 "cells": [
  {
   "cell_type": "markdown",
   "id": "250eb5d1",
   "metadata": {},
   "source": [
    "## Condional Statements\n",
    "### IF ELSE ELIF"
   ]
  },
  {
   "cell_type": "code",
   "execution_count": 6,
   "id": "8fd2d56b",
   "metadata": {},
   "outputs": [
    {
     "name": "stdout",
     "output_type": "stream",
     "text": [
      "i less than 20\n"
     ]
    }
   ],
   "source": [
    "i = 10\n",
    "if i < 10 : \n",
    "    print(f\"i less than 10\");\n",
    "elif i<20 : \n",
    "       print(f\"i less than 20\");\n",
    "elif i<30 : \n",
    "       print(f\"i less than 30\");        \n",
    "else:\n",
    "    print(f\"no previous cond is true i value is {i}\")\n",
    "\n",
    "    "
   ]
  },
  {
   "cell_type": "code",
   "execution_count": 16,
   "id": "7cfcdde9",
   "metadata": {},
   "outputs": [
    {
     "name": "stdout",
     "output_type": "stream",
     "text": [
      "input string is [An Apple a Day Keeps the Doctor Away], after removing vowels [n ppl  Dy Kps th Dctr wy]\n"
     ]
    }
   ],
   "source": [
    "strVal = \"An Apple a Day Keeps the Doctor Away\"\n",
    "strVowelsRemoved=\"\";\n",
    "for i in strVal:\n",
    "    if not (i.lower()=='a' or i.lower()=='e' or i.lower()=='i' or i.lower()=='o' or i.lower()=='u') : \n",
    "        strVowelsRemoved = strVowelsRemoved + i\n",
    "        \n",
    "print(f\"input string is [{strVal}], after removing vowels [{strVowelsRemoved}]\")\n",
    "    "
   ]
  },
  {
   "cell_type": "code",
   "execution_count": null,
   "id": "38c0d5a4",
   "metadata": {},
   "outputs": [],
   "source": []
  }
 ],
 "metadata": {
  "kernelspec": {
   "display_name": "Python 3",
   "language": "python",
   "name": "python3"
  },
  "language_info": {
   "codemirror_mode": {
    "name": "ipython",
    "version": 3
   },
   "file_extension": ".py",
   "mimetype": "text/x-python",
   "name": "python",
   "nbconvert_exporter": "python",
   "pygments_lexer": "ipython3",
   "version": "3.8.8"
  }
 },
 "nbformat": 4,
 "nbformat_minor": 5
}
