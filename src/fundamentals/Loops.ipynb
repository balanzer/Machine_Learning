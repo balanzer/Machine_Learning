{
 "cells": [
  {
   "cell_type": "code",
   "execution_count": null,
   "id": "3075c246",
   "metadata": {},
   "outputs": [],
   "source": [
    "simple_list = [1,0,3,4,5,23,4,32,3,2,4,6,7]\n",
    "\n",
    "simple_list.sort();\n",
    "\n",
    "print(f\"total items in list is {len(simple_list)}, items are {simple_list}\")\n"
   ]
  },
  {
   "cell_type": "markdown",
   "id": "7b2d0127",
   "metadata": {},
   "source": [
    "# LOOPS\n",
    "## For & While"
   ]
  },
  {
   "cell_type": "code",
   "execution_count": null,
   "id": "b86e2b14",
   "metadata": {},
   "outputs": [],
   "source": [
    "star = 5\n",
    "\n",
    "\n",
    "for i in range (0, star+1, 1):\n",
    "    for j in range(0, i, 1 ):\n",
    "        print(f\"*\",end='\\t')\n",
    "    print(\"\")    "
   ]
  },
  {
   "cell_type": "code",
   "execution_count": null,
   "id": "c3d10421",
   "metadata": {},
   "outputs": [],
   "source": [
    "for i in simple_list : \n",
    "    print(f\"{i}\")\n",
    "\n",
    "    \n",
    "for counter in range(0, len(simple_list)):   \n",
    "    print(f\"index {counter}  has {simple_list[counter]}\")"
   ]
  },
  {
   "cell_type": "code",
   "execution_count": null,
   "id": "fbc31eec",
   "metadata": {},
   "outputs": [],
   "source": [
    "counter = 0 \n",
    "while(counter<len(simple_list)) : \n",
    "    print(f\"index {counter}  has {simple_list[counter]}\")\n",
    "    counter=counter+1;"
   ]
  },
  {
   "cell_type": "code",
   "execution_count": null,
   "id": "bcfe8a97",
   "metadata": {},
   "outputs": [],
   "source": [
    "print(range(60))"
   ]
  },
  {
   "cell_type": "code",
   "execution_count": null,
   "id": "ba5f88d6",
   "metadata": {},
   "outputs": [],
   "source": [
    "for i in range(2,20,3):print(f\"{i}\")"
   ]
  },
  {
   "cell_type": "code",
   "execution_count": null,
   "id": "f3640297",
   "metadata": {},
   "outputs": [],
   "source": [
    "i=4\n",
    "list(range(2,10,i))\n",
    "\n",
    "for counter in range(2,20,i):\n",
    "    print(f\"{counter}, i is {i}\")\n",
    "\n"
   ]
  },
  {
   "cell_type": "code",
   "execution_count": null,
   "id": "ddad6f10",
   "metadata": {},
   "outputs": [],
   "source": [
    "i=0\n",
    "while i<10:\n",
    "    print(i)\n",
    "    i=i+1"
   ]
  },
  {
   "cell_type": "code",
   "execution_count": null,
   "id": "ee5d243f",
   "metadata": {},
   "outputs": [],
   "source": []
  }
 ],
 "metadata": {
  "kernelspec": {
   "display_name": "Python 3",
   "language": "python",
   "name": "python3"
  },
  "language_info": {
   "codemirror_mode": {
    "name": "ipython",
    "version": 3
   },
   "file_extension": ".py",
   "mimetype": "text/x-python",
   "name": "python",
   "nbconvert_exporter": "python",
   "pygments_lexer": "ipython3",
   "version": "3.8.8"
  }
 },
 "nbformat": 4,
 "nbformat_minor": 5
}
