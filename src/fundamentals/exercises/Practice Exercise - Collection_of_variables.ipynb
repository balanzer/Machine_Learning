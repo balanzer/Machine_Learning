{
 "cells": [
  {
   "cell_type": "markdown",
   "metadata": {},
   "source": [
    "# COLLECTION OF VARIABLES"
   ]
  },
  {
   "cell_type": "markdown",
   "metadata": {},
   "source": [
    "-----------------"
   ]
  },
  {
   "cell_type": "markdown",
   "metadata": {},
   "source": [
    "### 1.Create a list of repeated element (element 2,48 times)"
   ]
  },
  {
   "cell_type": "code",
   "execution_count": 1,
   "metadata": {},
   "outputs": [
    {
     "name": "stdout",
     "output_type": "stream",
     "text": [
      "total items in repeatedList is 48\n"
     ]
    }
   ],
   "source": [
    "repeatedList = [2]*48 # creating item 2,  48 times\n",
    "print(f'total items in repeatedList is {len(repeatedList)}')"
   ]
  },
  {
   "cell_type": "markdown",
   "metadata": {},
   "source": [
    "### 2.Print the second element of the list\n",
    "\n",
    "list = [\"apple\",\"orange\",\"grapes\",\"watermelon\"]"
   ]
  },
  {
   "cell_type": "code",
   "execution_count": 2,
   "metadata": {},
   "outputs": [
    {
     "name": "stdout",
     "output_type": "stream",
     "text": [
      "2nd element at index 1 is orange\n"
     ]
    }
   ],
   "source": [
    "listVals = [\"apple\",\"orange\",\"grapes\",\"watermelon\"]\n",
    "print(f'2nd element at index 1 is {listVals[1]}') # index 0 first element, index 1 2nd element, result will be orange\n"
   ]
  },
  {
   "cell_type": "markdown",
   "metadata": {},
   "source": [
    "### 3.  Replace the second element of the list with \"strawberries\"\n",
    "list = [\"apple\",\"orange\",\"grapes\",\"watermelon\"]"
   ]
  },
  {
   "cell_type": "code",
   "execution_count": 4,
   "metadata": {},
   "outputs": [
    {
     "name": "stdout",
     "output_type": "stream",
     "text": [
      "after replacement 2nd element at index 1 is strawberries\n"
     ]
    }
   ],
   "source": [
    "# index 0 first element, index 1 2nd element, result will be orange\n",
    "listVals = [\"apple\",\"orange\",\"grapes\",\"watermelon\"]\n",
    "listVals[1] = 'strawberries'\n",
    "print(f'after replacement 2nd element at index 1 is {listVals[1]}') #  index 1 2nd element, result will be strawberries\n",
    "\n"
   ]
  },
  {
   "cell_type": "markdown",
   "metadata": {},
   "source": [
    "### 4.Iterate through the list and print the values"
   ]
  },
  {
   "cell_type": "code",
   "execution_count": 5,
   "metadata": {},
   "outputs": [
    {
     "name": "stdout",
     "output_type": "stream",
     "text": [
      "list index 0 has value apple\n",
      "list index 1 has value orange\n",
      "list index 2 has value grapes\n",
      "list index 3 has value watermelon\n"
     ]
    }
   ],
   "source": [
    "listVals = [\"apple\",\"orange\",\"grapes\",\"watermelon\"]\n",
    "\n",
    "for i in range(0, len(listVals),1):\n",
    "    print(f'list index {i} has value {listVals[i]}')"
   ]
  },
  {
   "cell_type": "markdown",
   "metadata": {},
   "source": [
    "### 5.Write a python code to print squares of all numbers present in a list = [1, 12, 24, 36, 11, 20,50]\n"
   ]
  },
  {
   "cell_type": "code",
   "execution_count": 23,
   "metadata": {},
   "outputs": [
    {
     "name": "stdout",
     "output_type": "stream",
     "text": [
      "list index 0 has value 1, square is 1 \n",
      "list index 1 has value 12, square is 144 \n",
      "list index 2 has value 24, square is 576 \n",
      "list index 3 has value 36, square is 1296 \n",
      "list index 4 has value 11, square is 121 \n",
      "list index 5 has value 20, square is 400 \n",
      "list index 6 has value 50, square is 2500 \n"
     ]
    }
   ],
   "source": [
    "listVals = [1, 12, 24, 36, 11, 20,50]\n",
    "sqr = lambda x : x*x # x to do square\n",
    "\n",
    "for i in range(0, len(listVals),1):\n",
    "    print(f'list index {i} has value {listVals[i]}, square is {sqr(listVals[i])} ')"
   ]
  },
  {
   "cell_type": "markdown",
   "metadata": {},
   "source": [
    "### 6.Pop yellow color from the list below:\n",
    "List=['white','red', 'blue', 'green','blue','yellow', 'black']"
   ]
  },
  {
   "cell_type": "code",
   "execution_count": 11,
   "metadata": {},
   "outputs": [
    {
     "name": "stdout",
     "output_type": "stream",
     "text": [
      "list before pop ['white', 'red', 'blue', 'green', 'blue', 'yellow', 'black']\n",
      "list after pop ['white', 'red', 'blue', 'green', 'blue', 'black'], pop item yellow\n"
     ]
    }
   ],
   "source": [
    "listVals=['white','red', 'blue', 'green','blue','yellow', 'black']\n",
    "\n",
    "print(f'list before pop {listVals}')\n",
    "\n",
    "popValue = listVals.pop(listVals.index('yellow'))\n",
    "\n",
    "print(f'list after pop {listVals}, pop item {popValue}')\n",
    "\n"
   ]
  },
  {
   "cell_type": "markdown",
   "metadata": {},
   "source": [
    "### 7. Check length of list\n",
    "\n",
    "list=[\"a\",\"b\",\"c\",\"d\",\"e\"]"
   ]
  },
  {
   "cell_type": "code",
   "execution_count": 12,
   "metadata": {},
   "outputs": [
    {
     "name": "stdout",
     "output_type": "stream",
     "text": [
      "list ['a', 'b', 'c', 'd', 'e'] length is 5\n"
     ]
    }
   ],
   "source": [
    "listVals=[\"a\",\"b\",\"c\",\"d\",\"e\"]\n",
    "\n",
    "print(f'list {listVals} length is {len(listVals)}')"
   ]
  },
  {
   "cell_type": "markdown",
   "metadata": {},
   "source": [
    "###  8.Create a dictionary with the following information:\n",
    "\n",
    "brand = Audi\n",
    "\n",
    "Model = Q2\n",
    "\n",
    "Year = 1980"
   ]
  },
  {
   "cell_type": "code",
   "execution_count": 17,
   "metadata": {},
   "outputs": [
    {
     "name": "stdout",
     "output_type": "stream",
     "text": [
      "{'brand': 'Audi', 'Model': 'Q2', 'Year': '1980'}\n"
     ]
    }
   ],
   "source": [
    "dictCars = {'brand':'Audi', 'Model':'Q2', 'Year':'1980'}\n",
    "print(dictCars)\n",
    "\n"
   ]
  },
  {
   "cell_type": "markdown",
   "metadata": {},
   "source": [
    "### 9.In the above dictionary change the year to 2019"
   ]
  },
  {
   "cell_type": "code",
   "execution_count": 16,
   "metadata": {},
   "outputs": [
    {
     "name": "stdout",
     "output_type": "stream",
     "text": [
      "before updating year {'brand': 'Audi', 'Model': 'Q2', 'Year': '1980'}\n",
      "after updating year {'brand': 'Audi', 'Model': 'Q2', 'Year': 2019}\n"
     ]
    }
   ],
   "source": [
    "dictCars = {'brand':'Audi', 'Model':'Q2', 'Year':'1980'}\n",
    "print(f'before updating year {dictCars}')\n",
    "dictCars['Year'] = 2019\n",
    "print(f'after updating year {dictCars}')"
   ]
  },
  {
   "cell_type": "markdown",
   "metadata": {},
   "source": [
    "### 10. Create a set of following elements\n",
    "\n",
    "1.0, \"Hello\", 55 , (6,7,8)"
   ]
  },
  {
   "cell_type": "code",
   "execution_count": 21,
   "metadata": {},
   "outputs": [
    {
     "name": "stdout",
     "output_type": "stream",
     "text": [
      "set values {'Hello', (6, 7, 8), 55}\n",
      "value is Hello, type is <class 'str'>\n",
      "value is (6, 7, 8), type is <class 'tuple'>\n",
      "value is 55, type is <class 'int'>\n"
     ]
    }
   ],
   "source": [
    "setVals = {\"Hello\",55, (6,7,8)}\n",
    "print(f'set values {setVals}')\n",
    "           \n",
    "for i in setVals:\n",
    "    print(f'value is {i}, type is {type(i)}')       \n"
   ]
  },
  {
   "cell_type": "code",
   "execution_count": null,
   "metadata": {},
   "outputs": [],
   "source": []
  }
 ],
 "metadata": {
  "kernelspec": {
   "display_name": "Python 3",
   "language": "python",
   "name": "python3"
  },
  "language_info": {
   "codemirror_mode": {
    "name": "ipython",
    "version": 3
   },
   "file_extension": ".py",
   "mimetype": "text/x-python",
   "name": "python",
   "nbconvert_exporter": "python",
   "pygments_lexer": "ipython3",
   "version": "3.8.8"
  }
 },
 "nbformat": 4,
 "nbformat_minor": 4
}
