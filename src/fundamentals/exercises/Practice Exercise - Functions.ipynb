{
 "cells": [
  {
   "cell_type": "markdown",
   "metadata": {},
   "source": [
    "# USER DEFINED FUNCTION AND LAMBDA FUNCTIONS EXERCISE"
   ]
  },
  {
   "cell_type": "markdown",
   "metadata": {},
   "source": [
    "------------"
   ]
  },
  {
   "cell_type": "markdown",
   "metadata": {},
   "source": [
    "### 1.Write a function to add, subtract, multiply and divide two variables passed to it and print the result "
   ]
  },
  {
   "cell_type": "code",
   "execution_count": 2,
   "metadata": {},
   "outputs": [
    {
     "name": "stdout",
     "output_type": "stream",
     "text": [
      "input numbers are 10,3\n",
      "Results:\n",
      "add: 13\n",
      "subract: 7\n",
      "multiply: 30\n",
      "divide: 3\n"
     ]
    }
   ],
   "source": [
    "add = lambda x,y : x+y\n",
    "subract = lambda x,y : x-y\n",
    "multiply = lambda x,y : x*y\n",
    "divide = lambda x,y : x//y\n",
    "\n",
    "a=10\n",
    "b=3\n",
    "\n",
    "print(f'input numbers are {a},{b}')\n",
    "print(f'Results:')\n",
    "print(f'add: {add(a,b)}')\n",
    "print(f'subract: {subract(a,b)}')\n",
    "print(f'multiply: {multiply(a,b)}')\n",
    "print(f'divide: {divide(a,b)}')\n"
   ]
  },
  {
   "cell_type": "markdown",
   "metadata": {},
   "source": [
    "### 2.Write a Python function given range (1,10) both included, that gives the square of every number"
   ]
  },
  {
   "cell_type": "code",
   "execution_count": 3,
   "metadata": {},
   "outputs": [
    {
     "name": "stdout",
     "output_type": "stream",
     "text": [
      "1 square is 1\n",
      "2 square is 4\n",
      "3 square is 9\n",
      "4 square is 16\n",
      "5 square is 25\n",
      "6 square is 36\n",
      "7 square is 49\n",
      "8 square is 64\n",
      "9 square is 81\n",
      "10 square is 100\n"
     ]
    }
   ],
   "source": [
    "sqr = lambda x:x**2\n",
    "\n",
    "for i in range (1,11,1):\n",
    "    print(f'{i} square is {sqr(i)}')"
   ]
  },
  {
   "cell_type": "markdown",
   "metadata": {},
   "source": [
    "### 3.Write a function to calculate simple interest\n",
    "\n",
    "simple interest = (Principal amount * Annual Rate of interest * Time(in years))/100\n",
    "\n",
    "Take values as follows\n",
    "\n",
    "Principal Amount = 1000\n",
    "\n",
    "Rate of interest = 3%\n",
    "\n",
    "Time = 5 years"
   ]
  },
  {
   "cell_type": "code",
   "execution_count": 13,
   "metadata": {},
   "outputs": [
    {
     "name": "stdout",
     "output_type": "stream",
     "text": [
      "intrest 150.0\n"
     ]
    }
   ],
   "source": [
    "def calculateIntrest(principal, intrestRate, years):\n",
    "    if not( principal and intrestRate and years):\n",
    "        raise TypeError('invalid inputs')\n",
    "    else:\n",
    "        return ((principal*intrestRate*years)/100)\n",
    "        \n",
    "        \n",
    "principal=1000\n",
    "intrestRate = 3\n",
    "years = 5\n",
    "\n",
    "intrest = calculateIntrest(principal,intrestRate,years)\n",
    "\n",
    "print(f'intrest {intrest}')"
   ]
  },
  {
   "cell_type": "markdown",
   "metadata": {},
   "source": [
    "### 4. Write a function to check the number is divisible by 25. The function should return True if divisible and \"Not divisible\" if not"
   ]
  },
  {
   "cell_type": "code",
   "execution_count": 16,
   "metadata": {},
   "outputs": [
    {
     "name": "stdout",
     "output_type": "stream",
     "text": [
      "50 on 25 True\n",
      "51 on 25 Not Divisible\n"
     ]
    }
   ],
   "source": [
    "def divisibleBy25(num):\n",
    "    if num %25==0:\n",
    "        return True;\n",
    "    else:\n",
    "        return \"Not Divisible\"\n",
    "    \n",
    "print(f'50 on 25 {divisibleBy25(50)}')   \n",
    "print(f'51 on 25 {divisibleBy25(51)}')   "
   ]
  },
  {
   "cell_type": "markdown",
   "metadata": {},
   "source": [
    "### 5.Define a function that takes an input, squares it, adds 5, then returns the answer"
   ]
  },
  {
   "cell_type": "code",
   "execution_count": 19,
   "metadata": {},
   "outputs": [
    {
     "name": "stdout",
     "output_type": "stream",
     "text": [
      "checking 5 should result in 30, ans: 30\n",
      "checking 2 should result in 9, ans: 9\n"
     ]
    }
   ],
   "source": [
    "sqrAndAdd5 = lambda x:(x**2)+5\n",
    "\n",
    "print(f'checking 5 should result in 30, ans: {sqrAndAdd5(5)}')  \n",
    "print(f'checking 2 should result in 9, ans: {sqrAndAdd5(2)}')  "
   ]
  },
  {
   "cell_type": "markdown",
   "metadata": {},
   "source": [
    "### 6.Using lambda function perform the following task : take an input, squares it, add 5, then return the answer"
   ]
  },
  {
   "cell_type": "code",
   "execution_count": 20,
   "metadata": {},
   "outputs": [
    {
     "name": "stdout",
     "output_type": "stream",
     "text": [
      "checking 5 should result in 30, ans: 30\n",
      "checking 2 should result in 9, ans: 9\n"
     ]
    }
   ],
   "source": [
    "sqrAndAdd5 = lambda x:(x**2)+5\n",
    "\n",
    "print(f'checking 5 should result in 30, ans: {sqrAndAdd5(5)}')  \n",
    "print(f'checking 2 should result in 9, ans: {sqrAndAdd5(2)}')  "
   ]
  },
  {
   "cell_type": "markdown",
   "metadata": {},
   "source": [
    "### 7. Write a function to calculate the power of a number raised to other ($a^b$)"
   ]
  },
  {
   "cell_type": "code",
   "execution_count": 22,
   "metadata": {},
   "outputs": [
    {
     "name": "stdout",
     "output_type": "stream",
     "text": [
      "5**2 : 25\n",
      "4**3 : 64\n"
     ]
    }
   ],
   "source": [
    "power = lambda x,y:(x**y)\n",
    "\n",
    "print(f'5**2 : {power(5,2)}')  \n",
    "print(f'4**3 : {power(4,3)}')  "
   ]
  },
  {
   "cell_type": "markdown",
   "metadata": {},
   "source": [
    "### 8. Write a function to calculate the area of a triangle\n",
    "\n",
    "area of triangle = 1/2 * base * height"
   ]
  },
  {
   "cell_type": "code",
   "execution_count": 23,
   "metadata": {},
   "outputs": [
    {
     "name": "stdout",
     "output_type": "stream",
     "text": [
      "area of triangle for 5,2 : 5.0\n"
     ]
    }
   ],
   "source": [
    "area = lambda x,y:(1/2)*(x*y)\n",
    "\n",
    "print(f'area of triangle for 5,2 : {area(5,2)}') "
   ]
  },
  {
   "cell_type": "markdown",
   "metadata": {},
   "source": [
    "### 9. Create a function that takes country as the input and returns \"I am from *Country* \""
   ]
  },
  {
   "cell_type": "code",
   "execution_count": 24,
   "metadata": {},
   "outputs": [
    {
     "name": "stdout",
     "output_type": "stream",
     "text": [
      "I am from usa\n"
     ]
    }
   ],
   "source": [
    "misc = lambda country: \"I am from \"+country\n",
    "\n",
    "\n",
    "print(misc('usa'))"
   ]
  },
  {
   "cell_type": "markdown",
   "metadata": {},
   "source": [
    "### 10. Write a function to convert degree Celsius temperature to Fahrenheit"
   ]
  },
  {
   "cell_type": "code",
   "execution_count": 27,
   "metadata": {},
   "outputs": [
    {
     "name": "stdout",
     "output_type": "stream",
     "text": [
      "45 is 113.0\n",
      "0 is 32.0\n",
      "-10 is 14.0\n"
     ]
    }
   ],
   "source": [
    "convert = lambda x: (x*(9/5)) + 32\n",
    "\n",
    "print(f'45 is {convert(45)}')\n",
    "print(f'0 is {convert(0)}')\n",
    "print(f'-10 is {convert(-10)}')"
   ]
  },
  {
   "cell_type": "code",
   "execution_count": null,
   "metadata": {},
   "outputs": [],
   "source": []
  }
 ],
 "metadata": {
  "kernelspec": {
   "display_name": "Python 3",
   "language": "python",
   "name": "python3"
  },
  "language_info": {
   "codemirror_mode": {
    "name": "ipython",
    "version": 3
   },
   "file_extension": ".py",
   "mimetype": "text/x-python",
   "name": "python",
   "nbconvert_exporter": "python",
   "pygments_lexer": "ipython3",
   "version": "3.8.8"
  }
 },
 "nbformat": 4,
 "nbformat_minor": 4
}
