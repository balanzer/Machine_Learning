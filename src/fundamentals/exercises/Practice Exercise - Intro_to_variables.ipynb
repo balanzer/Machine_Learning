{
 "cells": [
  {
   "cell_type": "markdown",
   "metadata": {},
   "source": [
    "# INTRO TO VARIABLE EXERCISE"
   ]
  },
  {
   "cell_type": "markdown",
   "metadata": {},
   "source": [
    "---------------------"
   ]
  },
  {
   "cell_type": "markdown",
   "metadata": {},
   "source": [
    "### 1. What will be the type of the *add* variable?\n",
    "a = 10\n",
    "\n",
    "b = 5.1\n",
    "\n",
    "add = a + b"
   ]
  },
  {
   "cell_type": "code",
   "execution_count": 2,
   "metadata": {},
   "outputs": [
    {
     "name": "stdout",
     "output_type": "stream",
     "text": [
      "type of add variable is <class 'float'>\n"
     ]
    }
   ],
   "source": [
    "a = 10\n",
    "b = 5.1\n",
    "add = a + b # adding int and float result in float output\n",
    "# use type of find variable type, since b is float type, add variable will be float type\n",
    "print(f'type of add variable is {type(add)}')"
   ]
  },
  {
   "cell_type": "markdown",
   "metadata": {},
   "source": [
    "### 2. Is 5 == (3+2)?"
   ]
  },
  {
   "cell_type": "code",
   "execution_count": 4,
   "metadata": {},
   "outputs": [
    {
     "name": "stdout",
     "output_type": "stream",
     "text": [
      "True\n",
      "3+2=5\n"
     ]
    }
   ],
   "source": [
    "#adding 2 integers 3 and 2 will result in 5, so 5==3+2 will be true, you can simply use 5==(3+2) or use in a if else\n",
    "\n",
    "print(5==(3+2)) #should print True in console\n",
    "\n",
    "# or \n",
    "\n",
    "if 5 == (3+2) : \n",
    "    print('3+2=5') # should print this \n",
    "else:\n",
    "    print('not equals')"
   ]
  },
  {
   "cell_type": "markdown",
   "metadata": {},
   "source": [
    "### 3. Add 33 in variable *a* and print the result\n",
    "\n",
    "a = 3"
   ]
  },
  {
   "cell_type": "code",
   "execution_count": 5,
   "metadata": {},
   "outputs": [
    {
     "name": "stdout",
     "output_type": "stream",
     "text": [
      "36\n"
     ]
    }
   ],
   "source": [
    "a = 3 \n",
    "print(a+33) # adding 33 to variable a and printing result, should print 36"
   ]
  },
  {
   "cell_type": "markdown",
   "metadata": {},
   "source": [
    "### 4. Convert integer variable *a* to float and check its type\n",
    "\n",
    "a = 3"
   ]
  },
  {
   "cell_type": "code",
   "execution_count": 7,
   "metadata": {},
   "outputs": [
    {
     "name": "stdout",
     "output_type": "stream",
     "text": [
      "Type of a before type casting is <class 'int'>, value of a is 3\n",
      "Type of a after type casting is <class 'float'>, value of a is 3.0\n"
     ]
    }
   ],
   "source": [
    "a=3 # a is int type now \n",
    "print(f'Type of a before type casting is {type(a)}, value of a is {a}')\n",
    "#convert a to float type, ends in 3.0\n",
    "a=float(a)\n",
    "print(f'Type of a after type casting is {type(a)}, value of a is {a}')"
   ]
  },
  {
   "cell_type": "markdown",
   "metadata": {},
   "source": [
    "### 5. What will be 5 times *a* if the value of a is 10?"
   ]
  },
  {
   "cell_type": "code",
   "execution_count": 8,
   "metadata": {},
   "outputs": [
    {
     "name": "stdout",
     "output_type": "stream",
     "text": [
      "50\n"
     ]
    }
   ],
   "source": [
    "a=10\n",
    "#5 times a, which is 5 times 10, using multuiply operation 5*10, result should be 5-\n",
    "\n",
    "print(5*10)"
   ]
  },
  {
   "cell_type": "markdown",
   "metadata": {},
   "source": [
    "### 6. Write a program to calculate the area of a triangle with base = 10 and height = 5\n",
    "\n",
    "Hint : area of triangle = 1/2 * base * height"
   ]
  },
  {
   "cell_type": "code",
   "execution_count": 10,
   "metadata": {},
   "outputs": [
    {
     "name": "stdout",
     "output_type": "stream",
     "text": [
      "area of triangle for given base 10, height 5 is area : 25.0\n"
     ]
    }
   ],
   "source": [
    "base = 10\n",
    "height = 5\n",
    "\n",
    "area = (1/2) * base * height # area calculation\n",
    "\n",
    "print(f'area of triangle for given base {base}, height {height} is area : {area}')"
   ]
  },
  {
   "cell_type": "markdown",
   "metadata": {},
   "source": [
    "### 7. What will be the value of *z* in the following expression:\n",
    "\n",
    "z = (v + w) * (x / y)\n",
    "\n",
    "If \n",
    "\n",
    "v = 10\n",
    "\n",
    "w = 25\n",
    "\n",
    "x = 70\n",
    "\n",
    "y = 2"
   ]
  },
  {
   "cell_type": "code",
   "execution_count": 13,
   "metadata": {},
   "outputs": [
    {
     "name": "stdout",
     "output_type": "stream",
     "text": [
      "z value is 1225.0\n"
     ]
    }
   ],
   "source": [
    "v = 10\n",
    "w = 25\n",
    "x = 70\n",
    "y = 2\n",
    "\n",
    "z = (v + w) * (x / y) # first v+w since its in bracket which is 35, then x/y which is 35 and finally \n",
    "# z assigned with value 35*35 \n",
    "\n",
    "print(f'z value is {z}')\n"
   ]
  },
  {
   "cell_type": "markdown",
   "metadata": {},
   "source": [
    "### 8. Swap values of *a* and *b* \n",
    "If before swapping a = 10 and b = 5\n",
    "\n",
    "Then after swapping a = 5 and b = 10\n",
    "##### Values can not be hardcoded"
   ]
  },
  {
   "cell_type": "code",
   "execution_count": 14,
   "metadata": {},
   "outputs": [
    {
     "name": "stdout",
     "output_type": "stream",
     "text": [
      "before swapping a is 10, b is 5\n",
      "after swapping a is 5, b is 10\n"
     ]
    }
   ],
   "source": [
    "a = 10\n",
    "b = 5 \n",
    "\n",
    "# swaping values \n",
    "print(f'before swapping a is {a}, b is {b}')\n",
    "a = a - b\n",
    "b = a + b\n",
    "print(f'after swapping a is {a}, b is {b}')"
   ]
  },
  {
   "cell_type": "markdown",
   "metadata": {},
   "source": [
    "### 9. Convert 35 degree Celsius temperature to Fahrenheit"
   ]
  },
  {
   "cell_type": "code",
   "execution_count": 15,
   "metadata": {},
   "outputs": [
    {
     "name": "stdout",
     "output_type": "stream",
     "text": [
      "celsius is 35, convered fahrenheit is 95.0\n"
     ]
    }
   ],
   "source": [
    "celsius = 35\n",
    "\n",
    "# calculation to convert celsius to fahrenheit is (35°C × 9/5) + 32 = result in fahrenheit\n",
    "\n",
    "\n",
    "fahrenheit = (celsius * (9/5)) + 32\n",
    "\n",
    "print(f'celsius is {celsius}, convered fahrenheit is {fahrenheit}')"
   ]
  },
  {
   "cell_type": "markdown",
   "metadata": {},
   "source": [
    "-------------"
   ]
  }
 ],
 "metadata": {
  "kernelspec": {
   "display_name": "Python 3",
   "language": "python",
   "name": "python3"
  },
  "language_info": {
   "codemirror_mode": {
    "name": "ipython",
    "version": 3
   },
   "file_extension": ".py",
   "mimetype": "text/x-python",
   "name": "python",
   "nbconvert_exporter": "python",
   "pygments_lexer": "ipython3",
   "version": "3.8.8"
  }
 },
 "nbformat": 4,
 "nbformat_minor": 4
}
