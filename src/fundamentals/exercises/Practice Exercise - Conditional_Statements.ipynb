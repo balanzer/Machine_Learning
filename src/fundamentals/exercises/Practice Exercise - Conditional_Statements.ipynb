{
 "cells": [
  {
   "cell_type": "markdown",
   "metadata": {},
   "source": [
    "# CONDITIONAL STATEMENTS EXERCISE"
   ]
  },
  {
   "cell_type": "markdown",
   "metadata": {},
   "source": [
    "---------------"
   ]
  },
  {
   "cell_type": "markdown",
   "metadata": {},
   "source": [
    "### 1. Check if a is equal to 10, If yes, print \"Hello\", else print \"Good Bye\"\n",
    "a = 56"
   ]
  },
  {
   "cell_type": "code",
   "execution_count": 2,
   "metadata": {},
   "outputs": [
    {
     "name": "stdout",
     "output_type": "stream",
     "text": [
      "Hello\n"
     ]
    }
   ],
   "source": [
    "a = 10\n",
    "\n",
    "if a == 10:\n",
    "    print('Hello')\n",
    "else:\n",
    "    print(\"Good Bye\")\n",
    "    \n",
    "    \n",
    "    "
   ]
  },
  {
   "cell_type": "markdown",
   "metadata": {},
   "source": [
    "### 2. Check whether a number is even or odd\n",
    "a = 2020"
   ]
  },
  {
   "cell_type": "code",
   "execution_count": 4,
   "metadata": {},
   "outputs": [
    {
     "name": "stdout",
     "output_type": "stream",
     "text": [
      "2021 is odd\n"
     ]
    }
   ],
   "source": [
    "a = 2021\n",
    "if a%2==0:\n",
    "    print(f'{a} is even')\n",
    "else:\n",
    "    print(f'{a} is odd')"
   ]
  },
  {
   "cell_type": "markdown",
   "metadata": {},
   "source": [
    "### 3.  Check whether the area of the rectangle is greater than the perimeter of the rectangle\n",
    "length = 5\n",
    "breadth = 10\n",
    "\n",
    "Hint: Area of rectangle = length * breadth \n",
    "\n",
    "Hint: Perimeter of rectangle = 2 * (length + breadth)"
   ]
  },
  {
   "cell_type": "code",
   "execution_count": 8,
   "metadata": {},
   "outputs": [
    {
     "name": "stdout",
     "output_type": "stream",
     "text": [
      "length 5, breadth 4, area 20, perimeter 18\n",
      "area is greater than perimeter\n"
     ]
    }
   ],
   "source": [
    "length=5\n",
    "breadth=4\n",
    "\n",
    "area = length*breadth\n",
    "perimeter = 2*(length+breadth)\n",
    "\n",
    "print(f'length {length}, breadth {breadth}, area {area}, perimeter {perimeter}')\n",
    "\n",
    "if(area>perimeter):\n",
    "    print('area is greater than perimeter')\n",
    "else:\n",
    "     print('area is not greater than perimeter')\n"
   ]
  },
  {
   "cell_type": "markdown",
   "metadata": {},
   "source": [
    "### 4.Calculate the average marks of a student in 5 subjects and give grades accordingly:\n",
    "If average>90 then Grade = A\n",
    "\n",
    "If average>80 then Grade = B\n",
    "\n",
    "If average>70 then Grade = C\n",
    "\n",
    "If average>60 then Grade = D\n",
    "\n",
    "If average>50 then Grade = E\n",
    "\n",
    "else Fail\n",
    "\n",
    "Marks in subject 1= 72\n",
    "\n",
    "Marks in subject 2= 85\n",
    "\n",
    "Marks in subject 3= 96\n",
    "\n",
    "Marks in subject 4= 42\n",
    "\n",
    "Marks in subject 5= 95"
   ]
  },
  {
   "cell_type": "code",
   "execution_count": 16,
   "metadata": {},
   "outputs": [
    {
     "name": "stdout",
     "output_type": "stream",
     "text": [
      "Marks : [72 85 12 42 12]\n",
      "Avg : 44.6\n",
      "Student got grade F\n"
     ]
    }
   ],
   "source": [
    "import numpy as np\n",
    "#marksInSubjects = np.array([72,85,96,42,95])\n",
    "marksInSubjects = np.array([72,85,12,42,12])\n",
    "\n",
    "print(f'Marks : {marksInSubjects}')\n",
    "\n",
    "avg = np.average(marksInSubjects)\n",
    "grade=''\n",
    "print(f'Avg : {avg}')\n",
    "\n",
    "if(avg>90):\n",
    "    grade='A'\n",
    "elif(avg>80):\n",
    "    grade='B'\n",
    "elif(avg>70):\n",
    "    grade='C'\n",
    "elif(avg>60):\n",
    "    grade='D'\n",
    "elif(avg>50):\n",
    "    grade='E'    \n",
    "else:\n",
    "    grade='F'\n",
    "    \n",
    "    \n",
    "print(f'Student got grade {grade}')    \n"
   ]
  },
  {
   "cell_type": "markdown",
   "metadata": {},
   "source": [
    "###  5.check if a triangle is equilateral, isosceles or scalene.\n",
    "\n",
    "Hint :\n",
    "1. An equilateral triangle is a triangle in which all three sides are equal.\n",
    "\n",
    "2. A scalene triangle is a triangle that has three unequal sides.\n",
    "\n",
    "3. An isosceles triangle is a triangle with (at least) two equal sides.\n",
    "\n",
    "Dimensions of triangle:\n",
    "\n",
    "side 1 = 6 \n",
    "\n",
    "side 2 = 8 \n",
    "\n",
    "side 3 = 12"
   ]
  },
  {
   "cell_type": "code",
   "execution_count": 27,
   "metadata": {},
   "outputs": [
    {
     "name": "stdout",
     "output_type": "stream",
     "text": [
      "Triangle Type equilateral\n"
     ]
    }
   ],
   "source": [
    "#should print scalene\n",
    "#triSide1=6\n",
    "#triSide2=8\n",
    "#triSide3=12\n",
    "\n",
    "#should print isosceles\n",
    "#triSide1=6\n",
    "#triSide2=12\n",
    "#triSide3=12\n",
    "\n",
    "#should print isosceles\n",
    "triSide1=7\n",
    "triSide2=7\n",
    "triSide3=7\n",
    "\n",
    "\n",
    "triangleType=''\n",
    "\n",
    "if(triSide1==triSide2 and triSide1==triSide3):\n",
    "    triangleType = 'equilateral'\n",
    "elif(triSide1==triSide2 or triSide1==triSide3 or triSide2==triSide3):\n",
    "    triangleType=  'isosceles'\n",
    "else:\n",
    "    triangleType= 'scalene'\n",
    "    \n",
    "    \n",
    "print(f'Triangle Type {triangleType}')"
   ]
  },
  {
   "cell_type": "markdown",
   "metadata": {},
   "source": [
    "### 6. Check if the word \"Data\" is present in the sentence \"I am a Data Scientist\". If found print \"It is present\" else print FALSE"
   ]
  },
  {
   "cell_type": "code",
   "execution_count": 35,
   "metadata": {},
   "outputs": [
    {
     "name": "stdout",
     "output_type": "stream",
     "text": [
      "It is present\n"
     ]
    }
   ],
   "source": [
    "strInput = 'i am a Data Scientist'\n",
    "findStr='DATA'\n",
    "\n",
    "searchResult = strInput.lower().find(findStr.lower())\n",
    "\n",
    "if(searchResult!=-1):\n",
    "    print('It is present')\n",
    "else:\n",
    "    print('FALSE')"
   ]
  },
  {
   "cell_type": "markdown",
   "metadata": {},
   "source": [
    "### 7. Write python code to check if a number is positive or negative."
   ]
  },
  {
   "cell_type": "code",
   "execution_count": 37,
   "metadata": {},
   "outputs": [
    {
     "name": "stdout",
     "output_type": "stream",
     "text": [
      "positive\n"
     ]
    }
   ],
   "source": [
    "num=10\n",
    "\n",
    "if num>=0:\n",
    "    print('positive')\n",
    "else:\n",
    "    print('negative')"
   ]
  },
  {
   "cell_type": "markdown",
   "metadata": {},
   "source": [
    "### 8. x = 20 and y = 30. Write a python code to check if x is less than y."
   ]
  },
  {
   "cell_type": "code",
   "execution_count": 39,
   "metadata": {},
   "outputs": [
    {
     "name": "stdout",
     "output_type": "stream",
     "text": [
      "x is not less than y\n"
     ]
    }
   ],
   "source": [
    "x = 201\n",
    "y = 30\n",
    "\n",
    "if(x<y):\n",
    "    print('x is less than y')\n",
    "else:\n",
    "    print('x is not less than y')"
   ]
  },
  {
   "cell_type": "markdown",
   "metadata": {},
   "source": [
    "### 9. Based on the users age, divide them into three groups \n",
    "    Group 1 : Age <18 , Minors who are not eligible to work\n",
    "    Group 2 : 18 < Age < 60 , Eligible to work\n",
    "    Group 3 : Age > 60, Too old to work as per govt. regulations. \n",
    "\n",
    "### Write a python code for the same"
   ]
  },
  {
   "cell_type": "code",
   "execution_count": 41,
   "metadata": {},
   "outputs": [
    {
     "name": "stdout",
     "output_type": "stream",
     "text": [
      "user age 50, type = Eligible to work\n"
     ]
    }
   ],
   "source": [
    "inputAge = 50\n",
    "userType=''\n",
    "\n",
    "if(inputAge<18):\n",
    "    userType='Minor'\n",
    "elif(inputAge>=18 and inputAge<60):\n",
    "     userType='Eligible to work'\n",
    "else:\n",
    "    userType='Too Old to Work as per Govt Regulations'\n",
    "    \n",
    "    \n",
    "print(f'user age {inputAge}, type = {userType}')    "
   ]
  },
  {
   "cell_type": "markdown",
   "metadata": {},
   "source": [
    "### 10. From the age of 3 people determine the oldest person among them.\n",
    "Age of first person = 25\n",
    "\n",
    "Age of second person = 34\n",
    "\n",
    "Age of third person = 45"
   ]
  },
  {
   "cell_type": "code",
   "execution_count": 43,
   "metadata": {},
   "outputs": [
    {
     "name": "stdout",
     "output_type": "stream",
     "text": [
      "given age are [25, 34, 45, 10], oldest age person index 2, oldest person age is 45\n"
     ]
    }
   ],
   "source": [
    "ageOfPerson=[25,34,45,10]\n",
    "\n",
    "tmpMaxAge=-1;\n",
    "\n",
    "for i in ageOfPerson:\n",
    "    if(i>tmpMaxAge):\n",
    "        tmpMaxAge=i\n",
    "\n",
    "\n",
    "maxAgeIndex = ageOfPerson.index(tmpMaxAge)\n",
    "  \n",
    "    \n",
    "print(f'given age are {ageOfPerson}, oldest age person index {maxAgeIndex}, oldest person age is {ageOfPerson[maxAgeIndex]}')    \n",
    "        "
   ]
  },
  {
   "cell_type": "code",
   "execution_count": null,
   "metadata": {},
   "outputs": [],
   "source": []
  },
  {
   "cell_type": "code",
   "execution_count": null,
   "metadata": {},
   "outputs": [],
   "source": []
  }
 ],
 "metadata": {
  "kernelspec": {
   "display_name": "Python 3",
   "language": "python",
   "name": "python3"
  },
  "language_info": {
   "codemirror_mode": {
    "name": "ipython",
    "version": 3
   },
   "file_extension": ".py",
   "mimetype": "text/x-python",
   "name": "python",
   "nbconvert_exporter": "python",
   "pygments_lexer": "ipython3",
   "version": "3.8.8"
  }
 },
 "nbformat": 4,
 "nbformat_minor": 4
}
