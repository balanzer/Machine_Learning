{
 "cells": [
  {
   "cell_type": "code",
   "execution_count": 1,
   "id": "35a4da08",
   "metadata": {},
   "outputs": [],
   "source": [
    "#import ssl\n",
    "#ssl._create_default_https_context = ssl._create_unverified_context"
   ]
  },
  {
   "cell_type": "code",
   "execution_count": 2,
   "id": "1fd06914",
   "metadata": {},
   "outputs": [],
   "source": [
    "#from uszipcode import SearchEngine"
   ]
  },
  {
   "cell_type": "code",
   "execution_count": 3,
   "id": "b3e733ab",
   "metadata": {},
   "outputs": [],
   "source": [
    " #search = SearchEngine(simple_zipcode=True) # set simple_zipcode=False to use rich info database\n",
    "#zipcode = search.by_zipcode(\"10001\")\n",
    " #zipcode"
   ]
  },
  {
   "cell_type": "code",
   "execution_count": 4,
   "id": "47b1aaec",
   "metadata": {},
   "outputs": [],
   "source": [
    " from pyzipcode import ZipCodeDatabase"
   ]
  },
  {
   "cell_type": "code",
   "execution_count": 5,
   "id": "ec49915d",
   "metadata": {},
   "outputs": [],
   "source": [
    " zcdb = ZipCodeDatabase()"
   ]
  },
  {
   "cell_type": "code",
   "execution_count": 6,
   "id": "f235b546",
   "metadata": {},
   "outputs": [
    {
     "data": {
      "text/plain": [
       "ZipCode(zip='30188', city='Woodstock', state='GA', longitude=-84.4843, latitude=34.108027, timezone=-5, dst=1)"
      ]
     },
     "execution_count": 6,
     "metadata": {},
     "output_type": "execute_result"
    }
   ],
   "source": [
    "zcdb[30188]"
   ]
  },
  {
   "cell_type": "code",
   "execution_count": 7,
   "id": "7c10a60e",
   "metadata": {},
   "outputs": [
    {
     "data": {
      "text/plain": [
       "[ZipCode(zip='30006', city='Marietta', state='GA', longitude=-84.557181, latitude=33.912473, timezone=-5, dst=1),\n",
       " ZipCode(zip='30007', city='Marietta', state='GA', longitude=-84.557181, latitude=33.912473, timezone=-5, dst=1),\n",
       " ZipCode(zip='30008', city='Marietta', state='GA', longitude=-84.5788, latitude=33.907336, timezone=-5, dst=1),\n",
       " ZipCode(zip='30060', city='Marietta', state='GA', longitude=-84.54746, latitude=33.932052, timezone=-5, dst=1),\n",
       " ZipCode(zip='30061', city='Marietta', state='GA', longitude=-84.556004, latitude=33.932842, timezone=-5, dst=1),\n",
       " ZipCode(zip='30062', city='Marietta', state='GA', longitude=-84.47464, latitude=33.99605, timezone=-5, dst=1),\n",
       " ZipCode(zip='30063', city='Marietta', state='GA', longitude=-84.511209, latitude=33.965294, timezone=-5, dst=1),\n",
       " ZipCode(zip='30064', city='Marietta', state='GA', longitude=-84.602, latitude=33.946735, timezone=-5, dst=1),\n",
       " ZipCode(zip='30065', city='Marietta', state='GA', longitude=-84.557181, latitude=33.912473, timezone=-5, dst=1),\n",
       " ZipCode(zip='30066', city='Marietta', state='GA', longitude=-84.51475, latitude=34.027533, timezone=-5, dst=1),\n",
       " ZipCode(zip='30067', city='Marietta', state='GA', longitude=-84.47633, latitude=33.933002, timezone=-5, dst=1),\n",
       " ZipCode(zip='30068', city='Marietta', state='GA', longitude=-84.4433, latitude=33.965601, timezone=-5, dst=1),\n",
       " ZipCode(zip='30069', city='Marietta', state='GA', longitude=-84.557181, latitude=33.912473, timezone=-5, dst=1),\n",
       " ZipCode(zip='30075', city='Roswell', state='GA', longitude=-84.38539, latitude=34.049789, timezone=-5, dst=1),\n",
       " ZipCode(zip='30090', city='Marietta', state='GA', longitude=-84.547082, latitude=33.952451, timezone=-5, dst=1),\n",
       " ZipCode(zip='30102', city='Acworth', state='GA', longitude=-84.6183, latitude=34.097998, timezone=-5, dst=1),\n",
       " ZipCode(zip='30111', city='Clarkdale', state='GA', longitude=-84.557181, latitude=33.912473, timezone=-5, dst=1),\n",
       " ZipCode(zip='30114', city='Canton', state='GA', longitude=-84.50402, latitude=34.228478, timezone=-5, dst=1),\n",
       " ZipCode(zip='30115', city='Canton', state='GA', longitude=-84.43884, latitude=34.194029, timezone=-5, dst=1),\n",
       " ZipCode(zip='30142', city='Holly Springs', state='GA', longitude=-84.458326, latitude=34.242944, timezone=-5, dst=1),\n",
       " ZipCode(zip='30144', city='Kennesaw', state='GA', longitude=-84.59706, latitude=34.038949, timezone=-5, dst=1),\n",
       " ZipCode(zip='30146', city='Lebanon', state='GA', longitude=-84.458326, latitude=34.242944, timezone=-5, dst=1),\n",
       " ZipCode(zip='30151', city='Nelson', state='GA', longitude=-84.458326, latitude=34.242944, timezone=-5, dst=1),\n",
       " ZipCode(zip='30188', city='Woodstock', state='GA', longitude=-84.4843, latitude=34.108027, timezone=-5, dst=1),\n",
       " ZipCode(zip='30189', city='Woodstock', state='GA', longitude=-84.57176, latitude=34.117565, timezone=-5, dst=1),\n",
       " ZipCode(zip='30328', city='Atlanta', state='GA', longitude=-84.37817, latitude=33.931746, timezone=-5, dst=1),\n",
       " ZipCode(zip='30358', city='Atlanta', state='GA', longitude=-84.34112, latitude=33.998151, timezone=-5, dst=1)]"
      ]
     },
     "execution_count": 7,
     "metadata": {},
     "output_type": "execute_result"
    }
   ],
   "source": [
    "zcdb.get_zipcodes_around_radius(30188,10)"
   ]
  },
  {
   "cell_type": "code",
   "execution_count": 8,
   "id": "4d4a5bd0",
   "metadata": {},
   "outputs": [],
   "source": [
    "import zipcodes"
   ]
  },
  {
   "cell_type": "code",
   "execution_count": 21,
   "id": "4c4bb540",
   "metadata": {},
   "outputs": [
    {
     "ename": "AttributeError",
     "evalue": "module 'warnings' has no attribute 'DeprecationWarning'",
     "output_type": "error",
     "traceback": [
      "\u001b[0;31m---------------------------------------------------------------------------\u001b[0m",
      "\u001b[0;31mAttributeError\u001b[0m                            Traceback (most recent call last)",
      "\u001b[0;32m<ipython-input-21-e33f0d728f21>\u001b[0m in \u001b[0;36m<module>\u001b[0;34m\u001b[0m\n\u001b[1;32m      1\u001b[0m \u001b[0;31m#zipcodes.is_real('30188')\u001b[0m\u001b[0;34m\u001b[0m\u001b[0;34m\u001b[0m\u001b[0;34m\u001b[0m\u001b[0m\n\u001b[0;32m----> 2\u001b[0;31m \u001b[0mzipcodes\u001b[0m\u001b[0;34m.\u001b[0m\u001b[0mis_valid\u001b[0m\u001b[0;34m(\u001b[0m\u001b[0;34m'3018'\u001b[0m\u001b[0;34m)\u001b[0m\u001b[0;34m\u001b[0m\u001b[0;34m\u001b[0m\u001b[0m\n\u001b[0m",
      "\u001b[0;32m~/opt/anaconda3/lib/python3.8/site-packages/zipcodes/__init__.py\u001b[0m in \u001b[0;36mdecorator\u001b[0;34m(zipcode, *args, **kwargs)\u001b[0m\n\u001b[1;32m     52\u001b[0m             \u001b[0;32mraise\u001b[0m \u001b[0mTypeError\u001b[0m\u001b[0;34m(\u001b[0m\u001b[0;34m\"Invalid type, zipcode must be a string.\"\u001b[0m\u001b[0;34m)\u001b[0m\u001b[0;34m\u001b[0m\u001b[0;34m\u001b[0m\u001b[0m\n\u001b[1;32m     53\u001b[0m \u001b[0;34m\u001b[0m\u001b[0m\n\u001b[0;32m---> 54\u001b[0;31m         return fn(\n\u001b[0m\u001b[1;32m     55\u001b[0m             \u001b[0m_clean\u001b[0m\u001b[0;34m(\u001b[0m\u001b[0mzipcode\u001b[0m\u001b[0;34m,\u001b[0m \u001b[0mmin\u001b[0m\u001b[0;34m(\u001b[0m\u001b[0mlen\u001b[0m\u001b[0;34m(\u001b[0m\u001b[0mzipcode\u001b[0m\u001b[0;34m)\u001b[0m\u001b[0;34m,\u001b[0m \u001b[0m_valid_zipcode_length\u001b[0m\u001b[0;34m)\u001b[0m\u001b[0;34m)\u001b[0m\u001b[0;34m,\u001b[0m \u001b[0;34m*\u001b[0m\u001b[0margs\u001b[0m\u001b[0;34m,\u001b[0m \u001b[0;34m**\u001b[0m\u001b[0mkwargs\u001b[0m\u001b[0;34m\u001b[0m\u001b[0;34m\u001b[0m\u001b[0m\n\u001b[1;32m     56\u001b[0m         )\n",
      "\u001b[0;32m~/opt/anaconda3/lib/python3.8/site-packages/zipcodes/__init__.py\u001b[0m in \u001b[0;36mis_valid\u001b[0;34m(zipcode)\u001b[0m\n\u001b[1;32m     69\u001b[0m \u001b[0;34m@\u001b[0m\u001b[0m_clean_zipcode\u001b[0m\u001b[0;34m\u001b[0m\u001b[0;34m\u001b[0m\u001b[0m\n\u001b[1;32m     70\u001b[0m \u001b[0;32mdef\u001b[0m \u001b[0mis_valid\u001b[0m\u001b[0;34m(\u001b[0m\u001b[0mzipcode\u001b[0m\u001b[0;34m)\u001b[0m\u001b[0;34m:\u001b[0m\u001b[0;34m\u001b[0m\u001b[0;34m\u001b[0m\u001b[0m\n\u001b[0;32m---> 71\u001b[0;31m     \u001b[0mwarnings\u001b[0m\u001b[0;34m.\u001b[0m\u001b[0mwarn\u001b[0m\u001b[0;34m(\u001b[0m\u001b[0;34m\"is_valid is deprecated; use is_real\"\u001b[0m\u001b[0;34m,\u001b[0m \u001b[0mwarnings\u001b[0m\u001b[0;34m.\u001b[0m\u001b[0mDeprecationWarning\u001b[0m\u001b[0;34m)\u001b[0m\u001b[0;34m\u001b[0m\u001b[0;34m\u001b[0m\u001b[0m\n\u001b[0m\u001b[1;32m     72\u001b[0m     \u001b[0;32mreturn\u001b[0m \u001b[0mis_real\u001b[0m\u001b[0;34m(\u001b[0m\u001b[0mzipcode\u001b[0m\u001b[0;34m)\u001b[0m\u001b[0;34m\u001b[0m\u001b[0;34m\u001b[0m\u001b[0m\n\u001b[1;32m     73\u001b[0m \u001b[0;34m\u001b[0m\u001b[0m\n",
      "\u001b[0;31mAttributeError\u001b[0m: module 'warnings' has no attribute 'DeprecationWarning'"
     ]
    }
   ],
   "source": [
    "zipcodes.is_real('30188')\n"
   ]
  },
  {
   "cell_type": "code",
   "execution_count": 16,
   "id": "f939d522",
   "metadata": {},
   "outputs": [
    {
     "data": {
      "text/plain": [
       "[{'zip_code': '30188',\n",
       "  'zip_code_type': 'STANDARD',\n",
       "  'active': True,\n",
       "  'city': 'Woodstock',\n",
       "  'acceptable_cities': ['Holly Springs'],\n",
       "  'unacceptable_cities': [],\n",
       "  'state': 'GA',\n",
       "  'county': 'Cherokee County',\n",
       "  'timezone': 'America/New_York',\n",
       "  'area_codes': ['678', '770'],\n",
       "  'world_region': 'NA',\n",
       "  'country': 'US',\n",
       "  'lat': '34.1206',\n",
       "  'long': '-84.4479'}]"
      ]
     },
     "execution_count": 16,
     "metadata": {},
     "output_type": "execute_result"
    }
   ],
   "source": [
    "zipcodes.matching('30188')"
   ]
  },
  {
   "cell_type": "code",
   "execution_count": null,
   "id": "3c811edb",
   "metadata": {},
   "outputs": [],
   "source": []
  }
 ],
 "metadata": {
  "kernelspec": {
   "display_name": "Python 3",
   "language": "python",
   "name": "python3"
  },
  "language_info": {
   "codemirror_mode": {
    "name": "ipython",
    "version": 3
   },
   "file_extension": ".py",
   "mimetype": "text/x-python",
   "name": "python",
   "nbconvert_exporter": "python",
   "pygments_lexer": "ipython3",
   "version": "3.8.8"
  }
 },
 "nbformat": 4,
 "nbformat_minor": 5
}
