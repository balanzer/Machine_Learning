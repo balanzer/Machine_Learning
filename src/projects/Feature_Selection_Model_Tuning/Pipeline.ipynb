{
 "cells": [
  {
   "cell_type": "code",
   "execution_count": 1,
   "id": "9a2f565e",
   "metadata": {},
   "outputs": [
    {
     "data": {
      "application/javascript": [
       "\n",
       "            setTimeout(function() {\n",
       "                var nbb_cell_id = 1;\n",
       "                var nbb_unformatted_code = \"\\n# this will help in making the Python code more structured automatically\\n%load_ext nb_black\\nfrom sklearn import datasets\\nimport warnings\\n\\nwarnings.filterwarnings(\\\"ignore\\\")\\n\\n# Libraries to help with reading and manipulating data\\n\\nimport pandas as pd\\nimport numpy as np\\n\\n# Libraries to help with data visualization\\nimport matplotlib.pyplot as plt\\nimport seaborn as sns\\n\\n# Removes the limit for the number of displayed columns\\npd.set_option(\\\"display.max_columns\\\", None)\\n# Sets the limit for the number of displayed rows\\npd.set_option(\\\"display.max_rows\\\", 200)\\n\\n\\nfrom sklearn.tree import DecisionTreeClassifier\\nfrom sklearn.model_selection import train_test_split\\nfrom sklearn.metrics import confusion_matrix, classification_report\\nfrom sklearn.metrics import accuracy_score,precision_score,recall_score,f1_score\\nimport scipy.stats as stats\\nfrom sklearn import metrics\\nfrom sklearn import tree\\nfrom sklearn.model_selection import GridSearchCV\\nfrom sklearn.ensemble import BaggingClassifier\\nfrom sklearn.ensemble import RandomForestClassifier\\nfrom sklearn.metrics import roc_auc_score\\n\\n\\nfrom sklearn.ensemble import (\\n    AdaBoostClassifier,\\n    GradientBoostingClassifier,\\n    RandomForestClassifier,\\n    BaggingClassifier,\\n)\";\n",
       "                var nbb_formatted_code = \"# this will help in making the Python code more structured automatically\\n%load_ext nb_black\\nfrom sklearn import datasets\\nimport warnings\\n\\nwarnings.filterwarnings(\\\"ignore\\\")\\n\\n# Libraries to help with reading and manipulating data\\n\\nimport pandas as pd\\nimport numpy as np\\n\\n# Libraries to help with data visualization\\nimport matplotlib.pyplot as plt\\nimport seaborn as sns\\n\\n# Removes the limit for the number of displayed columns\\npd.set_option(\\\"display.max_columns\\\", None)\\n# Sets the limit for the number of displayed rows\\npd.set_option(\\\"display.max_rows\\\", 200)\\n\\n\\nfrom sklearn.tree import DecisionTreeClassifier\\nfrom sklearn.model_selection import train_test_split\\nfrom sklearn.metrics import confusion_matrix, classification_report\\nfrom sklearn.metrics import accuracy_score, precision_score, recall_score, f1_score\\nimport scipy.stats as stats\\nfrom sklearn import metrics\\nfrom sklearn import tree\\nfrom sklearn.model_selection import GridSearchCV\\nfrom sklearn.ensemble import BaggingClassifier\\nfrom sklearn.ensemble import RandomForestClassifier\\nfrom sklearn.metrics import roc_auc_score\\n\\n\\nfrom sklearn.ensemble import (\\n    AdaBoostClassifier,\\n    GradientBoostingClassifier,\\n    RandomForestClassifier,\\n    BaggingClassifier,\\n)\";\n",
       "                var nbb_cells = Jupyter.notebook.get_cells();\n",
       "                for (var i = 0; i < nbb_cells.length; ++i) {\n",
       "                    if (nbb_cells[i].input_prompt_number == nbb_cell_id) {\n",
       "                        if (nbb_cells[i].get_text() == nbb_unformatted_code) {\n",
       "                             nbb_cells[i].set_text(nbb_formatted_code);\n",
       "                        }\n",
       "                        break;\n",
       "                    }\n",
       "                }\n",
       "            }, 500);\n",
       "            "
      ],
      "text/plain": [
       "<IPython.core.display.Javascript object>"
      ]
     },
     "metadata": {},
     "output_type": "display_data"
    }
   ],
   "source": [
    "\n",
    "# this will help in making the Python code more structured automatically\n",
    "%load_ext nb_black\n",
    "from sklearn import datasets\n",
    "import warnings\n",
    "\n",
    "warnings.filterwarnings(\"ignore\")\n",
    "\n",
    "# Libraries to help with reading and manipulating data\n",
    "\n",
    "import pandas as pd\n",
    "import numpy as np\n",
    "\n",
    "# Libraries to help with data visualization\n",
    "import matplotlib.pyplot as plt\n",
    "import seaborn as sns\n",
    "\n",
    "# Removes the limit for the number of displayed columns\n",
    "pd.set_option(\"display.max_columns\", None)\n",
    "# Sets the limit for the number of displayed rows\n",
    "pd.set_option(\"display.max_rows\", 200)\n",
    "\n",
    "\n",
    "from sklearn.tree import DecisionTreeClassifier\n",
    "from sklearn.model_selection import train_test_split\n",
    "from sklearn.metrics import confusion_matrix, classification_report\n",
    "from sklearn.metrics import accuracy_score,precision_score,recall_score,f1_score\n",
    "import scipy.stats as stats\n",
    "from sklearn import metrics\n",
    "from sklearn import tree\n",
    "from sklearn.model_selection import GridSearchCV\n",
    "from sklearn.ensemble import BaggingClassifier\n",
    "from sklearn.ensemble import RandomForestClassifier\n",
    "from sklearn.metrics import roc_auc_score\n",
    "\n",
    "\n",
    "from sklearn.ensemble import (\n",
    "    AdaBoostClassifier,\n",
    "    GradientBoostingClassifier,\n",
    "    RandomForestClassifier,\n",
    "    BaggingClassifier,\n",
    ")\n"
   ]
  },
  {
   "cell_type": "code",
   "execution_count": 2,
   "id": "a3d11623",
   "metadata": {},
   "outputs": [
    {
     "data": {
      "application/javascript": [
       "\n",
       "            setTimeout(function() {\n",
       "                var nbb_cell_id = 2;\n",
       "                var nbb_unformatted_code = \"# defining a function to compute different metrics to check performance of a classification model built using sklearn\\ndef model_performance_classification(name, model,train_x_data,train_y_data,val_x_data,val_y_data):\\n    \\\"\\\"\\\"\\n    Function to compute different metrics to check classification model performance\\n\\n    model: classifier\\n    predictors: independent variables\\n    target: dependent variable\\n    \\\"\\\"\\\"\\n\\n    #print(f\\\"Model '{name}' performance \\\\n\\\\n\\\")\\n\\n    predictors_train = train_x_data\\n    target_train = train_y_data\\n\\n    predictors_test = val_x_data\\n    target_test = val_y_data\\n\\n    # predicting training data using the independent variables\\n    pred_train = model.predict(predictors_train)\\n\\n    acc_train = accuracy_score(target_train, pred_train)  # to compute Accuracy\\n    recall_train = recall_score(target_train, pred_train)  # to compute Recall\\n    precision_train = precision_score(target_train, pred_train)  # to compute Precision\\n    f1_train = f1_score(target_train, pred_train)  # to compute F1-score\\n    roc_train = roc_auc_score(target_train, pred_train)  # to compute ROC AUC\\n\\n    # predicting test data using the independent variables\\n    pred_test = model.predict(predictors_test)\\n\\n    acc_test = accuracy_score(target_test, pred_test)  # to compute Accuracy\\n    recall_test = recall_score(target_test, pred_test)  # to compute Recall\\n    precision_test = precision_score(target_test, pred_test)  # to compute Precision\\n    f1_test = f1_score(target_test, pred_test)  # to compute F1-score\\n    roc_test = roc_auc_score(target_test, pred_test)  # to compute ROC AUC\\n\\n    # creating a dataframe of metrics\\n    df_perf = pd.DataFrame(\\n        [\\n            {\\n                \\\"Model\\\": name,\\n                \\\"Data\\\":\\\"Training\\\",\\n                \\\"Data Shape\\\":train_x_data.shape,\\n                \\\"Recall\\\": np.round_(recall_train * 100, decimals=3),\\n                \\\"F1-Score\\\": np.round_(f1_train * 100, decimals=3),\\n                \\\"Accuracy\\\": np.round_(acc_train * 100, decimals=3),\\n                \\\"Precision\\\": np.round_(precision_train * 100, decimals=3),\\n                \\\"ROC-AUC\\\": np.round_(roc_train * 100, decimals=3),\\n            },{  \\\"Model\\\": name,\\n                \\\"Data\\\":\\\"Validation/Test\\\",\\n                \\\"Data Shape\\\":val_x_data.shape,\\n                \\\"Recall\\\": np.round_(recall_test * 100, decimals=3),\\n                \\\"F1-Score\\\": np.round_(f1_test * 100, decimals=3),\\n                \\\"Accuracy\\\": np.round_(acc_test * 100, decimals=3),\\n                \\\"Precision\\\": np.round_(precision_test * 100, decimals=3),\\n                \\\"ROC-AUC\\\": np.round_(roc_test * 100, decimals=3),\\n            },\\n        ]\\n    )\\n    return df_perf\\n\\ndef confusion_matrix_classification(name, model,train_x_data,train_y_data,val_x_data,val_y_data):\\n    \\\"\\\"\\\"\\n    To plot the confusion_matrix with percentages\\n\\n    model: classifier\\n    predictors: independent variables\\n    target: dependent variable\\n    \\\"\\\"\\\"\\n    sns.set_context(\\n        \\\"paper\\\", rc={\\\"font.size\\\": 14, \\\"axes.titlesize\\\": 14, \\\"axes.labelsize\\\": 14}\\n    )\\n    print(f\\\"Model '{name}' confusion matrix \\\\n\\\\n\\\")\\n\\n    predictors_train = train_x_data\\n    target_train = train_y_data\\n\\n    predictors_test = val_x_data\\n    target_test = val_y_data\\n    #predictors_output = test_y_data.copy()\\n\\n    y_pred_train = model.predict(predictors_train)\\n    y_pred_test = model.predict(predictors_test)\\n\\n    cm_train = confusion_matrix(target_train, y_pred_train)\\n    cm_test = confusion_matrix(target_test, y_pred_test)\\n\\n    #predictors_output['Orig'] = target_test\\n    #predictors_output['Model'] = y_pred_test\\n\\n    plt.rcParams[\\\"figure.figsize\\\"] = [12, 6]\\n    plt.rcParams[\\\"figure.autolayout\\\"] = True\\n\\n    f, axes = plt.subplots(1, 2)\\n\\n    labels = np.asarray(\\n        [\\n            [\\n                \\\"{0:0.0f}\\\".format(item)\\n                + \\\"\\\\n{0:.2%}\\\".format(item / cm_train.flatten().sum())\\n            ]\\n            for item in cm_train.flatten()\\n        ]\\n    ).reshape(2, 2)\\n\\n    labels_test = np.asarray(\\n        [\\n            [\\n                \\\"{0:0.0f}\\\".format(item)\\n                + \\\"\\\\n{0:.2%}\\\".format(item / cm_test.flatten().sum())\\n            ]\\n            for item in cm_test.flatten()\\n        ]\\n    ).reshape(2, 2)\\n\\n    g = sns.heatmap(cm_train, annot=labels, fmt=\\\"\\\", ax=axes[0])\\n    g.set(xlabel=\\\"True label\\\", ylabel=\\\"Predicted label\\\", title=\\\"Training Data\\\")\\n\\n    g1 = sns.heatmap(cm_test, annot=labels_test, fmt=\\\"\\\", ax=axes[1])\\n    g1.set(xlabel=\\\"True label\\\", ylabel=\\\"Predicted label\\\", title=\\\"Validation/Test Data\\\")\";\n",
       "                var nbb_formatted_code = \"# defining a function to compute different metrics to check performance of a classification model built using sklearn\\ndef model_performance_classification(\\n    name, model, train_x_data, train_y_data, val_x_data, val_y_data\\n):\\n    \\\"\\\"\\\"\\n    Function to compute different metrics to check classification model performance\\n\\n    model: classifier\\n    predictors: independent variables\\n    target: dependent variable\\n    \\\"\\\"\\\"\\n\\n    # print(f\\\"Model '{name}' performance \\\\n\\\\n\\\")\\n\\n    predictors_train = train_x_data\\n    target_train = train_y_data\\n\\n    predictors_test = val_x_data\\n    target_test = val_y_data\\n\\n    # predicting training data using the independent variables\\n    pred_train = model.predict(predictors_train)\\n\\n    acc_train = accuracy_score(target_train, pred_train)  # to compute Accuracy\\n    recall_train = recall_score(target_train, pred_train)  # to compute Recall\\n    precision_train = precision_score(target_train, pred_train)  # to compute Precision\\n    f1_train = f1_score(target_train, pred_train)  # to compute F1-score\\n    roc_train = roc_auc_score(target_train, pred_train)  # to compute ROC AUC\\n\\n    # predicting test data using the independent variables\\n    pred_test = model.predict(predictors_test)\\n\\n    acc_test = accuracy_score(target_test, pred_test)  # to compute Accuracy\\n    recall_test = recall_score(target_test, pred_test)  # to compute Recall\\n    precision_test = precision_score(target_test, pred_test)  # to compute Precision\\n    f1_test = f1_score(target_test, pred_test)  # to compute F1-score\\n    roc_test = roc_auc_score(target_test, pred_test)  # to compute ROC AUC\\n\\n    # creating a dataframe of metrics\\n    df_perf = pd.DataFrame(\\n        [\\n            {\\n                \\\"Model\\\": name,\\n                \\\"Data\\\": \\\"Training\\\",\\n                \\\"Data Shape\\\": train_x_data.shape,\\n                \\\"Recall\\\": np.round_(recall_train * 100, decimals=3),\\n                \\\"F1-Score\\\": np.round_(f1_train * 100, decimals=3),\\n                \\\"Accuracy\\\": np.round_(acc_train * 100, decimals=3),\\n                \\\"Precision\\\": np.round_(precision_train * 100, decimals=3),\\n                \\\"ROC-AUC\\\": np.round_(roc_train * 100, decimals=3),\\n            },\\n            {\\n                \\\"Model\\\": name,\\n                \\\"Data\\\": \\\"Validation/Test\\\",\\n                \\\"Data Shape\\\": val_x_data.shape,\\n                \\\"Recall\\\": np.round_(recall_test * 100, decimals=3),\\n                \\\"F1-Score\\\": np.round_(f1_test * 100, decimals=3),\\n                \\\"Accuracy\\\": np.round_(acc_test * 100, decimals=3),\\n                \\\"Precision\\\": np.round_(precision_test * 100, decimals=3),\\n                \\\"ROC-AUC\\\": np.round_(roc_test * 100, decimals=3),\\n            },\\n        ]\\n    )\\n    return df_perf\\n\\n\\ndef confusion_matrix_classification(\\n    name, model, train_x_data, train_y_data, val_x_data, val_y_data\\n):\\n    \\\"\\\"\\\"\\n    To plot the confusion_matrix with percentages\\n\\n    model: classifier\\n    predictors: independent variables\\n    target: dependent variable\\n    \\\"\\\"\\\"\\n    sns.set_context(\\n        \\\"paper\\\", rc={\\\"font.size\\\": 14, \\\"axes.titlesize\\\": 14, \\\"axes.labelsize\\\": 14}\\n    )\\n    print(f\\\"Model '{name}' confusion matrix \\\\n\\\\n\\\")\\n\\n    predictors_train = train_x_data\\n    target_train = train_y_data\\n\\n    predictors_test = val_x_data\\n    target_test = val_y_data\\n    # predictors_output = test_y_data.copy()\\n\\n    y_pred_train = model.predict(predictors_train)\\n    y_pred_test = model.predict(predictors_test)\\n\\n    cm_train = confusion_matrix(target_train, y_pred_train)\\n    cm_test = confusion_matrix(target_test, y_pred_test)\\n\\n    # predictors_output['Orig'] = target_test\\n    # predictors_output['Model'] = y_pred_test\\n\\n    plt.rcParams[\\\"figure.figsize\\\"] = [12, 6]\\n    plt.rcParams[\\\"figure.autolayout\\\"] = True\\n\\n    f, axes = plt.subplots(1, 2)\\n\\n    labels = np.asarray(\\n        [\\n            [\\n                \\\"{0:0.0f}\\\".format(item)\\n                + \\\"\\\\n{0:.2%}\\\".format(item / cm_train.flatten().sum())\\n            ]\\n            for item in cm_train.flatten()\\n        ]\\n    ).reshape(2, 2)\\n\\n    labels_test = np.asarray(\\n        [\\n            [\\n                \\\"{0:0.0f}\\\".format(item)\\n                + \\\"\\\\n{0:.2%}\\\".format(item / cm_test.flatten().sum())\\n            ]\\n            for item in cm_test.flatten()\\n        ]\\n    ).reshape(2, 2)\\n\\n    g = sns.heatmap(cm_train, annot=labels, fmt=\\\"\\\", ax=axes[0])\\n    g.set(xlabel=\\\"True label\\\", ylabel=\\\"Predicted label\\\", title=\\\"Training Data\\\")\\n\\n    g1 = sns.heatmap(cm_test, annot=labels_test, fmt=\\\"\\\", ax=axes[1])\\n    g1.set(xlabel=\\\"True label\\\", ylabel=\\\"Predicted label\\\", title=\\\"Validation/Test Data\\\")\";\n",
       "                var nbb_cells = Jupyter.notebook.get_cells();\n",
       "                for (var i = 0; i < nbb_cells.length; ++i) {\n",
       "                    if (nbb_cells[i].input_prompt_number == nbb_cell_id) {\n",
       "                        if (nbb_cells[i].get_text() == nbb_unformatted_code) {\n",
       "                             nbb_cells[i].set_text(nbb_formatted_code);\n",
       "                        }\n",
       "                        break;\n",
       "                    }\n",
       "                }\n",
       "            }, 500);\n",
       "            "
      ],
      "text/plain": [
       "<IPython.core.display.Javascript object>"
      ]
     },
     "metadata": {},
     "output_type": "display_data"
    }
   ],
   "source": [
    "# defining a function to compute different metrics to check performance of a classification model built using sklearn\n",
    "def model_performance_classification(name, model,train_x_data,train_y_data,val_x_data,val_y_data):\n",
    "    \"\"\"\n",
    "    Function to compute different metrics to check classification model performance\n",
    "\n",
    "    model: classifier\n",
    "    predictors: independent variables\n",
    "    target: dependent variable\n",
    "    \"\"\"\n",
    "\n",
    "    #print(f\"Model '{name}' performance \\n\\n\")\n",
    "\n",
    "    predictors_train = train_x_data\n",
    "    target_train = train_y_data\n",
    "\n",
    "    predictors_test = val_x_data\n",
    "    target_test = val_y_data\n",
    "\n",
    "    # predicting training data using the independent variables\n",
    "    pred_train = model.predict(predictors_train)\n",
    "\n",
    "    acc_train = accuracy_score(target_train, pred_train)  # to compute Accuracy\n",
    "    recall_train = recall_score(target_train, pred_train)  # to compute Recall\n",
    "    precision_train = precision_score(target_train, pred_train)  # to compute Precision\n",
    "    f1_train = f1_score(target_train, pred_train)  # to compute F1-score\n",
    "    roc_train = roc_auc_score(target_train, pred_train)  # to compute ROC AUC\n",
    "\n",
    "    # predicting test data using the independent variables\n",
    "    pred_test = model.predict(predictors_test)\n",
    "\n",
    "    acc_test = accuracy_score(target_test, pred_test)  # to compute Accuracy\n",
    "    recall_test = recall_score(target_test, pred_test)  # to compute Recall\n",
    "    precision_test = precision_score(target_test, pred_test)  # to compute Precision\n",
    "    f1_test = f1_score(target_test, pred_test)  # to compute F1-score\n",
    "    roc_test = roc_auc_score(target_test, pred_test)  # to compute ROC AUC\n",
    "\n",
    "    # creating a dataframe of metrics\n",
    "    df_perf = pd.DataFrame(\n",
    "        [\n",
    "            {\n",
    "                \"Model\": name,\n",
    "                \"Data\":\"Training\",\n",
    "                \"Data Shape\":train_x_data.shape,\n",
    "                \"Recall\": np.round_(recall_train * 100, decimals=3),\n",
    "                \"F1-Score\": np.round_(f1_train * 100, decimals=3),\n",
    "                \"Accuracy\": np.round_(acc_train * 100, decimals=3),\n",
    "                \"Precision\": np.round_(precision_train * 100, decimals=3),\n",
    "                \"ROC-AUC\": np.round_(roc_train * 100, decimals=3),\n",
    "            },{  \"Model\": name,\n",
    "                \"Data\":\"Validation/Test\",\n",
    "                \"Data Shape\":val_x_data.shape,\n",
    "                \"Recall\": np.round_(recall_test * 100, decimals=3),\n",
    "                \"F1-Score\": np.round_(f1_test * 100, decimals=3),\n",
    "                \"Accuracy\": np.round_(acc_test * 100, decimals=3),\n",
    "                \"Precision\": np.round_(precision_test * 100, decimals=3),\n",
    "                \"ROC-AUC\": np.round_(roc_test * 100, decimals=3),\n",
    "            },\n",
    "        ]\n",
    "    )\n",
    "    return df_perf\n",
    "\n",
    "def confusion_matrix_classification(name, model,train_x_data,train_y_data,val_x_data,val_y_data):\n",
    "    \"\"\"\n",
    "    To plot the confusion_matrix with percentages\n",
    "\n",
    "    model: classifier\n",
    "    predictors: independent variables\n",
    "    target: dependent variable\n",
    "    \"\"\"\n",
    "    sns.set_context(\n",
    "        \"paper\", rc={\"font.size\": 14, \"axes.titlesize\": 14, \"axes.labelsize\": 14}\n",
    "    )\n",
    "    print(f\"Model '{name}' confusion matrix \\n\\n\")\n",
    "\n",
    "    predictors_train = train_x_data\n",
    "    target_train = train_y_data\n",
    "\n",
    "    predictors_test = val_x_data\n",
    "    target_test = val_y_data\n",
    "    #predictors_output = test_y_data.copy()\n",
    "\n",
    "    y_pred_train = model.predict(predictors_train)\n",
    "    y_pred_test = model.predict(predictors_test)\n",
    "\n",
    "    cm_train = confusion_matrix(target_train, y_pred_train)\n",
    "    cm_test = confusion_matrix(target_test, y_pred_test)\n",
    "\n",
    "    #predictors_output['Orig'] = target_test\n",
    "    #predictors_output['Model'] = y_pred_test\n",
    "\n",
    "    plt.rcParams[\"figure.figsize\"] = [12, 6]\n",
    "    plt.rcParams[\"figure.autolayout\"] = True\n",
    "\n",
    "    f, axes = plt.subplots(1, 2)\n",
    "\n",
    "    labels = np.asarray(\n",
    "        [\n",
    "            [\n",
    "                \"{0:0.0f}\".format(item)\n",
    "                + \"\\n{0:.2%}\".format(item / cm_train.flatten().sum())\n",
    "            ]\n",
    "            for item in cm_train.flatten()\n",
    "        ]\n",
    "    ).reshape(2, 2)\n",
    "\n",
    "    labels_test = np.asarray(\n",
    "        [\n",
    "            [\n",
    "                \"{0:0.0f}\".format(item)\n",
    "                + \"\\n{0:.2%}\".format(item / cm_test.flatten().sum())\n",
    "            ]\n",
    "            for item in cm_test.flatten()\n",
    "        ]\n",
    "    ).reshape(2, 2)\n",
    "\n",
    "    g = sns.heatmap(cm_train, annot=labels, fmt=\"\", ax=axes[0])\n",
    "    g.set(xlabel=\"True label\", ylabel=\"Predicted label\", title=\"Training Data\")\n",
    "\n",
    "    g1 = sns.heatmap(cm_test, annot=labels_test, fmt=\"\", ax=axes[1])\n",
    "    g1.set(xlabel=\"True label\", ylabel=\"Predicted label\", title=\"Validation/Test Data\")\n",
    "\n",
    "\n"
   ]
  },
  {
   "cell_type": "code",
   "execution_count": 3,
   "id": "d46fb75f",
   "metadata": {},
   "outputs": [
    {
     "data": {
      "application/javascript": [
       "\n",
       "            setTimeout(function() {\n",
       "                var nbb_cell_id = 3;\n",
       "                var nbb_unformatted_code = \"# To be used for creating pipelines and personalizing them\\nfrom sklearn.pipeline import Pipeline\\nfrom sklearn.compose import ColumnTransformer\\nfrom sklearn.preprocessing import FunctionTransformer\\n\\n# To be used for data scaling and one hot encoding\\nfrom sklearn.preprocessing import StandardScaler, MinMaxScaler, OneHotEncoder\\n\\n# To be used for missing value imputation\\nfrom sklearn.impute import SimpleImputer\";\n",
       "                var nbb_formatted_code = \"# To be used for creating pipelines and personalizing them\\nfrom sklearn.pipeline import Pipeline\\nfrom sklearn.compose import ColumnTransformer\\nfrom sklearn.preprocessing import FunctionTransformer\\n\\n# To be used for data scaling and one hot encoding\\nfrom sklearn.preprocessing import StandardScaler, MinMaxScaler, OneHotEncoder\\n\\n# To be used for missing value imputation\\nfrom sklearn.impute import SimpleImputer\";\n",
       "                var nbb_cells = Jupyter.notebook.get_cells();\n",
       "                for (var i = 0; i < nbb_cells.length; ++i) {\n",
       "                    if (nbb_cells[i].input_prompt_number == nbb_cell_id) {\n",
       "                        if (nbb_cells[i].get_text() == nbb_unformatted_code) {\n",
       "                             nbb_cells[i].set_text(nbb_formatted_code);\n",
       "                        }\n",
       "                        break;\n",
       "                    }\n",
       "                }\n",
       "            }, 500);\n",
       "            "
      ],
      "text/plain": [
       "<IPython.core.display.Javascript object>"
      ]
     },
     "metadata": {},
     "output_type": "display_data"
    }
   ],
   "source": [
    "# To be used for creating pipelines and personalizing them\n",
    "from sklearn.pipeline import Pipeline\n",
    "from sklearn.compose import ColumnTransformer\n",
    "from sklearn.preprocessing import FunctionTransformer\n",
    "\n",
    "# To be used for data scaling and one hot encoding\n",
    "from sklearn.preprocessing import StandardScaler, MinMaxScaler, OneHotEncoder\n",
    "\n",
    "# To be used for missing value imputation\n",
    "from sklearn.impute import SimpleImputer"
   ]
  },
  {
   "cell_type": "code",
   "execution_count": 4,
   "id": "e5d45e10",
   "metadata": {},
   "outputs": [
    {
     "name": "stdout",
     "output_type": "stream",
     "text": [
      "<class 'pandas.core.frame.DataFrame'>\n",
      "RangeIndex: 10127 entries, 0 to 10126\n",
      "Data columns (total 21 columns):\n",
      " #   Column                    Non-Null Count  Dtype  \n",
      "---  ------                    --------------  -----  \n",
      " 0   CLIENTNUM                 10127 non-null  int64  \n",
      " 1   Attrition_Flag            10127 non-null  object \n",
      " 2   Customer_Age              10127 non-null  int64  \n",
      " 3   Gender                    10127 non-null  object \n",
      " 4   Dependent_count           10127 non-null  int64  \n",
      " 5   Education_Level           8608 non-null   object \n",
      " 6   Marital_Status            9378 non-null   object \n",
      " 7   Income_Category           10127 non-null  object \n",
      " 8   Card_Category             10127 non-null  object \n",
      " 9   Months_on_book            10127 non-null  int64  \n",
      " 10  Total_Relationship_Count  10127 non-null  int64  \n",
      " 11  Months_Inactive_12_mon    10127 non-null  int64  \n",
      " 12  Contacts_Count_12_mon     10127 non-null  int64  \n",
      " 13  Credit_Limit              10127 non-null  float64\n",
      " 14  Total_Revolving_Bal       10127 non-null  int64  \n",
      " 15  Avg_Open_To_Buy           10127 non-null  float64\n",
      " 16  Total_Amt_Chng_Q4_Q1      10127 non-null  float64\n",
      " 17  Total_Trans_Amt           10127 non-null  int64  \n",
      " 18  Total_Trans_Ct            10127 non-null  int64  \n",
      " 19  Total_Ct_Chng_Q4_Q1       10127 non-null  float64\n",
      " 20  Avg_Utilization_Ratio     10127 non-null  float64\n",
      "dtypes: float64(5), int64(10), object(6)\n",
      "memory usage: 1.6+ MB\n"
     ]
    },
    {
     "data": {
      "application/javascript": [
       "\n",
       "            setTimeout(function() {\n",
       "                var nbb_cell_id = 4;\n",
       "                var nbb_unformatted_code = \"# reading csv data given from bank and load to data frame\\nbank_data = pd.read_csv(\\\"BankChurners.csv\\\")\\n# copying orignal data so that when changing data we dont lose original\\ndata1 = bank_data.copy()\\ndata1.info()\";\n",
       "                var nbb_formatted_code = \"# reading csv data given from bank and load to data frame\\nbank_data = pd.read_csv(\\\"BankChurners.csv\\\")\\n# copying orignal data so that when changing data we dont lose original\\ndata1 = bank_data.copy()\\ndata1.info()\";\n",
       "                var nbb_cells = Jupyter.notebook.get_cells();\n",
       "                for (var i = 0; i < nbb_cells.length; ++i) {\n",
       "                    if (nbb_cells[i].input_prompt_number == nbb_cell_id) {\n",
       "                        if (nbb_cells[i].get_text() == nbb_unformatted_code) {\n",
       "                             nbb_cells[i].set_text(nbb_formatted_code);\n",
       "                        }\n",
       "                        break;\n",
       "                    }\n",
       "                }\n",
       "            }, 500);\n",
       "            "
      ],
      "text/plain": [
       "<IPython.core.display.Javascript object>"
      ]
     },
     "metadata": {},
     "output_type": "display_data"
    }
   ],
   "source": [
    "# reading csv data given from bank and load to data frame\n",
    "bank_data = pd.read_csv(\"BankChurners.csv\")\n",
    "# copying orignal data so that when changing data we dont lose original\n",
    "data1 = bank_data.copy()\n",
    "data1.info()"
   ]
  },
  {
   "cell_type": "code",
   "execution_count": null,
   "id": "7de521a5",
   "metadata": {},
   "outputs": [],
   "source": []
  },
  {
   "cell_type": "code",
   "execution_count": 5,
   "id": "98330bdc",
   "metadata": {},
   "outputs": [
    {
     "data": {
      "application/javascript": [
       "\n",
       "            setTimeout(function() {\n",
       "                var nbb_cell_id = 5;\n",
       "                var nbb_unformatted_code = \"# creating a transformer for numerical variables, which will apply simple imputer on the numerical variables\\nnumeric_transformer = Pipeline(steps=[(\\\"imputer\\\", SimpleImputer(strategy=\\\"median\\\"))])\";\n",
       "                var nbb_formatted_code = \"# creating a transformer for numerical variables, which will apply simple imputer on the numerical variables\\nnumeric_transformer = Pipeline(steps=[(\\\"imputer\\\", SimpleImputer(strategy=\\\"median\\\"))])\";\n",
       "                var nbb_cells = Jupyter.notebook.get_cells();\n",
       "                for (var i = 0; i < nbb_cells.length; ++i) {\n",
       "                    if (nbb_cells[i].input_prompt_number == nbb_cell_id) {\n",
       "                        if (nbb_cells[i].get_text() == nbb_unformatted_code) {\n",
       "                             nbb_cells[i].set_text(nbb_formatted_code);\n",
       "                        }\n",
       "                        break;\n",
       "                    }\n",
       "                }\n",
       "            }, 500);\n",
       "            "
      ],
      "text/plain": [
       "<IPython.core.display.Javascript object>"
      ]
     },
     "metadata": {},
     "output_type": "display_data"
    }
   ],
   "source": [
    "# creating a transformer for numerical variables, which will apply simple imputer on the numerical variables\n",
    "numeric_transformer = Pipeline(steps=[(\"imputer\", SimpleImputer(strategy=\"median\"))])\n"
   ]
  },
  {
   "cell_type": "code",
   "execution_count": 6,
   "id": "0445635a",
   "metadata": {},
   "outputs": [
    {
     "data": {
      "text/plain": [
       "'\\nfrom sklearn import datasets\\nfrom sklearn.model_selection import train_test_split\\nfrom sklearn.preprocessing import StandardScaler\\nfrom sklearn.decomposition import PCA\\nfrom sklearn.tree import DecisionTreeClassifier\\n\\n# import some data within sklearn for iris classification\\niris = datasets.load_iris()\\nX = iris.data\\ny = iris.target\\n\\nX_train, X_test, y_train, y_test = train_test_split(X, y, test_size=0.25)\\n\\nfrom sklearn.pipeline import Pipeline\\n\\npipe = Pipeline(\\n    [\\n        (\"pca\", PCA(n_components=2)),\\n        (\"std\", StandardScaler()),\\n        (\"Decision_tree\", DecisionTreeClassifier()),\\n    ],\\n    verbose=True,\\n)\\n\\npipe.fit(X_train, y_train)\\n\\nprint()\\nprint(\"Training set score: \" + str(pipe.score(X_train, y_train)))\\nprint(\"Test set score: \" + str(pipe.score(X_test, y_test)))\\n\\n'"
      ]
     },
     "execution_count": 6,
     "metadata": {},
     "output_type": "execute_result"
    },
    {
     "data": {
      "application/javascript": [
       "\n",
       "            setTimeout(function() {\n",
       "                var nbb_cell_id = 6;\n",
       "                var nbb_unformatted_code = \"\\\"\\\"\\\"\\nfrom sklearn import datasets\\nfrom sklearn.model_selection import train_test_split\\nfrom sklearn.preprocessing import StandardScaler\\nfrom sklearn.decomposition import PCA\\nfrom sklearn.tree import DecisionTreeClassifier\\n\\n# import some data within sklearn for iris classification\\niris = datasets.load_iris()\\nX = iris.data\\ny = iris.target\\n\\nX_train, X_test, y_train, y_test = train_test_split(X, y, test_size=0.25)\\n\\nfrom sklearn.pipeline import Pipeline\\n\\npipe = Pipeline(\\n    [\\n        (\\\"pca\\\", PCA(n_components=2)),\\n        (\\\"std\\\", StandardScaler()),\\n        (\\\"Decision_tree\\\", DecisionTreeClassifier()),\\n    ],\\n    verbose=True,\\n)\\n\\npipe.fit(X_train, y_train)\\n\\nprint()\\nprint(\\\"Training set score: \\\" + str(pipe.score(X_train, y_train)))\\nprint(\\\"Test set score: \\\" + str(pipe.score(X_test, y_test)))\\n\\n\\\"\\\"\\\"\";\n",
       "                var nbb_formatted_code = \"\\\"\\\"\\\"\\nfrom sklearn import datasets\\nfrom sklearn.model_selection import train_test_split\\nfrom sklearn.preprocessing import StandardScaler\\nfrom sklearn.decomposition import PCA\\nfrom sklearn.tree import DecisionTreeClassifier\\n\\n# import some data within sklearn for iris classification\\niris = datasets.load_iris()\\nX = iris.data\\ny = iris.target\\n\\nX_train, X_test, y_train, y_test = train_test_split(X, y, test_size=0.25)\\n\\nfrom sklearn.pipeline import Pipeline\\n\\npipe = Pipeline(\\n    [\\n        (\\\"pca\\\", PCA(n_components=2)),\\n        (\\\"std\\\", StandardScaler()),\\n        (\\\"Decision_tree\\\", DecisionTreeClassifier()),\\n    ],\\n    verbose=True,\\n)\\n\\npipe.fit(X_train, y_train)\\n\\nprint()\\nprint(\\\"Training set score: \\\" + str(pipe.score(X_train, y_train)))\\nprint(\\\"Test set score: \\\" + str(pipe.score(X_test, y_test)))\\n\\n\\\"\\\"\\\"\";\n",
       "                var nbb_cells = Jupyter.notebook.get_cells();\n",
       "                for (var i = 0; i < nbb_cells.length; ++i) {\n",
       "                    if (nbb_cells[i].input_prompt_number == nbb_cell_id) {\n",
       "                        if (nbb_cells[i].get_text() == nbb_unformatted_code) {\n",
       "                             nbb_cells[i].set_text(nbb_formatted_code);\n",
       "                        }\n",
       "                        break;\n",
       "                    }\n",
       "                }\n",
       "            }, 500);\n",
       "            "
      ],
      "text/plain": [
       "<IPython.core.display.Javascript object>"
      ]
     },
     "metadata": {},
     "output_type": "display_data"
    }
   ],
   "source": [
    "\"\"\"\n",
    "from sklearn import datasets\n",
    "from sklearn.model_selection import train_test_split\n",
    "from sklearn.preprocessing import StandardScaler\n",
    "from sklearn.decomposition import PCA\n",
    "from sklearn.tree import DecisionTreeClassifier\n",
    "\n",
    "# import some data within sklearn for iris classification\n",
    "iris = datasets.load_iris()\n",
    "X = iris.data\n",
    "y = iris.target\n",
    "\n",
    "X_train, X_test, y_train, y_test = train_test_split(X, y, test_size=0.25)\n",
    "\n",
    "from sklearn.pipeline import Pipeline\n",
    "\n",
    "pipe = Pipeline(\n",
    "    [\n",
    "        (\"pca\", PCA(n_components=2)),\n",
    "        (\"std\", StandardScaler()),\n",
    "        (\"Decision_tree\", DecisionTreeClassifier()),\n",
    "    ],\n",
    "    verbose=True,\n",
    ")\n",
    "\n",
    "pipe.fit(X_train, y_train)\n",
    "\n",
    "print()\n",
    "print(\"Training set score: \" + str(pipe.score(X_train, y_train)))\n",
    "print(\"Test set score: \" + str(pipe.score(X_test, y_test)))\n",
    "\n",
    "\"\"\""
   ]
  },
  {
   "cell_type": "code",
   "execution_count": 7,
   "id": "2217ef5a",
   "metadata": {},
   "outputs": [
    {
     "name": "stdout",
     "output_type": "stream",
     "text": [
      "(7088, 16) (3039, 16)\n"
     ]
    },
    {
     "data": {
      "application/javascript": [
       "\n",
       "            setTimeout(function() {\n",
       "                var nbb_cell_id = 7;\n",
       "                var nbb_unformatted_code = \"cols_reqd_X = [\\n    \\\"Customer_Age\\\",\\n    \\\"Gender\\\",\\n    \\\"Dependent_count\\\",\\n    \\\"Education_Level\\\",\\n    \\\"Marital_Status\\\",\\n    \\\"Income_Category\\\",\\n    \\\"Card_Category\\\",\\n    \\\"Months_on_book\\\",\\n    \\\"Total_Relationship_Count\\\",\\n    \\\"Months_Inactive_12_mon\\\",\\n    \\\"Total_Amt_Chng_Q4_Q1\\\",\\n    \\\"Total_Ct_Chng_Q4_Q1\\\",\\n    \\\"Avg_Utilization_Ratio\\\",\\n    \\\"Credit_Limit\\\",\\n    \\\"Total_Revolving_Bal\\\",\\n    \\\"Total_Trans_Amt\\\",\\n]\\n\\n\\nreplaceStruct = {\\\"Attrition_Flag\\\": {\\\"Existing Customer\\\": 0, \\\"Attrited Customer\\\": 1}}\\n\\n# Separating target variable and other variables\\nX = data1[cols_reqd_X]\\nY = data1[\\\"Attrition_Flag\\\"].map({\\\"Existing Customer\\\": 0, \\\"Attrited Customer\\\": 1})\\n\\n\\n# import some data within sklearn for iris classification\\n# iris = datasets.load_iris()\\n# X = iris.data\\n# Y = iris.target\\n\\n# Splitting the data into train and test sets\\nX_train, X_test, y_train, y_test = train_test_split(\\n    X, Y, test_size=0.30, random_state=1, stratify=Y\\n)\\nprint(X_train.shape, X_test.shape)\";\n",
       "                var nbb_formatted_code = \"cols_reqd_X = [\\n    \\\"Customer_Age\\\",\\n    \\\"Gender\\\",\\n    \\\"Dependent_count\\\",\\n    \\\"Education_Level\\\",\\n    \\\"Marital_Status\\\",\\n    \\\"Income_Category\\\",\\n    \\\"Card_Category\\\",\\n    \\\"Months_on_book\\\",\\n    \\\"Total_Relationship_Count\\\",\\n    \\\"Months_Inactive_12_mon\\\",\\n    \\\"Total_Amt_Chng_Q4_Q1\\\",\\n    \\\"Total_Ct_Chng_Q4_Q1\\\",\\n    \\\"Avg_Utilization_Ratio\\\",\\n    \\\"Credit_Limit\\\",\\n    \\\"Total_Revolving_Bal\\\",\\n    \\\"Total_Trans_Amt\\\",\\n]\\n\\n\\nreplaceStruct = {\\\"Attrition_Flag\\\": {\\\"Existing Customer\\\": 0, \\\"Attrited Customer\\\": 1}}\\n\\n# Separating target variable and other variables\\nX = data1[cols_reqd_X]\\nY = data1[\\\"Attrition_Flag\\\"].map({\\\"Existing Customer\\\": 0, \\\"Attrited Customer\\\": 1})\\n\\n\\n# import some data within sklearn for iris classification\\n# iris = datasets.load_iris()\\n# X = iris.data\\n# Y = iris.target\\n\\n# Splitting the data into train and test sets\\nX_train, X_test, y_train, y_test = train_test_split(\\n    X, Y, test_size=0.30, random_state=1, stratify=Y\\n)\\nprint(X_train.shape, X_test.shape)\";\n",
       "                var nbb_cells = Jupyter.notebook.get_cells();\n",
       "                for (var i = 0; i < nbb_cells.length; ++i) {\n",
       "                    if (nbb_cells[i].input_prompt_number == nbb_cell_id) {\n",
       "                        if (nbb_cells[i].get_text() == nbb_unformatted_code) {\n",
       "                             nbb_cells[i].set_text(nbb_formatted_code);\n",
       "                        }\n",
       "                        break;\n",
       "                    }\n",
       "                }\n",
       "            }, 500);\n",
       "            "
      ],
      "text/plain": [
       "<IPython.core.display.Javascript object>"
      ]
     },
     "metadata": {},
     "output_type": "display_data"
    }
   ],
   "source": [
    "cols_reqd_X = [\n",
    "    \"Customer_Age\",\n",
    "    \"Gender\",\n",
    "    \"Dependent_count\",\n",
    "    \"Education_Level\",\n",
    "    \"Marital_Status\",\n",
    "    \"Income_Category\",\n",
    "    \"Card_Category\",\n",
    "    \"Months_on_book\",\n",
    "    \"Total_Relationship_Count\",\n",
    "    \"Months_Inactive_12_mon\",\n",
    "    \"Total_Amt_Chng_Q4_Q1\",\n",
    "    \"Total_Ct_Chng_Q4_Q1\",\n",
    "    \"Avg_Utilization_Ratio\",\n",
    "    \"Credit_Limit\",\n",
    "    \"Total_Revolving_Bal\",\n",
    "    \"Total_Trans_Amt\",\n",
    "]\n",
    "\n",
    "\n",
    "replaceStruct = {\"Attrition_Flag\": {\"Existing Customer\": 0, \"Attrited Customer\": 1}}\n",
    "\n",
    "# Separating target variable and other variables\n",
    "X = data1[cols_reqd_X]\n",
    "Y = data1[\"Attrition_Flag\"].map({\"Existing Customer\": 0, \"Attrited Customer\": 1})\n",
    "\n",
    "\n",
    "# import some data within sklearn for iris classification\n",
    "# iris = datasets.load_iris()\n",
    "# X = iris.data\n",
    "# Y = iris.target\n",
    "\n",
    "# Splitting the data into train and test sets\n",
    "X_train, X_test, y_train, y_test = train_test_split(\n",
    "    X, Y, test_size=0.30, random_state=1, stratify=Y\n",
    ")\n",
    "print(X_train.shape, X_test.shape)"
   ]
  },
  {
   "cell_type": "code",
   "execution_count": 8,
   "id": "975b47a2",
   "metadata": {},
   "outputs": [
    {
     "data": {
      "text/plain": [
       "0    0.839306\n",
       "1    0.160694\n",
       "Name: Attrition_Flag, dtype: float64"
      ]
     },
     "execution_count": 8,
     "metadata": {},
     "output_type": "execute_result"
    },
    {
     "data": {
      "application/javascript": [
       "\n",
       "            setTimeout(function() {\n",
       "                var nbb_cell_id = 8;\n",
       "                var nbb_unformatted_code = \"y_train.value_counts(normalize=True)\";\n",
       "                var nbb_formatted_code = \"y_train.value_counts(normalize=True)\";\n",
       "                var nbb_cells = Jupyter.notebook.get_cells();\n",
       "                for (var i = 0; i < nbb_cells.length; ++i) {\n",
       "                    if (nbb_cells[i].input_prompt_number == nbb_cell_id) {\n",
       "                        if (nbb_cells[i].get_text() == nbb_unformatted_code) {\n",
       "                             nbb_cells[i].set_text(nbb_formatted_code);\n",
       "                        }\n",
       "                        break;\n",
       "                    }\n",
       "                }\n",
       "            }, 500);\n",
       "            "
      ],
      "text/plain": [
       "<IPython.core.display.Javascript object>"
      ]
     },
     "metadata": {},
     "output_type": "display_data"
    }
   ],
   "source": [
    "y_train.value_counts(normalize=True)"
   ]
  },
  {
   "cell_type": "code",
   "execution_count": 9,
   "id": "8f6bae77",
   "metadata": {},
   "outputs": [
    {
     "data": {
      "text/plain": [
       "0    0.839421\n",
       "1    0.160579\n",
       "Name: Attrition_Flag, dtype: float64"
      ]
     },
     "execution_count": 9,
     "metadata": {},
     "output_type": "execute_result"
    },
    {
     "data": {
      "application/javascript": [
       "\n",
       "            setTimeout(function() {\n",
       "                var nbb_cell_id = 9;\n",
       "                var nbb_unformatted_code = \"y_test.value_counts(normalize=True)\";\n",
       "                var nbb_formatted_code = \"y_test.value_counts(normalize=True)\";\n",
       "                var nbb_cells = Jupyter.notebook.get_cells();\n",
       "                for (var i = 0; i < nbb_cells.length; ++i) {\n",
       "                    if (nbb_cells[i].input_prompt_number == nbb_cell_id) {\n",
       "                        if (nbb_cells[i].get_text() == nbb_unformatted_code) {\n",
       "                             nbb_cells[i].set_text(nbb_formatted_code);\n",
       "                        }\n",
       "                        break;\n",
       "                    }\n",
       "                }\n",
       "            }, 500);\n",
       "            "
      ],
      "text/plain": [
       "<IPython.core.display.Javascript object>"
      ]
     },
     "metadata": {},
     "output_type": "display_data"
    }
   ],
   "source": [
    "y_test.value_counts(normalize=True)"
   ]
  },
  {
   "cell_type": "code",
   "execution_count": 10,
   "id": "eeb3bcae",
   "metadata": {},
   "outputs": [
    {
     "data": {
      "application/javascript": [
       "\n",
       "            setTimeout(function() {\n",
       "                var nbb_cell_id = 10;\n",
       "                var nbb_unformatted_code = \"def log_transform(x):\\n    print(x)\\n    return np.log(x + 1)\\n\\n\\nscaler = StandardScaler()\\ntransformer = FunctionTransformer(log_transform)\\n\\n# X_train_log = transformer.fit_transform(X_train, log_transform_features)\\n# X_train_log.shape\";\n",
       "                var nbb_formatted_code = \"def log_transform(x):\\n    print(x)\\n    return np.log(x + 1)\\n\\n\\nscaler = StandardScaler()\\ntransformer = FunctionTransformer(log_transform)\\n\\n# X_train_log = transformer.fit_transform(X_train, log_transform_features)\\n# X_train_log.shape\";\n",
       "                var nbb_cells = Jupyter.notebook.get_cells();\n",
       "                for (var i = 0; i < nbb_cells.length; ++i) {\n",
       "                    if (nbb_cells[i].input_prompt_number == nbb_cell_id) {\n",
       "                        if (nbb_cells[i].get_text() == nbb_unformatted_code) {\n",
       "                             nbb_cells[i].set_text(nbb_formatted_code);\n",
       "                        }\n",
       "                        break;\n",
       "                    }\n",
       "                }\n",
       "            }, 500);\n",
       "            "
      ],
      "text/plain": [
       "<IPython.core.display.Javascript object>"
      ]
     },
     "metadata": {},
     "output_type": "display_data"
    }
   ],
   "source": [
    "def log_transform(x):\n",
    "    print(x)\n",
    "    return np.log(x + 1)\n",
    "\n",
    "\n",
    "scaler = StandardScaler()\n",
    "transformer = FunctionTransformer(log_transform)\n",
    "\n",
    "# X_train_log = transformer.fit_transform(X_train, log_transform_features)\n",
    "# X_train_log.shape"
   ]
  },
  {
   "cell_type": "code",
   "execution_count": 11,
   "id": "ef3fbc30",
   "metadata": {},
   "outputs": [
    {
     "data": {
      "application/javascript": [
       "\n",
       "            setTimeout(function() {\n",
       "                var nbb_cell_id = 11;\n",
       "                var nbb_unformatted_code = \"# For Log Transform\\ndef log_transform(x):\\n    return np.log(x + 1)\\n\\n\\n# Collect all Numerical Columns that needs imputation\\n\\nnumerical_features = [\\n    \\\"Customer_Age\\\",\\n    \\\"Dependent_count\\\",\\n    \\\"Months_on_book\\\",\\n    \\\"Total_Relationship_Count\\\",\\n    \\\"Months_Inactive_12_mon\\\",\\n    \\\"Total_Revolving_Bal\\\",\\n    \\\"Total_Amt_Chng_Q4_Q1\\\",\\n    \\\"Total_Trans_Amt\\\",\\n    \\\"Credit_Limit\\\",\\n    \\\"Total_Ct_Chng_Q4_Q1\\\",\\n    \\\"Avg_Utilization_Ratio\\\",\\n]\\n\\n\\nlog_transform_features = [\\n    \\\"Credit_Limit\\\",\\n    \\\"Total_Revolving_Bal\\\",\\n    \\\"Total_Trans_Amt\\\",\\n]\\n\\n# Collect all Categorical Columns that needs imputation\\ncategorical_features = [\\n    \\\"Education_Level\\\",\\n    \\\"Gender\\\",\\n    \\\"Marital_Status\\\",\\n    \\\"Income_Category\\\",\\n    \\\"Card_Category\\\",\\n]\\n\\n\\n# creating a transformer for numerical variables, which will apply simple imputer on the numerical variables\\nnumeric_transformer = Pipeline(steps=[(\\\"imputer\\\", SimpleImputer(strategy=\\\"median\\\"))])\\n\\n# creating a transformer for numerical variables with data skewness Log Transformation\\nnumeric_log_transformer = Pipeline(steps=[(\\\"log\\\", FunctionTransformer(log_transform))])\\n\\n# creating a transformer for categorical variables, which will first apply simple imputer and\\n# then do one hot encoding for categorical variables\\ncategorical_transformer = Pipeline(\\n    steps=[\\n        (\\\"imputer\\\", SimpleImputer(strategy=\\\"constant\\\", fill_value=\\\"Unknown\\\")),\\n        (\\\"onehot\\\", OneHotEncoder(handle_unknown=\\\"ignore\\\")),\\n    ]\\n)\\n# handle_unknown = \\\"ignore\\\", allows model to handle any unknown category in the test data\\n\\n\\n# combining categorical transformer and numerical transformer using a column transformer\\n\\npreprocessor = ColumnTransformer(\\n    transformers=[\\n        (\\\"num\\\", numeric_transformer, numerical_features),\\n        (\\\"log\\\", numeric_log_transformer, log_transform_features),\\n        (\\\"cat\\\", categorical_transformer, categorical_features),\\n    ],\\n)\";\n",
       "                var nbb_formatted_code = \"# For Log Transform\\ndef log_transform(x):\\n    return np.log(x + 1)\\n\\n\\n# Collect all Numerical Columns that needs imputation\\n\\nnumerical_features = [\\n    \\\"Customer_Age\\\",\\n    \\\"Dependent_count\\\",\\n    \\\"Months_on_book\\\",\\n    \\\"Total_Relationship_Count\\\",\\n    \\\"Months_Inactive_12_mon\\\",\\n    \\\"Total_Revolving_Bal\\\",\\n    \\\"Total_Amt_Chng_Q4_Q1\\\",\\n    \\\"Total_Trans_Amt\\\",\\n    \\\"Credit_Limit\\\",\\n    \\\"Total_Ct_Chng_Q4_Q1\\\",\\n    \\\"Avg_Utilization_Ratio\\\",\\n]\\n\\n\\nlog_transform_features = [\\n    \\\"Credit_Limit\\\",\\n    \\\"Total_Revolving_Bal\\\",\\n    \\\"Total_Trans_Amt\\\",\\n]\\n\\n# Collect all Categorical Columns that needs imputation\\ncategorical_features = [\\n    \\\"Education_Level\\\",\\n    \\\"Gender\\\",\\n    \\\"Marital_Status\\\",\\n    \\\"Income_Category\\\",\\n    \\\"Card_Category\\\",\\n]\\n\\n\\n# creating a transformer for numerical variables, which will apply simple imputer on the numerical variables\\nnumeric_transformer = Pipeline(steps=[(\\\"imputer\\\", SimpleImputer(strategy=\\\"median\\\"))])\\n\\n# creating a transformer for numerical variables with data skewness Log Transformation\\nnumeric_log_transformer = Pipeline(steps=[(\\\"log\\\", FunctionTransformer(log_transform))])\\n\\n# creating a transformer for categorical variables, which will first apply simple imputer and\\n# then do one hot encoding for categorical variables\\ncategorical_transformer = Pipeline(\\n    steps=[\\n        (\\\"imputer\\\", SimpleImputer(strategy=\\\"constant\\\", fill_value=\\\"Unknown\\\")),\\n        (\\\"onehot\\\", OneHotEncoder(handle_unknown=\\\"ignore\\\")),\\n    ]\\n)\\n# handle_unknown = \\\"ignore\\\", allows model to handle any unknown category in the test data\\n\\n\\n# combining categorical transformer and numerical transformer using a column transformer\\n\\npreprocessor = ColumnTransformer(\\n    transformers=[\\n        (\\\"num\\\", numeric_transformer, numerical_features),\\n        (\\\"log\\\", numeric_log_transformer, log_transform_features),\\n        (\\\"cat\\\", categorical_transformer, categorical_features),\\n    ],\\n)\";\n",
       "                var nbb_cells = Jupyter.notebook.get_cells();\n",
       "                for (var i = 0; i < nbb_cells.length; ++i) {\n",
       "                    if (nbb_cells[i].input_prompt_number == nbb_cell_id) {\n",
       "                        if (nbb_cells[i].get_text() == nbb_unformatted_code) {\n",
       "                             nbb_cells[i].set_text(nbb_formatted_code);\n",
       "                        }\n",
       "                        break;\n",
       "                    }\n",
       "                }\n",
       "            }, 500);\n",
       "            "
      ],
      "text/plain": [
       "<IPython.core.display.Javascript object>"
      ]
     },
     "metadata": {},
     "output_type": "display_data"
    }
   ],
   "source": [
    "# For Log Transform\n",
    "def log_transform(x):\n",
    "    return np.log(x + 1)\n",
    "\n",
    "\n",
    "# Collect all Numerical Columns that needs imputation\n",
    "\n",
    "numerical_features = [\n",
    "    \"Customer_Age\",\n",
    "    \"Dependent_count\",\n",
    "    \"Months_on_book\",\n",
    "    \"Total_Relationship_Count\",\n",
    "    \"Months_Inactive_12_mon\",\n",
    "    \"Total_Revolving_Bal\",\n",
    "    \"Total_Amt_Chng_Q4_Q1\",\n",
    "    \"Total_Trans_Amt\",\n",
    "    \"Credit_Limit\",\n",
    "    \"Total_Ct_Chng_Q4_Q1\",\n",
    "    \"Avg_Utilization_Ratio\",\n",
    "]\n",
    "\n",
    "\n",
    "log_transform_features = [\n",
    "    \"Credit_Limit\",\n",
    "    \"Total_Revolving_Bal\",\n",
    "    \"Total_Trans_Amt\",\n",
    "]\n",
    "\n",
    "# Collect all Categorical Columns that needs imputation\n",
    "categorical_features = [\n",
    "    \"Education_Level\",\n",
    "    \"Gender\",\n",
    "    \"Marital_Status\",\n",
    "    \"Income_Category\",\n",
    "    \"Card_Category\",\n",
    "]\n",
    "\n",
    "\n",
    "# creating a transformer for numerical variables, which will apply simple imputer on the numerical variables\n",
    "numeric_transformer = Pipeline(steps=[(\"imputer\", SimpleImputer(strategy=\"median\"))])\n",
    "\n",
    "# creating a transformer for numerical variables with data skewness Log Transformation\n",
    "numeric_log_transformer = Pipeline(steps=[(\"log\", FunctionTransformer(log_transform))])\n",
    "\n",
    "# creating a transformer for categorical variables, which will first apply simple imputer and\n",
    "# then do one hot encoding for categorical variables\n",
    "categorical_transformer = Pipeline(\n",
    "    steps=[\n",
    "        (\"imputer\", SimpleImputer(strategy=\"constant\", fill_value=\"Unknown\")),\n",
    "        (\"onehot\", OneHotEncoder(handle_unknown=\"ignore\")),\n",
    "    ]\n",
    ")\n",
    "# handle_unknown = \"ignore\", allows model to handle any unknown category in the test data\n",
    "\n",
    "\n",
    "# combining categorical transformer and numerical transformer using a column transformer\n",
    "\n",
    "preprocessor = ColumnTransformer(\n",
    "    transformers=[\n",
    "        (\"num\", numeric_transformer, numerical_features),\n",
    "        (\"log\", numeric_log_transformer, log_transform_features),\n",
    "        (\"cat\", categorical_transformer, categorical_features),\n",
    "    ],\n",
    ")"
   ]
  },
  {
   "cell_type": "code",
   "execution_count": 12,
   "id": "abb23ea0",
   "metadata": {},
   "outputs": [
    {
     "data": {
      "application/javascript": [
       "\n",
       "            setTimeout(function() {\n",
       "                var nbb_cell_id = 12;\n",
       "                var nbb_unformatted_code = \"# Model Based on Parameters based on hypertuning performance\\ngbc_tuned = GradientBoostingClassifier(\\n    random_state=1, subsample=1.0, n_estimators=100, max_depth=5, learning_rate=0.1\\n)\";\n",
       "                var nbb_formatted_code = \"# Model Based on Parameters based on hypertuning performance\\ngbc_tuned = GradientBoostingClassifier(\\n    random_state=1, subsample=1.0, n_estimators=100, max_depth=5, learning_rate=0.1\\n)\";\n",
       "                var nbb_cells = Jupyter.notebook.get_cells();\n",
       "                for (var i = 0; i < nbb_cells.length; ++i) {\n",
       "                    if (nbb_cells[i].input_prompt_number == nbb_cell_id) {\n",
       "                        if (nbb_cells[i].get_text() == nbb_unformatted_code) {\n",
       "                             nbb_cells[i].set_text(nbb_formatted_code);\n",
       "                        }\n",
       "                        break;\n",
       "                    }\n",
       "                }\n",
       "            }, 500);\n",
       "            "
      ],
      "text/plain": [
       "<IPython.core.display.Javascript object>"
      ]
     },
     "metadata": {},
     "output_type": "display_data"
    }
   ],
   "source": [
    "# Model Based on Parameters based on hypertuning performance\n",
    "gbc_tuned = GradientBoostingClassifier(\n",
    "    random_state=1, subsample=1.0, n_estimators=100, max_depth=5, learning_rate=0.1\n",
    ")"
   ]
  },
  {
   "cell_type": "code",
   "execution_count": 13,
   "id": "8466acd4",
   "metadata": {},
   "outputs": [
    {
     "name": "stdout",
     "output_type": "stream",
     "text": [
      "[Pipeline] ............... (step 1 of 2) Processing pre, total=   0.0s\n",
      "[Pipeline] ......... (step 2 of 2) Processing GBC-Tuned, total=   2.7s\n"
     ]
    },
    {
     "data": {
      "text/plain": [
       "Pipeline(steps=[('pre',\n",
       "                 ColumnTransformer(transformers=[('num',\n",
       "                                                  Pipeline(steps=[('imputer',\n",
       "                                                                   SimpleImputer(strategy='median'))]),\n",
       "                                                  ['Customer_Age',\n",
       "                                                   'Dependent_count',\n",
       "                                                   'Months_on_book',\n",
       "                                                   'Total_Relationship_Count',\n",
       "                                                   'Months_Inactive_12_mon',\n",
       "                                                   'Total_Revolving_Bal',\n",
       "                                                   'Total_Amt_Chng_Q4_Q1',\n",
       "                                                   'Total_Trans_Amt',\n",
       "                                                   'Credit_Limit',\n",
       "                                                   'Total_Ct_Chng_Q4_Q1',\n",
       "                                                   'Avg_Utilization_Ratio...\n",
       "                                                   'Total_Revolving_Bal',\n",
       "                                                   'Total_Trans_Amt']),\n",
       "                                                 ('cat',\n",
       "                                                  Pipeline(steps=[('imputer',\n",
       "                                                                   SimpleImputer(fill_value='Unknown',\n",
       "                                                                                 strategy='constant')),\n",
       "                                                                  ('onehot',\n",
       "                                                                   OneHotEncoder(handle_unknown='ignore'))]),\n",
       "                                                  ['Education_Level', 'Gender',\n",
       "                                                   'Marital_Status',\n",
       "                                                   'Income_Category',\n",
       "                                                   'Card_Category'])])),\n",
       "                ('GBC-Tuned',\n",
       "                 GradientBoostingClassifier(max_depth=5, random_state=1))],\n",
       "         verbose=True)"
      ]
     },
     "execution_count": 13,
     "metadata": {},
     "output_type": "execute_result"
    },
    {
     "data": {
      "application/javascript": [
       "\n",
       "            setTimeout(function() {\n",
       "                var nbb_cell_id = 13;\n",
       "                var nbb_unformatted_code = \"# Creating new pipeline with best parameters\\nfinal_pipeline_model = Pipeline(\\n    steps=[(\\\"pre\\\", preprocessor), (\\\"GBC-Tuned\\\", gbc_tuned)], verbose=True\\n)\\n\\n# Fit the model on training data\\nfinal_pipeline_model.fit(X_train, y_train)\";\n",
       "                var nbb_formatted_code = \"# Creating new pipeline with best parameters\\nfinal_pipeline_model = Pipeline(\\n    steps=[(\\\"pre\\\", preprocessor), (\\\"GBC-Tuned\\\", gbc_tuned)], verbose=True\\n)\\n\\n# Fit the model on training data\\nfinal_pipeline_model.fit(X_train, y_train)\";\n",
       "                var nbb_cells = Jupyter.notebook.get_cells();\n",
       "                for (var i = 0; i < nbb_cells.length; ++i) {\n",
       "                    if (nbb_cells[i].input_prompt_number == nbb_cell_id) {\n",
       "                        if (nbb_cells[i].get_text() == nbb_unformatted_code) {\n",
       "                             nbb_cells[i].set_text(nbb_formatted_code);\n",
       "                        }\n",
       "                        break;\n",
       "                    }\n",
       "                }\n",
       "            }, 500);\n",
       "            "
      ],
      "text/plain": [
       "<IPython.core.display.Javascript object>"
      ]
     },
     "metadata": {},
     "output_type": "display_data"
    }
   ],
   "source": [
    "# Creating new pipeline with best parameters\n",
    "final_pipeline_model = Pipeline(\n",
    "    steps=[(\"pre\", preprocessor), (\"GBC-Tuned\", gbc_tuned)], verbose=True\n",
    ")\n",
    "\n",
    "# Fit the model on training data\n",
    "final_pipeline_model.fit(X_train, y_train)"
   ]
  },
  {
   "cell_type": "code",
   "execution_count": 14,
   "id": "b95714e7",
   "metadata": {},
   "outputs": [
    {
     "data": {
      "text/plain": [
       "'\\ny_train_pred = final_pipeline_model.predict(X_train)\\ny_test_pred = final_pipeline_model.predict(X_test)\\n\\n\\nprint(f\"Recall Score Train : {recall_score(y_train,y_train_pred,average=\\'weighted\\')}, Test {recall_score(y_test,y_test_pred,average=\\'weighted\\')}\");\\nprint(f\"Accuracy Score Train : {accuracy_score(y_train,y_train_pred)}, Test {accuracy_score(y_test,y_test_pred)}\");\\nprint(f\"F1 Score Train : {f1_score(y_train,y_train_pred,average=\\'weighted\\')}, Test {f1_score(y_test,y_test_pred,average=\\'weighted\\')}\");\\nprint(f\"Precision Score Train : {precision_score(y_train,y_train_pred,average=\\'weighted\\')}, Test {precision_score(y_test,y_test_pred,average=\\'weighted\\')}\");\\n\\n'"
      ]
     },
     "execution_count": 14,
     "metadata": {},
     "output_type": "execute_result"
    },
    {
     "data": {
      "application/javascript": [
       "\n",
       "            setTimeout(function() {\n",
       "                var nbb_cell_id = 14;\n",
       "                var nbb_unformatted_code = \"\\\"\\\"\\\"\\ny_train_pred = final_pipeline_model.predict(X_train)\\ny_test_pred = final_pipeline_model.predict(X_test)\\n\\n\\nprint(f\\\"Recall Score Train : {recall_score(y_train,y_train_pred,average='weighted')}, Test {recall_score(y_test,y_test_pred,average='weighted')}\\\");\\nprint(f\\\"Accuracy Score Train : {accuracy_score(y_train,y_train_pred)}, Test {accuracy_score(y_test,y_test_pred)}\\\");\\nprint(f\\\"F1 Score Train : {f1_score(y_train,y_train_pred,average='weighted')}, Test {f1_score(y_test,y_test_pred,average='weighted')}\\\");\\nprint(f\\\"Precision Score Train : {precision_score(y_train,y_train_pred,average='weighted')}, Test {precision_score(y_test,y_test_pred,average='weighted')}\\\");\\n\\n\\\"\\\"\\\"\";\n",
       "                var nbb_formatted_code = \"\\\"\\\"\\\"\\ny_train_pred = final_pipeline_model.predict(X_train)\\ny_test_pred = final_pipeline_model.predict(X_test)\\n\\n\\nprint(f\\\"Recall Score Train : {recall_score(y_train,y_train_pred,average='weighted')}, Test {recall_score(y_test,y_test_pred,average='weighted')}\\\");\\nprint(f\\\"Accuracy Score Train : {accuracy_score(y_train,y_train_pred)}, Test {accuracy_score(y_test,y_test_pred)}\\\");\\nprint(f\\\"F1 Score Train : {f1_score(y_train,y_train_pred,average='weighted')}, Test {f1_score(y_test,y_test_pred,average='weighted')}\\\");\\nprint(f\\\"Precision Score Train : {precision_score(y_train,y_train_pred,average='weighted')}, Test {precision_score(y_test,y_test_pred,average='weighted')}\\\");\\n\\n\\\"\\\"\\\"\";\n",
       "                var nbb_cells = Jupyter.notebook.get_cells();\n",
       "                for (var i = 0; i < nbb_cells.length; ++i) {\n",
       "                    if (nbb_cells[i].input_prompt_number == nbb_cell_id) {\n",
       "                        if (nbb_cells[i].get_text() == nbb_unformatted_code) {\n",
       "                             nbb_cells[i].set_text(nbb_formatted_code);\n",
       "                        }\n",
       "                        break;\n",
       "                    }\n",
       "                }\n",
       "            }, 500);\n",
       "            "
      ],
      "text/plain": [
       "<IPython.core.display.Javascript object>"
      ]
     },
     "metadata": {},
     "output_type": "display_data"
    }
   ],
   "source": [
    "\"\"\"\n",
    "y_train_pred = final_pipeline_model.predict(X_train)\n",
    "y_test_pred = final_pipeline_model.predict(X_test)\n",
    "\n",
    "\n",
    "print(f\"Recall Score Train : {recall_score(y_train,y_train_pred,average='weighted')}, Test {recall_score(y_test,y_test_pred,average='weighted')}\");\n",
    "print(f\"Accuracy Score Train : {accuracy_score(y_train,y_train_pred)}, Test {accuracy_score(y_test,y_test_pred)}\");\n",
    "print(f\"F1 Score Train : {f1_score(y_train,y_train_pred,average='weighted')}, Test {f1_score(y_test,y_test_pred,average='weighted')}\");\n",
    "print(f\"Precision Score Train : {precision_score(y_train,y_train_pred,average='weighted')}, Test {precision_score(y_test,y_test_pred,average='weighted')}\");\n",
    "\n",
    "\"\"\""
   ]
  },
  {
   "cell_type": "code",
   "execution_count": 16,
   "id": "b7dff5d1",
   "metadata": {},
   "outputs": [
    {
     "data": {
      "text/html": [
       "<div>\n",
       "<style scoped>\n",
       "    .dataframe tbody tr th:only-of-type {\n",
       "        vertical-align: middle;\n",
       "    }\n",
       "\n",
       "    .dataframe tbody tr th {\n",
       "        vertical-align: top;\n",
       "    }\n",
       "\n",
       "    .dataframe thead th {\n",
       "        text-align: right;\n",
       "    }\n",
       "</style>\n",
       "<table border=\"1\" class=\"dataframe\">\n",
       "  <thead>\n",
       "    <tr style=\"text-align: right;\">\n",
       "      <th></th>\n",
       "      <th>Model</th>\n",
       "      <th>Data</th>\n",
       "      <th>Data Shape</th>\n",
       "      <th>Recall</th>\n",
       "      <th>F1-Score</th>\n",
       "      <th>Accuracy</th>\n",
       "      <th>Precision</th>\n",
       "      <th>ROC-AUC</th>\n",
       "    </tr>\n",
       "  </thead>\n",
       "  <tbody>\n",
       "    <tr>\n",
       "      <th>0</th>\n",
       "      <td>PipeLine Model - Train &amp; Test</td>\n",
       "      <td>Training</td>\n",
       "      <td>(7088, 16)</td>\n",
       "      <td>94.996</td>\n",
       "      <td>96.092</td>\n",
       "      <td>98.758</td>\n",
       "      <td>97.215</td>\n",
       "      <td>97.237</td>\n",
       "    </tr>\n",
       "    <tr>\n",
       "      <th>1</th>\n",
       "      <td>PipeLine Model - Train &amp; Test</td>\n",
       "      <td>Validation/Test</td>\n",
       "      <td>(3039, 16)</td>\n",
       "      <td>84.016</td>\n",
       "      <td>87.701</td>\n",
       "      <td>96.216</td>\n",
       "      <td>91.723</td>\n",
       "      <td>91.283</td>\n",
       "    </tr>\n",
       "  </tbody>\n",
       "</table>\n",
       "</div>"
      ],
      "text/plain": [
       "                           Model             Data  Data Shape  Recall  \\\n",
       "0  PipeLine Model - Train & Test         Training  (7088, 16)  94.996   \n",
       "1  PipeLine Model - Train & Test  Validation/Test  (3039, 16)  84.016   \n",
       "\n",
       "   F1-Score  Accuracy  Precision  ROC-AUC  \n",
       "0    96.092    98.758     97.215   97.237  \n",
       "1    87.701    96.216     91.723   91.283  "
      ]
     },
     "metadata": {},
     "output_type": "display_data"
    },
    {
     "name": "stdout",
     "output_type": "stream",
     "text": [
      "Model 'PipeLine Model - Train & Test' confusion matrix \n",
      "\n",
      "\n"
     ]
    },
    {
     "data": {
      "image/png": "[encoded data removed]",
      "text/plain": [
       "<Figure size 864x432 with 4 Axes>"
      ]
     },
     "metadata": {
      "needs_background": "light"
     },
     "output_type": "display_data"
    },
    {
     "data": {
      "application/javascript": [
       "\n",
       "            setTimeout(function() {\n",
       "                var nbb_cell_id = 16;\n",
       "                var nbb_unformatted_code = \"display(\\n    model_performance_classification(\\n        \\\"PipeLine Model - Train & Test\\\",\\n        final_pipeline_model,\\n        X_train,\\n        y_train,\\n        X_test,\\n        y_test,\\n    )\\n)\\n\\n\\nconfusion_matrix_classification(\\n    \\\"PipeLine Model - Train & Test\\\",\\n    final_pipeline_model,\\n    X_train,\\n    y_train,\\n    X_test,\\n    y_test,\\n)\";\n",
       "                var nbb_formatted_code = \"display(\\n    model_performance_classification(\\n        \\\"PipeLine Model - Train & Test\\\",\\n        final_pipeline_model,\\n        X_train,\\n        y_train,\\n        X_test,\\n        y_test,\\n    )\\n)\\n\\n\\nconfusion_matrix_classification(\\n    \\\"PipeLine Model - Train & Test\\\",\\n    final_pipeline_model,\\n    X_train,\\n    y_train,\\n    X_test,\\n    y_test,\\n)\";\n",
       "                var nbb_cells = Jupyter.notebook.get_cells();\n",
       "                for (var i = 0; i < nbb_cells.length; ++i) {\n",
       "                    if (nbb_cells[i].input_prompt_number == nbb_cell_id) {\n",
       "                        if (nbb_cells[i].get_text() == nbb_unformatted_code) {\n",
       "                             nbb_cells[i].set_text(nbb_formatted_code);\n",
       "                        }\n",
       "                        break;\n",
       "                    }\n",
       "                }\n",
       "            }, 500);\n",
       "            "
      ],
      "text/plain": [
       "<IPython.core.display.Javascript object>"
      ]
     },
     "metadata": {},
     "output_type": "display_data"
    }
   ],
   "source": [
    "display(\n",
    "    model_performance_classification(\n",
    "        \"PipeLine Model - Train & Test\",\n",
    "        final_pipeline_model,\n",
    "        X_train,\n",
    "        y_train,\n",
    "        X_test,\n",
    "        y_test,\n",
    "    )\n",
    ")\n",
    "\n",
    "\n",
    "confusion_matrix_classification(\n",
    "    \"PipeLine Model - Train & Test\",\n",
    "    final_pipeline_model,\n",
    "    X_train,\n",
    "    y_train,\n",
    "    X_test,\n",
    "    y_test,\n",
    ")"
   ]
  },
  {
   "cell_type": "markdown",
   "id": "36a9958f",
   "metadata": {},
   "source": [
    "### Feature importance - Gradient Boosting Tuned Model"
   ]
  },
  {
   "cell_type": "code",
   "execution_count": null,
   "id": "78e4b4a5",
   "metadata": {},
   "outputs": [],
   "source": []
  },
  {
   "cell_type": "code",
   "execution_count": null,
   "id": "0057220e",
   "metadata": {},
   "outputs": [],
   "source": []
  },
  {
   "cell_type": "code",
   "execution_count": null,
   "id": "98ecf2e9",
   "metadata": {},
   "outputs": [],
   "source": []
  },
  {
   "cell_type": "code",
   "execution_count": null,
   "id": "ecdc678f",
   "metadata": {},
   "outputs": [],
   "source": []
  },
  {
   "cell_type": "code",
   "execution_count": null,
   "id": "a39bcdc8",
   "metadata": {},
   "outputs": [],
   "source": []
  }
 ],
 "metadata": {
  "kernelspec": {
   "display_name": "Python 3",
   "language": "python",
   "name": "python3"
  },
  "language_info": {
   "codemirror_mode": {
    "name": "ipython",
    "version": 3
   },
   "file_extension": ".py",
   "mimetype": "text/x-python",
   "name": "python",
   "nbconvert_exporter": "python",
   "pygments_lexer": "ipython3",
   "version": "3.8.8"
  }
 },
 "nbformat": 4,
 "nbformat_minor": 5
}
