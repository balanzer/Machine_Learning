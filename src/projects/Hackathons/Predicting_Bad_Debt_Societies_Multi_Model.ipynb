{
 "cells": [
  {
   "cell_type": "code",
   "execution_count": null,
   "metadata": {
    "id": "nSuCLzbBA2EH"
   },
   "outputs": [],
   "source": [
    "# this will help in making the Python code more structured automatically\n",
    "# %load_ext nb_black\n",
    "\n",
    "import warnings\n",
    "\n",
    "warnings.filterwarnings(\"ignore\")\n",
    "\n",
    "# Libraries to help with reading and manipulating data\n",
    "\n",
    "import pandas as pd\n",
    "import numpy as np\n",
    "\n",
    "# Libraries to help with data visualization\n",
    "import matplotlib.pyplot as plt\n",
    "import seaborn as sns\n",
    "\n",
    "# Removes the limit for the number of displayed columns\n",
    "pd.set_option(\"display.max_columns\", None)\n",
    "# Sets the limit for the number of displayed rows\n",
    "pd.set_option(\"display.max_rows\", 300)\n",
    "\n",
    "\n",
    "\n",
    "# import train_test_split library\n",
    "\n",
    "from sklearn.model_selection import train_test_split\n",
    "\n",
    "\n",
    "# import libraries\n",
    "from sklearn.linear_model import LogisticRegression\n",
    "\n",
    "# Libraries to build decision tree classifier\n",
    "from sklearn.tree import DecisionTreeClassifier\n",
    "from sklearn import tree\n",
    "\n",
    "# To tune different models\n",
    "from sklearn.model_selection import GridSearchCV\n",
    "\n",
    "\n",
    "# To build model for prediction\n",
    "from sklearn.metrics import (\n",
    "    f1_score,\n",
    "    accuracy_score,\n",
    "    recall_score,\n",
    "    precision_score,\n",
    "    confusion_matrix,\n",
    "    roc_auc_score,\n",
    "    plot_confusion_matrix,\n",
    "    precision_recall_curve,\n",
    "    roc_curve,\n",
    "    make_scorer,\n",
    ")\n",
    "\n",
    "\n",
    "# Libraries to import decision tree classifier and different ensemble classifiers\n",
    "from sklearn.ensemble import BaggingClassifier\n",
    "from sklearn.ensemble import RandomForestClassifier\n",
    "from sklearn.ensemble import AdaBoostClassifier, GradientBoostingClassifier\n",
    "from xgboost import XGBClassifier\n",
    "from sklearn.ensemble import StackingClassifier\n",
    "from sklearn.tree import DecisionTreeClassifier\n",
    "\n",
    "# Libtune to tune model, get different metric scores\n",
    "from sklearn import metrics\n",
    "from sklearn.metrics import (\n",
    "    confusion_matrix,\n",
    "    classification_report,\n",
    "    accuracy_score,\n",
    "    precision_score,\n",
    "    recall_score,\n",
    "    f1_score,\n",
    "    roc_auc_score,\n",
    ")\n",
    "from sklearn.model_selection import GridSearchCV"
   ]
  },
  {
   "cell_type": "code",
   "execution_count": null,
   "metadata": {
    "colab": {
     "base_uri": "https://localhost:8080/",
     "height": 72,
     "resources": {
      "http://localhost:8080/nbextensions/google.colab/files.js": {
       "data": "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",
       "headers": [
        [
         "content-type",
         "application/javascript"
        ]
       ],
       "ok": true,
       "status": 200,
       "status_text": ""
      }
     }
    },
    "id": "m0LoRw3JBPMp",
    "outputId": "622f6991-b9f1-45fd-b845-7ecdccc4175f"
   },
   "outputs": [
    {
     "data": {
      "text/html": [
       "\n",
       "     <input type=\"file\" id=\"files-1c3efdcf-81a5-4a90-a324-6d0e917991ca\" name=\"files[]\" multiple disabled\n",
       "        style=\"border:none\" />\n",
       "     <output id=\"result-1c3efdcf-81a5-4a90-a324-6d0e917991ca\">\n",
       "      Upload widget is only available when the cell has been executed in the\n",
       "      current browser session. Please rerun this cell to enable.\n",
       "      </output>\n",
       "      <script src=\"/nbextensions/google.colab/files.js\"></script> "
      ],
      "text/plain": [
       "<IPython.core.display.HTML object>"
      ]
     },
     "metadata": {},
     "output_type": "display_data"
    },
    {
     "name": "stdout",
     "output_type": "stream",
     "text": [
      "Saving account_train_(1).csv to account_train_(1) (3).csv\n",
      "Saving account_test_(1).csv to account_test_(1) (3).csv\n"
     ]
    }
   ],
   "source": [
    "# Read Data \n",
    "\n",
    "from google.colab import files\n",
    "uploaded = files.upload()\n",
    "\n",
    "\n",
    "import io\n",
    "debt = pd.read_csv(io.BytesIO(uploaded['account_train_(1).csv']))\n",
    "debt_test = pd.read_csv(io.BytesIO(uploaded['account_test_(1).csv']))\n",
    "\n",
    "\n",
    "# copying orignal data so that when changing data we dont lose original\n",
    "data = debt.copy()\n",
    "data_validation = debt_test.copy()"
   ]
  },
  {
   "cell_type": "code",
   "execution_count": null,
   "metadata": {
    "colab": {
     "base_uri": "https://localhost:8080/"
    },
    "id": "qvvPt0KRBbiw",
    "outputId": "6ef08daa-00b5-4670-83d9-3a3863d7ad0b"
   },
   "outputs": [
    {
     "name": "stdout",
     "output_type": "stream",
     "text": [
      "data(train) shape after reading csv :  (100476, 16)\n",
      "data_validation(test) shape after reading csv :  (33493, 15)\n"
     ]
    }
   ],
   "source": [
    "# copying orignal data so that when changing data we dont lose original\n",
    "data = debt.copy()\n",
    "data_validation = debt_test.copy()\n",
    "\n",
    "print(f'data(train) shape after reading csv :  {data.shape}')\n",
    "print(f'data_validation(test) shape after reading csv :  {data_validation.shape}')"
   ]
  },
  {
   "cell_type": "code",
   "execution_count": null,
   "metadata": {
    "id": "4fi8kI83CHLY"
   },
   "outputs": [],
   "source": [
    "# Drop CategoryID, AccID,CollectionRatio,DebtBillingRatio   Columns - we can use Category in future\n",
    "data.drop([\"AccID\",\"CategoryID\"], axis=1, inplace=True)\n",
    "data_validation.drop([\"AccID\",\"CategoryID\"], axis=1, inplace=True)"
   ]
  },
  {
   "cell_type": "code",
   "execution_count": null,
   "metadata": {
    "id": "viwGLbnkCKLV"
   },
   "outputs": [],
   "source": [
    "# create a list those columns should be converted as category\n",
    "\n",
    "cat_vars = [\"Category\"]\n",
    "\n",
    "for colname in cat_vars:\n",
    "    data[colname] = data[colname].astype(\"category\")\n",
    "    data_validation[colname] = data[colname].astype(\"category\")\n"
   ]
  },
  {
   "cell_type": "markdown",
   "metadata": {
    "id": "xyzwpd4gN0SK"
   },
   "source": []
  },
  {
   "cell_type": "code",
   "execution_count": null,
   "metadata": {
    "colab": {
     "base_uri": "https://localhost:8080/",
     "height": 452
    },
    "id": "M704dNbnedXa",
    "outputId": "2405b877-f1ed-41ae-e195-4d4f42137986"
   },
   "outputs": [
    {
     "data": {
      "text/html": [
       "<div>\n",
       "<style scoped>\n",
       "    .dataframe tbody tr th:only-of-type {\n",
       "        vertical-align: middle;\n",
       "    }\n",
       "\n",
       "    .dataframe tbody tr th {\n",
       "        vertical-align: top;\n",
       "    }\n",
       "\n",
       "    .dataframe thead th {\n",
       "        text-align: right;\n",
       "    }\n",
       "</style>\n",
       "<table border=\"1\" class=\"dataframe\">\n",
       "  <thead>\n",
       "    <tr style=\"text-align: right;\">\n",
       "      <th></th>\n",
       "      <th>count</th>\n",
       "      <th>mean</th>\n",
       "      <th>std</th>\n",
       "      <th>min</th>\n",
       "      <th>25%</th>\n",
       "      <th>50%</th>\n",
       "      <th>75%</th>\n",
       "      <th>max</th>\n",
       "    </tr>\n",
       "  </thead>\n",
       "  <tbody>\n",
       "    <tr>\n",
       "      <th>Value</th>\n",
       "      <td>100476.0</td>\n",
       "      <td>707020.754379</td>\n",
       "      <td>3.047463e+06</td>\n",
       "      <td>0.0</td>\n",
       "      <td>35000.0</td>\n",
       "      <td>93000.0</td>\n",
       "      <td>750000.00</td>\n",
       "      <td>421860000.0</td>\n",
       "    </tr>\n",
       "    <tr>\n",
       "      <th>PropertySize</th>\n",
       "      <td>100476.0</td>\n",
       "      <td>746822.707124</td>\n",
       "      <td>5.651558e+06</td>\n",
       "      <td>0.0</td>\n",
       "      <td>276.0</td>\n",
       "      <td>511.0</td>\n",
       "      <td>1162.00</td>\n",
       "      <td>270515963.0</td>\n",
       "    </tr>\n",
       "    <tr>\n",
       "      <th>BillingAmt</th>\n",
       "      <td>100476.0</td>\n",
       "      <td>11258.346839</td>\n",
       "      <td>1.253533e+05</td>\n",
       "      <td>0.0</td>\n",
       "      <td>461.0</td>\n",
       "      <td>3141.0</td>\n",
       "      <td>8715.00</td>\n",
       "      <td>26133617.0</td>\n",
       "    </tr>\n",
       "    <tr>\n",
       "      <th>AverageBillingAmt</th>\n",
       "      <td>100476.0</td>\n",
       "      <td>604.714101</td>\n",
       "      <td>6.400668e+03</td>\n",
       "      <td>0.0</td>\n",
       "      <td>23.0</td>\n",
       "      <td>107.0</td>\n",
       "      <td>281.00</td>\n",
       "      <td>805044.0</td>\n",
       "    </tr>\n",
       "    <tr>\n",
       "      <th>CollectedAmt</th>\n",
       "      <td>100476.0</td>\n",
       "      <td>9769.963882</td>\n",
       "      <td>1.201416e+05</td>\n",
       "      <td>0.0</td>\n",
       "      <td>0.0</td>\n",
       "      <td>360.0</td>\n",
       "      <td>7402.25</td>\n",
       "      <td>24371134.0</td>\n",
       "    </tr>\n",
       "    <tr>\n",
       "      <th>AverageCollectedAmt</th>\n",
       "      <td>100476.0</td>\n",
       "      <td>2048.999273</td>\n",
       "      <td>3.681728e+04</td>\n",
       "      <td>0.0</td>\n",
       "      <td>0.0</td>\n",
       "      <td>100.0</td>\n",
       "      <td>768.00</td>\n",
       "      <td>6828297.0</td>\n",
       "    </tr>\n",
       "    <tr>\n",
       "      <th>DebtAmt</th>\n",
       "      <td>100476.0</td>\n",
       "      <td>9642.500070</td>\n",
       "      <td>5.003013e+04</td>\n",
       "      <td>0.0</td>\n",
       "      <td>0.0</td>\n",
       "      <td>0.0</td>\n",
       "      <td>2298.00</td>\n",
       "      <td>6322610.0</td>\n",
       "    </tr>\n",
       "    <tr>\n",
       "      <th>WriteOffAmt</th>\n",
       "      <td>100476.0</td>\n",
       "      <td>602.765327</td>\n",
       "      <td>1.440915e+04</td>\n",
       "      <td>0.0</td>\n",
       "      <td>0.0</td>\n",
       "      <td>0.0</td>\n",
       "      <td>0.00</td>\n",
       "      <td>4306605.0</td>\n",
       "    </tr>\n",
       "    <tr>\n",
       "      <th>CollectionRatio</th>\n",
       "      <td>100476.0</td>\n",
       "      <td>25.689197</td>\n",
       "      <td>5.519402e+03</td>\n",
       "      <td>0.0</td>\n",
       "      <td>0.0</td>\n",
       "      <td>0.5</td>\n",
       "      <td>1.00</td>\n",
       "      <td>1701912.0</td>\n",
       "    </tr>\n",
       "    <tr>\n",
       "      <th>DebtBillingRatio</th>\n",
       "      <td>100476.0</td>\n",
       "      <td>32.456573</td>\n",
       "      <td>5.932453e+03</td>\n",
       "      <td>0.0</td>\n",
       "      <td>0.0</td>\n",
       "      <td>0.0</td>\n",
       "      <td>1.28</td>\n",
       "      <td>1836304.0</td>\n",
       "    </tr>\n",
       "    <tr>\n",
       "      <th>TotalElectricityBill</th>\n",
       "      <td>100476.0</td>\n",
       "      <td>4351.416408</td>\n",
       "      <td>1.050256e+05</td>\n",
       "      <td>0.0</td>\n",
       "      <td>0.0</td>\n",
       "      <td>0.0</td>\n",
       "      <td>88.00</td>\n",
       "      <td>22711689.0</td>\n",
       "    </tr>\n",
       "    <tr>\n",
       "      <th>HasID</th>\n",
       "      <td>100476.0</td>\n",
       "      <td>0.427634</td>\n",
       "      <td>4.947380e-01</td>\n",
       "      <td>0.0</td>\n",
       "      <td>0.0</td>\n",
       "      <td>0.0</td>\n",
       "      <td>1.00</td>\n",
       "      <td>1.0</td>\n",
       "    </tr>\n",
       "    <tr>\n",
       "      <th>Label</th>\n",
       "      <td>100476.0</td>\n",
       "      <td>0.461424</td>\n",
       "      <td>4.985121e-01</td>\n",
       "      <td>0.0</td>\n",
       "      <td>0.0</td>\n",
       "      <td>0.0</td>\n",
       "      <td>1.00</td>\n",
       "      <td>1.0</td>\n",
       "    </tr>\n",
       "  </tbody>\n",
       "</table>\n",
       "</div>"
      ],
      "text/plain": [
       "                         count           mean           std  min      25%  \\\n",
       "Value                 100476.0  707020.754379  3.047463e+06  0.0  35000.0   \n",
       "PropertySize          100476.0  746822.707124  5.651558e+06  0.0    276.0   \n",
       "BillingAmt            100476.0   11258.346839  1.253533e+05  0.0    461.0   \n",
       "AverageBillingAmt     100476.0     604.714101  6.400668e+03  0.0     23.0   \n",
       "CollectedAmt          100476.0    9769.963882  1.201416e+05  0.0      0.0   \n",
       "AverageCollectedAmt   100476.0    2048.999273  3.681728e+04  0.0      0.0   \n",
       "DebtAmt               100476.0    9642.500070  5.003013e+04  0.0      0.0   \n",
       "WriteOffAmt           100476.0     602.765327  1.440915e+04  0.0      0.0   \n",
       "CollectionRatio       100476.0      25.689197  5.519402e+03  0.0      0.0   \n",
       "DebtBillingRatio      100476.0      32.456573  5.932453e+03  0.0      0.0   \n",
       "TotalElectricityBill  100476.0    4351.416408  1.050256e+05  0.0      0.0   \n",
       "HasID                 100476.0       0.427634  4.947380e-01  0.0      0.0   \n",
       "Label                 100476.0       0.461424  4.985121e-01  0.0      0.0   \n",
       "\n",
       "                          50%        75%          max  \n",
       "Value                 93000.0  750000.00  421860000.0  \n",
       "PropertySize            511.0    1162.00  270515963.0  \n",
       "BillingAmt             3141.0    8715.00   26133617.0  \n",
       "AverageBillingAmt       107.0     281.00     805044.0  \n",
       "CollectedAmt            360.0    7402.25   24371134.0  \n",
       "AverageCollectedAmt     100.0     768.00    6828297.0  \n",
       "DebtAmt                   0.0    2298.00    6322610.0  \n",
       "WriteOffAmt               0.0       0.00    4306605.0  \n",
       "CollectionRatio           0.5       1.00    1701912.0  \n",
       "DebtBillingRatio          0.0       1.28    1836304.0  \n",
       "TotalElectricityBill      0.0      88.00   22711689.0  \n",
       "HasID                     0.0       1.00          1.0  \n",
       "Label                     0.0       1.00          1.0  "
      ]
     },
     "execution_count": 194,
     "metadata": {},
     "output_type": "execute_result"
    }
   ],
   "source": [
    "#data['Value_Missing'] = np.where(data['Value']> 0, 0, 1)\n",
    "#data['PropertySize_Missing'] = np.where(data['PropertySize']> 0, 0, 1)\n",
    "#data['Has_DebtAmt'] = np.where(data['DebtAmt']> 0, 1, 0)\n",
    "#data['Has_WriteOffAmt'] = np.where(data['WriteOffAmt']> 0, 1, 0)\n",
    "#data['Has_DebtBillingRatio'] = np.where(data['DebtBillingRatio']> 1, 1, 0)\n",
    "#data['Has_CollectionRatio'] = np.where(data['CollectionRatio']> 1, 1, 0)\n",
    "#data['Has_ElectricityBill'] = np.where(data['TotalElectricityBill']> 0, 1, 0)\n",
    "\n",
    "\n",
    "#data['Has_Pending_Amount'] =np.where((data['BillingAmt'] - data['CollectedAmt'])> 0, 1, 0)\n",
    "#data['Has_Avg_Difference'] =np.where((data['AverageBillingAmt'] - data['AverageCollectedAmt'])> 0, 1, 0)\n",
    "#data['Pending_Amount_divided'] = data['BillingAmt'] / data['CollectedAmt'];\n",
    "#data['Avg_Difference_divided'] = data['AverageBillingAmt'] / data['AverageCollectedAmt'];\n",
    "\n",
    "#data['Amt_diff'] = np.where((data['CollectedAmt'] - data['BillingAmt'])> 0, 1, 0)\n",
    "#data['Average_diff'] = np.where((data['AverageCollectedAmt'] - data['AverageBillingAmt'])> 0, 1, 0)\n",
    "\n",
    "\n",
    "\n",
    "\n",
    "#data_validation['Value_Missing'] = np.where(data_validation['Value']> 0, 0, 1)\n",
    "#data_validation['PropertySize_Missing'] = np.where(data_validation['PropertySize']> 0, 0, 1)\n",
    "#data_validation['Has_DebtAmt'] = np.where(data_validation['DebtAmt']> 0, 1, 0)\n",
    "#data_validation['Has_WriteOffAmt'] = np.where(data_validation['WriteOffAmt']> 0, 1, 0)\n",
    "#data_validation['Has_DebtBillingRatio'] = np.where(data_validation['DebtBillingRatio']> 0, 1, 0)\n",
    "#data_validation['Has_CollectionRatio'] = np.where(data_validation['CollectionRatio']> 0, 1, 0)\n",
    "#data_validation['Has_ElectricityBill'] = np.where(data_validation['TotalElectricityBill']> 0, 1, 0)\n",
    "\n",
    "#data_validation['Has_Pending_Amount'] =np.where((data_validation['BillingAmt'] - data_validation['CollectedAmt'])> 0, 1, 0)\n",
    "#data_validation['Has_Avg_Difference'] =np.where((data_validation['AverageBillingAmt'] - data_validation['AverageCollectedAmt'])> 0, 1, 0)\n",
    "#data_validation['Pending_Amount_divided'] = data_validation['BillingAmt'] / data_validation['CollectedAmt'];\n",
    "#data_validation['Avg_Difference_divided'] = data_validation['AverageBillingAmt'] / data_validation['AverageCollectedAmt'];\n",
    "\n",
    "#data_validation['BillingAmt_diff'] = np.where((data_validation['AverageBillingAmt'] - data_validation['BillingAmt'])> 0, 1, 0)\n",
    "#data_validation['Collected_diff'] = np.where((data_validation['AverageCollectedAmt'] - data_validation['CollectedAmt'])> 0, 1, 0)\n",
    "\n",
    "\n",
    "#cols_to_drp = [\"DebtAmt\", \"WriteOffAmt\",\"DebtBillingRatio\",\"CollectionRatio\",\"TotalElectricityBill\",\"AverageCollectedAmt\",\"AverageBillingAmt\",\"BillingAmt\",\"CollectedAmt\"]\n",
    "\n",
    "\"\"\"\n",
    "cols_to_drp = [\"TotalElectricityBill\",\"BillingAmt\",\"CollectedAmt\",\"AverageCollectedAmt\",\"AverageBillingAmt\"]\n",
    "data.drop(cols_to_drp, axis=1, inplace=True)\n",
    "data_validation.drop(cols_to_drp, axis=1, inplace=True)\n",
    "#data.sample(10)\n",
    "\"\"\"\n",
    "\n",
    "\n",
    "## Handle Negative value \n",
    "data['BillingAmt'] = np.where((data['BillingAmt']<= 0), 0, data['BillingAmt'])\n",
    "data['AverageBillingAmt'] = np.where((data['AverageBillingAmt']<= 0), 0, data['AverageBillingAmt'])\n",
    "data['CollectedAmt'] = np.where((data['CollectedAmt']<= 0), 0, data['CollectedAmt'])\n",
    "data['AverageCollectedAmt'] = np.where((data['AverageCollectedAmt']<= 0), 0, data['AverageCollectedAmt'])\n",
    "data['CollectionRatio'] = np.where((data['CollectionRatio']<= 0), 0, data['CollectionRatio'])\n",
    "data['DebtBillingRatio'] = np.where((data['DebtBillingRatio']<= 0), 0, data['DebtBillingRatio'])\n",
    "data['TotalElectricityBill'] = np.where((data['TotalElectricityBill']<= 0), 0, data['TotalElectricityBill'])\n",
    "\n",
    "\n",
    "data_validation['BillingAmt'] = np.where((data_validation['BillingAmt']<= 0), 0, data_validation['BillingAmt'])\n",
    "data_validation['AverageBillingAmt'] = np.where((data_validation['AverageBillingAmt']<= 0), 0, data_validation['AverageBillingAmt'])\n",
    "data_validation['CollectedAmt'] = np.where((data_validation['CollectedAmt']<= 0), 0, data_validation['CollectedAmt'])\n",
    "data_validation['AverageCollectedAmt'] = np.where((data_validation['AverageCollectedAmt']<= 0), 0, data_validation['AverageCollectedAmt'])\n",
    "data_validation['CollectionRatio'] = np.where((data_validation['CollectionRatio']<= 0), 0, data_validation['CollectionRatio'])\n",
    "data_validation['DebtBillingRatio'] = np.where((data_validation['DebtBillingRatio']<= 0), 0, data_validation['DebtBillingRatio'])\n",
    "data_validation['TotalElectricityBill'] = np.where((data_validation['TotalElectricityBill']<= 0), 0, data_validation['TotalElectricityBill'])\n",
    "\"\"\"\n",
    "cols_to_drp = [\"DebtAmt\",\"WriteOffAmt\",\"DebtBillingRatio\"]\n",
    "data.drop(cols_to_drp, axis=1, inplace=True)\n",
    "data_validation.drop(cols_to_drp, axis=1, inplace=True)\n",
    "#data.sample(10)\n",
    "\"\"\"\n",
    "\n",
    "\n",
    "data.describe().T"
   ]
  },
  {
   "cell_type": "code",
   "execution_count": null,
   "metadata": {
    "id": "8glYfu96qE1X"
   },
   "outputs": [],
   "source": []
  },
  {
   "cell_type": "code",
   "execution_count": null,
   "metadata": {
    "colab": {
     "base_uri": "https://localhost:8080/",
     "height": 52
    },
    "id": "RGF75JWtedhM",
    "outputId": "295b4256-0615-4417-8331-29e833b32a2f"
   },
   "outputs": [
    {
     "data": {
      "application/vnd.google.colaboratory.intrinsic+json": {
       "type": "string"
      },
      "text/plain": [
       "'\\n#cols_to_change_neg_values = [\"BillingAmt\",\"AverageBillingAmt\",\"CollectedAmt\",\"AverageCollectedAmt\",\"TotalElectricityBill\"]\\ncols_to_change_neg_values = [\"BillingAmt\",\"AverageBillingAmt\",\"CollectedAmt\",\"AverageCollectedAmt\",\"CollectionRatio\",\"DebtBillingRatio\",\"TotalElectricityBill\"]\\nfor colname in cols_to_change_neg_values:\\n  data[colname] = np.where(data[colname]  <=0, 0, data[colname])\\n  data_validation[colname] = np.where(data_validation[colname]  <=0, 0, data_validation[colname])\\n\\n'"
      ]
     },
     "execution_count": 195,
     "metadata": {},
     "output_type": "execute_result"
    }
   ],
   "source": [
    "\"\"\"\n",
    "#cols_to_change_neg_values = [\"BillingAmt\",\"AverageBillingAmt\",\"CollectedAmt\",\"AverageCollectedAmt\",\"TotalElectricityBill\"]\n",
    "cols_to_change_neg_values = [\"BillingAmt\",\"AverageBillingAmt\",\"CollectedAmt\",\"AverageCollectedAmt\",\"CollectionRatio\",\"DebtBillingRatio\",\"TotalElectricityBill\"]\n",
    "for colname in cols_to_change_neg_values:\n",
    "  data[colname] = np.where(data[colname]  <=0, 0, data[colname])\n",
    "  data_validation[colname] = np.where(data_validation[colname]  <=0, 0, data_validation[colname])\n",
    "\n",
    "\"\"\"\n"
   ]
  },
  {
   "cell_type": "code",
   "execution_count": null,
   "metadata": {
    "id": "vI2YKrmcyfXt"
   },
   "outputs": [],
   "source": []
  },
  {
   "cell_type": "markdown",
   "metadata": {
    "id": "WPV_8vBsxDdQ"
   },
   "source": [
    "# Feature Engineering\n",
    "\n",
    "\n"
   ]
  },
  {
   "cell_type": "markdown",
   "metadata": {
    "id": "ktPrLxMK8Z0W"
   },
   "source": [
    "\n",
    "\n",
    "*   BillingAmt, AverageBillingAmt - these lets convert to abs value to change negative to positive \n",
    "\n",
    "\n"
   ]
  },
  {
   "cell_type": "code",
   "execution_count": null,
   "metadata": {
    "colab": {
     "base_uri": "https://localhost:8080/",
     "height": 35
    },
    "id": "7B1c-_0d8ZK4",
    "outputId": "c8422690-77ca-414f-edab-44ddf46a8bff"
   },
   "outputs": [
    {
     "data": {
      "application/vnd.google.colaboratory.intrinsic+json": {
       "type": "string"
      },
      "text/plain": [
       "'\\ncols_to_abs = [\"BillingAmt\",\"AverageBillingAmt\",\"CollectedAmt\",\"AverageCollectedAmt\",\"TotalElectricityBill\"]\\nfor colname in cols_to_abs:\\n  data[colname] = abs(data[colname])\\n  data_validation[colname] = abs(data_validation[colname])\\n'"
      ]
     },
     "execution_count": 196,
     "metadata": {},
     "output_type": "execute_result"
    }
   ],
   "source": [
    "\"\"\"\n",
    "cols_to_abs = [\"BillingAmt\",\"AverageBillingAmt\",\"CollectedAmt\",\"AverageCollectedAmt\",\"TotalElectricityBill\"]\n",
    "for colname in cols_to_abs:\n",
    "  data[colname] = abs(data[colname])\n",
    "  data_validation[colname] = abs(data_validation[colname])\n",
    "\"\"\""
   ]
  },
  {
   "cell_type": "code",
   "execution_count": null,
   "metadata": {
    "id": "fXiEl7KK8YL8"
   },
   "outputs": [],
   "source": []
  },
  {
   "cell_type": "markdown",
   "metadata": {
    "id": "3U4PjeQw8WTN"
   },
   "source": [
    "## Lets fix Property Value & Size"
   ]
  },
  {
   "cell_type": "code",
   "execution_count": null,
   "metadata": {
    "colab": {
     "base_uri": "https://localhost:8080/",
     "height": 1000
    },
    "id": "UeUeUzH2yd3Y",
    "outputId": "faa464c2-42d0-4fc3-d53e-fc05356e94cb"
   },
   "outputs": [
    {
     "data": {
      "image/png": "[encoded data removed]",
      "text/plain": [
       "<Figure size 864x432 with 2 Axes>"
      ]
     },
     "metadata": {
      "needs_background": "light"
     },
     "output_type": "display_data"
    },
    {
     "data": {
      "image/png": "[encoded data removed]",
      "text/plain": [
       "<Figure size 864x432 with 2 Axes>"
      ]
     },
     "metadata": {
      "needs_background": "light"
     },
     "output_type": "display_data"
    },
    {
     "data": {
      "image/png": "[encoded data removed]",
      "text/plain": [
       "<Figure size 864x432 with 2 Axes>"
      ]
     },
     "metadata": {
      "needs_background": "light"
     },
     "output_type": "display_data"
    },
    {
     "data": {
      "image/png": "[encoded data removed]",
      "text/plain": [
       "<Figure size 864x432 with 2 Axes>"
      ]
     },
     "metadata": {
      "needs_background": "light"
     },
     "output_type": "display_data"
    },
    {
     "data": {
      "image/png": "[encoded data removed]",
      "text/plain": [
       "<Figure size 864x432 with 2 Axes>"
      ]
     },
     "metadata": {
      "needs_background": "light"
     },
     "output_type": "display_data"
    },
    {
     "data": {
      "image/png": "[encoded data removed]",
      "text/plain": [
       "<Figure size 864x432 with 2 Axes>"
      ]
     },
     "metadata": {
      "needs_background": "light"
     },
     "output_type": "display_data"
    },
    {
     "data": {
      "image/png": "[encoded data removed]",
      "text/plain": [
       "<Figure size 864x432 with 2 Axes>"
      ]
     },
     "metadata": {
      "needs_background": "light"
     },
     "output_type": "display_data"
    },
    {
     "data": {
      "image/png": "[encoded data removed]",
      "text/plain": [
       "<Figure size 864x432 with 2 Axes>"
      ]
     },
     "metadata": {
      "needs_background": "light"
     },
     "output_type": "display_data"
    },
    {
     "data": {
      "image/png": "[encoded data removed]",
      "text/plain": [
       "<Figure size 864x432 with 2 Axes>"
      ]
     },
     "metadata": {
      "needs_background": "light"
     },
     "output_type": "display_data"
    }
   ],
   "source": [
    "\n",
    "#cols_to_log = [\"Value\", \"PropertySize\",\"BillingAmt\",\"AverageBillingAmt\",\"CollectedAmt\",\"AverageCollectedAmt\",\"DebtAmt\",\"WriteOffAmt\"]\n",
    "cols_to_log =[\"Value\", \"PropertySize\",\"BillingAmt\",\"AverageBillingAmt\",\"CollectedAmt\",\"AverageCollectedAmt\",\"DebtAmt\",\"WriteOffAmt\",\"TotalElectricityBill\"]\n",
    "for colname in cols_to_log:\n",
    "\n",
    "  # lets convert this to log to normalize distribution \n",
    "  data[colname+'_Log'] = np.log((data[colname]+1))\n",
    "  data_validation[colname+'_Log'] = np.log((data_validation[colname]+0.1))\n",
    "  fig, axes = plt.subplots(1,2)\n",
    "  plot1 = data.hist(colname, ax=axes[0])\n",
    "  plot2 = data_validation.hist(colname+'_Log', ax=axes[1])\n",
    "\n",
    "data.drop(cols_to_log, axis=1, inplace=True)\n",
    "data_validation.drop(cols_to_log, axis=1, inplace=True)\n"
   ]
  },
  {
   "cell_type": "code",
   "execution_count": null,
   "metadata": {
    "colab": {
     "base_uri": "https://localhost:8080/",
     "height": 452
    },
    "id": "fSRIFBvVqTRx",
    "outputId": "dd4ab6ca-aa86-4420-bb56-9b879876f37a"
   },
   "outputs": [
    {
     "data": {
      "text/html": [
       "<div>\n",
       "<style scoped>\n",
       "    .dataframe tbody tr th:only-of-type {\n",
       "        vertical-align: middle;\n",
       "    }\n",
       "\n",
       "    .dataframe tbody tr th {\n",
       "        vertical-align: top;\n",
       "    }\n",
       "\n",
       "    .dataframe thead th {\n",
       "        text-align: right;\n",
       "    }\n",
       "</style>\n",
       "<table border=\"1\" class=\"dataframe\">\n",
       "  <thead>\n",
       "    <tr style=\"text-align: right;\">\n",
       "      <th></th>\n",
       "      <th>count</th>\n",
       "      <th>mean</th>\n",
       "      <th>std</th>\n",
       "      <th>min</th>\n",
       "      <th>25%</th>\n",
       "      <th>50%</th>\n",
       "      <th>75%</th>\n",
       "      <th>max</th>\n",
       "    </tr>\n",
       "  </thead>\n",
       "  <tbody>\n",
       "    <tr>\n",
       "      <th>CollectionRatio</th>\n",
       "      <td>100476.0</td>\n",
       "      <td>25.689197</td>\n",
       "      <td>5519.401942</td>\n",
       "      <td>0.0</td>\n",
       "      <td>0.000000</td>\n",
       "      <td>0.500000</td>\n",
       "      <td>1.000000</td>\n",
       "      <td>1.701912e+06</td>\n",
       "    </tr>\n",
       "    <tr>\n",
       "      <th>DebtBillingRatio</th>\n",
       "      <td>100476.0</td>\n",
       "      <td>32.456573</td>\n",
       "      <td>5932.452622</td>\n",
       "      <td>0.0</td>\n",
       "      <td>0.000000</td>\n",
       "      <td>0.000000</td>\n",
       "      <td>1.280000</td>\n",
       "      <td>1.836304e+06</td>\n",
       "    </tr>\n",
       "    <tr>\n",
       "      <th>HasID</th>\n",
       "      <td>100476.0</td>\n",
       "      <td>0.427634</td>\n",
       "      <td>0.494738</td>\n",
       "      <td>0.0</td>\n",
       "      <td>0.000000</td>\n",
       "      <td>0.000000</td>\n",
       "      <td>1.000000</td>\n",
       "      <td>1.000000e+00</td>\n",
       "    </tr>\n",
       "    <tr>\n",
       "      <th>Label</th>\n",
       "      <td>100476.0</td>\n",
       "      <td>0.461424</td>\n",
       "      <td>0.498512</td>\n",
       "      <td>0.0</td>\n",
       "      <td>0.000000</td>\n",
       "      <td>0.000000</td>\n",
       "      <td>1.000000</td>\n",
       "      <td>1.000000e+00</td>\n",
       "    </tr>\n",
       "    <tr>\n",
       "      <th>Value_Log</th>\n",
       "      <td>100476.0</td>\n",
       "      <td>10.983147</td>\n",
       "      <td>3.864663</td>\n",
       "      <td>0.0</td>\n",
       "      <td>10.463132</td>\n",
       "      <td>11.440366</td>\n",
       "      <td>13.527830</td>\n",
       "      <td>1.986018e+01</td>\n",
       "    </tr>\n",
       "    <tr>\n",
       "      <th>PropertySize_Log</th>\n",
       "      <td>100476.0</td>\n",
       "      <td>6.587369</td>\n",
       "      <td>3.228847</td>\n",
       "      <td>0.0</td>\n",
       "      <td>5.624018</td>\n",
       "      <td>6.238325</td>\n",
       "      <td>7.058758</td>\n",
       "      <td>1.941584e+01</td>\n",
       "    </tr>\n",
       "    <tr>\n",
       "      <th>BillingAmt_Log</th>\n",
       "      <td>100476.0</td>\n",
       "      <td>7.255947</td>\n",
       "      <td>2.798885</td>\n",
       "      <td>0.0</td>\n",
       "      <td>6.135565</td>\n",
       "      <td>8.052615</td>\n",
       "      <td>9.072916</td>\n",
       "      <td>1.707873e+01</td>\n",
       "    </tr>\n",
       "    <tr>\n",
       "      <th>AverageBillingAmt_Log</th>\n",
       "      <td>100476.0</td>\n",
       "      <td>4.297021</td>\n",
       "      <td>2.137622</td>\n",
       "      <td>0.0</td>\n",
       "      <td>3.178054</td>\n",
       "      <td>4.682131</td>\n",
       "      <td>5.641907</td>\n",
       "      <td>1.359865e+01</td>\n",
       "    </tr>\n",
       "    <tr>\n",
       "      <th>CollectedAmt_Log</th>\n",
       "      <td>100476.0</td>\n",
       "      <td>4.749913</td>\n",
       "      <td>4.324267</td>\n",
       "      <td>0.0</td>\n",
       "      <td>0.000000</td>\n",
       "      <td>5.888878</td>\n",
       "      <td>8.909674</td>\n",
       "      <td>1.700891e+01</td>\n",
       "    </tr>\n",
       "    <tr>\n",
       "      <th>AverageCollectedAmt_Log</th>\n",
       "      <td>100476.0</td>\n",
       "      <td>3.690601</td>\n",
       "      <td>3.405340</td>\n",
       "      <td>0.0</td>\n",
       "      <td>0.000000</td>\n",
       "      <td>4.615121</td>\n",
       "      <td>6.645091</td>\n",
       "      <td>1.573659e+01</td>\n",
       "    </tr>\n",
       "    <tr>\n",
       "      <th>DebtAmt_Log</th>\n",
       "      <td>100476.0</td>\n",
       "      <td>3.253630</td>\n",
       "      <td>4.291146</td>\n",
       "      <td>0.0</td>\n",
       "      <td>0.000000</td>\n",
       "      <td>0.000000</td>\n",
       "      <td>7.740230</td>\n",
       "      <td>1.565964e+01</td>\n",
       "    </tr>\n",
       "    <tr>\n",
       "      <th>WriteOffAmt_Log</th>\n",
       "      <td>100476.0</td>\n",
       "      <td>0.742715</td>\n",
       "      <td>2.236406</td>\n",
       "      <td>0.0</td>\n",
       "      <td>0.000000</td>\n",
       "      <td>0.000000</td>\n",
       "      <td>0.000000</td>\n",
       "      <td>1.527566e+01</td>\n",
       "    </tr>\n",
       "    <tr>\n",
       "      <th>TotalElectricityBill_Log</th>\n",
       "      <td>100476.0</td>\n",
       "      <td>2.088835</td>\n",
       "      <td>3.672822</td>\n",
       "      <td>0.0</td>\n",
       "      <td>0.000000</td>\n",
       "      <td>0.000000</td>\n",
       "      <td>4.488636</td>\n",
       "      <td>1.693839e+01</td>\n",
       "    </tr>\n",
       "  </tbody>\n",
       "</table>\n",
       "</div>"
      ],
      "text/plain": [
       "                             count       mean          std  min        25%  \\\n",
       "CollectionRatio           100476.0  25.689197  5519.401942  0.0   0.000000   \n",
       "DebtBillingRatio          100476.0  32.456573  5932.452622  0.0   0.000000   \n",
       "HasID                     100476.0   0.427634     0.494738  0.0   0.000000   \n",
       "Label                     100476.0   0.461424     0.498512  0.0   0.000000   \n",
       "Value_Log                 100476.0  10.983147     3.864663  0.0  10.463132   \n",
       "PropertySize_Log          100476.0   6.587369     3.228847  0.0   5.624018   \n",
       "BillingAmt_Log            100476.0   7.255947     2.798885  0.0   6.135565   \n",
       "AverageBillingAmt_Log     100476.0   4.297021     2.137622  0.0   3.178054   \n",
       "CollectedAmt_Log          100476.0   4.749913     4.324267  0.0   0.000000   \n",
       "AverageCollectedAmt_Log   100476.0   3.690601     3.405340  0.0   0.000000   \n",
       "DebtAmt_Log               100476.0   3.253630     4.291146  0.0   0.000000   \n",
       "WriteOffAmt_Log           100476.0   0.742715     2.236406  0.0   0.000000   \n",
       "TotalElectricityBill_Log  100476.0   2.088835     3.672822  0.0   0.000000   \n",
       "\n",
       "                                50%        75%           max  \n",
       "CollectionRatio            0.500000   1.000000  1.701912e+06  \n",
       "DebtBillingRatio           0.000000   1.280000  1.836304e+06  \n",
       "HasID                      0.000000   1.000000  1.000000e+00  \n",
       "Label                      0.000000   1.000000  1.000000e+00  \n",
       "Value_Log                 11.440366  13.527830  1.986018e+01  \n",
       "PropertySize_Log           6.238325   7.058758  1.941584e+01  \n",
       "BillingAmt_Log             8.052615   9.072916  1.707873e+01  \n",
       "AverageBillingAmt_Log      4.682131   5.641907  1.359865e+01  \n",
       "CollectedAmt_Log           5.888878   8.909674  1.700891e+01  \n",
       "AverageCollectedAmt_Log    4.615121   6.645091  1.573659e+01  \n",
       "DebtAmt_Log                0.000000   7.740230  1.565964e+01  \n",
       "WriteOffAmt_Log            0.000000   0.000000  1.527566e+01  \n",
       "TotalElectricityBill_Log   0.000000   4.488636  1.693839e+01  "
      ]
     },
     "execution_count": 198,
     "metadata": {},
     "output_type": "execute_result"
    }
   ],
   "source": [
    "data.describe().T"
   ]
  },
  {
   "cell_type": "markdown",
   "metadata": {
    "id": "P1Biexid4g5M"
   },
   "source": [
    "# Feature using TotalElectricityBill\n",
    "The total amount billed for electricity. This field was put in place because it is used as a means to recover debt - ie. If an amount is outstanding for any service the management has the right to cut a consumer's electricity connection."
   ]
  },
  {
   "cell_type": "code",
   "execution_count": null,
   "metadata": {
    "colab": {
     "base_uri": "https://localhost:8080/",
     "height": 52
    },
    "id": "qFx-R1XO4oXJ",
    "outputId": "9e181ccd-c065-4bd6-9b6f-29a4eae07043"
   },
   "outputs": [
    {
     "data": {
      "application/vnd.google.colaboratory.intrinsic+json": {
       "type": "string"
      },
      "text/plain": [
       "\"\\ndata['ElectricityBill_IND'] = np.where(data['TotalElectricityBill_Log']> 0, 'Y', 'N')\\ndata_validation['ElectricityBill_IND'] = np.where(data_validation['TotalElectricityBill_Log']> 0, 'Y', 'N')\\n\\n\\ndata.drop(['TotalElectricityBill_Log'], axis=1, inplace=True)\\ndata_validation.drop(['TotalElectricityBill_Log'], axis=1, inplace=True)\\n\\n\""
      ]
     },
     "execution_count": 199,
     "metadata": {},
     "output_type": "execute_result"
    }
   ],
   "source": [
    "\"\"\"\n",
    "data['ElectricityBill_IND'] = np.where(data['TotalElectricityBill_Log']> 0, 'Y', 'N')\n",
    "data_validation['ElectricityBill_IND'] = np.where(data_validation['TotalElectricityBill_Log']> 0, 'Y', 'N')\n",
    "\n",
    "\n",
    "data.drop(['TotalElectricityBill_Log'], axis=1, inplace=True)\n",
    "data_validation.drop(['TotalElectricityBill_Log'], axis=1, inplace=True)\n",
    "\n",
    "\"\"\""
   ]
  },
  {
   "cell_type": "code",
   "execution_count": null,
   "metadata": {
    "colab": {
     "base_uri": "https://localhost:8080/",
     "height": 721
    },
    "id": "PBPszdot5eX_",
    "outputId": "9de852a2-6026-4394-b2af-88d2e285d966"
   },
   "outputs": [
    {
     "data": {
      "image/png": "[encoded data removed]",
      "text/plain": [
       "<Figure size 1296x720 with 2 Axes>"
      ]
     },
     "metadata": {
      "needs_background": "light"
     },
     "output_type": "display_data"
    }
   ],
   "source": [
    "plt.figure(figsize=(18, 10))\n",
    "sns.heatmap(data.corr(), annot=True, vmin=-1, vmax=1, fmt=\".2f\", cmap=\"Spectral\").set_title(\"Complete Data Correlation\")\n",
    "plt.show()"
   ]
  },
  {
   "cell_type": "markdown",
   "metadata": {
    "id": "TKN0h0T3AUeE"
   },
   "source": [
    "# Exploratory Data Analysis"
   ]
  },
  {
   "cell_type": "code",
   "execution_count": null,
   "metadata": {
    "id": "svpqkfpyAgE4"
   },
   "outputs": [],
   "source": [
    "## building a Common method to generate graphs\n",
    "\n",
    "\n",
    "def generate_univariate_chart(data, feature, hue=None, kde=False, bins=20):\n",
    "    \"\"\"\n",
    "    Builds histplot and boxplot for given field.\n",
    "    Can plot hue, kde and bins based on params, these are optional columns\n",
    "    \"\"\"\n",
    "\n",
    "    sns.set_style(\"darkgrid\")\n",
    "    print(f\"Genrating Charts for feature : {feature}\")\n",
    "    # sns.set_context('poster',font_scale=1)\n",
    "    # figsize(width,height)\n",
    "\n",
    "    fig, axes = plt.subplots(2, figsize=(15, 15))\n",
    "    fig.suptitle(\"Univariate analysis for \" + feature)\n",
    "\n",
    "    sns.histplot(\n",
    "        data=data,\n",
    "        x=feature,\n",
    "        ax=axes[0],\n",
    "        palette=\"winter\",\n",
    "        bins=bins,\n",
    "        kde=kde,\n",
    "        hue=hue,\n",
    "        multiple=\"dodge\",\n",
    "    )\n",
    "    sns.boxplot(\n",
    "        data=data, x=feature, ax=axes[1], showmeans=True, color=\"violet\", hue=hue\n",
    "    )\n",
    "\n",
    "\n",
    "# function to create labeled barplots\n",
    "\n",
    "\n",
    "def labeled_barplot(data, feature, perc=False, n=None):\n",
    "    \"\"\"\n",
    "    Barplot with percentage at the top\n",
    "\n",
    "    data: dataframe\n",
    "    feature: dataframe column\n",
    "    perc: whether to display percentages instead of count (default is False)\n",
    "    n: displays the top n category levels (default is None, i.e., display all levels)\n",
    "    \"\"\"\n",
    "    print(f\"Genrating Bar Plots for feature : {feature}\")\n",
    "    total = len(data[feature])  # length of the column\n",
    "    count = data[feature].nunique()\n",
    "    if n is None:\n",
    "        plt.figure(figsize=(count + 1, 10))\n",
    "    else:\n",
    "        plt.figure(figsize=(n + 1, 10))\n",
    "\n",
    "    plt.xticks(rotation=45, fontsize=15)\n",
    "    ax = sns.countplot(\n",
    "        data=data,\n",
    "        x=feature,\n",
    "        palette=\"Paired\",\n",
    "        order=data[feature].value_counts().index[:n].sort_values(),\n",
    "    )\n",
    "\n",
    "    for p in ax.patches:\n",
    "        if perc == True:\n",
    "            label = \"{:.1f}%\".format(\n",
    "                100 * p.get_height() / total\n",
    "            )  # percentage of each class of the category\n",
    "        else:\n",
    "            label = p.get_height()  # count of each level of the category\n",
    "\n",
    "        x = p.get_x() + p.get_width() / 2  # width of the plot\n",
    "        y = p.get_height()  # height of the plot\n",
    "\n",
    "        ax.annotate(\n",
    "            label,\n",
    "            (x, y),\n",
    "            ha=\"center\",\n",
    "            va=\"center\",\n",
    "            size=15,\n",
    "            xytext=(0, 5),\n",
    "            textcoords=\"offset points\",\n",
    "        )  # annotate the percentage\n",
    "\n",
    "    plt.show()  # show the plot\n",
    "\n",
    "\n",
    "### function to plot distributions wrt target\n",
    "\n",
    "\n",
    "def distribution_plot_wrt_target(data, predictor, target):\n",
    "\n",
    "    \"\"\"\n",
    "    function to plot distributions wrt target\n",
    "    \"\"\"\n",
    "\n",
    "    fig, axs = plt.subplots(2, 2, figsize=(12, 10))\n",
    "\n",
    "    target_uniq = data[target].unique()\n",
    "\n",
    "    axs[0, 0].set_title(\"Distribution of target for target=\" + str(target_uniq[0]))\n",
    "    sns.histplot(\n",
    "        data=data[data[target] == target_uniq[0]],\n",
    "        x=predictor,\n",
    "        kde=True,\n",
    "        ax=axs[0, 0],\n",
    "        color=\"teal\",\n",
    "        stat=\"density\",\n",
    "    )\n",
    "\n",
    "    axs[0, 1].set_title(\"Distribution of target for target=\" + str(target_uniq[1]))\n",
    "    sns.histplot(\n",
    "        data=data[data[target] == target_uniq[1]],\n",
    "        x=predictor,\n",
    "        kde=True,\n",
    "        ax=axs[0, 1],\n",
    "        color=\"orange\",\n",
    "        stat=\"density\",\n",
    "    )\n",
    "\n",
    "    axs[1, 0].set_title(\"Boxplot w.r.t target\")\n",
    "    sns.boxplot(data=data, x=target, y=predictor, ax=axs[1, 0], palette=\"gist_rainbow\")\n",
    "\n",
    "    axs[1, 1].set_title(\"Boxplot (without outliers) w.r.t target\")\n",
    "    sns.boxplot(\n",
    "        data=data,\n",
    "        x=target,\n",
    "        y=predictor,\n",
    "        ax=axs[1, 1],\n",
    "        showfliers=False,\n",
    "        palette=\"gist_rainbow\",\n",
    "    )\n",
    "\n",
    "    plt.tight_layout()\n",
    "    plt.show()\n",
    "\n",
    "\n",
    "# function to plot stacked bar chart\n",
    "def stacked_barplot(data, predictor, target):\n",
    "    \"\"\"\n",
    "    Print the category counts and plot a stacked bar chart\n",
    "\n",
    "    data: dataframe\n",
    "    predictor: independent variable\n",
    "    target: target variable\n",
    "    \"\"\"\n",
    "    count = data[predictor].nunique()\n",
    "    sorter = data[target].value_counts().index[-1]\n",
    "    tab1 = pd.crosstab(data[predictor], data[target], margins=True).sort_values(\n",
    "        by=sorter\n",
    "    )\n",
    "    print(tab1)\n",
    "    print(\"-\" * 100)\n",
    "    tab = pd.crosstab(data[predictor], data[target], normalize=\"index\").sort_values(\n",
    "        by=sorter\n",
    "    )\n",
    "    tab.plot(kind=\"bar\", stacked=True, figsize=(count + 5, 6))\n",
    "    plt.legend(\n",
    "        loc=\"lower left\", frameon=False,\n",
    "    )\n",
    "    plt.legend(loc=\"upper left\", bbox_to_anchor=(1, 1))\n",
    "    plt.show()\n",
    "\n",
    "\n",
    "## this method generate joint plot of x vs y feature\n",
    "def generate_bivariate_chart(data, xfeature, yfeature, hue=None):\n",
    "    \"\"\"\n",
    "    common method to generate joint plot for various columns\n",
    "    hue param is optional\n",
    "    \"\"\"\n",
    "    sns.set_style(\"darkgrid\")\n",
    "    print(f\"Genrating Charts for feature x : {xfeature}, y : {yfeature}\")\n",
    "\n",
    "    sns.jointplot(\n",
    "        data=data,\n",
    "        x=xfeature,\n",
    "        y=yfeature,\n",
    "        palette=\"winter\",\n",
    "        height=10,\n",
    "        kind=\"scatter\",\n",
    "        hue=hue,\n",
    "    )"
   ]
  },
  {
   "cell_type": "code",
   "execution_count": null,
   "metadata": {
    "id": "ZK88AFCzAi0r"
   },
   "outputs": [],
   "source": [
    "#labeled_barplot(data=data, feature=\"Label\", perc=True)\n",
    "#stacked_barplot(data, \"ElectricityBill_IND\", \"Label\")\n"
   ]
  },
  {
   "cell_type": "code",
   "execution_count": null,
   "metadata": {
    "id": "b9Cw8jsJAqoE"
   },
   "outputs": [],
   "source": [
    "#labeled_barplot(data=data, feature=\"HasID\", perc=True)\n",
    "#stacked_barplot(data, \"HasID\", \"Label\")"
   ]
  },
  {
   "cell_type": "code",
   "execution_count": null,
   "metadata": {
    "id": "c3YfwYrPAwQP"
   },
   "outputs": [],
   "source": [
    "#labeled_barplot(data=data, feature=\"Category\", perc=True)\n",
    "#stacked_barplot(data, \"Category\", \"Label\")"
   ]
  },
  {
   "cell_type": "code",
   "execution_count": null,
   "metadata": {
    "colab": {
     "base_uri": "https://localhost:8080/",
     "height": 52
    },
    "id": "TwH40mTUA27k",
    "outputId": "3f2e57cb-f996-423a-b566-b39f185ba575"
   },
   "outputs": [
    {
     "data": {
      "application/vnd.google.colaboratory.intrinsic+json": {
       "type": "string"
      },
      "text/plain": [
       "'\\ncols = data[[\\'Value_Log\\',\\'PropertySize_Log\\',\\'BillingAmt_Log\\',\\'AverageBillingAmt_Log\\']].columns.tolist()\\nplt.figure(figsize=(20,20))\\n\\nfor i, variable in enumerate(cols):\\n                     plt.subplot(3,2,i+1)\\n                     sns.boxplot(data[\"Label\"],data[variable],palette=\"PuBu\")\\n                     plt.tight_layout()\\n                     plt.title(variable)\\nplt.show()\\n\\n'"
      ]
     },
     "execution_count": 205,
     "metadata": {},
     "output_type": "execute_result"
    }
   ],
   "source": [
    "\"\"\"\n",
    "cols = data[['Value_Log','PropertySize_Log','BillingAmt_Log','AverageBillingAmt_Log']].columns.tolist()\n",
    "plt.figure(figsize=(20,20))\n",
    "\n",
    "for i, variable in enumerate(cols):\n",
    "                     plt.subplot(3,2,i+1)\n",
    "                     sns.boxplot(data[\"Label\"],data[variable],palette=\"PuBu\")\n",
    "                     plt.tight_layout()\n",
    "                     plt.title(variable)\n",
    "plt.show()\n",
    "\n",
    "\"\"\""
   ]
  },
  {
   "cell_type": "code",
   "execution_count": null,
   "metadata": {
    "colab": {
     "base_uri": "https://localhost:8080/",
     "height": 52
    },
    "id": "VXfssvxxCOUI",
    "outputId": "18cd8e69-4a91-4cf0-c61e-a4777db46195"
   },
   "outputs": [
    {
     "data": {
      "application/vnd.google.colaboratory.intrinsic+json": {
       "type": "string"
      },
      "text/plain": [
       "'\\ncols = data[[\\'CollectedAmt_Log\\',\"AverageCollectedAmt_Log\",\"DebtAmt_Log\",\"WriteOffAmt_Log\"]].columns.tolist()\\nplt.figure(figsize=(20,20))\\n\\nfor i, variable in enumerate(cols):\\n                     plt.subplot(3,2,i+1)\\n                     sns.boxplot(data[\"Label\"],data[variable],palette=\"PuBu\")\\n                     plt.tight_layout()\\n                     plt.title(variable)\\nplt.show()\\n'"
      ]
     },
     "execution_count": 206,
     "metadata": {},
     "output_type": "execute_result"
    }
   ],
   "source": [
    "\"\"\"\n",
    "cols = data[['CollectedAmt_Log',\"AverageCollectedAmt_Log\",\"DebtAmt_Log\",\"WriteOffAmt_Log\"]].columns.tolist()\n",
    "plt.figure(figsize=(20,20))\n",
    "\n",
    "for i, variable in enumerate(cols):\n",
    "                     plt.subplot(3,2,i+1)\n",
    "                     sns.boxplot(data[\"Label\"],data[variable],palette=\"PuBu\")\n",
    "                     plt.tight_layout()\n",
    "                     plt.title(variable)\n",
    "plt.show()\n",
    "\"\"\""
   ]
  },
  {
   "cell_type": "code",
   "execution_count": null,
   "metadata": {
    "id": "EYUf-F7ZA3AU"
   },
   "outputs": [],
   "source": []
  },
  {
   "cell_type": "code",
   "execution_count": null,
   "metadata": {
    "id": "c4TXSq6NA3EX"
   },
   "outputs": [],
   "source": []
  },
  {
   "cell_type": "markdown",
   "metadata": {
    "id": "Xzzh7lKjGoIL"
   },
   "source": [
    "## delete fetures not impacting much\n",
    "\n"
   ]
  },
  {
   "cell_type": "code",
   "execution_count": null,
   "metadata": {
    "colab": {
     "base_uri": "https://localhost:8080/",
     "height": 35
    },
    "id": "uwplwTI3GoRI",
    "outputId": "33563f22-cde0-4114-c7f7-36e8113a058d"
   },
   "outputs": [
    {
     "data": {
      "application/vnd.google.colaboratory.intrinsic+json": {
       "type": "string"
      },
      "text/plain": [
       "\"\\ndata.drop(['WriteOffAmt_Log'], axis=1, inplace=True)\\ndata_validation.drop(['WriteOffAmt_Log'], axis=1, inplace=True)\\n\""
      ]
     },
     "execution_count": 207,
     "metadata": {},
     "output_type": "execute_result"
    }
   ],
   "source": [
    "\"\"\"\n",
    "data.drop(['WriteOffAmt_Log'], axis=1, inplace=True)\n",
    "data_validation.drop(['WriteOffAmt_Log'], axis=1, inplace=True)\n",
    "\"\"\""
   ]
  },
  {
   "cell_type": "code",
   "execution_count": null,
   "metadata": {
    "id": "p6jKuA1K2kxr"
   },
   "outputs": [],
   "source": [
    "#data[(data['PropertySize_Log']==0) & (data['Value_Log']==0)].sample(20)\n",
    "\n",
    "#data[(data['BillingAmt']<=0)].sample(20)\n",
    "\n"
   ]
  },
  {
   "cell_type": "code",
   "execution_count": null,
   "metadata": {
    "colab": {
     "base_uri": "https://localhost:8080/",
     "height": 359
    },
    "id": "Jdw5JTDeBep5",
    "outputId": "9f3bce3a-3297-4d5a-eb49-47d2f0453218"
   },
   "outputs": [
    {
     "data": {
      "text/html": [
       "<div>\n",
       "<style scoped>\n",
       "    .dataframe tbody tr th:only-of-type {\n",
       "        vertical-align: middle;\n",
       "    }\n",
       "\n",
       "    .dataframe tbody tr th {\n",
       "        vertical-align: top;\n",
       "    }\n",
       "\n",
       "    .dataframe thead th {\n",
       "        text-align: right;\n",
       "    }\n",
       "</style>\n",
       "<table border=\"1\" class=\"dataframe\">\n",
       "  <thead>\n",
       "    <tr style=\"text-align: right;\">\n",
       "      <th></th>\n",
       "      <th>Category</th>\n",
       "      <th>CollectionRatio</th>\n",
       "      <th>DebtBillingRatio</th>\n",
       "      <th>HasID</th>\n",
       "      <th>Label</th>\n",
       "      <th>Value_Log</th>\n",
       "      <th>PropertySize_Log</th>\n",
       "      <th>BillingAmt_Log</th>\n",
       "      <th>AverageBillingAmt_Log</th>\n",
       "      <th>CollectedAmt_Log</th>\n",
       "      <th>AverageCollectedAmt_Log</th>\n",
       "      <th>DebtAmt_Log</th>\n",
       "      <th>WriteOffAmt_Log</th>\n",
       "      <th>TotalElectricityBill_Log</th>\n",
       "    </tr>\n",
       "  </thead>\n",
       "  <tbody>\n",
       "    <tr>\n",
       "      <th>53987</th>\n",
       "      <td>Agricultural</td>\n",
       "      <td>1.02</td>\n",
       "      <td>0.01</td>\n",
       "      <td>0</td>\n",
       "      <td>1</td>\n",
       "      <td>11.608245</td>\n",
       "      <td>12.367724</td>\n",
       "      <td>6.645091</td>\n",
       "      <td>4.094345</td>\n",
       "      <td>6.661855</td>\n",
       "      <td>5.968708</td>\n",
       "      <td>1.945910</td>\n",
       "      <td>0.0</td>\n",
       "      <td>0.000000</td>\n",
       "    </tr>\n",
       "    <tr>\n",
       "      <th>79010</th>\n",
       "      <td>Agricultural</td>\n",
       "      <td>1.00</td>\n",
       "      <td>0.00</td>\n",
       "      <td>0</td>\n",
       "      <td>0</td>\n",
       "      <td>13.943905</td>\n",
       "      <td>15.013823</td>\n",
       "      <td>5.429346</td>\n",
       "      <td>4.060443</td>\n",
       "      <td>5.429346</td>\n",
       "      <td>5.429346</td>\n",
       "      <td>0.000000</td>\n",
       "      <td>0.0</td>\n",
       "      <td>0.000000</td>\n",
       "    </tr>\n",
       "    <tr>\n",
       "      <th>44363</th>\n",
       "      <td>Residential</td>\n",
       "      <td>0.00</td>\n",
       "      <td>0.00</td>\n",
       "      <td>1</td>\n",
       "      <td>0</td>\n",
       "      <td>10.736418</td>\n",
       "      <td>5.768321</td>\n",
       "      <td>6.222576</td>\n",
       "      <td>2.197225</td>\n",
       "      <td>0.000000</td>\n",
       "      <td>0.000000</td>\n",
       "      <td>0.000000</td>\n",
       "      <td>0.0</td>\n",
       "      <td>0.000000</td>\n",
       "    </tr>\n",
       "    <tr>\n",
       "      <th>5600</th>\n",
       "      <td>Residential</td>\n",
       "      <td>1.10</td>\n",
       "      <td>0.00</td>\n",
       "      <td>0</td>\n",
       "      <td>0</td>\n",
       "      <td>10.295563</td>\n",
       "      <td>0.000000</td>\n",
       "      <td>6.042633</td>\n",
       "      <td>1.791759</td>\n",
       "      <td>6.133398</td>\n",
       "      <td>6.133398</td>\n",
       "      <td>0.000000</td>\n",
       "      <td>0.0</td>\n",
       "      <td>0.000000</td>\n",
       "    </tr>\n",
       "    <tr>\n",
       "      <th>36317</th>\n",
       "      <td>Residential</td>\n",
       "      <td>0.00</td>\n",
       "      <td>0.00</td>\n",
       "      <td>0</td>\n",
       "      <td>0</td>\n",
       "      <td>10.434145</td>\n",
       "      <td>5.655992</td>\n",
       "      <td>1.791759</td>\n",
       "      <td>0.000000</td>\n",
       "      <td>0.000000</td>\n",
       "      <td>0.000000</td>\n",
       "      <td>0.000000</td>\n",
       "      <td>0.0</td>\n",
       "      <td>0.000000</td>\n",
       "    </tr>\n",
       "    <tr>\n",
       "      <th>82062</th>\n",
       "      <td>Residential</td>\n",
       "      <td>1.06</td>\n",
       "      <td>0.00</td>\n",
       "      <td>0</td>\n",
       "      <td>0</td>\n",
       "      <td>13.931515</td>\n",
       "      <td>7.065613</td>\n",
       "      <td>9.615739</td>\n",
       "      <td>5.525453</td>\n",
       "      <td>9.674011</td>\n",
       "      <td>7.372118</td>\n",
       "      <td>0.000000</td>\n",
       "      <td>0.0</td>\n",
       "      <td>7.802209</td>\n",
       "    </tr>\n",
       "    <tr>\n",
       "      <th>21980</th>\n",
       "      <td>Residential</td>\n",
       "      <td>0.59</td>\n",
       "      <td>0.59</td>\n",
       "      <td>0</td>\n",
       "      <td>1</td>\n",
       "      <td>12.706851</td>\n",
       "      <td>6.480045</td>\n",
       "      <td>8.547916</td>\n",
       "      <td>4.682131</td>\n",
       "      <td>8.023225</td>\n",
       "      <td>6.415097</td>\n",
       "      <td>8.017308</td>\n",
       "      <td>0.0</td>\n",
       "      <td>0.000000</td>\n",
       "    </tr>\n",
       "    <tr>\n",
       "      <th>12472</th>\n",
       "      <td>Place of Worship</td>\n",
       "      <td>0.83</td>\n",
       "      <td>0.00</td>\n",
       "      <td>0</td>\n",
       "      <td>0</td>\n",
       "      <td>13.977375</td>\n",
       "      <td>6.846943</td>\n",
       "      <td>9.259987</td>\n",
       "      <td>4.836282</td>\n",
       "      <td>9.071538</td>\n",
       "      <td>7.462789</td>\n",
       "      <td>0.000000</td>\n",
       "      <td>0.0</td>\n",
       "      <td>0.000000</td>\n",
       "    </tr>\n",
       "    <tr>\n",
       "      <th>70208</th>\n",
       "      <td>Government</td>\n",
       "      <td>0.00</td>\n",
       "      <td>0.00</td>\n",
       "      <td>0</td>\n",
       "      <td>1</td>\n",
       "      <td>14.457365</td>\n",
       "      <td>11.776466</td>\n",
       "      <td>0.000000</td>\n",
       "      <td>0.000000</td>\n",
       "      <td>0.000000</td>\n",
       "      <td>0.000000</td>\n",
       "      <td>9.436440</td>\n",
       "      <td>0.0</td>\n",
       "      <td>0.000000</td>\n",
       "    </tr>\n",
       "    <tr>\n",
       "      <th>30735</th>\n",
       "      <td>Agricultural</td>\n",
       "      <td>0.00</td>\n",
       "      <td>0.00</td>\n",
       "      <td>0</td>\n",
       "      <td>0</td>\n",
       "      <td>12.593038</td>\n",
       "      <td>14.321902</td>\n",
       "      <td>4.997212</td>\n",
       "      <td>4.997212</td>\n",
       "      <td>0.000000</td>\n",
       "      <td>0.000000</td>\n",
       "      <td>0.000000</td>\n",
       "      <td>0.0</td>\n",
       "      <td>0.000000</td>\n",
       "    </tr>\n",
       "  </tbody>\n",
       "</table>\n",
       "</div>"
      ],
      "text/plain": [
       "               Category  CollectionRatio  DebtBillingRatio  HasID  Label  \\\n",
       "53987      Agricultural             1.02              0.01      0      1   \n",
       "79010      Agricultural             1.00              0.00      0      0   \n",
       "44363       Residential             0.00              0.00      1      0   \n",
       "5600        Residential             1.10              0.00      0      0   \n",
       "36317       Residential             0.00              0.00      0      0   \n",
       "82062       Residential             1.06              0.00      0      0   \n",
       "21980       Residential             0.59              0.59      0      1   \n",
       "12472  Place of Worship             0.83              0.00      0      0   \n",
       "70208        Government             0.00              0.00      0      1   \n",
       "30735      Agricultural             0.00              0.00      0      0   \n",
       "\n",
       "       Value_Log  PropertySize_Log  BillingAmt_Log  AverageBillingAmt_Log  \\\n",
       "53987  11.608245         12.367724        6.645091               4.094345   \n",
       "79010  13.943905         15.013823        5.429346               4.060443   \n",
       "44363  10.736418          5.768321        6.222576               2.197225   \n",
       "5600   10.295563          0.000000        6.042633               1.791759   \n",
       "36317  10.434145          5.655992        1.791759               0.000000   \n",
       "82062  13.931515          7.065613        9.615739               5.525453   \n",
       "21980  12.706851          6.480045        8.547916               4.682131   \n",
       "12472  13.977375          6.846943        9.259987               4.836282   \n",
       "70208  14.457365         11.776466        0.000000               0.000000   \n",
       "30735  12.593038         14.321902        4.997212               4.997212   \n",
       "\n",
       "       CollectedAmt_Log  AverageCollectedAmt_Log  DebtAmt_Log  \\\n",
       "53987          6.661855                 5.968708     1.945910   \n",
       "79010          5.429346                 5.429346     0.000000   \n",
       "44363          0.000000                 0.000000     0.000000   \n",
       "5600           6.133398                 6.133398     0.000000   \n",
       "36317          0.000000                 0.000000     0.000000   \n",
       "82062          9.674011                 7.372118     0.000000   \n",
       "21980          8.023225                 6.415097     8.017308   \n",
       "12472          9.071538                 7.462789     0.000000   \n",
       "70208          0.000000                 0.000000     9.436440   \n",
       "30735          0.000000                 0.000000     0.000000   \n",
       "\n",
       "       WriteOffAmt_Log  TotalElectricityBill_Log  \n",
       "53987              0.0                  0.000000  \n",
       "79010              0.0                  0.000000  \n",
       "44363              0.0                  0.000000  \n",
       "5600               0.0                  0.000000  \n",
       "36317              0.0                  0.000000  \n",
       "82062              0.0                  7.802209  \n",
       "21980              0.0                  0.000000  \n",
       "12472              0.0                  0.000000  \n",
       "70208              0.0                  0.000000  \n",
       "30735              0.0                  0.000000  "
      ]
     },
     "execution_count": 209,
     "metadata": {},
     "output_type": "execute_result"
    }
   ],
   "source": [
    "data.sample(10)"
   ]
  },
  {
   "cell_type": "code",
   "execution_count": null,
   "metadata": {
    "colab": {
     "base_uri": "https://localhost:8080/",
     "height": 359
    },
    "id": "_B_6BvJeBk19",
    "outputId": "63b21199-a0b3-45aa-f956-cb0b27f21a24"
   },
   "outputs": [
    {
     "data": {
      "text/html": [
       "<div>\n",
       "<style scoped>\n",
       "    .dataframe tbody tr th:only-of-type {\n",
       "        vertical-align: middle;\n",
       "    }\n",
       "\n",
       "    .dataframe tbody tr th {\n",
       "        vertical-align: top;\n",
       "    }\n",
       "\n",
       "    .dataframe thead th {\n",
       "        text-align: right;\n",
       "    }\n",
       "</style>\n",
       "<table border=\"1\" class=\"dataframe\">\n",
       "  <thead>\n",
       "    <tr style=\"text-align: right;\">\n",
       "      <th></th>\n",
       "      <th>Category</th>\n",
       "      <th>CollectionRatio</th>\n",
       "      <th>DebtBillingRatio</th>\n",
       "      <th>HasID</th>\n",
       "      <th>Value_Log</th>\n",
       "      <th>PropertySize_Log</th>\n",
       "      <th>BillingAmt_Log</th>\n",
       "      <th>AverageBillingAmt_Log</th>\n",
       "      <th>CollectedAmt_Log</th>\n",
       "      <th>AverageCollectedAmt_Log</th>\n",
       "      <th>DebtAmt_Log</th>\n",
       "      <th>WriteOffAmt_Log</th>\n",
       "      <th>TotalElectricityBill_Log</th>\n",
       "    </tr>\n",
       "  </thead>\n",
       "  <tbody>\n",
       "    <tr>\n",
       "      <th>14115</th>\n",
       "      <td>Residential</td>\n",
       "      <td>0.25</td>\n",
       "      <td>4.53</td>\n",
       "      <td>1</td>\n",
       "      <td>-2.302585</td>\n",
       "      <td>-2.302585</td>\n",
       "      <td>7.698982</td>\n",
       "      <td>4.096010</td>\n",
       "      <td>6.326328</td>\n",
       "      <td>3.763523</td>\n",
       "      <td>9.209050</td>\n",
       "      <td>-2.302585</td>\n",
       "      <td>-2.302585</td>\n",
       "    </tr>\n",
       "    <tr>\n",
       "      <th>22528</th>\n",
       "      <td>Business</td>\n",
       "      <td>0.99</td>\n",
       "      <td>0.00</td>\n",
       "      <td>1</td>\n",
       "      <td>13.664688</td>\n",
       "      <td>6.423409</td>\n",
       "      <td>9.375524</td>\n",
       "      <td>6.157191</td>\n",
       "      <td>9.366155</td>\n",
       "      <td>6.188469</td>\n",
       "      <td>-2.302585</td>\n",
       "      <td>-2.302585</td>\n",
       "      <td>-2.302585</td>\n",
       "    </tr>\n",
       "    <tr>\n",
       "      <th>854</th>\n",
       "      <td>Residential</td>\n",
       "      <td>0.00</td>\n",
       "      <td>42.12</td>\n",
       "      <td>1</td>\n",
       "      <td>-2.302585</td>\n",
       "      <td>9.132173</td>\n",
       "      <td>5.136386</td>\n",
       "      <td>2.646175</td>\n",
       "      <td>-2.302585</td>\n",
       "      <td>-2.302585</td>\n",
       "      <td>8.876698</td>\n",
       "      <td>-2.302585</td>\n",
       "      <td>-2.302585</td>\n",
       "    </tr>\n",
       "    <tr>\n",
       "      <th>27873</th>\n",
       "      <td>Residential</td>\n",
       "      <td>0.14</td>\n",
       "      <td>1.93</td>\n",
       "      <td>1</td>\n",
       "      <td>13.398175</td>\n",
       "      <td>-2.302585</td>\n",
       "      <td>9.140465</td>\n",
       "      <td>4.710431</td>\n",
       "      <td>7.170196</td>\n",
       "      <td>6.477126</td>\n",
       "      <td>9.795741</td>\n",
       "      <td>-2.302585</td>\n",
       "      <td>-2.302585</td>\n",
       "    </tr>\n",
       "    <tr>\n",
       "      <th>33365</th>\n",
       "      <td>Unknown</td>\n",
       "      <td>1.00</td>\n",
       "      <td>0.00</td>\n",
       "      <td>0</td>\n",
       "      <td>12.940842</td>\n",
       "      <td>-2.302585</td>\n",
       "      <td>5.342813</td>\n",
       "      <td>5.342813</td>\n",
       "      <td>5.342813</td>\n",
       "      <td>5.342813</td>\n",
       "      <td>-2.302585</td>\n",
       "      <td>-2.302585</td>\n",
       "      <td>-2.302585</td>\n",
       "    </tr>\n",
       "    <tr>\n",
       "      <th>32065</th>\n",
       "      <td>Residential</td>\n",
       "      <td>0.09</td>\n",
       "      <td>0.99</td>\n",
       "      <td>0</td>\n",
       "      <td>13.287878</td>\n",
       "      <td>13.381763</td>\n",
       "      <td>7.073354</td>\n",
       "      <td>7.073354</td>\n",
       "      <td>4.719391</td>\n",
       "      <td>4.719391</td>\n",
       "      <td>7.062277</td>\n",
       "      <td>-2.302585</td>\n",
       "      <td>-2.302585</td>\n",
       "    </tr>\n",
       "    <tr>\n",
       "      <th>16223</th>\n",
       "      <td>Residential</td>\n",
       "      <td>0.00</td>\n",
       "      <td>11.76</td>\n",
       "      <td>0</td>\n",
       "      <td>11.082144</td>\n",
       "      <td>6.411982</td>\n",
       "      <td>4.478473</td>\n",
       "      <td>0.095310</td>\n",
       "      <td>-2.302585</td>\n",
       "      <td>-2.302585</td>\n",
       "      <td>-2.302585</td>\n",
       "      <td>6.947072</td>\n",
       "      <td>-2.302585</td>\n",
       "    </tr>\n",
       "    <tr>\n",
       "      <th>4689</th>\n",
       "      <td>Residential</td>\n",
       "      <td>0.00</td>\n",
       "      <td>0.00</td>\n",
       "      <td>1</td>\n",
       "      <td>10.915090</td>\n",
       "      <td>5.481056</td>\n",
       "      <td>-2.302585</td>\n",
       "      <td>-2.302585</td>\n",
       "      <td>6.274950</td>\n",
       "      <td>3.786460</td>\n",
       "      <td>-2.302585</td>\n",
       "      <td>-2.302585</td>\n",
       "      <td>-2.302585</td>\n",
       "    </tr>\n",
       "    <tr>\n",
       "      <th>4443</th>\n",
       "      <td>Residential</td>\n",
       "      <td>0.00</td>\n",
       "      <td>0.00</td>\n",
       "      <td>0</td>\n",
       "      <td>10.819780</td>\n",
       "      <td>5.659831</td>\n",
       "      <td>-2.302585</td>\n",
       "      <td>-2.302585</td>\n",
       "      <td>-2.302585</td>\n",
       "      <td>-2.302585</td>\n",
       "      <td>-2.302585</td>\n",
       "      <td>5.533785</td>\n",
       "      <td>-2.302585</td>\n",
       "    </tr>\n",
       "    <tr>\n",
       "      <th>23847</th>\n",
       "      <td>Residential</td>\n",
       "      <td>1.72</td>\n",
       "      <td>0.11</td>\n",
       "      <td>1</td>\n",
       "      <td>-2.302585</td>\n",
       "      <td>-2.302585</td>\n",
       "      <td>8.520607</td>\n",
       "      <td>4.500920</td>\n",
       "      <td>9.065673</td>\n",
       "      <td>5.429784</td>\n",
       "      <td>6.310100</td>\n",
       "      <td>-2.302585</td>\n",
       "      <td>-2.302585</td>\n",
       "    </tr>\n",
       "  </tbody>\n",
       "</table>\n",
       "</div>"
      ],
      "text/plain": [
       "          Category  CollectionRatio  DebtBillingRatio  HasID  Value_Log  \\\n",
       "14115  Residential             0.25              4.53      1  -2.302585   \n",
       "22528     Business             0.99              0.00      1  13.664688   \n",
       "854    Residential             0.00             42.12      1  -2.302585   \n",
       "27873  Residential             0.14              1.93      1  13.398175   \n",
       "33365      Unknown             1.00              0.00      0  12.940842   \n",
       "32065  Residential             0.09              0.99      0  13.287878   \n",
       "16223  Residential             0.00             11.76      0  11.082144   \n",
       "4689   Residential             0.00              0.00      1  10.915090   \n",
       "4443   Residential             0.00              0.00      0  10.819780   \n",
       "23847  Residential             1.72              0.11      1  -2.302585   \n",
       "\n",
       "       PropertySize_Log  BillingAmt_Log  AverageBillingAmt_Log  \\\n",
       "14115         -2.302585        7.698982               4.096010   \n",
       "22528          6.423409        9.375524               6.157191   \n",
       "854            9.132173        5.136386               2.646175   \n",
       "27873         -2.302585        9.140465               4.710431   \n",
       "33365         -2.302585        5.342813               5.342813   \n",
       "32065         13.381763        7.073354               7.073354   \n",
       "16223          6.411982        4.478473               0.095310   \n",
       "4689           5.481056       -2.302585              -2.302585   \n",
       "4443           5.659831       -2.302585              -2.302585   \n",
       "23847         -2.302585        8.520607               4.500920   \n",
       "\n",
       "       CollectedAmt_Log  AverageCollectedAmt_Log  DebtAmt_Log  \\\n",
       "14115          6.326328                 3.763523     9.209050   \n",
       "22528          9.366155                 6.188469    -2.302585   \n",
       "854           -2.302585                -2.302585     8.876698   \n",
       "27873          7.170196                 6.477126     9.795741   \n",
       "33365          5.342813                 5.342813    -2.302585   \n",
       "32065          4.719391                 4.719391     7.062277   \n",
       "16223         -2.302585                -2.302585    -2.302585   \n",
       "4689           6.274950                 3.786460    -2.302585   \n",
       "4443          -2.302585                -2.302585    -2.302585   \n",
       "23847          9.065673                 5.429784     6.310100   \n",
       "\n",
       "       WriteOffAmt_Log  TotalElectricityBill_Log  \n",
       "14115        -2.302585                 -2.302585  \n",
       "22528        -2.302585                 -2.302585  \n",
       "854          -2.302585                 -2.302585  \n",
       "27873        -2.302585                 -2.302585  \n",
       "33365        -2.302585                 -2.302585  \n",
       "32065        -2.302585                 -2.302585  \n",
       "16223         6.947072                 -2.302585  \n",
       "4689         -2.302585                 -2.302585  \n",
       "4443          5.533785                 -2.302585  \n",
       "23847        -2.302585                 -2.302585  "
      ]
     },
     "execution_count": 210,
     "metadata": {},
     "output_type": "execute_result"
    }
   ],
   "source": [
    "data_validation.sample(10)"
   ]
  },
  {
   "cell_type": "code",
   "execution_count": null,
   "metadata": {
    "colab": {
     "base_uri": "https://localhost:8080/"
    },
    "id": "gViDDopYBpRf",
    "outputId": "8a9ce3f4-4de3-4bd7-ed4b-662d0dd5759a"
   },
   "outputs": [
    {
     "data": {
      "text/plain": [
       "(100476, 14)"
      ]
     },
     "execution_count": 211,
     "metadata": {},
     "output_type": "execute_result"
    }
   ],
   "source": [
    "data.shape"
   ]
  },
  {
   "cell_type": "code",
   "execution_count": null,
   "metadata": {
    "colab": {
     "base_uri": "https://localhost:8080/"
    },
    "id": "fKcGrLTVBrM4",
    "outputId": "272f8f6b-979b-4e16-b417-cba1718d6944"
   },
   "outputs": [
    {
     "data": {
      "text/plain": [
       "(33493, 13)"
      ]
     },
     "execution_count": 212,
     "metadata": {},
     "output_type": "execute_result"
    }
   ],
   "source": [
    "data_validation.shape"
   ]
  },
  {
   "cell_type": "code",
   "execution_count": null,
   "metadata": {
    "id": "ibpzRdkVFaig"
   },
   "outputs": [],
   "source": [
    "\n"
   ]
  },
  {
   "cell_type": "code",
   "execution_count": null,
   "metadata": {
    "id": "vIvvzjxuFa4X"
   },
   "outputs": [],
   "source": []
  },
  {
   "cell_type": "code",
   "execution_count": null,
   "metadata": {
    "colab": {
     "base_uri": "https://localhost:8080/"
    },
    "id": "Nbj1Y__DBtgv",
    "outputId": "021cc4f1-ee2e-464c-9b65-bc372891548b"
   },
   "outputs": [
    {
     "name": "stdout",
     "output_type": "stream",
     "text": [
      "<class 'pandas.core.frame.DataFrame'>\n",
      "RangeIndex: 100476 entries, 0 to 100475\n",
      "Data columns (total 14 columns):\n",
      " #   Column                    Non-Null Count   Dtype   \n",
      "---  ------                    --------------   -----   \n",
      " 0   Category                  100476 non-null  category\n",
      " 1   CollectionRatio           100476 non-null  float64 \n",
      " 2   DebtBillingRatio          100476 non-null  float64 \n",
      " 3   HasID                     100476 non-null  int64   \n",
      " 4   Label                     100476 non-null  int64   \n",
      " 5   Value_Log                 100476 non-null  float64 \n",
      " 6   PropertySize_Log          100476 non-null  float64 \n",
      " 7   BillingAmt_Log            100476 non-null  float64 \n",
      " 8   AverageBillingAmt_Log     100476 non-null  float64 \n",
      " 9   CollectedAmt_Log          100476 non-null  float64 \n",
      " 10  AverageCollectedAmt_Log   100476 non-null  float64 \n",
      " 11  DebtAmt_Log               100476 non-null  float64 \n",
      " 12  WriteOffAmt_Log           100476 non-null  float64 \n",
      " 13  TotalElectricityBill_Log  100476 non-null  float64 \n",
      "dtypes: category(1), float64(11), int64(2)\n",
      "memory usage: 10.1 MB\n"
     ]
    }
   ],
   "source": [
    "data.info()"
   ]
  },
  {
   "cell_type": "code",
   "execution_count": null,
   "metadata": {
    "colab": {
     "base_uri": "https://localhost:8080/"
    },
    "id": "2F_pzCPzBwRX",
    "outputId": "bcecd2bd-3dac-40d9-924d-ed15b09121ba"
   },
   "outputs": [
    {
     "name": "stdout",
     "output_type": "stream",
     "text": [
      "<class 'pandas.core.frame.DataFrame'>\n",
      "RangeIndex: 33493 entries, 0 to 33492\n",
      "Data columns (total 13 columns):\n",
      " #   Column                    Non-Null Count  Dtype   \n",
      "---  ------                    --------------  -----   \n",
      " 0   Category                  33493 non-null  category\n",
      " 1   CollectionRatio           33493 non-null  float64 \n",
      " 2   DebtBillingRatio          33493 non-null  float64 \n",
      " 3   HasID                     33493 non-null  int64   \n",
      " 4   Value_Log                 33493 non-null  float64 \n",
      " 5   PropertySize_Log          33493 non-null  float64 \n",
      " 6   BillingAmt_Log            33493 non-null  float64 \n",
      " 7   AverageBillingAmt_Log     33493 non-null  float64 \n",
      " 8   CollectedAmt_Log          33493 non-null  float64 \n",
      " 9   AverageCollectedAmt_Log   33493 non-null  float64 \n",
      " 10  DebtAmt_Log               33493 non-null  float64 \n",
      " 11  WriteOffAmt_Log           33493 non-null  float64 \n",
      " 12  TotalElectricityBill_Log  33493 non-null  float64 \n",
      "dtypes: category(1), float64(11), int64(1)\n",
      "memory usage: 3.1 MB\n"
     ]
    }
   ],
   "source": [
    "data_validation.info()"
   ]
  },
  {
   "cell_type": "code",
   "execution_count": null,
   "metadata": {
    "colab": {
     "base_uri": "https://localhost:8080/",
     "height": 452
    },
    "id": "3Y8rJ68DBx5E",
    "outputId": "1adc6be6-6852-43a0-9822-e78856c0d4f3"
   },
   "outputs": [
    {
     "data": {
      "text/html": [
       "<div>\n",
       "<style scoped>\n",
       "    .dataframe tbody tr th:only-of-type {\n",
       "        vertical-align: middle;\n",
       "    }\n",
       "\n",
       "    .dataframe tbody tr th {\n",
       "        vertical-align: top;\n",
       "    }\n",
       "\n",
       "    .dataframe thead th {\n",
       "        text-align: right;\n",
       "    }\n",
       "</style>\n",
       "<table border=\"1\" class=\"dataframe\">\n",
       "  <thead>\n",
       "    <tr style=\"text-align: right;\">\n",
       "      <th></th>\n",
       "      <th>count</th>\n",
       "      <th>mean</th>\n",
       "      <th>std</th>\n",
       "      <th>min</th>\n",
       "      <th>25%</th>\n",
       "      <th>50%</th>\n",
       "      <th>75%</th>\n",
       "      <th>max</th>\n",
       "    </tr>\n",
       "  </thead>\n",
       "  <tbody>\n",
       "    <tr>\n",
       "      <th>CollectionRatio</th>\n",
       "      <td>100476.0</td>\n",
       "      <td>25.689197</td>\n",
       "      <td>5519.401942</td>\n",
       "      <td>0.0</td>\n",
       "      <td>0.000000</td>\n",
       "      <td>0.500000</td>\n",
       "      <td>1.000000</td>\n",
       "      <td>1.701912e+06</td>\n",
       "    </tr>\n",
       "    <tr>\n",
       "      <th>DebtBillingRatio</th>\n",
       "      <td>100476.0</td>\n",
       "      <td>32.456573</td>\n",
       "      <td>5932.452622</td>\n",
       "      <td>0.0</td>\n",
       "      <td>0.000000</td>\n",
       "      <td>0.000000</td>\n",
       "      <td>1.280000</td>\n",
       "      <td>1.836304e+06</td>\n",
       "    </tr>\n",
       "    <tr>\n",
       "      <th>HasID</th>\n",
       "      <td>100476.0</td>\n",
       "      <td>0.427634</td>\n",
       "      <td>0.494738</td>\n",
       "      <td>0.0</td>\n",
       "      <td>0.000000</td>\n",
       "      <td>0.000000</td>\n",
       "      <td>1.000000</td>\n",
       "      <td>1.000000e+00</td>\n",
       "    </tr>\n",
       "    <tr>\n",
       "      <th>Label</th>\n",
       "      <td>100476.0</td>\n",
       "      <td>0.461424</td>\n",
       "      <td>0.498512</td>\n",
       "      <td>0.0</td>\n",
       "      <td>0.000000</td>\n",
       "      <td>0.000000</td>\n",
       "      <td>1.000000</td>\n",
       "      <td>1.000000e+00</td>\n",
       "    </tr>\n",
       "    <tr>\n",
       "      <th>Value_Log</th>\n",
       "      <td>100476.0</td>\n",
       "      <td>10.983147</td>\n",
       "      <td>3.864663</td>\n",
       "      <td>0.0</td>\n",
       "      <td>10.463132</td>\n",
       "      <td>11.440366</td>\n",
       "      <td>13.527830</td>\n",
       "      <td>1.986018e+01</td>\n",
       "    </tr>\n",
       "    <tr>\n",
       "      <th>PropertySize_Log</th>\n",
       "      <td>100476.0</td>\n",
       "      <td>6.587369</td>\n",
       "      <td>3.228847</td>\n",
       "      <td>0.0</td>\n",
       "      <td>5.624018</td>\n",
       "      <td>6.238325</td>\n",
       "      <td>7.058758</td>\n",
       "      <td>1.941584e+01</td>\n",
       "    </tr>\n",
       "    <tr>\n",
       "      <th>BillingAmt_Log</th>\n",
       "      <td>100476.0</td>\n",
       "      <td>7.255947</td>\n",
       "      <td>2.798885</td>\n",
       "      <td>0.0</td>\n",
       "      <td>6.135565</td>\n",
       "      <td>8.052615</td>\n",
       "      <td>9.072916</td>\n",
       "      <td>1.707873e+01</td>\n",
       "    </tr>\n",
       "    <tr>\n",
       "      <th>AverageBillingAmt_Log</th>\n",
       "      <td>100476.0</td>\n",
       "      <td>4.297021</td>\n",
       "      <td>2.137622</td>\n",
       "      <td>0.0</td>\n",
       "      <td>3.178054</td>\n",
       "      <td>4.682131</td>\n",
       "      <td>5.641907</td>\n",
       "      <td>1.359865e+01</td>\n",
       "    </tr>\n",
       "    <tr>\n",
       "      <th>CollectedAmt_Log</th>\n",
       "      <td>100476.0</td>\n",
       "      <td>4.749913</td>\n",
       "      <td>4.324267</td>\n",
       "      <td>0.0</td>\n",
       "      <td>0.000000</td>\n",
       "      <td>5.888878</td>\n",
       "      <td>8.909674</td>\n",
       "      <td>1.700891e+01</td>\n",
       "    </tr>\n",
       "    <tr>\n",
       "      <th>AverageCollectedAmt_Log</th>\n",
       "      <td>100476.0</td>\n",
       "      <td>3.690601</td>\n",
       "      <td>3.405340</td>\n",
       "      <td>0.0</td>\n",
       "      <td>0.000000</td>\n",
       "      <td>4.615121</td>\n",
       "      <td>6.645091</td>\n",
       "      <td>1.573659e+01</td>\n",
       "    </tr>\n",
       "    <tr>\n",
       "      <th>DebtAmt_Log</th>\n",
       "      <td>100476.0</td>\n",
       "      <td>3.253630</td>\n",
       "      <td>4.291146</td>\n",
       "      <td>0.0</td>\n",
       "      <td>0.000000</td>\n",
       "      <td>0.000000</td>\n",
       "      <td>7.740230</td>\n",
       "      <td>1.565964e+01</td>\n",
       "    </tr>\n",
       "    <tr>\n",
       "      <th>WriteOffAmt_Log</th>\n",
       "      <td>100476.0</td>\n",
       "      <td>0.742715</td>\n",
       "      <td>2.236406</td>\n",
       "      <td>0.0</td>\n",
       "      <td>0.000000</td>\n",
       "      <td>0.000000</td>\n",
       "      <td>0.000000</td>\n",
       "      <td>1.527566e+01</td>\n",
       "    </tr>\n",
       "    <tr>\n",
       "      <th>TotalElectricityBill_Log</th>\n",
       "      <td>100476.0</td>\n",
       "      <td>2.088835</td>\n",
       "      <td>3.672822</td>\n",
       "      <td>0.0</td>\n",
       "      <td>0.000000</td>\n",
       "      <td>0.000000</td>\n",
       "      <td>4.488636</td>\n",
       "      <td>1.693839e+01</td>\n",
       "    </tr>\n",
       "  </tbody>\n",
       "</table>\n",
       "</div>"
      ],
      "text/plain": [
       "                             count       mean          std  min        25%  \\\n",
       "CollectionRatio           100476.0  25.689197  5519.401942  0.0   0.000000   \n",
       "DebtBillingRatio          100476.0  32.456573  5932.452622  0.0   0.000000   \n",
       "HasID                     100476.0   0.427634     0.494738  0.0   0.000000   \n",
       "Label                     100476.0   0.461424     0.498512  0.0   0.000000   \n",
       "Value_Log                 100476.0  10.983147     3.864663  0.0  10.463132   \n",
       "PropertySize_Log          100476.0   6.587369     3.228847  0.0   5.624018   \n",
       "BillingAmt_Log            100476.0   7.255947     2.798885  0.0   6.135565   \n",
       "AverageBillingAmt_Log     100476.0   4.297021     2.137622  0.0   3.178054   \n",
       "CollectedAmt_Log          100476.0   4.749913     4.324267  0.0   0.000000   \n",
       "AverageCollectedAmt_Log   100476.0   3.690601     3.405340  0.0   0.000000   \n",
       "DebtAmt_Log               100476.0   3.253630     4.291146  0.0   0.000000   \n",
       "WriteOffAmt_Log           100476.0   0.742715     2.236406  0.0   0.000000   \n",
       "TotalElectricityBill_Log  100476.0   2.088835     3.672822  0.0   0.000000   \n",
       "\n",
       "                                50%        75%           max  \n",
       "CollectionRatio            0.500000   1.000000  1.701912e+06  \n",
       "DebtBillingRatio           0.000000   1.280000  1.836304e+06  \n",
       "HasID                      0.000000   1.000000  1.000000e+00  \n",
       "Label                      0.000000   1.000000  1.000000e+00  \n",
       "Value_Log                 11.440366  13.527830  1.986018e+01  \n",
       "PropertySize_Log           6.238325   7.058758  1.941584e+01  \n",
       "BillingAmt_Log             8.052615   9.072916  1.707873e+01  \n",
       "AverageBillingAmt_Log      4.682131   5.641907  1.359865e+01  \n",
       "CollectedAmt_Log           5.888878   8.909674  1.700891e+01  \n",
       "AverageCollectedAmt_Log    4.615121   6.645091  1.573659e+01  \n",
       "DebtAmt_Log                0.000000   7.740230  1.565964e+01  \n",
       "WriteOffAmt_Log            0.000000   0.000000  1.527566e+01  \n",
       "TotalElectricityBill_Log   0.000000   4.488636  1.693839e+01  "
      ]
     },
     "execution_count": 215,
     "metadata": {},
     "output_type": "execute_result"
    }
   ],
   "source": [
    "data.describe().T"
   ]
  },
  {
   "cell_type": "code",
   "execution_count": null,
   "metadata": {
    "colab": {
     "base_uri": "https://localhost:8080/",
     "height": 421
    },
    "id": "8FkYi-qMB2sK",
    "outputId": "027739d0-56e3-4c7a-97a4-6bb53b901455"
   },
   "outputs": [
    {
     "data": {
      "text/html": [
       "<div>\n",
       "<style scoped>\n",
       "    .dataframe tbody tr th:only-of-type {\n",
       "        vertical-align: middle;\n",
       "    }\n",
       "\n",
       "    .dataframe tbody tr th {\n",
       "        vertical-align: top;\n",
       "    }\n",
       "\n",
       "    .dataframe thead th {\n",
       "        text-align: right;\n",
       "    }\n",
       "</style>\n",
       "<table border=\"1\" class=\"dataframe\">\n",
       "  <thead>\n",
       "    <tr style=\"text-align: right;\">\n",
       "      <th></th>\n",
       "      <th>count</th>\n",
       "      <th>mean</th>\n",
       "      <th>std</th>\n",
       "      <th>min</th>\n",
       "      <th>25%</th>\n",
       "      <th>50%</th>\n",
       "      <th>75%</th>\n",
       "      <th>max</th>\n",
       "    </tr>\n",
       "  </thead>\n",
       "  <tbody>\n",
       "    <tr>\n",
       "      <th>CollectionRatio</th>\n",
       "      <td>33493.0</td>\n",
       "      <td>3.872461</td>\n",
       "      <td>252.574919</td>\n",
       "      <td>0.000000</td>\n",
       "      <td>0.000000</td>\n",
       "      <td>0.520000</td>\n",
       "      <td>1.000000</td>\n",
       "      <td>30850.000000</td>\n",
       "    </tr>\n",
       "    <tr>\n",
       "      <th>DebtBillingRatio</th>\n",
       "      <td>33493.0</td>\n",
       "      <td>17.373541</td>\n",
       "      <td>1907.424809</td>\n",
       "      <td>0.000000</td>\n",
       "      <td>0.000000</td>\n",
       "      <td>0.000000</td>\n",
       "      <td>1.240000</td>\n",
       "      <td>348633.500000</td>\n",
       "    </tr>\n",
       "    <tr>\n",
       "      <th>HasID</th>\n",
       "      <td>33493.0</td>\n",
       "      <td>0.430150</td>\n",
       "      <td>0.495104</td>\n",
       "      <td>0.000000</td>\n",
       "      <td>0.000000</td>\n",
       "      <td>0.000000</td>\n",
       "      <td>1.000000</td>\n",
       "      <td>1.000000</td>\n",
       "    </tr>\n",
       "    <tr>\n",
       "      <th>Value_Log</th>\n",
       "      <td>33493.0</td>\n",
       "      <td>10.754313</td>\n",
       "      <td>4.477979</td>\n",
       "      <td>-2.302585</td>\n",
       "      <td>10.463106</td>\n",
       "      <td>11.423002</td>\n",
       "      <td>13.521140</td>\n",
       "      <td>18.542898</td>\n",
       "    </tr>\n",
       "    <tr>\n",
       "      <th>PropertySize_Log</th>\n",
       "      <td>33493.0</td>\n",
       "      <td>6.343088</td>\n",
       "      <td>3.658771</td>\n",
       "      <td>-2.302585</td>\n",
       "      <td>5.617135</td>\n",
       "      <td>6.220789</td>\n",
       "      <td>7.057984</td>\n",
       "      <td>19.912770</td>\n",
       "    </tr>\n",
       "    <tr>\n",
       "      <th>BillingAmt_Log</th>\n",
       "      <td>33493.0</td>\n",
       "      <td>7.089948</td>\n",
       "      <td>3.247324</td>\n",
       "      <td>-2.302585</td>\n",
       "      <td>6.124902</td>\n",
       "      <td>8.059624</td>\n",
       "      <td>9.079446</td>\n",
       "      <td>16.578906</td>\n",
       "    </tr>\n",
       "    <tr>\n",
       "      <th>AverageBillingAmt_Log</th>\n",
       "      <td>33493.0</td>\n",
       "      <td>4.049531</td>\n",
       "      <td>2.655623</td>\n",
       "      <td>-2.302585</td>\n",
       "      <td>3.139833</td>\n",
       "      <td>4.664382</td>\n",
       "      <td>5.645800</td>\n",
       "      <td>12.817706</td>\n",
       "    </tr>\n",
       "    <tr>\n",
       "      <th>CollectedAmt_Log</th>\n",
       "      <td>33493.0</td>\n",
       "      <td>3.801125</td>\n",
       "      <td>5.410394</td>\n",
       "      <td>-2.302585</td>\n",
       "      <td>-2.302585</td>\n",
       "      <td>5.991715</td>\n",
       "      <td>8.908438</td>\n",
       "      <td>16.575336</td>\n",
       "    </tr>\n",
       "    <tr>\n",
       "      <th>AverageCollectedAmt_Log</th>\n",
       "      <td>33493.0</td>\n",
       "      <td>2.737338</td>\n",
       "      <td>4.486657</td>\n",
       "      <td>-2.302585</td>\n",
       "      <td>-2.302585</td>\n",
       "      <td>4.606170</td>\n",
       "      <td>6.659422</td>\n",
       "      <td>13.767981</td>\n",
       "    </tr>\n",
       "    <tr>\n",
       "      <th>DebtAmt_Log</th>\n",
       "      <td>33493.0</td>\n",
       "      <td>1.883947</td>\n",
       "      <td>5.367532</td>\n",
       "      <td>-2.302585</td>\n",
       "      <td>-2.302585</td>\n",
       "      <td>-2.302585</td>\n",
       "      <td>7.766883</td>\n",
       "      <td>16.387462</td>\n",
       "    </tr>\n",
       "    <tr>\n",
       "      <th>WriteOffAmt_Log</th>\n",
       "      <td>33493.0</td>\n",
       "      <td>-1.325369</td>\n",
       "      <td>2.907653</td>\n",
       "      <td>-2.302585</td>\n",
       "      <td>-2.302585</td>\n",
       "      <td>-2.302585</td>\n",
       "      <td>-2.302585</td>\n",
       "      <td>12.092933</td>\n",
       "    </tr>\n",
       "    <tr>\n",
       "      <th>TotalElectricityBill_Log</th>\n",
       "      <td>33493.0</td>\n",
       "      <td>0.355331</td>\n",
       "      <td>4.650994</td>\n",
       "      <td>-2.302585</td>\n",
       "      <td>-2.302585</td>\n",
       "      <td>-2.302585</td>\n",
       "      <td>3.914021</td>\n",
       "      <td>16.591059</td>\n",
       "    </tr>\n",
       "  </tbody>\n",
       "</table>\n",
       "</div>"
      ],
      "text/plain": [
       "                            count       mean          std       min  \\\n",
       "CollectionRatio           33493.0   3.872461   252.574919  0.000000   \n",
       "DebtBillingRatio          33493.0  17.373541  1907.424809  0.000000   \n",
       "HasID                     33493.0   0.430150     0.495104  0.000000   \n",
       "Value_Log                 33493.0  10.754313     4.477979 -2.302585   \n",
       "PropertySize_Log          33493.0   6.343088     3.658771 -2.302585   \n",
       "BillingAmt_Log            33493.0   7.089948     3.247324 -2.302585   \n",
       "AverageBillingAmt_Log     33493.0   4.049531     2.655623 -2.302585   \n",
       "CollectedAmt_Log          33493.0   3.801125     5.410394 -2.302585   \n",
       "AverageCollectedAmt_Log   33493.0   2.737338     4.486657 -2.302585   \n",
       "DebtAmt_Log               33493.0   1.883947     5.367532 -2.302585   \n",
       "WriteOffAmt_Log           33493.0  -1.325369     2.907653 -2.302585   \n",
       "TotalElectricityBill_Log  33493.0   0.355331     4.650994 -2.302585   \n",
       "\n",
       "                                25%        50%        75%            max  \n",
       "CollectionRatio            0.000000   0.520000   1.000000   30850.000000  \n",
       "DebtBillingRatio           0.000000   0.000000   1.240000  348633.500000  \n",
       "HasID                      0.000000   0.000000   1.000000       1.000000  \n",
       "Value_Log                 10.463106  11.423002  13.521140      18.542898  \n",
       "PropertySize_Log           5.617135   6.220789   7.057984      19.912770  \n",
       "BillingAmt_Log             6.124902   8.059624   9.079446      16.578906  \n",
       "AverageBillingAmt_Log      3.139833   4.664382   5.645800      12.817706  \n",
       "CollectedAmt_Log          -2.302585   5.991715   8.908438      16.575336  \n",
       "AverageCollectedAmt_Log   -2.302585   4.606170   6.659422      13.767981  \n",
       "DebtAmt_Log               -2.302585  -2.302585   7.766883      16.387462  \n",
       "WriteOffAmt_Log           -2.302585  -2.302585  -2.302585      12.092933  \n",
       "TotalElectricityBill_Log  -2.302585  -2.302585   3.914021      16.591059  "
      ]
     },
     "execution_count": 216,
     "metadata": {},
     "output_type": "execute_result"
    }
   ],
   "source": [
    "data_validation.describe().T"
   ]
  },
  {
   "cell_type": "markdown",
   "metadata": {
    "id": "cPpXrUODY4JE"
   },
   "source": [
    "# Dataframe to track all - Data Failed in all Models "
   ]
  },
  {
   "cell_type": "code",
   "execution_count": null,
   "metadata": {
    "id": "e5521HJ5cxiJ"
   },
   "outputs": [],
   "source": [
    "all_models_failed_records = pd.DataFrame()"
   ]
  },
  {
   "cell_type": "code",
   "execution_count": null,
   "metadata": {
    "id": "qMD1qWlUY4R1"
   },
   "outputs": [],
   "source": [
    "\n",
    "def showDataFailedAllModels():\n",
    "  duplicates = all_models_failed_records[(all_models_failed_records.duplicated() == True)]\n",
    "  #display(duplicates.sort_values(\"Value\", axis = 0, ascending = True))\n",
    "  #display(duplicates.groupby([\"Value\",\"PropertySize\",\"Orig\"])[\"Model Name\"].count())\n",
    "  failed_datas = duplicates.groupby([\"Value\",\"PropertySize\",\"Orig\"])[\"Model Name\"].count()\n",
    "  display(failed_datas.head(30))"
   ]
  },
  {
   "cell_type": "code",
   "execution_count": null,
   "metadata": {
    "colab": {
     "base_uri": "https://localhost:8080/",
     "height": 49
    },
    "id": "LnBMeVAKB36F",
    "outputId": "a79a5cb6-5be2-4b19-8733-f8d5cd33941a"
   },
   "outputs": [
    {
     "data": {
      "text/html": [
       "<div>\n",
       "<style scoped>\n",
       "    .dataframe tbody tr th:only-of-type {\n",
       "        vertical-align: middle;\n",
       "    }\n",
       "\n",
       "    .dataframe tbody tr th {\n",
       "        vertical-align: top;\n",
       "    }\n",
       "\n",
       "    .dataframe thead th {\n",
       "        text-align: right;\n",
       "    }\n",
       "</style>\n",
       "<table border=\"1\" class=\"dataframe\">\n",
       "  <thead>\n",
       "    <tr style=\"text-align: right;\">\n",
       "      <th></th>\n",
       "      <th>missing count</th>\n",
       "      <th>missing %</th>\n",
       "    </tr>\n",
       "  </thead>\n",
       "  <tbody>\n",
       "  </tbody>\n",
       "</table>\n",
       "</div>"
      ],
      "text/plain": [
       "Empty DataFrame\n",
       "Columns: [missing count, missing %]\n",
       "Index: []"
      ]
     },
     "execution_count": 219,
     "metadata": {},
     "output_type": "execute_result"
    }
   ],
   "source": [
    "#  Prints total null value count(s) for all columns in input data frame\n",
    "def print_null_info(df):\n",
    "    \"\"\"\n",
    "    Prints total null value count(s) & % for all columns in input data frame\n",
    "    \"\"\"\n",
    "\n",
    "    nullInfo = {\"missing count\": df.isnull().sum(), \"missing %\": df.isnull().mean()}\n",
    "    # Creates pandas DataFrame.\n",
    "    nulldata = pd.DataFrame(nullInfo)\n",
    "    return nulldata[nulldata[\"missing count\"] > 0].sort_values(\n",
    "        by=\"missing count\", ascending=False\n",
    "    )\n",
    "\n",
    "print_null_info(data)"
   ]
  },
  {
   "cell_type": "code",
   "execution_count": null,
   "metadata": {
    "colab": {
     "base_uri": "https://localhost:8080/",
     "height": 49
    },
    "id": "b_K7hJHAB6Y7",
    "outputId": "bc81356c-b745-4c1b-aa2c-58af42ed4e73"
   },
   "outputs": [
    {
     "data": {
      "text/html": [
       "<div>\n",
       "<style scoped>\n",
       "    .dataframe tbody tr th:only-of-type {\n",
       "        vertical-align: middle;\n",
       "    }\n",
       "\n",
       "    .dataframe tbody tr th {\n",
       "        vertical-align: top;\n",
       "    }\n",
       "\n",
       "    .dataframe thead th {\n",
       "        text-align: right;\n",
       "    }\n",
       "</style>\n",
       "<table border=\"1\" class=\"dataframe\">\n",
       "  <thead>\n",
       "    <tr style=\"text-align: right;\">\n",
       "      <th></th>\n",
       "      <th>missing count</th>\n",
       "      <th>missing %</th>\n",
       "    </tr>\n",
       "  </thead>\n",
       "  <tbody>\n",
       "  </tbody>\n",
       "</table>\n",
       "</div>"
      ],
      "text/plain": [
       "Empty DataFrame\n",
       "Columns: [missing count, missing %]\n",
       "Index: []"
      ]
     },
     "execution_count": 220,
     "metadata": {},
     "output_type": "execute_result"
    }
   ],
   "source": [
    "print_null_info(data_validation)"
   ]
  },
  {
   "cell_type": "code",
   "execution_count": null,
   "metadata": {
    "id": "RYtoXWYyHJmT"
   },
   "outputs": [],
   "source": [
    "## Generate Validation output \n",
    "\n",
    "def create_validation_output(model,output_file_name):\n",
    "    print(\"generate output\")\n",
    "    print()\n",
    "    debt_test['Label'] = model.predict(XV)\n",
    "    debt_test[[\"AccID\",\"Label\"]].to_csv(output_file_name,index=False)\n",
    "    from google.colab import files\n",
    "    files.download(output_file_name)\n",
    "    print( debt_test['Label'].value_counts(normalize=True) * 100)\n",
    "    print()\n",
    "    "
   ]
  },
  {
   "cell_type": "code",
   "execution_count": null,
   "metadata": {
    "id": "rhw8SYODB73K"
   },
   "outputs": [],
   "source": [
    "# defining a function to compute different metrics to check performance of a classification model built using sklearn\n",
    "def model_performance_classification(name, model,showFailed=False):\n",
    "    \"\"\"\n",
    "    Function to compute different metrics to check classification model performance\n",
    "\n",
    "    model: classifier\n",
    "    predictors: independent variables\n",
    "    target: dependent variable\n",
    "    \"\"\"\n",
    "    \n",
    "\n",
    "    print(f\"Model '{name}' performance \\n\\n\")\n",
    "\n",
    "    predictors_train = X_train\n",
    "    target_train = y_train\n",
    "\n",
    "    predictors_test = X_test\n",
    "    target_test = y_test\n",
    "\n",
    "    # predicting training data using the independent variables\n",
    "    pred_train = model.predict(predictors_train)\n",
    "\n",
    "    acc_train = accuracy_score(target_train, pred_train)  # to compute Accuracy\n",
    "    recall_train = recall_score(target_train, pred_train)  # to compute Recall\n",
    "    precision_train = precision_score(target_train, pred_train)  # to compute Precision\n",
    "    f1_train = f1_score(target_train, pred_train)  # to compute F1-score\n",
    "    roc_train = roc_auc_score(target_train, pred_train)  # to compute ROC AUC\n",
    "\n",
    "    # predicting test data using the independent variables\n",
    "    pred_test = model.predict(predictors_test)\n",
    "\n",
    "    acc_test = accuracy_score(target_test, pred_test)  # to compute Accuracy\n",
    "    recall_test = recall_score(target_test, pred_test)  # to compute Recall\n",
    "    precision_test = precision_score(target_test, pred_test)  # to compute Precision\n",
    "    f1_test = f1_score(target_test, pred_test)  # to compute F1-score\n",
    "    roc_test = roc_auc_score(target_test, pred_test)  # to compute ROC AUC\n",
    "\n",
    "    # creating a dataframe of metrics\n",
    "    df_perf = pd.DataFrame(\n",
    "        [\n",
    "            {\n",
    "                \"Model\": name,\n",
    "                \"Data\":\"Training\",\n",
    "                \"# Records\":X_train.shape[0],\n",
    "                \"Recall\": np.round_(recall_train * 100, decimals=3),\n",
    "                \"F1-Score\": np.round_(f1_train * 100, decimals=3),\n",
    "                \"Accuracy\": np.round_(acc_train * 100, decimals=3),\n",
    "                \"Precision\": np.round_(precision_train * 100, decimals=3),\n",
    "                \"ROC-AUC\": np.round_(roc_train * 100, decimals=3),\n",
    "            },{  \"Model\": name,\n",
    "                \"Data\":\"Test\",\n",
    "                \"# Records\":X_test.shape[0],\n",
    "                \"Recall\": np.round_(recall_test * 100, decimals=3),\n",
    "                \"F1-Score\": np.round_(f1_test * 100, decimals=3),\n",
    "                \"Accuracy\": np.round_(acc_test * 100, decimals=3),\n",
    "                \"Precision\": np.round_(precision_test * 100, decimals=3),\n",
    "                \"ROC-AUC\": np.round_(roc_test * 100, decimals=3),\n",
    "            },\n",
    "        ]\n",
    "    )\n",
    "    print();\n",
    "    display(df_perf)\n",
    "    print();\n",
    "    print();\n",
    "    confusion_matrix_classification(name, model,showFailed)\n",
    "    #return df_perf\n",
    "\n",
    "def confusion_matrix_classification(name, model, showFailed=False):\n",
    "    \"\"\"\n",
    "    To plot the confusion_matrix with percentages\n",
    "\n",
    "    model: classifier\n",
    "    predictors: independent variables\n",
    "    target: dependent variable\n",
    "    \"\"\"\n",
    "    sns.set_context(\n",
    "        \"paper\", rc={\"font.size\": 14, \"axes.titlesize\": 14, \"axes.labelsize\": 14}\n",
    "    )\n",
    "    #print(f\"Model '{name}' confusion matrix \\n\\n\")\n",
    "\n",
    "    predictors_train = X_train\n",
    "    target_train = y_train\n",
    "    predictors_train_output = X_train.copy()\n",
    "    predictors_test = X_test\n",
    "    target_test = y_test\n",
    "    predictors_output = X_test.copy()\n",
    "\n",
    "    y_pred_train = model.predict(predictors_train)\n",
    "    y_pred_test = model.predict(predictors_test)\n",
    "\n",
    "    cm_train = confusion_matrix(target_train, y_pred_train)\n",
    "    cm_test = confusion_matrix(target_test, y_pred_test)\n",
    "\n",
    "    predictors_train_output['Orig'] = target_train\n",
    "    predictors_train_output['Model'] = y_pred_train\n",
    "    predictors_train_output['Model Name'] = name\n",
    "\n",
    "    predictors_output['Orig'] = target_test\n",
    "    predictors_output['Model'] = y_pred_test\n",
    "    predictors_output['Model Name'] = name\n",
    "\n",
    "    plt.rcParams[\"figure.figsize\"] = [12, 6]\n",
    "    plt.rcParams[\"figure.autolayout\"] = True\n",
    "\n",
    "    f, axes = plt.subplots(1, 2)\n",
    "\n",
    "    labels = np.asarray(\n",
    "        [\n",
    "            [\n",
    "                \"{0:0.0f}\".format(item)\n",
    "                + \"\\n{0:.2%}\".format(item / cm_train.flatten().sum())\n",
    "            ]\n",
    "            for item in cm_train.flatten()\n",
    "        ]\n",
    "    ).reshape(2, 2)\n",
    "\n",
    "    labels_test = np.asarray(\n",
    "        [\n",
    "            [\n",
    "                \"{0:0.0f}\".format(item)\n",
    "                + \"\\n{0:.2%}\".format(item / cm_test.flatten().sum())\n",
    "            ]\n",
    "            for item in cm_test.flatten()\n",
    "        ]\n",
    "    ).reshape(2, 2)\n",
    "\n",
    "    g = sns.heatmap(cm_train, annot=labels, fmt=\"\", ax=axes[0])\n",
    "    g.set(xlabel=\"True label\", ylabel=\"Predicted label\", title=\"Training Data\")\n",
    "\n",
    "    g1 = sns.heatmap(cm_test, annot=labels_test, fmt=\"\", ax=axes[1])\n",
    "    g1.set(xlabel=\"True label\", ylabel=\"Predicted label\", title=\"Test Data\")\n",
    "\n",
    "\n",
    "    ret_elements = predictors_output[predictors_output[\"Orig\"] != predictors_output[\"Model\"]];\n",
    "    ret_train_elements = predictors_train_output[predictors_train_output[\"Orig\"] != predictors_train_output[\"Model\"]];\n",
    "    print();\n",
    "    print(f\"Total Training Failures : {ret_train_elements.shape[0]}\")\n",
    "    print();\n",
    "    print();\n",
    "    print(f\"Total Testing Failures : {ret_elements.shape[0]}\")\n",
    "    print();\n",
    "    global all_models_failed_records\n",
    "\n",
    "    all_models_failed_records = pd.concat([all_models_failed_records,ret_elements])\n",
    "\n",
    "    if showFailed==True:\n",
    "      print(f\"Random 20 Failed Records From Training\");\n",
    "      print();\n",
    "      display(ret_train_elements)\n",
    "      print();\n",
    "      print(f\"Random 10 Failed Records From Testing\");\n",
    "      print();\n",
    "      display(ret_elements)\n",
    "      print();\n",
    "      #return ret_elements\n",
    "\n",
    "def plot_important_features(model):\n",
    "\n",
    "    feature_imp = pd.Series(model.feature_importances_,index=X_train.columns).sort_values(ascending=False)\n",
    "    \n",
    "    # Add labels to your graph\n",
    "    plt.figure(figsize=(12, 12))\n",
    "    sns.barplot(x=feature_imp, y=feature_imp.index)\n",
    "    plt.xlabel('Feature Importance Score')\n",
    "    plt.ylabel('Features')\n",
    "    plt.title(\"Visualizing Important Features\")\n",
    "    plt.legend()\n",
    "    plt.show()\n"
   ]
  },
  {
   "cell_type": "markdown",
   "metadata": {
    "id": "bJvlIHPlCXyV"
   },
   "source": [
    "## **Setup Train & Test Data for Models**"
   ]
  },
  {
   "cell_type": "code",
   "execution_count": null,
   "metadata": {
    "colab": {
     "base_uri": "https://localhost:8080/"
    },
    "id": "7rUHUknBCfNd",
    "outputId": "32ea1e92-2bc2-400d-9901-47793df6a28d"
   },
   "outputs": [
    {
     "name": "stdout",
     "output_type": "stream",
     "text": [
      "X shape before one hot encoding (100476, 13)\n",
      "XV shape before one hot encoding (33493, 13)\n",
      "X shape after one hot encoding (100476, 23)\n",
      "XV shape after one hot encoding (33493, 23)\n"
     ]
    }
   ],
   "source": [
    "\n",
    "X = data.drop([\"Label\"], axis=1)\n",
    "Y = data[\"Label\"]\n",
    "XV =  data_validation.copy()\n",
    "#XV = data_validation.drop([\"TotalElectricityBill\",\"AverageCollectedAmt_Log\",\"AverageBillingAmt_Log\"], axis=1)\n",
    "\n",
    "\n",
    "\"\"\"\n",
    "X = data.drop([\"Label\"], axis=1)\n",
    "Y = data[\"Label\"]\n",
    "XV =  data_validation.copy()\n",
    "\"\"\"\n",
    "\n",
    "\"\"\"\n",
    "X = data.drop([\"Label\",\"HasID\",\"CollectionRatio\",\"DebtBillingRatio\",\"TotalElectricityBill\",\"CollectedAmt\",\"AverageBillingAmt\",\"AverageCollectedAmt\"], axis=1)\n",
    "Y = data[\"Label\"]\n",
    "XV =  data_validation.drop([\"HasID\",\"CollectionRatio\",\"DebtBillingRatio\",\"TotalElectricityBill\",\"CollectedAmt\",\"AverageBillingAmt\",\"AverageCollectedAmt\"], axis=1)\n",
    "\"\"\"\n",
    "\"\"\"\n",
    "X = data.drop([\"Label\",\"HasID\",\"TotalElectricityBill\",\"CollectedAmt\"], axis=1)\n",
    "Y = data[\"Label\"]\n",
    "XV =  data_validation.drop([\"HasID\",\"TotalElectricityBill\",\"CollectedAmt\"], axis=1)\n",
    "\"\"\"\n",
    "\"\"\"\n",
    "X = data.drop([\"Label\",\"TotalElectricityBill\",\"CollectedAmt\",\"AverageCollectedAmt\",\"CollectionRatio\",\"DebtAmt\"], axis=1)\n",
    "Y = data[\"Label\"]\n",
    "XV =  data_validation.drop([\"TotalElectricityBill\",\"CollectedAmt\",\"AverageCollectedAmt\",\"CollectionRatio\",\"DebtAmt\"], axis=1)\n",
    "\"\"\"\n",
    "\n",
    "\n",
    "print(f'X shape before one hot encoding {X.shape}')\n",
    "print(f'XV shape before one hot encoding {XV.shape}')\n",
    "\n",
    "# creating dummy variables\n",
    "X = pd.get_dummies(X, drop_first=True)\n",
    "XV = pd.get_dummies(XV, drop_first=True)\n",
    "print(f'X shape after one hot encoding {X.shape}')\n",
    "print(f'XV shape after one hot encoding {XV.shape}')"
   ]
  },
  {
   "cell_type": "code",
   "execution_count": null,
   "metadata": {
    "colab": {
     "base_uri": "https://localhost:8080/"
    },
    "id": "uBNhwsuSCvio",
    "outputId": "996c9adc-9107-4967-bedc-fb941c924163"
   },
   "outputs": [
    {
     "name": "stdout",
     "output_type": "stream",
     "text": [
      "Number of rows in train data = 100475\n",
      "Number of rows in test data = 50238\n",
      "\n",
      "Percentage of classes in training set\n",
      "0    53.857178\n",
      "1    46.142822\n",
      "Name: Label, dtype: float64\n",
      "\n",
      "Percentage of classes in test set\n",
      "0    53.901429\n",
      "1    46.098571\n",
      "Name: Label, dtype: float64\n"
     ]
    }
   ],
   "source": [
    "# splitting in training and test set\n",
    "\"\"\"\n",
    "X_train, X_test, y_train, y_test = train_test_split(\n",
    "    X.head(10000), Y.head(10000), test_size=0.3, random_state=101\n",
    ")\n",
    "\"\"\"\n",
    "X_train, X_test, y_train, y_test = train_test_split(\n",
    "    X, Y, test_size=0.000001, random_state=1\n",
    ")\n",
    "X1_train, X_test, y1_train, y_test = train_test_split(\n",
    "    X, Y, test_size=0.5, random_state=1\n",
    ")\n",
    "\n",
    "\n",
    "print(\"Number of rows in train data =\", X_train.shape[0])\n",
    "print(\"Number of rows in test data =\", X_test.shape[0])\n",
    "print()\n",
    "print(\"Percentage of classes in training set\")\n",
    "print(y_train.value_counts(normalize=True) * 100)\n",
    "print()\n",
    "print(\"Percentage of classes in test set\")\n",
    "print(y_test.value_counts(normalize=True) * 100)\n"
   ]
  },
  {
   "cell_type": "markdown",
   "metadata": {
    "id": "Lb-1cuKFDQY4"
   },
   "source": [
    "## Model Building"
   ]
  },
  {
   "cell_type": "code",
   "execution_count": null,
   "metadata": {
    "id": "6ZtNArg8Dh1M"
   },
   "outputs": [],
   "source": [
    "DOWNLOAD=False\n",
    "\n",
    "BUILD_ALL=False;\n",
    "\n",
    "\n",
    "BUILD_LR=True; #Default LR\n",
    "\n",
    "#Decision Tree\n",
    "BUILD_DT=True; # Default DT \n",
    "BUILD_TDTR=False; # Tuned DT - Recall\n",
    "BUILD_TDTA=False; # Tuned DT - Accuracy\n",
    "\n",
    "#Bagging\n",
    "BUILD_B=False; # Default Bagging\n",
    "BUILD_TBR=False; # Tuned Bagging - Recall\n",
    "BUILD_TBA=False; # Tuned Bagging - Accuracy\n",
    "\n",
    "#Random Forest\n",
    "BUILD_RT=True; # Default Random Forest\n",
    "BUILD_TRTR=False; # Tuned Random Forest  - Recall\n",
    "BUILD_TRTA=False; # Tuned Random Forest  - Accuracy\n",
    "\n",
    "\n",
    "#Stack\n",
    "BUILD_STACK=False; # Tuned DT - Accuracy"
   ]
  },
  {
   "cell_type": "markdown",
   "metadata": {
    "id": "19zDqUrbGvee"
   },
   "source": [
    "## Default Logistic Regression"
   ]
  },
  {
   "cell_type": "code",
   "execution_count": null,
   "metadata": {
    "colab": {
     "base_uri": "https://localhost:8080/",
     "height": 52
    },
    "id": "3iSe3dhcDWXq",
    "outputId": "1ec0626a-bb81-4260-87f2-2c91e43a72ee"
   },
   "outputs": [
    {
     "data": {
      "application/vnd.google.colaboratory.intrinsic+json": {
       "type": "string"
      },
      "text/plain": [
       "'\\nif BUILD_ALL==True or BUILD_LR==True:\\n    # using newton-cg solver since its faster for high-dimensional data\\n    model1 = LogisticRegression(solver=\"newton-cg\", random_state=1)\\n    lg1 = model1.fit(X_train, y_train)\\n    model_performance_classification(\"Default Logistic Regression\", lg1, False)\\n'"
      ]
     },
     "execution_count": 226,
     "metadata": {},
     "output_type": "execute_result"
    }
   ],
   "source": [
    "\"\"\"\n",
    "if BUILD_ALL==True or BUILD_LR==True:\n",
    "    # using newton-cg solver since its faster for high-dimensional data\n",
    "    model1 = LogisticRegression(solver=\"newton-cg\", random_state=1)\n",
    "    lg1 = model1.fit(X_train, y_train)\n",
    "    model_performance_classification(\"Default Logistic Regression\", lg1, False)\n",
    "\"\"\""
   ]
  },
  {
   "cell_type": "code",
   "execution_count": null,
   "metadata": {
    "colab": {
     "base_uri": "https://localhost:8080/",
     "height": 1000
    },
    "id": "uLTjyNmwHqJU",
    "outputId": "4aca0b97-dff3-4bde-b0d1-58732453a2df"
   },
   "outputs": [
    {
     "name": "stdout",
     "output_type": "stream",
     "text": [
      "Model 'Default Decision Tree Classifier' performance \n",
      "\n",
      "\n",
      "\n"
     ]
    },
    {
     "data": {
      "text/html": [
       "<div>\n",
       "<style scoped>\n",
       "    .dataframe tbody tr th:only-of-type {\n",
       "        vertical-align: middle;\n",
       "    }\n",
       "\n",
       "    .dataframe tbody tr th {\n",
       "        vertical-align: top;\n",
       "    }\n",
       "\n",
       "    .dataframe thead th {\n",
       "        text-align: right;\n",
       "    }\n",
       "</style>\n",
       "<table border=\"1\" class=\"dataframe\">\n",
       "  <thead>\n",
       "    <tr style=\"text-align: right;\">\n",
       "      <th></th>\n",
       "      <th>Model</th>\n",
       "      <th>Data</th>\n",
       "      <th># Records</th>\n",
       "      <th>Recall</th>\n",
       "      <th>F1-Score</th>\n",
       "      <th>Accuracy</th>\n",
       "      <th>Precision</th>\n",
       "      <th>ROC-AUC</th>\n",
       "    </tr>\n",
       "  </thead>\n",
       "  <tbody>\n",
       "    <tr>\n",
       "      <th>0</th>\n",
       "      <td>Default Decision Tree Classifier</td>\n",
       "      <td>Training</td>\n",
       "      <td>100475</td>\n",
       "      <td>99.996</td>\n",
       "      <td>99.998</td>\n",
       "      <td>99.998</td>\n",
       "      <td>100.0</td>\n",
       "      <td>99.998</td>\n",
       "    </tr>\n",
       "    <tr>\n",
       "      <th>1</th>\n",
       "      <td>Default Decision Tree Classifier</td>\n",
       "      <td>Test</td>\n",
       "      <td>50238</td>\n",
       "      <td>99.996</td>\n",
       "      <td>99.998</td>\n",
       "      <td>99.998</td>\n",
       "      <td>100.0</td>\n",
       "      <td>99.998</td>\n",
       "    </tr>\n",
       "  </tbody>\n",
       "</table>\n",
       "</div>"
      ],
      "text/plain": [
       "                              Model      Data  # Records  Recall  F1-Score  \\\n",
       "0  Default Decision Tree Classifier  Training     100475  99.996    99.998   \n",
       "1  Default Decision Tree Classifier      Test      50238  99.996    99.998   \n",
       "\n",
       "   Accuracy  Precision  ROC-AUC  \n",
       "0    99.998      100.0   99.998  \n",
       "1    99.998      100.0   99.998  "
      ]
     },
     "metadata": {},
     "output_type": "display_data"
    },
    {
     "name": "stdout",
     "output_type": "stream",
     "text": [
      "\n",
      "\n",
      "\n",
      "Total Training Failures : 2\n",
      "\n",
      "\n",
      "Total Testing Failures : 1\n",
      "\n",
      "Random 20 Failed Records From Training\n",
      "\n"
     ]
    },
    {
     "data": {
      "text/html": [
       "<div>\n",
       "<style scoped>\n",
       "    .dataframe tbody tr th:only-of-type {\n",
       "        vertical-align: middle;\n",
       "    }\n",
       "\n",
       "    .dataframe tbody tr th {\n",
       "        vertical-align: top;\n",
       "    }\n",
       "\n",
       "    .dataframe thead th {\n",
       "        text-align: right;\n",
       "    }\n",
       "</style>\n",
       "<table border=\"1\" class=\"dataframe\">\n",
       "  <thead>\n",
       "    <tr style=\"text-align: right;\">\n",
       "      <th></th>\n",
       "      <th>CollectionRatio</th>\n",
       "      <th>DebtBillingRatio</th>\n",
       "      <th>HasID</th>\n",
       "      <th>Value_Log</th>\n",
       "      <th>PropertySize_Log</th>\n",
       "      <th>BillingAmt_Log</th>\n",
       "      <th>AverageBillingAmt_Log</th>\n",
       "      <th>CollectedAmt_Log</th>\n",
       "      <th>AverageCollectedAmt_Log</th>\n",
       "      <th>DebtAmt_Log</th>\n",
       "      <th>WriteOffAmt_Log</th>\n",
       "      <th>TotalElectricityBill_Log</th>\n",
       "      <th>Category_Business</th>\n",
       "      <th>Category_Educational</th>\n",
       "      <th>Category_Environmental Management</th>\n",
       "      <th>Category_Government</th>\n",
       "      <th>Category_Industry</th>\n",
       "      <th>Category_Infrastructure</th>\n",
       "      <th>Category_Municipal</th>\n",
       "      <th>Category_Place of Worship</th>\n",
       "      <th>Category_Public Benefit</th>\n",
       "      <th>Category_Residential</th>\n",
       "      <th>Category_Unknown</th>\n",
       "      <th>Orig</th>\n",
       "      <th>Model</th>\n",
       "      <th>Model Name</th>\n",
       "    </tr>\n",
       "  </thead>\n",
       "  <tbody>\n",
       "    <tr>\n",
       "      <th>60630</th>\n",
       "      <td>1.0</td>\n",
       "      <td>0.0</td>\n",
       "      <td>0</td>\n",
       "      <td>10.596660</td>\n",
       "      <td>7.303170</td>\n",
       "      <td>5.278115</td>\n",
       "      <td>5.278115</td>\n",
       "      <td>5.278115</td>\n",
       "      <td>4.189655</td>\n",
       "      <td>0.0</td>\n",
       "      <td>0.0</td>\n",
       "      <td>0.0</td>\n",
       "      <td>0</td>\n",
       "      <td>0</td>\n",
       "      <td>0</td>\n",
       "      <td>0</td>\n",
       "      <td>0</td>\n",
       "      <td>0</td>\n",
       "      <td>0</td>\n",
       "      <td>0</td>\n",
       "      <td>0</td>\n",
       "      <td>1</td>\n",
       "      <td>0</td>\n",
       "      <td>1</td>\n",
       "      <td>0</td>\n",
       "      <td>Default Decision Tree Classifier</td>\n",
       "    </tr>\n",
       "    <tr>\n",
       "      <th>82987</th>\n",
       "      <td>1.0</td>\n",
       "      <td>0.0</td>\n",
       "      <td>1</td>\n",
       "      <td>9.955178</td>\n",
       "      <td>5.484797</td>\n",
       "      <td>2.564949</td>\n",
       "      <td>0.693147</td>\n",
       "      <td>2.564949</td>\n",
       "      <td>1.945910</td>\n",
       "      <td>0.0</td>\n",
       "      <td>0.0</td>\n",
       "      <td>0.0</td>\n",
       "      <td>0</td>\n",
       "      <td>0</td>\n",
       "      <td>0</td>\n",
       "      <td>0</td>\n",
       "      <td>0</td>\n",
       "      <td>0</td>\n",
       "      <td>0</td>\n",
       "      <td>0</td>\n",
       "      <td>0</td>\n",
       "      <td>1</td>\n",
       "      <td>0</td>\n",
       "      <td>1</td>\n",
       "      <td>0</td>\n",
       "      <td>Default Decision Tree Classifier</td>\n",
       "    </tr>\n",
       "  </tbody>\n",
       "</table>\n",
       "</div>"
      ],
      "text/plain": [
       "       CollectionRatio  DebtBillingRatio  HasID  Value_Log  PropertySize_Log  \\\n",
       "60630              1.0               0.0      0  10.596660          7.303170   \n",
       "82987              1.0               0.0      1   9.955178          5.484797   \n",
       "\n",
       "       BillingAmt_Log  AverageBillingAmt_Log  CollectedAmt_Log  \\\n",
       "60630        5.278115               5.278115          5.278115   \n",
       "82987        2.564949               0.693147          2.564949   \n",
       "\n",
       "       AverageCollectedAmt_Log  DebtAmt_Log  WriteOffAmt_Log  \\\n",
       "60630                 4.189655          0.0              0.0   \n",
       "82987                 1.945910          0.0              0.0   \n",
       "\n",
       "       TotalElectricityBill_Log  Category_Business  Category_Educational  \\\n",
       "60630                       0.0                  0                     0   \n",
       "82987                       0.0                  0                     0   \n",
       "\n",
       "       Category_Environmental Management  Category_Government  \\\n",
       "60630                                  0                    0   \n",
       "82987                                  0                    0   \n",
       "\n",
       "       Category_Industry  Category_Infrastructure  Category_Municipal  \\\n",
       "60630                  0                        0                   0   \n",
       "82987                  0                        0                   0   \n",
       "\n",
       "       Category_Place of Worship  Category_Public Benefit  \\\n",
       "60630                          0                        0   \n",
       "82987                          0                        0   \n",
       "\n",
       "       Category_Residential  Category_Unknown  Orig  Model  \\\n",
       "60630                     1                 0     1      0   \n",
       "82987                     1                 0     1      0   \n",
       "\n",
       "                             Model Name  \n",
       "60630  Default Decision Tree Classifier  \n",
       "82987  Default Decision Tree Classifier  "
      ]
     },
     "metadata": {},
     "output_type": "display_data"
    },
    {
     "name": "stdout",
     "output_type": "stream",
     "text": [
      "\n",
      "Random 10 Failed Records From Testing\n",
      "\n"
     ]
    },
    {
     "data": {
      "text/html": [
       "<div>\n",
       "<style scoped>\n",
       "    .dataframe tbody tr th:only-of-type {\n",
       "        vertical-align: middle;\n",
       "    }\n",
       "\n",
       "    .dataframe tbody tr th {\n",
       "        vertical-align: top;\n",
       "    }\n",
       "\n",
       "    .dataframe thead th {\n",
       "        text-align: right;\n",
       "    }\n",
       "</style>\n",
       "<table border=\"1\" class=\"dataframe\">\n",
       "  <thead>\n",
       "    <tr style=\"text-align: right;\">\n",
       "      <th></th>\n",
       "      <th>CollectionRatio</th>\n",
       "      <th>DebtBillingRatio</th>\n",
       "      <th>HasID</th>\n",
       "      <th>Value_Log</th>\n",
       "      <th>PropertySize_Log</th>\n",
       "      <th>BillingAmt_Log</th>\n",
       "      <th>AverageBillingAmt_Log</th>\n",
       "      <th>CollectedAmt_Log</th>\n",
       "      <th>AverageCollectedAmt_Log</th>\n",
       "      <th>DebtAmt_Log</th>\n",
       "      <th>WriteOffAmt_Log</th>\n",
       "      <th>TotalElectricityBill_Log</th>\n",
       "      <th>Category_Business</th>\n",
       "      <th>Category_Educational</th>\n",
       "      <th>Category_Environmental Management</th>\n",
       "      <th>Category_Government</th>\n",
       "      <th>Category_Industry</th>\n",
       "      <th>Category_Infrastructure</th>\n",
       "      <th>Category_Municipal</th>\n",
       "      <th>Category_Place of Worship</th>\n",
       "      <th>Category_Public Benefit</th>\n",
       "      <th>Category_Residential</th>\n",
       "      <th>Category_Unknown</th>\n",
       "      <th>Orig</th>\n",
       "      <th>Model</th>\n",
       "      <th>Model Name</th>\n",
       "    </tr>\n",
       "  </thead>\n",
       "  <tbody>\n",
       "    <tr>\n",
       "      <th>60630</th>\n",
       "      <td>1.0</td>\n",
       "      <td>0.0</td>\n",
       "      <td>0</td>\n",
       "      <td>10.59666</td>\n",
       "      <td>7.30317</td>\n",
       "      <td>5.278115</td>\n",
       "      <td>5.278115</td>\n",
       "      <td>5.278115</td>\n",
       "      <td>4.189655</td>\n",
       "      <td>0.0</td>\n",
       "      <td>0.0</td>\n",
       "      <td>0.0</td>\n",
       "      <td>0</td>\n",
       "      <td>0</td>\n",
       "      <td>0</td>\n",
       "      <td>0</td>\n",
       "      <td>0</td>\n",
       "      <td>0</td>\n",
       "      <td>0</td>\n",
       "      <td>0</td>\n",
       "      <td>0</td>\n",
       "      <td>1</td>\n",
       "      <td>0</td>\n",
       "      <td>1</td>\n",
       "      <td>0</td>\n",
       "      <td>Default Decision Tree Classifier</td>\n",
       "    </tr>\n",
       "  </tbody>\n",
       "</table>\n",
       "</div>"
      ],
      "text/plain": [
       "       CollectionRatio  DebtBillingRatio  HasID  Value_Log  PropertySize_Log  \\\n",
       "60630              1.0               0.0      0   10.59666           7.30317   \n",
       "\n",
       "       BillingAmt_Log  AverageBillingAmt_Log  CollectedAmt_Log  \\\n",
       "60630        5.278115               5.278115          5.278115   \n",
       "\n",
       "       AverageCollectedAmt_Log  DebtAmt_Log  WriteOffAmt_Log  \\\n",
       "60630                 4.189655          0.0              0.0   \n",
       "\n",
       "       TotalElectricityBill_Log  Category_Business  Category_Educational  \\\n",
       "60630                       0.0                  0                     0   \n",
       "\n",
       "       Category_Environmental Management  Category_Government  \\\n",
       "60630                                  0                    0   \n",
       "\n",
       "       Category_Industry  Category_Infrastructure  Category_Municipal  \\\n",
       "60630                  0                        0                   0   \n",
       "\n",
       "       Category_Place of Worship  Category_Public Benefit  \\\n",
       "60630                          0                        0   \n",
       "\n",
       "       Category_Residential  Category_Unknown  Orig  Model  \\\n",
       "60630                     1                 0     1      0   \n",
       "\n",
       "                             Model Name  \n",
       "60630  Default Decision Tree Classifier  "
      ]
     },
     "metadata": {},
     "output_type": "display_data"
    },
    {
     "name": "stdout",
     "output_type": "stream",
     "text": [
      "\n"
     ]
    },
    {
     "data": {
      "image/png": "[encoded data removed]",
      "text/plain": [
       "<Figure size 864x432 with 4 Axes>"
      ]
     },
     "metadata": {
      "needs_background": "light"
     },
     "output_type": "display_data"
    }
   ],
   "source": [
    "  modelDM1 = DecisionTreeClassifier(criterion=\"gini\", random_state=1, class_weight={0: 0.50, 1: 0.50})\n",
    "  modelDM1.fit(X, Y)\n",
    "  model_performance_classification(\"Default Decision Tree Classifier\", modelDM1,True)\n"
   ]
  },
  {
   "cell_type": "markdown",
   "metadata": {
    "id": "zKdObNgBG0kt"
   },
   "source": [
    "## Default Decision Tree Classifier"
   ]
  },
  {
   "cell_type": "code",
   "execution_count": null,
   "metadata": {
    "colab": {
     "base_uri": "https://localhost:8080/",
     "height": 86
    },
    "id": "GouwfQ4nDdBD",
    "outputId": "b59f37b3-23b4-4d6c-c262-9514106264f6"
   },
   "outputs": [
    {
     "data": {
      "application/vnd.google.colaboratory.intrinsic+json": {
       "type": "string"
      },
      "text/plain": [
       "'\\n # Choose the type of classifier.\\ndtree_estimator = DecisionTreeClassifier(criterion=\"gini\", random_state=1, class_weight={0: 0.50, 1: 0.50})\\n\\n# Grid of parameters to choose from\\nparameters = {\\n    \"max_depth\": np.arange(2, 10, 2),\\n    \"min_samples_leaf\": [1, 2, 5, 7, 10],\\n    \"max_leaf_nodes\": [2, 3, 5, 10, 15],\\n    \"min_impurity_decrease\": [0.001, 0.01, 0.1],\\n}\\n\\n# Type of scoring used to compare parameter combinations\\nscorer = metrics.make_scorer(metrics.accuracy_score)\\n\\n# Run the grid search\\ngrid_obj = GridSearchCV(dtree_estimator, parameters, scoring=scorer)\\ngrid_obj = grid_obj.fit(X, Y)\\n\\n# Set the clf to the best combination of parameters\\ndtree_estimator = grid_obj.best_estimator_\\n\\n# Fit the best algorithm to the data.\\ndtree_estimator.fit(X, Y) \\nmodel_performance_classification(\" Decision Tree Classifier\", dtree_estimator,True)\\n\\n'"
      ]
     },
     "execution_count": 228,
     "metadata": {},
     "output_type": "execute_result"
    }
   ],
   "source": [
    "\"\"\"\n",
    "if BUILD_ALL==True or BUILD_DT==True:\n",
    "  modelDM1 = DecisionTreeClassifier(criterion=\"gini\", random_state=1, class_weight={0: 0.50, 1: 0.50})\n",
    "  modelDM1.fit(X, Y)\n",
    "  model_performance_classification(\"Default Decision Tree Classifier\", modelDM1,True)\n",
    "\n",
    "  \"\"\"\n",
    "\"\"\"\n",
    " # Choose the type of classifier.\n",
    "dtree_estimator = DecisionTreeClassifier(criterion=\"gini\", random_state=1, class_weight={0: 0.50, 1: 0.50})\n",
    "\n",
    "# Grid of parameters to choose from\n",
    "parameters = {\n",
    "    \"max_depth\": np.arange(2, 10, 2),\n",
    "    \"min_samples_leaf\": [1, 2, 5, 7, 10],\n",
    "    \"max_leaf_nodes\": [2, 3, 5, 10, 15],\n",
    "    \"min_impurity_decrease\": [0.001, 0.01, 0.1],\n",
    "}\n",
    "\n",
    "# Type of scoring used to compare parameter combinations\n",
    "scorer = metrics.make_scorer(metrics.accuracy_score)\n",
    "\n",
    "# Run the grid search\n",
    "grid_obj = GridSearchCV(dtree_estimator, parameters, scoring=scorer)\n",
    "grid_obj = grid_obj.fit(X, Y)\n",
    "\n",
    "# Set the clf to the best combination of parameters\n",
    "dtree_estimator = grid_obj.best_estimator_\n",
    "\n",
    "# Fit the best algorithm to the data.\n",
    "dtree_estimator.fit(X, Y) \n",
    "model_performance_classification(\" Decision Tree Classifier\", dtree_estimator,True)\n",
    "\n",
    "\"\"\""
   ]
  },
  {
   "cell_type": "code",
   "execution_count": null,
   "metadata": {
    "id": "hYc7Z57-8gPG"
   },
   "outputs": [],
   "source": [
    "#plot_important_features(dtree_estimator)"
   ]
  },
  {
   "cell_type": "markdown",
   "metadata": {
    "id": "oVMtQbIRHLaq"
   },
   "source": [
    "## Tuned Decision Tree - Recall & Accuracy\n",
    "\n"
   ]
  },
  {
   "cell_type": "code",
   "execution_count": null,
   "metadata": {
    "id": "AHTC6l5oHg2U"
   },
   "outputs": [],
   "source": [
    "# BY recall_score\n",
    "if BUILD_ALL==True or BUILD_TDTR==True:\n",
    "    estimator = DecisionTreeClassifier(random_state=1, class_weight={0: 0.50, 1: 0.50})\n",
    "\n",
    "      # Grid of parameters to choose from\n",
    "    parameters = {\n",
    "          \"max_depth\": [5, 10, 15,20,25, 30,50,None],\n",
    "          'min_samples_leaf': [5, 10, 20, 50, 100],\n",
    "          \"criterion\": [\"entropy\", \"gini\"],\n",
    "          \"splitter\": [\"best\", \"random\"],\n",
    "          \"min_impurity_decrease\": [0.00001, 0.0001, 0.01],\n",
    "      }\n",
    "\n",
    "\n",
    "    # Type of scoring used to compare parameter combinations\n",
    "    scorer = make_scorer(recall_score)\n",
    "    #scorer = make_scorer(precision_score)\n",
    "    #scorer = make_scorer(accuracy_score)\n",
    "\n",
    "    # Run the grid search\n",
    "    grid_obj = GridSearchCV(estimator, parameters, scoring=scorer, cv=5, n_jobs=-1)\n",
    "    grid_obj = grid_obj.fit(X_train, y_train)\n",
    "\n",
    "    # Set the clf to the best combination of parameters\n",
    "    estimator_recall = grid_obj.best_estimator_\n",
    "\n",
    "    # Fit the best algorithm to the data.\n",
    "    estimator_recall.fit(X_train, y_train)\n",
    "    model_performance_classification(\"Tuned Decision Tree Classifier - Recall\", estimator_recall)"
   ]
  },
  {
   "cell_type": "code",
   "execution_count": null,
   "metadata": {
    "id": "LLCuHnQJH_Cf"
   },
   "outputs": [],
   "source": [
    "# BY accuracy_score\n",
    "if BUILD_ALL==True or BUILD_TDTA==True:\n",
    "    estimator = DecisionTreeClassifier(random_state=1, class_weight={0: 0.46, 1: 0.54})\n",
    "\n",
    "    # Grid of parameters to choose from\n",
    "    parameters = {\n",
    "        \"max_depth\": [5, 10, 15,20,25, 30,50,None],\n",
    "        'min_samples_leaf': [5, 10, 20, 50, 100],\n",
    "        \"criterion\": [\"entropy\", \"gini\"],\n",
    "        \"splitter\": [\"best\", \"random\"],\n",
    "        \"min_impurity_decrease\": [0.00001, 0.0001, 0.01],\n",
    "    }\n",
    "\n",
    "\n",
    "    # Type of scoring used to compare parameter combinations\n",
    "    #scorer = make_scorer(recall_score)\n",
    "    #scorer = make_scorer(precision_score)\n",
    "    scorer = make_scorer(accuracy_score)\n",
    "\n",
    "    # Run the grid search\n",
    "    grid_obj = GridSearchCV(estimator, parameters, scoring=scorer, cv=5, n_jobs=-1)\n",
    "    grid_obj = grid_obj.fit(X_train, y_train)\n",
    "\n",
    "    # Set the clf to the best combination of parameters\n",
    "    estimator_accuracy = grid_obj.best_estimator_\n",
    "\n",
    "    # Fit the best algorithm to the data.\n",
    "    estimator_accuracy.fit(X_train, y_train)\n",
    "    model_performance_classification(\"Tuned Decision Tree Classifier - Accuracy\", estimator_accuracy)"
   ]
  },
  {
   "cell_type": "markdown",
   "metadata": {
    "id": "d2Kc0uL5NBTu"
   },
   "source": [
    "# Default Bagging"
   ]
  },
  {
   "cell_type": "code",
   "execution_count": null,
   "metadata": {
    "id": "yAsKImACNz8g"
   },
   "outputs": [],
   "source": [
    "\n",
    "if BUILD_ALL==True or BUILD_B==True:\n",
    "  bagging_wt_recall = BaggingClassifier(random_state=1)\n",
    "  bagging_wt_recall.fit(X_train, y_train)\n",
    "  model_performance_classification(\n",
    "    \"Bagging Classifier WT Decision Tree\", bagging_wt_recall,True\n",
    "  )\n"
   ]
  },
  {
   "cell_type": "code",
   "execution_count": null,
   "metadata": {
    "id": "EyI9IywrQRU3"
   },
   "outputs": [],
   "source": [
    "if BUILD_ALL==True or BUILD_B==True:\n",
    "  bagging_wt_accuracy = BaggingClassifier(base_estimator=DecisionTreeClassifier(criterion='gini',class_weight={0:0.50,1:0.50},random_state=1),random_state=1)\n",
    "  bagging_wt_accuracy.fit(X_train, y_train)\n",
    "  model_performance_classification(\n",
    "    \"Bagging Classifier WT Decision Tree\", bagging_wt_accuracy,True\n",
    "  )"
   ]
  },
  {
   "cell_type": "markdown",
   "metadata": {
    "id": "3MC5XugtONVQ"
   },
   "source": [
    "# Default Random Forest"
   ]
  },
  {
   "cell_type": "code",
   "execution_count": null,
   "metadata": {
    "colab": {
     "base_uri": "https://localhost:8080/",
     "height": 1000
    },
    "id": "p6pk8dtENAFj",
    "outputId": "c9b1b761-21b0-4582-b8aa-9719ce50d3c3"
   },
   "outputs": [
    {
     "name": "stdout",
     "output_type": "stream",
     "text": [
      "Model 'Random Forest with wt' performance \n",
      "\n",
      "\n",
      "\n"
     ]
    },
    {
     "data": {
      "text/html": [
       "<div>\n",
       "<style scoped>\n",
       "    .dataframe tbody tr th:only-of-type {\n",
       "        vertical-align: middle;\n",
       "    }\n",
       "\n",
       "    .dataframe tbody tr th {\n",
       "        vertical-align: top;\n",
       "    }\n",
       "\n",
       "    .dataframe thead th {\n",
       "        text-align: right;\n",
       "    }\n",
       "</style>\n",
       "<table border=\"1\" class=\"dataframe\">\n",
       "  <thead>\n",
       "    <tr style=\"text-align: right;\">\n",
       "      <th></th>\n",
       "      <th>Model</th>\n",
       "      <th>Data</th>\n",
       "      <th># Records</th>\n",
       "      <th>Recall</th>\n",
       "      <th>F1-Score</th>\n",
       "      <th>Accuracy</th>\n",
       "      <th>Precision</th>\n",
       "      <th>ROC-AUC</th>\n",
       "    </tr>\n",
       "  </thead>\n",
       "  <tbody>\n",
       "    <tr>\n",
       "      <th>0</th>\n",
       "      <td>Random Forest with wt</td>\n",
       "      <td>Training</td>\n",
       "      <td>100475</td>\n",
       "      <td>99.998</td>\n",
       "      <td>99.998</td>\n",
       "      <td>99.998</td>\n",
       "      <td>99.998</td>\n",
       "      <td>99.998</td>\n",
       "    </tr>\n",
       "    <tr>\n",
       "      <th>1</th>\n",
       "      <td>Random Forest with wt</td>\n",
       "      <td>Test</td>\n",
       "      <td>50238</td>\n",
       "      <td>99.996</td>\n",
       "      <td>99.996</td>\n",
       "      <td>99.996</td>\n",
       "      <td>99.996</td>\n",
       "      <td>99.996</td>\n",
       "    </tr>\n",
       "  </tbody>\n",
       "</table>\n",
       "</div>"
      ],
      "text/plain": [
       "                   Model      Data  # Records  Recall  F1-Score  Accuracy  \\\n",
       "0  Random Forest with wt  Training     100475  99.998    99.998    99.998   \n",
       "1  Random Forest with wt      Test      50238  99.996    99.996    99.996   \n",
       "\n",
       "   Precision  ROC-AUC  \n",
       "0     99.998   99.998  \n",
       "1     99.996   99.996  "
      ]
     },
     "metadata": {},
     "output_type": "display_data"
    },
    {
     "name": "stdout",
     "output_type": "stream",
     "text": [
      "\n",
      "\n",
      "\n",
      "Total Training Failures : 2\n",
      "\n",
      "\n",
      "Total Testing Failures : 2\n",
      "\n",
      "Random 20 Failed Records From Training\n",
      "\n"
     ]
    },
    {
     "data": {
      "text/html": [
       "<div>\n",
       "<style scoped>\n",
       "    .dataframe tbody tr th:only-of-type {\n",
       "        vertical-align: middle;\n",
       "    }\n",
       "\n",
       "    .dataframe tbody tr th {\n",
       "        vertical-align: top;\n",
       "    }\n",
       "\n",
       "    .dataframe thead th {\n",
       "        text-align: right;\n",
       "    }\n",
       "</style>\n",
       "<table border=\"1\" class=\"dataframe\">\n",
       "  <thead>\n",
       "    <tr style=\"text-align: right;\">\n",
       "      <th></th>\n",
       "      <th>CollectionRatio</th>\n",
       "      <th>DebtBillingRatio</th>\n",
       "      <th>HasID</th>\n",
       "      <th>Value_Log</th>\n",
       "      <th>PropertySize_Log</th>\n",
       "      <th>BillingAmt_Log</th>\n",
       "      <th>AverageBillingAmt_Log</th>\n",
       "      <th>CollectedAmt_Log</th>\n",
       "      <th>AverageCollectedAmt_Log</th>\n",
       "      <th>DebtAmt_Log</th>\n",
       "      <th>WriteOffAmt_Log</th>\n",
       "      <th>TotalElectricityBill_Log</th>\n",
       "      <th>Category_Business</th>\n",
       "      <th>Category_Educational</th>\n",
       "      <th>Category_Environmental Management</th>\n",
       "      <th>Category_Government</th>\n",
       "      <th>Category_Industry</th>\n",
       "      <th>Category_Infrastructure</th>\n",
       "      <th>Category_Municipal</th>\n",
       "      <th>Category_Place of Worship</th>\n",
       "      <th>Category_Public Benefit</th>\n",
       "      <th>Category_Residential</th>\n",
       "      <th>Category_Unknown</th>\n",
       "      <th>Orig</th>\n",
       "      <th>Model</th>\n",
       "      <th>Model Name</th>\n",
       "    </tr>\n",
       "  </thead>\n",
       "  <tbody>\n",
       "    <tr>\n",
       "      <th>44982</th>\n",
       "      <td>1.0</td>\n",
       "      <td>0.0</td>\n",
       "      <td>1</td>\n",
       "      <td>9.955178</td>\n",
       "      <td>5.484797</td>\n",
       "      <td>2.564949</td>\n",
       "      <td>0.693147</td>\n",
       "      <td>2.564949</td>\n",
       "      <td>1.945910</td>\n",
       "      <td>0.0</td>\n",
       "      <td>0.0</td>\n",
       "      <td>0.0</td>\n",
       "      <td>0</td>\n",
       "      <td>0</td>\n",
       "      <td>0</td>\n",
       "      <td>0</td>\n",
       "      <td>0</td>\n",
       "      <td>0</td>\n",
       "      <td>0</td>\n",
       "      <td>0</td>\n",
       "      <td>0</td>\n",
       "      <td>1</td>\n",
       "      <td>0</td>\n",
       "      <td>0</td>\n",
       "      <td>1</td>\n",
       "      <td>Random Forest with wt</td>\n",
       "    </tr>\n",
       "    <tr>\n",
       "      <th>60630</th>\n",
       "      <td>1.0</td>\n",
       "      <td>0.0</td>\n",
       "      <td>0</td>\n",
       "      <td>10.596660</td>\n",
       "      <td>7.303170</td>\n",
       "      <td>5.278115</td>\n",
       "      <td>5.278115</td>\n",
       "      <td>5.278115</td>\n",
       "      <td>4.189655</td>\n",
       "      <td>0.0</td>\n",
       "      <td>0.0</td>\n",
       "      <td>0.0</td>\n",
       "      <td>0</td>\n",
       "      <td>0</td>\n",
       "      <td>0</td>\n",
       "      <td>0</td>\n",
       "      <td>0</td>\n",
       "      <td>0</td>\n",
       "      <td>0</td>\n",
       "      <td>0</td>\n",
       "      <td>0</td>\n",
       "      <td>1</td>\n",
       "      <td>0</td>\n",
       "      <td>1</td>\n",
       "      <td>0</td>\n",
       "      <td>Random Forest with wt</td>\n",
       "    </tr>\n",
       "  </tbody>\n",
       "</table>\n",
       "</div>"
      ],
      "text/plain": [
       "       CollectionRatio  DebtBillingRatio  HasID  Value_Log  PropertySize_Log  \\\n",
       "44982              1.0               0.0      1   9.955178          5.484797   \n",
       "60630              1.0               0.0      0  10.596660          7.303170   \n",
       "\n",
       "       BillingAmt_Log  AverageBillingAmt_Log  CollectedAmt_Log  \\\n",
       "44982        2.564949               0.693147          2.564949   \n",
       "60630        5.278115               5.278115          5.278115   \n",
       "\n",
       "       AverageCollectedAmt_Log  DebtAmt_Log  WriteOffAmt_Log  \\\n",
       "44982                 1.945910          0.0              0.0   \n",
       "60630                 4.189655          0.0              0.0   \n",
       "\n",
       "       TotalElectricityBill_Log  Category_Business  Category_Educational  \\\n",
       "44982                       0.0                  0                     0   \n",
       "60630                       0.0                  0                     0   \n",
       "\n",
       "       Category_Environmental Management  Category_Government  \\\n",
       "44982                                  0                    0   \n",
       "60630                                  0                    0   \n",
       "\n",
       "       Category_Industry  Category_Infrastructure  Category_Municipal  \\\n",
       "44982                  0                        0                   0   \n",
       "60630                  0                        0                   0   \n",
       "\n",
       "       Category_Place of Worship  Category_Public Benefit  \\\n",
       "44982                          0                        0   \n",
       "60630                          0                        0   \n",
       "\n",
       "       Category_Residential  Category_Unknown  Orig  Model  \\\n",
       "44982                     1                 0     0      1   \n",
       "60630                     1                 0     1      0   \n",
       "\n",
       "                  Model Name  \n",
       "44982  Random Forest with wt  \n",
       "60630  Random Forest with wt  "
      ]
     },
     "metadata": {},
     "output_type": "display_data"
    },
    {
     "name": "stdout",
     "output_type": "stream",
     "text": [
      "\n",
      "Random 10 Failed Records From Testing\n",
      "\n"
     ]
    },
    {
     "data": {
      "text/html": [
       "<div>\n",
       "<style scoped>\n",
       "    .dataframe tbody tr th:only-of-type {\n",
       "        vertical-align: middle;\n",
       "    }\n",
       "\n",
       "    .dataframe tbody tr th {\n",
       "        vertical-align: top;\n",
       "    }\n",
       "\n",
       "    .dataframe thead th {\n",
       "        text-align: right;\n",
       "    }\n",
       "</style>\n",
       "<table border=\"1\" class=\"dataframe\">\n",
       "  <thead>\n",
       "    <tr style=\"text-align: right;\">\n",
       "      <th></th>\n",
       "      <th>CollectionRatio</th>\n",
       "      <th>DebtBillingRatio</th>\n",
       "      <th>HasID</th>\n",
       "      <th>Value_Log</th>\n",
       "      <th>PropertySize_Log</th>\n",
       "      <th>BillingAmt_Log</th>\n",
       "      <th>AverageBillingAmt_Log</th>\n",
       "      <th>CollectedAmt_Log</th>\n",
       "      <th>AverageCollectedAmt_Log</th>\n",
       "      <th>DebtAmt_Log</th>\n",
       "      <th>WriteOffAmt_Log</th>\n",
       "      <th>TotalElectricityBill_Log</th>\n",
       "      <th>Category_Business</th>\n",
       "      <th>Category_Educational</th>\n",
       "      <th>Category_Environmental Management</th>\n",
       "      <th>Category_Government</th>\n",
       "      <th>Category_Industry</th>\n",
       "      <th>Category_Infrastructure</th>\n",
       "      <th>Category_Municipal</th>\n",
       "      <th>Category_Place of Worship</th>\n",
       "      <th>Category_Public Benefit</th>\n",
       "      <th>Category_Residential</th>\n",
       "      <th>Category_Unknown</th>\n",
       "      <th>Orig</th>\n",
       "      <th>Model</th>\n",
       "      <th>Model Name</th>\n",
       "    </tr>\n",
       "  </thead>\n",
       "  <tbody>\n",
       "    <tr>\n",
       "      <th>44982</th>\n",
       "      <td>1.0</td>\n",
       "      <td>0.0</td>\n",
       "      <td>1</td>\n",
       "      <td>9.955178</td>\n",
       "      <td>5.484797</td>\n",
       "      <td>2.564949</td>\n",
       "      <td>0.693147</td>\n",
       "      <td>2.564949</td>\n",
       "      <td>1.945910</td>\n",
       "      <td>0.0</td>\n",
       "      <td>0.0</td>\n",
       "      <td>0.0</td>\n",
       "      <td>0</td>\n",
       "      <td>0</td>\n",
       "      <td>0</td>\n",
       "      <td>0</td>\n",
       "      <td>0</td>\n",
       "      <td>0</td>\n",
       "      <td>0</td>\n",
       "      <td>0</td>\n",
       "      <td>0</td>\n",
       "      <td>1</td>\n",
       "      <td>0</td>\n",
       "      <td>0</td>\n",
       "      <td>1</td>\n",
       "      <td>Random Forest with wt</td>\n",
       "    </tr>\n",
       "    <tr>\n",
       "      <th>60630</th>\n",
       "      <td>1.0</td>\n",
       "      <td>0.0</td>\n",
       "      <td>0</td>\n",
       "      <td>10.596660</td>\n",
       "      <td>7.303170</td>\n",
       "      <td>5.278115</td>\n",
       "      <td>5.278115</td>\n",
       "      <td>5.278115</td>\n",
       "      <td>4.189655</td>\n",
       "      <td>0.0</td>\n",
       "      <td>0.0</td>\n",
       "      <td>0.0</td>\n",
       "      <td>0</td>\n",
       "      <td>0</td>\n",
       "      <td>0</td>\n",
       "      <td>0</td>\n",
       "      <td>0</td>\n",
       "      <td>0</td>\n",
       "      <td>0</td>\n",
       "      <td>0</td>\n",
       "      <td>0</td>\n",
       "      <td>1</td>\n",
       "      <td>0</td>\n",
       "      <td>1</td>\n",
       "      <td>0</td>\n",
       "      <td>Random Forest with wt</td>\n",
       "    </tr>\n",
       "  </tbody>\n",
       "</table>\n",
       "</div>"
      ],
      "text/plain": [
       "       CollectionRatio  DebtBillingRatio  HasID  Value_Log  PropertySize_Log  \\\n",
       "44982              1.0               0.0      1   9.955178          5.484797   \n",
       "60630              1.0               0.0      0  10.596660          7.303170   \n",
       "\n",
       "       BillingAmt_Log  AverageBillingAmt_Log  CollectedAmt_Log  \\\n",
       "44982        2.564949               0.693147          2.564949   \n",
       "60630        5.278115               5.278115          5.278115   \n",
       "\n",
       "       AverageCollectedAmt_Log  DebtAmt_Log  WriteOffAmt_Log  \\\n",
       "44982                 1.945910          0.0              0.0   \n",
       "60630                 4.189655          0.0              0.0   \n",
       "\n",
       "       TotalElectricityBill_Log  Category_Business  Category_Educational  \\\n",
       "44982                       0.0                  0                     0   \n",
       "60630                       0.0                  0                     0   \n",
       "\n",
       "       Category_Environmental Management  Category_Government  \\\n",
       "44982                                  0                    0   \n",
       "60630                                  0                    0   \n",
       "\n",
       "       Category_Industry  Category_Infrastructure  Category_Municipal  \\\n",
       "44982                  0                        0                   0   \n",
       "60630                  0                        0                   0   \n",
       "\n",
       "       Category_Place of Worship  Category_Public Benefit  \\\n",
       "44982                          0                        0   \n",
       "60630                          0                        0   \n",
       "\n",
       "       Category_Residential  Category_Unknown  Orig  Model  \\\n",
       "44982                     1                 0     0      1   \n",
       "60630                     1                 0     1      0   \n",
       "\n",
       "                  Model Name  \n",
       "44982  Random Forest with wt  \n",
       "60630  Random Forest with wt  "
      ]
     },
     "metadata": {},
     "output_type": "display_data"
    },
    {
     "name": "stdout",
     "output_type": "stream",
     "text": [
      "\n"
     ]
    },
    {
     "data": {
      "image/png": "[encoded data removed]",
      "text/plain": [
       "<Figure size 864x432 with 4 Axes>"
      ]
     },
     "metadata": {
      "needs_background": "light"
     },
     "output_type": "display_data"
    }
   ],
   "source": [
    "if BUILD_ALL==True or BUILD_RT==True:\n",
    "  rf_wt_recall = RandomForestClassifier(class_weight={0: 0.30, 1: 0.70}, random_state=1)\n",
    "  rf_wt_recall.fit(X, Y)\n",
    "  model_performance_classification(\"Random Forest with wt\", rf_wt_recall,True)"
   ]
  },
  {
   "cell_type": "code",
   "execution_count": null,
   "metadata": {
    "colab": {
     "base_uri": "https://localhost:8080/",
     "height": 1000
    },
    "id": "9rmeVA1FWFSR",
    "outputId": "d1696d37-dbf6-4278-eb56-ed8d485826f2"
   },
   "outputs": [
    {
     "name": "stdout",
     "output_type": "stream",
     "text": [
      "Model 'Tuned Random Forest' performance \n",
      "\n",
      "\n",
      "\n"
     ]
    },
    {
     "data": {
      "text/html": [
       "<div>\n",
       "<style scoped>\n",
       "    .dataframe tbody tr th:only-of-type {\n",
       "        vertical-align: middle;\n",
       "    }\n",
       "\n",
       "    .dataframe tbody tr th {\n",
       "        vertical-align: top;\n",
       "    }\n",
       "\n",
       "    .dataframe thead th {\n",
       "        text-align: right;\n",
       "    }\n",
       "</style>\n",
       "<table border=\"1\" class=\"dataframe\">\n",
       "  <thead>\n",
       "    <tr style=\"text-align: right;\">\n",
       "      <th></th>\n",
       "      <th>Model</th>\n",
       "      <th>Data</th>\n",
       "      <th># Records</th>\n",
       "      <th>Recall</th>\n",
       "      <th>F1-Score</th>\n",
       "      <th>Accuracy</th>\n",
       "      <th>Precision</th>\n",
       "      <th>ROC-AUC</th>\n",
       "    </tr>\n",
       "  </thead>\n",
       "  <tbody>\n",
       "    <tr>\n",
       "      <th>0</th>\n",
       "      <td>Tuned Random Forest</td>\n",
       "      <td>Training</td>\n",
       "      <td>100475</td>\n",
       "      <td>99.996</td>\n",
       "      <td>99.998</td>\n",
       "      <td>99.998</td>\n",
       "      <td>100.0</td>\n",
       "      <td>99.998</td>\n",
       "    </tr>\n",
       "    <tr>\n",
       "      <th>1</th>\n",
       "      <td>Tuned Random Forest</td>\n",
       "      <td>Test</td>\n",
       "      <td>50238</td>\n",
       "      <td>99.996</td>\n",
       "      <td>99.998</td>\n",
       "      <td>99.998</td>\n",
       "      <td>100.0</td>\n",
       "      <td>99.998</td>\n",
       "    </tr>\n",
       "  </tbody>\n",
       "</table>\n",
       "</div>"
      ],
      "text/plain": [
       "                 Model      Data  # Records  Recall  F1-Score  Accuracy  \\\n",
       "0  Tuned Random Forest  Training     100475  99.996    99.998    99.998   \n",
       "1  Tuned Random Forest      Test      50238  99.996    99.998    99.998   \n",
       "\n",
       "   Precision  ROC-AUC  \n",
       "0      100.0   99.998  \n",
       "1      100.0   99.998  "
      ]
     },
     "metadata": {},
     "output_type": "display_data"
    },
    {
     "name": "stdout",
     "output_type": "stream",
     "text": [
      "\n",
      "\n",
      "\n",
      "Total Training Failures : 2\n",
      "\n",
      "\n",
      "Total Testing Failures : 1\n",
      "\n",
      "Random 20 Failed Records From Training\n",
      "\n"
     ]
    },
    {
     "data": {
      "text/html": [
       "<div>\n",
       "<style scoped>\n",
       "    .dataframe tbody tr th:only-of-type {\n",
       "        vertical-align: middle;\n",
       "    }\n",
       "\n",
       "    .dataframe tbody tr th {\n",
       "        vertical-align: top;\n",
       "    }\n",
       "\n",
       "    .dataframe thead th {\n",
       "        text-align: right;\n",
       "    }\n",
       "</style>\n",
       "<table border=\"1\" class=\"dataframe\">\n",
       "  <thead>\n",
       "    <tr style=\"text-align: right;\">\n",
       "      <th></th>\n",
       "      <th>CollectionRatio</th>\n",
       "      <th>DebtBillingRatio</th>\n",
       "      <th>HasID</th>\n",
       "      <th>Value_Log</th>\n",
       "      <th>PropertySize_Log</th>\n",
       "      <th>BillingAmt_Log</th>\n",
       "      <th>AverageBillingAmt_Log</th>\n",
       "      <th>CollectedAmt_Log</th>\n",
       "      <th>AverageCollectedAmt_Log</th>\n",
       "      <th>DebtAmt_Log</th>\n",
       "      <th>WriteOffAmt_Log</th>\n",
       "      <th>TotalElectricityBill_Log</th>\n",
       "      <th>Category_Business</th>\n",
       "      <th>Category_Educational</th>\n",
       "      <th>Category_Environmental Management</th>\n",
       "      <th>Category_Government</th>\n",
       "      <th>Category_Industry</th>\n",
       "      <th>Category_Infrastructure</th>\n",
       "      <th>Category_Municipal</th>\n",
       "      <th>Category_Place of Worship</th>\n",
       "      <th>Category_Public Benefit</th>\n",
       "      <th>Category_Residential</th>\n",
       "      <th>Category_Unknown</th>\n",
       "      <th>Orig</th>\n",
       "      <th>Model</th>\n",
       "      <th>Model Name</th>\n",
       "    </tr>\n",
       "  </thead>\n",
       "  <tbody>\n",
       "    <tr>\n",
       "      <th>60630</th>\n",
       "      <td>1.0</td>\n",
       "      <td>0.0</td>\n",
       "      <td>0</td>\n",
       "      <td>10.596660</td>\n",
       "      <td>7.303170</td>\n",
       "      <td>5.278115</td>\n",
       "      <td>5.278115</td>\n",
       "      <td>5.278115</td>\n",
       "      <td>4.189655</td>\n",
       "      <td>0.0</td>\n",
       "      <td>0.0</td>\n",
       "      <td>0.0</td>\n",
       "      <td>0</td>\n",
       "      <td>0</td>\n",
       "      <td>0</td>\n",
       "      <td>0</td>\n",
       "      <td>0</td>\n",
       "      <td>0</td>\n",
       "      <td>0</td>\n",
       "      <td>0</td>\n",
       "      <td>0</td>\n",
       "      <td>1</td>\n",
       "      <td>0</td>\n",
       "      <td>1</td>\n",
       "      <td>0</td>\n",
       "      <td>Tuned Random Forest</td>\n",
       "    </tr>\n",
       "    <tr>\n",
       "      <th>82987</th>\n",
       "      <td>1.0</td>\n",
       "      <td>0.0</td>\n",
       "      <td>1</td>\n",
       "      <td>9.955178</td>\n",
       "      <td>5.484797</td>\n",
       "      <td>2.564949</td>\n",
       "      <td>0.693147</td>\n",
       "      <td>2.564949</td>\n",
       "      <td>1.945910</td>\n",
       "      <td>0.0</td>\n",
       "      <td>0.0</td>\n",
       "      <td>0.0</td>\n",
       "      <td>0</td>\n",
       "      <td>0</td>\n",
       "      <td>0</td>\n",
       "      <td>0</td>\n",
       "      <td>0</td>\n",
       "      <td>0</td>\n",
       "      <td>0</td>\n",
       "      <td>0</td>\n",
       "      <td>0</td>\n",
       "      <td>1</td>\n",
       "      <td>0</td>\n",
       "      <td>1</td>\n",
       "      <td>0</td>\n",
       "      <td>Tuned Random Forest</td>\n",
       "    </tr>\n",
       "  </tbody>\n",
       "</table>\n",
       "</div>"
      ],
      "text/plain": [
       "       CollectionRatio  DebtBillingRatio  HasID  Value_Log  PropertySize_Log  \\\n",
       "60630              1.0               0.0      0  10.596660          7.303170   \n",
       "82987              1.0               0.0      1   9.955178          5.484797   \n",
       "\n",
       "       BillingAmt_Log  AverageBillingAmt_Log  CollectedAmt_Log  \\\n",
       "60630        5.278115               5.278115          5.278115   \n",
       "82987        2.564949               0.693147          2.564949   \n",
       "\n",
       "       AverageCollectedAmt_Log  DebtAmt_Log  WriteOffAmt_Log  \\\n",
       "60630                 4.189655          0.0              0.0   \n",
       "82987                 1.945910          0.0              0.0   \n",
       "\n",
       "       TotalElectricityBill_Log  Category_Business  Category_Educational  \\\n",
       "60630                       0.0                  0                     0   \n",
       "82987                       0.0                  0                     0   \n",
       "\n",
       "       Category_Environmental Management  Category_Government  \\\n",
       "60630                                  0                    0   \n",
       "82987                                  0                    0   \n",
       "\n",
       "       Category_Industry  Category_Infrastructure  Category_Municipal  \\\n",
       "60630                  0                        0                   0   \n",
       "82987                  0                        0                   0   \n",
       "\n",
       "       Category_Place of Worship  Category_Public Benefit  \\\n",
       "60630                          0                        0   \n",
       "82987                          0                        0   \n",
       "\n",
       "       Category_Residential  Category_Unknown  Orig  Model  \\\n",
       "60630                     1                 0     1      0   \n",
       "82987                     1                 0     1      0   \n",
       "\n",
       "                Model Name  \n",
       "60630  Tuned Random Forest  \n",
       "82987  Tuned Random Forest  "
      ]
     },
     "metadata": {},
     "output_type": "display_data"
    },
    {
     "name": "stdout",
     "output_type": "stream",
     "text": [
      "\n",
      "Random 10 Failed Records From Testing\n",
      "\n"
     ]
    },
    {
     "data": {
      "text/html": [
       "<div>\n",
       "<style scoped>\n",
       "    .dataframe tbody tr th:only-of-type {\n",
       "        vertical-align: middle;\n",
       "    }\n",
       "\n",
       "    .dataframe tbody tr th {\n",
       "        vertical-align: top;\n",
       "    }\n",
       "\n",
       "    .dataframe thead th {\n",
       "        text-align: right;\n",
       "    }\n",
       "</style>\n",
       "<table border=\"1\" class=\"dataframe\">\n",
       "  <thead>\n",
       "    <tr style=\"text-align: right;\">\n",
       "      <th></th>\n",
       "      <th>CollectionRatio</th>\n",
       "      <th>DebtBillingRatio</th>\n",
       "      <th>HasID</th>\n",
       "      <th>Value_Log</th>\n",
       "      <th>PropertySize_Log</th>\n",
       "      <th>BillingAmt_Log</th>\n",
       "      <th>AverageBillingAmt_Log</th>\n",
       "      <th>CollectedAmt_Log</th>\n",
       "      <th>AverageCollectedAmt_Log</th>\n",
       "      <th>DebtAmt_Log</th>\n",
       "      <th>WriteOffAmt_Log</th>\n",
       "      <th>TotalElectricityBill_Log</th>\n",
       "      <th>Category_Business</th>\n",
       "      <th>Category_Educational</th>\n",
       "      <th>Category_Environmental Management</th>\n",
       "      <th>Category_Government</th>\n",
       "      <th>Category_Industry</th>\n",
       "      <th>Category_Infrastructure</th>\n",
       "      <th>Category_Municipal</th>\n",
       "      <th>Category_Place of Worship</th>\n",
       "      <th>Category_Public Benefit</th>\n",
       "      <th>Category_Residential</th>\n",
       "      <th>Category_Unknown</th>\n",
       "      <th>Orig</th>\n",
       "      <th>Model</th>\n",
       "      <th>Model Name</th>\n",
       "    </tr>\n",
       "  </thead>\n",
       "  <tbody>\n",
       "    <tr>\n",
       "      <th>60630</th>\n",
       "      <td>1.0</td>\n",
       "      <td>0.0</td>\n",
       "      <td>0</td>\n",
       "      <td>10.59666</td>\n",
       "      <td>7.30317</td>\n",
       "      <td>5.278115</td>\n",
       "      <td>5.278115</td>\n",
       "      <td>5.278115</td>\n",
       "      <td>4.189655</td>\n",
       "      <td>0.0</td>\n",
       "      <td>0.0</td>\n",
       "      <td>0.0</td>\n",
       "      <td>0</td>\n",
       "      <td>0</td>\n",
       "      <td>0</td>\n",
       "      <td>0</td>\n",
       "      <td>0</td>\n",
       "      <td>0</td>\n",
       "      <td>0</td>\n",
       "      <td>0</td>\n",
       "      <td>0</td>\n",
       "      <td>1</td>\n",
       "      <td>0</td>\n",
       "      <td>1</td>\n",
       "      <td>0</td>\n",
       "      <td>Tuned Random Forest</td>\n",
       "    </tr>\n",
       "  </tbody>\n",
       "</table>\n",
       "</div>"
      ],
      "text/plain": [
       "       CollectionRatio  DebtBillingRatio  HasID  Value_Log  PropertySize_Log  \\\n",
       "60630              1.0               0.0      0   10.59666           7.30317   \n",
       "\n",
       "       BillingAmt_Log  AverageBillingAmt_Log  CollectedAmt_Log  \\\n",
       "60630        5.278115               5.278115          5.278115   \n",
       "\n",
       "       AverageCollectedAmt_Log  DebtAmt_Log  WriteOffAmt_Log  \\\n",
       "60630                 4.189655          0.0              0.0   \n",
       "\n",
       "       TotalElectricityBill_Log  Category_Business  Category_Educational  \\\n",
       "60630                       0.0                  0                     0   \n",
       "\n",
       "       Category_Environmental Management  Category_Government  \\\n",
       "60630                                  0                    0   \n",
       "\n",
       "       Category_Industry  Category_Infrastructure  Category_Municipal  \\\n",
       "60630                  0                        0                   0   \n",
       "\n",
       "       Category_Place of Worship  Category_Public Benefit  \\\n",
       "60630                          0                        0   \n",
       "\n",
       "       Category_Residential  Category_Unknown  Orig  Model  \\\n",
       "60630                     1                 0     1      0   \n",
       "\n",
       "                Model Name  \n",
       "60630  Tuned Random Forest  "
      ]
     },
     "metadata": {},
     "output_type": "display_data"
    },
    {
     "name": "stdout",
     "output_type": "stream",
     "text": [
      "\n"
     ]
    },
    {
     "data": {
      "image/png": "[encoded data removed]",
      "text/plain": [
       "<Figure size 864x432 with 4 Axes>"
      ]
     },
     "metadata": {
      "needs_background": "light"
     },
     "output_type": "display_data"
    }
   ],
   "source": [
    "if BUILD_ALL==True or BUILD_RT==True:\n",
    "  # Choose the type of classifier. \n",
    "  rf_tuned = RandomForestClassifier(class_weight={0:0.50,1:0.50},random_state=1)\n",
    "\n",
    "  # Grid of parameters to choose from\n",
    "  parameters = {  \n",
    "          \"n_estimators\": [200]\n",
    "  }\n",
    "\n",
    "\n",
    "  # Type of scoring used to compare parameter combinations\n",
    "  scorer = metrics.make_scorer(metrics.accuracy_score)\n",
    "\n",
    "  # Run the grid search\n",
    "  grid_obj = GridSearchCV(rf_tuned, parameters, scoring=scorer,cv=5,n_jobs=-1)\n",
    "  grid_obj = grid_obj.fit(X, Y)\n",
    "\n",
    "  # Set the clf to the best combination of parameters\n",
    "  rf_estimator = grid_obj.best_estimator_\n",
    "\n",
    "  # Fit the best algorithm to the data. \n",
    "  rf_estimator.fit(X, Y)\n",
    "\n",
    "  model_performance_classification(\n",
    "    \"Tuned Random Forest\", rf_estimator, True\n",
    ")"
   ]
  },
  {
   "cell_type": "code",
   "execution_count": null,
   "metadata": {
    "colab": {
     "base_uri": "https://localhost:8080/",
     "height": 69
    },
    "id": "LIPUrZmAkTsX",
    "outputId": "10702b13-77bf-4c72-ff0b-72c9aea3a211"
   },
   "outputs": [
    {
     "data": {
      "application/vnd.google.colaboratory.intrinsic+json": {
       "type": "string"
      },
      "text/plain": [
       "'\\nif BUILD_ALL==True or BUILD_RT==True:\\n  # Choose the type of classifier. \\n  rf_tuned = RandomForestClassifier(class_weight={0:0.50,1:0.50},random_state=1)\\n\\n  # Grid of parameters to choose from\\n  parameters = {  \\n          \"n_estimators\": [200],\\n  }\\n\\n\\n  # Type of scoring used to compare parameter combinations\\n  scorer = metrics.make_scorer(metrics.precision_score)\\n\\n  # Run the grid search\\n  grid_obj = GridSearchCV(rf_tuned, parameters, scoring=scorer,cv=5,n_jobs=-1)\\n  grid_obj = grid_obj.fit(X, Y)\\n\\n  # Set the clf to the best combination of parameters\\n  rf_estimator2 = grid_obj.best_estimator_\\n\\n  # Fit the best algorithm to the data. \\n  rf_estimator2.fit(X, Y)\\n\\n  model_performance_classification(\\n    \"Tuned Random Forest\", rf_estimator2, True\\n)\\n  \\n  '"
      ]
     },
     "execution_count": 237,
     "metadata": {},
     "output_type": "execute_result"
    }
   ],
   "source": [
    "\"\"\"\n",
    "if BUILD_ALL==True or BUILD_RT==True:\n",
    "  # Choose the type of classifier. \n",
    "  rf_tuned = RandomForestClassifier(class_weight={0:0.50,1:0.50},random_state=1)\n",
    "\n",
    "  # Grid of parameters to choose from\n",
    "  parameters = {  \n",
    "          \"n_estimators\": [200],\n",
    "  }\n",
    "\n",
    "\n",
    "  # Type of scoring used to compare parameter combinations\n",
    "  scorer = metrics.make_scorer(metrics.precision_score)\n",
    "\n",
    "  # Run the grid search\n",
    "  grid_obj = GridSearchCV(rf_tuned, parameters, scoring=scorer,cv=5,n_jobs=-1)\n",
    "  grid_obj = grid_obj.fit(X, Y)\n",
    "\n",
    "  # Set the clf to the best combination of parameters\n",
    "  rf_estimator2 = grid_obj.best_estimator_\n",
    "\n",
    "  # Fit the best algorithm to the data. \n",
    "  rf_estimator2.fit(X, Y)\n",
    "\n",
    "  model_performance_classification(\n",
    "    \"Tuned Random Forest\", rf_estimator2, True\n",
    ")\n",
    "  \n",
    "  \"\"\""
   ]
  },
  {
   "cell_type": "code",
   "execution_count": null,
   "metadata": {
    "colab": {
     "base_uri": "https://localhost:8080/",
     "height": 69
    },
    "id": "VeIt_7VqkeG7",
    "outputId": "843d667a-2380-4cc9-da45-d459a4b5ae6c"
   },
   "outputs": [
    {
     "data": {
      "application/vnd.google.colaboratory.intrinsic+json": {
       "type": "string"
      },
      "text/plain": [
       "'\\nif BUILD_ALL==True or BUILD_RT==True:\\n  # Choose the type of classifier. \\n  rf_tuned = RandomForestClassifier(class_weight={0:0.50,1:0.50},random_state=1)\\n\\n  # Grid of parameters to choose from\\n  parameters = {  \\n          \"n_estimators\": [200],\\n  }\\n\\n\\n  # Type of scoring used to compare parameter combinations\\n  scorer = metrics.make_scorer(metrics.accuracy_score)\\n\\n  # Run the grid search\\n  grid_obj = GridSearchCV(rf_tuned, parameters, scoring=scorer,cv=5,n_jobs=-1)\\n  grid_obj = grid_obj.fit(X, Y)\\n\\n  # Set the clf to the best combination of parameters\\n  rf_estimator3 = grid_obj.best_estimator_\\n\\n  # Fit the best algorithm to the data. \\n  rf_estimator3.fit(X, Y)\\n\\n  model_performance_classification(\\n    \"Tuned Random Forest\", rf_estimator3, True\\n)\\n  \\n  '"
      ]
     },
     "execution_count": 238,
     "metadata": {},
     "output_type": "execute_result"
    }
   ],
   "source": [
    "\"\"\"\n",
    "if BUILD_ALL==True or BUILD_RT==True:\n",
    "  # Choose the type of classifier. \n",
    "  rf_tuned = RandomForestClassifier(class_weight={0:0.50,1:0.50},random_state=1)\n",
    "\n",
    "  # Grid of parameters to choose from\n",
    "  parameters = {  \n",
    "          \"n_estimators\": [200],\n",
    "  }\n",
    "\n",
    "\n",
    "  # Type of scoring used to compare parameter combinations\n",
    "  scorer = metrics.make_scorer(metrics.accuracy_score)\n",
    "\n",
    "  # Run the grid search\n",
    "  grid_obj = GridSearchCV(rf_tuned, parameters, scoring=scorer,cv=5,n_jobs=-1)\n",
    "  grid_obj = grid_obj.fit(X, Y)\n",
    "\n",
    "  # Set the clf to the best combination of parameters\n",
    "  rf_estimator3 = grid_obj.best_estimator_\n",
    "\n",
    "  # Fit the best algorithm to the data. \n",
    "  rf_estimator3.fit(X, Y)\n",
    "\n",
    "  model_performance_classification(\n",
    "    \"Tuned Random Forest\", rf_estimator3, True\n",
    ")\n",
    "  \n",
    "  \"\"\""
   ]
  },
  {
   "cell_type": "code",
   "execution_count": null,
   "metadata": {
    "colab": {
     "base_uri": "https://localhost:8080/",
     "height": 69
    },
    "id": "YrMmHG8rkoBQ",
    "outputId": "93468f28-8d05-4baa-8126-7dea2c4e191f"
   },
   "outputs": [
    {
     "data": {
      "application/vnd.google.colaboratory.intrinsic+json": {
       "type": "string"
      },
      "text/plain": [
       "'\\nif BUILD_ALL==True or BUILD_RT==True:\\n  # Choose the type of classifier. \\n  rf_tuned = RandomForestClassifier(random_state=1)\\n\\n  # Grid of parameters to choose from\\n  parameters = {  \\n          \"n_estimators\": [200],\\n  }\\n\\n\\n  # Type of scoring used to compare parameter combinations\\n  scorer = metrics.make_scorer(metrics.f1_score)\\n\\n  # Run the grid search\\n  grid_obj = GridSearchCV(rf_tuned, parameters, scoring=scorer,cv=5,n_jobs=-1)\\n  grid_obj = grid_obj.fit(X, Y)\\n\\n  # Set the clf to the best combination of parameters\\n  rf_estimator4 = grid_obj.best_estimator_\\n\\n  # Fit the best algorithm to the data. \\n  rf_estimator4.fit(X, Y)\\n\\n  model_performance_classification(\\n    \"Tuned Random Forest\", rf_estimator4, True\\n)\\n  '"
      ]
     },
     "execution_count": 239,
     "metadata": {},
     "output_type": "execute_result"
    }
   ],
   "source": [
    "\"\"\"\n",
    "if BUILD_ALL==True or BUILD_RT==True:\n",
    "  # Choose the type of classifier. \n",
    "  rf_tuned = RandomForestClassifier(random_state=1)\n",
    "\n",
    "  # Grid of parameters to choose from\n",
    "  parameters = {  \n",
    "          \"n_estimators\": [200],\n",
    "  }\n",
    "\n",
    "\n",
    "  # Type of scoring used to compare parameter combinations\n",
    "  scorer = metrics.make_scorer(metrics.f1_score)\n",
    "\n",
    "  # Run the grid search\n",
    "  grid_obj = GridSearchCV(rf_tuned, parameters, scoring=scorer,cv=5,n_jobs=-1)\n",
    "  grid_obj = grid_obj.fit(X, Y)\n",
    "\n",
    "  # Set the clf to the best combination of parameters\n",
    "  rf_estimator4 = grid_obj.best_estimator_\n",
    "\n",
    "  # Fit the best algorithm to the data. \n",
    "  rf_estimator4.fit(X, Y)\n",
    "\n",
    "  model_performance_classification(\n",
    "    \"Tuned Random Forest\", rf_estimator4, True\n",
    ")\n",
    "  \"\"\""
   ]
  },
  {
   "cell_type": "code",
   "execution_count": null,
   "metadata": {
    "id": "g2oplZMcppcR"
   },
   "outputs": [],
   "source": [
    "\n",
    "#plot_important_features(rf_estimator4)\n"
   ]
  },
  {
   "cell_type": "code",
   "execution_count": null,
   "metadata": {
    "colab": {
     "base_uri": "https://localhost:8080/",
     "height": 35
    },
    "id": "fPy1VLUQXZBJ",
    "outputId": "0b44232f-f7f7-4927-9d2e-bd671ecc4463"
   },
   "outputs": [
    {
     "data": {
      "application/vnd.google.colaboratory.intrinsic+json": {
       "type": "string"
      },
      "text/plain": [
       "'\\nif BUILD_ALL==True or BUILD_RT==True:\\n  rf_wt_recall2 = RandomForestClassifier(n_estimators=100, random_state=10)\\n  rf_wt_recall2.fit(X_train, y_train)\\n  model_performance_classification(\"Random Forest with wt\", rf_wt_recall2,True)\\n  '"
      ]
     },
     "execution_count": 241,
     "metadata": {},
     "output_type": "execute_result"
    }
   ],
   "source": [
    "\n",
    "\"\"\"\n",
    "if BUILD_ALL==True or BUILD_RT==True:\n",
    "  rf_wt_recall2 = RandomForestClassifier(n_estimators=100, random_state=10)\n",
    "  rf_wt_recall2.fit(X_train, y_train)\n",
    "  model_performance_classification(\"Random Forest with wt\", rf_wt_recall2,True)\n",
    "  \"\"\""
   ]
  },
  {
   "cell_type": "code",
   "execution_count": null,
   "metadata": {
    "id": "mge9YrMB8xH_"
   },
   "outputs": [],
   "source": [
    "#plot_important_features(rf_wt_recall)"
   ]
  },
  {
   "cell_type": "code",
   "execution_count": null,
   "metadata": {
    "colab": {
     "base_uri": "https://localhost:8080/",
     "height": 86
    },
    "id": "JAo_49msQqYF",
    "outputId": "93f47eca-58d7-4707-dbea-dbba28c0380f"
   },
   "outputs": [
    {
     "data": {
      "application/vnd.google.colaboratory.intrinsic+json": {
       "type": "string"
      },
      "text/plain": [
       "'\\nimport pandas as pd\\nimport numpy as np\\nfrom sklearn.model_selection import KFold, StratifiedKFold, cross_val_score\\nfrom sklearn import linear_model, tree, ensemble\\n\\nkf = StratifiedKFold(n_splits=10, shuffle=True, random_state=42)\\n\\ncnt = 1\\n# split()  method generate indices to split data into training and test set.\\nfor train_index, test_index in kf.split(X, Y):\\n    print(f\\'Fold:{cnt}, Train set: {len(train_index)}, Test set:{len(test_index)}\\')\\n    cnt+=1\\n\\nn_estimators = [5,10,15]\\n\\nfor val in n_estimators:\\n    rf_tuned = RandomForestClassifier(n_estimators= val, random_state=1)\\n    recallScore = cross_val_score(rf_tuned, X, Y, cv= kf, scoring=\"recall\")\\n    precisionScore = cross_val_score(rf_tuned, X, Y, cv= kf, scoring=\"precision\")\\n    accuracyScore = cross_val_score(rf_tuned, X, Y, cv= kf, scoring=\"accuracy\")\\n    f1_macroScore = cross_val_score(rf_tuned, X, Y, cv= kf, scoring=\"f1_macro\")\\n    print(f\\'Average score({val}): recallScore : {\"{:.5f}\".format(recallScore.mean())},precisionScore : {\"{:.5f}\".format(precisionScore.mean())},accuracyScore : {\"{:.5f}\".format(accuracyScore.mean())},f1_macroScore : {\"{:.5f}\".format(f1_macroScore.mean())}\\')\\n  '"
      ]
     },
     "execution_count": 243,
     "metadata": {},
     "output_type": "execute_result"
    }
   ],
   "source": [
    "\"\"\"\n",
    "if BUILD_ALL==True or BUILD_RT==True:\n",
    "  rf_wt_accuracy =  RandomForestClassifier(random_state=1, criterion='gini')\n",
    "  rf_wt_accuracy.fit(X_train, y_train)\n",
    "  model_performance_classification(\"Random Forest with wt\", rf_wt_accuracy)\n",
    "\"\"\"\n",
    "\"\"\"\n",
    "#Create a Gaussian Classifier\n",
    "rf_wt_accuracy=RandomForestClassifier(n_estimators=100)\n",
    "#Train the model using the training sets y_pred=clf.predict(X_test)\n",
    "rf_wt_accuracy.fit(X_train,y_train)\n",
    "\n",
    "#y_pred=clf.predict(X_test)\n",
    "model_performance_classification(\"Random Forest with wt\", rf_wt_accuracy,True)\n",
    "\"\"\"\n",
    "\"\"\"\n",
    "# Choose the type of classifier. \n",
    "rf_tuned = RandomForestClassifier(random_state=1)\n",
    "\n",
    "# Grid of parameters to choose from\n",
    "parameters = {  \n",
    "        \"max_features\": [0.7,0.9,'log2','auto'],\n",
    "        \"max_samples\": [0.7,0.9,None],\n",
    "        \"min_impurity_decrease\": [0.001, 0.01, 0.1]\n",
    "}\n",
    "\n",
    "\n",
    "# Type of scoring used to compare parameter combinations\n",
    "scorer = metrics.make_scorer(metrics.recall_score)\n",
    "\n",
    "# Run the grid search\n",
    "grid_obj = GridSearchCV(rf_tuned, parameters, scoring=scorer,cv=5,n_jobs=-1)\n",
    "grid_obj = grid_obj.fit(X_train, y_train)\n",
    "\n",
    "# Set the clf to the best combination of parameters\n",
    "rf_estimator = grid_obj.best_estimator_\n",
    "\n",
    "# Fit the best algorithm to the data. \n",
    "rf_estimator.fit(X_train, y_train)\n",
    "model_performance_classification(\n",
    "    \"Tuned Random Forest\", rf_estimator\n",
    ")\n",
    "\"\"\"\n",
    "\"\"\"\n",
    "import pandas as pd\n",
    "import numpy as np\n",
    "from sklearn.model_selection import KFold, StratifiedKFold, cross_val_score\n",
    "from sklearn import linear_model, tree, ensemble\n",
    "\n",
    "kf = StratifiedKFold(n_splits=10, shuffle=True, random_state=42)\n",
    "\n",
    "cnt = 1\n",
    "# split()  method generate indices to split data into training and test set.\n",
    "for train_index, test_index in kf.split(X, Y):\n",
    "    print(f'Fold:{cnt}, Train set: {len(train_index)}, Test set:{len(test_index)}')\n",
    "    cnt+=1\n",
    "\n",
    "n_estimators = [5,10,15]\n",
    "\n",
    "for val in n_estimators:\n",
    "    rf_tuned = RandomForestClassifier(n_estimators= val, random_state=1)\n",
    "    recallScore = cross_val_score(rf_tuned, X, Y, cv= kf, scoring=\"recall\")\n",
    "    precisionScore = cross_val_score(rf_tuned, X, Y, cv= kf, scoring=\"precision\")\n",
    "    accuracyScore = cross_val_score(rf_tuned, X, Y, cv= kf, scoring=\"accuracy\")\n",
    "    f1_macroScore = cross_val_score(rf_tuned, X, Y, cv= kf, scoring=\"f1_macro\")\n",
    "    print(f'Average score({val}): recallScore : {\"{:.5f}\".format(recallScore.mean())},precisionScore : {\"{:.5f}\".format(precisionScore.mean())},accuracyScore : {\"{:.5f}\".format(accuracyScore.mean())},f1_macroScore : {\"{:.5f}\".format(f1_macroScore.mean())}')\n",
    "  \"\"\" \n"
   ]
  },
  {
   "cell_type": "code",
   "execution_count": null,
   "metadata": {
    "id": "fDO0Zhs920v5"
   },
   "outputs": [],
   "source": [
    "#plot_important_features(rf_estimator)"
   ]
  },
  {
   "cell_type": "markdown",
   "metadata": {
    "id": "wjjXeGkbVn92"
   },
   "source": []
  },
  {
   "cell_type": "code",
   "execution_count": null,
   "metadata": {
    "colab": {
     "base_uri": "https://localhost:8080/",
     "height": 52
    },
    "id": "k4l8XeMOVodS",
    "outputId": "27d8f311-5854-468c-a737-99ba80211b69"
   },
   "outputs": [
    {
     "data": {
      "application/vnd.google.colaboratory.intrinsic+json": {
       "type": "string"
      },
      "text/plain": [
       "'\\nestimators = [(\\'Default DT\\',modelDM1),(\\'Default Random Forest - Rec\\',rf_wt_recall)]\\nfinal_estimator = rf_wt_recall1\\nstacking_classifier= StackingClassifier(estimators=estimators,final_estimator=final_estimator)\\nstacking_classifier.fit(X_train,y_train)  \\nmodel_performance_classification(\\n  \"Stacking Classifier\", stacking_classifier\\n )\\n'"
      ]
     },
     "execution_count": 245,
     "metadata": {},
     "output_type": "execute_result"
    }
   ],
   "source": [
    "  \"\"\"\n",
    "  estimators = [('Default DT',modelDM1),('Default Random Forest - Rec',rf_wt_recall)]\n",
    "  final_estimator = rf_wt_recall1\n",
    "  stacking_classifier= StackingClassifier(estimators=estimators,final_estimator=final_estimator)\n",
    "  stacking_classifier.fit(X_train,y_train)  \n",
    "  model_performance_classification(\n",
    "    \"Stacking Classifier\", stacking_classifier\n",
    "   )\n",
    "  \"\"\""
   ]
  },
  {
   "cell_type": "code",
   "execution_count": null,
   "metadata": {
    "colab": {
     "base_uri": "https://localhost:8080/",
     "height": 86
    },
    "id": "CIYsW6K0dolr",
    "outputId": "f4e9e3af-558b-4c70-c2a6-d60f1bb2e529"
   },
   "outputs": [
    {
     "data": {
      "application/vnd.google.colaboratory.intrinsic+json": {
       "type": "string"
      },
      "text/plain": [
       "'\\n# Choose the type of classifier.\\nrf_tuned = RandomForestClassifier(\\n    class_weight={0: 0.45, 1: 0.55}, random_state=1, oob_score=True, bootstrap=True\\n)\\n\\nparameters = {\\n    \"max_depth\": list(np.arange(5, 30, 5)) + [None],\\n    \"max_features\": [0.7, 0.9, \"sqrt\", \"log2\"],\\n    \"n_estimators\": np.arange(30, 110, 50),\\n    \"min_impurity_decrease\": [0.0001, 0.001, 0.01, 0.1],\\n    \"max_samples\": [0.7, 0.9, None],\\n}\\n\\n\\n# Type of scoring used to compare parameter combinations\\nscorer = metrics.make_scorer(metrics.recall_score)\\n\\n# Run the grid search\\ngrid_obj = GridSearchCV(rf_tuned, parameters, scoring=scorer, cv=5, n_jobs=-1)\\ngrid_obj = grid_obj.fit(X_train, y_train)\\n# Set the clf to the best combination of parameters\\nrf_tuned = grid_obj.best_estimator_\\n\\n# Fit the best algorithm to the data.\\nrf_tuned.fit(X_train, y_train)\\nmodel_performance_classification(\\n    \"Tuned Random Forest v2\", rf_tuned\\n)\\n'"
      ]
     },
     "execution_count": 246,
     "metadata": {},
     "output_type": "execute_result"
    }
   ],
   "source": [
    "\"\"\"\n",
    "# Choose the type of classifier.\n",
    "rf_tuned = RandomForestClassifier(\n",
    "    class_weight={0: 0.45, 1: 0.55}, random_state=1, oob_score=True, bootstrap=True\n",
    ")\n",
    "\n",
    "parameters = {\n",
    "    \"max_depth\": list(np.arange(5, 30, 5)) + [None],\n",
    "    \"max_features\": [0.7, 0.9, \"sqrt\", \"log2\"],\n",
    "    \"n_estimators\": np.arange(30, 110, 50),\n",
    "    \"min_impurity_decrease\": [0.0001, 0.001, 0.01, 0.1],\n",
    "    \"max_samples\": [0.7, 0.9, None],\n",
    "}\n",
    "\n",
    "\n",
    "# Type of scoring used to compare parameter combinations\n",
    "scorer = metrics.make_scorer(metrics.recall_score)\n",
    "\n",
    "# Run the grid search\n",
    "grid_obj = GridSearchCV(rf_tuned, parameters, scoring=scorer, cv=5, n_jobs=-1)\n",
    "grid_obj = grid_obj.fit(X_train, y_train)\n",
    "# Set the clf to the best combination of parameters\n",
    "rf_tuned = grid_obj.best_estimator_\n",
    "\n",
    "# Fit the best algorithm to the data.\n",
    "rf_tuned.fit(X_train, y_train)\n",
    "model_performance_classification(\n",
    "    \"Tuned Random Forest v2\", rf_tuned\n",
    ")\n",
    "\"\"\""
   ]
  },
  {
   "cell_type": "code",
   "execution_count": null,
   "metadata": {
    "colab": {
     "base_uri": "https://localhost:8080/",
     "height": 374
    },
    "id": "GfiMwisPti8d",
    "outputId": "8e0812d0-2c03-473a-e10e-e3c24ad6aa9e"
   },
   "outputs": [
    {
     "name": "stdout",
     "output_type": "stream",
     "text": [
      "generate output\n",
      "\n"
     ]
    },
    {
     "data": {
      "application/javascript": [
       "\n",
       "    async function download(id, filename, size) {\n",
       "      if (!google.colab.kernel.accessAllowed) {\n",
       "        return;\n",
       "      }\n",
       "      const div = document.createElement('div');\n",
       "      const label = document.createElement('label');\n",
       "      label.textContent = `Downloading \"${filename}\": `;\n",
       "      div.appendChild(label);\n",
       "      const progress = document.createElement('progress');\n",
       "      progress.max = size;\n",
       "      div.appendChild(progress);\n",
       "      document.body.appendChild(div);\n",
       "\n",
       "      const buffers = [];\n",
       "      let downloaded = 0;\n",
       "\n",
       "      const channel = await google.colab.kernel.comms.open(id);\n",
       "      // Send a message to notify the kernel that we're ready.\n",
       "      channel.send({})\n",
       "\n",
       "      for await (const message of channel.messages) {\n",
       "        // Send a message to notify the kernel that we're ready.\n",
       "        channel.send({})\n",
       "        if (message.buffers) {\n",
       "          for (const buffer of message.buffers) {\n",
       "            buffers.push(buffer);\n",
       "            downloaded += buffer.byteLength;\n",
       "            progress.value = downloaded;\n",
       "          }\n",
       "        }\n",
       "      }\n",
       "      const blob = new Blob(buffers, {type: 'application/binary'});\n",
       "      const a = document.createElement('a');\n",
       "      a.href = window.URL.createObjectURL(blob);\n",
       "      a.download = filename;\n",
       "      div.appendChild(a);\n",
       "      a.click();\n",
       "      div.remove();\n",
       "    }\n",
       "  "
      ],
      "text/plain": [
       "<IPython.core.display.Javascript object>"
      ]
     },
     "metadata": {},
     "output_type": "display_data"
    },
    {
     "data": {
      "application/javascript": [
       "download(\"download_7f4c1bc6-77a7-4d08-9834-e697fe61846e\", \"modelDM1.csv\", 1306239)"
      ],
      "text/plain": [
       "<IPython.core.display.Javascript object>"
      ]
     },
     "metadata": {},
     "output_type": "display_data"
    },
    {
     "name": "stdout",
     "output_type": "stream",
     "text": [
      "0    53.79333\n",
      "1    46.20667\n",
      "Name: Label, dtype: float64\n",
      "\n",
      "generate output\n",
      "\n"
     ]
    },
    {
     "data": {
      "application/javascript": [
       "\n",
       "    async function download(id, filename, size) {\n",
       "      if (!google.colab.kernel.accessAllowed) {\n",
       "        return;\n",
       "      }\n",
       "      const div = document.createElement('div');\n",
       "      const label = document.createElement('label');\n",
       "      label.textContent = `Downloading \"${filename}\": `;\n",
       "      div.appendChild(label);\n",
       "      const progress = document.createElement('progress');\n",
       "      progress.max = size;\n",
       "      div.appendChild(progress);\n",
       "      document.body.appendChild(div);\n",
       "\n",
       "      const buffers = [];\n",
       "      let downloaded = 0;\n",
       "\n",
       "      const channel = await google.colab.kernel.comms.open(id);\n",
       "      // Send a message to notify the kernel that we're ready.\n",
       "      channel.send({})\n",
       "\n",
       "      for await (const message of channel.messages) {\n",
       "        // Send a message to notify the kernel that we're ready.\n",
       "        channel.send({})\n",
       "        if (message.buffers) {\n",
       "          for (const buffer of message.buffers) {\n",
       "            buffers.push(buffer);\n",
       "            downloaded += buffer.byteLength;\n",
       "            progress.value = downloaded;\n",
       "          }\n",
       "        }\n",
       "      }\n",
       "      const blob = new Blob(buffers, {type: 'application/binary'});\n",
       "      const a = document.createElement('a');\n",
       "      a.href = window.URL.createObjectURL(blob);\n",
       "      a.download = filename;\n",
       "      div.appendChild(a);\n",
       "      a.click();\n",
       "      div.remove();\n",
       "    }\n",
       "  "
      ],
      "text/plain": [
       "<IPython.core.display.Javascript object>"
      ]
     },
     "metadata": {},
     "output_type": "display_data"
    },
    {
     "data": {
      "application/javascript": [
       "download(\"download_27378a94-05d0-4913-bc15-28402e257e0f\", \"rf_wt_recall.csv\", 1306239)"
      ],
      "text/plain": [
       "<IPython.core.display.Javascript object>"
      ]
     },
     "metadata": {},
     "output_type": "display_data"
    },
    {
     "name": "stdout",
     "output_type": "stream",
     "text": [
      "0    54.145642\n",
      "1    45.854358\n",
      "Name: Label, dtype: float64\n",
      "\n",
      "generate output\n",
      "\n"
     ]
    },
    {
     "data": {
      "application/javascript": [
       "\n",
       "    async function download(id, filename, size) {\n",
       "      if (!google.colab.kernel.accessAllowed) {\n",
       "        return;\n",
       "      }\n",
       "      const div = document.createElement('div');\n",
       "      const label = document.createElement('label');\n",
       "      label.textContent = `Downloading \"${filename}\": `;\n",
       "      div.appendChild(label);\n",
       "      const progress = document.createElement('progress');\n",
       "      progress.max = size;\n",
       "      div.appendChild(progress);\n",
       "      document.body.appendChild(div);\n",
       "\n",
       "      const buffers = [];\n",
       "      let downloaded = 0;\n",
       "\n",
       "      const channel = await google.colab.kernel.comms.open(id);\n",
       "      // Send a message to notify the kernel that we're ready.\n",
       "      channel.send({})\n",
       "\n",
       "      for await (const message of channel.messages) {\n",
       "        // Send a message to notify the kernel that we're ready.\n",
       "        channel.send({})\n",
       "        if (message.buffers) {\n",
       "          for (const buffer of message.buffers) {\n",
       "            buffers.push(buffer);\n",
       "            downloaded += buffer.byteLength;\n",
       "            progress.value = downloaded;\n",
       "          }\n",
       "        }\n",
       "      }\n",
       "      const blob = new Blob(buffers, {type: 'application/binary'});\n",
       "      const a = document.createElement('a');\n",
       "      a.href = window.URL.createObjectURL(blob);\n",
       "      a.download = filename;\n",
       "      div.appendChild(a);\n",
       "      a.click();\n",
       "      div.remove();\n",
       "    }\n",
       "  "
      ],
      "text/plain": [
       "<IPython.core.display.Javascript object>"
      ]
     },
     "metadata": {},
     "output_type": "display_data"
    },
    {
     "data": {
      "application/javascript": [
       "download(\"download_87c4d750-e182-4c5a-a18f-d1f2d2bcfdc2\", \"rf_estimator.csv\", 1306239)"
      ],
      "text/plain": [
       "<IPython.core.display.Javascript object>"
      ]
     },
     "metadata": {},
     "output_type": "display_data"
    },
    {
     "name": "stdout",
     "output_type": "stream",
     "text": [
      "0    54.145642\n",
      "1    45.854358\n",
      "Name: Label, dtype: float64\n",
      "\n"
     ]
    }
   ],
   "source": [
    "\"\"\"\n",
    "create_validation_output(modelDM1,'modelDM1.csv')\n",
    "create_validation_output(bagging_wt_recall,'bagging_wt_recall.csv')\n",
    "create_validation_output(bagging_wt_accuracy,'bagging_wt_accuracy.csv')\n",
    "create_validation_output(rf_wt_recall,'rf_wt_recall.csv')\n",
    "create_validation_output(rf_wt_accuracy,'rf_wt_accuracy.csv')\n",
    "\"\"\"\n",
    "#create_validation_output(rf_wt_accuracy,'rf_wt_accuracy.csv')\n",
    "\n",
    "create_validation_output(modelDM1,'modelDM1.csv')\n",
    "create_validation_output(rf_wt_recall,'rf_wt_recall.csv')\n",
    "create_validation_output(rf_estimator,'rf_estimator.csv')\n",
    "#create_validation_output(rf_estimator2,'rf_estimator2.csv')\n",
    "#create_validation_output(rf_estimator3,'rf_estimator3.csv')\n",
    "#create_validation_output(rf_estimator4,'rf_estimator4.csv')\n",
    "#create_validation_output(dtree_estimator,'dtree_estimator.csv')\n",
    "\n"
   ]
  },
  {
   "cell_type": "markdown",
   "metadata": {
    "id": "n8jF4EQxSQXN"
   },
   "source": [
    "# **Tuning Random Forest Classifier**"
   ]
  },
  {
   "cell_type": "code",
   "execution_count": null,
   "metadata": {
    "id": "ot1x_n8OR6Qe"
   },
   "outputs": [],
   "source": [
    "if BUILD_ALL==True or BUILD_TRTR==True:\n",
    "  # Choose the type of classifier. \n",
    "  rf_tuned = RandomForestClassifier(class_weight={0:0.50,1:0.50},random_state=1)\n",
    "\n",
    "  # Grid of parameters to choose from\n",
    "  parameters = {  \n",
    "          \"n_estimators\": [10],\n",
    "          \"min_samples_leaf\": np.arange(5, 100, 20),\n",
    "          \"max_features\": [0.7,0.9,'log2','auto'],\n",
    "          \"max_samples\": [0.7,0.9,None],\n",
    "          \"min_impurity_decrease\": [0.001, 0.01, 0.1]\n",
    "  }\n",
    "\n",
    "\n",
    "  # Type of scoring used to compare parameter combinations\n",
    "  scorer = metrics.make_scorer(metrics.recall_score)\n",
    "\n",
    "  # Run the grid search\n",
    "  grid_obj = GridSearchCV(rf_tuned, parameters, scoring=scorer,cv=5,n_jobs=-1)\n",
    "  grid_obj = grid_obj.fit(X_train, y_train)\n",
    "\n",
    "  # Set the clf to the best combination of parameters\n",
    "  rf_estimator = grid_obj.best_estimator_\n",
    "\n",
    "  # Fit the best algorithm to the data. \n",
    "  rf_estimator.fit(X_train, y_train)\n",
    "  model_performance_classification(\n",
    "    \"Tuned Random Forest\", rf_estimator\n",
    "  )"
   ]
  },
  {
   "cell_type": "code",
   "execution_count": null,
   "metadata": {
    "id": "ushiNWbAS6ho"
   },
   "outputs": [],
   "source": []
  },
  {
   "cell_type": "markdown",
   "metadata": {
    "id": "O7mDESjjUFO4"
   },
   "source": [
    "# Stacking All Models"
   ]
  },
  {
   "cell_type": "code",
   "execution_count": null,
   "metadata": {
    "id": "pCZNAWw0UKQw"
   },
   "outputs": [],
   "source": [
    "\n",
    "if BUILD_ALL==True or BUILD_STACK==True:\n",
    "  estimators = [('Default LR',lg1),('Default DT',modelDM1), ('Tuned DT - Recall',estimator_recall), ('Tuned DT - Accuracy',estimator_accuracy),('Default Random Forest - Acc',rf_wt_accuracy) ,('Default Random Forest - Rec',rf_wt_recall) ,('Bagging Acc',bagging_wt_accuracy),('Bagging Recall',bagging_wt_recall)]\n",
    "  final_estimator = rf_estimator\n",
    "  stacking_classifier= StackingClassifier(estimators=estimators,final_estimator=final_estimator)\n",
    "  stacking_classifier.fit(X_train,y_train)  \n",
    "  model_performance_classification(\n",
    "    \"Stacking Classifier\", stacking_classifier\n",
    "   )"
   ]
  },
  {
   "cell_type": "code",
   "execution_count": null,
   "metadata": {
    "id": "7VA5gMfdTCtX"
   },
   "outputs": [],
   "source": []
  },
  {
   "cell_type": "markdown",
   "metadata": {
    "id": "wsN8ezexUphA"
   },
   "source": [
    "# Download All Model Data"
   ]
  },
  {
   "cell_type": "code",
   "execution_count": null,
   "metadata": {
    "id": "UUb2gB5QUopR"
   },
   "outputs": [],
   "source": [
    "if DOWNLOAD==True:\n",
    "  create_validation_output(lg1,'lg1.csv')\n",
    "  create_validation_output(modelDM1,'modelDM1.csv')\n",
    "  create_validation_output(estimator_recall,'estimator_recall.csv')\n",
    "  create_validation_output(estimator_accuracy,'estimator_accuracy.csv')\n",
    "  create_validation_output(rf_wt_accuracy,'rf_wt_accuracy.csv')\n",
    "  create_validation_output(rf_wt_recall,'rf_wt_recall.csv')\n",
    "  create_validation_output(bagging_wt_accuracy,'bagging_wt_accuracy.csv')\n",
    "  create_validation_output(bagging_wt_recall,'bagging_wt_recall.csv')\n",
    "  create_validation_output(rf_estimator,'rf_estimator.csv')\n",
    "  create_validation_output(stacking_classifier,'stacking_classifier.csv')\n"
   ]
  },
  {
   "cell_type": "markdown",
   "metadata": {
    "id": "yy4wxSojW95l"
   },
   "source": [
    "# Data Failed in all Models \n",
    "\n"
   ]
  },
  {
   "cell_type": "code",
   "execution_count": null,
   "metadata": {
    "id": "0LesHwNQXIme"
   },
   "outputs": [],
   "source": [
    "#showDataFailedAllModels()"
   ]
  },
  {
   "cell_type": "code",
   "execution_count": null,
   "metadata": {
    "id": "kasIA-UYUBXd"
   },
   "outputs": [],
   "source": [
    "if BUILD_ALL==True or BUILD_STACK==True:\n",
    "  abc_tuned = AdaBoostClassifier(random_state=1)\n",
    "  # Grid of parameters to choose from\n",
    "  ## add from article\n",
    "  parameters = {\n",
    "      # Let's try different max_depth for base_estimator\n",
    "      \"base_estimator\": [\n",
    "          DecisionTreeClassifier(\n",
    "              max_depth=1, random_state=45,\n",
    "          ),\n",
    "          DecisionTreeClassifier(\n",
    "              max_depth=2, random_state=30,\n",
    "          ),\n",
    "      ],\n",
    "      \"n_estimators\": np.arange(10, 30, 10),\n",
    "      \"learning_rate\": np.arange(0.1, 1.1, 0.2),\n",
    "  }\n",
    "  acc_scorer = metrics.make_scorer(metrics.recall_score)\n",
    "  # Run the grid search\n",
    "  grid_obj = GridSearchCV(abc_tuned, parameters, scoring=acc_scorer, cv=5, n_jobs=-1)\n",
    "  grid_obj = grid_obj.fit(X_train, y_train)\n",
    "\n",
    "  # Set the clf to the best combination of parameters\n",
    "  abc_tuned = grid_obj.best_estimator_\n",
    "\n",
    "  # Fit the best algorithm to the data.\n",
    "  abc_tuned.fit(X_train, y_train)\n",
    "\n",
    "  model_performance_classification(\"Tuned AdaBoost\", abc_tuned)"
   ]
  },
  {
   "cell_type": "code",
   "execution_count": null,
   "metadata": {
    "id": "wf4DauCqU6Of"
   },
   "outputs": [],
   "source": [
    "#create_validation_output(abc_tuned,'abc_tuned.csv')"
   ]
  },
  {
   "cell_type": "code",
   "execution_count": null,
   "metadata": {
    "id": "PxtqIbO1XLpJ"
   },
   "outputs": [],
   "source": [
    "if BUILD_ALL==True or BUILD_STACK==True:\n",
    "  # Choose the type of classifier. \n",
    "  gbc_tuned = GradientBoostingClassifier(init=AdaBoostClassifier(random_state=1),random_state=1)\n",
    "\n",
    "  # Grid of parameters to choose from\n",
    "  parameters = {\n",
    "      \"n_estimators\": [10],\n",
    "      \"subsample\":[0.8,0.9,1],\n",
    "      \"max_features\":[0.7,0.8,0.9,1]\n",
    "  }\n",
    "\n",
    "  # Type of scoring used to compare parameter combinations\n",
    "  scorer = metrics.make_scorer(metrics.f1_score)\n",
    "\n",
    "  # Run the grid search\n",
    "  grid_obj = GridSearchCV(gbc_tuned, parameters, scoring=scorer,cv=5)\n",
    "  grid_obj = grid_obj.fit(X_train, y_train)\n",
    "\n",
    "  # Set the clf to the best combination of parameters\n",
    "  gbc_tuned = grid_obj.best_estimator_\n",
    "\n",
    "  # Fit the best algorithm to the data.\n",
    "  gbc_tuned.fit(X_train, y_train)\n",
    "  model_performance_classification(\"Tuned GradientBoostin\", gbc_tuned)"
   ]
  },
  {
   "cell_type": "code",
   "execution_count": null,
   "metadata": {
    "id": "3axsDW87Y5IX"
   },
   "outputs": [],
   "source": [
    "#create_validation_output(gbc_tuned,'gbc_tuned.csv')"
   ]
  },
  {
   "cell_type": "code",
   "execution_count": null,
   "metadata": {
    "id": "0PO7CNC-Y70J"
   },
   "outputs": [],
   "source": [
    "if BUILD_ALL==True or BUILD_STACK==True:\n",
    "  estimators = [('boosting abc',abc_tuned),('boosting gbc',gbc_tuned)]\n",
    "  final_estimator = stacking_classifier\n",
    "  stacking_classifier_boost= StackingClassifier(estimators=estimators,final_estimator=final_estimator)\n",
    "  stacking_classifier_boost.fit(X_train,y_train)  \n",
    "  model_performance_classification(\n",
    "    \"Stacking Classifier\", stacking_classifier_boost\n",
    "   )"
   ]
  },
  {
   "cell_type": "code",
   "execution_count": null,
   "metadata": {
    "id": "11AcGPkRZj64"
   },
   "outputs": [],
   "source": []
  }
 ],
 "metadata": {
  "colab": {
   "collapsed_sections": [],
   "machine_shape": "hm",
   "name": "Predicting_Bad_Debt_Societies_Multi_Model.ipynb",
   "provenance": []
  },
  "kernelspec": {
   "display_name": "Python 3",
   "language": "python",
   "name": "python3"
  },
  "language_info": {
   "codemirror_mode": {
    "name": "ipython",
    "version": 3
   },
   "file_extension": ".py",
   "mimetype": "text/x-python",
   "name": "python",
   "nbconvert_exporter": "python",
   "pygments_lexer": "ipython3",
   "version": "3.8.8"
  }
 },
 "nbformat": 4,
 "nbformat_minor": 1
}
