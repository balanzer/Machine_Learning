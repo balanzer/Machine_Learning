{
 "cells": [
  {
   "cell_type": "markdown",
   "metadata": {
    "id": "G-bTVN_ooCny"
   },
   "source": [
    "## Objective\n",
    "The objective is to build a classification model which can predict whether an account is becoming a Bad Debt. This prediction can help to forecast the number (and value) of accounts that are at risk of developing into a Bad Debt.\n",
    "\n",
    "\n",
    "### Evaluation Criteria: Mean Precision Score\n",
    "\n",
    "Mean of precision of all the classes = (P1+P2)/2  Here P1 is Precision of  Class 1 and P2 is Precision of Class2.\n",
    "\n",
    "\n",
    "## Data Input:\n",
    "\n",
    "There are two files:-\n",
    "* account_train.csv - for training the model\n",
    "* account_test.csv - for prediction and submission\n",
    "\n",
    "\n",
    "## Data Dictionary:\n",
    "\n",
    "* AccID: An unique id for the account\n",
    "* CategoryID: An unique id for the category of the society\n",
    "* Category: Category of society \n",
    "* Value: The market value of the particular property (account)\n",
    "* PropertySize: The size of the property in square meters\n",
    "* BillingAmt: The total amount payable by the resident to the society management\n",
    "* AverageBillingAmt: The average amount payable by the resident to the society management\n",
    "* CollectedAmt: The total amount collected from the resident \n",
    "* AverageCollectedAmt: The average amount collected from the resident \n",
    "* DebtAmt: The Total Debt that is at 90 days or more\n",
    "* WriteOffAmt: The Total amount of debt that has been written off\n",
    "* CollectionRatio: The ratio between the Total amount collected and Total Billing (ie. CollectedAmt/ BillingAmt)\n",
    "* DebtBillingRatio: The ratio between the Total Debt and Total Billing (ie. (Total Debt + Total Write Off)/Total Billing)\n",
    "* TotalElectricityBill: The total amount billed for electricity. This field was put in place because it is used as a means to recover debt - ie. If an amount is outstanding for any service the management has the right to cut a consumer's electricity connection.\n",
    "* HasID: The resident has an ID number. \n",
    "*  Label: 1 = Is considered to be a Bad Debt, 0 = Not considered to be a Bad Debt"
   ]
  },
  {
   "cell_type": "markdown",
   "metadata": {
    "id": "Jn0dbE3BoI9G"
   },
   "source": [
    "## Understand Given Data\n",
    "\n",
    "Read given data to data frame and understand data nature, given features, total records, given data has any missing values or duplicate data, outliers. \n",
    "\n",
    "Visualize data and and understand data range and outliers \n",
    "\n",
    "### Loading necessary libraries for EDA\n",
    "\n",
    "Load all standard python library packages.\n",
    "\n",
    "#### Data Manipulation\n",
    "* Numpy\n",
    "* Pandas\n",
    "\n",
    "#### Data Visualization\n",
    "* matplotlib.pyplot\n",
    "* seaborn"
   ]
  },
  {
   "cell_type": "code",
   "execution_count": 1,
   "metadata": {
    "id": "ik8PjubnoMVx"
   },
   "outputs": [],
   "source": [
    "# this will help in making the Python code more structured automatically\n",
    "# %load_ext nb_black\n",
    "\n",
    "import warnings\n",
    "\n",
    "warnings.filterwarnings(\"ignore\")\n",
    "\n",
    "# Libraries to help with reading and manipulating data\n",
    "\n",
    "import pandas as pd\n",
    "import numpy as np\n",
    "\n",
    "# Libraries to help with data visualization\n",
    "import matplotlib.pyplot as plt\n",
    "import seaborn as sns\n",
    "\n",
    "# Removes the limit for the number of displayed columns\n",
    "pd.set_option(\"display.max_columns\", None)\n",
    "# Sets the limit for the number of displayed rows\n",
    "pd.set_option(\"display.max_rows\", 200)\n"
   ]
  },
  {
   "cell_type": "code",
   "execution_count": 2,
   "metadata": {
    "colab": {
     "base_uri": "https://localhost:8080/",
     "height": 72,
     "resources": {
      "http://localhost:8080/nbextensions/google.colab/files.js": {
       "data": "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",
       "headers": [
        [
         "content-type",
         "application/javascript"
        ]
       ],
       "ok": true,
       "status": 200,
       "status_text": ""
      }
     }
    },
    "id": "c_LuDv5sobuC",
    "outputId": "8b554591-22df-4451-d8f2-a9d0494260c0"
   },
   "outputs": [
    {
     "data": {
      "text/plain": [
       "'\"\\nfrom google.colab import files\\nuploaded = files.upload()\\n\\n\\nimport io\\ndebt = pd.read_csv(io.BytesIO(uploaded[\\'account_train_(1).csv\\']))\\ndebt_test = pd.read_csv(io.BytesIO(uploaded[\\'account_test_(1).csv\\']))\\n'"
      ]
     },
     "execution_count": 2,
     "metadata": {},
     "output_type": "execute_result"
    }
   ],
   "source": [
    "#TRAIN_DATA_URL = \"https://raw.githubusercontent.com/GL-AIML-International/gl-pgp-aiml-ba-uta-intl-june21-balanzer/main/src/projects/Hackathons/account_train_(1).csv?token=AFY32NURJVAI4HT37LK32QLBOJWUO\"\n",
    "\n",
    "#TEST_DATA_URL = \"https://raw.githubusercontent.com/GL-AIML-International/gl-pgp-aiml-ba-uta-intl-june21-balanzer/main/src/projects/Hackathons/account_test_(1).csv?token=AFY32NS2VSEOV3ZM4ESFKWTBOJWV2\"\n",
    "# reading  data given from bank and load to data frame\n",
    "#debt = pd.read_csv(TRAIN_DATA_URL)\n",
    "#debt_test = pd.read_csv(TEST_DATA_URL)\n",
    "#debt = pd.read_csv(\"account_train_(1).csv\")\n",
    "\n",
    "debt_orig = pd.read_csv(\"account_train_(1).csv\")\n",
    "debt_test_orig = pd.read_csv(\"account_test_(1).csv\")\n",
    "\n",
    "\"\"\"\"\n",
    "from google.colab import files\n",
    "uploaded = files.upload()\n",
    "\n",
    "\n",
    "import io\n",
    "debt = pd.read_csv(io.BytesIO(uploaded['account_train_(1).csv']))\n",
    "debt_test = pd.read_csv(io.BytesIO(uploaded['account_test_(1).csv']))\n",
    "\"\"\"\n",
    "\n",
    "# copying orignal data so that when changing data we dont lose original\n",
    "#data = debt.sample(100).copy()\n",
    "#data_validation = debt_test.sample(100).copy()\n",
    "\n",
    "\n"
   ]
  },
  {
   "cell_type": "code",
   "execution_count": 3,
   "metadata": {
    "id": "ehUuqUi1kH--"
   },
   "outputs": [],
   "source": [
    "## data copy \n",
    "\n",
    "debt = debt_orig.head(100).copy()\n",
    "#debt_test = debt_test_orig.head(100).copy()\n",
    "debt_test = debt_orig.drop(\"Label\",axis=1).head(100).copy()\n",
    "\n",
    "\n",
    "# copying orignal data so that when changing data we dont lose original\n",
    "data = debt.sample(100).copy()\n",
    "data_validation = debt_test.sample(100).copy()"
   ]
  },
  {
   "cell_type": "code",
   "execution_count": 4,
   "metadata": {
    "colab": {
     "base_uri": "https://localhost:8080/"
    },
    "id": "PSlYKrLur6Mj",
    "outputId": "f129671c-6b6a-468c-bef9-c63f9cb7f620"
   },
   "outputs": [
    {
     "name": "stdout",
     "output_type": "stream",
     "text": [
      "data(train) shape after reading csv :  (100, 16)\n",
      "data_validation(test) shape after reading csv :  (100, 15)\n"
     ]
    }
   ],
   "source": [
    "print(f'data(train) shape after reading csv :  {data.shape}')\n",
    "print(f'data_validation(test) shape after reading csv :  {data_validation.shape}')"
   ]
  },
  {
   "cell_type": "code",
   "execution_count": 5,
   "metadata": {
    "colab": {
     "base_uri": "https://localhost:8080/",
     "height": 479
    },
    "id": "FwAekqL3on6G",
    "outputId": "166424f0-7a50-43a2-93e5-5ff73c63d1d8"
   },
   "outputs": [
    {
     "data": {
      "text/html": [
       "<div>\n",
       "<style scoped>\n",
       "    .dataframe tbody tr th:only-of-type {\n",
       "        vertical-align: middle;\n",
       "    }\n",
       "\n",
       "    .dataframe tbody tr th {\n",
       "        vertical-align: top;\n",
       "    }\n",
       "\n",
       "    .dataframe thead th {\n",
       "        text-align: right;\n",
       "    }\n",
       "</style>\n",
       "<table border=\"1\" class=\"dataframe\">\n",
       "  <thead>\n",
       "    <tr style=\"text-align: right;\">\n",
       "      <th></th>\n",
       "      <th>AccID</th>\n",
       "      <th>CategoryID</th>\n",
       "      <th>Category</th>\n",
       "      <th>Value</th>\n",
       "      <th>PropertySize</th>\n",
       "      <th>BillingAmt</th>\n",
       "      <th>AverageBillingAmt</th>\n",
       "      <th>CollectedAmt</th>\n",
       "      <th>AverageCollectedAmt</th>\n",
       "      <th>DebtAmt</th>\n",
       "      <th>WriteOffAmt</th>\n",
       "      <th>CollectionRatio</th>\n",
       "      <th>DebtBillingRatio</th>\n",
       "      <th>TotalElectricityBill</th>\n",
       "      <th>HasID</th>\n",
       "      <th>Label</th>\n",
       "    </tr>\n",
       "  </thead>\n",
       "  <tbody>\n",
       "    <tr>\n",
       "      <th>87</th>\n",
       "      <td>6d7359c8-f43b-4149-9087-730e53b2bd1d</td>\n",
       "      <td>6</td>\n",
       "      <td>Government</td>\n",
       "      <td>280000</td>\n",
       "      <td>1165</td>\n",
       "      <td>0</td>\n",
       "      <td>0</td>\n",
       "      <td>0</td>\n",
       "      <td>0</td>\n",
       "      <td>0</td>\n",
       "      <td>0</td>\n",
       "      <td>0.00</td>\n",
       "      <td>0.00</td>\n",
       "      <td>0</td>\n",
       "      <td>0</td>\n",
       "      <td>0</td>\n",
       "    </tr>\n",
       "    <tr>\n",
       "      <th>43</th>\n",
       "      <td>c6dfe03c-4a2f-4d9d-a8c9-37512f0b1310</td>\n",
       "      <td>1</td>\n",
       "      <td>Residential</td>\n",
       "      <td>910000</td>\n",
       "      <td>706</td>\n",
       "      <td>3093</td>\n",
       "      <td>258</td>\n",
       "      <td>1300</td>\n",
       "      <td>163</td>\n",
       "      <td>0</td>\n",
       "      <td>0</td>\n",
       "      <td>0.42</td>\n",
       "      <td>0.00</td>\n",
       "      <td>1866</td>\n",
       "      <td>1</td>\n",
       "      <td>0</td>\n",
       "    </tr>\n",
       "    <tr>\n",
       "      <th>0</th>\n",
       "      <td>c8f5a7fa-4b2b-470f-8ad5-1c367a3c934a</td>\n",
       "      <td>1</td>\n",
       "      <td>Residential</td>\n",
       "      <td>2674700</td>\n",
       "      <td>585</td>\n",
       "      <td>43717</td>\n",
       "      <td>729</td>\n",
       "      <td>43416</td>\n",
       "      <td>4342</td>\n",
       "      <td>0</td>\n",
       "      <td>0</td>\n",
       "      <td>0.99</td>\n",
       "      <td>0.00</td>\n",
       "      <td>0</td>\n",
       "      <td>0</td>\n",
       "      <td>0</td>\n",
       "    </tr>\n",
       "    <tr>\n",
       "      <th>42</th>\n",
       "      <td>e6582308-8889-4cfe-8989-026b198211f2</td>\n",
       "      <td>1</td>\n",
       "      <td>Residential</td>\n",
       "      <td>17880</td>\n",
       "      <td>0</td>\n",
       "      <td>5503</td>\n",
       "      <td>115</td>\n",
       "      <td>0</td>\n",
       "      <td>0</td>\n",
       "      <td>20643</td>\n",
       "      <td>0</td>\n",
       "      <td>0.00</td>\n",
       "      <td>3.75</td>\n",
       "      <td>703</td>\n",
       "      <td>1</td>\n",
       "      <td>1</td>\n",
       "    </tr>\n",
       "    <tr>\n",
       "      <th>95</th>\n",
       "      <td>1a7d99d9-f7b8-4c6a-955c-5c3dcfb420d9</td>\n",
       "      <td>11</td>\n",
       "      <td>Unknown</td>\n",
       "      <td>0</td>\n",
       "      <td>0</td>\n",
       "      <td>35</td>\n",
       "      <td>3</td>\n",
       "      <td>0</td>\n",
       "      <td>0</td>\n",
       "      <td>2341</td>\n",
       "      <td>0</td>\n",
       "      <td>0.00</td>\n",
       "      <td>67.02</td>\n",
       "      <td>0</td>\n",
       "      <td>0</td>\n",
       "      <td>1</td>\n",
       "    </tr>\n",
       "  </tbody>\n",
       "</table>\n",
       "</div>"
      ],
      "text/plain": [
       "                                   AccID  CategoryID     Category    Value  \\\n",
       "87  6d7359c8-f43b-4149-9087-730e53b2bd1d           6   Government   280000   \n",
       "43  c6dfe03c-4a2f-4d9d-a8c9-37512f0b1310           1  Residential   910000   \n",
       "0   c8f5a7fa-4b2b-470f-8ad5-1c367a3c934a           1  Residential  2674700   \n",
       "42  e6582308-8889-4cfe-8989-026b198211f2           1  Residential    17880   \n",
       "95  1a7d99d9-f7b8-4c6a-955c-5c3dcfb420d9          11      Unknown        0   \n",
       "\n",
       "    PropertySize  BillingAmt  AverageBillingAmt  CollectedAmt  \\\n",
       "87          1165           0                  0             0   \n",
       "43           706        3093                258          1300   \n",
       "0            585       43717                729         43416   \n",
       "42             0        5503                115             0   \n",
       "95             0          35                  3             0   \n",
       "\n",
       "    AverageCollectedAmt  DebtAmt  WriteOffAmt  CollectionRatio  \\\n",
       "87                    0        0            0             0.00   \n",
       "43                  163        0            0             0.42   \n",
       "0                  4342        0            0             0.99   \n",
       "42                    0    20643            0             0.00   \n",
       "95                    0     2341            0             0.00   \n",
       "\n",
       "    DebtBillingRatio  TotalElectricityBill  HasID  Label  \n",
       "87              0.00                     0      0      0  \n",
       "43              0.00                  1866      1      0  \n",
       "0               0.00                     0      0      0  \n",
       "42              3.75                   703      1      1  \n",
       "95             67.02                     0      0      1  "
      ]
     },
     "execution_count": 5,
     "metadata": {},
     "output_type": "execute_result"
    }
   ],
   "source": [
    "data.head(5)"
   ]
  },
  {
   "cell_type": "code",
   "execution_count": 6,
   "metadata": {
    "colab": {
     "base_uri": "https://localhost:8080/",
     "height": 479
    },
    "id": "a3prxmxHooeL",
    "outputId": "64da36db-3cb4-4cee-a52d-854956e61779"
   },
   "outputs": [
    {
     "data": {
      "text/html": [
       "<div>\n",
       "<style scoped>\n",
       "    .dataframe tbody tr th:only-of-type {\n",
       "        vertical-align: middle;\n",
       "    }\n",
       "\n",
       "    .dataframe tbody tr th {\n",
       "        vertical-align: top;\n",
       "    }\n",
       "\n",
       "    .dataframe thead th {\n",
       "        text-align: right;\n",
       "    }\n",
       "</style>\n",
       "<table border=\"1\" class=\"dataframe\">\n",
       "  <thead>\n",
       "    <tr style=\"text-align: right;\">\n",
       "      <th></th>\n",
       "      <th>AccID</th>\n",
       "      <th>CategoryID</th>\n",
       "      <th>Category</th>\n",
       "      <th>Value</th>\n",
       "      <th>PropertySize</th>\n",
       "      <th>BillingAmt</th>\n",
       "      <th>AverageBillingAmt</th>\n",
       "      <th>CollectedAmt</th>\n",
       "      <th>AverageCollectedAmt</th>\n",
       "      <th>DebtAmt</th>\n",
       "      <th>WriteOffAmt</th>\n",
       "      <th>CollectionRatio</th>\n",
       "      <th>DebtBillingRatio</th>\n",
       "      <th>TotalElectricityBill</th>\n",
       "      <th>HasID</th>\n",
       "    </tr>\n",
       "  </thead>\n",
       "  <tbody>\n",
       "    <tr>\n",
       "      <th>27</th>\n",
       "      <td>c9f657bb-7e54-4ea8-863a-0bddb0ca8ca1</td>\n",
       "      <td>1</td>\n",
       "      <td>Residential</td>\n",
       "      <td>1295000</td>\n",
       "      <td>1123</td>\n",
       "      <td>26528</td>\n",
       "      <td>246</td>\n",
       "      <td>28600</td>\n",
       "      <td>3178</td>\n",
       "      <td>7149</td>\n",
       "      <td>0</td>\n",
       "      <td>1.08</td>\n",
       "      <td>0.27</td>\n",
       "      <td>11151</td>\n",
       "      <td>1</td>\n",
       "    </tr>\n",
       "    <tr>\n",
       "      <th>14</th>\n",
       "      <td>a1a81ae2-902e-4474-b136-31b79b5438de</td>\n",
       "      <td>1</td>\n",
       "      <td>Residential</td>\n",
       "      <td>35000</td>\n",
       "      <td>300</td>\n",
       "      <td>3641</td>\n",
       "      <td>98</td>\n",
       "      <td>0</td>\n",
       "      <td>0</td>\n",
       "      <td>19080</td>\n",
       "      <td>0</td>\n",
       "      <td>0.00</td>\n",
       "      <td>5.24</td>\n",
       "      <td>0</td>\n",
       "      <td>1</td>\n",
       "    </tr>\n",
       "    <tr>\n",
       "      <th>36</th>\n",
       "      <td>8b866cac-39ad-4369-b27b-628394842bc7</td>\n",
       "      <td>11</td>\n",
       "      <td>Unknown</td>\n",
       "      <td>0</td>\n",
       "      <td>0</td>\n",
       "      <td>-4311</td>\n",
       "      <td>-1437</td>\n",
       "      <td>0</td>\n",
       "      <td>0</td>\n",
       "      <td>4311</td>\n",
       "      <td>0</td>\n",
       "      <td>0.00</td>\n",
       "      <td>-1.00</td>\n",
       "      <td>0</td>\n",
       "      <td>1</td>\n",
       "    </tr>\n",
       "    <tr>\n",
       "      <th>6</th>\n",
       "      <td>5b47579d-a965-415b-8eac-1565dd327839</td>\n",
       "      <td>2</td>\n",
       "      <td>Business</td>\n",
       "      <td>50000</td>\n",
       "      <td>1915</td>\n",
       "      <td>953</td>\n",
       "      <td>73</td>\n",
       "      <td>953</td>\n",
       "      <td>191</td>\n",
       "      <td>0</td>\n",
       "      <td>0</td>\n",
       "      <td>1.00</td>\n",
       "      <td>0.00</td>\n",
       "      <td>0</td>\n",
       "      <td>0</td>\n",
       "    </tr>\n",
       "    <tr>\n",
       "      <th>53</th>\n",
       "      <td>202cb612-360d-408f-9dc2-6d1d16c414a3</td>\n",
       "      <td>1</td>\n",
       "      <td>Residential</td>\n",
       "      <td>160000</td>\n",
       "      <td>563</td>\n",
       "      <td>8309</td>\n",
       "      <td>170</td>\n",
       "      <td>8732</td>\n",
       "      <td>1746</td>\n",
       "      <td>54</td>\n",
       "      <td>0</td>\n",
       "      <td>1.05</td>\n",
       "      <td>0.01</td>\n",
       "      <td>3132</td>\n",
       "      <td>1</td>\n",
       "    </tr>\n",
       "  </tbody>\n",
       "</table>\n",
       "</div>"
      ],
      "text/plain": [
       "                                   AccID  CategoryID     Category    Value  \\\n",
       "27  c9f657bb-7e54-4ea8-863a-0bddb0ca8ca1           1  Residential  1295000   \n",
       "14  a1a81ae2-902e-4474-b136-31b79b5438de           1  Residential    35000   \n",
       "36  8b866cac-39ad-4369-b27b-628394842bc7          11      Unknown        0   \n",
       "6   5b47579d-a965-415b-8eac-1565dd327839           2     Business    50000   \n",
       "53  202cb612-360d-408f-9dc2-6d1d16c414a3           1  Residential   160000   \n",
       "\n",
       "    PropertySize  BillingAmt  AverageBillingAmt  CollectedAmt  \\\n",
       "27          1123       26528                246         28600   \n",
       "14           300        3641                 98             0   \n",
       "36             0       -4311              -1437             0   \n",
       "6           1915         953                 73           953   \n",
       "53           563        8309                170          8732   \n",
       "\n",
       "    AverageCollectedAmt  DebtAmt  WriteOffAmt  CollectionRatio  \\\n",
       "27                 3178     7149            0             1.08   \n",
       "14                    0    19080            0             0.00   \n",
       "36                    0     4311            0             0.00   \n",
       "6                   191        0            0             1.00   \n",
       "53                 1746       54            0             1.05   \n",
       "\n",
       "    DebtBillingRatio  TotalElectricityBill  HasID  \n",
       "27              0.27                 11151      1  \n",
       "14              5.24                     0      1  \n",
       "36             -1.00                     0      1  \n",
       "6               0.00                     0      0  \n",
       "53              0.01                  3132      1  "
      ]
     },
     "execution_count": 6,
     "metadata": {},
     "output_type": "execute_result"
    }
   ],
   "source": [
    "data_validation.tail(5)"
   ]
  },
  {
   "cell_type": "code",
   "execution_count": 7,
   "metadata": {
    "colab": {
     "base_uri": "https://localhost:8080/"
    },
    "id": "XXbJgdWSovVS",
    "outputId": "e5390c4d-701a-43e5-cd2c-ca809a0c1095"
   },
   "outputs": [
    {
     "data": {
      "text/plain": [
       "(100, 16)"
      ]
     },
     "execution_count": 7,
     "metadata": {},
     "output_type": "execute_result"
    }
   ],
   "source": [
    "data.shape"
   ]
  },
  {
   "cell_type": "code",
   "execution_count": 8,
   "metadata": {
    "colab": {
     "base_uri": "https://localhost:8080/"
    },
    "id": "xWzFH3st2Fu3",
    "outputId": "8d997f4a-b051-49a0-d74b-3c6f37523b73"
   },
   "outputs": [
    {
     "data": {
      "text/plain": [
       "(100, 15)"
      ]
     },
     "execution_count": 8,
     "metadata": {},
     "output_type": "execute_result"
    }
   ],
   "source": [
    "data_validation.shape"
   ]
  },
  {
   "cell_type": "code",
   "execution_count": null,
   "metadata": {
    "colab": {
     "base_uri": "https://localhost:8080/",
     "height": 52
    },
    "id": "9h969ebNKoWz",
    "outputId": "3e6249e1-2e4e-4acd-9a69-ab2f9469ab53"
   },
   "outputs": [],
   "source": []
  },
  {
   "cell_type": "code",
   "execution_count": 9,
   "metadata": {
    "colab": {
     "base_uri": "https://localhost:8080/"
    },
    "id": "1MsWBVseoyx3",
    "outputId": "21aaf054-e759-44a5-806b-25226c24b691"
   },
   "outputs": [
    {
     "name": "stdout",
     "output_type": "stream",
     "text": [
      "<class 'pandas.core.frame.DataFrame'>\n",
      "Int64Index: 100 entries, 87 to 86\n",
      "Data columns (total 16 columns):\n",
      " #   Column                Non-Null Count  Dtype  \n",
      "---  ------                --------------  -----  \n",
      " 0   AccID                 100 non-null    object \n",
      " 1   CategoryID            100 non-null    int64  \n",
      " 2   Category              100 non-null    object \n",
      " 3   Value                 100 non-null    int64  \n",
      " 4   PropertySize          100 non-null    int64  \n",
      " 5   BillingAmt            100 non-null    int64  \n",
      " 6   AverageBillingAmt     100 non-null    int64  \n",
      " 7   CollectedAmt          100 non-null    int64  \n",
      " 8   AverageCollectedAmt   100 non-null    int64  \n",
      " 9   DebtAmt               100 non-null    int64  \n",
      " 10  WriteOffAmt           100 non-null    int64  \n",
      " 11  CollectionRatio       100 non-null    float64\n",
      " 12  DebtBillingRatio      100 non-null    float64\n",
      " 13  TotalElectricityBill  100 non-null    int64  \n",
      " 14  HasID                 100 non-null    int64  \n",
      " 15  Label                 100 non-null    int64  \n",
      "dtypes: float64(2), int64(12), object(2)\n",
      "memory usage: 13.3+ KB\n"
     ]
    }
   ],
   "source": [
    "data.info()"
   ]
  },
  {
   "cell_type": "code",
   "execution_count": 10,
   "metadata": {
    "colab": {
     "base_uri": "https://localhost:8080/"
    },
    "id": "PtJPgDJw2KhW",
    "outputId": "ce50af82-7e2b-43ce-b5d4-5ac744145f4a"
   },
   "outputs": [
    {
     "name": "stdout",
     "output_type": "stream",
     "text": [
      "<class 'pandas.core.frame.DataFrame'>\n",
      "Int64Index: 100 entries, 85 to 53\n",
      "Data columns (total 15 columns):\n",
      " #   Column                Non-Null Count  Dtype  \n",
      "---  ------                --------------  -----  \n",
      " 0   AccID                 100 non-null    object \n",
      " 1   CategoryID            100 non-null    int64  \n",
      " 2   Category              100 non-null    object \n",
      " 3   Value                 100 non-null    int64  \n",
      " 4   PropertySize          100 non-null    int64  \n",
      " 5   BillingAmt            100 non-null    int64  \n",
      " 6   AverageBillingAmt     100 non-null    int64  \n",
      " 7   CollectedAmt          100 non-null    int64  \n",
      " 8   AverageCollectedAmt   100 non-null    int64  \n",
      " 9   DebtAmt               100 non-null    int64  \n",
      " 10  WriteOffAmt           100 non-null    int64  \n",
      " 11  CollectionRatio       100 non-null    float64\n",
      " 12  DebtBillingRatio      100 non-null    float64\n",
      " 13  TotalElectricityBill  100 non-null    int64  \n",
      " 14  HasID                 100 non-null    int64  \n",
      "dtypes: float64(2), int64(11), object(2)\n",
      "memory usage: 12.5+ KB\n"
     ]
    }
   ],
   "source": [
    "data_validation.info()"
   ]
  },
  {
   "cell_type": "code",
   "execution_count": 11,
   "metadata": {
    "colab": {
     "base_uri": "https://localhost:8080/",
     "height": 483
    },
    "id": "4yVgRvUlo0UT",
    "outputId": "c9022159-f4bc-4a9e-b321-17321a119e5e"
   },
   "outputs": [
    {
     "data": {
      "text/html": [
       "<div>\n",
       "<style scoped>\n",
       "    .dataframe tbody tr th:only-of-type {\n",
       "        vertical-align: middle;\n",
       "    }\n",
       "\n",
       "    .dataframe tbody tr th {\n",
       "        vertical-align: top;\n",
       "    }\n",
       "\n",
       "    .dataframe thead th {\n",
       "        text-align: right;\n",
       "    }\n",
       "</style>\n",
       "<table border=\"1\" class=\"dataframe\">\n",
       "  <thead>\n",
       "    <tr style=\"text-align: right;\">\n",
       "      <th></th>\n",
       "      <th>count</th>\n",
       "      <th>mean</th>\n",
       "      <th>std</th>\n",
       "      <th>min</th>\n",
       "      <th>25%</th>\n",
       "      <th>50%</th>\n",
       "      <th>75%</th>\n",
       "      <th>max</th>\n",
       "    </tr>\n",
       "  </thead>\n",
       "  <tbody>\n",
       "    <tr>\n",
       "      <th>CategoryID</th>\n",
       "      <td>100.0</td>\n",
       "      <td>2.420000e+00</td>\n",
       "      <td>2.785895e+00</td>\n",
       "      <td>1.00</td>\n",
       "      <td>1.00</td>\n",
       "      <td>1.00</td>\n",
       "      <td>2.0000</td>\n",
       "      <td>1.100000e+01</td>\n",
       "    </tr>\n",
       "    <tr>\n",
       "      <th>Value</th>\n",
       "      <td>100.0</td>\n",
       "      <td>8.962371e+05</td>\n",
       "      <td>3.718357e+06</td>\n",
       "      <td>0.00</td>\n",
       "      <td>34375.00</td>\n",
       "      <td>116000.00</td>\n",
       "      <td>778500.0000</td>\n",
       "      <td>3.682500e+07</td>\n",
       "    </tr>\n",
       "    <tr>\n",
       "      <th>PropertySize</th>\n",
       "      <td>100.0</td>\n",
       "      <td>2.177510e+06</td>\n",
       "      <td>2.158163e+07</td>\n",
       "      <td>0.00</td>\n",
       "      <td>290.75</td>\n",
       "      <td>670.50</td>\n",
       "      <td>1963.0000</td>\n",
       "      <td>2.158329e+08</td>\n",
       "    </tr>\n",
       "    <tr>\n",
       "      <th>BillingAmt</th>\n",
       "      <td>100.0</td>\n",
       "      <td>7.310600e+03</td>\n",
       "      <td>2.990529e+04</td>\n",
       "      <td>-244122.00</td>\n",
       "      <td>320.75</td>\n",
       "      <td>4536.50</td>\n",
       "      <td>10549.2500</td>\n",
       "      <td>9.506200e+04</td>\n",
       "    </tr>\n",
       "    <tr>\n",
       "      <th>AverageBillingAmt</th>\n",
       "      <td>100.0</td>\n",
       "      <td>3.224900e+02</td>\n",
       "      <td>1.112248e+03</td>\n",
       "      <td>-3014.00</td>\n",
       "      <td>29.75</td>\n",
       "      <td>121.50</td>\n",
       "      <td>335.2500</td>\n",
       "      <td>8.736000e+03</td>\n",
       "    </tr>\n",
       "    <tr>\n",
       "      <th>CollectedAmt</th>\n",
       "      <td>100.0</td>\n",
       "      <td>9.450990e+03</td>\n",
       "      <td>1.513997e+04</td>\n",
       "      <td>0.00</td>\n",
       "      <td>0.00</td>\n",
       "      <td>483.50</td>\n",
       "      <td>12061.2500</td>\n",
       "      <td>5.598100e+04</td>\n",
       "    </tr>\n",
       "    <tr>\n",
       "      <th>AverageCollectedAmt</th>\n",
       "      <td>100.0</td>\n",
       "      <td>1.953770e+03</td>\n",
       "      <td>6.479275e+03</td>\n",
       "      <td>0.00</td>\n",
       "      <td>0.00</td>\n",
       "      <td>177.00</td>\n",
       "      <td>930.5000</td>\n",
       "      <td>5.495600e+04</td>\n",
       "    </tr>\n",
       "    <tr>\n",
       "      <th>DebtAmt</th>\n",
       "      <td>100.0</td>\n",
       "      <td>1.307762e+04</td>\n",
       "      <td>5.491048e+04</td>\n",
       "      <td>0.00</td>\n",
       "      <td>0.00</td>\n",
       "      <td>0.00</td>\n",
       "      <td>2884.5000</td>\n",
       "      <td>4.232240e+05</td>\n",
       "    </tr>\n",
       "    <tr>\n",
       "      <th>WriteOffAmt</th>\n",
       "      <td>100.0</td>\n",
       "      <td>9.242400e+02</td>\n",
       "      <td>8.372270e+03</td>\n",
       "      <td>0.00</td>\n",
       "      <td>0.00</td>\n",
       "      <td>0.00</td>\n",
       "      <td>0.0000</td>\n",
       "      <td>8.370200e+04</td>\n",
       "    </tr>\n",
       "    <tr>\n",
       "      <th>CollectionRatio</th>\n",
       "      <td>100.0</td>\n",
       "      <td>-5.539000e-01</td>\n",
       "      <td>1.222405e+01</td>\n",
       "      <td>-121.26</td>\n",
       "      <td>0.00</td>\n",
       "      <td>0.83</td>\n",
       "      <td>1.0100</td>\n",
       "      <td>5.610000e+00</td>\n",
       "    </tr>\n",
       "    <tr>\n",
       "      <th>DebtBillingRatio</th>\n",
       "      <td>100.0</td>\n",
       "      <td>3.075500e+00</td>\n",
       "      <td>1.040160e+01</td>\n",
       "      <td>-4.79</td>\n",
       "      <td>0.00</td>\n",
       "      <td>0.00</td>\n",
       "      <td>1.0225</td>\n",
       "      <td>6.702000e+01</td>\n",
       "    </tr>\n",
       "    <tr>\n",
       "      <th>TotalElectricityBill</th>\n",
       "      <td>100.0</td>\n",
       "      <td>3.405810e+03</td>\n",
       "      <td>9.617374e+03</td>\n",
       "      <td>0.00</td>\n",
       "      <td>0.00</td>\n",
       "      <td>0.00</td>\n",
       "      <td>1788.7500</td>\n",
       "      <td>6.521900e+04</td>\n",
       "    </tr>\n",
       "    <tr>\n",
       "      <th>HasID</th>\n",
       "      <td>100.0</td>\n",
       "      <td>4.100000e-01</td>\n",
       "      <td>4.943111e-01</td>\n",
       "      <td>0.00</td>\n",
       "      <td>0.00</td>\n",
       "      <td>0.00</td>\n",
       "      <td>1.0000</td>\n",
       "      <td>1.000000e+00</td>\n",
       "    </tr>\n",
       "    <tr>\n",
       "      <th>Label</th>\n",
       "      <td>100.0</td>\n",
       "      <td>4.100000e-01</td>\n",
       "      <td>4.943111e-01</td>\n",
       "      <td>0.00</td>\n",
       "      <td>0.00</td>\n",
       "      <td>0.00</td>\n",
       "      <td>1.0000</td>\n",
       "      <td>1.000000e+00</td>\n",
       "    </tr>\n",
       "  </tbody>\n",
       "</table>\n",
       "</div>"
      ],
      "text/plain": [
       "                      count          mean           std        min       25%  \\\n",
       "CategoryID            100.0  2.420000e+00  2.785895e+00       1.00      1.00   \n",
       "Value                 100.0  8.962371e+05  3.718357e+06       0.00  34375.00   \n",
       "PropertySize          100.0  2.177510e+06  2.158163e+07       0.00    290.75   \n",
       "BillingAmt            100.0  7.310600e+03  2.990529e+04 -244122.00    320.75   \n",
       "AverageBillingAmt     100.0  3.224900e+02  1.112248e+03   -3014.00     29.75   \n",
       "CollectedAmt          100.0  9.450990e+03  1.513997e+04       0.00      0.00   \n",
       "AverageCollectedAmt   100.0  1.953770e+03  6.479275e+03       0.00      0.00   \n",
       "DebtAmt               100.0  1.307762e+04  5.491048e+04       0.00      0.00   \n",
       "WriteOffAmt           100.0  9.242400e+02  8.372270e+03       0.00      0.00   \n",
       "CollectionRatio       100.0 -5.539000e-01  1.222405e+01    -121.26      0.00   \n",
       "DebtBillingRatio      100.0  3.075500e+00  1.040160e+01      -4.79      0.00   \n",
       "TotalElectricityBill  100.0  3.405810e+03  9.617374e+03       0.00      0.00   \n",
       "HasID                 100.0  4.100000e-01  4.943111e-01       0.00      0.00   \n",
       "Label                 100.0  4.100000e-01  4.943111e-01       0.00      0.00   \n",
       "\n",
       "                            50%          75%           max  \n",
       "CategoryID                 1.00       2.0000  1.100000e+01  \n",
       "Value                 116000.00  778500.0000  3.682500e+07  \n",
       "PropertySize             670.50    1963.0000  2.158329e+08  \n",
       "BillingAmt              4536.50   10549.2500  9.506200e+04  \n",
       "AverageBillingAmt        121.50     335.2500  8.736000e+03  \n",
       "CollectedAmt             483.50   12061.2500  5.598100e+04  \n",
       "AverageCollectedAmt      177.00     930.5000  5.495600e+04  \n",
       "DebtAmt                    0.00    2884.5000  4.232240e+05  \n",
       "WriteOffAmt                0.00       0.0000  8.370200e+04  \n",
       "CollectionRatio            0.83       1.0100  5.610000e+00  \n",
       "DebtBillingRatio           0.00       1.0225  6.702000e+01  \n",
       "TotalElectricityBill       0.00    1788.7500  6.521900e+04  \n",
       "HasID                      0.00       1.0000  1.000000e+00  \n",
       "Label                      0.00       1.0000  1.000000e+00  "
      ]
     },
     "execution_count": 11,
     "metadata": {},
     "output_type": "execute_result"
    }
   ],
   "source": [
    "data.describe().T"
   ]
  },
  {
   "cell_type": "code",
   "execution_count": 12,
   "metadata": {
    "colab": {
     "base_uri": "https://localhost:8080/",
     "height": 452
    },
    "id": "q3LrPLbY2Oja",
    "outputId": "a27f7b40-9a14-446c-8122-3afe43bee068"
   },
   "outputs": [
    {
     "data": {
      "text/html": [
       "<div>\n",
       "<style scoped>\n",
       "    .dataframe tbody tr th:only-of-type {\n",
       "        vertical-align: middle;\n",
       "    }\n",
       "\n",
       "    .dataframe tbody tr th {\n",
       "        vertical-align: top;\n",
       "    }\n",
       "\n",
       "    .dataframe thead th {\n",
       "        text-align: right;\n",
       "    }\n",
       "</style>\n",
       "<table border=\"1\" class=\"dataframe\">\n",
       "  <thead>\n",
       "    <tr style=\"text-align: right;\">\n",
       "      <th></th>\n",
       "      <th>count</th>\n",
       "      <th>mean</th>\n",
       "      <th>std</th>\n",
       "      <th>min</th>\n",
       "      <th>25%</th>\n",
       "      <th>50%</th>\n",
       "      <th>75%</th>\n",
       "      <th>max</th>\n",
       "    </tr>\n",
       "  </thead>\n",
       "  <tbody>\n",
       "    <tr>\n",
       "      <th>CategoryID</th>\n",
       "      <td>100.0</td>\n",
       "      <td>2.420000e+00</td>\n",
       "      <td>2.785895e+00</td>\n",
       "      <td>1.00</td>\n",
       "      <td>1.00</td>\n",
       "      <td>1.00</td>\n",
       "      <td>2.0000</td>\n",
       "      <td>1.100000e+01</td>\n",
       "    </tr>\n",
       "    <tr>\n",
       "      <th>Value</th>\n",
       "      <td>100.0</td>\n",
       "      <td>8.962371e+05</td>\n",
       "      <td>3.718357e+06</td>\n",
       "      <td>0.00</td>\n",
       "      <td>34375.00</td>\n",
       "      <td>116000.00</td>\n",
       "      <td>778500.0000</td>\n",
       "      <td>3.682500e+07</td>\n",
       "    </tr>\n",
       "    <tr>\n",
       "      <th>PropertySize</th>\n",
       "      <td>100.0</td>\n",
       "      <td>2.177510e+06</td>\n",
       "      <td>2.158163e+07</td>\n",
       "      <td>0.00</td>\n",
       "      <td>290.75</td>\n",
       "      <td>670.50</td>\n",
       "      <td>1963.0000</td>\n",
       "      <td>2.158329e+08</td>\n",
       "    </tr>\n",
       "    <tr>\n",
       "      <th>BillingAmt</th>\n",
       "      <td>100.0</td>\n",
       "      <td>7.310600e+03</td>\n",
       "      <td>2.990529e+04</td>\n",
       "      <td>-244122.00</td>\n",
       "      <td>320.75</td>\n",
       "      <td>4536.50</td>\n",
       "      <td>10549.2500</td>\n",
       "      <td>9.506200e+04</td>\n",
       "    </tr>\n",
       "    <tr>\n",
       "      <th>AverageBillingAmt</th>\n",
       "      <td>100.0</td>\n",
       "      <td>3.224900e+02</td>\n",
       "      <td>1.112248e+03</td>\n",
       "      <td>-3014.00</td>\n",
       "      <td>29.75</td>\n",
       "      <td>121.50</td>\n",
       "      <td>335.2500</td>\n",
       "      <td>8.736000e+03</td>\n",
       "    </tr>\n",
       "    <tr>\n",
       "      <th>CollectedAmt</th>\n",
       "      <td>100.0</td>\n",
       "      <td>9.450990e+03</td>\n",
       "      <td>1.513997e+04</td>\n",
       "      <td>0.00</td>\n",
       "      <td>0.00</td>\n",
       "      <td>483.50</td>\n",
       "      <td>12061.2500</td>\n",
       "      <td>5.598100e+04</td>\n",
       "    </tr>\n",
       "    <tr>\n",
       "      <th>AverageCollectedAmt</th>\n",
       "      <td>100.0</td>\n",
       "      <td>1.953770e+03</td>\n",
       "      <td>6.479275e+03</td>\n",
       "      <td>0.00</td>\n",
       "      <td>0.00</td>\n",
       "      <td>177.00</td>\n",
       "      <td>930.5000</td>\n",
       "      <td>5.495600e+04</td>\n",
       "    </tr>\n",
       "    <tr>\n",
       "      <th>DebtAmt</th>\n",
       "      <td>100.0</td>\n",
       "      <td>1.307762e+04</td>\n",
       "      <td>5.491048e+04</td>\n",
       "      <td>0.00</td>\n",
       "      <td>0.00</td>\n",
       "      <td>0.00</td>\n",
       "      <td>2884.5000</td>\n",
       "      <td>4.232240e+05</td>\n",
       "    </tr>\n",
       "    <tr>\n",
       "      <th>WriteOffAmt</th>\n",
       "      <td>100.0</td>\n",
       "      <td>9.242400e+02</td>\n",
       "      <td>8.372270e+03</td>\n",
       "      <td>0.00</td>\n",
       "      <td>0.00</td>\n",
       "      <td>0.00</td>\n",
       "      <td>0.0000</td>\n",
       "      <td>8.370200e+04</td>\n",
       "    </tr>\n",
       "    <tr>\n",
       "      <th>CollectionRatio</th>\n",
       "      <td>100.0</td>\n",
       "      <td>-5.539000e-01</td>\n",
       "      <td>1.222405e+01</td>\n",
       "      <td>-121.26</td>\n",
       "      <td>0.00</td>\n",
       "      <td>0.83</td>\n",
       "      <td>1.0100</td>\n",
       "      <td>5.610000e+00</td>\n",
       "    </tr>\n",
       "    <tr>\n",
       "      <th>DebtBillingRatio</th>\n",
       "      <td>100.0</td>\n",
       "      <td>3.075500e+00</td>\n",
       "      <td>1.040160e+01</td>\n",
       "      <td>-4.79</td>\n",
       "      <td>0.00</td>\n",
       "      <td>0.00</td>\n",
       "      <td>1.0225</td>\n",
       "      <td>6.702000e+01</td>\n",
       "    </tr>\n",
       "    <tr>\n",
       "      <th>TotalElectricityBill</th>\n",
       "      <td>100.0</td>\n",
       "      <td>3.405810e+03</td>\n",
       "      <td>9.617374e+03</td>\n",
       "      <td>0.00</td>\n",
       "      <td>0.00</td>\n",
       "      <td>0.00</td>\n",
       "      <td>1788.7500</td>\n",
       "      <td>6.521900e+04</td>\n",
       "    </tr>\n",
       "    <tr>\n",
       "      <th>HasID</th>\n",
       "      <td>100.0</td>\n",
       "      <td>4.100000e-01</td>\n",
       "      <td>4.943111e-01</td>\n",
       "      <td>0.00</td>\n",
       "      <td>0.00</td>\n",
       "      <td>0.00</td>\n",
       "      <td>1.0000</td>\n",
       "      <td>1.000000e+00</td>\n",
       "    </tr>\n",
       "  </tbody>\n",
       "</table>\n",
       "</div>"
      ],
      "text/plain": [
       "                      count          mean           std        min       25%  \\\n",
       "CategoryID            100.0  2.420000e+00  2.785895e+00       1.00      1.00   \n",
       "Value                 100.0  8.962371e+05  3.718357e+06       0.00  34375.00   \n",
       "PropertySize          100.0  2.177510e+06  2.158163e+07       0.00    290.75   \n",
       "BillingAmt            100.0  7.310600e+03  2.990529e+04 -244122.00    320.75   \n",
       "AverageBillingAmt     100.0  3.224900e+02  1.112248e+03   -3014.00     29.75   \n",
       "CollectedAmt          100.0  9.450990e+03  1.513997e+04       0.00      0.00   \n",
       "AverageCollectedAmt   100.0  1.953770e+03  6.479275e+03       0.00      0.00   \n",
       "DebtAmt               100.0  1.307762e+04  5.491048e+04       0.00      0.00   \n",
       "WriteOffAmt           100.0  9.242400e+02  8.372270e+03       0.00      0.00   \n",
       "CollectionRatio       100.0 -5.539000e-01  1.222405e+01    -121.26      0.00   \n",
       "DebtBillingRatio      100.0  3.075500e+00  1.040160e+01      -4.79      0.00   \n",
       "TotalElectricityBill  100.0  3.405810e+03  9.617374e+03       0.00      0.00   \n",
       "HasID                 100.0  4.100000e-01  4.943111e-01       0.00      0.00   \n",
       "\n",
       "                            50%          75%           max  \n",
       "CategoryID                 1.00       2.0000  1.100000e+01  \n",
       "Value                 116000.00  778500.0000  3.682500e+07  \n",
       "PropertySize             670.50    1963.0000  2.158329e+08  \n",
       "BillingAmt              4536.50   10549.2500  9.506200e+04  \n",
       "AverageBillingAmt        121.50     335.2500  8.736000e+03  \n",
       "CollectedAmt             483.50   12061.2500  5.598100e+04  \n",
       "AverageCollectedAmt      177.00     930.5000  5.495600e+04  \n",
       "DebtAmt                    0.00    2884.5000  4.232240e+05  \n",
       "WriteOffAmt                0.00       0.0000  8.370200e+04  \n",
       "CollectionRatio            0.83       1.0100  5.610000e+00  \n",
       "DebtBillingRatio           0.00       1.0225  6.702000e+01  \n",
       "TotalElectricityBill       0.00    1788.7500  6.521900e+04  \n",
       "HasID                      0.00       1.0000  1.000000e+00  "
      ]
     },
     "execution_count": 12,
     "metadata": {},
     "output_type": "execute_result"
    }
   ],
   "source": [
    "data_validation.describe().T"
   ]
  },
  {
   "cell_type": "code",
   "execution_count": 13,
   "metadata": {
    "colab": {
     "base_uri": "https://localhost:8080/",
     "height": 49
    },
    "id": "9ghViyXio8_7",
    "outputId": "1e68235d-b1a0-44f4-cf99-f3eef970265b"
   },
   "outputs": [
    {
     "data": {
      "text/html": [
       "<div>\n",
       "<style scoped>\n",
       "    .dataframe tbody tr th:only-of-type {\n",
       "        vertical-align: middle;\n",
       "    }\n",
       "\n",
       "    .dataframe tbody tr th {\n",
       "        vertical-align: top;\n",
       "    }\n",
       "\n",
       "    .dataframe thead th {\n",
       "        text-align: right;\n",
       "    }\n",
       "</style>\n",
       "<table border=\"1\" class=\"dataframe\">\n",
       "  <thead>\n",
       "    <tr style=\"text-align: right;\">\n",
       "      <th></th>\n",
       "      <th>missing count</th>\n",
       "      <th>missing %</th>\n",
       "    </tr>\n",
       "  </thead>\n",
       "  <tbody>\n",
       "  </tbody>\n",
       "</table>\n",
       "</div>"
      ],
      "text/plain": [
       "Empty DataFrame\n",
       "Columns: [missing count, missing %]\n",
       "Index: []"
      ]
     },
     "execution_count": 13,
     "metadata": {},
     "output_type": "execute_result"
    }
   ],
   "source": [
    "#  Prints total null value count(s) for all columns in input data frame\n",
    "def print_null_info(df):\n",
    "    \"\"\"\n",
    "    Prints total null value count(s) & % for all columns in input data frame\n",
    "    \"\"\"\n",
    "\n",
    "    nullInfo = {\"missing count\": df.isnull().sum(), \"missing %\": df.isnull().mean()}\n",
    "    # Creates pandas DataFrame.\n",
    "    nulldata = pd.DataFrame(nullInfo)\n",
    "    return nulldata[nulldata[\"missing count\"] > 0].sort_values(\n",
    "        by=\"missing count\", ascending=False\n",
    "    )\n",
    "\n",
    "print_null_info(data)\n"
   ]
  },
  {
   "cell_type": "code",
   "execution_count": 14,
   "metadata": {
    "colab": {
     "base_uri": "https://localhost:8080/",
     "height": 49
    },
    "id": "OYG6yTVkM0tt",
    "outputId": "34e76d1b-76f1-43a5-db07-3d28f7906faa"
   },
   "outputs": [
    {
     "data": {
      "text/html": [
       "<div>\n",
       "<style scoped>\n",
       "    .dataframe tbody tr th:only-of-type {\n",
       "        vertical-align: middle;\n",
       "    }\n",
       "\n",
       "    .dataframe tbody tr th {\n",
       "        vertical-align: top;\n",
       "    }\n",
       "\n",
       "    .dataframe thead th {\n",
       "        text-align: right;\n",
       "    }\n",
       "</style>\n",
       "<table border=\"1\" class=\"dataframe\">\n",
       "  <thead>\n",
       "    <tr style=\"text-align: right;\">\n",
       "      <th></th>\n",
       "      <th>missing count</th>\n",
       "      <th>missing %</th>\n",
       "    </tr>\n",
       "  </thead>\n",
       "  <tbody>\n",
       "  </tbody>\n",
       "</table>\n",
       "</div>"
      ],
      "text/plain": [
       "Empty DataFrame\n",
       "Columns: [missing count, missing %]\n",
       "Index: []"
      ]
     },
     "execution_count": 14,
     "metadata": {},
     "output_type": "execute_result"
    }
   ],
   "source": [
    "print_null_info(data_validation)"
   ]
  },
  {
   "cell_type": "code",
   "execution_count": 15,
   "metadata": {
    "colab": {
     "base_uri": "https://localhost:8080/"
    },
    "id": "KgJurcRzpD-a",
    "outputId": "ba5c0c5d-3a5e-45c3-e65e-a4746cebe260"
   },
   "outputs": [
    {
     "data": {
      "text/plain": [
       "(0, 16)"
      ]
     },
     "execution_count": 15,
     "metadata": {},
     "output_type": "execute_result"
    }
   ],
   "source": [
    "# check for any duplciate data\n",
    "data[data.duplicated()].shape"
   ]
  },
  {
   "cell_type": "code",
   "execution_count": 16,
   "metadata": {
    "colab": {
     "base_uri": "https://localhost:8080/"
    },
    "id": "iwLIccExMBg9",
    "outputId": "4213afe4-1bbf-43f5-c8fd-e3d8389fec03"
   },
   "outputs": [
    {
     "data": {
      "text/plain": [
       "0    100\n",
       "dtype: int64"
      ]
     },
     "execution_count": 16,
     "metadata": {},
     "output_type": "execute_result"
    }
   ],
   "source": [
    "## Replace NAN with median values \n",
    "\n",
    "# counting the number of missing values per row\n",
    "\n",
    "num_missing = data.isnull().sum(axis=1)\n",
    "num_missing.value_counts()\n"
   ]
  },
  {
   "cell_type": "code",
   "execution_count": 17,
   "metadata": {
    "id": "vmbHUJMjMTYk"
   },
   "outputs": [],
   "source": [
    "#data[num_missing == 2].sample(n=15)"
   ]
  },
  {
   "cell_type": "code",
   "execution_count": 18,
   "metadata": {
    "id": "KJIJBo3TMldc"
   },
   "outputs": [],
   "source": [
    "#data[num_missing == 1].sample(n=15)"
   ]
  },
  {
   "cell_type": "code",
   "execution_count": null,
   "metadata": {
    "id": "ZRWvrGfXM6jb"
   },
   "outputs": [],
   "source": []
  },
  {
   "cell_type": "code",
   "execution_count": null,
   "metadata": {
    "id": "_uRsvLp-OJff"
   },
   "outputs": [],
   "source": []
  },
  {
   "cell_type": "code",
   "execution_count": null,
   "metadata": {
    "colab": {
     "base_uri": "https://localhost:8080/",
     "height": 52
    },
    "id": "i4EbZ5bnPwUg",
    "outputId": "e3b5ad7e-1915-4db6-9877-e66f5bc53cf1"
   },
   "outputs": [],
   "source": []
  },
  {
   "cell_type": "code",
   "execution_count": null,
   "metadata": {
    "colab": {
     "base_uri": "https://localhost:8080/",
     "height": 49
    },
    "id": "R7qNiaYTQblf",
    "outputId": "4df332fd-d2a2-49cf-adcd-48d1a5cf7c35"
   },
   "outputs": [],
   "source": []
  },
  {
   "cell_type": "code",
   "execution_count": null,
   "metadata": {
    "colab": {
     "base_uri": "https://localhost:8080/",
     "height": 49
    },
    "id": "2ThSdumfQeO9",
    "outputId": "2da5801f-065a-4845-b9f4-dbf1e1b128a8"
   },
   "outputs": [],
   "source": []
  },
  {
   "cell_type": "code",
   "execution_count": 19,
   "metadata": {
    "id": "boF5fnnapS2d"
   },
   "outputs": [],
   "source": [
    "#    Prints unique value counts, top 10 value & count(s) for all category columns in input data frame\n",
    "def print_category_value_counts(df, column_names):\n",
    "    \"\"\"\n",
    "    Prints unique value counts, top 10 value & count(s) for all category columns in input data frame\n",
    "    \"\"\"\n",
    "    print()\n",
    "    for typeval, col in zip(df[column_names].dtypes, df[column_names]):\n",
    "            print()\n",
    "            print(f\"Column name : ({col}), Column Data Type : ({df[col].dtypes}) and has total : ({df[col].nunique()}) unique values\")\n",
    "            print()\n",
    "            print(f\"Top 10 Unique Values & Value counts \")\n",
    "            print()\n",
    "            print(df[col].value_counts()[0:10])\n",
    "            print()\n",
    "            print(\"-\" * 50)\n"
   ]
  },
  {
   "cell_type": "code",
   "execution_count": 20,
   "metadata": {
    "colab": {
     "base_uri": "https://localhost:8080/"
    },
    "id": "w9ZlNGm3pHB6",
    "outputId": "8bd87ba6-3660-422f-d900-75309052db77"
   },
   "outputs": [
    {
     "name": "stdout",
     "output_type": "stream",
     "text": [
      "\n",
      "\n",
      "Column name : (AccID), Column Data Type : (object) and has total : (100) unique values\n",
      "\n",
      "Top 10 Unique Values & Value counts \n",
      "\n",
      "2ce144d4-2889-4ba8-ac7f-0a8286b2d5b8    1\n",
      "8ce96199-a1ad-4f50-a1c2-5323064b2272    1\n",
      "1c53c861-e605-47f7-b854-c616a4d4fa04    1\n",
      "29eed6fe-2ea7-4b76-9ae7-81679ca9bc74    1\n",
      "d9088e21-564d-4fbd-afb7-bf2560a8c0cb    1\n",
      "bc9e9be5-fdf4-4fe7-90b9-fe631bffbd0e    1\n",
      "b9d188dc-3d08-4683-9ebb-6962a4515f67    1\n",
      "4f909ad4-e163-4c09-b6ad-2c4a807f9899    1\n",
      "7417b04d-4382-4601-9229-ad6b8dcab5b7    1\n",
      "c6dfe03c-4a2f-4d9d-a8c9-37512f0b1310    1\n",
      "Name: AccID, dtype: int64\n",
      "\n",
      "--------------------------------------------------\n",
      "\n",
      "Column name : (CategoryID), Column Data Type : (int64) and has total : (7) unique values\n",
      "\n",
      "Top 10 Unique Values & Value counts \n",
      "\n",
      "1     68\n",
      "4     10\n",
      "2      8\n",
      "11     7\n",
      "5      3\n",
      "6      3\n",
      "8      1\n",
      "Name: CategoryID, dtype: int64\n",
      "\n",
      "--------------------------------------------------\n",
      "\n",
      "Column name : (Category), Column Data Type : (object) and has total : (7) unique values\n",
      "\n",
      "Top 10 Unique Values & Value counts \n",
      "\n",
      "Residential       68\n",
      "Agricultural      10\n",
      "Business           8\n",
      "Unknown            7\n",
      "Municipal          3\n",
      "Government         3\n",
      "Infrastructure     1\n",
      "Name: Category, dtype: int64\n",
      "\n",
      "--------------------------------------------------\n",
      "\n",
      "Column name : (HasID), Column Data Type : (int64) and has total : (2) unique values\n",
      "\n",
      "Top 10 Unique Values & Value counts \n",
      "\n",
      "0    59\n",
      "1    41\n",
      "Name: HasID, dtype: int64\n",
      "\n",
      "--------------------------------------------------\n"
     ]
    }
   ],
   "source": [
    "# print value types and value counts\n",
    "\n",
    "cols = [\"AccID\", \"CategoryID\", \"Category\", \"HasID\"]\n",
    "\n",
    "print_category_value_counts(data, cols)\n"
   ]
  },
  {
   "cell_type": "code",
   "execution_count": 21,
   "metadata": {},
   "outputs": [
    {
     "name": "stdout",
     "output_type": "stream",
     "text": [
      "\n",
      "\n",
      "Column name : (AccID), Column Data Type : (object) and has total : (100) unique values\n",
      "\n",
      "Top 10 Unique Values & Value counts \n",
      "\n",
      "2ce144d4-2889-4ba8-ac7f-0a8286b2d5b8    1\n",
      "8ce96199-a1ad-4f50-a1c2-5323064b2272    1\n",
      "1c53c861-e605-47f7-b854-c616a4d4fa04    1\n",
      "29eed6fe-2ea7-4b76-9ae7-81679ca9bc74    1\n",
      "ae79949a-4593-4399-ae21-aab5191d0b51    1\n",
      "bc9e9be5-fdf4-4fe7-90b9-fe631bffbd0e    1\n",
      "b9d188dc-3d08-4683-9ebb-6962a4515f67    1\n",
      "4f909ad4-e163-4c09-b6ad-2c4a807f9899    1\n",
      "7417b04d-4382-4601-9229-ad6b8dcab5b7    1\n",
      "c6dfe03c-4a2f-4d9d-a8c9-37512f0b1310    1\n",
      "Name: AccID, dtype: int64\n",
      "\n",
      "--------------------------------------------------\n",
      "\n",
      "Column name : (CategoryID), Column Data Type : (int64) and has total : (7) unique values\n",
      "\n",
      "Top 10 Unique Values & Value counts \n",
      "\n",
      "1     68\n",
      "4     10\n",
      "2      8\n",
      "11     7\n",
      "5      3\n",
      "6      3\n",
      "8      1\n",
      "Name: CategoryID, dtype: int64\n",
      "\n",
      "--------------------------------------------------\n",
      "\n",
      "Column name : (Category), Column Data Type : (object) and has total : (7) unique values\n",
      "\n",
      "Top 10 Unique Values & Value counts \n",
      "\n",
      "Residential       68\n",
      "Agricultural      10\n",
      "Business           8\n",
      "Unknown            7\n",
      "Municipal          3\n",
      "Government         3\n",
      "Infrastructure     1\n",
      "Name: Category, dtype: int64\n",
      "\n",
      "--------------------------------------------------\n",
      "\n",
      "Column name : (HasID), Column Data Type : (int64) and has total : (2) unique values\n",
      "\n",
      "Top 10 Unique Values & Value counts \n",
      "\n",
      "0    59\n",
      "1    41\n",
      "Name: HasID, dtype: int64\n",
      "\n",
      "--------------------------------------------------\n"
     ]
    }
   ],
   "source": [
    "print_category_value_counts(data_validation, cols)"
   ]
  },
  {
   "cell_type": "code",
   "execution_count": 22,
   "metadata": {
    "id": "OFvT5ewKpW6S"
   },
   "outputs": [],
   "source": [
    "# Drop CategoryID, AccID Columns - we can use Category in future\n",
    "#data.drop([\"CategoryID\", \"AccID\"], axis=1, inplace=True)\n",
    "#data_validation.drop([\"CategoryID\", \"AccID\"], axis=1, inplace=True)"
   ]
  },
  {
   "cell_type": "code",
   "execution_count": null,
   "metadata": {
    "colab": {
     "base_uri": "https://localhost:8080/"
    },
    "id": "g6Sl6oWTpZP3",
    "outputId": "229c0642-73cc-470d-9972-1f5367a3412d"
   },
   "outputs": [],
   "source": []
  },
  {
   "cell_type": "code",
   "execution_count": null,
   "metadata": {
    "id": "OmeCm2rvJtDh"
   },
   "outputs": [],
   "source": []
  },
  {
   "cell_type": "markdown",
   "metadata": {
    "id": "NYBPZH7qpgSB"
   },
   "source": [
    "# Exploratory Data **Analysis**"
   ]
  },
  {
   "cell_type": "code",
   "execution_count": 23,
   "metadata": {
    "id": "GWwCAIK-piWN"
   },
   "outputs": [],
   "source": [
    "## building a Common method to generate graphs\n",
    "\n",
    "\n",
    "def generate_univariate_chart(data, feature, hue=None, kde=False, bins=20):\n",
    "    \"\"\"\n",
    "    Builds histplot and boxplot for given field.\n",
    "    Can plot hue, kde and bins based on params, these are optional columns\n",
    "    \"\"\"\n",
    "\n",
    "    sns.set_style(\"darkgrid\")\n",
    "    print(f\"Genrating Charts for feature : {feature}\")\n",
    "    # sns.set_context('poster',font_scale=1)\n",
    "    # figsize(width,height)\n",
    "\n",
    "    fig, axes = plt.subplots(2, figsize=(15, 15))\n",
    "    fig.suptitle(\"Univariate analysis for \" + feature)\n",
    "\n",
    "    sns.histplot(\n",
    "        data=data,\n",
    "        x=feature,\n",
    "        ax=axes[0],\n",
    "        palette=\"winter\",\n",
    "        bins=bins,\n",
    "        kde=kde,\n",
    "        hue=hue,\n",
    "        multiple=\"dodge\",\n",
    "    )\n",
    "    sns.boxplot(\n",
    "        data=data, x=feature, ax=axes[1], showmeans=True, color=\"violet\", hue=hue\n",
    "    )\n",
    "\n",
    "\n",
    "# function to create labeled barplots\n",
    "\n",
    "\n",
    "def labeled_barplot(data, feature, perc=False, n=None):\n",
    "    \"\"\"\n",
    "    Barplot with percentage at the top\n",
    "\n",
    "    data: dataframe\n",
    "    feature: dataframe column\n",
    "    perc: whether to display percentages instead of count (default is False)\n",
    "    n: displays the top n category levels (default is None, i.e., display all levels)\n",
    "    \"\"\"\n",
    "\n",
    "    total = len(data[feature])  # length of the column\n",
    "    count = data[feature].nunique()\n",
    "    if n is None:\n",
    "        plt.figure(figsize=(count + 1, 10))\n",
    "    else:\n",
    "        plt.figure(figsize=(n + 1, 10))\n",
    "\n",
    "    plt.xticks(rotation=90, fontsize=25)\n",
    "    ax = sns.countplot(\n",
    "        data=data,\n",
    "        x=feature,\n",
    "        palette=\"Paired\",\n",
    "        order=data[feature].value_counts().index[:n].sort_values(),\n",
    "    )\n",
    "\n",
    "    for p in ax.patches:\n",
    "        if perc == True:\n",
    "            label = \"{:.1f}%\".format(\n",
    "                100 * p.get_height() / total\n",
    "            )  # percentage of each class of the category\n",
    "        else:\n",
    "            label = p.get_height()  # count of each level of the category\n",
    "\n",
    "        x = p.get_x() + p.get_width() / 2  # width of the plot\n",
    "        y = p.get_height()  # height of the plot\n",
    "\n",
    "        ax.annotate(\n",
    "            label,\n",
    "            (x, y),\n",
    "            ha=\"center\",\n",
    "            va=\"center\",\n",
    "            size=12,\n",
    "            xytext=(0, 5),\n",
    "            textcoords=\"offset points\",\n",
    "        )  # annotate the percentage\n",
    "\n",
    "    plt.show()  # show the plot\n",
    "\n",
    "\n",
    "### function to plot distributions wrt target\n",
    "\n",
    "\n",
    "def distribution_plot_wrt_target(data, predictor, target):\n",
    "\n",
    "    \"\"\"\n",
    "    function to plot distributions wrt target\n",
    "    \"\"\"\n",
    "\n",
    "    fig, axs = plt.subplots(2, 2, figsize=(12, 10))\n",
    "\n",
    "    target_uniq = data[target].unique()\n",
    "\n",
    "    axs[0, 0].set_title(\"Distribution of target for target=\" + str(target_uniq[0]))\n",
    "    sns.histplot(\n",
    "        data=data[data[target] == target_uniq[0]],\n",
    "        x=predictor,\n",
    "        kde=True,\n",
    "        ax=axs[0, 0],\n",
    "        color=\"teal\",\n",
    "        stat=\"density\",\n",
    "    )\n",
    "\n",
    "    axs[0, 1].set_title(\"Distribution of target for target=\" + str(target_uniq[1]))\n",
    "    sns.histplot(\n",
    "        data=data[data[target] == target_uniq[1]],\n",
    "        x=predictor,\n",
    "        kde=True,\n",
    "        ax=axs[0, 1],\n",
    "        color=\"orange\",\n",
    "        stat=\"density\",\n",
    "    )\n",
    "\n",
    "    axs[1, 0].set_title(\"Boxplot w.r.t target\")\n",
    "    sns.boxplot(data=data, x=target, y=predictor, ax=axs[1, 0], palette=\"gist_rainbow\")\n",
    "\n",
    "    axs[1, 1].set_title(\"Boxplot (without outliers) w.r.t target\")\n",
    "    sns.boxplot(\n",
    "        data=data,\n",
    "        x=target,\n",
    "        y=predictor,\n",
    "        ax=axs[1, 1],\n",
    "        showfliers=False,\n",
    "        palette=\"gist_rainbow\",\n",
    "    )\n",
    "\n",
    "    plt.tight_layout()\n",
    "    plt.show()\n",
    "\n",
    "\n",
    "# function to plot stacked bar chart\n",
    "def stacked_barplot(data, predictor, target):\n",
    "    \"\"\"\n",
    "    Print the category counts and plot a stacked bar chart\n",
    "\n",
    "    data: dataframe\n",
    "    predictor: independent variable\n",
    "    target: target variable\n",
    "    \"\"\"\n",
    "    count = data[predictor].nunique()\n",
    "    sorter = data[target].value_counts().index[-1]\n",
    "    tab1 = pd.crosstab(data[predictor], data[target], margins=True).sort_values(\n",
    "        by=sorter, ascending=False\n",
    "    )\n",
    "    print(tab1)\n",
    "    print(\"-\" * 100)\n",
    "    tab = pd.crosstab(data[predictor], data[target], normalize=\"index\").sort_values(\n",
    "        by=sorter, ascending=False\n",
    "    )\n",
    "    tab.plot(kind=\"bar\", stacked=True, figsize=(count + 5, 6))\n",
    "    plt.legend(\n",
    "        loc=\"lower left\", frameon=False,\n",
    "    )\n",
    "    plt.legend(loc=\"upper left\", bbox_to_anchor=(1, 1))\n",
    "    plt.show()\n",
    "\n",
    "\n",
    "## this method generate joint plot of x vs y feature\n",
    "def generate_bivariate_chart(data, xfeature, yfeature, hue=None):\n",
    "    \"\"\"\n",
    "    common method to generate joint plot for various columns\n",
    "    hue param is optional\n",
    "    \"\"\"\n",
    "    sns.set_style(\"darkgrid\")\n",
    "    print(f\"Genrating Charts for feature x : {xfeature}, y : {yfeature}\")\n",
    "\n",
    "    sns.jointplot(\n",
    "        data=data,\n",
    "        x=xfeature,\n",
    "        y=yfeature,\n",
    "        palette=\"winter\",\n",
    "        height=10,\n",
    "        kind=\"scatter\",\n",
    "        hue=hue,\n",
    "    )"
   ]
  },
  {
   "cell_type": "code",
   "execution_count": 24,
   "metadata": {
    "colab": {
     "base_uri": "https://localhost:8080/",
     "height": 721
    },
    "id": "XrC6rCp0pmrn",
    "outputId": "f51829e3-0645-4976-8d7d-592f558da2b1"
   },
   "outputs": [
    {
     "data": {
      "image/png": "[encoded data removed]",
      "text/plain": [
       "<Figure size 216x720 with 1 Axes>"
      ]
     },
     "metadata": {
      "needs_background": "light"
     },
     "output_type": "display_data"
    }
   ],
   "source": [
    "labeled_barplot(data=data, feature=\"Label\", perc=True)\n"
   ]
  },
  {
   "cell_type": "code",
   "execution_count": null,
   "metadata": {
    "id": "f2oTPNe-qm1H"
   },
   "outputs": [],
   "source": []
  },
  {
   "cell_type": "markdown",
   "metadata": {
    "id": "P3yd6YCUrB1N"
   },
   "source": [
    "\n",
    "## Identify Correlation in data \n",
    "\n",
    "lets check how the target feature related with other features and relationship between features"
   ]
  },
  {
   "cell_type": "code",
   "execution_count": 25,
   "metadata": {
    "colab": {
     "base_uri": "https://localhost:8080/",
     "height": 721
    },
    "id": "xyVoAwyjqksv",
    "outputId": "88f78830-3649-4c66-a43d-153a9abd0a59"
   },
   "outputs": [
    {
     "data": {
      "image/png": "[encoded data removed]",
      "text/plain": [
       "<Figure size 1296x720 with 2 Axes>"
      ]
     },
     "metadata": {
      "needs_background": "light"
     },
     "output_type": "display_data"
    }
   ],
   "source": [
    "plt.figure(figsize=(18, 10))\n",
    "sns.heatmap(data.corr(), annot=True, vmin=-1, vmax=1, fmt=\".2f\", cmap=\"Spectral\").set_title(\"Complete Data Correlation\")\n",
    "plt.show()"
   ]
  },
  {
   "cell_type": "code",
   "execution_count": null,
   "metadata": {
    "colab": {
     "base_uri": "https://localhost:8080/",
     "height": 1000
    },
    "id": "c69B1_S1QhHS",
    "outputId": "bced29d8-6884-4e2d-f5ea-2a8fc4022188"
   },
   "outputs": [],
   "source": []
  },
  {
   "cell_type": "code",
   "execution_count": null,
   "metadata": {
    "colab": {
     "base_uri": "https://localhost:8080/",
     "height": 130
    },
    "id": "AuccYF9srMjz",
    "outputId": "476ab540-04c5-497f-8104-b66d863ac5f7"
   },
   "outputs": [],
   "source": []
  },
  {
   "cell_type": "code",
   "execution_count": null,
   "metadata": {
    "id": "FDWvGAJ8basL"
   },
   "outputs": [],
   "source": []
  },
  {
   "cell_type": "code",
   "execution_count": 26,
   "metadata": {
    "colab": {
     "base_uri": "https://localhost:8080/",
     "height": 789
    },
    "id": "Jfbloq9ir8zZ",
    "outputId": "60b0c2a3-36d6-4ec0-d5b8-b44c4e2e73a4"
   },
   "outputs": [
    {
     "name": "stdout",
     "output_type": "stream",
     "text": [
      "X shape before one hot encoding (100, 12)\n",
      "XV shape before one hot encoding (100, 12)\n"
     ]
    },
    {
     "data": {
      "image/png": "[encoded data removed]",
      "text/plain": [
       "<Figure size 1296x720 with 2 Axes>"
      ]
     },
     "metadata": {
      "needs_background": "light"
     },
     "output_type": "display_data"
    }
   ],
   "source": [
    "\"\"\"\n",
    "X = data.drop([\"Label\"], axis=1)\n",
    "Y = data[\"Label\"]\n",
    "XV =  data_validation.copy()\n",
    "\"\"\"\n",
    "\"\"\"\n",
    "X = data.drop([\"Label\",\"HasID\",\"CollectionRatio\",\"DebtBillingRatio\",\"TotalElectricityBill\",\"CollectedAmt\",\"AverageBillingAmt\",\"AverageCollectedAmt\"], axis=1)\n",
    "Y = data[\"Label\"]\n",
    "XV =  data_validation.drop([\"HasID\",\"CollectionRatio\",\"DebtBillingRatio\",\"TotalElectricityBill\",\"CollectedAmt\",\"AverageBillingAmt\",\"AverageCollectedAmt\"], axis=1)\n",
    "\"\"\"\n",
    "\n",
    "X = data.drop([\"Label\",\"HasID\",\"TotalElectricityBill\",\"CollectedAmt\"], axis=1)\n",
    "Y = data[\"Label\"]\n",
    "XV =  data_validation.drop([\"HasID\",\"TotalElectricityBill\",\"CollectedAmt\"], axis=1)\n",
    "\n",
    "\"\"\"\n",
    "X = data.drop([\"Label\",\"TotalElectricityBill\",\"CollectedAmt\",\"AverageCollectedAmt\",\"CollectionRatio\",\"DebtAmt\"], axis=1)\n",
    "Y = data[\"Label\"]\n",
    "XV =  data_validation.drop([\"TotalElectricityBill\",\"CollectedAmt\",\"AverageCollectedAmt\",\"CollectionRatio\",\"DebtAmt\"], axis=1)\n",
    "\"\"\"\n",
    "\n",
    "\n",
    "print(f'X shape before one hot encoding {X.shape}')\n",
    "print(f'XV shape before one hot encoding {XV.shape}')\n",
    "\n",
    "\n",
    "plt.figure(figsize=(18, 10))\n",
    "sns.heatmap(X.corr(), annot=True, vmin=-1, vmax=1, fmt=\".2f\", cmap=\"Spectral\").set_title(\"Complete Data Correlation\")\n",
    "plt.show()\n"
   ]
  },
  {
   "cell_type": "code",
   "execution_count": 27,
   "metadata": {},
   "outputs": [
    {
     "name": "stdout",
     "output_type": "stream",
     "text": [
      "X shape after one hot encoding (100, 115)\n",
      "XV shape after one hot encoding (100, 115)\n"
     ]
    }
   ],
   "source": [
    "\n",
    "# creating dummy variables\n",
    "X = pd.get_dummies(X, drop_first=True)\n",
    "XV = pd.get_dummies(XV, drop_first=True)\n",
    "print(f'X shape after one hot encoding {X.shape}')\n",
    "print(f'XV shape after one hot encoding {XV.shape}')"
   ]
  },
  {
   "cell_type": "code",
   "execution_count": null,
   "metadata": {
    "id": "Wlu5pvxosiF-"
   },
   "outputs": [],
   "source": []
  },
  {
   "cell_type": "code",
   "execution_count": 28,
   "metadata": {
    "id": "y3kTqL5ks79e"
   },
   "outputs": [],
   "source": [
    "# import train_test_split library\n",
    "\n",
    "from sklearn.model_selection import train_test_split"
   ]
  },
  {
   "cell_type": "code",
   "execution_count": 29,
   "metadata": {
    "colab": {
     "base_uri": "https://localhost:8080/"
    },
    "id": "DDRO-RsUs-uE",
    "outputId": "855701dd-adea-4b78-d867-f60a93db7ab8"
   },
   "outputs": [
    {
     "name": "stdout",
     "output_type": "stream",
     "text": [
      "Number of rows in train data = 70\n",
      "Number of rows in test data = 30\n",
      "\n",
      "Percentage of classes in training set\n",
      "0    55.714286\n",
      "1    44.285714\n",
      "Name: Label, dtype: float64\n",
      "\n",
      "Percentage of classes in test set\n",
      "0    66.666667\n",
      "1    33.333333\n",
      "Name: Label, dtype: float64\n",
      "\n"
     ]
    }
   ],
   "source": [
    "# splitting in training and test set\n",
    "\"\"\"\n",
    "X_train, X_test, y_train, y_test = train_test_split(\n",
    "    X.head(10000), Y.head(10000), test_size=0.3, random_state=101\n",
    ")\n",
    "\"\"\"\n",
    "X_train, X_test, y_train, y_test = train_test_split(\n",
    "    X, Y, test_size=0.3, random_state=101\n",
    ")\n",
    "\n",
    "print(\"Number of rows in train data =\", X_train.shape[0])\n",
    "print(\"Number of rows in test data =\", X_test.shape[0])\n",
    "print()\n",
    "print(\"Percentage of classes in training set\")\n",
    "print(y_train.value_counts(normalize=True) * 100)\n",
    "print()\n",
    "print(\"Percentage of classes in test set\")\n",
    "print(y_test.value_counts(normalize=True) * 100)\n",
    "\n",
    "print()\n"
   ]
  },
  {
   "cell_type": "code",
   "execution_count": null,
   "metadata": {
    "id": "xd8RClTnekGq"
   },
   "outputs": [],
   "source": []
  },
  {
   "cell_type": "code",
   "execution_count": null,
   "metadata": {
    "id": "VUb-UIOqFx7b"
   },
   "outputs": [],
   "source": []
  },
  {
   "cell_type": "code",
   "execution_count": 30,
   "metadata": {
    "id": "psJPlncWtj21"
   },
   "outputs": [],
   "source": [
    "# defining a function to compute different metrics to check performance of a classification model built using sklearn\n",
    "def model_performance_classification(name, model):\n",
    "    \"\"\"\n",
    "    Function to compute different metrics to check classification model performance\n",
    "\n",
    "    model: classifier\n",
    "    predictors: independent variables\n",
    "    target: dependent variable\n",
    "    \"\"\"\n",
    "\n",
    "    print(f\"Model '{name}' performance \\n\\n\")\n",
    "\n",
    "    predictors_train = X_train\n",
    "    target_train = y_train\n",
    "\n",
    "    predictors_test = X_test\n",
    "    target_test = y_test\n",
    "\n",
    "    # predicting training data using the independent variables\n",
    "    pred_train = model.predict(predictors_train)\n",
    "\n",
    "    acc_train = accuracy_score(target_train, pred_train)  # to compute Accuracy\n",
    "    recall_train = recall_score(target_train, pred_train)  # to compute Recall\n",
    "    precision_train = precision_score(target_train, pred_train)  # to compute Precision\n",
    "    f1_train = f1_score(target_train, pred_train)  # to compute F1-score\n",
    "    roc_train = roc_auc_score(target_train, pred_train)  # to compute ROC AUC\n",
    "\n",
    "    # predicting test data using the independent variables\n",
    "    pred_test = model.predict(predictors_test)\n",
    "\n",
    "    acc_test = accuracy_score(target_test, pred_test)  # to compute Accuracy\n",
    "    recall_test = recall_score(target_test, pred_test)  # to compute Recall\n",
    "    precision_test = precision_score(target_test, pred_test)  # to compute Precision\n",
    "    f1_test = f1_score(target_test, pred_test)  # to compute F1-score\n",
    "    roc_test = roc_auc_score(target_test, pred_test)  # to compute ROC AUC\n",
    "\n",
    "    # creating a dataframe of metrics\n",
    "    df_perf = pd.DataFrame(\n",
    "        [\n",
    "            {\n",
    "                \"Model\": name,\n",
    "                \"Data\":\"Training\",\n",
    "                \"Recall\": np.round_(recall_train * 100, decimals=3),\n",
    "                \"F1-Score\": np.round_(f1_train * 100, decimals=3),\n",
    "                \"Accuracy\": np.round_(acc_train * 100, decimals=3),\n",
    "                \"Precision\": np.round_(precision_train * 100, decimals=3),\n",
    "                \"ROC-AUC\": np.round_(roc_train * 100, decimals=3),\n",
    "            },{  \"Model\": name,\n",
    "                \"Data\":\"Test\",\n",
    "                \"Recall\": np.round_(recall_test * 100, decimals=3),\n",
    "                \"F1-Score\": np.round_(f1_test * 100, decimals=3),\n",
    "                \"Accuracy\": np.round_(acc_test * 100, decimals=3),\n",
    "                \"Precision\": np.round_(precision_test * 100, decimals=3),\n",
    "                \"ROC-AUC\": np.round_(roc_test * 100, decimals=3),\n",
    "            },\n",
    "        ]\n",
    "    )\n",
    "    return df_perf\n"
   ]
  },
  {
   "cell_type": "code",
   "execution_count": 31,
   "metadata": {
    "id": "WwUjKz4RtnAR"
   },
   "outputs": [],
   "source": [
    "def confusion_matrix_classification(name, model):\n",
    "    \"\"\"\n",
    "    To plot the confusion_matrix with percentages\n",
    "\n",
    "    model: classifier\n",
    "    predictors: independent variables\n",
    "    target: dependent variable\n",
    "    \"\"\"\n",
    "    sns.set_context(\n",
    "        \"paper\", rc={\"font.size\": 14, \"axes.titlesize\": 14, \"axes.labelsize\": 14}\n",
    "    )\n",
    "    print(f\"Model '{name}' confusion matrix \\n\\n\")\n",
    "\n",
    "    predictors_train = X_train\n",
    "    target_train = y_train\n",
    "\n",
    "    predictors_test = X_test\n",
    "    target_test = y_test\n",
    "    predictors_output = X_test.copy()\n",
    "\n",
    "    y_pred_train = model.predict(predictors_train)\n",
    "    y_pred_test = model.predict(predictors_test)\n",
    "\n",
    "    cm_train = confusion_matrix(target_train, y_pred_train)\n",
    "    cm_test = confusion_matrix(target_test, y_pred_test)\n",
    "\n",
    "    predictors_output['Orig'] = target_test\n",
    "    predictors_output['Model'] = y_pred_test\n",
    "\n",
    "    plt.rcParams[\"figure.figsize\"] = [12, 6]\n",
    "    plt.rcParams[\"figure.autolayout\"] = True\n",
    "\n",
    "    f, axes = plt.subplots(1, 2)\n",
    "\n",
    "    labels = np.asarray(\n",
    "        [\n",
    "            [\n",
    "                \"{0:0.0f}\".format(item)\n",
    "                + \"\\n{0:.2%}\".format(item / cm_train.flatten().sum())\n",
    "            ]\n",
    "            for item in cm_train.flatten()\n",
    "        ]\n",
    "    ).reshape(2, 2)\n",
    "\n",
    "    labels_test = np.asarray(\n",
    "        [\n",
    "            [\n",
    "                \"{0:0.0f}\".format(item)\n",
    "                + \"\\n{0:.2%}\".format(item / cm_test.flatten().sum())\n",
    "            ]\n",
    "            for item in cm_test.flatten()\n",
    "        ]\n",
    "    ).reshape(2, 2)\n",
    "\n",
    "    g = sns.heatmap(cm_train, annot=labels, fmt=\"\", ax=axes[0])\n",
    "    g.set(xlabel=\"True label\", ylabel=\"Predicted label\", title=\"Training Data\")\n",
    "\n",
    "    g1 = sns.heatmap(cm_test, annot=labels_test, fmt=\"\", ax=axes[1])\n",
    "    g1.set(xlabel=\"True label\", ylabel=\"Predicted label\", title=\"Test Data\")\n",
    "\n",
    "\n",
    "    ret_elements = predictors_output[predictors_output[\"Orig\"] != predictors_output[\"Model\"]];\n",
    "    return ret_elements\n",
    "\n"
   ]
  },
  {
   "cell_type": "markdown",
   "metadata": {
    "id": "rpMcaxGmtKb2"
   },
   "source": [
    "# Model building"
   ]
  },
  {
   "cell_type": "code",
   "execution_count": 32,
   "metadata": {
    "id": "pipUlJo9tL3L"
   },
   "outputs": [],
   "source": [
    "# import libraries\n",
    "from sklearn.linear_model import LogisticRegression\n",
    "\n",
    "# Libraries to build decision tree classifier\n",
    "from sklearn.tree import DecisionTreeClassifier\n",
    "from sklearn import tree\n",
    "\n",
    "# To tune different models\n",
    "from sklearn.model_selection import GridSearchCV\n",
    "\n",
    "\n",
    "# To build model for prediction\n",
    "from sklearn.metrics import (\n",
    "    f1_score,\n",
    "    accuracy_score,\n",
    "    recall_score,\n",
    "    precision_score,\n",
    "    confusion_matrix,\n",
    "    roc_auc_score,\n",
    "    plot_confusion_matrix,\n",
    "    precision_recall_curve,\n",
    "    roc_curve,\n",
    "    make_scorer,\n",
    ")"
   ]
  },
  {
   "cell_type": "code",
   "execution_count": null,
   "metadata": {
    "id": "4FZSJkxutRs4"
   },
   "outputs": [],
   "source": []
  },
  {
   "cell_type": "code",
   "execution_count": null,
   "metadata": {
    "colab": {
     "base_uri": "https://localhost:8080/",
     "height": 162
    },
    "id": "vmCR3MuctuZe",
    "outputId": "8aa65154-3f52-4a01-84ca-500ae4d37e1b"
   },
   "outputs": [],
   "source": []
  },
  {
   "cell_type": "markdown",
   "metadata": {
    "colab": {
     "base_uri": "https://localhost:8080/",
     "height": 1000
    },
    "id": "045qWd_ot5h0",
    "outputId": "09ce02fd-befe-49b3-ada1-02b8bf8adf45"
   },
   "source": [
    "### Creating Functions to create output files"
   ]
  },
  {
   "cell_type": "code",
   "execution_count": 33,
   "metadata": {
    "colab": {
     "base_uri": "https://localhost:8080/",
     "height": 1000
    },
    "id": "OSlq7-Beu6N0",
    "outputId": "e4f14070-816a-415d-fe1e-76611c9aa790"
   },
   "outputs": [],
   "source": [
    "## Generate Validation output \n",
    "\n",
    "def create_validation_output(model,output_file_name):\n",
    "    print(f\"generate output size : {XV.shape}\")\n",
    "    print()\n",
    "    debt_test1 = debt_test.copy()\n",
    "    debt_test1['Label'] = model.predict(XV)\n",
    "    debt_test1[[\"AccID\",\"Label\"]].to_csv('output/'+output_file_name,index=False)\n",
    "    #from google.colab import files\n",
    "    #files.download(output_file_name)\n",
    "    print( debt_test1['Label'].value_counts(normalize=True) * 100)\n",
    "    print()\n",
    "    "
   ]
  },
  {
   "cell_type": "code",
   "execution_count": 34,
   "metadata": {
    "colab": {
     "base_uri": "https://localhost:8080/"
    },
    "id": "zpenUcPcuqLj",
    "outputId": "261cf148-deee-4a2d-9531-561012691a38"
   },
   "outputs": [
    {
     "data": {
      "text/plain": [
       "DecisionTreeClassifier(random_state=1)"
      ]
     },
     "execution_count": 34,
     "metadata": {},
     "output_type": "execute_result"
    }
   ],
   "source": [
    "modelDM1 = DecisionTreeClassifier(criterion=\"gini\", random_state=1)\n",
    "modelDM1.fit(X_train, y_train)"
   ]
  },
  {
   "cell_type": "code",
   "execution_count": 35,
   "metadata": {
    "colab": {
     "base_uri": "https://localhost:8080/",
     "height": 162
    },
    "id": "SAbjDt6Lu0Al",
    "outputId": "9af7f3cb-5432-444b-9870-f5775b31910d"
   },
   "outputs": [
    {
     "name": "stdout",
     "output_type": "stream",
     "text": [
      "Model 'Default Decision Tree Classifier' performance \n",
      "\n",
      "\n"
     ]
    },
    {
     "data": {
      "text/html": [
       "<div>\n",
       "<style scoped>\n",
       "    .dataframe tbody tr th:only-of-type {\n",
       "        vertical-align: middle;\n",
       "    }\n",
       "\n",
       "    .dataframe tbody tr th {\n",
       "        vertical-align: top;\n",
       "    }\n",
       "\n",
       "    .dataframe thead th {\n",
       "        text-align: right;\n",
       "    }\n",
       "</style>\n",
       "<table border=\"1\" class=\"dataframe\">\n",
       "  <thead>\n",
       "    <tr style=\"text-align: right;\">\n",
       "      <th></th>\n",
       "      <th>Model</th>\n",
       "      <th>Data</th>\n",
       "      <th>Recall</th>\n",
       "      <th>F1-Score</th>\n",
       "      <th>Accuracy</th>\n",
       "      <th>Precision</th>\n",
       "      <th>ROC-AUC</th>\n",
       "    </tr>\n",
       "  </thead>\n",
       "  <tbody>\n",
       "    <tr>\n",
       "      <th>0</th>\n",
       "      <td>Default Decision Tree Classifier</td>\n",
       "      <td>Training</td>\n",
       "      <td>100.0</td>\n",
       "      <td>100.0</td>\n",
       "      <td>100.0</td>\n",
       "      <td>100.0</td>\n",
       "      <td>100.0</td>\n",
       "    </tr>\n",
       "    <tr>\n",
       "      <th>1</th>\n",
       "      <td>Default Decision Tree Classifier</td>\n",
       "      <td>Test</td>\n",
       "      <td>100.0</td>\n",
       "      <td>100.0</td>\n",
       "      <td>100.0</td>\n",
       "      <td>100.0</td>\n",
       "      <td>100.0</td>\n",
       "    </tr>\n",
       "  </tbody>\n",
       "</table>\n",
       "</div>"
      ],
      "text/plain": [
       "                              Model      Data  Recall  F1-Score  Accuracy  \\\n",
       "0  Default Decision Tree Classifier  Training   100.0     100.0     100.0   \n",
       "1  Default Decision Tree Classifier      Test   100.0     100.0     100.0   \n",
       "\n",
       "   Precision  ROC-AUC  \n",
       "0      100.0    100.0  \n",
       "1      100.0    100.0  "
      ]
     },
     "execution_count": 35,
     "metadata": {},
     "output_type": "execute_result"
    }
   ],
   "source": [
    "dec_tree_model_perf = model_performance_classification(\"Default Decision Tree Classifier\", modelDM1)\n",
    "dec_tree_model_perf"
   ]
  },
  {
   "cell_type": "code",
   "execution_count": 36,
   "metadata": {},
   "outputs": [
    {
     "name": "stdout",
     "output_type": "stream",
     "text": [
      "Model 'Default Decision Tree Classifier' confusion matrix \n",
      "\n",
      "\n"
     ]
    },
    {
     "data": {
      "text/html": [
       "<div>\n",
       "<style scoped>\n",
       "    .dataframe tbody tr th:only-of-type {\n",
       "        vertical-align: middle;\n",
       "    }\n",
       "\n",
       "    .dataframe tbody tr th {\n",
       "        vertical-align: top;\n",
       "    }\n",
       "\n",
       "    .dataframe thead th {\n",
       "        text-align: right;\n",
       "    }\n",
       "</style>\n",
       "<table border=\"1\" class=\"dataframe\">\n",
       "  <thead>\n",
       "    <tr style=\"text-align: right;\">\n",
       "      <th></th>\n",
       "      <th>CategoryID</th>\n",
       "      <th>Value</th>\n",
       "      <th>PropertySize</th>\n",
       "      <th>BillingAmt</th>\n",
       "      <th>AverageBillingAmt</th>\n",
       "      <th>AverageCollectedAmt</th>\n",
       "      <th>DebtAmt</th>\n",
       "      <th>WriteOffAmt</th>\n",
       "      <th>CollectionRatio</th>\n",
       "      <th>DebtBillingRatio</th>\n",
       "      <th>AccID_0be33765-977c-4cc5-952d-22c79bf15885</th>\n",
       "      <th>AccID_0dcd58f2-e378-4693-9983-2c8d323c14d1</th>\n",
       "      <th>AccID_1713ba39-b275-4966-9a50-dfef7989ac0c</th>\n",
       "      <th>AccID_1a7d99d9-f7b8-4c6a-955c-5c3dcfb420d9</th>\n",
       "      <th>AccID_1c3c8691-d001-4096-81cf-a6f7b6cc9ad5</th>\n",
       "      <th>AccID_1c53c861-e605-47f7-b854-c616a4d4fa04</th>\n",
       "      <th>AccID_1e0363e4-2029-4b62-a9ec-d909cee000cb</th>\n",
       "      <th>AccID_1e2e1ad6-d9d9-4f04-b078-0f638934eb7f</th>\n",
       "      <th>AccID_202cb612-360d-408f-9dc2-6d1d16c414a3</th>\n",
       "      <th>AccID_2519ff14-cba8-4a6f-b4ec-6cdff029e4eb</th>\n",
       "      <th>AccID_2829148f-d9bb-42f1-912a-667dbea68905</th>\n",
       "      <th>AccID_29eed6fe-2ea7-4b76-9ae7-81679ca9bc74</th>\n",
       "      <th>AccID_2cb03547-3071-4588-a939-ed5a56fe3d9a</th>\n",
       "      <th>AccID_2ce144d4-2889-4ba8-ac7f-0a8286b2d5b8</th>\n",
       "      <th>AccID_2f05be78-29eb-4789-8073-3a7cfafbca32</th>\n",
       "      <th>AccID_316a00e6-3afe-449a-8284-3249f45f1adf</th>\n",
       "      <th>AccID_3acdcf91-840d-436b-ae85-9ba45a61e8be</th>\n",
       "      <th>AccID_40536c2d-c0a2-4486-b0aa-60b36dfa290a</th>\n",
       "      <th>AccID_4627404e-694a-4f94-b600-98f32a4b0a49</th>\n",
       "      <th>AccID_4720b209-7cb8-46af-9b74-879f21280053</th>\n",
       "      <th>AccID_4b781bbe-6833-485c-9d2d-13f02a4c0982</th>\n",
       "      <th>AccID_4cfc1ad0-5d41-4bad-a7bd-e377e0e59147</th>\n",
       "      <th>AccID_4f0f480f-79ee-4ebf-9a8d-5f79b19f828f</th>\n",
       "      <th>AccID_4f909ad4-e163-4c09-b6ad-2c4a807f9899</th>\n",
       "      <th>AccID_52918596-7cfb-43fb-a1d8-92f149dfdf91</th>\n",
       "      <th>AccID_52a2254d-44e5-4dc9-8e08-1b135096172c</th>\n",
       "      <th>AccID_532e1d1c-60e4-49cf-a36b-40e4683920b6</th>\n",
       "      <th>AccID_558849fd-916e-4c70-a45b-345c7625a05a</th>\n",
       "      <th>AccID_5a180005-96d7-4ae7-ae0c-efe00731cf66</th>\n",
       "      <th>AccID_5b47579d-a965-415b-8eac-1565dd327839</th>\n",
       "      <th>AccID_5e1bf25f-aaa9-44cf-b80d-94afd426cd42</th>\n",
       "      <th>AccID_612a1712-fdfa-48f7-a12c-12fc58972e8a</th>\n",
       "      <th>AccID_613516cf-f200-455e-9d7a-4892d82a0f7a</th>\n",
       "      <th>AccID_623a8f9a-77c9-4937-b4bf-0e83884c34df</th>\n",
       "      <th>AccID_634301de-76a4-4b02-a352-f2b16b070d1d</th>\n",
       "      <th>AccID_64cba6dd-0a1e-490e-a0d1-a412a2e4967d</th>\n",
       "      <th>AccID_65cbf79d-d24a-4a61-8b18-a1815d501bec</th>\n",
       "      <th>AccID_675a463b-2c11-4be8-9b76-09b0622bf8ed</th>\n",
       "      <th>AccID_6876252d-4e1e-4458-9794-db445282d226</th>\n",
       "      <th>AccID_6d0f2bbe-3971-427d-b185-05b43485a3af</th>\n",
       "      <th>AccID_6d7359c8-f43b-4149-9087-730e53b2bd1d</th>\n",
       "      <th>AccID_7350b72f-a310-4d6f-b48f-d1369538be9d</th>\n",
       "      <th>AccID_7417b04d-4382-4601-9229-ad6b8dcab5b7</th>\n",
       "      <th>AccID_7418446a-555f-4ae2-8a6f-acad011769eb</th>\n",
       "      <th>AccID_746153fe-b73e-4a19-8b8a-808f17e11341</th>\n",
       "      <th>AccID_80707e33-72d5-49fd-a415-0818a2d44e04</th>\n",
       "      <th>AccID_84a8ffd4-83be-4406-98e1-592759400fe1</th>\n",
       "      <th>AccID_85e7f06a-790a-4a2d-90c7-30eb79f275f9</th>\n",
       "      <th>AccID_8907e763-7949-4a26-b1e6-193d7b6b49e3</th>\n",
       "      <th>AccID_8b866cac-39ad-4369-b27b-628394842bc7</th>\n",
       "      <th>AccID_8ce96199-a1ad-4f50-a1c2-5323064b2272</th>\n",
       "      <th>AccID_91cebaca-6bf1-40ac-a3d5-212763802b0f</th>\n",
       "      <th>AccID_95cd5bc4-0e2d-42cc-8d86-60331deb6a08</th>\n",
       "      <th>AccID_95daa45d-3dfd-4c60-aae4-05e78b0de26e</th>\n",
       "      <th>AccID_98e3e35e-2f26-4c2e-aac6-c3c1961d036a</th>\n",
       "      <th>AccID_9afa5f6c-cd1f-4dba-85a1-ced90f9a7e9b</th>\n",
       "      <th>AccID_9d2e4a58-15a7-4c67-9422-793ebad155f6</th>\n",
       "      <th>AccID_a1a81ae2-902e-4474-b136-31b79b5438de</th>\n",
       "      <th>AccID_ad9ade4f-9ac3-41d7-b10e-dfc9cf76b491</th>\n",
       "      <th>AccID_ae78cc6b-8222-47a6-abb5-f962a9ac9787</th>\n",
       "      <th>AccID_ae79949a-4593-4399-ae21-aab5191d0b51</th>\n",
       "      <th>AccID_b0e16d8e-21a5-4b19-92c7-3f2143cb81f8</th>\n",
       "      <th>AccID_b144e5ab-e280-4bcc-a9d9-cd29ffcf0919</th>\n",
       "      <th>AccID_b8e3fb51-f821-4460-9ecc-1cb95c6191f3</th>\n",
       "      <th>AccID_b95029b5-3c6c-4281-9344-1317f07a6c2d</th>\n",
       "      <th>AccID_b9d188dc-3d08-4683-9ebb-6962a4515f67</th>\n",
       "      <th>AccID_bc9e9be5-fdf4-4fe7-90b9-fe631bffbd0e</th>\n",
       "      <th>AccID_bdf8b545-7050-4a5d-aaf7-ecb777857dfd</th>\n",
       "      <th>AccID_c160c61b-bc29-4aca-a7d1-aa267b7dd49c</th>\n",
       "      <th>AccID_c1d11e87-7c74-433a-9aaa-e1cf1d74e7d9</th>\n",
       "      <th>AccID_c3d173de-7b04-438d-ac99-81d13e7070a7</th>\n",
       "      <th>AccID_c6dfe03c-4a2f-4d9d-a8c9-37512f0b1310</th>\n",
       "      <th>AccID_c7c4076d-9222-4cff-88a2-a620f92ba7fc</th>\n",
       "      <th>AccID_c8f5a7fa-4b2b-470f-8ad5-1c367a3c934a</th>\n",
       "      <th>AccID_c9f657bb-7e54-4ea8-863a-0bddb0ca8ca1</th>\n",
       "      <th>AccID_ce4007d8-b1f1-48b7-a5b7-1d2801bb3171</th>\n",
       "      <th>AccID_cf3f598a-e88f-4380-abe1-05b49242d197</th>\n",
       "      <th>AccID_cf661499-f93c-47f2-9e2d-760b7eaf106b</th>\n",
       "      <th>AccID_d1a3216e-b7fc-4d2a-b92a-8600d7cefaa2</th>\n",
       "      <th>AccID_d4dc5e29-1d4c-42ad-bf35-172d42a39b62</th>\n",
       "      <th>AccID_d6aa16ba-e9d3-43f4-acbc-2826b717fbc3</th>\n",
       "      <th>AccID_d88ba925-12d2-45aa-98f6-108edaf3cc76</th>\n",
       "      <th>AccID_d895ca2e-1689-4657-9585-07e0a653c11c</th>\n",
       "      <th>AccID_d9088e21-564d-4fbd-afb7-bf2560a8c0cb</th>\n",
       "      <th>AccID_da71d8cc-f281-4ba2-86f7-041c9b3fd676</th>\n",
       "      <th>AccID_deb1da75-fd5e-40fd-9b85-a0c93ddf1b51</th>\n",
       "      <th>AccID_e2e059ce-f835-4e50-a886-7939d204608c</th>\n",
       "      <th>AccID_e31dee63-7cff-423d-95c3-c65d42e51f32</th>\n",
       "      <th>AccID_e5f86e60-725c-4c47-a21f-7b7a95de5ed1</th>\n",
       "      <th>AccID_e6582308-8889-4cfe-8989-026b198211f2</th>\n",
       "      <th>AccID_e88500e8-1c2a-4b46-8757-aa017da81a62</th>\n",
       "      <th>AccID_eb80678a-d0e1-48df-9229-fcd9c706874d</th>\n",
       "      <th>AccID_f296c98a-69af-4191-9f21-1fd5bd0de8d4</th>\n",
       "      <th>AccID_f51bdb06-3999-4f01-8807-7613a73f0b5d</th>\n",
       "      <th>AccID_f7f07470-f2ad-4f09-9235-c15fc63d0ee2</th>\n",
       "      <th>AccID_f804d04e-14b9-4de4-87b1-091a4af4c8e8</th>\n",
       "      <th>AccID_f8984e3d-a6bb-48ca-9209-a44dcccf91d4</th>\n",
       "      <th>AccID_f8aa6a4c-92f0-4d32-ae42-1173ffe65bca</th>\n",
       "      <th>AccID_fa608937-a464-4c3c-8a1e-c6f3f3bcc5d9</th>\n",
       "      <th>Category_Business</th>\n",
       "      <th>Category_Government</th>\n",
       "      <th>Category_Infrastructure</th>\n",
       "      <th>Category_Municipal</th>\n",
       "      <th>Category_Residential</th>\n",
       "      <th>Category_Unknown</th>\n",
       "      <th>Orig</th>\n",
       "      <th>Model</th>\n",
       "    </tr>\n",
       "  </thead>\n",
       "  <tbody>\n",
       "  </tbody>\n",
       "</table>\n",
       "</div>"
      ],
      "text/plain": [
       "Empty DataFrame\n",
       "Columns: [CategoryID, Value, PropertySize, BillingAmt, AverageBillingAmt, AverageCollectedAmt, DebtAmt, WriteOffAmt, CollectionRatio, DebtBillingRatio, AccID_0be33765-977c-4cc5-952d-22c79bf15885, AccID_0dcd58f2-e378-4693-9983-2c8d323c14d1, AccID_1713ba39-b275-4966-9a50-dfef7989ac0c, AccID_1a7d99d9-f7b8-4c6a-955c-5c3dcfb420d9, AccID_1c3c8691-d001-4096-81cf-a6f7b6cc9ad5, AccID_1c53c861-e605-47f7-b854-c616a4d4fa04, AccID_1e0363e4-2029-4b62-a9ec-d909cee000cb, AccID_1e2e1ad6-d9d9-4f04-b078-0f638934eb7f, AccID_202cb612-360d-408f-9dc2-6d1d16c414a3, AccID_2519ff14-cba8-4a6f-b4ec-6cdff029e4eb, AccID_2829148f-d9bb-42f1-912a-667dbea68905, AccID_29eed6fe-2ea7-4b76-9ae7-81679ca9bc74, AccID_2cb03547-3071-4588-a939-ed5a56fe3d9a, AccID_2ce144d4-2889-4ba8-ac7f-0a8286b2d5b8, AccID_2f05be78-29eb-4789-8073-3a7cfafbca32, AccID_316a00e6-3afe-449a-8284-3249f45f1adf, AccID_3acdcf91-840d-436b-ae85-9ba45a61e8be, AccID_40536c2d-c0a2-4486-b0aa-60b36dfa290a, AccID_4627404e-694a-4f94-b600-98f32a4b0a49, AccID_4720b209-7cb8-46af-9b74-879f21280053, AccID_4b781bbe-6833-485c-9d2d-13f02a4c0982, AccID_4cfc1ad0-5d41-4bad-a7bd-e377e0e59147, AccID_4f0f480f-79ee-4ebf-9a8d-5f79b19f828f, AccID_4f909ad4-e163-4c09-b6ad-2c4a807f9899, AccID_52918596-7cfb-43fb-a1d8-92f149dfdf91, AccID_52a2254d-44e5-4dc9-8e08-1b135096172c, AccID_532e1d1c-60e4-49cf-a36b-40e4683920b6, AccID_558849fd-916e-4c70-a45b-345c7625a05a, AccID_5a180005-96d7-4ae7-ae0c-efe00731cf66, AccID_5b47579d-a965-415b-8eac-1565dd327839, AccID_5e1bf25f-aaa9-44cf-b80d-94afd426cd42, AccID_612a1712-fdfa-48f7-a12c-12fc58972e8a, AccID_613516cf-f200-455e-9d7a-4892d82a0f7a, AccID_623a8f9a-77c9-4937-b4bf-0e83884c34df, AccID_634301de-76a4-4b02-a352-f2b16b070d1d, AccID_64cba6dd-0a1e-490e-a0d1-a412a2e4967d, AccID_65cbf79d-d24a-4a61-8b18-a1815d501bec, AccID_675a463b-2c11-4be8-9b76-09b0622bf8ed, AccID_6876252d-4e1e-4458-9794-db445282d226, AccID_6d0f2bbe-3971-427d-b185-05b43485a3af, AccID_6d7359c8-f43b-4149-9087-730e53b2bd1d, AccID_7350b72f-a310-4d6f-b48f-d1369538be9d, AccID_7417b04d-4382-4601-9229-ad6b8dcab5b7, AccID_7418446a-555f-4ae2-8a6f-acad011769eb, AccID_746153fe-b73e-4a19-8b8a-808f17e11341, AccID_80707e33-72d5-49fd-a415-0818a2d44e04, AccID_84a8ffd4-83be-4406-98e1-592759400fe1, AccID_85e7f06a-790a-4a2d-90c7-30eb79f275f9, AccID_8907e763-7949-4a26-b1e6-193d7b6b49e3, AccID_8b866cac-39ad-4369-b27b-628394842bc7, AccID_8ce96199-a1ad-4f50-a1c2-5323064b2272, AccID_91cebaca-6bf1-40ac-a3d5-212763802b0f, AccID_95cd5bc4-0e2d-42cc-8d86-60331deb6a08, AccID_95daa45d-3dfd-4c60-aae4-05e78b0de26e, AccID_98e3e35e-2f26-4c2e-aac6-c3c1961d036a, AccID_9afa5f6c-cd1f-4dba-85a1-ced90f9a7e9b, AccID_9d2e4a58-15a7-4c67-9422-793ebad155f6, AccID_a1a81ae2-902e-4474-b136-31b79b5438de, AccID_ad9ade4f-9ac3-41d7-b10e-dfc9cf76b491, AccID_ae78cc6b-8222-47a6-abb5-f962a9ac9787, AccID_ae79949a-4593-4399-ae21-aab5191d0b51, AccID_b0e16d8e-21a5-4b19-92c7-3f2143cb81f8, AccID_b144e5ab-e280-4bcc-a9d9-cd29ffcf0919, AccID_b8e3fb51-f821-4460-9ecc-1cb95c6191f3, AccID_b95029b5-3c6c-4281-9344-1317f07a6c2d, AccID_b9d188dc-3d08-4683-9ebb-6962a4515f67, AccID_bc9e9be5-fdf4-4fe7-90b9-fe631bffbd0e, AccID_bdf8b545-7050-4a5d-aaf7-ecb777857dfd, AccID_c160c61b-bc29-4aca-a7d1-aa267b7dd49c, AccID_c1d11e87-7c74-433a-9aaa-e1cf1d74e7d9, AccID_c3d173de-7b04-438d-ac99-81d13e7070a7, AccID_c6dfe03c-4a2f-4d9d-a8c9-37512f0b1310, AccID_c7c4076d-9222-4cff-88a2-a620f92ba7fc, AccID_c8f5a7fa-4b2b-470f-8ad5-1c367a3c934a, AccID_c9f657bb-7e54-4ea8-863a-0bddb0ca8ca1, AccID_ce4007d8-b1f1-48b7-a5b7-1d2801bb3171, AccID_cf3f598a-e88f-4380-abe1-05b49242d197, AccID_cf661499-f93c-47f2-9e2d-760b7eaf106b, AccID_d1a3216e-b7fc-4d2a-b92a-8600d7cefaa2, AccID_d4dc5e29-1d4c-42ad-bf35-172d42a39b62, AccID_d6aa16ba-e9d3-43f4-acbc-2826b717fbc3, AccID_d88ba925-12d2-45aa-98f6-108edaf3cc76, AccID_d895ca2e-1689-4657-9585-07e0a653c11c, AccID_d9088e21-564d-4fbd-afb7-bf2560a8c0cb, AccID_da71d8cc-f281-4ba2-86f7-041c9b3fd676, AccID_deb1da75-fd5e-40fd-9b85-a0c93ddf1b51, AccID_e2e059ce-f835-4e50-a886-7939d204608c, AccID_e31dee63-7cff-423d-95c3-c65d42e51f32, AccID_e5f86e60-725c-4c47-a21f-7b7a95de5ed1, AccID_e6582308-8889-4cfe-8989-026b198211f2, ...]\n",
       "Index: []"
      ]
     },
     "execution_count": 36,
     "metadata": {},
     "output_type": "execute_result"
    },
    {
     "data": {
      "image/png": "[encoded data removed]",
      "text/plain": [
       "<Figure size 864x432 with 4 Axes>"
      ]
     },
     "metadata": {
      "needs_background": "light"
     },
     "output_type": "display_data"
    }
   ],
   "source": [
    "confusion_matrix_classification(\"Default Decision Tree Classifier\", modelDM1)"
   ]
  },
  {
   "cell_type": "code",
   "execution_count": 37,
   "metadata": {
    "colab": {
     "base_uri": "https://localhost:8080/",
     "height": 136
    },
    "id": "YmxTHFmAwe0w",
    "outputId": "8de9a21b-6dac-4ce1-d0a6-1805ee697c93"
   },
   "outputs": [
    {
     "name": "stdout",
     "output_type": "stream",
     "text": [
      "generate output size : (100, 115)\n",
      "\n",
      "0    59.0\n",
      "1    41.0\n",
      "Name: Label, dtype: float64\n",
      "\n"
     ]
    }
   ],
   "source": [
    "#generate output\n",
    "create_validation_output(modelDM1,'default_tree_output.csv')"
   ]
  },
  {
   "cell_type": "markdown",
   "metadata": {},
   "source": []
  },
  {
   "cell_type": "code",
   "execution_count": null,
   "metadata": {},
   "outputs": [],
   "source": []
  },
  {
   "cell_type": "code",
   "execution_count": null,
   "metadata": {},
   "outputs": [],
   "source": []
  },
  {
   "cell_type": "code",
   "execution_count": null,
   "metadata": {},
   "outputs": [],
   "source": []
  },
  {
   "cell_type": "code",
   "execution_count": null,
   "metadata": {},
   "outputs": [],
   "source": []
  }
 ],
 "metadata": {
  "colab": {
   "collapsed_sections": [],
   "machine_shape": "hm",
   "name": "Predicting_Bad_Debt_Societies_Regularized_Models.ipynb",
   "provenance": []
  },
  "kernelspec": {
   "display_name": "Python 3",
   "language": "python",
   "name": "python3"
  },
  "language_info": {
   "codemirror_mode": {
    "name": "ipython",
    "version": 3
   },
   "file_extension": ".py",
   "mimetype": "text/x-python",
   "name": "python",
   "nbconvert_exporter": "python",
   "pygments_lexer": "ipython3",
   "version": "3.8.8"
  }
 },
 "nbformat": 4,
 "nbformat_minor": 1
}
