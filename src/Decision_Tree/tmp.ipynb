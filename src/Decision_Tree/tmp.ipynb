{
 "cells": [
  {
   "cell_type": "code",
   "execution_count": 1,
   "id": "fd2c188d",
   "metadata": {},
   "outputs": [
    {
     "data": {
      "application/javascript": [
       "\n",
       "            setTimeout(function() {\n",
       "                var nbb_cell_id = 1;\n",
       "                var nbb_unformatted_code = \"# this will help in making the Python code more structured automatically (good coding practice)\\n%load_ext nb_black\\n\\n# Library to suppress warnings or deprecation notes\\nimport warnings\\n\\nwarnings.filterwarnings(\\\"ignore\\\")\\n\\n# Libraries to help with reading and manipulating data\\n\\nimport pandas as pd\\nimport numpy as np\\n\\n# Library to split data\\nfrom sklearn.model_selection import train_test_split\\n\\n# libaries to help with data visualization\\nimport matplotlib.pyplot as plt\\nimport seaborn as sns\\n\\n# Removes the limit for the number of displayed columns\\npd.set_option(\\\"display.max_columns\\\", None)\\n# Sets the limit for the number of displayed rows\\npd.set_option(\\\"display.max_rows\\\", 200)\\n\\n# Libraries to build decision tree classifier\\nfrom sklearn.tree import DecisionTreeClassifier\\nfrom sklearn import tree\\n\\n# To tune different models\\nfrom sklearn.model_selection import GridSearchCV\\n\\n# To get diferent metric scores\\nfrom sklearn.metrics import (\\n    f1_score,\\n    accuracy_score,\\n    recall_score,\\n    precision_score,\\n    confusion_matrix,\\n    plot_confusion_matrix,\\n    make_scorer,\\n)\";\n",
       "                var nbb_formatted_code = \"# this will help in making the Python code more structured automatically (good coding practice)\\n%load_ext nb_black\\n\\n# Library to suppress warnings or deprecation notes\\nimport warnings\\n\\nwarnings.filterwarnings(\\\"ignore\\\")\\n\\n# Libraries to help with reading and manipulating data\\n\\nimport pandas as pd\\nimport numpy as np\\n\\n# Library to split data\\nfrom sklearn.model_selection import train_test_split\\n\\n# libaries to help with data visualization\\nimport matplotlib.pyplot as plt\\nimport seaborn as sns\\n\\n# Removes the limit for the number of displayed columns\\npd.set_option(\\\"display.max_columns\\\", None)\\n# Sets the limit for the number of displayed rows\\npd.set_option(\\\"display.max_rows\\\", 200)\\n\\n# Libraries to build decision tree classifier\\nfrom sklearn.tree import DecisionTreeClassifier\\nfrom sklearn import tree\\n\\n# To tune different models\\nfrom sklearn.model_selection import GridSearchCV\\n\\n# To get diferent metric scores\\nfrom sklearn.metrics import (\\n    f1_score,\\n    accuracy_score,\\n    recall_score,\\n    precision_score,\\n    confusion_matrix,\\n    plot_confusion_matrix,\\n    make_scorer,\\n)\";\n",
       "                var nbb_cells = Jupyter.notebook.get_cells();\n",
       "                for (var i = 0; i < nbb_cells.length; ++i) {\n",
       "                    if (nbb_cells[i].input_prompt_number == nbb_cell_id) {\n",
       "                        if (nbb_cells[i].get_text() == nbb_unformatted_code) {\n",
       "                             nbb_cells[i].set_text(nbb_formatted_code);\n",
       "                        }\n",
       "                        break;\n",
       "                    }\n",
       "                }\n",
       "            }, 500);\n",
       "            "
      ],
      "text/plain": [
       "<IPython.core.display.Javascript object>"
      ]
     },
     "metadata": {},
     "output_type": "display_data"
    }
   ],
   "source": [
    "# this will help in making the Python code more structured automatically (good coding practice)\n",
    "%load_ext nb_black\n",
    "\n",
    "# Library to suppress warnings or deprecation notes\n",
    "import warnings\n",
    "\n",
    "warnings.filterwarnings(\"ignore\")\n",
    "\n",
    "# Libraries to help with reading and manipulating data\n",
    "\n",
    "import pandas as pd\n",
    "import numpy as np\n",
    "\n",
    "# Library to split data\n",
    "from sklearn.model_selection import train_test_split\n",
    "\n",
    "# libaries to help with data visualization\n",
    "import matplotlib.pyplot as plt\n",
    "import seaborn as sns\n",
    "\n",
    "# Removes the limit for the number of displayed columns\n",
    "pd.set_option(\"display.max_columns\", None)\n",
    "# Sets the limit for the number of displayed rows\n",
    "pd.set_option(\"display.max_rows\", 200)\n",
    "\n",
    "# Libraries to build decision tree classifier\n",
    "from sklearn.tree import DecisionTreeClassifier\n",
    "from sklearn import tree\n",
    "\n",
    "# To tune different models\n",
    "from sklearn.model_selection import GridSearchCV\n",
    "\n",
    "# To get diferent metric scores\n",
    "from sklearn.metrics import (\n",
    "    f1_score,\n",
    "    accuracy_score,\n",
    "    recall_score,\n",
    "    precision_score,\n",
    "    confusion_matrix,\n",
    "    plot_confusion_matrix,\n",
    "    make_scorer,\n",
    ")"
   ]
  },
  {
   "cell_type": "markdown",
   "id": "c4221945",
   "metadata": {},
   "source": [
    "\n",
    "1. Pelvic_incidence: angle between a line perpendicular to the sacral plate at its midpoint and a line connecting this point to the femoral head axis.\n",
    "2. Pelvic tilt: is a position-dependent parameter defined as the angle created by a line running from the sacral endplate midpoint to the center of the bifemoral heads and the vertical axis\n",
    "3. Lumbar_lordosis_angle: is defined by the angle between the upper plane of the L1 lumbar vertebrae and the upper plane of the S1 sacral vertebrae.\n",
    "4. Sacral_slope: is defined as the angle between the horizontal and the sacral plate, and is a critical spinal parameter in the analysis of sagittal balance.\n",
    "5. Pelvic_radius: The distance from the hip axis to the posterior-superior corner of the S1 endplate\n",
    "6. Degree_spondylolisthesis: spondylolisthesis is a forward slip of one vertebra. Spondylolisthesis usually occurs towards the base of your spine in the lumbar area. The degree of spondylolisthesis describes the severity of vertebral body slipped forward.\n",
    "7. Pelvic_slope: is the angle between a vertical line and the CS segment\n",
    "8. Direct_tilt: *No Information*\n",
    "9. Thoracic_slope: thoracic  angle between T1 slope and neck tilt\n",
    "10. Cervical_tilt:n angle formed between the vertical line from the center of T1UEP and the line from the center of T1UEP to the center of the C2 vertebra\n",
    "11. Sacrum_angle: is the angle formed by the true conjugate with the two pieces of the sacrum.\n",
    "12. Scoliosis_slope: Scoliosis is a sideways curvature of the spine it represents the angle formed from the curvature of the spine\n",
    "13. Status:- Normal or Abnormal\n"
   ]
  },
  {
   "cell_type": "code",
   "execution_count": 2,
   "id": "0c933748",
   "metadata": {},
   "outputs": [
    {
     "data": {
      "application/javascript": [
       "\n",
       "            setTimeout(function() {\n",
       "                var nbb_cell_id = 2;\n",
       "                var nbb_unformatted_code = \"data = pd.read_csv(\\\"backpain.csv\\\")\";\n",
       "                var nbb_formatted_code = \"data = pd.read_csv(\\\"backpain.csv\\\")\";\n",
       "                var nbb_cells = Jupyter.notebook.get_cells();\n",
       "                for (var i = 0; i < nbb_cells.length; ++i) {\n",
       "                    if (nbb_cells[i].input_prompt_number == nbb_cell_id) {\n",
       "                        if (nbb_cells[i].get_text() == nbb_unformatted_code) {\n",
       "                             nbb_cells[i].set_text(nbb_formatted_code);\n",
       "                        }\n",
       "                        break;\n",
       "                    }\n",
       "                }\n",
       "            }, 500);\n",
       "            "
      ],
      "text/plain": [
       "<IPython.core.display.Javascript object>"
      ]
     },
     "metadata": {},
     "output_type": "display_data"
    }
   ],
   "source": [
    "data = pd.read_csv(\"backpain.csv\")\n"
   ]
  },
  {
   "cell_type": "code",
   "execution_count": 3,
   "id": "1458403f",
   "metadata": {},
   "outputs": [
    {
     "data": {
      "text/html": [
       "<div>\n",
       "<style scoped>\n",
       "    .dataframe tbody tr th:only-of-type {\n",
       "        vertical-align: middle;\n",
       "    }\n",
       "\n",
       "    .dataframe tbody tr th {\n",
       "        vertical-align: top;\n",
       "    }\n",
       "\n",
       "    .dataframe thead th {\n",
       "        text-align: right;\n",
       "    }\n",
       "</style>\n",
       "<table border=\"1\" class=\"dataframe\">\n",
       "  <thead>\n",
       "    <tr style=\"text-align: right;\">\n",
       "      <th></th>\n",
       "      <th>pelvic_incidence</th>\n",
       "      <th>pelvic tilt</th>\n",
       "      <th>lumbar_lordosis_angle</th>\n",
       "      <th>sacral_slope</th>\n",
       "      <th>pelvic_radius</th>\n",
       "      <th>degree_spondylolisthesis</th>\n",
       "      <th>pelvic_slope</th>\n",
       "      <th>Direct_tilt</th>\n",
       "      <th>thoracic_slope</th>\n",
       "      <th>cervical_tilt</th>\n",
       "      <th>sacrum_angle</th>\n",
       "      <th>scoliosis_slope</th>\n",
       "      <th>Status</th>\n",
       "    </tr>\n",
       "  </thead>\n",
       "  <tbody>\n",
       "    <tr>\n",
       "      <th>121</th>\n",
       "      <td>83.879941</td>\n",
       "      <td>23.077427</td>\n",
       "      <td>87.141512</td>\n",
       "      <td>60.802514</td>\n",
       "      <td>124.646072</td>\n",
       "      <td>80.555605</td>\n",
       "      <td>0.436933</td>\n",
       "      <td>7.2994</td>\n",
       "      <td>11.1917</td>\n",
       "      <td>16.28150</td>\n",
       "      <td>-8.553212</td>\n",
       "      <td>24.8562</td>\n",
       "      <td>Abnormal</td>\n",
       "    </tr>\n",
       "    <tr>\n",
       "      <th>16</th>\n",
       "      <td>63.834982</td>\n",
       "      <td>20.362507</td>\n",
       "      <td>54.552434</td>\n",
       "      <td>43.472475</td>\n",
       "      <td>112.309491</td>\n",
       "      <td>-0.622527</td>\n",
       "      <td>0.560675</td>\n",
       "      <td>10.7690</td>\n",
       "      <td>16.8116</td>\n",
       "      <td>11.41344</td>\n",
       "      <td>2.676002</td>\n",
       "      <td>17.3859</td>\n",
       "      <td>Abnormal</td>\n",
       "    </tr>\n",
       "    <tr>\n",
       "      <th>208</th>\n",
       "      <td>87.679087</td>\n",
       "      <td>20.365613</td>\n",
       "      <td>93.822416</td>\n",
       "      <td>67.313473</td>\n",
       "      <td>120.944829</td>\n",
       "      <td>76.730629</td>\n",
       "      <td>0.574775</td>\n",
       "      <td>23.8665</td>\n",
       "      <td>13.0473</td>\n",
       "      <td>9.41012</td>\n",
       "      <td>5.212541</td>\n",
       "      <td>28.6308</td>\n",
       "      <td>Abnormal</td>\n",
       "    </tr>\n",
       "    <tr>\n",
       "      <th>226</th>\n",
       "      <td>63.959522</td>\n",
       "      <td>16.060945</td>\n",
       "      <td>63.123736</td>\n",
       "      <td>47.898577</td>\n",
       "      <td>142.360125</td>\n",
       "      <td>6.298971</td>\n",
       "      <td>0.134954</td>\n",
       "      <td>31.7659</td>\n",
       "      <td>10.9570</td>\n",
       "      <td>13.32169</td>\n",
       "      <td>-9.939014</td>\n",
       "      <td>31.3141</td>\n",
       "      <td>Normal</td>\n",
       "    </tr>\n",
       "    <tr>\n",
       "      <th>88</th>\n",
       "      <td>56.605771</td>\n",
       "      <td>16.800200</td>\n",
       "      <td>42.000000</td>\n",
       "      <td>39.805571</td>\n",
       "      <td>127.294522</td>\n",
       "      <td>24.018575</td>\n",
       "      <td>0.793169</td>\n",
       "      <td>19.5456</td>\n",
       "      <td>8.7779</td>\n",
       "      <td>16.40308</td>\n",
       "      <td>-35.287375</td>\n",
       "      <td>31.6243</td>\n",
       "      <td>Abnormal</td>\n",
       "    </tr>\n",
       "    <tr>\n",
       "      <th>163</th>\n",
       "      <td>115.923261</td>\n",
       "      <td>37.515436</td>\n",
       "      <td>76.800000</td>\n",
       "      <td>78.407825</td>\n",
       "      <td>104.698603</td>\n",
       "      <td>81.198927</td>\n",
       "      <td>0.542816</td>\n",
       "      <td>22.3317</td>\n",
       "      <td>8.8519</td>\n",
       "      <td>11.48960</td>\n",
       "      <td>-6.754004</td>\n",
       "      <td>32.5082</td>\n",
       "      <td>Abnormal</td>\n",
       "    </tr>\n",
       "    <tr>\n",
       "      <th>53</th>\n",
       "      <td>30.149936</td>\n",
       "      <td>11.917445</td>\n",
       "      <td>34.000000</td>\n",
       "      <td>18.232491</td>\n",
       "      <td>112.684141</td>\n",
       "      <td>11.463223</td>\n",
       "      <td>0.659772</td>\n",
       "      <td>12.0969</td>\n",
       "      <td>10.7071</td>\n",
       "      <td>16.18484</td>\n",
       "      <td>-4.763914</td>\n",
       "      <td>26.8917</td>\n",
       "      <td>Abnormal</td>\n",
       "    </tr>\n",
       "    <tr>\n",
       "      <th>291</th>\n",
       "      <td>51.079833</td>\n",
       "      <td>14.209935</td>\n",
       "      <td>35.951229</td>\n",
       "      <td>36.869898</td>\n",
       "      <td>115.803711</td>\n",
       "      <td>6.905090</td>\n",
       "      <td>0.705726</td>\n",
       "      <td>24.1378</td>\n",
       "      <td>12.6652</td>\n",
       "      <td>13.92353</td>\n",
       "      <td>-3.478546</td>\n",
       "      <td>28.7425</td>\n",
       "      <td>Normal</td>\n",
       "    </tr>\n",
       "    <tr>\n",
       "      <th>29</th>\n",
       "      <td>66.879211</td>\n",
       "      <td>24.891999</td>\n",
       "      <td>49.278597</td>\n",
       "      <td>41.987212</td>\n",
       "      <td>113.477018</td>\n",
       "      <td>-2.005892</td>\n",
       "      <td>0.677268</td>\n",
       "      <td>12.4271</td>\n",
       "      <td>8.2495</td>\n",
       "      <td>7.58784</td>\n",
       "      <td>-3.963385</td>\n",
       "      <td>27.3587</td>\n",
       "      <td>Abnormal</td>\n",
       "    </tr>\n",
       "    <tr>\n",
       "      <th>254</th>\n",
       "      <td>72.955644</td>\n",
       "      <td>19.576971</td>\n",
       "      <td>61.007071</td>\n",
       "      <td>53.378673</td>\n",
       "      <td>111.234047</td>\n",
       "      <td>0.813491</td>\n",
       "      <td>0.409586</td>\n",
       "      <td>25.4781</td>\n",
       "      <td>12.4063</td>\n",
       "      <td>7.05411</td>\n",
       "      <td>-9.046640</td>\n",
       "      <td>16.8122</td>\n",
       "      <td>Normal</td>\n",
       "    </tr>\n",
       "    <tr>\n",
       "      <th>153</th>\n",
       "      <td>57.286945</td>\n",
       "      <td>15.149350</td>\n",
       "      <td>64.000000</td>\n",
       "      <td>42.137595</td>\n",
       "      <td>116.735387</td>\n",
       "      <td>30.341203</td>\n",
       "      <td>0.431125</td>\n",
       "      <td>22.2530</td>\n",
       "      <td>17.6755</td>\n",
       "      <td>12.20726</td>\n",
       "      <td>-21.986137</td>\n",
       "      <td>23.1484</td>\n",
       "      <td>Abnormal</td>\n",
       "    </tr>\n",
       "    <tr>\n",
       "      <th>58</th>\n",
       "      <td>43.203185</td>\n",
       "      <td>19.663146</td>\n",
       "      <td>35.000000</td>\n",
       "      <td>23.540039</td>\n",
       "      <td>124.846109</td>\n",
       "      <td>-2.919076</td>\n",
       "      <td>0.016747</td>\n",
       "      <td>26.8235</td>\n",
       "      <td>16.2905</td>\n",
       "      <td>14.76132</td>\n",
       "      <td>-24.294191</td>\n",
       "      <td>23.8843</td>\n",
       "      <td>Abnormal</td>\n",
       "    </tr>\n",
       "    <tr>\n",
       "      <th>20</th>\n",
       "      <td>43.922840</td>\n",
       "      <td>14.177959</td>\n",
       "      <td>37.832547</td>\n",
       "      <td>29.744881</td>\n",
       "      <td>134.461016</td>\n",
       "      <td>6.451648</td>\n",
       "      <td>0.280446</td>\n",
       "      <td>12.4719</td>\n",
       "      <td>16.8965</td>\n",
       "      <td>10.32658</td>\n",
       "      <td>-4.986668</td>\n",
       "      <td>22.4667</td>\n",
       "      <td>Abnormal</td>\n",
       "    </tr>\n",
       "    <tr>\n",
       "      <th>295</th>\n",
       "      <td>46.426366</td>\n",
       "      <td>6.620795</td>\n",
       "      <td>48.100000</td>\n",
       "      <td>39.805571</td>\n",
       "      <td>130.350096</td>\n",
       "      <td>2.449382</td>\n",
       "      <td>0.515439</td>\n",
       "      <td>9.1955</td>\n",
       "      <td>10.6369</td>\n",
       "      <td>15.11344</td>\n",
       "      <td>2.963625</td>\n",
       "      <td>23.0719</td>\n",
       "      <td>Normal</td>\n",
       "    </tr>\n",
       "    <tr>\n",
       "      <th>177</th>\n",
       "      <td>80.817771</td>\n",
       "      <td>19.238981</td>\n",
       "      <td>61.642451</td>\n",
       "      <td>61.578791</td>\n",
       "      <td>89.471834</td>\n",
       "      <td>44.167602</td>\n",
       "      <td>0.080968</td>\n",
       "      <td>23.0765</td>\n",
       "      <td>12.6822</td>\n",
       "      <td>11.71401</td>\n",
       "      <td>-32.340192</td>\n",
       "      <td>27.1091</td>\n",
       "      <td>Abnormal</td>\n",
       "    </tr>\n",
       "    <tr>\n",
       "      <th>214</th>\n",
       "      <td>45.701789</td>\n",
       "      <td>10.659859</td>\n",
       "      <td>42.577846</td>\n",
       "      <td>35.041929</td>\n",
       "      <td>130.178314</td>\n",
       "      <td>-3.388910</td>\n",
       "      <td>0.990034</td>\n",
       "      <td>26.6333</td>\n",
       "      <td>18.3694</td>\n",
       "      <td>16.44832</td>\n",
       "      <td>-13.438814</td>\n",
       "      <td>34.2846</td>\n",
       "      <td>Normal</td>\n",
       "    </tr>\n",
       "    <tr>\n",
       "      <th>303</th>\n",
       "      <td>34.382299</td>\n",
       "      <td>2.062683</td>\n",
       "      <td>32.390820</td>\n",
       "      <td>32.319617</td>\n",
       "      <td>128.300199</td>\n",
       "      <td>-3.365516</td>\n",
       "      <td>0.581169</td>\n",
       "      <td>12.0774</td>\n",
       "      <td>16.6255</td>\n",
       "      <td>7.20496</td>\n",
       "      <td>-31.374823</td>\n",
       "      <td>29.5748</td>\n",
       "      <td>Normal</td>\n",
       "    </tr>\n",
       "    <tr>\n",
       "      <th>185</th>\n",
       "      <td>91.468741</td>\n",
       "      <td>24.508177</td>\n",
       "      <td>84.620272</td>\n",
       "      <td>66.960564</td>\n",
       "      <td>117.307897</td>\n",
       "      <td>52.623047</td>\n",
       "      <td>0.560010</td>\n",
       "      <td>13.9263</td>\n",
       "      <td>12.1023</td>\n",
       "      <td>15.45998</td>\n",
       "      <td>-11.179414</td>\n",
       "      <td>30.3160</td>\n",
       "      <td>Abnormal</td>\n",
       "    </tr>\n",
       "    <tr>\n",
       "      <th>175</th>\n",
       "      <td>56.563824</td>\n",
       "      <td>8.961262</td>\n",
       "      <td>52.577846</td>\n",
       "      <td>47.602562</td>\n",
       "      <td>98.777115</td>\n",
       "      <td>50.701873</td>\n",
       "      <td>0.588948</td>\n",
       "      <td>18.1451</td>\n",
       "      <td>13.9634</td>\n",
       "      <td>12.46567</td>\n",
       "      <td>0.744240</td>\n",
       "      <td>32.4471</td>\n",
       "      <td>Abnormal</td>\n",
       "    </tr>\n",
       "    <tr>\n",
       "      <th>198</th>\n",
       "      <td>74.854480</td>\n",
       "      <td>13.909084</td>\n",
       "      <td>62.693259</td>\n",
       "      <td>60.945396</td>\n",
       "      <td>115.208701</td>\n",
       "      <td>33.172255</td>\n",
       "      <td>0.821915</td>\n",
       "      <td>20.4667</td>\n",
       "      <td>9.3510</td>\n",
       "      <td>14.37763</td>\n",
       "      <td>4.230442</td>\n",
       "      <td>39.2266</td>\n",
       "      <td>Abnormal</td>\n",
       "    </tr>\n",
       "    <tr>\n",
       "      <th>33</th>\n",
       "      <td>38.663257</td>\n",
       "      <td>12.986441</td>\n",
       "      <td>40.000000</td>\n",
       "      <td>25.676816</td>\n",
       "      <td>124.914118</td>\n",
       "      <td>2.703008</td>\n",
       "      <td>0.815941</td>\n",
       "      <td>30.2045</td>\n",
       "      <td>7.5284</td>\n",
       "      <td>9.28229</td>\n",
       "      <td>-2.817753</td>\n",
       "      <td>31.5193</td>\n",
       "      <td>Abnormal</td>\n",
       "    </tr>\n",
       "    <tr>\n",
       "      <th>3</th>\n",
       "      <td>69.297008</td>\n",
       "      <td>24.652878</td>\n",
       "      <td>44.311238</td>\n",
       "      <td>44.644130</td>\n",
       "      <td>101.868495</td>\n",
       "      <td>11.211523</td>\n",
       "      <td>0.369345</td>\n",
       "      <td>23.5603</td>\n",
       "      <td>12.7074</td>\n",
       "      <td>11.42447</td>\n",
       "      <td>-30.470246</td>\n",
       "      <td>18.8329</td>\n",
       "      <td>Abnormal</td>\n",
       "    </tr>\n",
       "    <tr>\n",
       "      <th>276</th>\n",
       "      <td>51.325464</td>\n",
       "      <td>13.631223</td>\n",
       "      <td>33.258578</td>\n",
       "      <td>37.694240</td>\n",
       "      <td>131.306122</td>\n",
       "      <td>1.788870</td>\n",
       "      <td>0.417721</td>\n",
       "      <td>29.8852</td>\n",
       "      <td>12.3509</td>\n",
       "      <td>11.99547</td>\n",
       "      <td>-34.927709</td>\n",
       "      <td>19.3766</td>\n",
       "      <td>Normal</td>\n",
       "    </tr>\n",
       "    <tr>\n",
       "      <th>35</th>\n",
       "      <td>31.484218</td>\n",
       "      <td>7.826221</td>\n",
       "      <td>24.284818</td>\n",
       "      <td>23.657997</td>\n",
       "      <td>113.833145</td>\n",
       "      <td>4.393080</td>\n",
       "      <td>0.713153</td>\n",
       "      <td>9.7107</td>\n",
       "      <td>8.1003</td>\n",
       "      <td>11.85555</td>\n",
       "      <td>-26.650369</td>\n",
       "      <td>12.6599</td>\n",
       "      <td>Abnormal</td>\n",
       "    </tr>\n",
       "    <tr>\n",
       "      <th>84</th>\n",
       "      <td>76.326002</td>\n",
       "      <td>42.396204</td>\n",
       "      <td>57.200000</td>\n",
       "      <td>33.929797</td>\n",
       "      <td>124.267007</td>\n",
       "      <td>50.127457</td>\n",
       "      <td>0.583098</td>\n",
       "      <td>33.1635</td>\n",
       "      <td>8.3830</td>\n",
       "      <td>13.75752</td>\n",
       "      <td>-32.106343</td>\n",
       "      <td>18.6868</td>\n",
       "      <td>Abnormal</td>\n",
       "    </tr>\n",
       "    <tr>\n",
       "      <th>197</th>\n",
       "      <td>58.828379</td>\n",
       "      <td>37.577873</td>\n",
       "      <td>125.742385</td>\n",
       "      <td>21.250506</td>\n",
       "      <td>135.629418</td>\n",
       "      <td>117.314683</td>\n",
       "      <td>0.751482</td>\n",
       "      <td>12.6576</td>\n",
       "      <td>15.9381</td>\n",
       "      <td>15.23920</td>\n",
       "      <td>-15.444826</td>\n",
       "      <td>7.2157</td>\n",
       "      <td>Abnormal</td>\n",
       "    </tr>\n",
       "    <tr>\n",
       "      <th>91</th>\n",
       "      <td>70.952728</td>\n",
       "      <td>20.159931</td>\n",
       "      <td>62.859109</td>\n",
       "      <td>50.792797</td>\n",
       "      <td>116.177932</td>\n",
       "      <td>32.522331</td>\n",
       "      <td>0.054843</td>\n",
       "      <td>7.3173</td>\n",
       "      <td>16.3676</td>\n",
       "      <td>12.21365</td>\n",
       "      <td>-5.091336</td>\n",
       "      <td>17.2601</td>\n",
       "      <td>Abnormal</td>\n",
       "    </tr>\n",
       "    <tr>\n",
       "      <th>270</th>\n",
       "      <td>51.311771</td>\n",
       "      <td>8.875541</td>\n",
       "      <td>57.000000</td>\n",
       "      <td>42.436230</td>\n",
       "      <td>126.472258</td>\n",
       "      <td>-2.144044</td>\n",
       "      <td>0.467413</td>\n",
       "      <td>22.7101</td>\n",
       "      <td>10.5134</td>\n",
       "      <td>10.13608</td>\n",
       "      <td>5.738583</td>\n",
       "      <td>36.7874</td>\n",
       "      <td>Normal</td>\n",
       "    </tr>\n",
       "    <tr>\n",
       "      <th>210</th>\n",
       "      <td>38.505273</td>\n",
       "      <td>16.964297</td>\n",
       "      <td>35.112814</td>\n",
       "      <td>21.540976</td>\n",
       "      <td>127.632875</td>\n",
       "      <td>7.986683</td>\n",
       "      <td>0.396364</td>\n",
       "      <td>34.8106</td>\n",
       "      <td>12.7802</td>\n",
       "      <td>15.24996</td>\n",
       "      <td>-28.833891</td>\n",
       "      <td>18.0442</td>\n",
       "      <td>Normal</td>\n",
       "    </tr>\n",
       "    <tr>\n",
       "      <th>256</th>\n",
       "      <td>54.752520</td>\n",
       "      <td>9.752520</td>\n",
       "      <td>48.000000</td>\n",
       "      <td>45.000000</td>\n",
       "      <td>123.037999</td>\n",
       "      <td>8.235294</td>\n",
       "      <td>0.385732</td>\n",
       "      <td>28.1386</td>\n",
       "      <td>14.9326</td>\n",
       "      <td>13.57371</td>\n",
       "      <td>-18.445718</td>\n",
       "      <td>13.8497</td>\n",
       "      <td>Normal</td>\n",
       "    </tr>\n",
       "  </tbody>\n",
       "</table>\n",
       "</div>"
      ],
      "text/plain": [
       "     pelvic_incidence  pelvic tilt  lumbar_lordosis_angle  sacral_slope  \\\n",
       "121         83.879941    23.077427              87.141512     60.802514   \n",
       "16          63.834982    20.362507              54.552434     43.472475   \n",
       "208         87.679087    20.365613              93.822416     67.313473   \n",
       "226         63.959522    16.060945              63.123736     47.898577   \n",
       "88          56.605771    16.800200              42.000000     39.805571   \n",
       "163        115.923261    37.515436              76.800000     78.407825   \n",
       "53          30.149936    11.917445              34.000000     18.232491   \n",
       "291         51.079833    14.209935              35.951229     36.869898   \n",
       "29          66.879211    24.891999              49.278597     41.987212   \n",
       "254         72.955644    19.576971              61.007071     53.378673   \n",
       "153         57.286945    15.149350              64.000000     42.137595   \n",
       "58          43.203185    19.663146              35.000000     23.540039   \n",
       "20          43.922840    14.177959              37.832547     29.744881   \n",
       "295         46.426366     6.620795              48.100000     39.805571   \n",
       "177         80.817771    19.238981              61.642451     61.578791   \n",
       "214         45.701789    10.659859              42.577846     35.041929   \n",
       "303         34.382299     2.062683              32.390820     32.319617   \n",
       "185         91.468741    24.508177              84.620272     66.960564   \n",
       "175         56.563824     8.961262              52.577846     47.602562   \n",
       "198         74.854480    13.909084              62.693259     60.945396   \n",
       "33          38.663257    12.986441              40.000000     25.676816   \n",
       "3           69.297008    24.652878              44.311238     44.644130   \n",
       "276         51.325464    13.631223              33.258578     37.694240   \n",
       "35          31.484218     7.826221              24.284818     23.657997   \n",
       "84          76.326002    42.396204              57.200000     33.929797   \n",
       "197         58.828379    37.577873             125.742385     21.250506   \n",
       "91          70.952728    20.159931              62.859109     50.792797   \n",
       "270         51.311771     8.875541              57.000000     42.436230   \n",
       "210         38.505273    16.964297              35.112814     21.540976   \n",
       "256         54.752520     9.752520              48.000000     45.000000   \n",
       "\n",
       "     pelvic_radius  degree_spondylolisthesis  pelvic_slope  Direct_tilt  \\\n",
       "121     124.646072                 80.555605      0.436933       7.2994   \n",
       "16      112.309491                 -0.622527      0.560675      10.7690   \n",
       "208     120.944829                 76.730629      0.574775      23.8665   \n",
       "226     142.360125                  6.298971      0.134954      31.7659   \n",
       "88      127.294522                 24.018575      0.793169      19.5456   \n",
       "163     104.698603                 81.198927      0.542816      22.3317   \n",
       "53      112.684141                 11.463223      0.659772      12.0969   \n",
       "291     115.803711                  6.905090      0.705726      24.1378   \n",
       "29      113.477018                 -2.005892      0.677268      12.4271   \n",
       "254     111.234047                  0.813491      0.409586      25.4781   \n",
       "153     116.735387                 30.341203      0.431125      22.2530   \n",
       "58      124.846109                 -2.919076      0.016747      26.8235   \n",
       "20      134.461016                  6.451648      0.280446      12.4719   \n",
       "295     130.350096                  2.449382      0.515439       9.1955   \n",
       "177      89.471834                 44.167602      0.080968      23.0765   \n",
       "214     130.178314                 -3.388910      0.990034      26.6333   \n",
       "303     128.300199                 -3.365516      0.581169      12.0774   \n",
       "185     117.307897                 52.623047      0.560010      13.9263   \n",
       "175      98.777115                 50.701873      0.588948      18.1451   \n",
       "198     115.208701                 33.172255      0.821915      20.4667   \n",
       "33      124.914118                  2.703008      0.815941      30.2045   \n",
       "3       101.868495                 11.211523      0.369345      23.5603   \n",
       "276     131.306122                  1.788870      0.417721      29.8852   \n",
       "35      113.833145                  4.393080      0.713153       9.7107   \n",
       "84      124.267007                 50.127457      0.583098      33.1635   \n",
       "197     135.629418                117.314683      0.751482      12.6576   \n",
       "91      116.177932                 32.522331      0.054843       7.3173   \n",
       "270     126.472258                 -2.144044      0.467413      22.7101   \n",
       "210     127.632875                  7.986683      0.396364      34.8106   \n",
       "256     123.037999                  8.235294      0.385732      28.1386   \n",
       "\n",
       "     thoracic_slope  cervical_tilt  sacrum_angle  scoliosis_slope    Status  \n",
       "121         11.1917       16.28150     -8.553212          24.8562  Abnormal  \n",
       "16          16.8116       11.41344      2.676002          17.3859  Abnormal  \n",
       "208         13.0473        9.41012      5.212541          28.6308  Abnormal  \n",
       "226         10.9570       13.32169     -9.939014          31.3141    Normal  \n",
       "88           8.7779       16.40308    -35.287375          31.6243  Abnormal  \n",
       "163          8.8519       11.48960     -6.754004          32.5082  Abnormal  \n",
       "53          10.7071       16.18484     -4.763914          26.8917  Abnormal  \n",
       "291         12.6652       13.92353     -3.478546          28.7425    Normal  \n",
       "29           8.2495        7.58784     -3.963385          27.3587  Abnormal  \n",
       "254         12.4063        7.05411     -9.046640          16.8122    Normal  \n",
       "153         17.6755       12.20726    -21.986137          23.1484  Abnormal  \n",
       "58          16.2905       14.76132    -24.294191          23.8843  Abnormal  \n",
       "20          16.8965       10.32658     -4.986668          22.4667  Abnormal  \n",
       "295         10.6369       15.11344      2.963625          23.0719    Normal  \n",
       "177         12.6822       11.71401    -32.340192          27.1091  Abnormal  \n",
       "214         18.3694       16.44832    -13.438814          34.2846    Normal  \n",
       "303         16.6255        7.20496    -31.374823          29.5748    Normal  \n",
       "185         12.1023       15.45998    -11.179414          30.3160  Abnormal  \n",
       "175         13.9634       12.46567      0.744240          32.4471  Abnormal  \n",
       "198          9.3510       14.37763      4.230442          39.2266  Abnormal  \n",
       "33           7.5284        9.28229     -2.817753          31.5193  Abnormal  \n",
       "3           12.7074       11.42447    -30.470246          18.8329  Abnormal  \n",
       "276         12.3509       11.99547    -34.927709          19.3766    Normal  \n",
       "35           8.1003       11.85555    -26.650369          12.6599  Abnormal  \n",
       "84           8.3830       13.75752    -32.106343          18.6868  Abnormal  \n",
       "197         15.9381       15.23920    -15.444826           7.2157  Abnormal  \n",
       "91          16.3676       12.21365     -5.091336          17.2601  Abnormal  \n",
       "270         10.5134       10.13608      5.738583          36.7874    Normal  \n",
       "210         12.7802       15.24996    -28.833891          18.0442    Normal  \n",
       "256         14.9326       13.57371    -18.445718          13.8497    Normal  "
      ]
     },
     "execution_count": 3,
     "metadata": {},
     "output_type": "execute_result"
    },
    {
     "data": {
      "application/javascript": [
       "\n",
       "            setTimeout(function() {\n",
       "                var nbb_cell_id = 3;\n",
       "                var nbb_unformatted_code = \"data.sample(30)\";\n",
       "                var nbb_formatted_code = \"data.sample(30)\";\n",
       "                var nbb_cells = Jupyter.notebook.get_cells();\n",
       "                for (var i = 0; i < nbb_cells.length; ++i) {\n",
       "                    if (nbb_cells[i].input_prompt_number == nbb_cell_id) {\n",
       "                        if (nbb_cells[i].get_text() == nbb_unformatted_code) {\n",
       "                             nbb_cells[i].set_text(nbb_formatted_code);\n",
       "                        }\n",
       "                        break;\n",
       "                    }\n",
       "                }\n",
       "            }, 500);\n",
       "            "
      ],
      "text/plain": [
       "<IPython.core.display.Javascript object>"
      ]
     },
     "metadata": {},
     "output_type": "display_data"
    }
   ],
   "source": [
    "data.sample(30)"
   ]
  },
  {
   "cell_type": "code",
   "execution_count": 4,
   "id": "69b88276",
   "metadata": {},
   "outputs": [
    {
     "data": {
      "text/plain": [
       "(310, 13)"
      ]
     },
     "execution_count": 4,
     "metadata": {},
     "output_type": "execute_result"
    },
    {
     "data": {
      "application/javascript": [
       "\n",
       "            setTimeout(function() {\n",
       "                var nbb_cell_id = 4;\n",
       "                var nbb_unformatted_code = \"data.shape\";\n",
       "                var nbb_formatted_code = \"data.shape\";\n",
       "                var nbb_cells = Jupyter.notebook.get_cells();\n",
       "                for (var i = 0; i < nbb_cells.length; ++i) {\n",
       "                    if (nbb_cells[i].input_prompt_number == nbb_cell_id) {\n",
       "                        if (nbb_cells[i].get_text() == nbb_unformatted_code) {\n",
       "                             nbb_cells[i].set_text(nbb_formatted_code);\n",
       "                        }\n",
       "                        break;\n",
       "                    }\n",
       "                }\n",
       "            }, 500);\n",
       "            "
      ],
      "text/plain": [
       "<IPython.core.display.Javascript object>"
      ]
     },
     "metadata": {},
     "output_type": "display_data"
    }
   ],
   "source": [
    "data.shape"
   ]
  },
  {
   "cell_type": "code",
   "execution_count": 5,
   "id": "3df525e3",
   "metadata": {},
   "outputs": [
    {
     "name": "stdout",
     "output_type": "stream",
     "text": [
      "<class 'pandas.core.frame.DataFrame'>\n",
      "RangeIndex: 310 entries, 0 to 309\n",
      "Data columns (total 13 columns):\n",
      " #   Column                    Non-Null Count  Dtype  \n",
      "---  ------                    --------------  -----  \n",
      " 0   pelvic_incidence          310 non-null    float64\n",
      " 1   pelvic tilt               310 non-null    float64\n",
      " 2   lumbar_lordosis_angle     310 non-null    float64\n",
      " 3   sacral_slope              310 non-null    float64\n",
      " 4   pelvic_radius             310 non-null    float64\n",
      " 5   degree_spondylolisthesis  310 non-null    float64\n",
      " 6   pelvic_slope              310 non-null    float64\n",
      " 7   Direct_tilt               310 non-null    float64\n",
      " 8   thoracic_slope            310 non-null    float64\n",
      " 9   cervical_tilt             310 non-null    float64\n",
      " 10  sacrum_angle              310 non-null    float64\n",
      " 11  scoliosis_slope           310 non-null    float64\n",
      " 12  Status                    310 non-null    object \n",
      "dtypes: float64(12), object(1)\n",
      "memory usage: 31.6+ KB\n"
     ]
    },
    {
     "data": {
      "application/javascript": [
       "\n",
       "            setTimeout(function() {\n",
       "                var nbb_cell_id = 5;\n",
       "                var nbb_unformatted_code = \"data.info()\";\n",
       "                var nbb_formatted_code = \"data.info()\";\n",
       "                var nbb_cells = Jupyter.notebook.get_cells();\n",
       "                for (var i = 0; i < nbb_cells.length; ++i) {\n",
       "                    if (nbb_cells[i].input_prompt_number == nbb_cell_id) {\n",
       "                        if (nbb_cells[i].get_text() == nbb_unformatted_code) {\n",
       "                             nbb_cells[i].set_text(nbb_formatted_code);\n",
       "                        }\n",
       "                        break;\n",
       "                    }\n",
       "                }\n",
       "            }, 500);\n",
       "            "
      ],
      "text/plain": [
       "<IPython.core.display.Javascript object>"
      ]
     },
     "metadata": {},
     "output_type": "display_data"
    }
   ],
   "source": [
    "data.info()"
   ]
  },
  {
   "cell_type": "code",
   "execution_count": 6,
   "id": "8a209649",
   "metadata": {},
   "outputs": [
    {
     "data": {
      "text/html": [
       "<div>\n",
       "<style scoped>\n",
       "    .dataframe tbody tr th:only-of-type {\n",
       "        vertical-align: middle;\n",
       "    }\n",
       "\n",
       "    .dataframe tbody tr th {\n",
       "        vertical-align: top;\n",
       "    }\n",
       "\n",
       "    .dataframe thead th {\n",
       "        text-align: right;\n",
       "    }\n",
       "</style>\n",
       "<table border=\"1\" class=\"dataframe\">\n",
       "  <thead>\n",
       "    <tr style=\"text-align: right;\">\n",
       "      <th></th>\n",
       "      <th>count</th>\n",
       "      <th>mean</th>\n",
       "      <th>std</th>\n",
       "      <th>min</th>\n",
       "      <th>25%</th>\n",
       "      <th>50%</th>\n",
       "      <th>75%</th>\n",
       "      <th>max</th>\n",
       "    </tr>\n",
       "  </thead>\n",
       "  <tbody>\n",
       "    <tr>\n",
       "      <th>pelvic_incidence</th>\n",
       "      <td>310.0</td>\n",
       "      <td>60.496653</td>\n",
       "      <td>17.236520</td>\n",
       "      <td>26.147921</td>\n",
       "      <td>46.430294</td>\n",
       "      <td>58.691038</td>\n",
       "      <td>72.877696</td>\n",
       "      <td>129.834041</td>\n",
       "    </tr>\n",
       "    <tr>\n",
       "      <th>pelvic tilt</th>\n",
       "      <td>310.0</td>\n",
       "      <td>17.542822</td>\n",
       "      <td>10.008330</td>\n",
       "      <td>-6.554948</td>\n",
       "      <td>10.667069</td>\n",
       "      <td>16.357689</td>\n",
       "      <td>22.120395</td>\n",
       "      <td>49.431864</td>\n",
       "    </tr>\n",
       "    <tr>\n",
       "      <th>lumbar_lordosis_angle</th>\n",
       "      <td>310.0</td>\n",
       "      <td>51.930930</td>\n",
       "      <td>18.554064</td>\n",
       "      <td>14.000000</td>\n",
       "      <td>37.000000</td>\n",
       "      <td>49.562398</td>\n",
       "      <td>63.000000</td>\n",
       "      <td>125.742385</td>\n",
       "    </tr>\n",
       "    <tr>\n",
       "      <th>sacral_slope</th>\n",
       "      <td>310.0</td>\n",
       "      <td>42.953831</td>\n",
       "      <td>13.423102</td>\n",
       "      <td>13.366931</td>\n",
       "      <td>33.347122</td>\n",
       "      <td>42.404912</td>\n",
       "      <td>52.695888</td>\n",
       "      <td>121.429566</td>\n",
       "    </tr>\n",
       "    <tr>\n",
       "      <th>pelvic_radius</th>\n",
       "      <td>310.0</td>\n",
       "      <td>117.920655</td>\n",
       "      <td>13.317377</td>\n",
       "      <td>70.082575</td>\n",
       "      <td>110.709196</td>\n",
       "      <td>118.268178</td>\n",
       "      <td>125.467674</td>\n",
       "      <td>163.071041</td>\n",
       "    </tr>\n",
       "    <tr>\n",
       "      <th>degree_spondylolisthesis</th>\n",
       "      <td>310.0</td>\n",
       "      <td>26.296694</td>\n",
       "      <td>37.559027</td>\n",
       "      <td>-11.058179</td>\n",
       "      <td>1.603727</td>\n",
       "      <td>11.767934</td>\n",
       "      <td>41.287352</td>\n",
       "      <td>418.543082</td>\n",
       "    </tr>\n",
       "    <tr>\n",
       "      <th>pelvic_slope</th>\n",
       "      <td>310.0</td>\n",
       "      <td>0.472979</td>\n",
       "      <td>0.285787</td>\n",
       "      <td>0.003220</td>\n",
       "      <td>0.224367</td>\n",
       "      <td>0.475989</td>\n",
       "      <td>0.704846</td>\n",
       "      <td>0.998827</td>\n",
       "    </tr>\n",
       "    <tr>\n",
       "      <th>Direct_tilt</th>\n",
       "      <td>310.0</td>\n",
       "      <td>21.321526</td>\n",
       "      <td>8.639423</td>\n",
       "      <td>7.027000</td>\n",
       "      <td>13.054400</td>\n",
       "      <td>21.907150</td>\n",
       "      <td>28.954075</td>\n",
       "      <td>36.743900</td>\n",
       "    </tr>\n",
       "    <tr>\n",
       "      <th>thoracic_slope</th>\n",
       "      <td>310.0</td>\n",
       "      <td>13.064511</td>\n",
       "      <td>3.399713</td>\n",
       "      <td>7.037800</td>\n",
       "      <td>10.417800</td>\n",
       "      <td>12.938450</td>\n",
       "      <td>15.889525</td>\n",
       "      <td>19.324000</td>\n",
       "    </tr>\n",
       "    <tr>\n",
       "      <th>cervical_tilt</th>\n",
       "      <td>310.0</td>\n",
       "      <td>11.933317</td>\n",
       "      <td>2.893265</td>\n",
       "      <td>7.030600</td>\n",
       "      <td>9.541140</td>\n",
       "      <td>11.953835</td>\n",
       "      <td>14.371810</td>\n",
       "      <td>16.821080</td>\n",
       "    </tr>\n",
       "    <tr>\n",
       "      <th>sacrum_angle</th>\n",
       "      <td>310.0</td>\n",
       "      <td>-14.053139</td>\n",
       "      <td>12.225582</td>\n",
       "      <td>-35.287375</td>\n",
       "      <td>-24.289522</td>\n",
       "      <td>-14.622856</td>\n",
       "      <td>-3.497094</td>\n",
       "      <td>6.972071</td>\n",
       "    </tr>\n",
       "    <tr>\n",
       "      <th>scoliosis_slope</th>\n",
       "      <td>310.0</td>\n",
       "      <td>25.645981</td>\n",
       "      <td>10.450558</td>\n",
       "      <td>7.007900</td>\n",
       "      <td>17.189075</td>\n",
       "      <td>24.931950</td>\n",
       "      <td>33.979600</td>\n",
       "      <td>44.341200</td>\n",
       "    </tr>\n",
       "  </tbody>\n",
       "</table>\n",
       "</div>"
      ],
      "text/plain": [
       "                          count        mean        std        min         25%  \\\n",
       "pelvic_incidence          310.0   60.496653  17.236520  26.147921   46.430294   \n",
       "pelvic tilt               310.0   17.542822  10.008330  -6.554948   10.667069   \n",
       "lumbar_lordosis_angle     310.0   51.930930  18.554064  14.000000   37.000000   \n",
       "sacral_slope              310.0   42.953831  13.423102  13.366931   33.347122   \n",
       "pelvic_radius             310.0  117.920655  13.317377  70.082575  110.709196   \n",
       "degree_spondylolisthesis  310.0   26.296694  37.559027 -11.058179    1.603727   \n",
       "pelvic_slope              310.0    0.472979   0.285787   0.003220    0.224367   \n",
       "Direct_tilt               310.0   21.321526   8.639423   7.027000   13.054400   \n",
       "thoracic_slope            310.0   13.064511   3.399713   7.037800   10.417800   \n",
       "cervical_tilt             310.0   11.933317   2.893265   7.030600    9.541140   \n",
       "sacrum_angle              310.0  -14.053139  12.225582 -35.287375  -24.289522   \n",
       "scoliosis_slope           310.0   25.645981  10.450558   7.007900   17.189075   \n",
       "\n",
       "                                 50%         75%         max  \n",
       "pelvic_incidence           58.691038   72.877696  129.834041  \n",
       "pelvic tilt                16.357689   22.120395   49.431864  \n",
       "lumbar_lordosis_angle      49.562398   63.000000  125.742385  \n",
       "sacral_slope               42.404912   52.695888  121.429566  \n",
       "pelvic_radius             118.268178  125.467674  163.071041  \n",
       "degree_spondylolisthesis   11.767934   41.287352  418.543082  \n",
       "pelvic_slope                0.475989    0.704846    0.998827  \n",
       "Direct_tilt                21.907150   28.954075   36.743900  \n",
       "thoracic_slope             12.938450   15.889525   19.324000  \n",
       "cervical_tilt              11.953835   14.371810   16.821080  \n",
       "sacrum_angle              -14.622856   -3.497094    6.972071  \n",
       "scoliosis_slope            24.931950   33.979600   44.341200  "
      ]
     },
     "execution_count": 6,
     "metadata": {},
     "output_type": "execute_result"
    },
    {
     "data": {
      "application/javascript": [
       "\n",
       "            setTimeout(function() {\n",
       "                var nbb_cell_id = 6;\n",
       "                var nbb_unformatted_code = \"data.describe().T\";\n",
       "                var nbb_formatted_code = \"data.describe().T\";\n",
       "                var nbb_cells = Jupyter.notebook.get_cells();\n",
       "                for (var i = 0; i < nbb_cells.length; ++i) {\n",
       "                    if (nbb_cells[i].input_prompt_number == nbb_cell_id) {\n",
       "                        if (nbb_cells[i].get_text() == nbb_unformatted_code) {\n",
       "                             nbb_cells[i].set_text(nbb_formatted_code);\n",
       "                        }\n",
       "                        break;\n",
       "                    }\n",
       "                }\n",
       "            }, 500);\n",
       "            "
      ],
      "text/plain": [
       "<IPython.core.display.Javascript object>"
      ]
     },
     "metadata": {},
     "output_type": "display_data"
    }
   ],
   "source": [
    "data.describe().T"
   ]
  },
  {
   "cell_type": "code",
   "execution_count": 7,
   "id": "063b9643",
   "metadata": {},
   "outputs": [
    {
     "data": {
      "application/javascript": [
       "\n",
       "            setTimeout(function() {\n",
       "                var nbb_cell_id = 7;\n",
       "                var nbb_unformatted_code = \"data[\\\"Status\\\"].replace(\\\"Abnormal\\\", \\\"1\\\", inplace=True)\\ndata[\\\"Status\\\"].replace(\\\"Normal\\\", \\\"0\\\", inplace=True)\\ndata[\\\"Status\\\"] = data[\\\"Status\\\"].map({\\\"1\\\": 1, \\\"0\\\": 0}).astype(int)\";\n",
       "                var nbb_formatted_code = \"data[\\\"Status\\\"].replace(\\\"Abnormal\\\", \\\"1\\\", inplace=True)\\ndata[\\\"Status\\\"].replace(\\\"Normal\\\", \\\"0\\\", inplace=True)\\ndata[\\\"Status\\\"] = data[\\\"Status\\\"].map({\\\"1\\\": 1, \\\"0\\\": 0}).astype(int)\";\n",
       "                var nbb_cells = Jupyter.notebook.get_cells();\n",
       "                for (var i = 0; i < nbb_cells.length; ++i) {\n",
       "                    if (nbb_cells[i].input_prompt_number == nbb_cell_id) {\n",
       "                        if (nbb_cells[i].get_text() == nbb_unformatted_code) {\n",
       "                             nbb_cells[i].set_text(nbb_formatted_code);\n",
       "                        }\n",
       "                        break;\n",
       "                    }\n",
       "                }\n",
       "            }, 500);\n",
       "            "
      ],
      "text/plain": [
       "<IPython.core.display.Javascript object>"
      ]
     },
     "metadata": {},
     "output_type": "display_data"
    }
   ],
   "source": [
    "data[\"Status\"].replace(\"Abnormal\", \"1\", inplace=True)\n",
    "data[\"Status\"].replace(\"Normal\", \"0\", inplace=True)\n",
    "data[\"Status\"] = data[\"Status\"].map({\"1\": 1, \"0\": 0}).astype(int)"
   ]
  },
  {
   "cell_type": "code",
   "execution_count": null,
   "id": "ddd4bb08",
   "metadata": {},
   "outputs": [],
   "source": []
  },
  {
   "cell_type": "code",
   "execution_count": 8,
   "id": "97d6eeda",
   "metadata": {},
   "outputs": [
    {
     "data": {
      "text/plain": [
       "pelvic_incidence            0\n",
       "pelvic tilt                 0\n",
       "lumbar_lordosis_angle       0\n",
       "sacral_slope                0\n",
       "pelvic_radius               0\n",
       "degree_spondylolisthesis    0\n",
       "pelvic_slope                0\n",
       "Direct_tilt                 0\n",
       "thoracic_slope              0\n",
       "cervical_tilt               0\n",
       "sacrum_angle                0\n",
       "scoliosis_slope             0\n",
       "Status                      0\n",
       "dtype: int64"
      ]
     },
     "execution_count": 8,
     "metadata": {},
     "output_type": "execute_result"
    },
    {
     "data": {
      "application/javascript": [
       "\n",
       "            setTimeout(function() {\n",
       "                var nbb_cell_id = 8;\n",
       "                var nbb_unformatted_code = \"data.isnull().sum()\";\n",
       "                var nbb_formatted_code = \"data.isnull().sum()\";\n",
       "                var nbb_cells = Jupyter.notebook.get_cells();\n",
       "                for (var i = 0; i < nbb_cells.length; ++i) {\n",
       "                    if (nbb_cells[i].input_prompt_number == nbb_cell_id) {\n",
       "                        if (nbb_cells[i].get_text() == nbb_unformatted_code) {\n",
       "                             nbb_cells[i].set_text(nbb_formatted_code);\n",
       "                        }\n",
       "                        break;\n",
       "                    }\n",
       "                }\n",
       "            }, 500);\n",
       "            "
      ],
      "text/plain": [
       "<IPython.core.display.Javascript object>"
      ]
     },
     "metadata": {},
     "output_type": "display_data"
    }
   ],
   "source": [
    "data.isnull().sum()"
   ]
  },
  {
   "cell_type": "code",
   "execution_count": 9,
   "id": "c951e97c",
   "metadata": {},
   "outputs": [
    {
     "data": {
      "application/javascript": [
       "\n",
       "            setTimeout(function() {\n",
       "                var nbb_cell_id = 9;\n",
       "                var nbb_unformatted_code = \"X = data.drop([\\\"Status\\\"], axis=1)\\ny = data[\\\"Status\\\"]\";\n",
       "                var nbb_formatted_code = \"X = data.drop([\\\"Status\\\"], axis=1)\\ny = data[\\\"Status\\\"]\";\n",
       "                var nbb_cells = Jupyter.notebook.get_cells();\n",
       "                for (var i = 0; i < nbb_cells.length; ++i) {\n",
       "                    if (nbb_cells[i].input_prompt_number == nbb_cell_id) {\n",
       "                        if (nbb_cells[i].get_text() == nbb_unformatted_code) {\n",
       "                             nbb_cells[i].set_text(nbb_formatted_code);\n",
       "                        }\n",
       "                        break;\n",
       "                    }\n",
       "                }\n",
       "            }, 500);\n",
       "            "
      ],
      "text/plain": [
       "<IPython.core.display.Javascript object>"
      ]
     },
     "metadata": {},
     "output_type": "display_data"
    }
   ],
   "source": [
    "X = data.drop([\"Status\"], axis=1)\n",
    "y = data[\"Status\"]"
   ]
  },
  {
   "cell_type": "code",
   "execution_count": 10,
   "id": "e490dd0b",
   "metadata": {},
   "outputs": [
    {
     "data": {
      "text/plain": [
       "0    1\n",
       "1    1\n",
       "2    1\n",
       "3    1\n",
       "4    1\n",
       "Name: Status, dtype: int64"
      ]
     },
     "execution_count": 10,
     "metadata": {},
     "output_type": "execute_result"
    },
    {
     "data": {
      "application/javascript": [
       "\n",
       "            setTimeout(function() {\n",
       "                var nbb_cell_id = 10;\n",
       "                var nbb_unformatted_code = \"X = pd.get_dummies(X, drop_first=True)\\ny.head()\";\n",
       "                var nbb_formatted_code = \"X = pd.get_dummies(X, drop_first=True)\\ny.head()\";\n",
       "                var nbb_cells = Jupyter.notebook.get_cells();\n",
       "                for (var i = 0; i < nbb_cells.length; ++i) {\n",
       "                    if (nbb_cells[i].input_prompt_number == nbb_cell_id) {\n",
       "                        if (nbb_cells[i].get_text() == nbb_unformatted_code) {\n",
       "                             nbb_cells[i].set_text(nbb_formatted_code);\n",
       "                        }\n",
       "                        break;\n",
       "                    }\n",
       "                }\n",
       "            }, 500);\n",
       "            "
      ],
      "text/plain": [
       "<IPython.core.display.Javascript object>"
      ]
     },
     "metadata": {},
     "output_type": "display_data"
    }
   ],
   "source": [
    "X = pd.get_dummies(X, drop_first=True)\n",
    "y.head()"
   ]
  },
  {
   "cell_type": "code",
   "execution_count": 11,
   "id": "81d84326",
   "metadata": {},
   "outputs": [
    {
     "name": "stdout",
     "output_type": "stream",
     "text": [
      "Number of rows in train data = 217\n",
      "Number of rows in test data = 93\n"
     ]
    },
    {
     "data": {
      "application/javascript": [
       "\n",
       "            setTimeout(function() {\n",
       "                var nbb_cell_id = 11;\n",
       "                var nbb_unformatted_code = \"X_train, X_test, y_train, y_test = train_test_split(X, y, test_size=0.3, random_state=1)\\nprint(\\\"Number of rows in train data =\\\", X_train.shape[0])\\nprint(\\\"Number of rows in test data =\\\", X_test.shape[0])\\n\\n# y_test = y_test.map({\\\"1\\\": 1, \\\"0\\\": 0}).astype(int)\";\n",
       "                var nbb_formatted_code = \"X_train, X_test, y_train, y_test = train_test_split(X, y, test_size=0.3, random_state=1)\\nprint(\\\"Number of rows in train data =\\\", X_train.shape[0])\\nprint(\\\"Number of rows in test data =\\\", X_test.shape[0])\\n\\n# y_test = y_test.map({\\\"1\\\": 1, \\\"0\\\": 0}).astype(int)\";\n",
       "                var nbb_cells = Jupyter.notebook.get_cells();\n",
       "                for (var i = 0; i < nbb_cells.length; ++i) {\n",
       "                    if (nbb_cells[i].input_prompt_number == nbb_cell_id) {\n",
       "                        if (nbb_cells[i].get_text() == nbb_unformatted_code) {\n",
       "                             nbb_cells[i].set_text(nbb_formatted_code);\n",
       "                        }\n",
       "                        break;\n",
       "                    }\n",
       "                }\n",
       "            }, 500);\n",
       "            "
      ],
      "text/plain": [
       "<IPython.core.display.Javascript object>"
      ]
     },
     "metadata": {},
     "output_type": "display_data"
    }
   ],
   "source": [
    "X_train, X_test, y_train, y_test = train_test_split(X, y, test_size=0.3, random_state=1)\n",
    "print(\"Number of rows in train data =\", X_train.shape[0])\n",
    "print(\"Number of rows in test data =\", X_test.shape[0])\n",
    "\n",
    "# y_test = y_test.map({\"1\": 1, \"0\": 0}).astype(int)"
   ]
  },
  {
   "cell_type": "code",
   "execution_count": 12,
   "id": "08c1e984",
   "metadata": {},
   "outputs": [
    {
     "name": "stdout",
     "output_type": "stream",
     "text": [
      "Percentage of classes in training set:\n",
      "1    0.663594\n",
      "0    0.336406\n",
      "Name: Status, dtype: float64\n",
      "Percentage of classes in test set:\n",
      "1    0.709677\n",
      "0    0.290323\n",
      "Name: Status, dtype: float64\n",
      "70.00% data is in training set\n",
      "30.00% data is in test set\n"
     ]
    },
    {
     "data": {
      "application/javascript": [
       "\n",
       "            setTimeout(function() {\n",
       "                var nbb_cell_id = 12;\n",
       "                var nbb_unformatted_code = \"print(\\\"Percentage of classes in training set:\\\")\\nprint(y_train.value_counts(normalize=True))\\nprint(\\\"Percentage of classes in test set:\\\")\\nprint(y_test.value_counts(normalize=True))\\n\\nprint(\\n    \\\"{0:0.2f}% data is in training set\\\".format((len(X_train) / len(data.index)) * 100)\\n)\\nprint(\\\"{0:0.2f}% data is in test set\\\".format((len(X_test) / len(data.index)) * 100))\";\n",
       "                var nbb_formatted_code = \"print(\\\"Percentage of classes in training set:\\\")\\nprint(y_train.value_counts(normalize=True))\\nprint(\\\"Percentage of classes in test set:\\\")\\nprint(y_test.value_counts(normalize=True))\\n\\nprint(\\n    \\\"{0:0.2f}% data is in training set\\\".format((len(X_train) / len(data.index)) * 100)\\n)\\nprint(\\\"{0:0.2f}% data is in test set\\\".format((len(X_test) / len(data.index)) * 100))\";\n",
       "                var nbb_cells = Jupyter.notebook.get_cells();\n",
       "                for (var i = 0; i < nbb_cells.length; ++i) {\n",
       "                    if (nbb_cells[i].input_prompt_number == nbb_cell_id) {\n",
       "                        if (nbb_cells[i].get_text() == nbb_unformatted_code) {\n",
       "                             nbb_cells[i].set_text(nbb_formatted_code);\n",
       "                        }\n",
       "                        break;\n",
       "                    }\n",
       "                }\n",
       "            }, 500);\n",
       "            "
      ],
      "text/plain": [
       "<IPython.core.display.Javascript object>"
      ]
     },
     "metadata": {},
     "output_type": "display_data"
    }
   ],
   "source": [
    "print(\"Percentage of classes in training set:\")\n",
    "print(y_train.value_counts(normalize=True))\n",
    "print(\"Percentage of classes in test set:\")\n",
    "print(y_test.value_counts(normalize=True))\n",
    "\n",
    "print(\n",
    "    \"{0:0.2f}% data is in training set\".format((len(X_train) / len(data.index)) * 100)\n",
    ")\n",
    "print(\"{0:0.2f}% data is in test set\".format((len(X_test) / len(data.index)) * 100))"
   ]
  },
  {
   "cell_type": "code",
   "execution_count": 13,
   "id": "93016a2c",
   "metadata": {},
   "outputs": [
    {
     "data": {
      "application/javascript": [
       "\n",
       "            setTimeout(function() {\n",
       "                var nbb_cell_id = 13;\n",
       "                var nbb_unformatted_code = \"# defining a function to compute different metrics to check performance of a classification model built using sklearn\\ndef model_performance_classification_sklearn(model, predictors, target):\\n    \\\"\\\"\\\"\\n    Function to compute different metrics to check classification model performance\\n\\n    model: classifier\\n    predictors: independent variables\\n    target: dependent variable\\n    \\\"\\\"\\\"\\n\\n    # predicting using the independent variables\\n    pred = model.predict(predictors)\\n\\n    acc = accuracy_score(target, pred)  # to compute Accuracy\\n    recall = recall_score(target, pred)  # to compute Recall\\n    precision = precision_score(target, pred)  # to compute Precision\\n    f1 = f1_score(target, pred)  # to compute F1-score\\n\\n    # creating a dataframe of metrics\\n    df_perf = pd.DataFrame(\\n        {\\\"Accuracy\\\": acc, \\\"Recall\\\": recall, \\\"Precision\\\": precision, \\\"F1\\\": f1,},\\n        index=[0],\\n    )\\n\\n    return df_perf\";\n",
       "                var nbb_formatted_code = \"# defining a function to compute different metrics to check performance of a classification model built using sklearn\\ndef model_performance_classification_sklearn(model, predictors, target):\\n    \\\"\\\"\\\"\\n    Function to compute different metrics to check classification model performance\\n\\n    model: classifier\\n    predictors: independent variables\\n    target: dependent variable\\n    \\\"\\\"\\\"\\n\\n    # predicting using the independent variables\\n    pred = model.predict(predictors)\\n\\n    acc = accuracy_score(target, pred)  # to compute Accuracy\\n    recall = recall_score(target, pred)  # to compute Recall\\n    precision = precision_score(target, pred)  # to compute Precision\\n    f1 = f1_score(target, pred)  # to compute F1-score\\n\\n    # creating a dataframe of metrics\\n    df_perf = pd.DataFrame(\\n        {\\\"Accuracy\\\": acc, \\\"Recall\\\": recall, \\\"Precision\\\": precision, \\\"F1\\\": f1,},\\n        index=[0],\\n    )\\n\\n    return df_perf\";\n",
       "                var nbb_cells = Jupyter.notebook.get_cells();\n",
       "                for (var i = 0; i < nbb_cells.length; ++i) {\n",
       "                    if (nbb_cells[i].input_prompt_number == nbb_cell_id) {\n",
       "                        if (nbb_cells[i].get_text() == nbb_unformatted_code) {\n",
       "                             nbb_cells[i].set_text(nbb_formatted_code);\n",
       "                        }\n",
       "                        break;\n",
       "                    }\n",
       "                }\n",
       "            }, 500);\n",
       "            "
      ],
      "text/plain": [
       "<IPython.core.display.Javascript object>"
      ]
     },
     "metadata": {},
     "output_type": "display_data"
    }
   ],
   "source": [
    "# defining a function to compute different metrics to check performance of a classification model built using sklearn\n",
    "def model_performance_classification_sklearn(model, predictors, target):\n",
    "    \"\"\"\n",
    "    Function to compute different metrics to check classification model performance\n",
    "\n",
    "    model: classifier\n",
    "    predictors: independent variables\n",
    "    target: dependent variable\n",
    "    \"\"\"\n",
    "\n",
    "    # predicting using the independent variables\n",
    "    pred = model.predict(predictors)\n",
    "\n",
    "    acc = accuracy_score(target, pred)  # to compute Accuracy\n",
    "    recall = recall_score(target, pred)  # to compute Recall\n",
    "    precision = precision_score(target, pred)  # to compute Precision\n",
    "    f1 = f1_score(target, pred)  # to compute F1-score\n",
    "\n",
    "    # creating a dataframe of metrics\n",
    "    df_perf = pd.DataFrame(\n",
    "        {\"Accuracy\": acc, \"Recall\": recall, \"Precision\": precision, \"F1\": f1,},\n",
    "        index=[0],\n",
    "    )\n",
    "\n",
    "    return df_perf"
   ]
  },
  {
   "cell_type": "code",
   "execution_count": 14,
   "id": "01734b3f",
   "metadata": {},
   "outputs": [
    {
     "data": {
      "application/javascript": [
       "\n",
       "            setTimeout(function() {\n",
       "                var nbb_cell_id = 14;\n",
       "                var nbb_unformatted_code = \"def confusion_matrix_sklearn(model, predictors, target):\\n    \\\"\\\"\\\"\\n    To plot the confusion_matrix with percentages\\n\\n    model: classifier\\n    predictors: independent variables\\n    target: dependent variable\\n    \\\"\\\"\\\"\\n    y_pred = model.predict(predictors)\\n    cm = confusion_matrix(target, y_pred)\\n    labels = np.asarray(\\n        [\\n            [\\\"{0:0.0f}\\\".format(item) + \\\"\\\\n{0:.2%}\\\".format(item / cm.flatten().sum())]\\n            for item in cm.flatten()\\n        ]\\n    ).reshape(2, 2)\\n\\n    plt.figure(figsize=(6, 4))\\n    sns.heatmap(cm, annot=labels, fmt=\\\"\\\")\\n    plt.ylabel(\\\"True label\\\")\\n    plt.xlabel(\\\"Predicted label\\\")\";\n",
       "                var nbb_formatted_code = \"def confusion_matrix_sklearn(model, predictors, target):\\n    \\\"\\\"\\\"\\n    To plot the confusion_matrix with percentages\\n\\n    model: classifier\\n    predictors: independent variables\\n    target: dependent variable\\n    \\\"\\\"\\\"\\n    y_pred = model.predict(predictors)\\n    cm = confusion_matrix(target, y_pred)\\n    labels = np.asarray(\\n        [\\n            [\\\"{0:0.0f}\\\".format(item) + \\\"\\\\n{0:.2%}\\\".format(item / cm.flatten().sum())]\\n            for item in cm.flatten()\\n        ]\\n    ).reshape(2, 2)\\n\\n    plt.figure(figsize=(6, 4))\\n    sns.heatmap(cm, annot=labels, fmt=\\\"\\\")\\n    plt.ylabel(\\\"True label\\\")\\n    plt.xlabel(\\\"Predicted label\\\")\";\n",
       "                var nbb_cells = Jupyter.notebook.get_cells();\n",
       "                for (var i = 0; i < nbb_cells.length; ++i) {\n",
       "                    if (nbb_cells[i].input_prompt_number == nbb_cell_id) {\n",
       "                        if (nbb_cells[i].get_text() == nbb_unformatted_code) {\n",
       "                             nbb_cells[i].set_text(nbb_formatted_code);\n",
       "                        }\n",
       "                        break;\n",
       "                    }\n",
       "                }\n",
       "            }, 500);\n",
       "            "
      ],
      "text/plain": [
       "<IPython.core.display.Javascript object>"
      ]
     },
     "metadata": {},
     "output_type": "display_data"
    }
   ],
   "source": [
    "def confusion_matrix_sklearn(model, predictors, target):\n",
    "    \"\"\"\n",
    "    To plot the confusion_matrix with percentages\n",
    "\n",
    "    model: classifier\n",
    "    predictors: independent variables\n",
    "    target: dependent variable\n",
    "    \"\"\"\n",
    "    y_pred = model.predict(predictors)\n",
    "    cm = confusion_matrix(target, y_pred)\n",
    "    labels = np.asarray(\n",
    "        [\n",
    "            [\"{0:0.0f}\".format(item) + \"\\n{0:.2%}\".format(item / cm.flatten().sum())]\n",
    "            for item in cm.flatten()\n",
    "        ]\n",
    "    ).reshape(2, 2)\n",
    "\n",
    "    plt.figure(figsize=(6, 4))\n",
    "    sns.heatmap(cm, annot=labels, fmt=\"\")\n",
    "    plt.ylabel(\"True label\")\n",
    "    plt.xlabel(\"Predicted label\")"
   ]
  },
  {
   "cell_type": "code",
   "execution_count": 15,
   "id": "159701fd",
   "metadata": {},
   "outputs": [
    {
     "data": {
      "text/plain": [
       "DecisionTreeClassifier(random_state=1)"
      ]
     },
     "execution_count": 15,
     "metadata": {},
     "output_type": "execute_result"
    },
    {
     "data": {
      "application/javascript": [
       "\n",
       "            setTimeout(function() {\n",
       "                var nbb_cell_id = 15;\n",
       "                var nbb_unformatted_code = \"model = DecisionTreeClassifier(criterion=\\\"gini\\\", random_state=1,)\\nmodel.fit(X_train, y_train)\";\n",
       "                var nbb_formatted_code = \"model = DecisionTreeClassifier(criterion=\\\"gini\\\", random_state=1,)\\nmodel.fit(X_train, y_train)\";\n",
       "                var nbb_cells = Jupyter.notebook.get_cells();\n",
       "                for (var i = 0; i < nbb_cells.length; ++i) {\n",
       "                    if (nbb_cells[i].input_prompt_number == nbb_cell_id) {\n",
       "                        if (nbb_cells[i].get_text() == nbb_unformatted_code) {\n",
       "                             nbb_cells[i].set_text(nbb_formatted_code);\n",
       "                        }\n",
       "                        break;\n",
       "                    }\n",
       "                }\n",
       "            }, 500);\n",
       "            "
      ],
      "text/plain": [
       "<IPython.core.display.Javascript object>"
      ]
     },
     "metadata": {},
     "output_type": "display_data"
    }
   ],
   "source": [
    "model = DecisionTreeClassifier(criterion=\"gini\", random_state=1,)\n",
    "model.fit(X_train, y_train)"
   ]
  },
  {
   "cell_type": "code",
   "execution_count": 16,
   "id": "05ed6535",
   "metadata": {},
   "outputs": [
    {
     "data": {
      "application/javascript": [
       "\n",
       "            setTimeout(function() {\n",
       "                var nbb_cell_id = 16;\n",
       "                var nbb_unformatted_code = \"from sklearn.metrics import classification_report, confusion_matrix\";\n",
       "                var nbb_formatted_code = \"from sklearn.metrics import classification_report, confusion_matrix\";\n",
       "                var nbb_cells = Jupyter.notebook.get_cells();\n",
       "                for (var i = 0; i < nbb_cells.length; ++i) {\n",
       "                    if (nbb_cells[i].input_prompt_number == nbb_cell_id) {\n",
       "                        if (nbb_cells[i].get_text() == nbb_unformatted_code) {\n",
       "                             nbb_cells[i].set_text(nbb_formatted_code);\n",
       "                        }\n",
       "                        break;\n",
       "                    }\n",
       "                }\n",
       "            }, 500);\n",
       "            "
      ],
      "text/plain": [
       "<IPython.core.display.Javascript object>"
      ]
     },
     "metadata": {},
     "output_type": "display_data"
    }
   ],
   "source": [
    "from sklearn.metrics import classification_report, confusion_matrix"
   ]
  },
  {
   "cell_type": "code",
   "execution_count": 17,
   "id": "3c397154",
   "metadata": {},
   "outputs": [
    {
     "data": {
      "application/javascript": [
       "\n",
       "            setTimeout(function() {\n",
       "                var nbb_cell_id = 17;\n",
       "                var nbb_unformatted_code = \"predictions = model.predict(X_test)\";\n",
       "                var nbb_formatted_code = \"predictions = model.predict(X_test)\";\n",
       "                var nbb_cells = Jupyter.notebook.get_cells();\n",
       "                for (var i = 0; i < nbb_cells.length; ++i) {\n",
       "                    if (nbb_cells[i].input_prompt_number == nbb_cell_id) {\n",
       "                        if (nbb_cells[i].get_text() == nbb_unformatted_code) {\n",
       "                             nbb_cells[i].set_text(nbb_formatted_code);\n",
       "                        }\n",
       "                        break;\n",
       "                    }\n",
       "                }\n",
       "            }, 500);\n",
       "            "
      ],
      "text/plain": [
       "<IPython.core.display.Javascript object>"
      ]
     },
     "metadata": {},
     "output_type": "display_data"
    }
   ],
   "source": [
    "predictions = model.predict(X_test)"
   ]
  },
  {
   "cell_type": "code",
   "execution_count": 18,
   "id": "47020bbd",
   "metadata": {},
   "outputs": [
    {
     "name": "stdout",
     "output_type": "stream",
     "text": [
      "              precision    recall  f1-score   support\n",
      "\n",
      "           0       0.59      0.74      0.66        27\n",
      "           1       0.88      0.79      0.83        66\n",
      "\n",
      "    accuracy                           0.77        93\n",
      "   macro avg       0.73      0.76      0.74        93\n",
      "weighted avg       0.80      0.77      0.78        93\n",
      "\n"
     ]
    },
    {
     "data": {
      "application/javascript": [
       "\n",
       "            setTimeout(function() {\n",
       "                var nbb_cell_id = 18;\n",
       "                var nbb_unformatted_code = \"print(classification_report(y_test, predictions))\";\n",
       "                var nbb_formatted_code = \"print(classification_report(y_test, predictions))\";\n",
       "                var nbb_cells = Jupyter.notebook.get_cells();\n",
       "                for (var i = 0; i < nbb_cells.length; ++i) {\n",
       "                    if (nbb_cells[i].input_prompt_number == nbb_cell_id) {\n",
       "                        if (nbb_cells[i].get_text() == nbb_unformatted_code) {\n",
       "                             nbb_cells[i].set_text(nbb_formatted_code);\n",
       "                        }\n",
       "                        break;\n",
       "                    }\n",
       "                }\n",
       "            }, 500);\n",
       "            "
      ],
      "text/plain": [
       "<IPython.core.display.Javascript object>"
      ]
     },
     "metadata": {},
     "output_type": "display_data"
    }
   ],
   "source": [
    "print(classification_report(y_test, predictions))"
   ]
  },
  {
   "cell_type": "code",
   "execution_count": 19,
   "id": "e88eaee9",
   "metadata": {},
   "outputs": [
    {
     "name": "stdout",
     "output_type": "stream",
     "text": [
      "[[20  7]\n",
      " [14 52]]\n"
     ]
    },
    {
     "data": {
      "application/javascript": [
       "\n",
       "            setTimeout(function() {\n",
       "                var nbb_cell_id = 19;\n",
       "                var nbb_unformatted_code = \"print(confusion_matrix(y_test, predictions))\";\n",
       "                var nbb_formatted_code = \"print(confusion_matrix(y_test, predictions))\";\n",
       "                var nbb_cells = Jupyter.notebook.get_cells();\n",
       "                for (var i = 0; i < nbb_cells.length; ++i) {\n",
       "                    if (nbb_cells[i].input_prompt_number == nbb_cell_id) {\n",
       "                        if (nbb_cells[i].get_text() == nbb_unformatted_code) {\n",
       "                             nbb_cells[i].set_text(nbb_formatted_code);\n",
       "                        }\n",
       "                        break;\n",
       "                    }\n",
       "                }\n",
       "            }, 500);\n",
       "            "
      ],
      "text/plain": [
       "<IPython.core.display.Javascript object>"
      ]
     },
     "metadata": {},
     "output_type": "display_data"
    }
   ],
   "source": [
    "print(confusion_matrix(y_test, predictions))"
   ]
  },
  {
   "cell_type": "code",
   "execution_count": 20,
   "id": "be03b370",
   "metadata": {},
   "outputs": [
    {
     "data": {
      "image/png": "[encoded data removed]",
      "text/plain": [
       "<Figure size 1440x1440 with 2 Axes>"
      ]
     },
     "metadata": {},
     "output_type": "display_data"
    },
    {
     "data": {
      "application/javascript": [
       "\n",
       "            setTimeout(function() {\n",
       "                var nbb_cell_id = 20;\n",
       "                var nbb_unformatted_code = \"# Generate Corelation chart and understand how these features are related\\ndef generate_matrix_chart(data):\\n    \\\"\\\"\\\"\\n    Generate corelation chart(heat-map) between all numerial features \\n    \\\"\\\"\\\"\\n    sns.set_style(\\\"darkgrid\\\")\\n    plt.figure(figsize=(20, 20))\\n    sns.heatmap(\\n        data.corr(), cmap=\\\"Spectral\\\", linecolor=\\\"white\\\", linewidths=1, annot=True\\n    )\\n\\n\\ngenerate_matrix_chart(data)\";\n",
       "                var nbb_formatted_code = \"# Generate Corelation chart and understand how these features are related\\ndef generate_matrix_chart(data):\\n    \\\"\\\"\\\"\\n    Generate corelation chart(heat-map) between all numerial features \\n    \\\"\\\"\\\"\\n    sns.set_style(\\\"darkgrid\\\")\\n    plt.figure(figsize=(20, 20))\\n    sns.heatmap(\\n        data.corr(), cmap=\\\"Spectral\\\", linecolor=\\\"white\\\", linewidths=1, annot=True\\n    )\\n\\n\\ngenerate_matrix_chart(data)\";\n",
       "                var nbb_cells = Jupyter.notebook.get_cells();\n",
       "                for (var i = 0; i < nbb_cells.length; ++i) {\n",
       "                    if (nbb_cells[i].input_prompt_number == nbb_cell_id) {\n",
       "                        if (nbb_cells[i].get_text() == nbb_unformatted_code) {\n",
       "                             nbb_cells[i].set_text(nbb_formatted_code);\n",
       "                        }\n",
       "                        break;\n",
       "                    }\n",
       "                }\n",
       "            }, 500);\n",
       "            "
      ],
      "text/plain": [
       "<IPython.core.display.Javascript object>"
      ]
     },
     "metadata": {},
     "output_type": "display_data"
    }
   ],
   "source": [
    "# Generate Corelation chart and understand how these features are related\n",
    "def generate_matrix_chart(data):\n",
    "    \"\"\"\n",
    "    Generate corelation chart(heat-map) between all numerial features \n",
    "    \"\"\"\n",
    "    sns.set_style(\"darkgrid\")\n",
    "    plt.figure(figsize=(20, 20))\n",
    "    sns.heatmap(\n",
    "        data.corr(), cmap=\"Spectral\", linecolor=\"white\", linewidths=1, annot=True\n",
    "    )\n",
    "\n",
    "\n",
    "generate_matrix_chart(data)"
   ]
  },
  {
   "cell_type": "code",
   "execution_count": 21,
   "id": "a8d6b023",
   "metadata": {},
   "outputs": [
    {
     "data": {
      "text/html": [
       "<div>\n",
       "<style scoped>\n",
       "    .dataframe tbody tr th:only-of-type {\n",
       "        vertical-align: middle;\n",
       "    }\n",
       "\n",
       "    .dataframe tbody tr th {\n",
       "        vertical-align: top;\n",
       "    }\n",
       "\n",
       "    .dataframe thead th {\n",
       "        text-align: right;\n",
       "    }\n",
       "</style>\n",
       "<table border=\"1\" class=\"dataframe\">\n",
       "  <thead>\n",
       "    <tr style=\"text-align: right;\">\n",
       "      <th></th>\n",
       "      <th>pelvic_incidence</th>\n",
       "      <th>pelvic tilt</th>\n",
       "      <th>lumbar_lordosis_angle</th>\n",
       "      <th>sacral_slope</th>\n",
       "      <th>pelvic_radius</th>\n",
       "      <th>degree_spondylolisthesis</th>\n",
       "      <th>pelvic_slope</th>\n",
       "      <th>Direct_tilt</th>\n",
       "      <th>thoracic_slope</th>\n",
       "      <th>cervical_tilt</th>\n",
       "      <th>sacrum_angle</th>\n",
       "      <th>scoliosis_slope</th>\n",
       "      <th>Status</th>\n",
       "    </tr>\n",
       "  </thead>\n",
       "  <tbody>\n",
       "    <tr>\n",
       "      <th>pelvic_incidence</th>\n",
       "      <td>1.000000</td>\n",
       "      <td>0.629199</td>\n",
       "      <td>0.717282</td>\n",
       "      <td>0.814960</td>\n",
       "      <td>-0.247467</td>\n",
       "      <td>0.638743</td>\n",
       "      <td>0.043290</td>\n",
       "      <td>-0.078411</td>\n",
       "      <td>-0.089740</td>\n",
       "      <td>0.016750</td>\n",
       "      <td>0.019240</td>\n",
       "      <td>-0.007251</td>\n",
       "      <td>0.353336</td>\n",
       "    </tr>\n",
       "    <tr>\n",
       "      <th>pelvic tilt</th>\n",
       "      <td>0.629199</td>\n",
       "      <td>1.000000</td>\n",
       "      <td>0.432764</td>\n",
       "      <td>0.062345</td>\n",
       "      <td>0.032668</td>\n",
       "      <td>0.397862</td>\n",
       "      <td>0.008852</td>\n",
       "      <td>-0.072119</td>\n",
       "      <td>-0.063394</td>\n",
       "      <td>0.028931</td>\n",
       "      <td>0.032859</td>\n",
       "      <td>-0.056550</td>\n",
       "      <td>0.326063</td>\n",
       "    </tr>\n",
       "    <tr>\n",
       "      <th>lumbar_lordosis_angle</th>\n",
       "      <td>0.717282</td>\n",
       "      <td>0.432764</td>\n",
       "      <td>1.000000</td>\n",
       "      <td>0.598387</td>\n",
       "      <td>-0.080344</td>\n",
       "      <td>0.533667</td>\n",
       "      <td>0.029486</td>\n",
       "      <td>-0.112939</td>\n",
       "      <td>-0.063582</td>\n",
       "      <td>0.063875</td>\n",
       "      <td>0.057199</td>\n",
       "      <td>-0.049054</td>\n",
       "      <td>0.312484</td>\n",
       "    </tr>\n",
       "    <tr>\n",
       "      <th>sacral_slope</th>\n",
       "      <td>0.814960</td>\n",
       "      <td>0.062345</td>\n",
       "      <td>0.598387</td>\n",
       "      <td>1.000000</td>\n",
       "      <td>-0.342128</td>\n",
       "      <td>0.523557</td>\n",
       "      <td>0.048988</td>\n",
       "      <td>-0.046914</td>\n",
       "      <td>-0.067968</td>\n",
       "      <td>-0.000063</td>\n",
       "      <td>0.000207</td>\n",
       "      <td>0.032853</td>\n",
       "      <td>0.210602</td>\n",
       "    </tr>\n",
       "    <tr>\n",
       "      <th>pelvic_radius</th>\n",
       "      <td>-0.247467</td>\n",
       "      <td>0.032668</td>\n",
       "      <td>-0.080344</td>\n",
       "      <td>-0.342128</td>\n",
       "      <td>1.000000</td>\n",
       "      <td>-0.026065</td>\n",
       "      <td>0.015767</td>\n",
       "      <td>0.063433</td>\n",
       "      <td>0.060477</td>\n",
       "      <td>-0.039800</td>\n",
       "      <td>0.029738</td>\n",
       "      <td>-0.030145</td>\n",
       "      <td>-0.309857</td>\n",
       "    </tr>\n",
       "    <tr>\n",
       "      <th>degree_spondylolisthesis</th>\n",
       "      <td>0.638743</td>\n",
       "      <td>0.397862</td>\n",
       "      <td>0.533667</td>\n",
       "      <td>0.523557</td>\n",
       "      <td>-0.026065</td>\n",
       "      <td>1.000000</td>\n",
       "      <td>0.085925</td>\n",
       "      <td>-0.063812</td>\n",
       "      <td>-0.057286</td>\n",
       "      <td>0.056576</td>\n",
       "      <td>0.023021</td>\n",
       "      <td>-0.041023</td>\n",
       "      <td>0.443687</td>\n",
       "    </tr>\n",
       "    <tr>\n",
       "      <th>pelvic_slope</th>\n",
       "      <td>0.043290</td>\n",
       "      <td>0.008852</td>\n",
       "      <td>0.029486</td>\n",
       "      <td>0.048988</td>\n",
       "      <td>0.015767</td>\n",
       "      <td>0.085925</td>\n",
       "      <td>1.000000</td>\n",
       "      <td>0.012694</td>\n",
       "      <td>-0.011770</td>\n",
       "      <td>0.088017</td>\n",
       "      <td>0.060743</td>\n",
       "      <td>-0.073893</td>\n",
       "      <td>0.055865</td>\n",
       "    </tr>\n",
       "    <tr>\n",
       "      <th>Direct_tilt</th>\n",
       "      <td>-0.078411</td>\n",
       "      <td>-0.072119</td>\n",
       "      <td>-0.112939</td>\n",
       "      <td>-0.046914</td>\n",
       "      <td>0.063433</td>\n",
       "      <td>-0.063812</td>\n",
       "      <td>0.012694</td>\n",
       "      <td>1.000000</td>\n",
       "      <td>0.009887</td>\n",
       "      <td>0.072738</td>\n",
       "      <td>-0.037428</td>\n",
       "      <td>-0.024021</td>\n",
       "      <td>-0.039591</td>\n",
       "    </tr>\n",
       "    <tr>\n",
       "      <th>thoracic_slope</th>\n",
       "      <td>-0.089740</td>\n",
       "      <td>-0.063394</td>\n",
       "      <td>-0.063582</td>\n",
       "      <td>-0.067968</td>\n",
       "      <td>0.060477</td>\n",
       "      <td>-0.057286</td>\n",
       "      <td>-0.011770</td>\n",
       "      <td>0.009887</td>\n",
       "      <td>1.000000</td>\n",
       "      <td>0.052451</td>\n",
       "      <td>0.011354</td>\n",
       "      <td>0.009541</td>\n",
       "      <td>-0.049354</td>\n",
       "    </tr>\n",
       "    <tr>\n",
       "      <th>cervical_tilt</th>\n",
       "      <td>0.016750</td>\n",
       "      <td>0.028931</td>\n",
       "      <td>0.063875</td>\n",
       "      <td>-0.000063</td>\n",
       "      <td>-0.039800</td>\n",
       "      <td>0.056576</td>\n",
       "      <td>0.088017</td>\n",
       "      <td>0.072738</td>\n",
       "      <td>0.052451</td>\n",
       "      <td>1.000000</td>\n",
       "      <td>0.057451</td>\n",
       "      <td>0.021243</td>\n",
       "      <td>0.100044</td>\n",
       "    </tr>\n",
       "    <tr>\n",
       "      <th>sacrum_angle</th>\n",
       "      <td>0.019240</td>\n",
       "      <td>0.032859</td>\n",
       "      <td>0.057199</td>\n",
       "      <td>0.000207</td>\n",
       "      <td>0.029738</td>\n",
       "      <td>0.023021</td>\n",
       "      <td>0.060743</td>\n",
       "      <td>-0.037428</td>\n",
       "      <td>0.011354</td>\n",
       "      <td>0.057451</td>\n",
       "      <td>1.000000</td>\n",
       "      <td>0.015337</td>\n",
       "      <td>0.026887</td>\n",
       "    </tr>\n",
       "    <tr>\n",
       "      <th>scoliosis_slope</th>\n",
       "      <td>-0.007251</td>\n",
       "      <td>-0.056550</td>\n",
       "      <td>-0.049054</td>\n",
       "      <td>0.032853</td>\n",
       "      <td>-0.030145</td>\n",
       "      <td>-0.041023</td>\n",
       "      <td>-0.073893</td>\n",
       "      <td>-0.024021</td>\n",
       "      <td>0.009541</td>\n",
       "      <td>0.021243</td>\n",
       "      <td>0.015337</td>\n",
       "      <td>1.000000</td>\n",
       "      <td>-0.069315</td>\n",
       "    </tr>\n",
       "    <tr>\n",
       "      <th>Status</th>\n",
       "      <td>0.353336</td>\n",
       "      <td>0.326063</td>\n",
       "      <td>0.312484</td>\n",
       "      <td>0.210602</td>\n",
       "      <td>-0.309857</td>\n",
       "      <td>0.443687</td>\n",
       "      <td>0.055865</td>\n",
       "      <td>-0.039591</td>\n",
       "      <td>-0.049354</td>\n",
       "      <td>0.100044</td>\n",
       "      <td>0.026887</td>\n",
       "      <td>-0.069315</td>\n",
       "      <td>1.000000</td>\n",
       "    </tr>\n",
       "  </tbody>\n",
       "</table>\n",
       "</div>"
      ],
      "text/plain": [
       "                          pelvic_incidence  pelvic tilt  \\\n",
       "pelvic_incidence                  1.000000     0.629199   \n",
       "pelvic tilt                       0.629199     1.000000   \n",
       "lumbar_lordosis_angle             0.717282     0.432764   \n",
       "sacral_slope                      0.814960     0.062345   \n",
       "pelvic_radius                    -0.247467     0.032668   \n",
       "degree_spondylolisthesis          0.638743     0.397862   \n",
       "pelvic_slope                      0.043290     0.008852   \n",
       "Direct_tilt                      -0.078411    -0.072119   \n",
       "thoracic_slope                   -0.089740    -0.063394   \n",
       "cervical_tilt                     0.016750     0.028931   \n",
       "sacrum_angle                      0.019240     0.032859   \n",
       "scoliosis_slope                  -0.007251    -0.056550   \n",
       "Status                            0.353336     0.326063   \n",
       "\n",
       "                          lumbar_lordosis_angle  sacral_slope  pelvic_radius  \\\n",
       "pelvic_incidence                       0.717282      0.814960      -0.247467   \n",
       "pelvic tilt                            0.432764      0.062345       0.032668   \n",
       "lumbar_lordosis_angle                  1.000000      0.598387      -0.080344   \n",
       "sacral_slope                           0.598387      1.000000      -0.342128   \n",
       "pelvic_radius                         -0.080344     -0.342128       1.000000   \n",
       "degree_spondylolisthesis               0.533667      0.523557      -0.026065   \n",
       "pelvic_slope                           0.029486      0.048988       0.015767   \n",
       "Direct_tilt                           -0.112939     -0.046914       0.063433   \n",
       "thoracic_slope                        -0.063582     -0.067968       0.060477   \n",
       "cervical_tilt                          0.063875     -0.000063      -0.039800   \n",
       "sacrum_angle                           0.057199      0.000207       0.029738   \n",
       "scoliosis_slope                       -0.049054      0.032853      -0.030145   \n",
       "Status                                 0.312484      0.210602      -0.309857   \n",
       "\n",
       "                          degree_spondylolisthesis  pelvic_slope  Direct_tilt  \\\n",
       "pelvic_incidence                          0.638743      0.043290    -0.078411   \n",
       "pelvic tilt                               0.397862      0.008852    -0.072119   \n",
       "lumbar_lordosis_angle                     0.533667      0.029486    -0.112939   \n",
       "sacral_slope                              0.523557      0.048988    -0.046914   \n",
       "pelvic_radius                            -0.026065      0.015767     0.063433   \n",
       "degree_spondylolisthesis                  1.000000      0.085925    -0.063812   \n",
       "pelvic_slope                              0.085925      1.000000     0.012694   \n",
       "Direct_tilt                              -0.063812      0.012694     1.000000   \n",
       "thoracic_slope                           -0.057286     -0.011770     0.009887   \n",
       "cervical_tilt                             0.056576      0.088017     0.072738   \n",
       "sacrum_angle                              0.023021      0.060743    -0.037428   \n",
       "scoliosis_slope                          -0.041023     -0.073893    -0.024021   \n",
       "Status                                    0.443687      0.055865    -0.039591   \n",
       "\n",
       "                          thoracic_slope  cervical_tilt  sacrum_angle  \\\n",
       "pelvic_incidence               -0.089740       0.016750      0.019240   \n",
       "pelvic tilt                    -0.063394       0.028931      0.032859   \n",
       "lumbar_lordosis_angle          -0.063582       0.063875      0.057199   \n",
       "sacral_slope                   -0.067968      -0.000063      0.000207   \n",
       "pelvic_radius                   0.060477      -0.039800      0.029738   \n",
       "degree_spondylolisthesis       -0.057286       0.056576      0.023021   \n",
       "pelvic_slope                   -0.011770       0.088017      0.060743   \n",
       "Direct_tilt                     0.009887       0.072738     -0.037428   \n",
       "thoracic_slope                  1.000000       0.052451      0.011354   \n",
       "cervical_tilt                   0.052451       1.000000      0.057451   \n",
       "sacrum_angle                    0.011354       0.057451      1.000000   \n",
       "scoliosis_slope                 0.009541       0.021243      0.015337   \n",
       "Status                         -0.049354       0.100044      0.026887   \n",
       "\n",
       "                          scoliosis_slope    Status  \n",
       "pelvic_incidence                -0.007251  0.353336  \n",
       "pelvic tilt                     -0.056550  0.326063  \n",
       "lumbar_lordosis_angle           -0.049054  0.312484  \n",
       "sacral_slope                     0.032853  0.210602  \n",
       "pelvic_radius                   -0.030145 -0.309857  \n",
       "degree_spondylolisthesis        -0.041023  0.443687  \n",
       "pelvic_slope                    -0.073893  0.055865  \n",
       "Direct_tilt                     -0.024021 -0.039591  \n",
       "thoracic_slope                   0.009541 -0.049354  \n",
       "cervical_tilt                    0.021243  0.100044  \n",
       "sacrum_angle                     0.015337  0.026887  \n",
       "scoliosis_slope                  1.000000 -0.069315  \n",
       "Status                          -0.069315  1.000000  "
      ]
     },
     "execution_count": 21,
     "metadata": {},
     "output_type": "execute_result"
    },
    {
     "data": {
      "application/javascript": [
       "\n",
       "            setTimeout(function() {\n",
       "                var nbb_cell_id = 21;\n",
       "                var nbb_unformatted_code = \"data.corr().T\";\n",
       "                var nbb_formatted_code = \"data.corr().T\";\n",
       "                var nbb_cells = Jupyter.notebook.get_cells();\n",
       "                for (var i = 0; i < nbb_cells.length; ++i) {\n",
       "                    if (nbb_cells[i].input_prompt_number == nbb_cell_id) {\n",
       "                        if (nbb_cells[i].get_text() == nbb_unformatted_code) {\n",
       "                             nbb_cells[i].set_text(nbb_formatted_code);\n",
       "                        }\n",
       "                        break;\n",
       "                    }\n",
       "                }\n",
       "            }, 500);\n",
       "            "
      ],
      "text/plain": [
       "<IPython.core.display.Javascript object>"
      ]
     },
     "metadata": {},
     "output_type": "display_data"
    }
   ],
   "source": [
    "data.corr().T"
   ]
  },
  {
   "cell_type": "code",
   "execution_count": 59,
   "id": "cd16acab",
   "metadata": {},
   "outputs": [
    {
     "name": "stdout",
     "output_type": "stream",
     "text": [
      "          0         1         2         3         4         5         6  \\\n",
      "0  0.014534  0.085079 -0.020201 -0.070545 -0.089799  0.140103  0.809894   \n",
      "\n",
      "          7         8        9        10        11  intercept  \n",
      "0 -0.010797  0.013921  0.14101  0.006773 -0.014293   9.921752  \n"
     ]
    },
    {
     "data": {
      "application/javascript": [
       "\n",
       "            setTimeout(function() {\n",
       "                var nbb_cell_id = 59;\n",
       "                var nbb_unformatted_code = \"from sklearn import metrics\\n\\nfrom sklearn.linear_model import LogisticRegression\\n\\n# Fit the model on train\\nmodel = LogisticRegression(random_state=1)\\nmodel.fit(X_train, y_train)\\n\\n# predict on test\\ny_predict = model.predict(X_test)\\n# predict on training\\npredictions = model.predict(X_train)\\n\\n\\ncoef_df = pd.DataFrame(model.coef_)\\ncoef_df[\\\"intercept\\\"] = model.intercept_\\nprint(coef_df)\";\n",
       "                var nbb_formatted_code = \"from sklearn import metrics\\n\\nfrom sklearn.linear_model import LogisticRegression\\n\\n# Fit the model on train\\nmodel = LogisticRegression(random_state=1)\\nmodel.fit(X_train, y_train)\\n\\n# predict on test\\ny_predict = model.predict(X_test)\\n# predict on training\\npredictions = model.predict(X_train)\\n\\n\\ncoef_df = pd.DataFrame(model.coef_)\\ncoef_df[\\\"intercept\\\"] = model.intercept_\\nprint(coef_df)\";\n",
       "                var nbb_cells = Jupyter.notebook.get_cells();\n",
       "                for (var i = 0; i < nbb_cells.length; ++i) {\n",
       "                    if (nbb_cells[i].input_prompt_number == nbb_cell_id) {\n",
       "                        if (nbb_cells[i].get_text() == nbb_unformatted_code) {\n",
       "                             nbb_cells[i].set_text(nbb_formatted_code);\n",
       "                        }\n",
       "                        break;\n",
       "                    }\n",
       "                }\n",
       "            }, 500);\n",
       "            "
      ],
      "text/plain": [
       "<IPython.core.display.Javascript object>"
      ]
     },
     "metadata": {},
     "output_type": "display_data"
    }
   ],
   "source": [
    "from sklearn import metrics\n",
    "\n",
    "from sklearn.linear_model import LogisticRegression\n",
    "\n",
    "# Fit the model on train\n",
    "model = LogisticRegression(random_state=1)\n",
    "model.fit(X_train, y_train)\n",
    "\n",
    "# predict on test\n",
    "y_predict = model.predict(X_test)\n",
    "# predict on training\n",
    "predictions = model.predict(X_train)\n",
    "\n",
    "\n",
    "coef_df = pd.DataFrame(model.coef_)\n",
    "coef_df[\"intercept\"] = model.intercept_\n",
    "print(coef_df)"
   ]
  },
  {
   "cell_type": "code",
   "execution_count": 60,
   "id": "f37a0a6d",
   "metadata": {},
   "outputs": [
    {
     "name": "stdout",
     "output_type": "stream",
     "text": [
      "0.8924731182795699\n"
     ]
    },
    {
     "data": {
      "application/javascript": [
       "\n",
       "            setTimeout(function() {\n",
       "                var nbb_cell_id = 60;\n",
       "                var nbb_unformatted_code = \"model_score = model.score(X_test, y_test)\\nprint(model_score)\";\n",
       "                var nbb_formatted_code = \"model_score = model.score(X_test, y_test)\\nprint(model_score)\";\n",
       "                var nbb_cells = Jupyter.notebook.get_cells();\n",
       "                for (var i = 0; i < nbb_cells.length; ++i) {\n",
       "                    if (nbb_cells[i].input_prompt_number == nbb_cell_id) {\n",
       "                        if (nbb_cells[i].get_text() == nbb_unformatted_code) {\n",
       "                             nbb_cells[i].set_text(nbb_formatted_code);\n",
       "                        }\n",
       "                        break;\n",
       "                    }\n",
       "                }\n",
       "            }, 500);\n",
       "            "
      ],
      "text/plain": [
       "<IPython.core.display.Javascript object>"
      ]
     },
     "metadata": {},
     "output_type": "display_data"
    }
   ],
   "source": [
    "model_score = model.score(X_test, y_test)\n",
    "print(model_score)"
   ]
  },
  {
   "cell_type": "code",
   "execution_count": 61,
   "id": "3f4126bc",
   "metadata": {},
   "outputs": [
    {
     "data": {
      "application/javascript": [
       "\n",
       "            setTimeout(function() {\n",
       "                var nbb_cell_id = 61;\n",
       "                var nbb_unformatted_code = \"from sklearn.metrics import classification_report\";\n",
       "                var nbb_formatted_code = \"from sklearn.metrics import classification_report\";\n",
       "                var nbb_cells = Jupyter.notebook.get_cells();\n",
       "                for (var i = 0; i < nbb_cells.length; ++i) {\n",
       "                    if (nbb_cells[i].input_prompt_number == nbb_cell_id) {\n",
       "                        if (nbb_cells[i].get_text() == nbb_unformatted_code) {\n",
       "                             nbb_cells[i].set_text(nbb_formatted_code);\n",
       "                        }\n",
       "                        break;\n",
       "                    }\n",
       "                }\n",
       "            }, 500);\n",
       "            "
      ],
      "text/plain": [
       "<IPython.core.display.Javascript object>"
      ]
     },
     "metadata": {},
     "output_type": "display_data"
    }
   ],
   "source": [
    "from sklearn.metrics import classification_report"
   ]
  },
  {
   "cell_type": "code",
   "execution_count": 62,
   "id": "a7fb1308",
   "metadata": {},
   "outputs": [
    {
     "data": {
      "text/html": [
       "<div>\n",
       "<style scoped>\n",
       "    .dataframe tbody tr th:only-of-type {\n",
       "        vertical-align: middle;\n",
       "    }\n",
       "\n",
       "    .dataframe tbody tr th {\n",
       "        vertical-align: top;\n",
       "    }\n",
       "\n",
       "    .dataframe thead th {\n",
       "        text-align: right;\n",
       "    }\n",
       "</style>\n",
       "<table border=\"1\" class=\"dataframe\">\n",
       "  <thead>\n",
       "    <tr style=\"text-align: right;\">\n",
       "      <th></th>\n",
       "      <th>Accuracy</th>\n",
       "      <th>Recall</th>\n",
       "      <th>Precision</th>\n",
       "      <th>F1</th>\n",
       "    </tr>\n",
       "  </thead>\n",
       "  <tbody>\n",
       "    <tr>\n",
       "      <th>0</th>\n",
       "      <td>0.843318</td>\n",
       "      <td>0.875</td>\n",
       "      <td>0.887324</td>\n",
       "      <td>0.881119</td>\n",
       "    </tr>\n",
       "  </tbody>\n",
       "</table>\n",
       "</div>"
      ],
      "text/plain": [
       "   Accuracy  Recall  Precision        F1\n",
       "0  0.843318   0.875   0.887324  0.881119"
      ]
     },
     "execution_count": 62,
     "metadata": {},
     "output_type": "execute_result"
    },
    {
     "data": {
      "application/javascript": [
       "\n",
       "            setTimeout(function() {\n",
       "                var nbb_cell_id = 62;\n",
       "                var nbb_unformatted_code = \"# print(classification_report(y_train, predictions))\\ndecision_tree_postpruned_perf_train = model_performance_classification_sklearn(\\n    model, X_train, y_train\\n)\\ndecision_tree_postpruned_perf_train\";\n",
       "                var nbb_formatted_code = \"# print(classification_report(y_train, predictions))\\ndecision_tree_postpruned_perf_train = model_performance_classification_sklearn(\\n    model, X_train, y_train\\n)\\ndecision_tree_postpruned_perf_train\";\n",
       "                var nbb_cells = Jupyter.notebook.get_cells();\n",
       "                for (var i = 0; i < nbb_cells.length; ++i) {\n",
       "                    if (nbb_cells[i].input_prompt_number == nbb_cell_id) {\n",
       "                        if (nbb_cells[i].get_text() == nbb_unformatted_code) {\n",
       "                             nbb_cells[i].set_text(nbb_formatted_code);\n",
       "                        }\n",
       "                        break;\n",
       "                    }\n",
       "                }\n",
       "            }, 500);\n",
       "            "
      ],
      "text/plain": [
       "<IPython.core.display.Javascript object>"
      ]
     },
     "metadata": {},
     "output_type": "display_data"
    }
   ],
   "source": [
    "# print(classification_report(y_train, predictions))\n",
    "decision_tree_postpruned_perf_train = model_performance_classification_sklearn(\n",
    "    model, X_train, y_train\n",
    ")\n",
    "decision_tree_postpruned_perf_train"
   ]
  },
  {
   "cell_type": "code",
   "execution_count": 26,
   "id": "bba9ffb0",
   "metadata": {},
   "outputs": [
    {
     "data": {
      "application/javascript": [
       "\n",
       "            setTimeout(function() {\n",
       "                var nbb_cell_id = 26;\n",
       "                var nbb_unformatted_code = \"y_predict = model.predict(X_test)\";\n",
       "                var nbb_formatted_code = \"y_predict = model.predict(X_test)\";\n",
       "                var nbb_cells = Jupyter.notebook.get_cells();\n",
       "                for (var i = 0; i < nbb_cells.length; ++i) {\n",
       "                    if (nbb_cells[i].input_prompt_number == nbb_cell_id) {\n",
       "                        if (nbb_cells[i].get_text() == nbb_unformatted_code) {\n",
       "                             nbb_cells[i].set_text(nbb_formatted_code);\n",
       "                        }\n",
       "                        break;\n",
       "                    }\n",
       "                }\n",
       "            }, 500);\n",
       "            "
      ],
      "text/plain": [
       "<IPython.core.display.Javascript object>"
      ]
     },
     "metadata": {},
     "output_type": "display_data"
    }
   ],
   "source": [
    "y_predict = model.predict(X_test)"
   ]
  },
  {
   "cell_type": "code",
   "execution_count": 27,
   "id": "389afdf8",
   "metadata": {},
   "outputs": [
    {
     "name": "stdout",
     "output_type": "stream",
     "text": [
      "              precision    recall  f1-score   support\n",
      "\n",
      "           0       0.79      0.85      0.82        27\n",
      "           1       0.94      0.91      0.92        66\n",
      "\n",
      "    accuracy                           0.89        93\n",
      "   macro avg       0.87      0.88      0.87        93\n",
      "weighted avg       0.90      0.89      0.89        93\n",
      "\n"
     ]
    },
    {
     "data": {
      "application/javascript": [
       "\n",
       "            setTimeout(function() {\n",
       "                var nbb_cell_id = 27;\n",
       "                var nbb_unformatted_code = \"print(classification_report(y_test, y_predict))\";\n",
       "                var nbb_formatted_code = \"print(classification_report(y_test, y_predict))\";\n",
       "                var nbb_cells = Jupyter.notebook.get_cells();\n",
       "                for (var i = 0; i < nbb_cells.length; ++i) {\n",
       "                    if (nbb_cells[i].input_prompt_number == nbb_cell_id) {\n",
       "                        if (nbb_cells[i].get_text() == nbb_unformatted_code) {\n",
       "                             nbb_cells[i].set_text(nbb_formatted_code);\n",
       "                        }\n",
       "                        break;\n",
       "                    }\n",
       "                }\n",
       "            }, 500);\n",
       "            "
      ],
      "text/plain": [
       "<IPython.core.display.Javascript object>"
      ]
     },
     "metadata": {},
     "output_type": "display_data"
    }
   ],
   "source": [
    "print(classification_report(y_test, y_predict))"
   ]
  },
  {
   "cell_type": "code",
   "execution_count": 28,
   "id": "57651903",
   "metadata": {},
   "outputs": [
    {
     "data": {
      "application/javascript": [
       "\n",
       "            setTimeout(function() {\n",
       "                var nbb_cell_id = 28;\n",
       "                var nbb_unformatted_code = \"from sklearn.model_selection import GridSearchCV\";\n",
       "                var nbb_formatted_code = \"from sklearn.model_selection import GridSearchCV\";\n",
       "                var nbb_cells = Jupyter.notebook.get_cells();\n",
       "                for (var i = 0; i < nbb_cells.length; ++i) {\n",
       "                    if (nbb_cells[i].input_prompt_number == nbb_cell_id) {\n",
       "                        if (nbb_cells[i].get_text() == nbb_unformatted_code) {\n",
       "                             nbb_cells[i].set_text(nbb_formatted_code);\n",
       "                        }\n",
       "                        break;\n",
       "                    }\n",
       "                }\n",
       "            }, 500);\n",
       "            "
      ],
      "text/plain": [
       "<IPython.core.display.Javascript object>"
      ]
     },
     "metadata": {},
     "output_type": "display_data"
    }
   ],
   "source": [
    "from sklearn.model_selection import GridSearchCV"
   ]
  },
  {
   "cell_type": "code",
   "execution_count": 29,
   "id": "a5efe0c4",
   "metadata": {},
   "outputs": [
    {
     "data": {
      "text/plain": [
       "DecisionTreeClassifier(max_depth=4, max_leaf_nodes=10,\n",
       "                       min_impurity_decrease=0.001, min_samples_leaf=5,\n",
       "                       random_state=1)"
      ]
     },
     "execution_count": 29,
     "metadata": {},
     "output_type": "execute_result"
    },
    {
     "data": {
      "application/javascript": [
       "\n",
       "            setTimeout(function() {\n",
       "                var nbb_cell_id = 29;\n",
       "                var nbb_unformatted_code = \"# Choose the type of classifier.\\nestimator = DecisionTreeClassifier(random_state=1)\\n\\n# Grid of parameters to choose from\\n## add from article\\nparameters = {\\n    \\\"max_depth\\\": np.arange(1, 10),\\n    \\\"min_samples_leaf\\\": [1, 2, 5, 7, 10, 15, 20],\\n    \\\"max_leaf_nodes\\\": [2, 3, 5, 10],\\n    \\\"min_impurity_decrease\\\": [0.001, 0.01, 0.1],\\n}\\n\\n# Type of scoring used to compare parameter combinations\\nacc_scorer = metrics.make_scorer(metrics.recall_score)\\n\\n# Run the grid search\\ngrid_obj = GridSearchCV(estimator, parameters, scoring=acc_scorer, cv=5)\\ngrid_obj = grid_obj.fit(X_train, y_train)\\n\\n# Set the clf to the best combination of parameters\\nestimator = grid_obj.best_estimator_\\n\\n# Fit the best algorithm to the data.\\nestimator.fit(X_train, y_train)\";\n",
       "                var nbb_formatted_code = \"# Choose the type of classifier.\\nestimator = DecisionTreeClassifier(random_state=1)\\n\\n# Grid of parameters to choose from\\n## add from article\\nparameters = {\\n    \\\"max_depth\\\": np.arange(1, 10),\\n    \\\"min_samples_leaf\\\": [1, 2, 5, 7, 10, 15, 20],\\n    \\\"max_leaf_nodes\\\": [2, 3, 5, 10],\\n    \\\"min_impurity_decrease\\\": [0.001, 0.01, 0.1],\\n}\\n\\n# Type of scoring used to compare parameter combinations\\nacc_scorer = metrics.make_scorer(metrics.recall_score)\\n\\n# Run the grid search\\ngrid_obj = GridSearchCV(estimator, parameters, scoring=acc_scorer, cv=5)\\ngrid_obj = grid_obj.fit(X_train, y_train)\\n\\n# Set the clf to the best combination of parameters\\nestimator = grid_obj.best_estimator_\\n\\n# Fit the best algorithm to the data.\\nestimator.fit(X_train, y_train)\";\n",
       "                var nbb_cells = Jupyter.notebook.get_cells();\n",
       "                for (var i = 0; i < nbb_cells.length; ++i) {\n",
       "                    if (nbb_cells[i].input_prompt_number == nbb_cell_id) {\n",
       "                        if (nbb_cells[i].get_text() == nbb_unformatted_code) {\n",
       "                             nbb_cells[i].set_text(nbb_formatted_code);\n",
       "                        }\n",
       "                        break;\n",
       "                    }\n",
       "                }\n",
       "            }, 500);\n",
       "            "
      ],
      "text/plain": [
       "<IPython.core.display.Javascript object>"
      ]
     },
     "metadata": {},
     "output_type": "display_data"
    }
   ],
   "source": [
    "# Choose the type of classifier.\n",
    "estimator = DecisionTreeClassifier(random_state=1)\n",
    "\n",
    "# Grid of parameters to choose from\n",
    "## add from article\n",
    "parameters = {\n",
    "    \"max_depth\": np.arange(1, 10),\n",
    "    \"min_samples_leaf\": [1, 2, 5, 7, 10, 15, 20],\n",
    "    \"max_leaf_nodes\": [2, 3, 5, 10],\n",
    "    \"min_impurity_decrease\": [0.001, 0.01, 0.1],\n",
    "}\n",
    "\n",
    "# Type of scoring used to compare parameter combinations\n",
    "acc_scorer = metrics.make_scorer(metrics.recall_score)\n",
    "\n",
    "# Run the grid search\n",
    "grid_obj = GridSearchCV(estimator, parameters, scoring=acc_scorer, cv=5)\n",
    "grid_obj = grid_obj.fit(X_train, y_train)\n",
    "\n",
    "# Set the clf to the best combination of parameters\n",
    "estimator = grid_obj.best_estimator_\n",
    "\n",
    "# Fit the best algorithm to the data.\n",
    "estimator.fit(X_train, y_train)"
   ]
  },
  {
   "cell_type": "code",
   "execution_count": 46,
   "id": "69319a1d",
   "metadata": {},
   "outputs": [
    {
     "name": "stdout",
     "output_type": "stream",
     "text": [
      "\n",
      "\n",
      "Max Depth : 1\n",
      "              precision    recall  f1-score   support\n",
      "\n",
      "           0       0.61      0.96      0.74        73\n",
      "           1       0.97      0.69      0.80       144\n",
      "\n",
      "    accuracy                           0.78       217\n",
      "   macro avg       0.79      0.82      0.77       217\n",
      "weighted avg       0.85      0.78      0.78       217\n",
      "\n",
      "    value\n",
      "0     0.0\n",
      "1     0.0\n",
      "2     0.0\n",
      "3     0.0\n",
      "4     0.0\n",
      "5     1.0\n",
      "6     0.0\n",
      "7     0.0\n",
      "8     0.0\n",
      "9     0.0\n",
      "10    0.0\n",
      "11    0.0\n",
      "\n",
      "\n",
      " sorted results\n",
      "    value\n",
      "5     1.0\n",
      "0     0.0\n",
      "1     0.0\n",
      "2     0.0\n",
      "3     0.0\n",
      "4     0.0\n",
      "6     0.0\n",
      "7     0.0\n",
      "8     0.0\n",
      "9     0.0\n",
      "10    0.0\n",
      "11    0.0\n",
      "\n",
      "\n",
      "Max Depth : 2\n",
      "              precision    recall  f1-score   support\n",
      "\n",
      "           0       0.77      0.74      0.76        73\n",
      "           1       0.87      0.89      0.88       144\n",
      "\n",
      "    accuracy                           0.84       217\n",
      "   macro avg       0.82      0.81      0.82       217\n",
      "weighted avg       0.84      0.84      0.84       217\n",
      "\n",
      "       value\n",
      "0   0.000000\n",
      "1   0.000000\n",
      "2   0.000000\n",
      "3   0.000000\n",
      "4   0.204521\n",
      "5   0.783115\n",
      "6   0.000000\n",
      "7   0.000000\n",
      "8   0.000000\n",
      "9   0.012364\n",
      "10  0.000000\n",
      "11  0.000000\n",
      "\n",
      "\n",
      " sorted results\n",
      "       value\n",
      "5   0.783115\n",
      "4   0.204521\n",
      "9   0.012364\n",
      "0   0.000000\n",
      "1   0.000000\n",
      "2   0.000000\n",
      "3   0.000000\n",
      "6   0.000000\n",
      "7   0.000000\n",
      "8   0.000000\n",
      "10  0.000000\n",
      "11  0.000000\n",
      "\n",
      "\n",
      "Max Depth : 3\n",
      "              precision    recall  f1-score   support\n",
      "\n",
      "           0       0.81      0.92      0.86        73\n",
      "           1       0.96      0.89      0.92       144\n",
      "\n",
      "    accuracy                           0.90       217\n",
      "   macro avg       0.88      0.90      0.89       217\n",
      "weighted avg       0.91      0.90      0.90       217\n",
      "\n",
      "       value\n",
      "0   0.000000\n",
      "1   0.104082\n",
      "2   0.000000\n",
      "3   0.104300\n",
      "4   0.153873\n",
      "5   0.628443\n",
      "6   0.000000\n",
      "7   0.000000\n",
      "8   0.000000\n",
      "9   0.009302\n",
      "10  0.000000\n",
      "11  0.000000\n",
      "\n",
      "\n",
      " sorted results\n",
      "       value\n",
      "5   0.628443\n",
      "4   0.153873\n",
      "3   0.104300\n",
      "1   0.104082\n",
      "9   0.009302\n",
      "0   0.000000\n",
      "2   0.000000\n",
      "6   0.000000\n",
      "7   0.000000\n",
      "8   0.000000\n",
      "10  0.000000\n",
      "11  0.000000\n",
      "\n",
      "\n",
      "Max Depth : 4\n",
      "              precision    recall  f1-score   support\n",
      "\n",
      "           0       0.91      0.86      0.89        73\n",
      "           1       0.93      0.96      0.95       144\n",
      "\n",
      "    accuracy                           0.93       217\n",
      "   macro avg       0.92      0.91      0.92       217\n",
      "weighted avg       0.93      0.93      0.93       217\n",
      "\n",
      "       value\n",
      "0   0.000000\n",
      "1   0.087764\n",
      "2   0.000000\n",
      "3   0.139279\n",
      "4   0.129749\n",
      "5   0.550459\n",
      "6   0.000000\n",
      "7   0.041083\n",
      "8   0.000000\n",
      "9   0.007844\n",
      "10  0.000000\n",
      "11  0.043822\n",
      "\n",
      "\n",
      " sorted results\n",
      "       value\n",
      "5   0.550459\n",
      "3   0.139279\n",
      "4   0.129749\n",
      "1   0.087764\n",
      "11  0.043822\n",
      "7   0.041083\n",
      "9   0.007844\n",
      "0   0.000000\n",
      "2   0.000000\n",
      "6   0.000000\n",
      "8   0.000000\n",
      "10  0.000000\n",
      "\n",
      "\n",
      "Max Depth : 5\n",
      "              precision    recall  f1-score   support\n",
      "\n",
      "           0       0.93      0.96      0.95        73\n",
      "           1       0.98      0.97      0.97       144\n",
      "\n",
      "    accuracy                           0.96       217\n",
      "   macro avg       0.96      0.96      0.96       217\n",
      "weighted avg       0.96      0.96      0.96       217\n",
      "\n",
      "       value\n",
      "0   0.033866\n",
      "1   0.096217\n",
      "2   0.000000\n",
      "3   0.121566\n",
      "4   0.113248\n",
      "5   0.477569\n",
      "6   0.015937\n",
      "7   0.019921\n",
      "8   0.044706\n",
      "9   0.038720\n",
      "10  0.000000\n",
      "11  0.038249\n",
      "\n",
      "\n",
      " sorted results\n",
      "       value\n",
      "5   0.477569\n",
      "3   0.121566\n",
      "4   0.113248\n",
      "1   0.096217\n",
      "8   0.044706\n",
      "9   0.038720\n",
      "11  0.038249\n",
      "0   0.033866\n",
      "7   0.019921\n",
      "6   0.015937\n",
      "2   0.000000\n",
      "10  0.000000\n",
      "\n",
      "\n",
      "Max Depth : 6\n",
      "              precision    recall  f1-score   support\n",
      "\n",
      "           0       0.99      0.97      0.98        73\n",
      "           1       0.99      0.99      0.99       144\n",
      "\n",
      "    accuracy                           0.99       217\n",
      "   macro avg       0.99      0.98      0.98       217\n",
      "weighted avg       0.99      0.99      0.99       217\n",
      "\n",
      "       value\n",
      "0   0.000000\n",
      "1   0.108619\n",
      "2   0.000000\n",
      "3   0.110487\n",
      "4   0.102928\n",
      "5   0.464828\n",
      "6   0.014485\n",
      "7   0.080545\n",
      "8   0.040632\n",
      "9   0.042713\n",
      "10  0.000000\n",
      "11  0.034763\n",
      "\n",
      "\n",
      " sorted results\n",
      "       value\n",
      "5   0.464828\n",
      "3   0.110487\n",
      "1   0.108619\n",
      "4   0.102928\n",
      "7   0.080545\n",
      "9   0.042713\n",
      "8   0.040632\n",
      "11  0.034763\n",
      "6   0.014485\n",
      "0   0.000000\n",
      "2   0.000000\n",
      "10  0.000000\n",
      "\n",
      "\n",
      "Max Depth : 7\n",
      "              precision    recall  f1-score   support\n",
      "\n",
      "           0       0.97      1.00      0.99        73\n",
      "           1       1.00      0.99      0.99       144\n",
      "\n",
      "    accuracy                           0.99       217\n",
      "   macro avg       0.99      0.99      0.99       217\n",
      "weighted avg       0.99      0.99      0.99       217\n",
      "\n",
      "       value\n",
      "0   0.000000\n",
      "1   0.119849\n",
      "2   0.000000\n",
      "3   0.107566\n",
      "4   0.100207\n",
      "5   0.438436\n",
      "6   0.014102\n",
      "7   0.060285\n",
      "8   0.039558\n",
      "9   0.041583\n",
      "10  0.035758\n",
      "11  0.042658\n",
      "\n",
      "\n",
      " sorted results\n",
      "       value\n",
      "5   0.438436\n",
      "1   0.119849\n",
      "3   0.107566\n",
      "4   0.100207\n",
      "7   0.060285\n",
      "11  0.042658\n",
      "9   0.041583\n",
      "8   0.039558\n",
      "10  0.035758\n",
      "6   0.014102\n",
      "0   0.000000\n",
      "2   0.000000\n",
      "\n",
      "\n",
      "Max Depth : 8\n",
      "              precision    recall  f1-score   support\n",
      "\n",
      "           0       1.00      1.00      1.00        73\n",
      "           1       1.00      1.00      1.00       144\n",
      "\n",
      "    accuracy                           1.00       217\n",
      "   macro avg       1.00      1.00      1.00       217\n",
      "weighted avg       1.00      1.00      1.00       217\n",
      "\n",
      "       value\n",
      "0   0.010322\n",
      "1   0.118683\n",
      "2   0.000000\n",
      "3   0.104975\n",
      "4   0.111555\n",
      "5   0.412395\n",
      "6   0.013762\n",
      "7   0.058833\n",
      "8   0.038605\n",
      "9   0.058276\n",
      "10  0.030965\n",
      "11  0.041630\n",
      "\n",
      "\n",
      " sorted results\n",
      "       value\n",
      "5   0.412395\n",
      "1   0.118683\n",
      "4   0.111555\n",
      "3   0.104975\n",
      "7   0.058833\n",
      "9   0.058276\n",
      "11  0.041630\n",
      "8   0.038605\n",
      "10  0.030965\n",
      "6   0.013762\n",
      "0   0.010322\n",
      "2   0.000000\n"
     ]
    },
    {
     "data": {
      "application/javascript": [
       "\n",
       "            setTimeout(function() {\n",
       "                var nbb_cell_id = 46;\n",
       "                var nbb_unformatted_code = \"for i in range(1, 9, 1):\\n    print(f\\\"\\\\n\\\\nMax Depth : {i}\\\")\\n    model = DecisionTreeClassifier(criterion=\\\"gini\\\", random_state=1, max_depth=i)\\n    model.fit(X_train, y_train)\\n    predictions = model.predict(X_train)\\n    print(classification_report(y_train, predictions))\\n    coef_df = pd.DataFrame(model.feature_importances_)\\n    coef_df.columns = [\\\"value\\\"]\\n    print(coef_df)\\n    print(\\\"\\\\n\\\\n sorted results\\\")\\n    print(coef_df.sort_values(by=\\\"value\\\", ascending=False))\";\n",
       "                var nbb_formatted_code = \"for i in range(1, 9, 1):\\n    print(f\\\"\\\\n\\\\nMax Depth : {i}\\\")\\n    model = DecisionTreeClassifier(criterion=\\\"gini\\\", random_state=1, max_depth=i)\\n    model.fit(X_train, y_train)\\n    predictions = model.predict(X_train)\\n    print(classification_report(y_train, predictions))\\n    coef_df = pd.DataFrame(model.feature_importances_)\\n    coef_df.columns = [\\\"value\\\"]\\n    print(coef_df)\\n    print(\\\"\\\\n\\\\n sorted results\\\")\\n    print(coef_df.sort_values(by=\\\"value\\\", ascending=False))\";\n",
       "                var nbb_cells = Jupyter.notebook.get_cells();\n",
       "                for (var i = 0; i < nbb_cells.length; ++i) {\n",
       "                    if (nbb_cells[i].input_prompt_number == nbb_cell_id) {\n",
       "                        if (nbb_cells[i].get_text() == nbb_unformatted_code) {\n",
       "                             nbb_cells[i].set_text(nbb_formatted_code);\n",
       "                        }\n",
       "                        break;\n",
       "                    }\n",
       "                }\n",
       "            }, 500);\n",
       "            "
      ],
      "text/plain": [
       "<IPython.core.display.Javascript object>"
      ]
     },
     "metadata": {},
     "output_type": "display_data"
    }
   ],
   "source": [
    "for i in range(1, 9, 1):\n",
    "    print(f\"\\n\\nMax Depth : {i}\")\n",
    "    model = DecisionTreeClassifier(criterion=\"gini\", random_state=1, max_depth=i)\n",
    "    model.fit(X_train, y_train)\n",
    "    predictions = model.predict(X_train)\n",
    "    print(classification_report(y_train, predictions))\n",
    "    coef_df = pd.DataFrame(model.feature_importances_)\n",
    "    coef_df.columns = [\"value\"]\n",
    "    print(coef_df)\n",
    "    print(\"\\n\\n sorted results\")\n",
    "    print(coef_df.sort_values(by=\"value\", ascending=False))"
   ]
  },
  {
   "cell_type": "code",
   "execution_count": 31,
   "id": "731b2e8c",
   "metadata": {},
   "outputs": [
    {
     "data": {
      "text/plain": [
       "DecisionTreeClassifier(criterion='entropy', max_depth=10, random_state=1,\n",
       "                       splitter='random')"
      ]
     },
     "execution_count": 31,
     "metadata": {},
     "output_type": "execute_result"
    },
    {
     "data": {
      "application/javascript": [
       "\n",
       "            setTimeout(function() {\n",
       "                var nbb_cell_id = 31;\n",
       "                var nbb_unformatted_code = \"# Choose the type of classifier.\\nestimator = DecisionTreeClassifier(random_state=1)\\n\\n# Grid of parameters to choose from\\n## add from article\\nparameters = {\\n    \\\"max_depth\\\": [5, 10, 15, None],\\n    \\\"criterion\\\": [\\\"gini\\\",\\\"entropy\\\"],\\n    \\\"splitter\\\": [\\\"best\\\", \\\"random\\\"],\\n    #\\\"min_impurity_decrease\\\": [0.000001, 0.00001, 0.0001],\\n}\\n\\n# Type of scoring used to compare parameter combinations\\nacc_scorer = metrics.make_scorer(metrics.recall_score)\\n\\n# Run the grid search\\ngrid_obj = GridSearchCV(estimator, parameters, scoring=acc_scorer, cv=3)\\ngrid_obj = grid_obj.fit(X_train, y_train)\\n\\n# Set the clf to the best combination of parameters\\nestimator = grid_obj.best_estimator_\\n\\n# Fit the best algorithm to the data.\\nestimator.fit(X_train, y_train)\";\n",
       "                var nbb_formatted_code = \"# Choose the type of classifier.\\nestimator = DecisionTreeClassifier(random_state=1)\\n\\n# Grid of parameters to choose from\\n## add from article\\nparameters = {\\n    \\\"max_depth\\\": [5, 10, 15, None],\\n    \\\"criterion\\\": [\\\"gini\\\", \\\"entropy\\\"],\\n    \\\"splitter\\\": [\\\"best\\\", \\\"random\\\"],\\n    # \\\"min_impurity_decrease\\\": [0.000001, 0.00001, 0.0001],\\n}\\n\\n# Type of scoring used to compare parameter combinations\\nacc_scorer = metrics.make_scorer(metrics.recall_score)\\n\\n# Run the grid search\\ngrid_obj = GridSearchCV(estimator, parameters, scoring=acc_scorer, cv=3)\\ngrid_obj = grid_obj.fit(X_train, y_train)\\n\\n# Set the clf to the best combination of parameters\\nestimator = grid_obj.best_estimator_\\n\\n# Fit the best algorithm to the data.\\nestimator.fit(X_train, y_train)\";\n",
       "                var nbb_cells = Jupyter.notebook.get_cells();\n",
       "                for (var i = 0; i < nbb_cells.length; ++i) {\n",
       "                    if (nbb_cells[i].input_prompt_number == nbb_cell_id) {\n",
       "                        if (nbb_cells[i].get_text() == nbb_unformatted_code) {\n",
       "                             nbb_cells[i].set_text(nbb_formatted_code);\n",
       "                        }\n",
       "                        break;\n",
       "                    }\n",
       "                }\n",
       "            }, 500);\n",
       "            "
      ],
      "text/plain": [
       "<IPython.core.display.Javascript object>"
      ]
     },
     "metadata": {},
     "output_type": "display_data"
    }
   ],
   "source": [
    "# Choose the type of classifier.\n",
    "estimator = DecisionTreeClassifier(random_state=1)\n",
    "\n",
    "# Grid of parameters to choose from\n",
    "## add from article\n",
    "parameters = {\n",
    "    \"max_depth\": [5, 10, 15, None],\n",
    "    \"criterion\": [\"gini\",\"entropy\"],\n",
    "    \"splitter\": [\"best\", \"random\"],\n",
    "    #\"min_impurity_decrease\": [0.000001, 0.00001, 0.0001],\n",
    "}\n",
    "\n",
    "# Type of scoring used to compare parameter combinations\n",
    "acc_scorer = metrics.make_scorer(metrics.recall_score)\n",
    "\n",
    "# Run the grid search\n",
    "grid_obj = GridSearchCV(estimator, parameters, scoring=acc_scorer, cv=3)\n",
    "grid_obj = grid_obj.fit(X_train, y_train)\n",
    "\n",
    "# Set the clf to the best combination of parameters\n",
    "estimator = grid_obj.best_estimator_\n",
    "\n",
    "# Fit the best algorithm to the data.\n",
    "estimator.fit(X_train, y_train)\n",
    "\n"
   ]
  },
  {
   "cell_type": "code",
   "execution_count": 47,
   "id": "4f70ddc3",
   "metadata": {},
   "outputs": [
    {
     "data": {
      "text/plain": [
       "10"
      ]
     },
     "execution_count": 47,
     "metadata": {},
     "output_type": "execute_result"
    },
    {
     "data": {
      "application/javascript": [
       "\n",
       "            setTimeout(function() {\n",
       "                var nbb_cell_id = 47;\n",
       "                var nbb_unformatted_code = \"estimator.max_depth\";\n",
       "                var nbb_formatted_code = \"estimator.max_depth\";\n",
       "                var nbb_cells = Jupyter.notebook.get_cells();\n",
       "                for (var i = 0; i < nbb_cells.length; ++i) {\n",
       "                    if (nbb_cells[i].input_prompt_number == nbb_cell_id) {\n",
       "                        if (nbb_cells[i].get_text() == nbb_unformatted_code) {\n",
       "                             nbb_cells[i].set_text(nbb_formatted_code);\n",
       "                        }\n",
       "                        break;\n",
       "                    }\n",
       "                }\n",
       "            }, 500);\n",
       "            "
      ],
      "text/plain": [
       "<IPython.core.display.Javascript object>"
      ]
     },
     "metadata": {},
     "output_type": "display_data"
    }
   ],
   "source": [
    "estimator.max_depth"
   ]
  },
  {
   "cell_type": "code",
   "execution_count": 48,
   "id": "cfe6d499",
   "metadata": {},
   "outputs": [
    {
     "data": {
      "text/plain": [
       "'entropy'"
      ]
     },
     "execution_count": 48,
     "metadata": {},
     "output_type": "execute_result"
    },
    {
     "data": {
      "application/javascript": [
       "\n",
       "            setTimeout(function() {\n",
       "                var nbb_cell_id = 48;\n",
       "                var nbb_unformatted_code = \"estimator.criterion\";\n",
       "                var nbb_formatted_code = \"estimator.criterion\";\n",
       "                var nbb_cells = Jupyter.notebook.get_cells();\n",
       "                for (var i = 0; i < nbb_cells.length; ++i) {\n",
       "                    if (nbb_cells[i].input_prompt_number == nbb_cell_id) {\n",
       "                        if (nbb_cells[i].get_text() == nbb_unformatted_code) {\n",
       "                             nbb_cells[i].set_text(nbb_formatted_code);\n",
       "                        }\n",
       "                        break;\n",
       "                    }\n",
       "                }\n",
       "            }, 500);\n",
       "            "
      ],
      "text/plain": [
       "<IPython.core.display.Javascript object>"
      ]
     },
     "metadata": {},
     "output_type": "display_data"
    }
   ],
   "source": [
    "estimator.criterion"
   ]
  },
  {
   "cell_type": "code",
   "execution_count": 49,
   "id": "9ba872e9",
   "metadata": {},
   "outputs": [
    {
     "data": {
      "text/plain": [
       "'random'"
      ]
     },
     "execution_count": 49,
     "metadata": {},
     "output_type": "execute_result"
    },
    {
     "data": {
      "application/javascript": [
       "\n",
       "            setTimeout(function() {\n",
       "                var nbb_cell_id = 49;\n",
       "                var nbb_unformatted_code = \"estimator.splitter\";\n",
       "                var nbb_formatted_code = \"estimator.splitter\";\n",
       "                var nbb_cells = Jupyter.notebook.get_cells();\n",
       "                for (var i = 0; i < nbb_cells.length; ++i) {\n",
       "                    if (nbb_cells[i].input_prompt_number == nbb_cell_id) {\n",
       "                        if (nbb_cells[i].get_text() == nbb_unformatted_code) {\n",
       "                             nbb_cells[i].set_text(nbb_formatted_code);\n",
       "                        }\n",
       "                        break;\n",
       "                    }\n",
       "                }\n",
       "            }, 500);\n",
       "            "
      ],
      "text/plain": [
       "<IPython.core.display.Javascript object>"
      ]
     },
     "metadata": {},
     "output_type": "display_data"
    }
   ],
   "source": [
    "estimator.splitter"
   ]
  },
  {
   "cell_type": "code",
   "execution_count": 35,
   "id": "8caea6fc",
   "metadata": {},
   "outputs": [
    {
     "data": {
      "application/javascript": [
       "\n",
       "            setTimeout(function() {\n",
       "                var nbb_cell_id = 35;\n",
       "                var nbb_unformatted_code = \"from sklearn.metrics import classification_report\";\n",
       "                var nbb_formatted_code = \"from sklearn.metrics import classification_report\";\n",
       "                var nbb_cells = Jupyter.notebook.get_cells();\n",
       "                for (var i = 0; i < nbb_cells.length; ++i) {\n",
       "                    if (nbb_cells[i].input_prompt_number == nbb_cell_id) {\n",
       "                        if (nbb_cells[i].get_text() == nbb_unformatted_code) {\n",
       "                             nbb_cells[i].set_text(nbb_formatted_code);\n",
       "                        }\n",
       "                        break;\n",
       "                    }\n",
       "                }\n",
       "            }, 500);\n",
       "            "
      ],
      "text/plain": [
       "<IPython.core.display.Javascript object>"
      ]
     },
     "metadata": {},
     "output_type": "display_data"
    }
   ],
   "source": [
    "from sklearn.metrics import classification_report"
   ]
  },
  {
   "cell_type": "code",
   "execution_count": 50,
   "id": "aa486587",
   "metadata": {},
   "outputs": [
    {
     "data": {
      "application/javascript": [
       "\n",
       "            setTimeout(function() {\n",
       "                var nbb_cell_id = 50;\n",
       "                var nbb_unformatted_code = \"# predict on test\\ny_predict = estimator.predict(X_test)\";\n",
       "                var nbb_formatted_code = \"# predict on test\\ny_predict = estimator.predict(X_test)\";\n",
       "                var nbb_cells = Jupyter.notebook.get_cells();\n",
       "                for (var i = 0; i < nbb_cells.length; ++i) {\n",
       "                    if (nbb_cells[i].input_prompt_number == nbb_cell_id) {\n",
       "                        if (nbb_cells[i].get_text() == nbb_unformatted_code) {\n",
       "                             nbb_cells[i].set_text(nbb_formatted_code);\n",
       "                        }\n",
       "                        break;\n",
       "                    }\n",
       "                }\n",
       "            }, 500);\n",
       "            "
      ],
      "text/plain": [
       "<IPython.core.display.Javascript object>"
      ]
     },
     "metadata": {},
     "output_type": "display_data"
    }
   ],
   "source": [
    "# predict on test\n",
    "y_predict = estimator.predict(X_test)"
   ]
  },
  {
   "cell_type": "code",
   "execution_count": 51,
   "id": "88c40a55",
   "metadata": {},
   "outputs": [
    {
     "name": "stdout",
     "output_type": "stream",
     "text": [
      "              precision    recall  f1-score   support\n",
      "\n",
      "           0       0.55      0.59      0.57        27\n",
      "           1       0.83      0.80      0.82        66\n",
      "\n",
      "    accuracy                           0.74        93\n",
      "   macro avg       0.69      0.70      0.69        93\n",
      "weighted avg       0.75      0.74      0.74        93\n",
      "\n"
     ]
    },
    {
     "data": {
      "application/javascript": [
       "\n",
       "            setTimeout(function() {\n",
       "                var nbb_cell_id = 51;\n",
       "                var nbb_unformatted_code = \"print(classification_report(y_test, y_predict))\";\n",
       "                var nbb_formatted_code = \"print(classification_report(y_test, y_predict))\";\n",
       "                var nbb_cells = Jupyter.notebook.get_cells();\n",
       "                for (var i = 0; i < nbb_cells.length; ++i) {\n",
       "                    if (nbb_cells[i].input_prompt_number == nbb_cell_id) {\n",
       "                        if (nbb_cells[i].get_text() == nbb_unformatted_code) {\n",
       "                             nbb_cells[i].set_text(nbb_formatted_code);\n",
       "                        }\n",
       "                        break;\n",
       "                    }\n",
       "                }\n",
       "            }, 500);\n",
       "            "
      ],
      "text/plain": [
       "<IPython.core.display.Javascript object>"
      ]
     },
     "metadata": {},
     "output_type": "display_data"
    }
   ],
   "source": [
    "print(classification_report(y_test, y_predict))"
   ]
  },
  {
   "cell_type": "code",
   "execution_count": 52,
   "id": "374def51",
   "metadata": {},
   "outputs": [
    {
     "data": {
      "application/javascript": [
       "\n",
       "            setTimeout(function() {\n",
       "                var nbb_cell_id = 52;\n",
       "                var nbb_unformatted_code = \"dTree = DecisionTreeClassifier(criterion=\\\"gini\\\", random_state=1)\\ndTree.fit(X_train, y_train)\\ny_predict_default = dTree.predict(X_test)\";\n",
       "                var nbb_formatted_code = \"dTree = DecisionTreeClassifier(criterion=\\\"gini\\\", random_state=1)\\ndTree.fit(X_train, y_train)\\ny_predict_default = dTree.predict(X_test)\";\n",
       "                var nbb_cells = Jupyter.notebook.get_cells();\n",
       "                for (var i = 0; i < nbb_cells.length; ++i) {\n",
       "                    if (nbb_cells[i].input_prompt_number == nbb_cell_id) {\n",
       "                        if (nbb_cells[i].get_text() == nbb_unformatted_code) {\n",
       "                             nbb_cells[i].set_text(nbb_formatted_code);\n",
       "                        }\n",
       "                        break;\n",
       "                    }\n",
       "                }\n",
       "            }, 500);\n",
       "            "
      ],
      "text/plain": [
       "<IPython.core.display.Javascript object>"
      ]
     },
     "metadata": {},
     "output_type": "display_data"
    }
   ],
   "source": [
    "dTree = DecisionTreeClassifier(criterion=\"gini\", random_state=1)\n",
    "dTree.fit(X_train, y_train)\n",
    "y_predict_default = dTree.predict(X_test)"
   ]
  },
  {
   "cell_type": "code",
   "execution_count": 53,
   "id": "65901f10",
   "metadata": {},
   "outputs": [
    {
     "name": "stdout",
     "output_type": "stream",
     "text": [
      "              precision    recall  f1-score   support\n",
      "\n",
      "           0       0.59      0.74      0.66        27\n",
      "           1       0.88      0.79      0.83        66\n",
      "\n",
      "    accuracy                           0.77        93\n",
      "   macro avg       0.73      0.76      0.74        93\n",
      "weighted avg       0.80      0.77      0.78        93\n",
      "\n"
     ]
    },
    {
     "data": {
      "application/javascript": [
       "\n",
       "            setTimeout(function() {\n",
       "                var nbb_cell_id = 53;\n",
       "                var nbb_unformatted_code = \"# print(classification_report(y_test, y_predict_default))\\nprint(classification_report(y_test, y_predict_default))\";\n",
       "                var nbb_formatted_code = \"# print(classification_report(y_test, y_predict_default))\\nprint(classification_report(y_test, y_predict_default))\";\n",
       "                var nbb_cells = Jupyter.notebook.get_cells();\n",
       "                for (var i = 0; i < nbb_cells.length; ++i) {\n",
       "                    if (nbb_cells[i].input_prompt_number == nbb_cell_id) {\n",
       "                        if (nbb_cells[i].get_text() == nbb_unformatted_code) {\n",
       "                             nbb_cells[i].set_text(nbb_formatted_code);\n",
       "                        }\n",
       "                        break;\n",
       "                    }\n",
       "                }\n",
       "            }, 500);\n",
       "            "
      ],
      "text/plain": [
       "<IPython.core.display.Javascript object>"
      ]
     },
     "metadata": {},
     "output_type": "display_data"
    }
   ],
   "source": [
    "# print(classification_report(y_test, y_predict_default))\n",
    "print(classification_report(y_test, y_predict_default))"
   ]
  },
  {
   "cell_type": "code",
   "execution_count": 54,
   "id": "a26bbcad",
   "metadata": {},
   "outputs": [
    {
     "data": {
      "application/javascript": [
       "\n",
       "            setTimeout(function() {\n",
       "                var nbb_cell_id = 54;\n",
       "                var nbb_unformatted_code = \"clf = DecisionTreeClassifier(random_state=1)\\npath = clf.cost_complexity_pruning_path(X_train, y_train)\\nccp_alphas, impurities = path.ccp_alphas, path.impurities\";\n",
       "                var nbb_formatted_code = \"clf = DecisionTreeClassifier(random_state=1)\\npath = clf.cost_complexity_pruning_path(X_train, y_train)\\nccp_alphas, impurities = path.ccp_alphas, path.impurities\";\n",
       "                var nbb_cells = Jupyter.notebook.get_cells();\n",
       "                for (var i = 0; i < nbb_cells.length; ++i) {\n",
       "                    if (nbb_cells[i].input_prompt_number == nbb_cell_id) {\n",
       "                        if (nbb_cells[i].get_text() == nbb_unformatted_code) {\n",
       "                             nbb_cells[i].set_text(nbb_formatted_code);\n",
       "                        }\n",
       "                        break;\n",
       "                    }\n",
       "                }\n",
       "            }, 500);\n",
       "            "
      ],
      "text/plain": [
       "<IPython.core.display.Javascript object>"
      ]
     },
     "metadata": {},
     "output_type": "display_data"
    }
   ],
   "source": [
    "clf = DecisionTreeClassifier(random_state=1)\n",
    "path = clf.cost_complexity_pruning_path(X_train, y_train)\n",
    "ccp_alphas, impurities = path.ccp_alphas, path.impurities"
   ]
  },
  {
   "cell_type": "code",
   "execution_count": 41,
   "id": "4e3665ca",
   "metadata": {},
   "outputs": [
    {
     "data": {
      "text/html": [
       "<div>\n",
       "<style scoped>\n",
       "    .dataframe tbody tr th:only-of-type {\n",
       "        vertical-align: middle;\n",
       "    }\n",
       "\n",
       "    .dataframe tbody tr th {\n",
       "        vertical-align: top;\n",
       "    }\n",
       "\n",
       "    .dataframe thead th {\n",
       "        text-align: right;\n",
       "    }\n",
       "</style>\n",
       "<table border=\"1\" class=\"dataframe\">\n",
       "  <thead>\n",
       "    <tr style=\"text-align: right;\">\n",
       "      <th></th>\n",
       "      <th>ccp_alphas</th>\n",
       "      <th>impurities</th>\n",
       "    </tr>\n",
       "  </thead>\n",
       "  <tbody>\n",
       "    <tr>\n",
       "      <th>0</th>\n",
       "      <td>0.000000</td>\n",
       "      <td>0.000000</td>\n",
       "    </tr>\n",
       "    <tr>\n",
       "      <th>1</th>\n",
       "      <td>0.004224</td>\n",
       "      <td>0.008449</td>\n",
       "    </tr>\n",
       "    <tr>\n",
       "      <th>2</th>\n",
       "      <td>0.004558</td>\n",
       "      <td>0.017564</td>\n",
       "    </tr>\n",
       "    <tr>\n",
       "      <th>3</th>\n",
       "      <td>0.005672</td>\n",
       "      <td>0.034579</td>\n",
       "    </tr>\n",
       "    <tr>\n",
       "      <th>4</th>\n",
       "      <td>0.005907</td>\n",
       "      <td>0.052300</td>\n",
       "    </tr>\n",
       "    <tr>\n",
       "      <th>5</th>\n",
       "      <td>0.006144</td>\n",
       "      <td>0.058445</td>\n",
       "    </tr>\n",
       "    <tr>\n",
       "      <th>6</th>\n",
       "      <td>0.007562</td>\n",
       "      <td>0.066007</td>\n",
       "    </tr>\n",
       "    <tr>\n",
       "      <th>7</th>\n",
       "      <td>0.007680</td>\n",
       "      <td>0.073688</td>\n",
       "    </tr>\n",
       "    <tr>\n",
       "      <th>8</th>\n",
       "      <td>0.007900</td>\n",
       "      <td>0.081587</td>\n",
       "    </tr>\n",
       "    <tr>\n",
       "      <th>9</th>\n",
       "      <td>0.008980</td>\n",
       "      <td>0.090568</td>\n",
       "    </tr>\n",
       "    <tr>\n",
       "      <th>10</th>\n",
       "      <td>0.012194</td>\n",
       "      <td>0.114955</td>\n",
       "    </tr>\n",
       "    <tr>\n",
       "      <th>11</th>\n",
       "      <td>0.012289</td>\n",
       "      <td>0.127244</td>\n",
       "    </tr>\n",
       "    <tr>\n",
       "      <th>12</th>\n",
       "      <td>0.014747</td>\n",
       "      <td>0.141990</td>\n",
       "    </tr>\n",
       "    <tr>\n",
       "      <th>13</th>\n",
       "      <td>0.017236</td>\n",
       "      <td>0.159226</td>\n",
       "    </tr>\n",
       "    <tr>\n",
       "      <th>14</th>\n",
       "      <td>0.017273</td>\n",
       "      <td>0.176500</td>\n",
       "    </tr>\n",
       "    <tr>\n",
       "      <th>15</th>\n",
       "      <td>0.029534</td>\n",
       "      <td>0.206033</td>\n",
       "    </tr>\n",
       "    <tr>\n",
       "      <th>16</th>\n",
       "      <td>0.029595</td>\n",
       "      <td>0.235629</td>\n",
       "    </tr>\n",
       "    <tr>\n",
       "      <th>17</th>\n",
       "      <td>0.043662</td>\n",
       "      <td>0.279291</td>\n",
       "    </tr>\n",
       "    <tr>\n",
       "      <th>18</th>\n",
       "      <td>0.167183</td>\n",
       "      <td>0.446474</td>\n",
       "    </tr>\n",
       "  </tbody>\n",
       "</table>\n",
       "</div>"
      ],
      "text/plain": [
       "    ccp_alphas  impurities\n",
       "0     0.000000    0.000000\n",
       "1     0.004224    0.008449\n",
       "2     0.004558    0.017564\n",
       "3     0.005672    0.034579\n",
       "4     0.005907    0.052300\n",
       "5     0.006144    0.058445\n",
       "6     0.007562    0.066007\n",
       "7     0.007680    0.073688\n",
       "8     0.007900    0.081587\n",
       "9     0.008980    0.090568\n",
       "10    0.012194    0.114955\n",
       "11    0.012289    0.127244\n",
       "12    0.014747    0.141990\n",
       "13    0.017236    0.159226\n",
       "14    0.017273    0.176500\n",
       "15    0.029534    0.206033\n",
       "16    0.029595    0.235629\n",
       "17    0.043662    0.279291\n",
       "18    0.167183    0.446474"
      ]
     },
     "execution_count": 41,
     "metadata": {},
     "output_type": "execute_result"
    },
    {
     "data": {
      "application/javascript": [
       "\n",
       "            setTimeout(function() {\n",
       "                var nbb_cell_id = 41;\n",
       "                var nbb_unformatted_code = \"pd.DataFrame(path)\";\n",
       "                var nbb_formatted_code = \"pd.DataFrame(path)\";\n",
       "                var nbb_cells = Jupyter.notebook.get_cells();\n",
       "                for (var i = 0; i < nbb_cells.length; ++i) {\n",
       "                    if (nbb_cells[i].input_prompt_number == nbb_cell_id) {\n",
       "                        if (nbb_cells[i].get_text() == nbb_unformatted_code) {\n",
       "                             nbb_cells[i].set_text(nbb_formatted_code);\n",
       "                        }\n",
       "                        break;\n",
       "                    }\n",
       "                }\n",
       "            }, 500);\n",
       "            "
      ],
      "text/plain": [
       "<IPython.core.display.Javascript object>"
      ]
     },
     "metadata": {},
     "output_type": "display_data"
    }
   ],
   "source": [
    "pd.DataFrame(path)"
   ]
  },
  {
   "cell_type": "code",
   "execution_count": 42,
   "id": "adabd851",
   "metadata": {},
   "outputs": [
    {
     "data": {
      "image/png": "[encoded data removed]",
      "text/plain": [
       "<Figure size 1080x360 with 1 Axes>"
      ]
     },
     "metadata": {},
     "output_type": "display_data"
    },
    {
     "data": {
      "application/javascript": [
       "\n",
       "            setTimeout(function() {\n",
       "                var nbb_cell_id = 42;\n",
       "                var nbb_unformatted_code = \"fig, ax = plt.subplots(figsize=(15, 5))\\nax.plot(ccp_alphas[:-1], impurities[:-1], marker=\\\"o\\\", drawstyle=\\\"steps-post\\\")\\nax.set_xlabel(\\\"effective alpha\\\")\\nax.set_ylabel(\\\"total impurity of leaves\\\")\\nax.set_title(\\\"Total Impurity vs effective alpha for training set\\\")\\nplt.show()\";\n",
       "                var nbb_formatted_code = \"fig, ax = plt.subplots(figsize=(15, 5))\\nax.plot(ccp_alphas[:-1], impurities[:-1], marker=\\\"o\\\", drawstyle=\\\"steps-post\\\")\\nax.set_xlabel(\\\"effective alpha\\\")\\nax.set_ylabel(\\\"total impurity of leaves\\\")\\nax.set_title(\\\"Total Impurity vs effective alpha for training set\\\")\\nplt.show()\";\n",
       "                var nbb_cells = Jupyter.notebook.get_cells();\n",
       "                for (var i = 0; i < nbb_cells.length; ++i) {\n",
       "                    if (nbb_cells[i].input_prompt_number == nbb_cell_id) {\n",
       "                        if (nbb_cells[i].get_text() == nbb_unformatted_code) {\n",
       "                             nbb_cells[i].set_text(nbb_formatted_code);\n",
       "                        }\n",
       "                        break;\n",
       "                    }\n",
       "                }\n",
       "            }, 500);\n",
       "            "
      ],
      "text/plain": [
       "<IPython.core.display.Javascript object>"
      ]
     },
     "metadata": {},
     "output_type": "display_data"
    }
   ],
   "source": [
    "fig, ax = plt.subplots(figsize=(15, 5))\n",
    "ax.plot(ccp_alphas[:-1], impurities[:-1], marker=\"o\", drawstyle=\"steps-post\")\n",
    "ax.set_xlabel(\"effective alpha\")\n",
    "ax.set_ylabel(\"total impurity of leaves\")\n",
    "ax.set_title(\"Total Impurity vs effective alpha for training set\")\n",
    "plt.show()"
   ]
  },
  {
   "cell_type": "code",
   "execution_count": 43,
   "id": "5194167e",
   "metadata": {},
   "outputs": [
    {
     "data": {
      "application/javascript": [
       "\n",
       "            setTimeout(function() {\n",
       "                var nbb_cell_id = 43;\n",
       "                var nbb_unformatted_code = \"clfs = []\\nfor ccp_alpha in ccp_alphas:\\n    clf = DecisionTreeClassifier(random_state=1, ccp_alpha=ccp_alpha)\\n    clf.fit(X_train, y_train)\\n    clfs.append(clf)\";\n",
       "                var nbb_formatted_code = \"clfs = []\\nfor ccp_alpha in ccp_alphas:\\n    clf = DecisionTreeClassifier(random_state=1, ccp_alpha=ccp_alpha)\\n    clf.fit(X_train, y_train)\\n    clfs.append(clf)\";\n",
       "                var nbb_cells = Jupyter.notebook.get_cells();\n",
       "                for (var i = 0; i < nbb_cells.length; ++i) {\n",
       "                    if (nbb_cells[i].input_prompt_number == nbb_cell_id) {\n",
       "                        if (nbb_cells[i].get_text() == nbb_unformatted_code) {\n",
       "                             nbb_cells[i].set_text(nbb_formatted_code);\n",
       "                        }\n",
       "                        break;\n",
       "                    }\n",
       "                }\n",
       "            }, 500);\n",
       "            "
      ],
      "text/plain": [
       "<IPython.core.display.Javascript object>"
      ]
     },
     "metadata": {},
     "output_type": "display_data"
    }
   ],
   "source": [
    "clfs = []\n",
    "for ccp_alpha in ccp_alphas:\n",
    "    clf = DecisionTreeClassifier(random_state=1, ccp_alpha=ccp_alpha)\n",
    "    clf.fit(X_train, y_train)\n",
    "    clfs.append(clf)\n"
   ]
  },
  {
   "cell_type": "code",
   "execution_count": 44,
   "id": "c220ae79",
   "metadata": {},
   "outputs": [
    {
     "name": "stdout",
     "output_type": "stream",
     "text": [
      "DecisionTreeClassifier(random_state=1),1.0\n",
      "DecisionTreeClassifier(ccp_alpha=0.004224270353302612, random_state=1),0.9930555555555556\n",
      "DecisionTreeClassifier(ccp_alpha=0.004557654327239579, random_state=1),0.9930555555555556\n",
      "DecisionTreeClassifier(ccp_alpha=0.005671747607231476, random_state=1),0.9930555555555556\n",
      "DecisionTreeClassifier(ccp_alpha=0.005907077471186985, random_state=1),0.9930555555555556\n",
      "DecisionTreeClassifier(ccp_alpha=0.006144393241167435, random_state=1),0.9861111111111112\n",
      "DecisionTreeClassifier(ccp_alpha=0.007562330142975311, random_state=1),0.9861111111111112\n",
      "DecisionTreeClassifier(ccp_alpha=0.007680491551459296, random_state=1),0.9930555555555556\n",
      "DecisionTreeClassifier(ccp_alpha=0.007899934167215275, random_state=1),0.9930555555555556\n",
      "DecisionTreeClassifier(ccp_alpha=0.008980267044783167, random_state=1),0.9861111111111112\n",
      "DecisionTreeClassifier(ccp_alpha=0.012193600903278331, random_state=1),0.9652777777777778\n",
      "DecisionTreeClassifier(ccp_alpha=0.01228878648233487, random_state=1),0.9652777777777778\n",
      "DecisionTreeClassifier(ccp_alpha=0.01474654377880184, random_state=1),0.9375\n",
      "DecisionTreeClassifier(ccp_alpha=0.017236220001196963, random_state=1),0.9375\n",
      "DecisionTreeClassifier(ccp_alpha=0.017273288241030152, random_state=1),0.8958333333333334\n",
      "DecisionTreeClassifier(ccp_alpha=0.029533600040512503, random_state=1),0.8611111111111112\n",
      "DecisionTreeClassifier(ccp_alpha=0.029595494111623127, random_state=1),0.8888888888888888\n",
      "DecisionTreeClassifier(ccp_alpha=0.04366208381435788, random_state=1),0.6875\n",
      "DecisionTreeClassifier(ccp_alpha=0.16718273972032832, random_state=1),1.0\n"
     ]
    },
    {
     "data": {
      "application/javascript": [
       "\n",
       "            setTimeout(function() {\n",
       "                var nbb_cell_id = 44;\n",
       "                var nbb_unformatted_code = \"recall_train = []\\nfor clf in clfs:\\n    pred_train = clf.predict(X_train)\\n    values_train = recall_score(y_train, pred_train)\\n    print(f\\\"{clf},{values_train}\\\")\\n    recall_train.append(values_train)\";\n",
       "                var nbb_formatted_code = \"recall_train = []\\nfor clf in clfs:\\n    pred_train = clf.predict(X_train)\\n    values_train = recall_score(y_train, pred_train)\\n    print(f\\\"{clf},{values_train}\\\")\\n    recall_train.append(values_train)\";\n",
       "                var nbb_cells = Jupyter.notebook.get_cells();\n",
       "                for (var i = 0; i < nbb_cells.length; ++i) {\n",
       "                    if (nbb_cells[i].input_prompt_number == nbb_cell_id) {\n",
       "                        if (nbb_cells[i].get_text() == nbb_unformatted_code) {\n",
       "                             nbb_cells[i].set_text(nbb_formatted_code);\n",
       "                        }\n",
       "                        break;\n",
       "                    }\n",
       "                }\n",
       "            }, 500);\n",
       "            "
      ],
      "text/plain": [
       "<IPython.core.display.Javascript object>"
      ]
     },
     "metadata": {},
     "output_type": "display_data"
    }
   ],
   "source": [
    "recall_train = []\n",
    "for clf in clfs:\n",
    "    pred_train = clf.predict(X_train)\n",
    "    values_train = recall_score(y_train, pred_train)\n",
    "    print(f\"{clf},{values_train}\")\n",
    "    recall_train.append(values_train)"
   ]
  },
  {
   "cell_type": "code",
   "execution_count": 45,
   "id": "7911dec9",
   "metadata": {},
   "outputs": [
    {
     "data": {
      "image/png": "[encoded data removed]",
      "text/plain": [
       "<Figure size 1080x360 with 1 Axes>"
      ]
     },
     "metadata": {},
     "output_type": "display_data"
    },
    {
     "data": {
      "application/javascript": [
       "\n",
       "            setTimeout(function() {\n",
       "                var nbb_cell_id = 45;\n",
       "                var nbb_unformatted_code = \"fig, ax = plt.subplots(figsize=(15, 5))\\nax.set_xlabel(\\\"alpha\\\")\\nax.set_ylabel(\\\"Recall\\\")\\nax.set_title(\\\"Recall vs alpha for training and testing sets\\\")\\nax.plot(ccp_alphas, recall_train, marker=\\\"o\\\", label=\\\"train\\\", drawstyle=\\\"steps-post\\\")\\n# ax.plot(ccp_alphas, recall_test, marker=\\\"o\\\", label=\\\"test\\\", drawstyle=\\\"steps-post\\\")\\nax.legend()\\nplt.show()\";\n",
       "                var nbb_formatted_code = \"fig, ax = plt.subplots(figsize=(15, 5))\\nax.set_xlabel(\\\"alpha\\\")\\nax.set_ylabel(\\\"Recall\\\")\\nax.set_title(\\\"Recall vs alpha for training and testing sets\\\")\\nax.plot(ccp_alphas, recall_train, marker=\\\"o\\\", label=\\\"train\\\", drawstyle=\\\"steps-post\\\")\\n# ax.plot(ccp_alphas, recall_test, marker=\\\"o\\\", label=\\\"test\\\", drawstyle=\\\"steps-post\\\")\\nax.legend()\\nplt.show()\";\n",
       "                var nbb_cells = Jupyter.notebook.get_cells();\n",
       "                for (var i = 0; i < nbb_cells.length; ++i) {\n",
       "                    if (nbb_cells[i].input_prompt_number == nbb_cell_id) {\n",
       "                        if (nbb_cells[i].get_text() == nbb_unformatted_code) {\n",
       "                             nbb_cells[i].set_text(nbb_formatted_code);\n",
       "                        }\n",
       "                        break;\n",
       "                    }\n",
       "                }\n",
       "            }, 500);\n",
       "            "
      ],
      "text/plain": [
       "<IPython.core.display.Javascript object>"
      ]
     },
     "metadata": {},
     "output_type": "display_data"
    }
   ],
   "source": [
    "fig, ax = plt.subplots(figsize=(15, 5))\n",
    "ax.set_xlabel(\"alpha\")\n",
    "ax.set_ylabel(\"Recall\")\n",
    "ax.set_title(\"Recall vs alpha for training and testing sets\")\n",
    "ax.plot(ccp_alphas, recall_train, marker=\"o\", label=\"train\", drawstyle=\"steps-post\")\n",
    "# ax.plot(ccp_alphas, recall_test, marker=\"o\", label=\"test\", drawstyle=\"steps-post\")\n",
    "ax.legend()\n",
    "plt.show()"
   ]
  },
  {
   "cell_type": "code",
   "execution_count": 55,
   "id": "7218704a",
   "metadata": {},
   "outputs": [
    {
     "data": {
      "text/html": [
       "<div>\n",
       "<style scoped>\n",
       "    .dataframe tbody tr th:only-of-type {\n",
       "        vertical-align: middle;\n",
       "    }\n",
       "\n",
       "    .dataframe tbody tr th {\n",
       "        vertical-align: top;\n",
       "    }\n",
       "\n",
       "    .dataframe thead th {\n",
       "        text-align: right;\n",
       "    }\n",
       "</style>\n",
       "<table border=\"1\" class=\"dataframe\">\n",
       "  <thead>\n",
       "    <tr style=\"text-align: right;\">\n",
       "      <th></th>\n",
       "      <th>Accuracy</th>\n",
       "      <th>Recall</th>\n",
       "      <th>Precision</th>\n",
       "      <th>F1</th>\n",
       "    </tr>\n",
       "  </thead>\n",
       "  <tbody>\n",
       "    <tr>\n",
       "      <th>0</th>\n",
       "      <td>0.774194</td>\n",
       "      <td>0.787879</td>\n",
       "      <td>0.881356</td>\n",
       "      <td>0.832</td>\n",
       "    </tr>\n",
       "  </tbody>\n",
       "</table>\n",
       "</div>"
      ],
      "text/plain": [
       "   Accuracy    Recall  Precision     F1\n",
       "0  0.774194  0.787879   0.881356  0.832"
      ]
     },
     "execution_count": 55,
     "metadata": {},
     "output_type": "execute_result"
    },
    {
     "data": {
      "application/javascript": [
       "\n",
       "            setTimeout(function() {\n",
       "                var nbb_cell_id = 55;\n",
       "                var nbb_unformatted_code = \"decision_tree_postpruned_perf_train = model_performance_classification_sklearn(\\n    dTree, X_test, y_test\\n)\\ndecision_tree_postpruned_perf_train\";\n",
       "                var nbb_formatted_code = \"decision_tree_postpruned_perf_train = model_performance_classification_sklearn(\\n    dTree, X_test, y_test\\n)\\ndecision_tree_postpruned_perf_train\";\n",
       "                var nbb_cells = Jupyter.notebook.get_cells();\n",
       "                for (var i = 0; i < nbb_cells.length; ++i) {\n",
       "                    if (nbb_cells[i].input_prompt_number == nbb_cell_id) {\n",
       "                        if (nbb_cells[i].get_text() == nbb_unformatted_code) {\n",
       "                             nbb_cells[i].set_text(nbb_formatted_code);\n",
       "                        }\n",
       "                        break;\n",
       "                    }\n",
       "                }\n",
       "            }, 500);\n",
       "            "
      ],
      "text/plain": [
       "<IPython.core.display.Javascript object>"
      ]
     },
     "metadata": {},
     "output_type": "display_data"
    }
   ],
   "source": [
    "decision_tree_postpruned_perf_train = model_performance_classification_sklearn(\n",
    "    dTree, X_test, y_test\n",
    ")\n",
    "decision_tree_postpruned_perf_train"
   ]
  },
  {
   "cell_type": "code",
   "execution_count": 56,
   "id": "679e2859",
   "metadata": {},
   "outputs": [
    {
     "data": {
      "text/html": [
       "<div>\n",
       "<style scoped>\n",
       "    .dataframe tbody tr th:only-of-type {\n",
       "        vertical-align: middle;\n",
       "    }\n",
       "\n",
       "    .dataframe tbody tr th {\n",
       "        vertical-align: top;\n",
       "    }\n",
       "\n",
       "    .dataframe thead th {\n",
       "        text-align: right;\n",
       "    }\n",
       "</style>\n",
       "<table border=\"1\" class=\"dataframe\">\n",
       "  <thead>\n",
       "    <tr style=\"text-align: right;\">\n",
       "      <th></th>\n",
       "      <th>Accuracy</th>\n",
       "      <th>Recall</th>\n",
       "      <th>Precision</th>\n",
       "      <th>F1</th>\n",
       "    </tr>\n",
       "  </thead>\n",
       "  <tbody>\n",
       "    <tr>\n",
       "      <th>0</th>\n",
       "      <td>0.741935</td>\n",
       "      <td>0.80303</td>\n",
       "      <td>0.828125</td>\n",
       "      <td>0.815385</td>\n",
       "    </tr>\n",
       "  </tbody>\n",
       "</table>\n",
       "</div>"
      ],
      "text/plain": [
       "   Accuracy   Recall  Precision        F1\n",
       "0  0.741935  0.80303   0.828125  0.815385"
      ]
     },
     "execution_count": 56,
     "metadata": {},
     "output_type": "execute_result"
    },
    {
     "data": {
      "application/javascript": [
       "\n",
       "            setTimeout(function() {\n",
       "                var nbb_cell_id = 56;\n",
       "                var nbb_unformatted_code = \"decision_tree_postpruned_perf_train = model_performance_classification_sklearn(\\n    estimator, X_test, y_test\\n)\\ndecision_tree_postpruned_perf_train\";\n",
       "                var nbb_formatted_code = \"decision_tree_postpruned_perf_train = model_performance_classification_sklearn(\\n    estimator, X_test, y_test\\n)\\ndecision_tree_postpruned_perf_train\";\n",
       "                var nbb_cells = Jupyter.notebook.get_cells();\n",
       "                for (var i = 0; i < nbb_cells.length; ++i) {\n",
       "                    if (nbb_cells[i].input_prompt_number == nbb_cell_id) {\n",
       "                        if (nbb_cells[i].get_text() == nbb_unformatted_code) {\n",
       "                             nbb_cells[i].set_text(nbb_formatted_code);\n",
       "                        }\n",
       "                        break;\n",
       "                    }\n",
       "                }\n",
       "            }, 500);\n",
       "            "
      ],
      "text/plain": [
       "<IPython.core.display.Javascript object>"
      ]
     },
     "metadata": {},
     "output_type": "display_data"
    }
   ],
   "source": [
    "decision_tree_postpruned_perf_train = model_performance_classification_sklearn(\n",
    "    estimator, X_test, y_test\n",
    ")\n",
    "decision_tree_postpruned_perf_train"
   ]
  },
  {
   "cell_type": "code",
   "execution_count": null,
   "id": "a08a8acd",
   "metadata": {},
   "outputs": [],
   "source": []
  }
 ],
 "metadata": {
  "kernelspec": {
   "display_name": "Python 3",
   "language": "python",
   "name": "python3"
  },
  "language_info": {
   "codemirror_mode": {
    "name": "ipython",
    "version": 3
   },
   "file_extension": ".py",
   "mimetype": "text/x-python",
   "name": "python",
   "nbconvert_exporter": "python",
   "pygments_lexer": "ipython3",
   "version": "3.8.8"
  }
 },
 "nbformat": 4,
 "nbformat_minor": 5
}
