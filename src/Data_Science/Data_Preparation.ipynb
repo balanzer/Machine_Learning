{
 "cells": [
  {
   "cell_type": "markdown",
   "id": "75a95e96",
   "metadata": {},
   "source": [
    "## Data Preparation Basics"
   ]
  },
  {
   "cell_type": "code",
   "execution_count": 2,
   "id": "e8a19406",
   "metadata": {},
   "outputs": [],
   "source": [
    "import numpy as np\n",
    "import pandas as pd\n",
    "\n",
    "from pandas import Series,DataFrame\n"
   ]
  },
  {
   "cell_type": "markdown",
   "id": "68c30a2a",
   "metadata": {},
   "source": [
    "### Accessing data with Label index and Integer index"
   ]
  },
  {
   "cell_type": "code",
   "execution_count": 3,
   "id": "536ad588",
   "metadata": {},
   "outputs": [
    {
     "data": {
      "text/plain": [
       "0    1\n",
       "1    3\n",
       "2    5\n",
       "3    7\n",
       "4    9\n",
       "dtype: int64"
      ]
     },
     "execution_count": 3,
     "metadata": {},
     "output_type": "execute_result"
    }
   ],
   "source": [
    "# Create a simple series without index, By Default it uses integer index 0 to n\n",
    "\n",
    "series_no_index = Series(np.arange(1,10,2))\n",
    "series_no_index"
   ]
  },
  {
   "cell_type": "code",
   "execution_count": 3,
   "id": "03b19afd",
   "metadata": {},
   "outputs": [
    {
     "data": {
      "text/plain": [
       "row 0     0\n",
       "row 1     2\n",
       "row 2     4\n",
       "row 3     6\n",
       "row 4     8\n",
       "row 5    10\n",
       "row 6    12\n",
       "row 7    14\n",
       "row 8    16\n",
       "row 9    18\n",
       "dtype: int64"
      ]
     },
     "execution_count": 3,
     "metadata": {},
     "output_type": "execute_result"
    }
   ],
   "source": [
    "# Create a simple series with index\n",
    "\n",
    "rowindex=[\"row \"+str(x) for x in range(10)]\n",
    "\n",
    "series_obj = Series(np.arange(0,20,2), index=rowindex)\n",
    "series_obj"
   ]
  },
  {
   "cell_type": "code",
   "execution_count": 25,
   "id": "91ec5b78",
   "metadata": {},
   "outputs": [
    {
     "name": "stdout",
     "output_type": "stream",
     "text": [
      "row 5 label value is : 10\n",
      "\n",
      "index 4  value is : 8\n",
      "\n",
      "index 4,5,6 value is :\n",
      "row 4     8\n",
      "row 5    10\n",
      "row 6    12\n",
      "dtype: int64\n",
      "\n"
     ]
    }
   ],
   "source": [
    "#access data with label and integer index\n",
    "print(f'row 5 label value is : {series_obj[\"row 5\"]}')\n",
    "print()\n",
    "## integer index \n",
    "print(f'index 4  value is : {series_obj[4]}')\n",
    "print()\n",
    "## integer index - fetch multi values\n",
    "print(f'index 4,5,6 value is :\\n{series_obj[[4,5,6]]}')\n",
    "print()\n",
    "\n"
   ]
  },
  {
   "cell_type": "code",
   "execution_count": 34,
   "id": "927370d4",
   "metadata": {},
   "outputs": [
    {
     "data": {
      "text/html": [
       "<div>\n",
       "<style scoped>\n",
       "    .dataframe tbody tr th:only-of-type {\n",
       "        vertical-align: middle;\n",
       "    }\n",
       "\n",
       "    .dataframe tbody tr th {\n",
       "        vertical-align: top;\n",
       "    }\n",
       "\n",
       "    .dataframe thead th {\n",
       "        text-align: right;\n",
       "    }\n",
       "</style>\n",
       "<table border=\"1\" class=\"dataframe\">\n",
       "  <thead>\n",
       "    <tr style=\"text-align: right;\">\n",
       "      <th></th>\n",
       "      <th>col 1</th>\n",
       "      <th>col 2</th>\n",
       "      <th>col 3</th>\n",
       "      <th>col 4</th>\n",
       "      <th>col 5</th>\n",
       "      <th>col 6</th>\n",
       "    </tr>\n",
       "  </thead>\n",
       "  <tbody>\n",
       "    <tr>\n",
       "      <th>row 1</th>\n",
       "      <td>0.870124</td>\n",
       "      <td>0.582277</td>\n",
       "      <td>0.278839</td>\n",
       "      <td>0.185911</td>\n",
       "      <td>0.411100</td>\n",
       "      <td>0.117376</td>\n",
       "    </tr>\n",
       "    <tr>\n",
       "      <th>row 2</th>\n",
       "      <td>0.684969</td>\n",
       "      <td>0.437611</td>\n",
       "      <td>0.556229</td>\n",
       "      <td>0.367080</td>\n",
       "      <td>0.402366</td>\n",
       "      <td>0.113041</td>\n",
       "    </tr>\n",
       "    <tr>\n",
       "      <th>row 3</th>\n",
       "      <td>0.447031</td>\n",
       "      <td>0.585445</td>\n",
       "      <td>0.161985</td>\n",
       "      <td>0.520719</td>\n",
       "      <td>0.326051</td>\n",
       "      <td>0.699186</td>\n",
       "    </tr>\n",
       "    <tr>\n",
       "      <th>row 4</th>\n",
       "      <td>0.366395</td>\n",
       "      <td>0.836375</td>\n",
       "      <td>0.481343</td>\n",
       "      <td>0.516502</td>\n",
       "      <td>0.383048</td>\n",
       "      <td>0.997541</td>\n",
       "    </tr>\n",
       "    <tr>\n",
       "      <th>row 5</th>\n",
       "      <td>0.514244</td>\n",
       "      <td>0.559053</td>\n",
       "      <td>0.034450</td>\n",
       "      <td>0.719930</td>\n",
       "      <td>0.421004</td>\n",
       "      <td>0.436935</td>\n",
       "    </tr>\n",
       "    <tr>\n",
       "      <th>row 6</th>\n",
       "      <td>0.281701</td>\n",
       "      <td>0.900274</td>\n",
       "      <td>0.669612</td>\n",
       "      <td>0.456069</td>\n",
       "      <td>0.289804</td>\n",
       "      <td>0.525819</td>\n",
       "    </tr>\n",
       "  </tbody>\n",
       "</table>\n",
       "</div>"
      ],
      "text/plain": [
       "          col 1     col 2     col 3     col 4     col 5     col 6\n",
       "row 1  0.870124  0.582277  0.278839  0.185911  0.411100  0.117376\n",
       "row 2  0.684969  0.437611  0.556229  0.367080  0.402366  0.113041\n",
       "row 3  0.447031  0.585445  0.161985  0.520719  0.326051  0.699186\n",
       "row 4  0.366395  0.836375  0.481343  0.516502  0.383048  0.997541\n",
       "row 5  0.514244  0.559053  0.034450  0.719930  0.421004  0.436935\n",
       "row 6  0.281701  0.900274  0.669612  0.456069  0.289804  0.525819"
      ]
     },
     "execution_count": 34,
     "metadata": {},
     "output_type": "execute_result"
    }
   ],
   "source": [
    "## create data frame example \n",
    "\n",
    "np.random.seed(25)\n",
    "\n",
    "rowindex=[\"row \"+str(x) for x in range(1,7,1)]\n",
    "colindex=[\"col \"+str(x) for x in range(1,7,1)]\n",
    "\n",
    "df_obj = DataFrame(np.random.rand(36).reshape(6,6), index=rowindex, columns=colindex)\n",
    "df_obj"
   ]
  },
  {
   "cell_type": "code",
   "execution_count": 36,
   "id": "c0e91e81",
   "metadata": {},
   "outputs": [
    {
     "data": {
      "text/html": [
       "<div>\n",
       "<style scoped>\n",
       "    .dataframe tbody tr th:only-of-type {\n",
       "        vertical-align: middle;\n",
       "    }\n",
       "\n",
       "    .dataframe tbody tr th {\n",
       "        vertical-align: top;\n",
       "    }\n",
       "\n",
       "    .dataframe thead th {\n",
       "        text-align: right;\n",
       "    }\n",
       "</style>\n",
       "<table border=\"1\" class=\"dataframe\">\n",
       "  <thead>\n",
       "    <tr style=\"text-align: right;\">\n",
       "      <th></th>\n",
       "      <th>col 2</th>\n",
       "      <th>col 5</th>\n",
       "    </tr>\n",
       "  </thead>\n",
       "  <tbody>\n",
       "    <tr>\n",
       "      <th>row 2</th>\n",
       "      <td>0.437611</td>\n",
       "      <td>0.402366</td>\n",
       "    </tr>\n",
       "    <tr>\n",
       "      <th>row 5</th>\n",
       "      <td>0.559053</td>\n",
       "      <td>0.421004</td>\n",
       "    </tr>\n",
       "  </tbody>\n",
       "</table>\n",
       "</div>"
      ],
      "text/plain": [
       "          col 2     col 5\n",
       "row 2  0.437611  0.402366\n",
       "row 5  0.559053  0.421004"
      ]
     },
     "execution_count": 36,
     "metadata": {},
     "output_type": "execute_result"
    }
   ],
   "source": [
    "## access data \n",
    "\n",
    "## access row and col \n",
    "\n",
    "\n",
    "df_obj.loc[['row 2', 'row 5'], ['col 2','col 5']]"
   ]
  },
  {
   "cell_type": "code",
   "execution_count": 41,
   "id": "24752b54",
   "metadata": {},
   "outputs": [
    {
     "data": {
      "text/html": [
       "<div>\n",
       "<style scoped>\n",
       "    .dataframe tbody tr th:only-of-type {\n",
       "        vertical-align: middle;\n",
       "    }\n",
       "\n",
       "    .dataframe tbody tr th {\n",
       "        vertical-align: top;\n",
       "    }\n",
       "\n",
       "    .dataframe thead th {\n",
       "        text-align: right;\n",
       "    }\n",
       "</style>\n",
       "<table border=\"1\" class=\"dataframe\">\n",
       "  <thead>\n",
       "    <tr style=\"text-align: right;\">\n",
       "      <th></th>\n",
       "      <th>col 2</th>\n",
       "      <th>col 3</th>\n",
       "      <th>col 4</th>\n",
       "    </tr>\n",
       "  </thead>\n",
       "  <tbody>\n",
       "    <tr>\n",
       "      <th>row 2</th>\n",
       "      <td>0.437611</td>\n",
       "      <td>0.556229</td>\n",
       "      <td>0.367080</td>\n",
       "    </tr>\n",
       "    <tr>\n",
       "      <th>row 3</th>\n",
       "      <td>0.585445</td>\n",
       "      <td>0.161985</td>\n",
       "      <td>0.520719</td>\n",
       "    </tr>\n",
       "    <tr>\n",
       "      <th>row 4</th>\n",
       "      <td>0.836375</td>\n",
       "      <td>0.481343</td>\n",
       "      <td>0.516502</td>\n",
       "    </tr>\n",
       "  </tbody>\n",
       "</table>\n",
       "</div>"
      ],
      "text/plain": [
       "          col 2     col 3     col 4\n",
       "row 2  0.437611  0.556229  0.367080\n",
       "row 3  0.585445  0.161985  0.520719\n",
       "row 4  0.836375  0.481343  0.516502"
      ]
     },
     "execution_count": 41,
     "metadata": {},
     "output_type": "execute_result"
    }
   ],
   "source": [
    "## access row and col with range \n",
    "\n",
    "df_obj.iloc[1:4,1:4]"
   ]
  },
  {
   "cell_type": "markdown",
   "id": "4493473c",
   "metadata": {},
   "source": [
    "### Data Slicing"
   ]
  },
  {
   "cell_type": "code",
   "execution_count": 42,
   "id": "6a1a4c66",
   "metadata": {},
   "outputs": [
    {
     "data": {
      "text/plain": [
       "row 1    2\n",
       "row 2    4\n",
       "dtype: int64"
      ]
     },
     "execution_count": 42,
     "metadata": {},
     "output_type": "execute_result"
    }
   ],
   "source": [
    "series_obj[1:3] ## on series "
   ]
  },
  {
   "cell_type": "code",
   "execution_count": 43,
   "id": "98445220",
   "metadata": {},
   "outputs": [
    {
     "data": {
      "text/html": [
       "<div>\n",
       "<style scoped>\n",
       "    .dataframe tbody tr th:only-of-type {\n",
       "        vertical-align: middle;\n",
       "    }\n",
       "\n",
       "    .dataframe tbody tr th {\n",
       "        vertical-align: top;\n",
       "    }\n",
       "\n",
       "    .dataframe thead th {\n",
       "        text-align: right;\n",
       "    }\n",
       "</style>\n",
       "<table border=\"1\" class=\"dataframe\">\n",
       "  <thead>\n",
       "    <tr style=\"text-align: right;\">\n",
       "      <th></th>\n",
       "      <th>col 2</th>\n",
       "      <th>col 3</th>\n",
       "      <th>col 4</th>\n",
       "    </tr>\n",
       "  </thead>\n",
       "  <tbody>\n",
       "    <tr>\n",
       "      <th>row 2</th>\n",
       "      <td>0.437611</td>\n",
       "      <td>0.556229</td>\n",
       "      <td>0.367080</td>\n",
       "    </tr>\n",
       "    <tr>\n",
       "      <th>row 3</th>\n",
       "      <td>0.585445</td>\n",
       "      <td>0.161985</td>\n",
       "      <td>0.520719</td>\n",
       "    </tr>\n",
       "    <tr>\n",
       "      <th>row 4</th>\n",
       "      <td>0.836375</td>\n",
       "      <td>0.481343</td>\n",
       "      <td>0.516502</td>\n",
       "    </tr>\n",
       "  </tbody>\n",
       "</table>\n",
       "</div>"
      ],
      "text/plain": [
       "          col 2     col 3     col 4\n",
       "row 2  0.437611  0.556229  0.367080\n",
       "row 3  0.585445  0.161985  0.520719\n",
       "row 4  0.836375  0.481343  0.516502"
      ]
     },
     "execution_count": 43,
     "metadata": {},
     "output_type": "execute_result"
    }
   ],
   "source": [
    "series_obj[1:3] ## on data frame \n",
    "df_obj.iloc[1:4,1:4]"
   ]
  },
  {
   "cell_type": "markdown",
   "id": "2b676217",
   "metadata": {},
   "source": [
    "### Comparing Values  and Filters "
   ]
  },
  {
   "cell_type": "code",
   "execution_count": 46,
   "id": "3817e7fe",
   "metadata": {},
   "outputs": [
    {
     "data": {
      "text/html": [
       "<div>\n",
       "<style scoped>\n",
       "    .dataframe tbody tr th:only-of-type {\n",
       "        vertical-align: middle;\n",
       "    }\n",
       "\n",
       "    .dataframe tbody tr th {\n",
       "        vertical-align: top;\n",
       "    }\n",
       "\n",
       "    .dataframe thead th {\n",
       "        text-align: right;\n",
       "    }\n",
       "</style>\n",
       "<table border=\"1\" class=\"dataframe\">\n",
       "  <thead>\n",
       "    <tr style=\"text-align: right;\">\n",
       "      <th></th>\n",
       "      <th>col 1</th>\n",
       "      <th>col 2</th>\n",
       "      <th>col 3</th>\n",
       "      <th>col 4</th>\n",
       "      <th>col 5</th>\n",
       "      <th>col 6</th>\n",
       "    </tr>\n",
       "  </thead>\n",
       "  <tbody>\n",
       "    <tr>\n",
       "      <th>row 1</th>\n",
       "      <td>False</td>\n",
       "      <td>False</td>\n",
       "      <td>False</td>\n",
       "      <td>True</td>\n",
       "      <td>False</td>\n",
       "      <td>True</td>\n",
       "    </tr>\n",
       "    <tr>\n",
       "      <th>row 2</th>\n",
       "      <td>False</td>\n",
       "      <td>False</td>\n",
       "      <td>False</td>\n",
       "      <td>False</td>\n",
       "      <td>False</td>\n",
       "      <td>True</td>\n",
       "    </tr>\n",
       "    <tr>\n",
       "      <th>row 3</th>\n",
       "      <td>False</td>\n",
       "      <td>False</td>\n",
       "      <td>True</td>\n",
       "      <td>False</td>\n",
       "      <td>False</td>\n",
       "      <td>False</td>\n",
       "    </tr>\n",
       "    <tr>\n",
       "      <th>row 4</th>\n",
       "      <td>False</td>\n",
       "      <td>False</td>\n",
       "      <td>False</td>\n",
       "      <td>False</td>\n",
       "      <td>False</td>\n",
       "      <td>False</td>\n",
       "    </tr>\n",
       "    <tr>\n",
       "      <th>row 5</th>\n",
       "      <td>False</td>\n",
       "      <td>False</td>\n",
       "      <td>True</td>\n",
       "      <td>False</td>\n",
       "      <td>False</td>\n",
       "      <td>False</td>\n",
       "    </tr>\n",
       "    <tr>\n",
       "      <th>row 6</th>\n",
       "      <td>False</td>\n",
       "      <td>False</td>\n",
       "      <td>False</td>\n",
       "      <td>False</td>\n",
       "      <td>False</td>\n",
       "      <td>False</td>\n",
       "    </tr>\n",
       "  </tbody>\n",
       "</table>\n",
       "</div>"
      ],
      "text/plain": [
       "       col 1  col 2  col 3  col 4  col 5  col 6\n",
       "row 1  False  False  False   True  False   True\n",
       "row 2  False  False  False  False  False   True\n",
       "row 3  False  False   True  False  False  False\n",
       "row 4  False  False  False  False  False  False\n",
       "row 5  False  False   True  False  False  False\n",
       "row 6  False  False  False  False  False  False"
      ]
     },
     "execution_count": 46,
     "metadata": {},
     "output_type": "execute_result"
    }
   ],
   "source": [
    "df_obj<.2"
   ]
  },
  {
   "cell_type": "code",
   "execution_count": 51,
   "id": "db91b4f9",
   "metadata": {},
   "outputs": [
    {
     "data": {
      "text/plain": [
       "row 6    12\n",
       "row 7    14\n",
       "row 8    16\n",
       "row 9    18\n",
       "dtype: int64"
      ]
     },
     "execution_count": 51,
     "metadata": {},
     "output_type": "execute_result"
    }
   ],
   "source": [
    "series_obj[series_obj>10] ## only values > 10"
   ]
  },
  {
   "cell_type": "code",
   "execution_count": 55,
   "id": "1c7a6094",
   "metadata": {},
   "outputs": [
    {
     "name": "stdout",
     "output_type": "stream",
     "text": [
      "row 0     0\n",
      "row 1     2\n",
      "row 2     4\n",
      "row 3     6\n",
      "row 4     8\n",
      "row 5    10\n",
      "row 6    12\n",
      "row 7    14\n",
      "row 8    16\n",
      "row 9    18\n",
      "dtype: int64\n",
      "row 0     0\n",
      "row 1     2\n",
      "row 2     4\n",
      "row 3     6\n",
      "row 4     8\n",
      "row 5    10\n",
      "row 6    10\n",
      "row 7    10\n",
      "row 8    10\n",
      "row 9    10\n",
      "dtype: int64\n"
     ]
    }
   ],
   "source": [
    "## setting values with scalars \n",
    "print(series_obj)\n",
    "series_obj[series_obj>10]=10\n",
    "print(series_obj)"
   ]
  },
  {
   "cell_type": "markdown",
   "id": "514e5bf2",
   "metadata": {},
   "source": [
    "## missing values"
   ]
  },
  {
   "cell_type": "code",
   "execution_count": 6,
   "id": "4aa5daf1",
   "metadata": {},
   "outputs": [
    {
     "data": {
      "text/plain": [
       "row 0      0.0\n",
       "row 1      2.0\n",
       "row 2      4.0\n",
       "row 3      6.0\n",
       "row 4      8.0\n",
       "row 5     10.0\n",
       "row 6     12.0\n",
       "row 7     14.0\n",
       "row 8     16.0\n",
       "row 9     18.0\n",
       "row 10     NaN\n",
       "row 11    12.0\n",
       "row 12     NaN\n",
       "dtype: float64"
      ]
     },
     "execution_count": 6,
     "metadata": {},
     "output_type": "execute_result"
    }
   ],
   "source": [
    "\n",
    "\n",
    "#adding few missing values to series_obj\n",
    "missing = np.nan\n",
    "series_obj.loc['row 10'] = missing\n",
    "series_obj.loc['row 11'] = 12.00\n",
    "series_obj.loc['row 12'] = missing\n",
    "\n",
    "series_obj"
   ]
  },
  {
   "cell_type": "code",
   "execution_count": 8,
   "id": "3b10119d",
   "metadata": {},
   "outputs": [
    {
     "data": {
      "text/plain": [
       "row 0     False\n",
       "row 1     False\n",
       "row 2     False\n",
       "row 3     False\n",
       "row 4     False\n",
       "row 5     False\n",
       "row 6     False\n",
       "row 7     False\n",
       "row 8     False\n",
       "row 9     False\n",
       "row 10     True\n",
       "row 11    False\n",
       "row 12     True\n",
       "dtype: bool"
      ]
     },
     "execution_count": 8,
     "metadata": {},
     "output_type": "execute_result"
    }
   ],
   "source": [
    "#check how many elements are null\n",
    "series_obj.isnull()"
   ]
  },
  {
   "cell_type": "markdown",
   "id": "5684e0d1",
   "metadata": {},
   "source": [
    "### Filling Missing Values"
   ]
  },
  {
   "cell_type": "code",
   "execution_count": 9,
   "id": "dd6e6521",
   "metadata": {},
   "outputs": [
    {
     "data": {
      "text/html": [
       "<div>\n",
       "<style scoped>\n",
       "    .dataframe tbody tr th:only-of-type {\n",
       "        vertical-align: middle;\n",
       "    }\n",
       "\n",
       "    .dataframe tbody tr th {\n",
       "        vertical-align: top;\n",
       "    }\n",
       "\n",
       "    .dataframe thead th {\n",
       "        text-align: right;\n",
       "    }\n",
       "</style>\n",
       "<table border=\"1\" class=\"dataframe\">\n",
       "  <thead>\n",
       "    <tr style=\"text-align: right;\">\n",
       "      <th></th>\n",
       "      <th>col 1</th>\n",
       "      <th>col 2</th>\n",
       "      <th>col 3</th>\n",
       "      <th>col 4</th>\n",
       "      <th>col 5</th>\n",
       "      <th>col 6</th>\n",
       "    </tr>\n",
       "  </thead>\n",
       "  <tbody>\n",
       "    <tr>\n",
       "      <th>row 1</th>\n",
       "      <td>0.398615</td>\n",
       "      <td>0.957505</td>\n",
       "      <td>0.108189</td>\n",
       "      <td>0.148248</td>\n",
       "      <td>0.262128</td>\n",
       "      <td>0.946035</td>\n",
       "    </tr>\n",
       "    <tr>\n",
       "      <th>row 2</th>\n",
       "      <td>0.784067</td>\n",
       "      <td>0.918139</td>\n",
       "      <td>0.369697</td>\n",
       "      <td>0.916951</td>\n",
       "      <td>0.195749</td>\n",
       "      <td>0.191043</td>\n",
       "    </tr>\n",
       "    <tr>\n",
       "      <th>row 3</th>\n",
       "      <td>0.204398</td>\n",
       "      <td>0.852855</td>\n",
       "      <td>0.905445</td>\n",
       "      <td>0.144089</td>\n",
       "      <td>0.883152</td>\n",
       "      <td>0.203316</td>\n",
       "    </tr>\n",
       "    <tr>\n",
       "      <th>row 4</th>\n",
       "      <td>0.865976</td>\n",
       "      <td>0.690759</td>\n",
       "      <td>0.297003</td>\n",
       "      <td>0.435136</td>\n",
       "      <td>0.283879</td>\n",
       "      <td>0.072647</td>\n",
       "    </tr>\n",
       "    <tr>\n",
       "      <th>row 5</th>\n",
       "      <td>0.367407</td>\n",
       "      <td>0.042702</td>\n",
       "      <td>0.800873</td>\n",
       "      <td>0.798374</td>\n",
       "      <td>0.080060</td>\n",
       "      <td>0.455399</td>\n",
       "    </tr>\n",
       "    <tr>\n",
       "      <th>row 6</th>\n",
       "      <td>0.496345</td>\n",
       "      <td>0.519673</td>\n",
       "      <td>0.158813</td>\n",
       "      <td>0.797526</td>\n",
       "      <td>0.569424</td>\n",
       "      <td>0.100498</td>\n",
       "    </tr>\n",
       "  </tbody>\n",
       "</table>\n",
       "</div>"
      ],
      "text/plain": [
       "          col 1     col 2     col 3     col 4     col 5     col 6\n",
       "row 1  0.398615  0.957505  0.108189  0.148248  0.262128  0.946035\n",
       "row 2  0.784067  0.918139  0.369697  0.916951  0.195749  0.191043\n",
       "row 3  0.204398  0.852855  0.905445  0.144089  0.883152  0.203316\n",
       "row 4  0.865976  0.690759  0.297003  0.435136  0.283879  0.072647\n",
       "row 5  0.367407  0.042702  0.800873  0.798374  0.080060  0.455399\n",
       "row 6  0.496345  0.519673  0.158813  0.797526  0.569424  0.100498"
      ]
     },
     "execution_count": 9,
     "metadata": {},
     "output_type": "execute_result"
    }
   ],
   "source": [
    "## create data frame example\n",
    "\n",
    "rowindex=[\"row \"+str(x) for x in range(1,7,1)]\n",
    "colindex=[\"col \"+str(x) for x in range(1,7,1)]\n",
    "\n",
    "df_obj = DataFrame(np.random.rand(36).reshape(6,6), index=rowindex, columns=colindex)\n",
    "df_obj"
   ]
  },
  {
   "cell_type": "code",
   "execution_count": 23,
   "id": "7b5d48f8",
   "metadata": {},
   "outputs": [
    {
     "data": {
      "text/html": [
       "<div>\n",
       "<style scoped>\n",
       "    .dataframe tbody tr th:only-of-type {\n",
       "        vertical-align: middle;\n",
       "    }\n",
       "\n",
       "    .dataframe tbody tr th {\n",
       "        vertical-align: top;\n",
       "    }\n",
       "\n",
       "    .dataframe thead th {\n",
       "        text-align: right;\n",
       "    }\n",
       "</style>\n",
       "<table border=\"1\" class=\"dataframe\">\n",
       "  <thead>\n",
       "    <tr style=\"text-align: right;\">\n",
       "      <th></th>\n",
       "      <th>col 1</th>\n",
       "      <th>col 2</th>\n",
       "      <th>col 3</th>\n",
       "      <th>col 4</th>\n",
       "      <th>col 5</th>\n",
       "      <th>col 6</th>\n",
       "    </tr>\n",
       "  </thead>\n",
       "  <tbody>\n",
       "    <tr>\n",
       "      <th>row 1</th>\n",
       "      <td>0.000000</td>\n",
       "      <td>0.000000</td>\n",
       "      <td>0.108189</td>\n",
       "      <td>0.148248</td>\n",
       "      <td>0.262128</td>\n",
       "      <td>0.946035</td>\n",
       "    </tr>\n",
       "    <tr>\n",
       "      <th>row 2</th>\n",
       "      <td>0.000000</td>\n",
       "      <td>0.000000</td>\n",
       "      <td>0.369697</td>\n",
       "      <td>0.916951</td>\n",
       "      <td>0.195749</td>\n",
       "      <td>0.191043</td>\n",
       "    </tr>\n",
       "    <tr>\n",
       "      <th>row 3</th>\n",
       "      <td>0.204398</td>\n",
       "      <td>0.852855</td>\n",
       "      <td>0.905445</td>\n",
       "      <td>0.144089</td>\n",
       "      <td>0.883152</td>\n",
       "      <td>0.203316</td>\n",
       "    </tr>\n",
       "    <tr>\n",
       "      <th>row 4</th>\n",
       "      <td>NaN</td>\n",
       "      <td>NaN</td>\n",
       "      <td>0.297003</td>\n",
       "      <td>0.435136</td>\n",
       "      <td>0.283879</td>\n",
       "      <td>0.072647</td>\n",
       "    </tr>\n",
       "    <tr>\n",
       "      <th>row 5</th>\n",
       "      <td>NaN</td>\n",
       "      <td>NaN</td>\n",
       "      <td>0.800873</td>\n",
       "      <td>0.798374</td>\n",
       "      <td>0.080060</td>\n",
       "      <td>0.455399</td>\n",
       "    </tr>\n",
       "    <tr>\n",
       "      <th>row 6</th>\n",
       "      <td>0.496345</td>\n",
       "      <td>0.519673</td>\n",
       "      <td>0.158813</td>\n",
       "      <td>0.797526</td>\n",
       "      <td>0.569424</td>\n",
       "      <td>0.100498</td>\n",
       "    </tr>\n",
       "  </tbody>\n",
       "</table>\n",
       "</div>"
      ],
      "text/plain": [
       "          col 1     col 2     col 3     col 4     col 5     col 6\n",
       "row 1  0.000000  0.000000  0.108189  0.148248  0.262128  0.946035\n",
       "row 2  0.000000  0.000000  0.369697  0.916951  0.195749  0.191043\n",
       "row 3  0.204398  0.852855  0.905445  0.144089  0.883152  0.203316\n",
       "row 4       NaN       NaN  0.297003  0.435136  0.283879  0.072647\n",
       "row 5       NaN       NaN  0.800873  0.798374  0.080060  0.455399\n",
       "row 6  0.496345  0.519673  0.158813  0.797526  0.569424  0.100498"
      ]
     },
     "execution_count": 23,
     "metadata": {},
     "output_type": "execute_result"
    }
   ],
   "source": [
    "#set some values to missing\n",
    "\n",
    "df_obj.iloc[3:5,0:2] = missing\n",
    "df_obj.iloc[0:2,0:2] = 0.00\n",
    "\n",
    "df_obj"
   ]
  },
  {
   "cell_type": "code",
   "execution_count": 21,
   "id": "8307f1a1",
   "metadata": {},
   "outputs": [
    {
     "data": {
      "text/html": [
       "<div>\n",
       "<style scoped>\n",
       "    .dataframe tbody tr th:only-of-type {\n",
       "        vertical-align: middle;\n",
       "    }\n",
       "\n",
       "    .dataframe tbody tr th {\n",
       "        vertical-align: top;\n",
       "    }\n",
       "\n",
       "    .dataframe thead th {\n",
       "        text-align: right;\n",
       "    }\n",
       "</style>\n",
       "<table border=\"1\" class=\"dataframe\">\n",
       "  <thead>\n",
       "    <tr style=\"text-align: right;\">\n",
       "      <th></th>\n",
       "      <th>col 1</th>\n",
       "      <th>col 2</th>\n",
       "      <th>col 3</th>\n",
       "      <th>col 4</th>\n",
       "      <th>col 5</th>\n",
       "      <th>col 6</th>\n",
       "    </tr>\n",
       "  </thead>\n",
       "  <tbody>\n",
       "    <tr>\n",
       "      <th>row 1</th>\n",
       "      <td>0.000000</td>\n",
       "      <td>0.000000</td>\n",
       "      <td>0.108189</td>\n",
       "      <td>0.148248</td>\n",
       "      <td>0.262128</td>\n",
       "      <td>0.946035</td>\n",
       "    </tr>\n",
       "    <tr>\n",
       "      <th>row 2</th>\n",
       "      <td>0.000000</td>\n",
       "      <td>0.000000</td>\n",
       "      <td>0.369697</td>\n",
       "      <td>0.916951</td>\n",
       "      <td>0.195749</td>\n",
       "      <td>0.191043</td>\n",
       "    </tr>\n",
       "    <tr>\n",
       "      <th>row 3</th>\n",
       "      <td>0.204398</td>\n",
       "      <td>0.852855</td>\n",
       "      <td>0.905445</td>\n",
       "      <td>0.144089</td>\n",
       "      <td>0.883152</td>\n",
       "      <td>0.203316</td>\n",
       "    </tr>\n",
       "    <tr>\n",
       "      <th>row 4</th>\n",
       "      <td>0.000000</td>\n",
       "      <td>0.000000</td>\n",
       "      <td>0.297003</td>\n",
       "      <td>0.435136</td>\n",
       "      <td>0.283879</td>\n",
       "      <td>0.072647</td>\n",
       "    </tr>\n",
       "    <tr>\n",
       "      <th>row 5</th>\n",
       "      <td>0.000000</td>\n",
       "      <td>0.000000</td>\n",
       "      <td>0.800873</td>\n",
       "      <td>0.798374</td>\n",
       "      <td>0.080060</td>\n",
       "      <td>0.455399</td>\n",
       "    </tr>\n",
       "    <tr>\n",
       "      <th>row 6</th>\n",
       "      <td>0.496345</td>\n",
       "      <td>0.519673</td>\n",
       "      <td>0.158813</td>\n",
       "      <td>0.797526</td>\n",
       "      <td>0.569424</td>\n",
       "      <td>0.100498</td>\n",
       "    </tr>\n",
       "  </tbody>\n",
       "</table>\n",
       "</div>"
      ],
      "text/plain": [
       "          col 1     col 2     col 3     col 4     col 5     col 6\n",
       "row 1  0.000000  0.000000  0.108189  0.148248  0.262128  0.946035\n",
       "row 2  0.000000  0.000000  0.369697  0.916951  0.195749  0.191043\n",
       "row 3  0.204398  0.852855  0.905445  0.144089  0.883152  0.203316\n",
       "row 4  0.000000  0.000000  0.297003  0.435136  0.283879  0.072647\n",
       "row 5  0.000000  0.000000  0.800873  0.798374  0.080060  0.455399\n",
       "row 6  0.496345  0.519673  0.158813  0.797526  0.569424  0.100498"
      ]
     },
     "execution_count": 21,
     "metadata": {},
     "output_type": "execute_result"
    }
   ],
   "source": [
    "#fill missing values with 0 \n",
    "\n",
    "\n",
    "df_obj= df_obj.fillna(0)\n",
    "df_obj"
   ]
  },
  {
   "cell_type": "markdown",
   "id": "b52b99f1",
   "metadata": {},
   "source": [
    "## counting missing values"
   ]
  },
  {
   "cell_type": "code",
   "execution_count": 29,
   "id": "fcea67c8",
   "metadata": {},
   "outputs": [
    {
     "data": {
      "text/plain": [
       "col 1    2\n",
       "col 2    2\n",
       "col 3    0\n",
       "col 4    0\n",
       "col 5    0\n",
       "col 6    0\n",
       "dtype: int64"
      ]
     },
     "execution_count": 29,
     "metadata": {},
     "output_type": "execute_result"
    }
   ],
   "source": [
    "# Count null values by columns\n",
    "df_obj.isnull().sum()"
   ]
  },
  {
   "cell_type": "markdown",
   "id": "5b2abb56",
   "metadata": {},
   "source": [
    "## Filter missing values\n"
   ]
  },
  {
   "cell_type": "code",
   "execution_count": 26,
   "id": "5f7ce580",
   "metadata": {},
   "outputs": [
    {
     "data": {
      "text/html": [
       "<div>\n",
       "<style scoped>\n",
       "    .dataframe tbody tr th:only-of-type {\n",
       "        vertical-align: middle;\n",
       "    }\n",
       "\n",
       "    .dataframe tbody tr th {\n",
       "        vertical-align: top;\n",
       "    }\n",
       "\n",
       "    .dataframe thead th {\n",
       "        text-align: right;\n",
       "    }\n",
       "</style>\n",
       "<table border=\"1\" class=\"dataframe\">\n",
       "  <thead>\n",
       "    <tr style=\"text-align: right;\">\n",
       "      <th></th>\n",
       "      <th>col 1</th>\n",
       "      <th>col 2</th>\n",
       "      <th>col 3</th>\n",
       "      <th>col 4</th>\n",
       "      <th>col 5</th>\n",
       "      <th>col 6</th>\n",
       "    </tr>\n",
       "  </thead>\n",
       "  <tbody>\n",
       "    <tr>\n",
       "      <th>row 1</th>\n",
       "      <td>0.000000</td>\n",
       "      <td>0.000000</td>\n",
       "      <td>0.108189</td>\n",
       "      <td>0.148248</td>\n",
       "      <td>0.262128</td>\n",
       "      <td>0.946035</td>\n",
       "    </tr>\n",
       "    <tr>\n",
       "      <th>row 2</th>\n",
       "      <td>0.000000</td>\n",
       "      <td>0.000000</td>\n",
       "      <td>0.369697</td>\n",
       "      <td>0.916951</td>\n",
       "      <td>0.195749</td>\n",
       "      <td>0.191043</td>\n",
       "    </tr>\n",
       "    <tr>\n",
       "      <th>row 3</th>\n",
       "      <td>0.204398</td>\n",
       "      <td>0.852855</td>\n",
       "      <td>0.905445</td>\n",
       "      <td>0.144089</td>\n",
       "      <td>0.883152</td>\n",
       "      <td>0.203316</td>\n",
       "    </tr>\n",
       "    <tr>\n",
       "      <th>row 6</th>\n",
       "      <td>0.496345</td>\n",
       "      <td>0.519673</td>\n",
       "      <td>0.158813</td>\n",
       "      <td>0.797526</td>\n",
       "      <td>0.569424</td>\n",
       "      <td>0.100498</td>\n",
       "    </tr>\n",
       "  </tbody>\n",
       "</table>\n",
       "</div>"
      ],
      "text/plain": [
       "          col 1     col 2     col 3     col 4     col 5     col 6\n",
       "row 1  0.000000  0.000000  0.108189  0.148248  0.262128  0.946035\n",
       "row 2  0.000000  0.000000  0.369697  0.916951  0.195749  0.191043\n",
       "row 3  0.204398  0.852855  0.905445  0.144089  0.883152  0.203316\n",
       "row 6  0.496345  0.519673  0.158813  0.797526  0.569424  0.100498"
      ]
     },
     "execution_count": 26,
     "metadata": {},
     "output_type": "execute_result"
    }
   ],
   "source": [
    "df_obj.dropna() ## drop all rows with null values"
   ]
  },
  {
   "cell_type": "code",
   "execution_count": 27,
   "id": "d98a27ed",
   "metadata": {},
   "outputs": [
    {
     "data": {
      "text/html": [
       "<div>\n",
       "<style scoped>\n",
       "    .dataframe tbody tr th:only-of-type {\n",
       "        vertical-align: middle;\n",
       "    }\n",
       "\n",
       "    .dataframe tbody tr th {\n",
       "        vertical-align: top;\n",
       "    }\n",
       "\n",
       "    .dataframe thead th {\n",
       "        text-align: right;\n",
       "    }\n",
       "</style>\n",
       "<table border=\"1\" class=\"dataframe\">\n",
       "  <thead>\n",
       "    <tr style=\"text-align: right;\">\n",
       "      <th></th>\n",
       "      <th>col 3</th>\n",
       "      <th>col 4</th>\n",
       "      <th>col 5</th>\n",
       "      <th>col 6</th>\n",
       "    </tr>\n",
       "  </thead>\n",
       "  <tbody>\n",
       "    <tr>\n",
       "      <th>row 1</th>\n",
       "      <td>0.108189</td>\n",
       "      <td>0.148248</td>\n",
       "      <td>0.262128</td>\n",
       "      <td>0.946035</td>\n",
       "    </tr>\n",
       "    <tr>\n",
       "      <th>row 2</th>\n",
       "      <td>0.369697</td>\n",
       "      <td>0.916951</td>\n",
       "      <td>0.195749</td>\n",
       "      <td>0.191043</td>\n",
       "    </tr>\n",
       "    <tr>\n",
       "      <th>row 3</th>\n",
       "      <td>0.905445</td>\n",
       "      <td>0.144089</td>\n",
       "      <td>0.883152</td>\n",
       "      <td>0.203316</td>\n",
       "    </tr>\n",
       "    <tr>\n",
       "      <th>row 4</th>\n",
       "      <td>0.297003</td>\n",
       "      <td>0.435136</td>\n",
       "      <td>0.283879</td>\n",
       "      <td>0.072647</td>\n",
       "    </tr>\n",
       "    <tr>\n",
       "      <th>row 5</th>\n",
       "      <td>0.800873</td>\n",
       "      <td>0.798374</td>\n",
       "      <td>0.080060</td>\n",
       "      <td>0.455399</td>\n",
       "    </tr>\n",
       "    <tr>\n",
       "      <th>row 6</th>\n",
       "      <td>0.158813</td>\n",
       "      <td>0.797526</td>\n",
       "      <td>0.569424</td>\n",
       "      <td>0.100498</td>\n",
       "    </tr>\n",
       "  </tbody>\n",
       "</table>\n",
       "</div>"
      ],
      "text/plain": [
       "          col 3     col 4     col 5     col 6\n",
       "row 1  0.108189  0.148248  0.262128  0.946035\n",
       "row 2  0.369697  0.916951  0.195749  0.191043\n",
       "row 3  0.905445  0.144089  0.883152  0.203316\n",
       "row 4  0.297003  0.435136  0.283879  0.072647\n",
       "row 5  0.800873  0.798374  0.080060  0.455399\n",
       "row 6  0.158813  0.797526  0.569424  0.100498"
      ]
     },
     "execution_count": 27,
     "metadata": {},
     "output_type": "execute_result"
    }
   ],
   "source": [
    "df_obj.dropna(axis=1) ## drop all columns with null values"
   ]
  },
  {
   "cell_type": "markdown",
   "id": "b558a013",
   "metadata": {},
   "source": [
    "## Removing Duplicates"
   ]
  },
  {
   "cell_type": "code",
   "execution_count": 33,
   "id": "15507f6e",
   "metadata": {},
   "outputs": [
    {
     "data": {
      "text/html": [
       "<div>\n",
       "<style scoped>\n",
       "    .dataframe tbody tr th:only-of-type {\n",
       "        vertical-align: middle;\n",
       "    }\n",
       "\n",
       "    .dataframe tbody tr th {\n",
       "        vertical-align: top;\n",
       "    }\n",
       "\n",
       "    .dataframe thead th {\n",
       "        text-align: right;\n",
       "    }\n",
       "</style>\n",
       "<table border=\"1\" class=\"dataframe\">\n",
       "  <thead>\n",
       "    <tr style=\"text-align: right;\">\n",
       "      <th></th>\n",
       "      <th>c1</th>\n",
       "      <th>c2</th>\n",
       "      <th>c3</th>\n",
       "    </tr>\n",
       "  </thead>\n",
       "  <tbody>\n",
       "    <tr>\n",
       "      <th>0</th>\n",
       "      <td>1</td>\n",
       "      <td>a</td>\n",
       "      <td>1</td>\n",
       "    </tr>\n",
       "    <tr>\n",
       "      <th>1</th>\n",
       "      <td>1</td>\n",
       "      <td>a</td>\n",
       "      <td>1</td>\n",
       "    </tr>\n",
       "    <tr>\n",
       "      <th>2</th>\n",
       "      <td>1</td>\n",
       "      <td>a</td>\n",
       "      <td>1</td>\n",
       "    </tr>\n",
       "    <tr>\n",
       "      <th>3</th>\n",
       "      <td>2</td>\n",
       "      <td>b</td>\n",
       "      <td>2</td>\n",
       "    </tr>\n",
       "    <tr>\n",
       "      <th>4</th>\n",
       "      <td>3</td>\n",
       "      <td>c</td>\n",
       "      <td>3</td>\n",
       "    </tr>\n",
       "    <tr>\n",
       "      <th>5</th>\n",
       "      <td>2</td>\n",
       "      <td>d</td>\n",
       "      <td>2</td>\n",
       "    </tr>\n",
       "  </tbody>\n",
       "</table>\n",
       "</div>"
      ],
      "text/plain": [
       "   c1 c2  c3\n",
       "0   1  a   1\n",
       "1   1  a   1\n",
       "2   1  a   1\n",
       "3   2  b   2\n",
       "4   3  c   3\n",
       "5   2  d   2"
      ]
     },
     "execution_count": 33,
     "metadata": {},
     "output_type": "execute_result"
    }
   ],
   "source": [
    "df_obj = DataFrame({'c1':[1,1,1,2,3,2],\n",
    "                   'c2':['a','a','a','b','c','d'],\n",
    "                   'c3':[1,1,1,2,3,2],})\n",
    "\n",
    "df_obj"
   ]
  },
  {
   "cell_type": "code",
   "execution_count": 34,
   "id": "aed1b259",
   "metadata": {},
   "outputs": [
    {
     "data": {
      "text/plain": [
       "0    False\n",
       "1     True\n",
       "2     True\n",
       "3    False\n",
       "4    False\n",
       "5    False\n",
       "dtype: bool"
      ]
     },
     "execution_count": 34,
     "metadata": {},
     "output_type": "execute_result"
    }
   ],
   "source": [
    "df_obj.duplicated()   ## check every row is duplicate of any other row "
   ]
  },
  {
   "cell_type": "code",
   "execution_count": 35,
   "id": "c94574e0",
   "metadata": {},
   "outputs": [
    {
     "data": {
      "text/html": [
       "<div>\n",
       "<style scoped>\n",
       "    .dataframe tbody tr th:only-of-type {\n",
       "        vertical-align: middle;\n",
       "    }\n",
       "\n",
       "    .dataframe tbody tr th {\n",
       "        vertical-align: top;\n",
       "    }\n",
       "\n",
       "    .dataframe thead th {\n",
       "        text-align: right;\n",
       "    }\n",
       "</style>\n",
       "<table border=\"1\" class=\"dataframe\">\n",
       "  <thead>\n",
       "    <tr style=\"text-align: right;\">\n",
       "      <th></th>\n",
       "      <th>c1</th>\n",
       "      <th>c2</th>\n",
       "      <th>c3</th>\n",
       "    </tr>\n",
       "  </thead>\n",
       "  <tbody>\n",
       "    <tr>\n",
       "      <th>0</th>\n",
       "      <td>1</td>\n",
       "      <td>a</td>\n",
       "      <td>1</td>\n",
       "    </tr>\n",
       "    <tr>\n",
       "      <th>3</th>\n",
       "      <td>2</td>\n",
       "      <td>b</td>\n",
       "      <td>2</td>\n",
       "    </tr>\n",
       "    <tr>\n",
       "      <th>4</th>\n",
       "      <td>3</td>\n",
       "      <td>c</td>\n",
       "      <td>3</td>\n",
       "    </tr>\n",
       "    <tr>\n",
       "      <th>5</th>\n",
       "      <td>2</td>\n",
       "      <td>d</td>\n",
       "      <td>2</td>\n",
       "    </tr>\n",
       "  </tbody>\n",
       "</table>\n",
       "</div>"
      ],
      "text/plain": [
       "   c1 c2  c3\n",
       "0   1  a   1\n",
       "3   2  b   2\n",
       "4   3  c   3\n",
       "5   2  d   2"
      ]
     },
     "execution_count": 35,
     "metadata": {},
     "output_type": "execute_result"
    }
   ],
   "source": [
    "df_obj.drop_duplicates() # Drop Duplicate rows"
   ]
  },
  {
   "cell_type": "code",
   "execution_count": 36,
   "id": "3fe3522c",
   "metadata": {},
   "outputs": [
    {
     "data": {
      "text/html": [
       "<div>\n",
       "<style scoped>\n",
       "    .dataframe tbody tr th:only-of-type {\n",
       "        vertical-align: middle;\n",
       "    }\n",
       "\n",
       "    .dataframe tbody tr th {\n",
       "        vertical-align: top;\n",
       "    }\n",
       "\n",
       "    .dataframe thead th {\n",
       "        text-align: right;\n",
       "    }\n",
       "</style>\n",
       "<table border=\"1\" class=\"dataframe\">\n",
       "  <thead>\n",
       "    <tr style=\"text-align: right;\">\n",
       "      <th></th>\n",
       "      <th>c1</th>\n",
       "      <th>c2</th>\n",
       "      <th>c3</th>\n",
       "    </tr>\n",
       "  </thead>\n",
       "  <tbody>\n",
       "    <tr>\n",
       "      <th>0</th>\n",
       "      <td>1</td>\n",
       "      <td>a</td>\n",
       "      <td>1</td>\n",
       "    </tr>\n",
       "    <tr>\n",
       "      <th>1</th>\n",
       "      <td>1</td>\n",
       "      <td>a</td>\n",
       "      <td>1</td>\n",
       "    </tr>\n",
       "    <tr>\n",
       "      <th>2</th>\n",
       "      <td>1</td>\n",
       "      <td>a</td>\n",
       "      <td>1</td>\n",
       "    </tr>\n",
       "    <tr>\n",
       "      <th>3</th>\n",
       "      <td>2</td>\n",
       "      <td>b</td>\n",
       "      <td>2</td>\n",
       "    </tr>\n",
       "    <tr>\n",
       "      <th>4</th>\n",
       "      <td>3</td>\n",
       "      <td>c</td>\n",
       "      <td>3</td>\n",
       "    </tr>\n",
       "    <tr>\n",
       "      <th>5</th>\n",
       "      <td>2</td>\n",
       "      <td>d</td>\n",
       "      <td>2</td>\n",
       "    </tr>\n",
       "  </tbody>\n",
       "</table>\n",
       "</div>"
      ],
      "text/plain": [
       "   c1 c2  c3\n",
       "0   1  a   1\n",
       "1   1  a   1\n",
       "2   1  a   1\n",
       "3   2  b   2\n",
       "4   3  c   3\n",
       "5   2  d   2"
      ]
     },
     "execution_count": 36,
     "metadata": {},
     "output_type": "execute_result"
    }
   ],
   "source": [
    "# drop values by checking column values \n",
    "\n",
    "df_obj = DataFrame({'c1':[1,1,1,2,3,2],\n",
    "                   'c2':['a','a','a','b','c','d'],\n",
    "                   'c3':[1,1,1,2,3,2],})\n",
    "\n",
    "df_obj"
   ]
  },
  {
   "cell_type": "code",
   "execution_count": 39,
   "id": "1c2f3dac",
   "metadata": {},
   "outputs": [
    {
     "data": {
      "text/html": [
       "<div>\n",
       "<style scoped>\n",
       "    .dataframe tbody tr th:only-of-type {\n",
       "        vertical-align: middle;\n",
       "    }\n",
       "\n",
       "    .dataframe tbody tr th {\n",
       "        vertical-align: top;\n",
       "    }\n",
       "\n",
       "    .dataframe thead th {\n",
       "        text-align: right;\n",
       "    }\n",
       "</style>\n",
       "<table border=\"1\" class=\"dataframe\">\n",
       "  <thead>\n",
       "    <tr style=\"text-align: right;\">\n",
       "      <th></th>\n",
       "      <th>c1</th>\n",
       "      <th>c2</th>\n",
       "      <th>c3</th>\n",
       "    </tr>\n",
       "  </thead>\n",
       "  <tbody>\n",
       "    <tr>\n",
       "      <th>0</th>\n",
       "      <td>1</td>\n",
       "      <td>a</td>\n",
       "      <td>1</td>\n",
       "    </tr>\n",
       "    <tr>\n",
       "      <th>3</th>\n",
       "      <td>2</td>\n",
       "      <td>b</td>\n",
       "      <td>2</td>\n",
       "    </tr>\n",
       "    <tr>\n",
       "      <th>4</th>\n",
       "      <td>3</td>\n",
       "      <td>c</td>\n",
       "      <td>3</td>\n",
       "    </tr>\n",
       "    <tr>\n",
       "      <th>5</th>\n",
       "      <td>2</td>\n",
       "      <td>d</td>\n",
       "      <td>2</td>\n",
       "    </tr>\n",
       "  </tbody>\n",
       "</table>\n",
       "</div>"
      ],
      "text/plain": [
       "   c1 c2  c3\n",
       "0   1  a   1\n",
       "3   2  b   2\n",
       "4   3  c   3\n",
       "5   2  d   2"
      ]
     },
     "execution_count": 39,
     "metadata": {},
     "output_type": "execute_result"
    }
   ],
   "source": [
    "df_obj.drop_duplicates(['c1','c2']) # Check only 2 columns instead of checking all 3"
   ]
  },
  {
   "cell_type": "code",
   "execution_count": null,
   "id": "d5f61441",
   "metadata": {},
   "outputs": [],
   "source": []
  }
 ],
 "metadata": {
  "kernelspec": {
   "display_name": "Python 3",
   "language": "python",
   "name": "python3"
  },
  "language_info": {
   "codemirror_mode": {
    "name": "ipython",
    "version": 3
   },
   "file_extension": ".py",
   "mimetype": "text/x-python",
   "name": "python",
   "nbconvert_exporter": "python",
   "pygments_lexer": "ipython3",
   "version": "3.8.8"
  }
 },
 "nbformat": 4,
 "nbformat_minor": 5
}
