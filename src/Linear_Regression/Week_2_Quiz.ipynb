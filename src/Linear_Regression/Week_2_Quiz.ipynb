{
 "cells": [
  {
   "cell_type": "code",
   "execution_count": 64,
   "id": "866179b4",
   "metadata": {},
   "outputs": [],
   "source": [
    "import pandas as pd\n",
    "import numpy as np\n",
    "\n",
    "import matplotlib.pyplot as plt\n",
    "import seaborn as sns\n",
    "\n",
    "# Removes the limit from the number of displayed columns and rows.\n",
    "# This is so I can see the entire dataframe when I print it\n",
    "pd.set_option('display.max_columns', None)\n",
    "# pd.set_option('display.max_rows', None)\n",
    "pd.set_option('display.max_rows', 200)"
   ]
  },
  {
   "cell_type": "markdown",
   "id": "57a0caed",
   "metadata": {},
   "source": [
    "### Attribute information:\n",
    "\n",
    "* id - project id\n",
    "* name - project name\n",
    "* subcategory - project subcategory\n",
    "* category - project category\n",
    "* currency - project currency\n",
    "* deadline - deadline for crowdfunding on Kickstarter\n",
    "* goal - goal amount in project currency\n",
    "* launched - launch date on Kickstarter\n",
    "* pledged - pledged (raised) amount in the project currency\n",
    "* state - project state\n",
    "* backers - count of backers\n",
    "* country - project country\n",
    "* usd_pledged_real - pledged (raised) amount in USD\n",
    "* usd_goal_real - goal amount in USD"
   ]
  },
  {
   "cell_type": "code",
   "execution_count": 35,
   "id": "d73a7682",
   "metadata": {},
   "outputs": [
    {
     "name": "stdout",
     "output_type": "stream",
     "text": [
      "There are 378661 rows and 14 columns.\n"
     ]
    },
    {
     "data": {
      "text/html": [
       "<div>\n",
       "<style scoped>\n",
       "    .dataframe tbody tr th:only-of-type {\n",
       "        vertical-align: middle;\n",
       "    }\n",
       "\n",
       "    .dataframe tbody tr th {\n",
       "        vertical-align: top;\n",
       "    }\n",
       "\n",
       "    .dataframe thead th {\n",
       "        text-align: right;\n",
       "    }\n",
       "</style>\n",
       "<table border=\"1\" class=\"dataframe\">\n",
       "  <thead>\n",
       "    <tr style=\"text-align: right;\">\n",
       "      <th></th>\n",
       "      <th>ID</th>\n",
       "      <th>name</th>\n",
       "      <th>subcategory</th>\n",
       "      <th>category</th>\n",
       "      <th>currency</th>\n",
       "      <th>deadline</th>\n",
       "      <th>goal</th>\n",
       "      <th>launched</th>\n",
       "      <th>pledged</th>\n",
       "      <th>state</th>\n",
       "      <th>backers</th>\n",
       "      <th>country</th>\n",
       "      <th>usd_pledged_real</th>\n",
       "      <th>usd_goal_real</th>\n",
       "    </tr>\n",
       "  </thead>\n",
       "  <tbody>\n",
       "    <tr>\n",
       "      <th>99838</th>\n",
       "      <td>1506962323</td>\n",
       "      <td>2018 Comic Con/ Horror Con/ GMCC</td>\n",
       "      <td>Art</td>\n",
       "      <td>Art</td>\n",
       "      <td>USD</td>\n",
       "      <td>10-10-2017</td>\n",
       "      <td>600.0</td>\n",
       "      <td>31-08-2017 04:05</td>\n",
       "      <td>600.00</td>\n",
       "      <td>successful</td>\n",
       "      <td>4</td>\n",
       "      <td>US</td>\n",
       "      <td>600.00</td>\n",
       "      <td>600.00</td>\n",
       "    </tr>\n",
       "    <tr>\n",
       "      <th>15731</th>\n",
       "      <td>1079621785</td>\n",
       "      <td>Ixion's The Four Disgracers</td>\n",
       "      <td>Theater</td>\n",
       "      <td>Theater</td>\n",
       "      <td>USD</td>\n",
       "      <td>26-04-2014</td>\n",
       "      <td>3500.0</td>\n",
       "      <td>27-03-2014 20:21</td>\n",
       "      <td>2920.00</td>\n",
       "      <td>failed</td>\n",
       "      <td>54</td>\n",
       "      <td>US</td>\n",
       "      <td>2920.00</td>\n",
       "      <td>3500.00</td>\n",
       "    </tr>\n",
       "    <tr>\n",
       "      <th>339459</th>\n",
       "      <td>799118140</td>\n",
       "      <td>Irving Comics Inc. (Canceled)</td>\n",
       "      <td>Comics</td>\n",
       "      <td>Comics</td>\n",
       "      <td>USD</td>\n",
       "      <td>16-04-2015</td>\n",
       "      <td>10000.0</td>\n",
       "      <td>17-03-2015 20:58</td>\n",
       "      <td>75.00</td>\n",
       "      <td>canceled</td>\n",
       "      <td>1</td>\n",
       "      <td>US</td>\n",
       "      <td>75.00</td>\n",
       "      <td>10000.00</td>\n",
       "    </tr>\n",
       "    <tr>\n",
       "      <th>100211</th>\n",
       "      <td>1508896926</td>\n",
       "      <td>Breakaway</td>\n",
       "      <td>Shorts</td>\n",
       "      <td>Film &amp; Video</td>\n",
       "      <td>USD</td>\n",
       "      <td>17-10-2011</td>\n",
       "      <td>5000.0</td>\n",
       "      <td>16-09-2011 20:11</td>\n",
       "      <td>5365.00</td>\n",
       "      <td>successful</td>\n",
       "      <td>60</td>\n",
       "      <td>US</td>\n",
       "      <td>5365.00</td>\n",
       "      <td>5000.00</td>\n",
       "    </tr>\n",
       "    <tr>\n",
       "      <th>170820</th>\n",
       "      <td>1869016023</td>\n",
       "      <td>the Atomic Café Mobile</td>\n",
       "      <td>Drinks</td>\n",
       "      <td>Food</td>\n",
       "      <td>USD</td>\n",
       "      <td>19-06-2015</td>\n",
       "      <td>5000.0</td>\n",
       "      <td>20-05-2015 10:47</td>\n",
       "      <td>5111.06</td>\n",
       "      <td>successful</td>\n",
       "      <td>53</td>\n",
       "      <td>US</td>\n",
       "      <td>5111.06</td>\n",
       "      <td>5000.00</td>\n",
       "    </tr>\n",
       "    <tr>\n",
       "      <th>75113</th>\n",
       "      <td>1382708884</td>\n",
       "      <td>Shaken</td>\n",
       "      <td>Dance</td>\n",
       "      <td>Dance</td>\n",
       "      <td>USD</td>\n",
       "      <td>11-04-2011</td>\n",
       "      <td>2000.0</td>\n",
       "      <td>11-03-2011 05:13</td>\n",
       "      <td>2615.00</td>\n",
       "      <td>successful</td>\n",
       "      <td>51</td>\n",
       "      <td>US</td>\n",
       "      <td>2615.00</td>\n",
       "      <td>2000.00</td>\n",
       "    </tr>\n",
       "    <tr>\n",
       "      <th>258934</th>\n",
       "      <td>386894220</td>\n",
       "      <td>Happiness Ambassador Postcard Project Year: 20...</td>\n",
       "      <td>Mixed Media</td>\n",
       "      <td>Art</td>\n",
       "      <td>USD</td>\n",
       "      <td>29-09-2012</td>\n",
       "      <td>800.0</td>\n",
       "      <td>15-09-2012 01:29</td>\n",
       "      <td>80.00</td>\n",
       "      <td>failed</td>\n",
       "      <td>3</td>\n",
       "      <td>US</td>\n",
       "      <td>80.00</td>\n",
       "      <td>800.00</td>\n",
       "    </tr>\n",
       "    <tr>\n",
       "      <th>178566</th>\n",
       "      <td>19084902</td>\n",
       "      <td>Unlikely Friends (Short Film)</td>\n",
       "      <td>Drama</td>\n",
       "      <td>Film &amp; Video</td>\n",
       "      <td>GBP</td>\n",
       "      <td>13-03-2015</td>\n",
       "      <td>150.0</td>\n",
       "      <td>03-02-2015 09:49</td>\n",
       "      <td>5.00</td>\n",
       "      <td>failed</td>\n",
       "      <td>1</td>\n",
       "      <td>GB</td>\n",
       "      <td>7.39</td>\n",
       "      <td>221.71</td>\n",
       "    </tr>\n",
       "    <tr>\n",
       "      <th>33859</th>\n",
       "      <td>1171932479</td>\n",
       "      <td>Would you help a MONSTER make music? Yes or No?</td>\n",
       "      <td>Classical Music</td>\n",
       "      <td>Music</td>\n",
       "      <td>USD</td>\n",
       "      <td>21-09-2014</td>\n",
       "      <td>2000.0</td>\n",
       "      <td>22-08-2014 18:01</td>\n",
       "      <td>2778.00</td>\n",
       "      <td>successful</td>\n",
       "      <td>30</td>\n",
       "      <td>US</td>\n",
       "      <td>2778.00</td>\n",
       "      <td>2000.00</td>\n",
       "    </tr>\n",
       "    <tr>\n",
       "      <th>278069</th>\n",
       "      <td>484824490</td>\n",
       "      <td>Dracula: Son of the Dragon</td>\n",
       "      <td>Comics</td>\n",
       "      <td>Comics</td>\n",
       "      <td>USD</td>\n",
       "      <td>17-04-2013</td>\n",
       "      <td>14000.0</td>\n",
       "      <td>18-03-2013 16:54</td>\n",
       "      <td>15172.66</td>\n",
       "      <td>successful</td>\n",
       "      <td>329</td>\n",
       "      <td>US</td>\n",
       "      <td>15172.66</td>\n",
       "      <td>14000.00</td>\n",
       "    </tr>\n",
       "  </tbody>\n",
       "</table>\n",
       "</div>"
      ],
      "text/plain": [
       "                ID                                               name  \\\n",
       "99838   1506962323                   2018 Comic Con/ Horror Con/ GMCC   \n",
       "15731   1079621785                        Ixion's The Four Disgracers   \n",
       "339459   799118140                      Irving Comics Inc. (Canceled)   \n",
       "100211  1508896926                                          Breakaway   \n",
       "170820  1869016023                             the Atomic Café Mobile   \n",
       "75113   1382708884                                             Shaken   \n",
       "258934   386894220  Happiness Ambassador Postcard Project Year: 20...   \n",
       "178566    19084902                      Unlikely Friends (Short Film)   \n",
       "33859   1171932479    Would you help a MONSTER make music? Yes or No?   \n",
       "278069   484824490                         Dracula: Son of the Dragon   \n",
       "\n",
       "            subcategory      category currency    deadline     goal  \\\n",
       "99838               Art           Art      USD  10-10-2017    600.0   \n",
       "15731           Theater       Theater      USD  26-04-2014   3500.0   \n",
       "339459           Comics        Comics      USD  16-04-2015  10000.0   \n",
       "100211           Shorts  Film & Video      USD  17-10-2011   5000.0   \n",
       "170820           Drinks          Food      USD  19-06-2015   5000.0   \n",
       "75113             Dance         Dance      USD  11-04-2011   2000.0   \n",
       "258934      Mixed Media           Art      USD  29-09-2012    800.0   \n",
       "178566            Drama  Film & Video      GBP  13-03-2015    150.0   \n",
       "33859   Classical Music         Music      USD  21-09-2014   2000.0   \n",
       "278069           Comics        Comics      USD  17-04-2013  14000.0   \n",
       "\n",
       "                launched   pledged       state  backers country  \\\n",
       "99838   31-08-2017 04:05    600.00  successful        4      US   \n",
       "15731   27-03-2014 20:21   2920.00      failed       54      US   \n",
       "339459  17-03-2015 20:58     75.00    canceled        1      US   \n",
       "100211  16-09-2011 20:11   5365.00  successful       60      US   \n",
       "170820  20-05-2015 10:47   5111.06  successful       53      US   \n",
       "75113   11-03-2011 05:13   2615.00  successful       51      US   \n",
       "258934  15-09-2012 01:29     80.00      failed        3      US   \n",
       "178566  03-02-2015 09:49      5.00      failed        1      GB   \n",
       "33859   22-08-2014 18:01   2778.00  successful       30      US   \n",
       "278069  18-03-2013 16:54  15172.66  successful      329      US   \n",
       "\n",
       "        usd_pledged_real  usd_goal_real  \n",
       "99838             600.00         600.00  \n",
       "15731            2920.00        3500.00  \n",
       "339459             75.00       10000.00  \n",
       "100211           5365.00        5000.00  \n",
       "170820           5111.06        5000.00  \n",
       "75113            2615.00        2000.00  \n",
       "258934             80.00         800.00  \n",
       "178566              7.39         221.71  \n",
       "33859            2778.00        2000.00  \n",
       "278069          15172.66       14000.00  "
      ]
     },
     "execution_count": 35,
     "metadata": {},
     "output_type": "execute_result"
    }
   ],
   "source": [
    "df = pd.read_csv(\"KickStarterProjects.csv\")\n",
    "print(f'There are {df.shape[0]} rows and {df.shape[1]} columns.')  # f-string\n",
    "\n",
    "# I'm now going to look at 10 random rows\n",
    "# I'm setting the random seed via np.random.seed so that\n",
    "# I get the same random results every time\n",
    "np.random.seed(1)\n",
    "df.sample(n=10)"
   ]
  },
  {
   "cell_type": "code",
   "execution_count": 4,
   "id": "76750fc3",
   "metadata": {},
   "outputs": [
    {
     "data": {
      "text/html": [
       "<div>\n",
       "<style scoped>\n",
       "    .dataframe tbody tr th:only-of-type {\n",
       "        vertical-align: middle;\n",
       "    }\n",
       "\n",
       "    .dataframe tbody tr th {\n",
       "        vertical-align: top;\n",
       "    }\n",
       "\n",
       "    .dataframe thead th {\n",
       "        text-align: right;\n",
       "    }\n",
       "</style>\n",
       "<table border=\"1\" class=\"dataframe\">\n",
       "  <thead>\n",
       "    <tr style=\"text-align: right;\">\n",
       "      <th></th>\n",
       "      <th>ID</th>\n",
       "      <th>name</th>\n",
       "      <th>subcategory</th>\n",
       "      <th>category</th>\n",
       "      <th>deadline</th>\n",
       "      <th>launched</th>\n",
       "      <th>pledged</th>\n",
       "      <th>state</th>\n",
       "      <th>backers</th>\n",
       "      <th>country</th>\n",
       "      <th>usd_pledged_real</th>\n",
       "      <th>usd_goal_real</th>\n",
       "    </tr>\n",
       "  </thead>\n",
       "  <tbody>\n",
       "    <tr>\n",
       "      <th>242413</th>\n",
       "      <td>30286735</td>\n",
       "      <td>McCallum High School \"Bubbles\"</td>\n",
       "      <td>Product Design</td>\n",
       "      <td>Design</td>\n",
       "      <td>09-10-2010</td>\n",
       "      <td>19-08-2010 16:25</td>\n",
       "      <td>5871.0</td>\n",
       "      <td>successful</td>\n",
       "      <td>62</td>\n",
       "      <td>US</td>\n",
       "      <td>5871.00</td>\n",
       "      <td>5000.00</td>\n",
       "    </tr>\n",
       "    <tr>\n",
       "      <th>312277</th>\n",
       "      <td>660692351</td>\n",
       "      <td>Retail Hell:  Do You Work Here?</td>\n",
       "      <td>Comedy</td>\n",
       "      <td>Film &amp; Video</td>\n",
       "      <td>25-06-2014</td>\n",
       "      <td>28-05-2014 01:46</td>\n",
       "      <td>915.0</td>\n",
       "      <td>failed</td>\n",
       "      <td>43</td>\n",
       "      <td>US</td>\n",
       "      <td>915.00</td>\n",
       "      <td>10000.00</td>\n",
       "    </tr>\n",
       "    <tr>\n",
       "      <th>123819</th>\n",
       "      <td>1628621400</td>\n",
       "      <td>Modern-Tank</td>\n",
       "      <td>Mobile Games</td>\n",
       "      <td>Games</td>\n",
       "      <td>01-09-2014</td>\n",
       "      <td>03-07-2014 01:59</td>\n",
       "      <td>6.0</td>\n",
       "      <td>failed</td>\n",
       "      <td>2</td>\n",
       "      <td>CA</td>\n",
       "      <td>5.52</td>\n",
       "      <td>5515.72</td>\n",
       "    </tr>\n",
       "    <tr>\n",
       "      <th>45483</th>\n",
       "      <td>1231087416</td>\n",
       "      <td>I Am Weird</td>\n",
       "      <td>Children's Books</td>\n",
       "      <td>Publishing</td>\n",
       "      <td>25-05-2016</td>\n",
       "      <td>25-04-2016 23:30</td>\n",
       "      <td>477.0</td>\n",
       "      <td>failed</td>\n",
       "      <td>14</td>\n",
       "      <td>US</td>\n",
       "      <td>477.00</td>\n",
       "      <td>2500.00</td>\n",
       "    </tr>\n",
       "    <tr>\n",
       "      <th>146422</th>\n",
       "      <td>1743882617</td>\n",
       "      <td>\"Aces Eye\" Playing Cards (Canceled)</td>\n",
       "      <td>Playing Cards</td>\n",
       "      <td>Games</td>\n",
       "      <td>28-09-2014</td>\n",
       "      <td>30-07-2014 12:43</td>\n",
       "      <td>156.0</td>\n",
       "      <td>canceled</td>\n",
       "      <td>9</td>\n",
       "      <td>GB</td>\n",
       "      <td>250.63</td>\n",
       "      <td>6908.52</td>\n",
       "    </tr>\n",
       "    <tr>\n",
       "      <th>181305</th>\n",
       "      <td>1922728817</td>\n",
       "      <td>Pissed OFF Panda I HATE YOU Uncle Sam USA 4x3 ...</td>\n",
       "      <td>Illustration</td>\n",
       "      <td>Art</td>\n",
       "      <td>02-05-2015</td>\n",
       "      <td>20-04-2015 12:27</td>\n",
       "      <td>452.0</td>\n",
       "      <td>successful</td>\n",
       "      <td>31</td>\n",
       "      <td>US</td>\n",
       "      <td>452.00</td>\n",
       "      <td>450.00</td>\n",
       "    </tr>\n",
       "    <tr>\n",
       "      <th>63879</th>\n",
       "      <td>1324767593</td>\n",
       "      <td>No-Squeeze Flipping Holder for Food Pouches an...</td>\n",
       "      <td>Product Design</td>\n",
       "      <td>Design</td>\n",
       "      <td>06-06-2016</td>\n",
       "      <td>26-05-2016 00:43</td>\n",
       "      <td>2198.0</td>\n",
       "      <td>successful</td>\n",
       "      <td>64</td>\n",
       "      <td>US</td>\n",
       "      <td>2198.00</td>\n",
       "      <td>2000.00</td>\n",
       "    </tr>\n",
       "    <tr>\n",
       "      <th>127449</th>\n",
       "      <td>1646973931</td>\n",
       "      <td>The mountains are calling...</td>\n",
       "      <td>Documentary</td>\n",
       "      <td>Film &amp; Video</td>\n",
       "      <td>06-02-2016</td>\n",
       "      <td>20-12-2015 20:47</td>\n",
       "      <td>0.0</td>\n",
       "      <td>failed</td>\n",
       "      <td>0</td>\n",
       "      <td>DE</td>\n",
       "      <td>0.00</td>\n",
       "      <td>11274.97</td>\n",
       "    </tr>\n",
       "    <tr>\n",
       "      <th>234864</th>\n",
       "      <td>263924895</td>\n",
       "      <td>WilkyWay Secret Recipe Fantastic Foods (Canceled)</td>\n",
       "      <td>Cookbooks</td>\n",
       "      <td>Food</td>\n",
       "      <td>20-06-2015</td>\n",
       "      <td>21-05-2015 02:23</td>\n",
       "      <td>0.0</td>\n",
       "      <td>canceled</td>\n",
       "      <td>0</td>\n",
       "      <td>US</td>\n",
       "      <td>0.00</td>\n",
       "      <td>1000.00</td>\n",
       "    </tr>\n",
       "    <tr>\n",
       "      <th>187756</th>\n",
       "      <td>1955789478</td>\n",
       "      <td>Thumbelina, an original work by Metropolitan B...</td>\n",
       "      <td>Dance</td>\n",
       "      <td>Dance</td>\n",
       "      <td>02-03-2013</td>\n",
       "      <td>04-02-2013 20:46</td>\n",
       "      <td>2493.0</td>\n",
       "      <td>successful</td>\n",
       "      <td>49</td>\n",
       "      <td>US</td>\n",
       "      <td>2493.00</td>\n",
       "      <td>2200.00</td>\n",
       "    </tr>\n",
       "  </tbody>\n",
       "</table>\n",
       "</div>"
      ],
      "text/plain": [
       "                ID                                               name  \\\n",
       "242413    30286735                     McCallum High School \"Bubbles\"   \n",
       "312277   660692351                    Retail Hell:  Do You Work Here?   \n",
       "123819  1628621400                                        Modern-Tank   \n",
       "45483   1231087416                                         I Am Weird   \n",
       "146422  1743882617                \"Aces Eye\" Playing Cards (Canceled)   \n",
       "181305  1922728817  Pissed OFF Panda I HATE YOU Uncle Sam USA 4x3 ...   \n",
       "63879   1324767593  No-Squeeze Flipping Holder for Food Pouches an...   \n",
       "127449  1646973931                       The mountains are calling...   \n",
       "234864   263924895  WilkyWay Secret Recipe Fantastic Foods (Canceled)   \n",
       "187756  1955789478  Thumbelina, an original work by Metropolitan B...   \n",
       "\n",
       "             subcategory      category    deadline          launched  pledged  \\\n",
       "242413    Product Design        Design  09-10-2010  19-08-2010 16:25   5871.0   \n",
       "312277            Comedy  Film & Video  25-06-2014  28-05-2014 01:46    915.0   \n",
       "123819      Mobile Games         Games  01-09-2014  03-07-2014 01:59      6.0   \n",
       "45483   Children's Books    Publishing  25-05-2016  25-04-2016 23:30    477.0   \n",
       "146422     Playing Cards         Games  28-09-2014  30-07-2014 12:43    156.0   \n",
       "181305      Illustration           Art  02-05-2015  20-04-2015 12:27    452.0   \n",
       "63879     Product Design        Design  06-06-2016  26-05-2016 00:43   2198.0   \n",
       "127449       Documentary  Film & Video  06-02-2016  20-12-2015 20:47      0.0   \n",
       "234864         Cookbooks          Food  20-06-2015  21-05-2015 02:23      0.0   \n",
       "187756             Dance         Dance  02-03-2013  04-02-2013 20:46   2493.0   \n",
       "\n",
       "             state  backers country  usd_pledged_real  usd_goal_real  \n",
       "242413  successful       62      US           5871.00        5000.00  \n",
       "312277      failed       43      US            915.00       10000.00  \n",
       "123819      failed        2      CA              5.52        5515.72  \n",
       "45483       failed       14      US            477.00        2500.00  \n",
       "146422    canceled        9      GB            250.63        6908.52  \n",
       "181305  successful       31      US            452.00         450.00  \n",
       "63879   successful       64      US           2198.00        2000.00  \n",
       "127449      failed        0      DE              0.00       11274.97  \n",
       "234864    canceled        0      US              0.00        1000.00  \n",
       "187756  successful       49      US           2493.00        2200.00  "
      ]
     },
     "execution_count": 4,
     "metadata": {},
     "output_type": "execute_result"
    }
   ],
   "source": [
    "df.drop(['currency','goal'], axis=1, inplace=True)\n",
    "df.sample(n=10)"
   ]
  },
  {
   "cell_type": "code",
   "execution_count": 18,
   "id": "e8281a7e",
   "metadata": {},
   "outputs": [
    {
     "name": "stdout",
     "output_type": "stream",
     "text": [
      "There are 378661 rows and 12 columns.\n"
     ]
    }
   ],
   "source": [
    "print(f'There are {df.shape[0]} rows and {df.shape[1]} columns.')  # f-string"
   ]
  },
  {
   "cell_type": "code",
   "execution_count": 36,
   "id": "03f6f4e4",
   "metadata": {},
   "outputs": [],
   "source": [
    "name_null_index = df[df['name'].isnull()].index"
   ]
  },
  {
   "cell_type": "code",
   "execution_count": 37,
   "id": "c4158e21",
   "metadata": {},
   "outputs": [],
   "source": [
    "df.drop(name_null_index, axis=0, inplace=True)"
   ]
  },
  {
   "cell_type": "code",
   "execution_count": 38,
   "id": "74e52d53",
   "metadata": {},
   "outputs": [
    {
     "name": "stdout",
     "output_type": "stream",
     "text": [
      "There are 378657 rows and 14 columns.\n"
     ]
    }
   ],
   "source": [
    "print(f'There are {df.shape[0]} rows and {df.shape[1]} columns.') "
   ]
  },
  {
   "cell_type": "code",
   "execution_count": 26,
   "id": "48eaf27a",
   "metadata": {},
   "outputs": [
    {
     "data": {
      "text/plain": [
       "failed        197716\n",
       "successful    133956\n",
       "canceled       38779\n",
       "undefined       3562\n",
       "live            2799\n",
       "suspended       1845\n",
       "Name: state, dtype: int64"
      ]
     },
     "execution_count": 26,
     "metadata": {},
     "output_type": "execute_result"
    }
   ],
   "source": [
    "df['state'].value_counts()"
   ]
  },
  {
   "cell_type": "code",
   "execution_count": 27,
   "id": "ce2ce45a",
   "metadata": {},
   "outputs": [
    {
     "data": {
      "text/plain": [
       "105.61854395930882"
      ]
     },
     "execution_count": 27,
     "metadata": {},
     "output_type": "execute_result"
    }
   ],
   "source": [
    "df['backers'].mean()"
   ]
  },
  {
   "cell_type": "code",
   "execution_count": 28,
   "id": "de62ad87",
   "metadata": {},
   "outputs": [
    {
     "data": {
      "text/plain": [
       "12.0"
      ]
     },
     "execution_count": 28,
     "metadata": {},
     "output_type": "execute_result"
    }
   ],
   "source": [
    "df['backers'].median()"
   ]
  },
  {
   "cell_type": "code",
   "execution_count": 39,
   "id": "85fadabe",
   "metadata": {},
   "outputs": [
    {
     "data": {
      "image/png": "[encoded data removed]",
      "text/plain": [
       "<Figure size 432x288 with 1 Axes>"
      ]
     },
     "metadata": {
      "needs_background": "light"
     },
     "output_type": "display_data"
    },
    {
     "name": "stderr",
     "output_type": "stream",
     "text": [
      "/Users/varathm/opt/anaconda3/lib/python3.8/site-packages/seaborn/_decorators.py:36: FutureWarning: Pass the following variable as a keyword arg: x. From version 0.12, the only valid positional argument will be `data`, and passing other arguments without an explicit keyword will result in an error or misinterpretation.\n",
      "  warnings.warn(\n"
     ]
    },
    {
     "data": {
      "image/png": "[encoded data removed]",
      "text/plain": [
       "<Figure size 432x288 with 1 Axes>"
      ]
     },
     "metadata": {
      "needs_background": "light"
     },
     "output_type": "display_data"
    }
   ],
   "source": [
    "plt.hist(df[\"backers\"], 20)\n",
    "plt.title(\"Histogram of backers\")\n",
    "plt.show()\n",
    "\n",
    "sns.boxplot(df[\"backers\"])\n",
    "plt.title(\"Boxplot of backers\")\n",
    "plt.show()"
   ]
  },
  {
   "cell_type": "code",
   "execution_count": 41,
   "id": "5a8b61aa",
   "metadata": {},
   "outputs": [
    {
     "data": {
      "image/png": "[encoded data removed]",
      "text/plain": [
       "<Figure size 432x288 with 1 Axes>"
      ]
     },
     "metadata": {
      "needs_background": "light"
     },
     "output_type": "display_data"
    },
    {
     "name": "stderr",
     "output_type": "stream",
     "text": [
      "/Users/varathm/opt/anaconda3/lib/python3.8/site-packages/seaborn/_decorators.py:36: FutureWarning: Pass the following variable as a keyword arg: x. From version 0.12, the only valid positional argument will be `data`, and passing other arguments without an explicit keyword will result in an error or misinterpretation.\n",
      "  warnings.warn(\n"
     ]
    },
    {
     "data": {
      "image/png": "[encoded data removed]",
      "text/plain": [
       "<Figure size 432x288 with 1 Axes>"
      ]
     },
     "metadata": {
      "needs_background": "light"
     },
     "output_type": "display_data"
    }
   ],
   "source": [
    "plt.hist(df[\"goal\"], 20)\n",
    "plt.title(\"Histogram of goal\")\n",
    "plt.show()\n",
    "\n",
    "sns.boxplot(df[\"goal\"])\n",
    "plt.title(\"Boxplot of goal\")\n",
    "plt.show()"
   ]
  },
  {
   "cell_type": "code",
   "execution_count": 43,
   "id": "88c00f6c",
   "metadata": {},
   "outputs": [
    {
     "data": {
      "text/html": [
       "<div>\n",
       "<style scoped>\n",
       "    .dataframe tbody tr th:only-of-type {\n",
       "        vertical-align: middle;\n",
       "    }\n",
       "\n",
       "    .dataframe tbody tr th {\n",
       "        vertical-align: top;\n",
       "    }\n",
       "\n",
       "    .dataframe thead th {\n",
       "        text-align: right;\n",
       "    }\n",
       "</style>\n",
       "<table border=\"1\" class=\"dataframe\">\n",
       "  <thead>\n",
       "    <tr style=\"text-align: right;\">\n",
       "      <th></th>\n",
       "      <th>ID</th>\n",
       "      <th>name</th>\n",
       "      <th>subcategory</th>\n",
       "      <th>category</th>\n",
       "      <th>currency</th>\n",
       "      <th>deadline</th>\n",
       "      <th>goal</th>\n",
       "      <th>launched</th>\n",
       "      <th>pledged</th>\n",
       "      <th>state</th>\n",
       "      <th>backers</th>\n",
       "      <th>country</th>\n",
       "      <th>usd_pledged_real</th>\n",
       "      <th>usd_goal_real</th>\n",
       "      <th>goal_scaled</th>\n",
       "    </tr>\n",
       "  </thead>\n",
       "  <tbody>\n",
       "    <tr>\n",
       "      <th>258038</th>\n",
       "      <td>381899192</td>\n",
       "      <td>Diblasio pizza inc</td>\n",
       "      <td>Restaurants</td>\n",
       "      <td>Food</td>\n",
       "      <td>USD</td>\n",
       "      <td>22-02-2015</td>\n",
       "      <td>250000.0</td>\n",
       "      <td>23-01-2015 20:26</td>\n",
       "      <td>1.0</td>\n",
       "      <td>failed</td>\n",
       "      <td>1</td>\n",
       "      <td>US</td>\n",
       "      <td>1.00</td>\n",
       "      <td>250000.0</td>\n",
       "      <td>2.500000e-03</td>\n",
       "    </tr>\n",
       "    <tr>\n",
       "      <th>8369</th>\n",
       "      <td>1042258680</td>\n",
       "      <td>Apocalyptest</td>\n",
       "      <td>Animation</td>\n",
       "      <td>Film &amp; Video</td>\n",
       "      <td>USD</td>\n",
       "      <td>01-12-2015</td>\n",
       "      <td>10000.0</td>\n",
       "      <td>01-11-2015 05:05</td>\n",
       "      <td>815.0</td>\n",
       "      <td>failed</td>\n",
       "      <td>6</td>\n",
       "      <td>US</td>\n",
       "      <td>815.00</td>\n",
       "      <td>10000.0</td>\n",
       "      <td>9.999990e-05</td>\n",
       "    </tr>\n",
       "    <tr>\n",
       "      <th>103364</th>\n",
       "      <td>1525487375</td>\n",
       "      <td>URBAN OYSTER (Canceled)</td>\n",
       "      <td>Small Batch</td>\n",
       "      <td>Food</td>\n",
       "      <td>EUR</td>\n",
       "      <td>01-05-2016</td>\n",
       "      <td>4000.0</td>\n",
       "      <td>05-04-2016 18:55</td>\n",
       "      <td>35.0</td>\n",
       "      <td>canceled</td>\n",
       "      <td>2</td>\n",
       "      <td>IE</td>\n",
       "      <td>39.99</td>\n",
       "      <td>4570.8</td>\n",
       "      <td>3.999990e-05</td>\n",
       "    </tr>\n",
       "    <tr>\n",
       "      <th>246083</th>\n",
       "      <td>321486494</td>\n",
       "      <td>Diamond Dogs The Movie</td>\n",
       "      <td>Narrative Film</td>\n",
       "      <td>Film &amp; Video</td>\n",
       "      <td>USD</td>\n",
       "      <td>30-07-2011</td>\n",
       "      <td>5000.0</td>\n",
       "      <td>30-06-2011 23:52</td>\n",
       "      <td>0.0</td>\n",
       "      <td>failed</td>\n",
       "      <td>0</td>\n",
       "      <td>US</td>\n",
       "      <td>0.00</td>\n",
       "      <td>5000.0</td>\n",
       "      <td>4.999990e-05</td>\n",
       "    </tr>\n",
       "    <tr>\n",
       "      <th>285801</th>\n",
       "      <td>523897086</td>\n",
       "      <td>Fritz Pastry</td>\n",
       "      <td>Food</td>\n",
       "      <td>Food</td>\n",
       "      <td>USD</td>\n",
       "      <td>10-09-2014</td>\n",
       "      <td>10000.0</td>\n",
       "      <td>04-08-2014 20:49</td>\n",
       "      <td>11000.0</td>\n",
       "      <td>successful</td>\n",
       "      <td>75</td>\n",
       "      <td>US</td>\n",
       "      <td>11000.00</td>\n",
       "      <td>10000.0</td>\n",
       "      <td>9.999990e-05</td>\n",
       "    </tr>\n",
       "    <tr>\n",
       "      <th>159368</th>\n",
       "      <td>18104716</td>\n",
       "      <td>Artist Residency/Research of Non-Toxic Printma...</td>\n",
       "      <td>Art</td>\n",
       "      <td>Art</td>\n",
       "      <td>USD</td>\n",
       "      <td>08-10-2016</td>\n",
       "      <td>4500.0</td>\n",
       "      <td>08-09-2016 05:27</td>\n",
       "      <td>4856.0</td>\n",
       "      <td>successful</td>\n",
       "      <td>84</td>\n",
       "      <td>US</td>\n",
       "      <td>4856.00</td>\n",
       "      <td>4500.0</td>\n",
       "      <td>4.499990e-05</td>\n",
       "    </tr>\n",
       "    <tr>\n",
       "      <th>215215</th>\n",
       "      <td>2096568857</td>\n",
       "      <td>Billy BoB's ReDnEcK Scents \"GET YOU SOME!!\"</td>\n",
       "      <td>Candles</td>\n",
       "      <td>Crafts</td>\n",
       "      <td>USD</td>\n",
       "      <td>14-07-2016</td>\n",
       "      <td>5000.0</td>\n",
       "      <td>14-06-2016 00:46</td>\n",
       "      <td>50.0</td>\n",
       "      <td>failed</td>\n",
       "      <td>1</td>\n",
       "      <td>US</td>\n",
       "      <td>50.00</td>\n",
       "      <td>5000.0</td>\n",
       "      <td>4.999990e-05</td>\n",
       "    </tr>\n",
       "    <tr>\n",
       "      <th>254694</th>\n",
       "      <td>365197450</td>\n",
       "      <td>The Underground</td>\n",
       "      <td>Video Games</td>\n",
       "      <td>Games</td>\n",
       "      <td>USD</td>\n",
       "      <td>30-01-2016</td>\n",
       "      <td>100.0</td>\n",
       "      <td>31-12-2015 18:44</td>\n",
       "      <td>206.0</td>\n",
       "      <td>successful</td>\n",
       "      <td>11</td>\n",
       "      <td>US</td>\n",
       "      <td>206.00</td>\n",
       "      <td>100.0</td>\n",
       "      <td>9.999000e-07</td>\n",
       "    </tr>\n",
       "    <tr>\n",
       "      <th>154135</th>\n",
       "      <td>1783434674</td>\n",
       "      <td>SOME NERVE: A Memoir of Revival, by Wendy Werris</td>\n",
       "      <td>Nonfiction</td>\n",
       "      <td>Publishing</td>\n",
       "      <td>USD</td>\n",
       "      <td>22-07-2015</td>\n",
       "      <td>7200.0</td>\n",
       "      <td>24-06-2015 23:52</td>\n",
       "      <td>7625.0</td>\n",
       "      <td>successful</td>\n",
       "      <td>53</td>\n",
       "      <td>US</td>\n",
       "      <td>7625.00</td>\n",
       "      <td>7200.0</td>\n",
       "      <td>7.199990e-05</td>\n",
       "    </tr>\n",
       "    <tr>\n",
       "      <th>198460</th>\n",
       "      <td>2010587970</td>\n",
       "      <td>Saturday Wars: the webcomics crossover OGN</td>\n",
       "      <td>Webcomics</td>\n",
       "      <td>Comics</td>\n",
       "      <td>USD</td>\n",
       "      <td>16-10-2014</td>\n",
       "      <td>10000.0</td>\n",
       "      <td>16-09-2014 05:12</td>\n",
       "      <td>1321.0</td>\n",
       "      <td>failed</td>\n",
       "      <td>46</td>\n",
       "      <td>US</td>\n",
       "      <td>1321.00</td>\n",
       "      <td>10000.0</td>\n",
       "      <td>9.999990e-05</td>\n",
       "    </tr>\n",
       "  </tbody>\n",
       "</table>\n",
       "</div>"
      ],
      "text/plain": [
       "                ID                                               name  \\\n",
       "258038   381899192                                 Diblasio pizza inc   \n",
       "8369    1042258680                                       Apocalyptest   \n",
       "103364  1525487375                            URBAN OYSTER (Canceled)   \n",
       "246083   321486494                             Diamond Dogs The Movie   \n",
       "285801   523897086                                       Fritz Pastry   \n",
       "159368    18104716  Artist Residency/Research of Non-Toxic Printma...   \n",
       "215215  2096568857        Billy BoB's ReDnEcK Scents \"GET YOU SOME!!\"   \n",
       "254694   365197450                                    The Underground   \n",
       "154135  1783434674   SOME NERVE: A Memoir of Revival, by Wendy Werris   \n",
       "198460  2010587970         Saturday Wars: the webcomics crossover OGN   \n",
       "\n",
       "           subcategory      category currency    deadline      goal  \\\n",
       "258038     Restaurants          Food      USD  22-02-2015  250000.0   \n",
       "8369         Animation  Film & Video      USD  01-12-2015   10000.0   \n",
       "103364     Small Batch          Food      EUR  01-05-2016    4000.0   \n",
       "246083  Narrative Film  Film & Video      USD  30-07-2011    5000.0   \n",
       "285801            Food          Food      USD  10-09-2014   10000.0   \n",
       "159368             Art           Art      USD  08-10-2016    4500.0   \n",
       "215215         Candles        Crafts      USD  14-07-2016    5000.0   \n",
       "254694     Video Games         Games      USD  30-01-2016     100.0   \n",
       "154135      Nonfiction    Publishing      USD  22-07-2015    7200.0   \n",
       "198460       Webcomics        Comics      USD  16-10-2014   10000.0   \n",
       "\n",
       "                launched  pledged       state  backers country  \\\n",
       "258038  23-01-2015 20:26      1.0      failed        1      US   \n",
       "8369    01-11-2015 05:05    815.0      failed        6      US   \n",
       "103364  05-04-2016 18:55     35.0    canceled        2      IE   \n",
       "246083  30-06-2011 23:52      0.0      failed        0      US   \n",
       "285801  04-08-2014 20:49  11000.0  successful       75      US   \n",
       "159368  08-09-2016 05:27   4856.0  successful       84      US   \n",
       "215215  14-06-2016 00:46     50.0      failed        1      US   \n",
       "254694  31-12-2015 18:44    206.0  successful       11      US   \n",
       "154135  24-06-2015 23:52   7625.0  successful       53      US   \n",
       "198460  16-09-2014 05:12   1321.0      failed       46      US   \n",
       "\n",
       "        usd_pledged_real  usd_goal_real   goal_scaled  \n",
       "258038              1.00       250000.0  2.500000e-03  \n",
       "8369              815.00        10000.0  9.999990e-05  \n",
       "103364             39.99         4570.8  3.999990e-05  \n",
       "246083              0.00         5000.0  4.999990e-05  \n",
       "285801          11000.00        10000.0  9.999990e-05  \n",
       "159368           4856.00         4500.0  4.499990e-05  \n",
       "215215             50.00         5000.0  4.999990e-05  \n",
       "254694            206.00          100.0  9.999000e-07  \n",
       "154135           7625.00         7200.0  7.199990e-05  \n",
       "198460           1321.00        10000.0  9.999990e-05  "
      ]
     },
     "execution_count": 43,
     "metadata": {},
     "output_type": "execute_result"
    }
   ],
   "source": [
    "df.sample(n=10)"
   ]
  },
  {
   "cell_type": "code",
   "execution_count": 42,
   "id": "ab08d4aa",
   "metadata": {},
   "outputs": [
    {
     "data": {
      "image/png": "[encoded data removed]",
      "text/plain": [
       "<Figure size 432x288 with 1 Axes>"
      ]
     },
     "metadata": {
      "needs_background": "light"
     },
     "output_type": "display_data"
    },
    {
     "data": {
      "image/png": "[encoded data removed]",
      "text/plain": [
       "<Figure size 432x288 with 1 Axes>"
      ]
     },
     "metadata": {
      "needs_background": "light"
     },
     "output_type": "display_data"
    }
   ],
   "source": [
    "#apply min max scalling for goal\n",
    "\n",
    "from sklearn.preprocessing import StandardScaler, MinMaxScaler\n",
    "\n",
    "\n",
    "# replacing with scaled \n",
    "df['goal'].hist(bins=20)\n",
    "plt.title('goal before minmax scaling')\n",
    "plt.show()\n",
    "\n",
    "df[['goal_scaled']] = MinMaxScaler().fit_transform(\n",
    "    df[['goal']]\n",
    ")\n",
    "\n",
    "df['goal_scaled'].hist(bins=20)\n",
    "plt.title('goal_scaled after minmax scaling')\n",
    "plt.show()"
   ]
  },
  {
   "cell_type": "code",
   "execution_count": 44,
   "id": "b5ebeb95",
   "metadata": {},
   "outputs": [
    {
     "data": {
      "image/png": "[encoded data removed]",
      "text/plain": [
       "<Figure size 432x288 with 1 Axes>"
      ]
     },
     "metadata": {
      "needs_background": "light"
     },
     "output_type": "display_data"
    },
    {
     "data": {
      "image/png": "[encoded data removed]",
      "text/plain": [
       "<Figure size 432x288 with 1 Axes>"
      ]
     },
     "metadata": {
      "needs_background": "light"
     },
     "output_type": "display_data"
    }
   ],
   "source": [
    "std_scaler = StandardScaler()\n",
    "\n",
    "df['goal'].hist(bins=20)\n",
    "plt.title('goal before z transformation')\n",
    "plt.show()\n",
    "# fit_transform requires a DataFrame, not a Series, hence\n",
    "# the double brackets to keep df[['Weight']] as a 1 column \n",
    "# DataFrame rather than a Series, like if I did df['Weight']\n",
    "\n",
    "\n",
    "df['goal_z_std'] = std_scaler.fit_transform(df[['goal']])\n",
    "df['goal_z_std'].hist(bins=20)\n",
    "plt.title('goal after z transformation')\n",
    "plt.show()\n"
   ]
  },
  {
   "cell_type": "code",
   "execution_count": 45,
   "id": "2631c559",
   "metadata": {},
   "outputs": [
    {
     "data": {
      "image/png": "[encoded data removed]",
      "text/plain": [
       "<Figure size 432x288 with 1 Axes>"
      ]
     },
     "metadata": {
      "needs_background": "light"
     },
     "output_type": "display_data"
    },
    {
     "name": "stdout",
     "output_type": "stream",
     "text": [
      "0\n"
     ]
    }
   ],
   "source": [
    "cols_to_log = ['usd_goal_real']\n",
    "for colname in cols_to_log:\n",
    "    plt.hist(df[colname], bins=50)\n",
    "    plt.title(colname)\n",
    "    plt.show()\n",
    "    print(np.sum(df[colname] <= 0))"
   ]
  },
  {
   "cell_type": "code",
   "execution_count": 48,
   "id": "284d0c42",
   "metadata": {},
   "outputs": [
    {
     "data": {
      "image/png": "[encoded data removed]",
      "text/plain": [
       "<Figure size 432x288 with 1 Axes>"
      ]
     },
     "metadata": {
      "needs_background": "light"
     },
     "output_type": "display_data"
    }
   ],
   "source": [
    "plt.hist(np.log(df['usd_goal_real']), 50)\n",
    "plt.title('log(usd_goal_real)')\n",
    "plt.show()"
   ]
  },
  {
   "cell_type": "code",
   "execution_count": 49,
   "id": "0a09a2ea",
   "metadata": {},
   "outputs": [],
   "source": [
    "df['launched'] = pd.to_datetime(df['launched'])"
   ]
  },
  {
   "cell_type": "code",
   "execution_count": 52,
   "id": "faf4176d",
   "metadata": {},
   "outputs": [
    {
     "data": {
      "text/plain": [
       "7     34477\n",
       "1     34346\n",
       "10    33409\n",
       "3     32837\n",
       "11    32135\n",
       "8     31619\n",
       "5     31573\n",
       "9     31538\n",
       "6     31381\n",
       "4     31038\n",
       "2     29876\n",
       "12    24428\n",
       "Name: launched, dtype: int64"
      ]
     },
     "execution_count": 52,
     "metadata": {},
     "output_type": "execute_result"
    }
   ],
   "source": [
    "df['launched'].dt.month.value_counts()"
   ]
  },
  {
   "cell_type": "code",
   "execution_count": 62,
   "id": "febefc78",
   "metadata": {},
   "outputs": [
    {
     "data": {
      "text/plain": [
       "category\n",
       "Design          24417.846732\n",
       "Technology      21151.171165\n",
       "Games           21042.491442\n",
       "Comics           6610.443828\n",
       "Film & Video     6158.073703\n",
       "Fashion          5712.450839\n",
       "Food             5113.669716\n",
       "Theater          4005.918099\n",
       "Music            3858.367608\n",
       "Photography      3571.909322\n",
       "Dance            3452.946356\n",
       "Publishing       3349.951931\n",
       "Art              3221.093567\n",
       "Journalism       2615.702568\n",
       "Crafts           1632.907282\n",
       "Name: usd_pledged_real, dtype: float64"
      ]
     },
     "execution_count": 62,
     "metadata": {},
     "output_type": "execute_result"
    }
   ],
   "source": [
    "df[['category','usd_pledged_real']].groupby('category').mean()['usd_pledged_real'].sort_values(ascending=False)"
   ]
  },
  {
   "cell_type": "code",
   "execution_count": 66,
   "id": "24a0c65b",
   "metadata": {},
   "outputs": [
    {
     "data": {
      "text/plain": [
       "#NAME?                                                         43\n",
       "New EP/Music Development                                       41\n",
       "Canceled (Canceled)                                            13\n",
       "N/A (Canceled)                                                 11\n",
       "Music Video                                                    11\n",
       "                                                               ..\n",
       "Art for You! Starting at $1                                     1\n",
       "BulletTrain Magic Pencil Holder for Apple Pencil + iPad Pro     1\n",
       "Ben Ales - Debut Album [The Fool]                               1\n",
       "New Glowing Spiral Hair Gems                                    1\n",
       "Get \"At Sundown\" to the Edinburgh Fringe                        1\n",
       "Name: name, Length: 375722, dtype: int64"
      ]
     },
     "execution_count": 66,
     "metadata": {},
     "output_type": "execute_result"
    }
   ],
   "source": [
    "df['name'].value_counts().sort_values(ascending=False)"
   ]
  },
  {
   "cell_type": "code",
   "execution_count": null,
   "id": "48a56e1d",
   "metadata": {},
   "outputs": [],
   "source": []
  }
 ],
 "metadata": {
  "kernelspec": {
   "display_name": "Python 3",
   "language": "python",
   "name": "python3"
  },
  "language_info": {
   "codemirror_mode": {
    "name": "ipython",
    "version": 3
   },
   "file_extension": ".py",
   "mimetype": "text/x-python",
   "name": "python",
   "nbconvert_exporter": "python",
   "pygments_lexer": "ipython3",
   "version": "3.8.8"
  }
 },
 "nbformat": 4,
 "nbformat_minor": 5
}
