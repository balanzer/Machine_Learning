{
 "cells": [
  {
   "cell_type": "code",
   "execution_count": 1,
   "id": "302e1657",
   "metadata": {},
   "outputs": [],
   "source": [
    "# Colab setup ------------------\n",
    "import os, sys, subprocess\n",
    "if \"google.colab\" in sys.modules:\n",
    "    cmd = \"pip install --upgrade watermark blackcellmagic\"\n",
    "    process = subprocess.Popen(cmd.split(), stdout=subprocess.PIPE)"
   ]
  },
  {
   "cell_type": "code",
   "execution_count": 3,
   "id": "0350c67b",
   "metadata": {},
   "outputs": [
    {
     "name": "stdout",
     "output_type": "stream",
     "text": [
      "Collecting watermark\n",
      "  Downloading watermark-2.3.0-py2.py3-none-any.whl (7.2 kB)\n",
      "Collecting blackcellmagic\n",
      "  Downloading blackcellmagic-0.0.3-py3-none-any.whl (4.2 kB)\n",
      "Requirement already satisfied: ipython in /Users/murali/opt/anaconda3/lib/python3.8/site-packages (from watermark) (7.22.0)\n",
      "Requirement already satisfied: jupyter<2.0.0,>=1.0.0 in /Users/murali/opt/anaconda3/lib/python3.8/site-packages (from blackcellmagic) (1.0.0)\n",
      "Collecting black<22.0,>=21.9b0\n",
      "  Downloading black-21.12b0-py3-none-any.whl (156 kB)\n",
      "     |████████████████████████████████| 156 kB 5.4 MB/s            \n",
      "\u001b[?25hCollecting typing-extensions>=3.10.0.0\n",
      "  Downloading typing_extensions-4.0.1-py3-none-any.whl (22 kB)\n",
      "Requirement already satisfied: click>=7.1.2 in /Users/murali/opt/anaconda3/lib/python3.8/site-packages (from black<22.0,>=21.9b0->blackcellmagic) (7.1.2)\n",
      "Collecting tomli<2.0.0,>=0.2.6\n",
      "  Downloading tomli-1.2.3-py3-none-any.whl (12 kB)\n",
      "Requirement already satisfied: mypy-extensions>=0.4.3 in /Users/murali/opt/anaconda3/lib/python3.8/site-packages (from black<22.0,>=21.9b0->blackcellmagic) (0.4.3)\n",
      "Collecting pathspec<1,>=0.9.0\n",
      "  Downloading pathspec-0.9.0-py2.py3-none-any.whl (31 kB)\n",
      "Collecting platformdirs>=2\n",
      "  Downloading platformdirs-2.4.1-py3-none-any.whl (14 kB)\n",
      "Requirement already satisfied: ipywidgets in /Users/murali/opt/anaconda3/lib/python3.8/site-packages (from jupyter<2.0.0,>=1.0.0->blackcellmagic) (7.6.3)\n",
      "Requirement already satisfied: notebook in /Users/murali/opt/anaconda3/lib/python3.8/site-packages (from jupyter<2.0.0,>=1.0.0->blackcellmagic) (6.3.0)\n",
      "Requirement already satisfied: nbconvert in /Users/murali/opt/anaconda3/lib/python3.8/site-packages (from jupyter<2.0.0,>=1.0.0->blackcellmagic) (6.0.7)\n",
      "Requirement already satisfied: qtconsole in /Users/murali/opt/anaconda3/lib/python3.8/site-packages (from jupyter<2.0.0,>=1.0.0->blackcellmagic) (5.0.3)\n",
      "Requirement already satisfied: ipykernel in /Users/murali/opt/anaconda3/lib/python3.8/site-packages (from jupyter<2.0.0,>=1.0.0->blackcellmagic) (5.3.4)\n",
      "Requirement already satisfied: jupyter-console in /Users/murali/opt/anaconda3/lib/python3.8/site-packages (from jupyter<2.0.0,>=1.0.0->blackcellmagic) (6.4.0)\n",
      "Requirement already satisfied: traitlets>=4.2 in /Users/murali/opt/anaconda3/lib/python3.8/site-packages (from ipython->watermark) (5.0.5)\n",
      "Requirement already satisfied: appnope in /Users/murali/opt/anaconda3/lib/python3.8/site-packages (from ipython->watermark) (0.1.2)\n",
      "Requirement already satisfied: jedi>=0.16 in /Users/murali/opt/anaconda3/lib/python3.8/site-packages (from ipython->watermark) (0.17.2)\n",
      "Requirement already satisfied: decorator in /Users/murali/opt/anaconda3/lib/python3.8/site-packages (from ipython->watermark) (5.0.6)\n",
      "Requirement already satisfied: setuptools>=18.5 in /Users/murali/opt/anaconda3/lib/python3.8/site-packages (from ipython->watermark) (59.2.0)\n",
      "Requirement already satisfied: prompt-toolkit!=3.0.0,!=3.0.1,<3.1.0,>=2.0.0 in /Users/murali/opt/anaconda3/lib/python3.8/site-packages (from ipython->watermark) (3.0.17)\n",
      "Requirement already satisfied: backcall in /Users/murali/opt/anaconda3/lib/python3.8/site-packages (from ipython->watermark) (0.2.0)\n",
      "Requirement already satisfied: pygments in /Users/murali/opt/anaconda3/lib/python3.8/site-packages (from ipython->watermark) (2.8.1)\n",
      "Requirement already satisfied: pexpect>4.3 in /Users/murali/opt/anaconda3/lib/python3.8/site-packages (from ipython->watermark) (4.8.0)\n",
      "Requirement already satisfied: pickleshare in /Users/murali/opt/anaconda3/lib/python3.8/site-packages (from ipython->watermark) (0.7.5)\n",
      "Requirement already satisfied: parso<0.8.0,>=0.7.0 in /Users/murali/opt/anaconda3/lib/python3.8/site-packages (from jedi>=0.16->ipython->watermark) (0.7.0)\n",
      "Requirement already satisfied: ptyprocess>=0.5 in /Users/murali/opt/anaconda3/lib/python3.8/site-packages (from pexpect>4.3->ipython->watermark) (0.7.0)\n",
      "Requirement already satisfied: wcwidth in /Users/murali/opt/anaconda3/lib/python3.8/site-packages (from prompt-toolkit!=3.0.0,!=3.0.1,<3.1.0,>=2.0.0->ipython->watermark) (0.2.5)\n",
      "Requirement already satisfied: ipython-genutils in /Users/murali/opt/anaconda3/lib/python3.8/site-packages (from traitlets>=4.2->ipython->watermark) (0.2.0)\n",
      "Requirement already satisfied: jupyter-client in /Users/murali/opt/anaconda3/lib/python3.8/site-packages (from ipykernel->jupyter<2.0.0,>=1.0.0->blackcellmagic) (6.1.12)\n",
      "Requirement already satisfied: tornado>=4.2 in /Users/murali/opt/anaconda3/lib/python3.8/site-packages (from ipykernel->jupyter<2.0.0,>=1.0.0->blackcellmagic) (6.1)\n",
      "Requirement already satisfied: nbformat>=4.2.0 in /Users/murali/opt/anaconda3/lib/python3.8/site-packages (from ipywidgets->jupyter<2.0.0,>=1.0.0->blackcellmagic) (5.1.3)\n",
      "Requirement already satisfied: widgetsnbextension~=3.5.0 in /Users/murali/opt/anaconda3/lib/python3.8/site-packages (from ipywidgets->jupyter<2.0.0,>=1.0.0->blackcellmagic) (3.5.1)\n",
      "Requirement already satisfied: jupyterlab-widgets>=1.0.0 in /Users/murali/opt/anaconda3/lib/python3.8/site-packages (from ipywidgets->jupyter<2.0.0,>=1.0.0->blackcellmagic) (1.0.0)\n",
      "Requirement already satisfied: defusedxml in /Users/murali/opt/anaconda3/lib/python3.8/site-packages (from nbconvert->jupyter<2.0.0,>=1.0.0->blackcellmagic) (0.7.1)\n",
      "Requirement already satisfied: mistune<2,>=0.8.1 in /Users/murali/opt/anaconda3/lib/python3.8/site-packages (from nbconvert->jupyter<2.0.0,>=1.0.0->blackcellmagic) (0.8.4)\n",
      "Requirement already satisfied: testpath in /Users/murali/opt/anaconda3/lib/python3.8/site-packages (from nbconvert->jupyter<2.0.0,>=1.0.0->blackcellmagic) (0.4.4)\n",
      "Requirement already satisfied: pandocfilters>=1.4.1 in /Users/murali/opt/anaconda3/lib/python3.8/site-packages (from nbconvert->jupyter<2.0.0,>=1.0.0->blackcellmagic) (1.4.3)\n",
      "Requirement already satisfied: entrypoints>=0.2.2 in /Users/murali/opt/anaconda3/lib/python3.8/site-packages (from nbconvert->jupyter<2.0.0,>=1.0.0->blackcellmagic) (0.3)\n",
      "Requirement already satisfied: nbclient<0.6.0,>=0.5.0 in /Users/murali/opt/anaconda3/lib/python3.8/site-packages (from nbconvert->jupyter<2.0.0,>=1.0.0->blackcellmagic) (0.5.3)\n",
      "Requirement already satisfied: bleach in /Users/murali/opt/anaconda3/lib/python3.8/site-packages (from nbconvert->jupyter<2.0.0,>=1.0.0->blackcellmagic) (3.3.0)\n",
      "Requirement already satisfied: jupyter-core in /Users/murali/opt/anaconda3/lib/python3.8/site-packages (from nbconvert->jupyter<2.0.0,>=1.0.0->blackcellmagic) (4.7.1)\n",
      "Requirement already satisfied: jupyterlab-pygments in /Users/murali/opt/anaconda3/lib/python3.8/site-packages (from nbconvert->jupyter<2.0.0,>=1.0.0->blackcellmagic) (0.1.2)\n",
      "Requirement already satisfied: jinja2>=2.4 in /Users/murali/opt/anaconda3/lib/python3.8/site-packages (from nbconvert->jupyter<2.0.0,>=1.0.0->blackcellmagic) (2.11.3)\n",
      "Requirement already satisfied: pyzmq>=17 in /Users/murali/opt/anaconda3/lib/python3.8/site-packages (from notebook->jupyter<2.0.0,>=1.0.0->blackcellmagic) (20.0.0)\n",
      "Requirement already satisfied: terminado>=0.8.3 in /Users/murali/opt/anaconda3/lib/python3.8/site-packages (from notebook->jupyter<2.0.0,>=1.0.0->blackcellmagic) (0.9.4)\n",
      "Requirement already satisfied: prometheus-client in /Users/murali/opt/anaconda3/lib/python3.8/site-packages (from notebook->jupyter<2.0.0,>=1.0.0->blackcellmagic) (0.10.1)\n",
      "Requirement already satisfied: argon2-cffi in /Users/murali/opt/anaconda3/lib/python3.8/site-packages (from notebook->jupyter<2.0.0,>=1.0.0->blackcellmagic) (20.1.0)\n",
      "Requirement already satisfied: Send2Trash>=1.5.0 in /Users/murali/opt/anaconda3/lib/python3.8/site-packages (from notebook->jupyter<2.0.0,>=1.0.0->blackcellmagic) (1.5.0)\n",
      "Requirement already satisfied: qtpy in /Users/murali/opt/anaconda3/lib/python3.8/site-packages (from qtconsole->jupyter<2.0.0,>=1.0.0->blackcellmagic) (1.9.0)\n",
      "Requirement already satisfied: MarkupSafe>=0.23 in /Users/murali/opt/anaconda3/lib/python3.8/site-packages (from jinja2>=2.4->nbconvert->jupyter<2.0.0,>=1.0.0->blackcellmagic) (1.1.1)\n",
      "Requirement already satisfied: python-dateutil>=2.1 in /Users/murali/opt/anaconda3/lib/python3.8/site-packages (from jupyter-client->ipykernel->jupyter<2.0.0,>=1.0.0->blackcellmagic) (2.8.1)\n",
      "Requirement already satisfied: async-generator in /Users/murali/opt/anaconda3/lib/python3.8/site-packages (from nbclient<0.6.0,>=0.5.0->nbconvert->jupyter<2.0.0,>=1.0.0->blackcellmagic) (1.10)\n",
      "Requirement already satisfied: nest-asyncio in /Users/murali/opt/anaconda3/lib/python3.8/site-packages (from nbclient<0.6.0,>=0.5.0->nbconvert->jupyter<2.0.0,>=1.0.0->blackcellmagic) (1.5.1)\n",
      "Requirement already satisfied: jsonschema!=2.5.0,>=2.4 in /Users/murali/opt/anaconda3/lib/python3.8/site-packages (from nbformat>=4.2.0->ipywidgets->jupyter<2.0.0,>=1.0.0->blackcellmagic) (3.2.0)\n",
      "Requirement already satisfied: cffi>=1.0.0 in /Users/murali/opt/anaconda3/lib/python3.8/site-packages (from argon2-cffi->notebook->jupyter<2.0.0,>=1.0.0->blackcellmagic) (1.14.5)\n",
      "Requirement already satisfied: six in /Users/murali/opt/anaconda3/lib/python3.8/site-packages (from argon2-cffi->notebook->jupyter<2.0.0,>=1.0.0->blackcellmagic) (1.15.0)\n",
      "Requirement already satisfied: webencodings in /Users/murali/opt/anaconda3/lib/python3.8/site-packages (from bleach->nbconvert->jupyter<2.0.0,>=1.0.0->blackcellmagic) (0.5.1)\n",
      "Requirement already satisfied: packaging in /Users/murali/opt/anaconda3/lib/python3.8/site-packages (from bleach->nbconvert->jupyter<2.0.0,>=1.0.0->blackcellmagic) (20.9)\n"
     ]
    },
    {
     "name": "stdout",
     "output_type": "stream",
     "text": [
      "Requirement already satisfied: pycparser in /Users/murali/opt/anaconda3/lib/python3.8/site-packages (from cffi>=1.0.0->argon2-cffi->notebook->jupyter<2.0.0,>=1.0.0->blackcellmagic) (2.20)\n",
      "Requirement already satisfied: pyrsistent>=0.14.0 in /Users/murali/opt/anaconda3/lib/python3.8/site-packages (from jsonschema!=2.5.0,>=2.4->nbformat>=4.2.0->ipywidgets->jupyter<2.0.0,>=1.0.0->blackcellmagic) (0.17.3)\n",
      "Requirement already satisfied: attrs>=17.4.0 in /Users/murali/opt/anaconda3/lib/python3.8/site-packages (from jsonschema!=2.5.0,>=2.4->nbformat>=4.2.0->ipywidgets->jupyter<2.0.0,>=1.0.0->blackcellmagic) (20.3.0)\n",
      "Requirement already satisfied: pyparsing>=2.0.2 in /Users/murali/opt/anaconda3/lib/python3.8/site-packages (from packaging->bleach->nbconvert->jupyter<2.0.0,>=1.0.0->blackcellmagic) (2.4.7)\n",
      "Installing collected packages: typing-extensions, tomli, platformdirs, pathspec, black, watermark, blackcellmagic\n",
      "  Attempting uninstall: typing-extensions\n",
      "    Found existing installation: typing-extensions 3.7.4.3\n",
      "    Uninstalling typing-extensions-3.7.4.3:\n",
      "      Successfully uninstalled typing-extensions-3.7.4.3\n",
      "  Attempting uninstall: pathspec\n",
      "    Found existing installation: pathspec 0.7.0\n",
      "    Uninstalling pathspec-0.7.0:\n",
      "      Successfully uninstalled pathspec-0.7.0\n",
      "  Attempting uninstall: black\n",
      "    Found existing installation: black 19.10b0\n",
      "    Uninstalling black-19.10b0:\n",
      "      Successfully uninstalled black-19.10b0\n",
      "Successfully installed black-21.12b0 blackcellmagic-0.0.3 pathspec-0.9.0 platformdirs-2.4.1 tomli-1.2.3 typing-extensions-4.0.1 watermark-2.3.0\n",
      "Note: you may need to restart the kernel to use updated packages.\n"
     ]
    }
   ],
   "source": [
    "pip install --upgrade watermark blackcellmagic"
   ]
  },
  {
   "cell_type": "code",
   "execution_count": 4,
   "id": "ecd0806b",
   "metadata": {},
   "outputs": [],
   "source": [
    "%load_ext blackcellmagic\n",
    "\n",
    "import numpy as np"
   ]
  },
  {
   "cell_type": "code",
   "execution_count": 5,
   "id": "3d720751",
   "metadata": {},
   "outputs": [
    {
     "ename": "ModuleNotFoundError",
     "evalue": "No module named 'google.colab'",
     "output_type": "error",
     "traceback": [
      "\u001b[0;31m---------------------------------------------------------------------------\u001b[0m",
      "\u001b[0;31mModuleNotFoundError\u001b[0m                       Traceback (most recent call last)",
      "\u001b[0;32m<ipython-input-5-ee201b91671e>\u001b[0m in \u001b[0;36m<module>\u001b[0;34m\u001b[0m\n\u001b[0;32m----> 1\u001b[0;31m \u001b[0;32mfrom\u001b[0m \u001b[0mgoogle\u001b[0m\u001b[0;34m.\u001b[0m\u001b[0mcolab\u001b[0m \u001b[0;32mimport\u001b[0m \u001b[0mfiles\u001b[0m\u001b[0;34m\u001b[0m\u001b[0;34m\u001b[0m\u001b[0m\n\u001b[0m",
      "\u001b[0;31mModuleNotFoundError\u001b[0m: No module named 'google.colab'"
     ]
    }
   ],
   "source": [
    "from google.colab import files"
   ]
  },
  {
   "cell_type": "code",
   "execution_count": null,
   "id": "cab8498a",
   "metadata": {},
   "outputs": [],
   "source": []
  }
 ],
 "metadata": {
  "kernelspec": {
   "display_name": "Python 3",
   "language": "python",
   "name": "python3"
  },
  "language_info": {
   "codemirror_mode": {
    "name": "ipython",
    "version": 3
   },
   "file_extension": ".py",
   "mimetype": "text/x-python",
   "name": "python",
   "nbconvert_exporter": "python",
   "pygments_lexer": "ipython3",
   "version": "3.8.8"
  }
 },
 "nbformat": 4,
 "nbformat_minor": 5
}
