{
 "cells": [
  {
   "cell_type": "code",
   "execution_count": 5,
   "id": "37c41e91",
   "metadata": {},
   "outputs": [
    {
     "name": "stdout",
     "output_type": "stream",
     "text": [
      "Number of CPUs in the system: 10\n",
      "multiprocessing cpu_count: 10\n",
      "multiprocessing cpu_count: 10\n",
      "3.8.12\n",
      "3.8.12 (default, Oct 12 2021, 06:23:56) \n",
      "[Clang 10.0.0 ]\n",
      "numpy 1.21.4\n",
      "pandas 1.1.3\n"
     ]
    }
   ],
   "source": [
    "import datetime\n",
    "\n",
    "start = datetime.datetime.now()\n",
    "\n",
    "# Python program to explain os.cpu_count() method  \n",
    "  \n",
    "# importing os module \n",
    "import os\n",
    "import multiprocessing\n",
    "import psutil\n",
    "\n",
    "# Get the number of CPUs\n",
    "# in the system using\n",
    "# os.cpu_count() method\n",
    "cpuCount = os.cpu_count()\n",
    "  \n",
    "# Print the number of\n",
    "# CPUs in the system\n",
    "print(\"Number of CPUs in the system:\", cpuCount)\n",
    "\n",
    "print(\"multiprocessing cpu_count:\", multiprocessing.cpu_count())\n",
    "\n",
    "print(\"multiprocessing cpu_count:\", psutil.cpu_count())\n",
    "\n",
    "\n",
    "\n",
    "# Check version runing on Jupyter notebook\n",
    "from platform import python_version\n",
    "print(python_version())\n",
    "\n",
    "# Check version inside your Python program\n",
    "import sys\n",
    "print(sys.version)\n",
    "\n",
    "import numpy\n",
    "print('numpy' , numpy.__version__)\n",
    "\n",
    "import pandas\n",
    "print('pandas' ,pandas.__version__)\n",
    "\n",
    "\n"
   ]
  },
  {
   "cell_type": "code",
   "execution_count": 2,
   "id": "2437c4a4",
   "metadata": {},
   "outputs": [
    {
     "name": "stdout",
     "output_type": "stream",
     "text": [
      "64bit\n",
      "64\n"
     ]
    }
   ],
   "source": [
    "import platform, struct\n",
    "print(platform.architecture()[0])\n",
    "print(struct.calcsize(\"P\") * 8)\n",
    "\n"
   ]
  },
  {
   "cell_type": "code",
   "execution_count": 3,
   "id": "f7a7905e",
   "metadata": {},
   "outputs": [
    {
     "name": "stdout",
     "output_type": "stream",
     "text": [
      "Total Time Taken : 0:00:03.825458\n"
     ]
    }
   ],
   "source": [
    "end = datetime.datetime.now()\n",
    "print(f'Total Time Taken : {end-start}')"
   ]
  },
  {
   "cell_type": "code",
   "execution_count": null,
   "id": "665b6578",
   "metadata": {},
   "outputs": [],
   "source": []
  },
  {
   "cell_type": "code",
   "execution_count": null,
   "id": "0cd1ec3d",
   "metadata": {},
   "outputs": [],
   "source": []
  }
 ],
 "metadata": {
  "kernelspec": {
   "display_name": "Python 3 (ipykernel)",
   "language": "python",
   "name": "python3"
  },
  "language_info": {
   "codemirror_mode": {
    "name": "ipython",
    "version": 3
   },
   "file_extension": ".py",
   "mimetype": "text/x-python",
   "name": "python",
   "nbconvert_exporter": "python",
   "pygments_lexer": "ipython3",
   "version": "3.8.12"
  }
 },
 "nbformat": 4,
 "nbformat_minor": 5
}
