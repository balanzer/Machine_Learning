{
 "cells": [
  {
   "cell_type": "code",
   "execution_count": 1,
   "id": "5e977d5a",
   "metadata": {},
   "outputs": [],
   "source": [
    "\n",
    "import cv2"
   ]
  },
  {
   "cell_type": "code",
   "execution_count": 2,
   "id": "c494e1f5",
   "metadata": {},
   "outputs": [
    {
     "data": {
      "text/plain": [
       "'4.5.4-dev'"
      ]
     },
     "execution_count": 2,
     "metadata": {},
     "output_type": "execute_result"
    }
   ],
   "source": [
    "cv2.__version__"
   ]
  },
  {
   "cell_type": "code",
   "execution_count": 3,
   "id": "eda9d717",
   "metadata": {},
   "outputs": [],
   "source": [
    "image = cv2.imread('test_image.png')"
   ]
  },
  {
   "cell_type": "code",
   "execution_count": 5,
   "id": "a532b4db",
   "metadata": {},
   "outputs": [],
   "source": [
    "gray = cv2.cvtColor(image, cv2.COLOR_BGR2GRAY)"
   ]
  },
  {
   "cell_type": "code",
   "execution_count": 8,
   "id": "b1633227",
   "metadata": {},
   "outputs": [],
   "source": [
    "cv2.imshow('Original image',image)\n"
   ]
  },
  {
   "cell_type": "code",
   "execution_count": 7,
   "id": "ed6804a0",
   "metadata": {},
   "outputs": [],
   "source": [
    "cv2.imshow('Gray image', gray)"
   ]
  },
  {
   "cell_type": "code",
   "execution_count": null,
   "id": "df7be2c3",
   "metadata": {},
   "outputs": [],
   "source": []
  }
 ],
 "metadata": {
  "kernelspec": {
   "display_name": "Python 3",
   "language": "python",
   "name": "python3"
  },
  "language_info": {
   "codemirror_mode": {
    "name": "ipython",
    "version": 3
   },
   "file_extension": ".py",
   "mimetype": "text/x-python",
   "name": "python",
   "nbconvert_exporter": "python",
   "pygments_lexer": "ipython3",
   "version": "3.8.8"
  }
 },
 "nbformat": 4,
 "nbformat_minor": 5
}
