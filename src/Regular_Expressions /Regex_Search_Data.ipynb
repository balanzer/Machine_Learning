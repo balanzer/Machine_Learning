{
 "cells": [
  {
   "cell_type": "code",
   "execution_count": 1,
   "id": "f19f4082",
   "metadata": {},
   "outputs": [],
   "source": [
    "import re\n",
    "\n",
    "\n",
    "text_to_search = '''\n",
    "abcddefghijklmnopqrstuvwxyz\n",
    "ABCDEFGHIJKLMNOPQRSTUVWXYZ\n",
    "1234567890\n",
    "121212abc\n",
    "aa12\n",
    " Hello HelloHello\n",
    "\n",
    "MetaCharacters (Needs to be escaped) : \n",
    ". ^ $ * + ? { } [ ] \\ | ( )\n",
    "\n",
    "utexas.edu\n",
    "\n",
    "321-123-1221\n",
    "123.456.7800\n",
    "\n",
    "mtv.apple@gmail.com\n",
    "mtv-apple11@gmail.com\n",
    "\n",
    "Mr. Mura Va\n",
    "Mr Smith Jhon\n",
    "Ms David\n",
    "Mrs. Robin\n",
    "\n",
    "Mr. T V\n",
    "\n",
    "abcd\n",
    "'''"
   ]
  },
  {
   "cell_type": "code",
   "execution_count": 22,
   "id": "32ed2d3d",
   "metadata": {},
   "outputs": [
    {
     "name": "stdout",
     "output_type": "stream",
     "text": [
      "Alternate text fetch using index : mtv.apple@gmail.com\n",
      "or span 0 th group provide (209, 228)\n",
      "or group 0 provide content mtv.apple@gmail.com\n",
      "Alternate text fetch using index : mtv-apple11@gmail.com\n",
      "or span 0 th group provide (229, 250)\n",
      "or group 0 provide content mtv-apple11@gmail.com\n"
     ]
    }
   ],
   "source": [
    "pattern = re.compile(r'[a-zA-Z0-9_.+-]+@[a-zA-Z]+\\.[a-zA-Z]{2,4}')\n",
    "matches = pattern.finditer(text_to_search)\n",
    "\n",
    "for mat in matches:\n",
    "    print(f'Alternate text fetch using index : {text_to_search[mat.span()[0]:mat.span()[1]]}')\n",
    "    print(f'or span 0 th group provide {mat.span(0)}')\n",
    "    print(f'or group 0 provide content {mat.group(0)}')"
   ]
  },
  {
   "cell_type": "code",
   "execution_count": 27,
   "id": "cb9856e8",
   "metadata": {},
   "outputs": [
    {
     "data": {
      "text/plain": [
       "'\\nhttps://mtv.\\nhttps://usa.gov\\nhttp://localhost:8080/\\nhttps://www.google.com\\nhttps://google.com\\nhttp://google.com\\nhttp://criaglist.org\\n'"
      ]
     },
     "execution_count": 27,
     "metadata": {},
     "output_type": "execute_result"
    }
   ],
   "source": [
    "urls = r'''\n",
    "https://mtv.\n",
    "https://usa.gov\n",
    "http://localhost:8080/\n",
    "https://www.google.com\n",
    "https://google.com\n",
    "http://google.com\n",
    "http://criaglist.org\n",
    "'''\n",
    "\n",
    "urls"
   ]
  },
  {
   "cell_type": "code",
   "execution_count": 28,
   "id": "4eccb197",
   "metadata": {},
   "outputs": [
    {
     "name": "stdout",
     "output_type": "stream",
     "text": [
      "websites are : https://usa.gov\n",
      "websites are : https://www.google.com\n",
      "websites are : https://google.com\n",
      "websites are : http://google.com\n",
      "websites are : http://criaglist.org\n"
     ]
    }
   ],
   "source": [
    "pattern = re.compile(r'https?://(www\\.)?\\w+\\.\\w+')\n",
    "matches = pattern.finditer(urls)\n",
    "\n",
    "for mat in matches:\n",
    "    print(f'websites are : {urls[mat.span()[0]:mat.span()[1]]}')"
   ]
  },
  {
   "cell_type": "code",
   "execution_count": 32,
   "id": "116b9c82",
   "metadata": {},
   "outputs": [
    {
     "name": "stdout",
     "output_type": "stream",
     "text": [
      "groups are (None, 'usa', '.gov') on text https://usa.gov\n",
      "groups are ('www.', 'google', '.com') on text https://www.google.com\n",
      "groups are (None, 'google', '.com') on text https://google.com\n",
      "groups are (None, 'google', '.com') on text http://google.com\n",
      "groups are (None, 'criaglist', '.org') on text http://criaglist.org\n"
     ]
    }
   ],
   "source": [
    "pattern = re.compile(r'https?://(www\\.)?(\\w+)(\\.\\w+)') ## grouping website patters with ()\n",
    "matches = pattern.finditer(urls)\n",
    "\n",
    "for mat in matches:\n",
    "    print(f'groups are {mat.groups()} on text {urls[mat.span()[0]:mat.span()[1]]}') ##accessing data via groups, to get domains etc"
   ]
  },
  {
   "cell_type": "code",
   "execution_count": null,
   "id": "b91a3cb9",
   "metadata": {},
   "outputs": [],
   "source": []
  }
 ],
 "metadata": {
  "kernelspec": {
   "display_name": "Python 3",
   "language": "python",
   "name": "python3"
  },
  "language_info": {
   "codemirror_mode": {
    "name": "ipython",
    "version": 3
   },
   "file_extension": ".py",
   "mimetype": "text/x-python",
   "name": "python",
   "nbconvert_exporter": "python",
   "pygments_lexer": "ipython3",
   "version": "3.8.8"
  }
 },
 "nbformat": 4,
 "nbformat_minor": 5
}
