{
 "cells": [
  {
   "cell_type": "code",
   "execution_count": null,
   "id": "b03ac477",
   "metadata": {},
   "outputs": [],
   "source": [
    "import re #regular exp packages"
   ]
  },
  {
   "cell_type": "code",
   "execution_count": null,
   "id": "5cdf7a1c",
   "metadata": {},
   "outputs": [],
   "source": [
    "text_to_search = '''\n",
    "abcddefghijklmnopqrstuvwxyz\n",
    "ABCDEFGHIJKLMNOPQRSTUVWXYZ\n",
    "1234567890\n",
    "121212abc\n",
    " Hello HelloHello\n",
    "\n",
    "MetaCharacters (Needs to be escaped) : \n",
    ". ^ $ * + ? { } [ ] \\ | ( )\n",
    "\n",
    "utexas.edu\n",
    "\n",
    "321-123-1221\n",
    "123.456.7800\n",
    "\n",
    "mtv.apple@gmail.com\n",
    "\n",
    "Mr. M\n",
    "Mr Smith\n",
    "Ms David\n",
    "Mrs. Robin\n",
    "\n",
    "Mr. T\n",
    "\n",
    "abcd\n",
    "'''"
   ]
  },
  {
   "cell_type": "code",
   "execution_count": null,
   "id": "ec72f367",
   "metadata": {},
   "outputs": [],
   "source": [
    "pattern = re.compile(r'abc',re.IGNORECASE)\n",
    "matches = pattern.finditer(text_to_search)\n",
    "\n",
    "for mat in matches:\n",
    "    print(mat)"
   ]
  },
  {
   "cell_type": "code",
   "execution_count": null,
   "id": "a586c7ee",
   "metadata": {},
   "outputs": [],
   "source": [
    "# search for special char like . \n",
    "pattern = re.compile(r'\\.')\n",
    "matches = pattern.finditer(text_to_search)\n",
    "\n",
    "for mat in matches:\n",
    "    print(mat)\n",
    "\n",
    "    \n",
    "# search for special char like $ \n",
    "pattern = re.compile(r'\\S$')\n",
    "matches = pattern.finditer(text_to_search)\n",
    "\n",
    "for mat in matches:\n",
    "    print(mat)\n"
   ]
  },
  {
   "cell_type": "code",
   "execution_count": null,
   "id": "03531485",
   "metadata": {},
   "outputs": [],
   "source": [
    "# search numbers with \\d\n",
    "pattern = re.compile(r'\\d')\n",
    "matches = pattern.finditer(text_to_search)\n",
    "\n",
    "for mat in matches:\n",
    "    print(mat)\n"
   ]
  },
  {
   "cell_type": "code",
   "execution_count": null,
   "id": "61c51fd1",
   "metadata": {},
   "outputs": [],
   "source": [
    "# search \\D with not numbers\n",
    "pattern = re.compile(r'\\D')\n",
    "matches = pattern.finditer(text_to_search)\n",
    "\n",
    "for mat in matches:\n",
    "    print(mat)"
   ]
  },
  {
   "cell_type": "code",
   "execution_count": null,
   "id": "0f9a0e57",
   "metadata": {},
   "outputs": [],
   "source": [
    "# search new lines\n",
    "pattern = re.compile(r'\\n')\n",
    "matches = pattern.finditer(text_to_search)\n",
    "\n",
    "for mat in matches:\n",
    "    print(mat)"
   ]
  },
  {
   "cell_type": "code",
   "execution_count": null,
   "id": "62de1aec",
   "metadata": {},
   "outputs": [],
   "source": [
    "# search number and then a  word char\n",
    "pattern = re.compile(r'\\d\\w')\n",
    "matches = pattern.finditer(text_to_search)\n",
    "\n",
    "for mat in matches:\n",
    "    print(mat)"
   ]
  },
  {
   "cell_type": "markdown",
   "id": "c5717cc4",
   "metadata": {},
   "source": [
    "## word boundary"
   ]
  },
  {
   "cell_type": "code",
   "execution_count": null,
   "id": "7e5cc68d",
   "metadata": {},
   "outputs": [],
   "source": [
    "# search text\n",
    "pattern = re.compile(r'Hello')\n",
    "matches = pattern.finditer(text_to_search)\n",
    "\n",
    "for mat in matches:\n",
    "    print(mat)"
   ]
  },
  {
   "cell_type": "code",
   "execution_count": null,
   "id": "040452da",
   "metadata": {},
   "outputs": [],
   "source": [
    "# search text with word boundary\n",
    "pattern = re.compile(r'\\bHello\\b')\n",
    "matches = pattern.finditer(text_to_search)\n",
    "\n",
    "for mat in matches:\n",
    "    print(mat)\n",
    "    \n",
    "pattern = re.compile(r'\\BHello\\b')\n",
    "matches = pattern.finditer(text_to_search)\n",
    "\n",
    "for mat in matches:\n",
    "    print(mat)"
   ]
  },
  {
   "cell_type": "code",
   "execution_count": null,
   "id": "fcd022bd",
   "metadata": {},
   "outputs": [],
   "source": [
    "# search number followed by word boundary\n",
    "pattern = re.compile(r'\\b\\d')\n",
    "matches = pattern.finditer(text_to_search)\n",
    "\n",
    "for mat in matches:\n",
    "    print(mat)\n",
    "    \n",
    "    \n"
   ]
  },
  {
   "cell_type": "code",
   "execution_count": null,
   "id": "e804066d",
   "metadata": {},
   "outputs": [],
   "source": [
    "# search begining\n",
    "pattern = re.compile(r'^\\s')\n",
    "matches = pattern.finditer(text_to_search)\n",
    "\n",
    "for mat in matches:\n",
    "    print(mat)\n",
    "    \n",
    "    \n",
    "pattern = re.compile(r'$\\s')\n",
    "matches = pattern.finditer(text_to_search)\n",
    "\n",
    "for mat in matches:\n",
    "    print(mat)\n",
    "        \n"
   ]
  },
  {
   "cell_type": "markdown",
   "id": "773a60f6",
   "metadata": {},
   "source": [
    "## Character sets"
   ]
  },
  {
   "cell_type": "code",
   "execution_count": null,
   "id": "29474bec",
   "metadata": {},
   "outputs": [],
   "source": []
  }
 ],
 "metadata": {
  "kernelspec": {
   "display_name": "Python 3",
   "language": "python",
   "name": "python3"
  },
  "language_info": {
   "codemirror_mode": {
    "name": "ipython",
    "version": 3
   },
   "file_extension": ".py",
   "mimetype": "text/x-python",
   "name": "python",
   "nbconvert_exporter": "python",
   "pygments_lexer": "ipython3",
   "version": "3.8.8"
  }
 },
 "nbformat": 4,
 "nbformat_minor": 5
}
