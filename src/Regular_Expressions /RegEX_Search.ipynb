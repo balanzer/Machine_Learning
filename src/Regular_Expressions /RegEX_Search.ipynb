{
 "cells": [
  {
   "cell_type": "code",
   "execution_count": null,
   "id": "76a0edab",
   "metadata": {},
   "outputs": [],
   "source": [
    "import re\n",
    "\n",
    "text_to_search = '''\n",
    "abcddefghijklmnopqrstuvwxyz\n",
    "ABCDEFGHIJKLMNOPQRSTUVWXYZ\n",
    "1234567890\n",
    "121212abc\n",
    "aa12\n",
    " Hello HelloHello\n",
    "\n",
    "MetaCharacters (Needs to be escaped) : \n",
    ". ^ $ * + ? { } [ ] \\ | ( )\n",
    "\n",
    "utexas.edu\n",
    "\n",
    "321-123-1221\n",
    "123.456.7800\n",
    "\n",
    "mtv.apple@gmail.com\n",
    "mtv-apple11@gmail.com\n",
    "\n",
    "Mr. Mura Va\n",
    "Mr Smith Jhon\n",
    "Ms David\n",
    "Mrs. Robin\n",
    "\n",
    "Mr. T V\n",
    "\n",
    "abcd\n",
    "'''"
   ]
  },
  {
   "cell_type": "markdown",
   "id": "4b46e154",
   "metadata": {},
   "source": [
    "### Character sets\n"
   ]
  },
  {
   "cell_type": "code",
   "execution_count": null,
   "id": "ba04e290",
   "metadata": {},
   "outputs": [],
   "source": [
    "#starts with number 123 and followed by word char\n",
    "\n",
    "pattern = re.compile(r'[123]\\w')\n",
    "matches = pattern.finditer(text_to_search)\n",
    "\n",
    "for mat in matches:\n",
    "    print(mat)"
   ]
  },
  {
   "cell_type": "code",
   "execution_count": null,
   "id": "dfda99aa",
   "metadata": {},
   "outputs": [],
   "source": [
    "#any 2 lowercase letter followed by number\n",
    "pattern = re.compile(r'[a-z][a-z][0-9]')\n",
    "matches = pattern.finditer(text_to_search)\n",
    "\n",
    "for mat in matches:\n",
    "    print(mat)"
   ]
  },
  {
   "cell_type": "code",
   "execution_count": null,
   "id": "a6e83eaf",
   "metadata": {},
   "outputs": [],
   "source": [
    "pattern = re.compile(r'[a-zA-z0-9][a-zA-Z-][0-9]')\n",
    "matches = pattern.finditer(text_to_search)\n",
    "\n",
    "for mat in matches:\n",
    "    print(mat)"
   ]
  },
  {
   "cell_type": "code",
   "execution_count": null,
   "id": "0f400961",
   "metadata": {},
   "outputs": [],
   "source": [
    "pattern = re.compile(r'[a-zA-z][^a-zA-Z]')\n",
    "matches = pattern.finditer(text_to_search)\n",
    "\n",
    "for mat in matches:\n",
    "    print(mat)"
   ]
  },
  {
   "cell_type": "code",
   "execution_count": null,
   "id": "f23babe1",
   "metadata": {},
   "outputs": [],
   "source": [
    "# using or with search texts \n",
    "\n",
    "pattern = re.compile(r'(abc|edu|Hello)')\n",
    "matches = pattern.finditer(text_to_search)\n",
    "\n",
    "for mat in matches:\n",
    "    print(mat)"
   ]
  },
  {
   "cell_type": "code",
   "execution_count": null,
   "id": "3d6a6bfa",
   "metadata": {},
   "outputs": [],
   "source": [
    "\n",
    "\n",
    "pattern = re.compile(r'([A-Z]|llo)[a-zA-Z]')\n",
    "matches = pattern.finditer(text_to_search)\n",
    "\n",
    "for mat in matches:\n",
    "    print(mat)"
   ]
  },
  {
   "cell_type": "markdown",
   "id": "6c430197",
   "metadata": {},
   "source": [
    "## Quantifiers"
   ]
  },
  {
   "cell_type": "code",
   "execution_count": null,
   "id": "bc0b1e9d",
   "metadata": {},
   "outputs": [],
   "source": [
    "pattern = re.compile(r'Mr\\.?\\s[A-Z]')\n",
    "matches = pattern.finditer(text_to_search)\n",
    "\n",
    "for mat in matches:\n",
    "    print(mat)"
   ]
  },
  {
   "cell_type": "code",
   "execution_count": null,
   "id": "60e1d188",
   "metadata": {},
   "outputs": [],
   "source": [
    "pattern = re.compile(r'M(r|s|rs)\\.?\\s[A-Z][a-z]*')\n",
    "matches = pattern.finditer(text_to_search)\n",
    "\n",
    "for mat in matches:\n",
    "    print(mat)"
   ]
  },
  {
   "cell_type": "code",
   "execution_count": null,
   "id": "6a607641",
   "metadata": {},
   "outputs": [],
   "source": [
    "#find phone numbers\n",
    "\n",
    "pattern = re.compile(r'\\d{3}[.-]\\d{3}[.-]\\d{4}')\n",
    "matches = pattern.finditer(text_to_search)\n",
    "\n",
    "for mat in matches:\n",
    "    print(mat)"
   ]
  },
  {
   "cell_type": "code",
   "execution_count": null,
   "id": "45a461ef",
   "metadata": {},
   "outputs": [],
   "source": [
    "#find emails\n",
    "\n",
    "pattern = re.compile(r'[a-zA-Z0-9_.+-]+@[a-zA-Z]+\\.[a-zA-Z]+')\n",
    "matches = pattern.finditer(text_to_search)\n",
    "\n",
    "for mat in matches:\n",
    "    print(mat)\n"
   ]
  },
  {
   "cell_type": "markdown",
   "id": "13e9c189",
   "metadata": {},
   "source": [
    "## acccessing data after search"
   ]
  },
  {
   "cell_type": "code",
   "execution_count": null,
   "id": "32a30192",
   "metadata": {},
   "outputs": [],
   "source": [
    "pattern = re.compile(r'[a-zA-Z0-9_.+-]+@[a-zA-Z]+\\.[a-zA-Z]+')\n",
    "matches = pattern.finditer(text_to_search)\n",
    "\n",
    "for mat in matches:\n",
    "    print(f'Emails Address found : {text_to_search[mat.span()[0]:mat.span()[1]]}')"
   ]
  },
  {
   "cell_type": "code",
   "execution_count": null,
   "id": "4fb92daf",
   "metadata": {},
   "outputs": [],
   "source": []
  }
 ],
 "metadata": {
  "kernelspec": {
   "display_name": "Python 3",
   "language": "python",
   "name": "python3"
  },
  "language_info": {
   "codemirror_mode": {
    "name": "ipython",
    "version": 3
   },
   "file_extension": ".py",
   "mimetype": "text/x-python",
   "name": "python",
   "nbconvert_exporter": "python",
   "pygments_lexer": "ipython3",
   "version": "3.8.8"
  }
 },
 "nbformat": 4,
 "nbformat_minor": 5
}
