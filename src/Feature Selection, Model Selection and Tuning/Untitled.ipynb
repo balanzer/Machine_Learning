{
 "cells": [
  {
   "cell_type": "code",
   "execution_count": 1,
   "id": "19083f94",
   "metadata": {},
   "outputs": [
    {
     "name": "stdout",
     "output_type": "stream",
     "text": [
      "Collecting imbalanced-learn\n",
      "  Downloading imbalanced_learn-0.8.1-py3-none-any.whl (189 kB)\n",
      "\u001b[K     |████████████████████████████████| 189 kB 6.0 MB/s eta 0:00:01\n",
      "\u001b[?25hRequirement already satisfied: numpy>=1.13.3 in /Users/murali/opt/anaconda3/lib/python3.8/site-packages (from imbalanced-learn) (1.20.1)\n",
      "Requirement already satisfied: scikit-learn>=0.24 in /Users/murali/opt/anaconda3/lib/python3.8/site-packages (from imbalanced-learn) (0.24.1)\n",
      "Requirement already satisfied: joblib>=0.11 in /Users/murali/opt/anaconda3/lib/python3.8/site-packages (from imbalanced-learn) (1.0.1)\n",
      "Requirement already satisfied: scipy>=0.19.1 in /Users/murali/opt/anaconda3/lib/python3.8/site-packages (from imbalanced-learn) (1.6.2)\n",
      "Requirement already satisfied: threadpoolctl>=2.0.0 in /Users/murali/opt/anaconda3/lib/python3.8/site-packages (from scikit-learn>=0.24->imbalanced-learn) (2.1.0)\n",
      "Installing collected packages: imbalanced-learn\n",
      "Successfully installed imbalanced-learn-0.8.1\n",
      "Note: you may need to restart the kernel to use updated packages.\n"
     ]
    }
   ],
   "source": [
    "pip install -U imbalanced-learn"
   ]
  },
  {
   "cell_type": "code",
   "execution_count": 2,
   "id": "26e35801",
   "metadata": {},
   "outputs": [
    {
     "name": "stdout",
     "output_type": "stream",
     "text": [
      "Collecting nb_black\n",
      "  Downloading nb_black-1.0.7.tar.gz (4.8 kB)\n",
      "Requirement already satisfied: ipython in /Users/murali/opt/anaconda3/lib/python3.8/site-packages (from nb_black) (7.22.0)\n",
      "Requirement already satisfied: black>='19.3' in /Users/murali/opt/anaconda3/lib/python3.8/site-packages (from nb_black) (19.10b0)\n",
      "Requirement already satisfied: regex in /Users/murali/opt/anaconda3/lib/python3.8/site-packages (from black>='19.3'->nb_black) (2021.4.4)\n",
      "Requirement already satisfied: toml>=0.9.4 in /Users/murali/opt/anaconda3/lib/python3.8/site-packages (from black>='19.3'->nb_black) (0.10.2)\n",
      "Requirement already satisfied: appdirs in /Users/murali/opt/anaconda3/lib/python3.8/site-packages (from black>='19.3'->nb_black) (1.4.4)\n",
      "Requirement already satisfied: pathspec<1,>=0.6 in /Users/murali/opt/anaconda3/lib/python3.8/site-packages (from black>='19.3'->nb_black) (0.7.0)\n",
      "Requirement already satisfied: attrs>=18.1.0 in /Users/murali/opt/anaconda3/lib/python3.8/site-packages (from black>='19.3'->nb_black) (20.3.0)\n",
      "Requirement already satisfied: typed-ast>=1.4.0 in /Users/murali/opt/anaconda3/lib/python3.8/site-packages (from black>='19.3'->nb_black) (1.4.2)\n",
      "Requirement already satisfied: click>=6.5 in /Users/murali/opt/anaconda3/lib/python3.8/site-packages (from black>='19.3'->nb_black) (7.1.2)\n",
      "Requirement already satisfied: backcall in /Users/murali/opt/anaconda3/lib/python3.8/site-packages (from ipython->nb_black) (0.2.0)\n",
      "Requirement already satisfied: setuptools>=18.5 in /Users/murali/opt/anaconda3/lib/python3.8/site-packages (from ipython->nb_black) (52.0.0.post20210125)\n",
      "Requirement already satisfied: prompt-toolkit!=3.0.0,!=3.0.1,<3.1.0,>=2.0.0 in /Users/murali/opt/anaconda3/lib/python3.8/site-packages (from ipython->nb_black) (3.0.17)\n",
      "Requirement already satisfied: pickleshare in /Users/murali/opt/anaconda3/lib/python3.8/site-packages (from ipython->nb_black) (0.7.5)\n",
      "Requirement already satisfied: traitlets>=4.2 in /Users/murali/opt/anaconda3/lib/python3.8/site-packages (from ipython->nb_black) (5.0.5)\n",
      "Requirement already satisfied: pygments in /Users/murali/opt/anaconda3/lib/python3.8/site-packages (from ipython->nb_black) (2.8.1)\n",
      "Requirement already satisfied: appnope in /Users/murali/opt/anaconda3/lib/python3.8/site-packages (from ipython->nb_black) (0.1.2)\n",
      "Requirement already satisfied: jedi>=0.16 in /Users/murali/opt/anaconda3/lib/python3.8/site-packages (from ipython->nb_black) (0.17.2)\n",
      "Requirement already satisfied: decorator in /Users/murali/opt/anaconda3/lib/python3.8/site-packages (from ipython->nb_black) (5.0.6)\n",
      "Requirement already satisfied: pexpect>4.3 in /Users/murali/opt/anaconda3/lib/python3.8/site-packages (from ipython->nb_black) (4.8.0)\n",
      "Requirement already satisfied: parso<0.8.0,>=0.7.0 in /Users/murali/opt/anaconda3/lib/python3.8/site-packages (from jedi>=0.16->ipython->nb_black) (0.7.0)\n",
      "Requirement already satisfied: ptyprocess>=0.5 in /Users/murali/opt/anaconda3/lib/python3.8/site-packages (from pexpect>4.3->ipython->nb_black) (0.7.0)\n",
      "Requirement already satisfied: wcwidth in /Users/murali/opt/anaconda3/lib/python3.8/site-packages (from prompt-toolkit!=3.0.0,!=3.0.1,<3.1.0,>=2.0.0->ipython->nb_black) (0.2.5)\n",
      "Requirement already satisfied: ipython-genutils in /Users/murali/opt/anaconda3/lib/python3.8/site-packages (from traitlets>=4.2->ipython->nb_black) (0.2.0)\n",
      "Building wheels for collected packages: nb-black\n",
      "  Building wheel for nb-black (setup.py) ... \u001b[?25ldone\n",
      "\u001b[?25h  Created wheel for nb-black: filename=nb_black-1.0.7-py3-none-any.whl size=5279 sha256=71598015ca0d7e9bf97f039c96ab27a8a8da47af67b35d8417bc77d4bfbc9809\n",
      "  Stored in directory: /Users/murali/Library/Caches/pip/wheels/a6/5e/1e/a15614d6ea220d070043db3b650d73a8b4938aefd520496c11\n",
      "Successfully built nb-black\n",
      "Installing collected packages: nb-black\n",
      "Successfully installed nb-black-1.0.7\n",
      "Note: you may need to restart the kernel to use updated packages.\n"
     ]
    }
   ],
   "source": [
    "pip install nb_black"
   ]
  },
  {
   "cell_type": "code",
   "execution_count": 4,
   "id": "1b28f801",
   "metadata": {},
   "outputs": [
    {
     "name": "stdout",
     "output_type": "stream",
     "text": [
      "Requirement already satisfied: xgboost in /Users/murali/opt/anaconda3/lib/python3.8/site-packages (1.5.0)\n",
      "Requirement already satisfied: scipy in /Users/murali/opt/anaconda3/lib/python3.8/site-packages (from xgboost) (1.6.2)\n",
      "Requirement already satisfied: numpy in /Users/murali/opt/anaconda3/lib/python3.8/site-packages (from xgboost) (1.20.1)\n",
      "Note: you may need to restart the kernel to use updated packages.\n"
     ]
    }
   ],
   "source": [
    "pip install xgboost"
   ]
  },
  {
   "cell_type": "code",
   "execution_count": null,
   "id": "b6dad251",
   "metadata": {},
   "outputs": [],
   "source": []
  }
 ],
 "metadata": {
  "kernelspec": {
   "display_name": "Python 3",
   "language": "python",
   "name": "python3"
  },
  "language_info": {
   "codemirror_mode": {
    "name": "ipython",
    "version": 3
   },
   "file_extension": ".py",
   "mimetype": "text/x-python",
   "name": "python",
   "nbconvert_exporter": "python",
   "pygments_lexer": "ipython3",
   "version": "3.8.8"
  }
 },
 "nbformat": 4,
 "nbformat_minor": 5
}
