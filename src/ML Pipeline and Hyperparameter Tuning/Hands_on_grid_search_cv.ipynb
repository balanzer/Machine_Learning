{
 "cells": [
  {
   "cell_type": "code",
   "execution_count": 1,
   "id": "8fdb1603",
   "metadata": {},
   "outputs": [],
   "source": [
    "from sklearn import datasets\n",
    "\n",
    "iris = datasets.load_iris()\n",
    "X = iris.data[:,2:]\n",
    "y = iris.target\n",
    "from sklearn.model_selection import train_test_split, cross_val_score\n",
    "\n",
    "X_train, X_test, y_train, y_test = train_test_split(X, y, stratify = y,random_state = 7)"
   ]
  },
  {
   "cell_type": "code",
   "execution_count": 2,
   "id": "3f6642c4",
   "metadata": {},
   "outputs": [
    {
     "name": "stdout",
     "output_type": "stream",
     "text": [
      "(112, 2) (38, 2)\n"
     ]
    }
   ],
   "source": [
    "print(X_train.shape,  X_test.shape)"
   ]
  },
  {
   "cell_type": "code",
   "execution_count": 3,
   "id": "93000195",
   "metadata": {},
   "outputs": [],
   "source": [
    "from sklearn.neighbors import KNeighborsClassifier\n",
    "### Number of nearest neighbors\n",
    "knn_clf = KNeighborsClassifier()"
   ]
  },
  {
   "cell_type": "code",
   "execution_count": 4,
   "id": "ff154615",
   "metadata": {},
   "outputs": [
    {
     "data": {
      "text/plain": [
       "KNeighborsClassifier()"
      ]
     },
     "execution_count": 4,
     "metadata": {},
     "output_type": "execute_result"
    }
   ],
   "source": [
    "knn_clf.fit(X_train, y_train)"
   ]
  },
  {
   "cell_type": "code",
   "execution_count": 21,
   "id": "cd27c69f",
   "metadata": {},
   "outputs": [
    {
     "data": {
      "text/plain": [
       "{'algorithm': 'auto',\n",
       " 'leaf_size': 30,\n",
       " 'metric': 'minkowski',\n",
       " 'metric_params': None,\n",
       " 'n_jobs': None,\n",
       " 'n_neighbors': 5,\n",
       " 'p': 2,\n",
       " 'weights': 'uniform'}"
      ]
     },
     "execution_count": 21,
     "metadata": {},
     "output_type": "execute_result"
    }
   ],
   "source": [
    "knn_clf.get_params()"
   ]
  },
  {
   "cell_type": "code",
   "execution_count": 5,
   "id": "789f789c",
   "metadata": {},
   "outputs": [],
   "source": [
    "from sklearn.metrics import accuracy_score"
   ]
  },
  {
   "cell_type": "code",
   "execution_count": 22,
   "id": "dc8b3cd4",
   "metadata": {},
   "outputs": [],
   "source": [
    "param_grid = {'n_neighbors': list(range(1,9)),\n",
    "             'algorithm': ('auto', 'ball_tree', 'kd_tree' , 'brute'),'leaf_size':[1,5,10,15,20] }"
   ]
  },
  {
   "cell_type": "code",
   "execution_count": 23,
   "id": "74f60964",
   "metadata": {},
   "outputs": [],
   "source": [
    "from sklearn.model_selection import GridSearchCV\n",
    "gs = GridSearchCV(knn_clf,param_grid,cv=10)"
   ]
  },
  {
   "cell_type": "code",
   "execution_count": 24,
   "id": "0a77aadc",
   "metadata": {},
   "outputs": [
    {
     "data": {
      "text/plain": [
       "<bound method BaseEstimator.get_params of GridSearchCV(cv=10, estimator=KNeighborsClassifier(),\n",
       "             param_grid={'algorithm': ('auto', 'ball_tree', 'kd_tree', 'brute'),\n",
       "                         'leaf_size': [1, 5, 10, 15, 20],\n",
       "                         'n_neighbors': [1, 2, 3, 4, 5, 6, 7, 8]})>"
      ]
     },
     "execution_count": 24,
     "metadata": {},
     "output_type": "execute_result"
    }
   ],
   "source": [
    "gs.get_params"
   ]
  },
  {
   "cell_type": "code",
   "execution_count": 25,
   "id": "a12056bd",
   "metadata": {},
   "outputs": [
    {
     "data": {
      "text/plain": [
       "GridSearchCV(cv=10, estimator=KNeighborsClassifier(),\n",
       "             param_grid={'algorithm': ('auto', 'ball_tree', 'kd_tree', 'brute'),\n",
       "                         'leaf_size': [1, 5, 10, 15, 20],\n",
       "                         'n_neighbors': [1, 2, 3, 4, 5, 6, 7, 8]})"
      ]
     },
     "execution_count": 25,
     "metadata": {},
     "output_type": "execute_result"
    }
   ],
   "source": [
    "gs.fit(X_train, y_train)"
   ]
  },
  {
   "cell_type": "code",
   "execution_count": 26,
   "id": "61f16d82",
   "metadata": {},
   "outputs": [
    {
     "data": {
      "text/plain": [
       "{'algorithm': 'brute', 'leaf_size': 1, 'n_neighbors': 1}"
      ]
     },
     "execution_count": 26,
     "metadata": {},
     "output_type": "execute_result"
    }
   ],
   "source": [
    "gs.best_params_"
   ]
  },
  {
   "cell_type": "code",
   "execution_count": 27,
   "id": "b3eaedd6",
   "metadata": {},
   "outputs": [
    {
     "data": {
      "text/plain": [
       "[{'algorithm': 'auto', 'leaf_size': 1, 'n_neighbors': 1},\n",
       " {'algorithm': 'auto', 'leaf_size': 1, 'n_neighbors': 2},\n",
       " {'algorithm': 'auto', 'leaf_size': 1, 'n_neighbors': 3},\n",
       " {'algorithm': 'auto', 'leaf_size': 1, 'n_neighbors': 4},\n",
       " {'algorithm': 'auto', 'leaf_size': 1, 'n_neighbors': 5},\n",
       " {'algorithm': 'auto', 'leaf_size': 1, 'n_neighbors': 6},\n",
       " {'algorithm': 'auto', 'leaf_size': 1, 'n_neighbors': 7},\n",
       " {'algorithm': 'auto', 'leaf_size': 1, 'n_neighbors': 8},\n",
       " {'algorithm': 'auto', 'leaf_size': 5, 'n_neighbors': 1},\n",
       " {'algorithm': 'auto', 'leaf_size': 5, 'n_neighbors': 2},\n",
       " {'algorithm': 'auto', 'leaf_size': 5, 'n_neighbors': 3},\n",
       " {'algorithm': 'auto', 'leaf_size': 5, 'n_neighbors': 4},\n",
       " {'algorithm': 'auto', 'leaf_size': 5, 'n_neighbors': 5},\n",
       " {'algorithm': 'auto', 'leaf_size': 5, 'n_neighbors': 6},\n",
       " {'algorithm': 'auto', 'leaf_size': 5, 'n_neighbors': 7},\n",
       " {'algorithm': 'auto', 'leaf_size': 5, 'n_neighbors': 8},\n",
       " {'algorithm': 'auto', 'leaf_size': 10, 'n_neighbors': 1},\n",
       " {'algorithm': 'auto', 'leaf_size': 10, 'n_neighbors': 2},\n",
       " {'algorithm': 'auto', 'leaf_size': 10, 'n_neighbors': 3},\n",
       " {'algorithm': 'auto', 'leaf_size': 10, 'n_neighbors': 4},\n",
       " {'algorithm': 'auto', 'leaf_size': 10, 'n_neighbors': 5},\n",
       " {'algorithm': 'auto', 'leaf_size': 10, 'n_neighbors': 6},\n",
       " {'algorithm': 'auto', 'leaf_size': 10, 'n_neighbors': 7},\n",
       " {'algorithm': 'auto', 'leaf_size': 10, 'n_neighbors': 8},\n",
       " {'algorithm': 'auto', 'leaf_size': 15, 'n_neighbors': 1},\n",
       " {'algorithm': 'auto', 'leaf_size': 15, 'n_neighbors': 2},\n",
       " {'algorithm': 'auto', 'leaf_size': 15, 'n_neighbors': 3},\n",
       " {'algorithm': 'auto', 'leaf_size': 15, 'n_neighbors': 4},\n",
       " {'algorithm': 'auto', 'leaf_size': 15, 'n_neighbors': 5},\n",
       " {'algorithm': 'auto', 'leaf_size': 15, 'n_neighbors': 6},\n",
       " {'algorithm': 'auto', 'leaf_size': 15, 'n_neighbors': 7},\n",
       " {'algorithm': 'auto', 'leaf_size': 15, 'n_neighbors': 8},\n",
       " {'algorithm': 'auto', 'leaf_size': 20, 'n_neighbors': 1},\n",
       " {'algorithm': 'auto', 'leaf_size': 20, 'n_neighbors': 2},\n",
       " {'algorithm': 'auto', 'leaf_size': 20, 'n_neighbors': 3},\n",
       " {'algorithm': 'auto', 'leaf_size': 20, 'n_neighbors': 4},\n",
       " {'algorithm': 'auto', 'leaf_size': 20, 'n_neighbors': 5},\n",
       " {'algorithm': 'auto', 'leaf_size': 20, 'n_neighbors': 6},\n",
       " {'algorithm': 'auto', 'leaf_size': 20, 'n_neighbors': 7},\n",
       " {'algorithm': 'auto', 'leaf_size': 20, 'n_neighbors': 8},\n",
       " {'algorithm': 'ball_tree', 'leaf_size': 1, 'n_neighbors': 1},\n",
       " {'algorithm': 'ball_tree', 'leaf_size': 1, 'n_neighbors': 2},\n",
       " {'algorithm': 'ball_tree', 'leaf_size': 1, 'n_neighbors': 3},\n",
       " {'algorithm': 'ball_tree', 'leaf_size': 1, 'n_neighbors': 4},\n",
       " {'algorithm': 'ball_tree', 'leaf_size': 1, 'n_neighbors': 5},\n",
       " {'algorithm': 'ball_tree', 'leaf_size': 1, 'n_neighbors': 6},\n",
       " {'algorithm': 'ball_tree', 'leaf_size': 1, 'n_neighbors': 7},\n",
       " {'algorithm': 'ball_tree', 'leaf_size': 1, 'n_neighbors': 8},\n",
       " {'algorithm': 'ball_tree', 'leaf_size': 5, 'n_neighbors': 1},\n",
       " {'algorithm': 'ball_tree', 'leaf_size': 5, 'n_neighbors': 2},\n",
       " {'algorithm': 'ball_tree', 'leaf_size': 5, 'n_neighbors': 3},\n",
       " {'algorithm': 'ball_tree', 'leaf_size': 5, 'n_neighbors': 4},\n",
       " {'algorithm': 'ball_tree', 'leaf_size': 5, 'n_neighbors': 5},\n",
       " {'algorithm': 'ball_tree', 'leaf_size': 5, 'n_neighbors': 6},\n",
       " {'algorithm': 'ball_tree', 'leaf_size': 5, 'n_neighbors': 7},\n",
       " {'algorithm': 'ball_tree', 'leaf_size': 5, 'n_neighbors': 8},\n",
       " {'algorithm': 'ball_tree', 'leaf_size': 10, 'n_neighbors': 1},\n",
       " {'algorithm': 'ball_tree', 'leaf_size': 10, 'n_neighbors': 2},\n",
       " {'algorithm': 'ball_tree', 'leaf_size': 10, 'n_neighbors': 3},\n",
       " {'algorithm': 'ball_tree', 'leaf_size': 10, 'n_neighbors': 4},\n",
       " {'algorithm': 'ball_tree', 'leaf_size': 10, 'n_neighbors': 5},\n",
       " {'algorithm': 'ball_tree', 'leaf_size': 10, 'n_neighbors': 6},\n",
       " {'algorithm': 'ball_tree', 'leaf_size': 10, 'n_neighbors': 7},\n",
       " {'algorithm': 'ball_tree', 'leaf_size': 10, 'n_neighbors': 8},\n",
       " {'algorithm': 'ball_tree', 'leaf_size': 15, 'n_neighbors': 1},\n",
       " {'algorithm': 'ball_tree', 'leaf_size': 15, 'n_neighbors': 2},\n",
       " {'algorithm': 'ball_tree', 'leaf_size': 15, 'n_neighbors': 3},\n",
       " {'algorithm': 'ball_tree', 'leaf_size': 15, 'n_neighbors': 4},\n",
       " {'algorithm': 'ball_tree', 'leaf_size': 15, 'n_neighbors': 5},\n",
       " {'algorithm': 'ball_tree', 'leaf_size': 15, 'n_neighbors': 6},\n",
       " {'algorithm': 'ball_tree', 'leaf_size': 15, 'n_neighbors': 7},\n",
       " {'algorithm': 'ball_tree', 'leaf_size': 15, 'n_neighbors': 8},\n",
       " {'algorithm': 'ball_tree', 'leaf_size': 20, 'n_neighbors': 1},\n",
       " {'algorithm': 'ball_tree', 'leaf_size': 20, 'n_neighbors': 2},\n",
       " {'algorithm': 'ball_tree', 'leaf_size': 20, 'n_neighbors': 3},\n",
       " {'algorithm': 'ball_tree', 'leaf_size': 20, 'n_neighbors': 4},\n",
       " {'algorithm': 'ball_tree', 'leaf_size': 20, 'n_neighbors': 5},\n",
       " {'algorithm': 'ball_tree', 'leaf_size': 20, 'n_neighbors': 6},\n",
       " {'algorithm': 'ball_tree', 'leaf_size': 20, 'n_neighbors': 7},\n",
       " {'algorithm': 'ball_tree', 'leaf_size': 20, 'n_neighbors': 8},\n",
       " {'algorithm': 'kd_tree', 'leaf_size': 1, 'n_neighbors': 1},\n",
       " {'algorithm': 'kd_tree', 'leaf_size': 1, 'n_neighbors': 2},\n",
       " {'algorithm': 'kd_tree', 'leaf_size': 1, 'n_neighbors': 3},\n",
       " {'algorithm': 'kd_tree', 'leaf_size': 1, 'n_neighbors': 4},\n",
       " {'algorithm': 'kd_tree', 'leaf_size': 1, 'n_neighbors': 5},\n",
       " {'algorithm': 'kd_tree', 'leaf_size': 1, 'n_neighbors': 6},\n",
       " {'algorithm': 'kd_tree', 'leaf_size': 1, 'n_neighbors': 7},\n",
       " {'algorithm': 'kd_tree', 'leaf_size': 1, 'n_neighbors': 8},\n",
       " {'algorithm': 'kd_tree', 'leaf_size': 5, 'n_neighbors': 1},\n",
       " {'algorithm': 'kd_tree', 'leaf_size': 5, 'n_neighbors': 2},\n",
       " {'algorithm': 'kd_tree', 'leaf_size': 5, 'n_neighbors': 3},\n",
       " {'algorithm': 'kd_tree', 'leaf_size': 5, 'n_neighbors': 4},\n",
       " {'algorithm': 'kd_tree', 'leaf_size': 5, 'n_neighbors': 5},\n",
       " {'algorithm': 'kd_tree', 'leaf_size': 5, 'n_neighbors': 6},\n",
       " {'algorithm': 'kd_tree', 'leaf_size': 5, 'n_neighbors': 7},\n",
       " {'algorithm': 'kd_tree', 'leaf_size': 5, 'n_neighbors': 8},\n",
       " {'algorithm': 'kd_tree', 'leaf_size': 10, 'n_neighbors': 1},\n",
       " {'algorithm': 'kd_tree', 'leaf_size': 10, 'n_neighbors': 2},\n",
       " {'algorithm': 'kd_tree', 'leaf_size': 10, 'n_neighbors': 3},\n",
       " {'algorithm': 'kd_tree', 'leaf_size': 10, 'n_neighbors': 4},\n",
       " {'algorithm': 'kd_tree', 'leaf_size': 10, 'n_neighbors': 5},\n",
       " {'algorithm': 'kd_tree', 'leaf_size': 10, 'n_neighbors': 6},\n",
       " {'algorithm': 'kd_tree', 'leaf_size': 10, 'n_neighbors': 7},\n",
       " {'algorithm': 'kd_tree', 'leaf_size': 10, 'n_neighbors': 8},\n",
       " {'algorithm': 'kd_tree', 'leaf_size': 15, 'n_neighbors': 1},\n",
       " {'algorithm': 'kd_tree', 'leaf_size': 15, 'n_neighbors': 2},\n",
       " {'algorithm': 'kd_tree', 'leaf_size': 15, 'n_neighbors': 3},\n",
       " {'algorithm': 'kd_tree', 'leaf_size': 15, 'n_neighbors': 4},\n",
       " {'algorithm': 'kd_tree', 'leaf_size': 15, 'n_neighbors': 5},\n",
       " {'algorithm': 'kd_tree', 'leaf_size': 15, 'n_neighbors': 6},\n",
       " {'algorithm': 'kd_tree', 'leaf_size': 15, 'n_neighbors': 7},\n",
       " {'algorithm': 'kd_tree', 'leaf_size': 15, 'n_neighbors': 8},\n",
       " {'algorithm': 'kd_tree', 'leaf_size': 20, 'n_neighbors': 1},\n",
       " {'algorithm': 'kd_tree', 'leaf_size': 20, 'n_neighbors': 2},\n",
       " {'algorithm': 'kd_tree', 'leaf_size': 20, 'n_neighbors': 3},\n",
       " {'algorithm': 'kd_tree', 'leaf_size': 20, 'n_neighbors': 4},\n",
       " {'algorithm': 'kd_tree', 'leaf_size': 20, 'n_neighbors': 5},\n",
       " {'algorithm': 'kd_tree', 'leaf_size': 20, 'n_neighbors': 6},\n",
       " {'algorithm': 'kd_tree', 'leaf_size': 20, 'n_neighbors': 7},\n",
       " {'algorithm': 'kd_tree', 'leaf_size': 20, 'n_neighbors': 8},\n",
       " {'algorithm': 'brute', 'leaf_size': 1, 'n_neighbors': 1},\n",
       " {'algorithm': 'brute', 'leaf_size': 1, 'n_neighbors': 2},\n",
       " {'algorithm': 'brute', 'leaf_size': 1, 'n_neighbors': 3},\n",
       " {'algorithm': 'brute', 'leaf_size': 1, 'n_neighbors': 4},\n",
       " {'algorithm': 'brute', 'leaf_size': 1, 'n_neighbors': 5},\n",
       " {'algorithm': 'brute', 'leaf_size': 1, 'n_neighbors': 6},\n",
       " {'algorithm': 'brute', 'leaf_size': 1, 'n_neighbors': 7},\n",
       " {'algorithm': 'brute', 'leaf_size': 1, 'n_neighbors': 8},\n",
       " {'algorithm': 'brute', 'leaf_size': 5, 'n_neighbors': 1},\n",
       " {'algorithm': 'brute', 'leaf_size': 5, 'n_neighbors': 2},\n",
       " {'algorithm': 'brute', 'leaf_size': 5, 'n_neighbors': 3},\n",
       " {'algorithm': 'brute', 'leaf_size': 5, 'n_neighbors': 4},\n",
       " {'algorithm': 'brute', 'leaf_size': 5, 'n_neighbors': 5},\n",
       " {'algorithm': 'brute', 'leaf_size': 5, 'n_neighbors': 6},\n",
       " {'algorithm': 'brute', 'leaf_size': 5, 'n_neighbors': 7},\n",
       " {'algorithm': 'brute', 'leaf_size': 5, 'n_neighbors': 8},\n",
       " {'algorithm': 'brute', 'leaf_size': 10, 'n_neighbors': 1},\n",
       " {'algorithm': 'brute', 'leaf_size': 10, 'n_neighbors': 2},\n",
       " {'algorithm': 'brute', 'leaf_size': 10, 'n_neighbors': 3},\n",
       " {'algorithm': 'brute', 'leaf_size': 10, 'n_neighbors': 4},\n",
       " {'algorithm': 'brute', 'leaf_size': 10, 'n_neighbors': 5},\n",
       " {'algorithm': 'brute', 'leaf_size': 10, 'n_neighbors': 6},\n",
       " {'algorithm': 'brute', 'leaf_size': 10, 'n_neighbors': 7},\n",
       " {'algorithm': 'brute', 'leaf_size': 10, 'n_neighbors': 8},\n",
       " {'algorithm': 'brute', 'leaf_size': 15, 'n_neighbors': 1},\n",
       " {'algorithm': 'brute', 'leaf_size': 15, 'n_neighbors': 2},\n",
       " {'algorithm': 'brute', 'leaf_size': 15, 'n_neighbors': 3},\n",
       " {'algorithm': 'brute', 'leaf_size': 15, 'n_neighbors': 4},\n",
       " {'algorithm': 'brute', 'leaf_size': 15, 'n_neighbors': 5},\n",
       " {'algorithm': 'brute', 'leaf_size': 15, 'n_neighbors': 6},\n",
       " {'algorithm': 'brute', 'leaf_size': 15, 'n_neighbors': 7},\n",
       " {'algorithm': 'brute', 'leaf_size': 15, 'n_neighbors': 8},\n",
       " {'algorithm': 'brute', 'leaf_size': 20, 'n_neighbors': 1},\n",
       " {'algorithm': 'brute', 'leaf_size': 20, 'n_neighbors': 2},\n",
       " {'algorithm': 'brute', 'leaf_size': 20, 'n_neighbors': 3},\n",
       " {'algorithm': 'brute', 'leaf_size': 20, 'n_neighbors': 4},\n",
       " {'algorithm': 'brute', 'leaf_size': 20, 'n_neighbors': 5},\n",
       " {'algorithm': 'brute', 'leaf_size': 20, 'n_neighbors': 6},\n",
       " {'algorithm': 'brute', 'leaf_size': 20, 'n_neighbors': 7},\n",
       " {'algorithm': 'brute', 'leaf_size': 20, 'n_neighbors': 8}]"
      ]
     },
     "execution_count": 27,
     "metadata": {},
     "output_type": "execute_result"
    }
   ],
   "source": [
    "gs.cv_results_['params']"
   ]
  },
  {
   "cell_type": "code",
   "execution_count": 28,
   "id": "2dcc9031",
   "metadata": {},
   "outputs": [
    {
     "data": {
      "text/plain": [
       "array([0.94621212, 0.92878788, 0.95530303, 0.93787879, 0.95530303,\n",
       "       0.95530303, 0.95530303, 0.95530303, 0.95606061, 0.93787879,\n",
       "       0.95530303, 0.93787879, 0.95530303, 0.95530303, 0.95530303,\n",
       "       0.95530303, 0.94621212, 0.92878788, 0.95530303, 0.93787879,\n",
       "       0.95530303, 0.93787879, 0.95530303, 0.95530303, 0.9469697 ,\n",
       "       0.93787879, 0.95530303, 0.9469697 , 0.95530303, 0.95530303,\n",
       "       0.95530303, 0.95530303, 0.9469697 , 0.93787879, 0.95530303,\n",
       "       0.9469697 , 0.95530303, 0.95530303, 0.95530303, 0.95530303,\n",
       "       0.94621212, 0.92878788, 0.95530303, 0.93787879, 0.95530303,\n",
       "       0.93787879, 0.95530303, 0.95530303, 0.95606061, 0.93787879,\n",
       "       0.95530303, 0.93787879, 0.95530303, 0.93787879, 0.95530303,\n",
       "       0.95530303, 0.94621212, 0.92878788, 0.95530303, 0.93787879,\n",
       "       0.95530303, 0.93787879, 0.95530303, 0.95530303, 0.9469697 ,\n",
       "       0.93787879, 0.95530303, 0.9469697 , 0.95530303, 0.95530303,\n",
       "       0.95530303, 0.95530303, 0.9469697 , 0.93787879, 0.95530303,\n",
       "       0.9469697 , 0.95530303, 0.95530303, 0.95530303, 0.95530303,\n",
       "       0.94621212, 0.92878788, 0.95530303, 0.93787879, 0.95530303,\n",
       "       0.95530303, 0.95530303, 0.95530303, 0.95606061, 0.93787879,\n",
       "       0.95530303, 0.93787879, 0.95530303, 0.95530303, 0.95530303,\n",
       "       0.95530303, 0.94621212, 0.92878788, 0.95530303, 0.93787879,\n",
       "       0.95530303, 0.93787879, 0.95530303, 0.95530303, 0.9469697 ,\n",
       "       0.93787879, 0.95530303, 0.9469697 , 0.95530303, 0.95530303,\n",
       "       0.95530303, 0.95530303, 0.9469697 , 0.93787879, 0.95530303,\n",
       "       0.9469697 , 0.95530303, 0.95530303, 0.95530303, 0.95530303,\n",
       "       0.96515152, 0.92878788, 0.95530303, 0.93787879, 0.95530303,\n",
       "       0.95530303, 0.96439394, 0.95530303, 0.96515152, 0.92878788,\n",
       "       0.95530303, 0.93787879, 0.95530303, 0.95530303, 0.96439394,\n",
       "       0.95530303, 0.96515152, 0.92878788, 0.95530303, 0.93787879,\n",
       "       0.95530303, 0.95530303, 0.96439394, 0.95530303, 0.96515152,\n",
       "       0.92878788, 0.95530303, 0.93787879, 0.95530303, 0.95530303,\n",
       "       0.96439394, 0.95530303, 0.96515152, 0.92878788, 0.95530303,\n",
       "       0.93787879, 0.95530303, 0.95530303, 0.96439394, 0.95530303])"
      ]
     },
     "execution_count": 28,
     "metadata": {},
     "output_type": "execute_result"
    }
   ],
   "source": [
    "gs.cv_results_['mean_test_score']"
   ]
  },
  {
   "cell_type": "code",
   "execution_count": null,
   "id": "d1b2db54",
   "metadata": {},
   "outputs": [],
   "source": []
  },
  {
   "cell_type": "code",
   "execution_count": null,
   "id": "732143d8",
   "metadata": {},
   "outputs": [],
   "source": []
  }
 ],
 "metadata": {
  "kernelspec": {
   "display_name": "Python 3",
   "language": "python",
   "name": "python3"
  },
  "language_info": {
   "codemirror_mode": {
    "name": "ipython",
    "version": 3
   },
   "file_extension": ".py",
   "mimetype": "text/x-python",
   "name": "python",
   "nbconvert_exporter": "python",
   "pygments_lexer": "ipython3",
   "version": "3.8.8"
  }
 },
 "nbformat": 4,
 "nbformat_minor": 5
}
