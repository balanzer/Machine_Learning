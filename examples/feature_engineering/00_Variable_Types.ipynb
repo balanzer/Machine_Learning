{
 "cells": [
  {
   "cell_type": "markdown",
   "id": "b55f9de5",
   "metadata": {},
   "source": [
    "# Variable Types "
   ]
  },
  {
   "cell_type": "markdown",
   "id": "04bb9432",
   "metadata": {},
   "source": [
    "## Numerical\n",
    "\n",
    "* Discrete - whole numbers - 1, 3,150, 15000 - round numbers \n",
    "\n",
    "* Continous - any range values 1, 10.5, 200.400, 0.5 \n",
    "\n",
    "## Binary - 0 or 1\n",
    "\n",
    "\n"
   ]
  },
  {
   "cell_type": "markdown",
   "id": "1e1baece",
   "metadata": {},
   "source": [
    "\n",
    "## Categorical\n",
    "\n",
    "\n",
    "### Value taken from lable or category \n",
    "\n",
    "* Ordinal - Category can be meaningfully orders, like Student Grade or Week Day or Education Level\n",
    "* Nominal - Ordering not possible, All values are of same rank. Random order like countries, postal code, city names \n",
    "\n",
    "Note: Gender coded as 0 and 1 is not numeric its catrgory type. "
   ]
  },
  {
   "cell_type": "markdown",
   "id": "e9ef8ade",
   "metadata": {},
   "source": [
    "## Date time \n",
    "\n",
    "Date of birth, Order Date, Accident date time \n",
    "\n",
    "## Mixed Variable\n",
    "\n",
    "are numbers and label together. \n",
    "\n",
    "eg. Numer of credit account (1-100, U,T,M) where u is unknown, T unverified and M unmatched \n",
    "\n",
    "Number if missed payment \n",
    "\n",
    "1-3, D, A \n",
    "\n",
    "Seat numbers like A15, B25 "
   ]
  },
  {
   "cell_type": "code",
   "execution_count": null,
   "id": "29356801",
   "metadata": {},
   "outputs": [],
   "source": []
  },
  {
   "cell_type": "code",
   "execution_count": 2,
   "id": "6a619ecb",
   "metadata": {},
   "outputs": [
    {
     "ename": "SyntaxError",
     "evalue": "invalid syntax (<ipython-input-2-77d3fab55bc8>, line 1)",
     "output_type": "error",
     "traceback": [
      "\u001b[0;36m  File \u001b[0;32m\"<ipython-input-2-77d3fab55bc8>\"\u001b[0;36m, line \u001b[0;32m1\u001b[0m\n\u001b[0;31m    3j + 4a\u001b[0m\n\u001b[0m          ^\u001b[0m\n\u001b[0;31mSyntaxError\u001b[0m\u001b[0;31m:\u001b[0m invalid syntax\n"
     ]
    }
   ],
   "source": []
  },
  {
   "cell_type": "code",
   "execution_count": null,
   "id": "9da99bed",
   "metadata": {},
   "outputs": [],
   "source": []
  }
 ],
 "metadata": {
  "kernelspec": {
   "display_name": "Python 3",
   "language": "python",
   "name": "python3"
  },
  "language_info": {
   "codemirror_mode": {
    "name": "ipython",
    "version": 3
   },
   "file_extension": ".py",
   "mimetype": "text/x-python",
   "name": "python",
   "nbconvert_exporter": "python",
   "pygments_lexer": "ipython3",
   "version": "3.8.8"
  }
 },
 "nbformat": 4,
 "nbformat_minor": 5
}
